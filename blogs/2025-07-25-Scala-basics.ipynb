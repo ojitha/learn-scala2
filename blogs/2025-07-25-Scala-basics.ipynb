{
 "cells": [
  {
   "cell_type": "markdown",
   "id": "d9175770",
   "metadata": {},
   "source": [
    "---\n",
    "layout: post\n",
    "title:  Scala Notes\n",
    "date:   2025-07-24\n",
    "categories: [Scala]\n",
    "mermaid: true\n",
    "typora-root-url: /Users/ojitha/GitHub/ojitha.github.io\n",
    "typora-copy-images-to: ../assets/images/${filename}\n",
    "---\n",
    "\n",
    "<style>\n",
    "/* Styles for the two-column layout */\n",
    ".image-text-container {\n",
    "    display: flex; /* Enables flexbox */\n",
    "    flex-wrap: wrap; /* Allows columns to stack on small screens */\n",
    "    gap: 20px; /* Space between the image and text */\n",
    "    align-items: center; /* Vertically centers content in columns */\n",
    "    margin-bottom: 20px; /* Space below this section */\n",
    "}\n",
    "\n",
    ".image-column {\n",
    "    flex: 1; /* Allows this column to grow */\n",
    "    min-width: 250px; /* Minimum width for the image column before stacking */\n",
    "    max-width: 40%; /* Maximum width for the image column to not take up too much space initially */\n",
    "    box-sizing: border-box; /* Include padding/border in element's total width/height */\n",
    "}\n",
    "\n",
    ".text-column {\n",
    "    flex: 2; /* Allows this column to grow more (e.g., twice as much as image-column) */\n",
    "    min-width: 300px; /* Minimum width for the text column before stacking */\n",
    "    box-sizing: border-box;\n",
    "}\n",
    "\n",
    "</style>\n",
    "\n",
    "<div class=\"image-text-container\">\n",
    "    <div class=\"image-column\">\n",
    "        <img src=\"/assets/images/2025-07-25-Scala-basics/scala_basics.png\" alt=\"Scala basics\" width=\"150\" height=\"150\">\n",
    "    </div>\n",
    "    <div class=\"text-column\">\n",
    "<p>Explore fundamental Scala programming concepts including its functional and object-oriented nature, immutable variables , mutable variables, type inference, and basic syntax for defining functions and classes. This guide introduces key Scala features for developers familiar with other programming languages looking to understand its core principles and get started with Scala development. Discover the power and expressiveness of Scala through this concise overview of its building blocks.</p>\n",
    "    </div>\n",
    "</div>\n",
    "\n",
    "<!--more-->\n",
    "\n",
    "------\n",
    "\n",
    "* TOC\n",
    "{:toc}\n",
    "------"
   ]
  },
  {
   "cell_type": "code",
   "execution_count": null,
   "id": "4ea0e0a7",
   "metadata": {
    "tags": [
     "remove_output",
     "remove_input"
    ]
   },
   "outputs": [],
   "source": [
    "import $ivy.`org.scalatest::scalatest:3.2.18` // Use the desired ScalaTest version"
   ]
  },
  {
   "cell_type": "markdown",
   "id": "d524dd09",
   "metadata": {},
   "source": [
    "## Introduction\n",
    "\n",
    "```mermaid\n",
    "mindmap\n",
    "    ((Scala))\n",
    "      [\"Regular \n",
    "      Class\"]\n",
    "        [\"Method\"]\n",
    "      [\"Object\"]\n",
    "        [\"Companion \n",
    "        Object\"]\n",
    "          [\"Method\"]\n",
    "        [\"Singleton\"]\n",
    "          [\"Method\"]\n",
    "      [\"Case \n",
    "      Class\"]\n",
    "        [\"Method\"]\n",
    "      [\"Function\"]\n",
    "        [\"lambda\"]\n",
    "      [\"Trait\"]\n",
    "        [\"Method\"]\n",
    "```\n",
    "\n",
    "In Scala, you can everything will be an object:"
   ]
  },
  {
   "cell_type": "code",
   "execution_count": null,
   "id": "acd965f8",
   "metadata": {},
   "outputs": [
    {
     "data": {
      "text/plain": [
       "\u001b[36mres5_0\u001b[39m: \u001b[32mInt\u001b[39m = \u001b[32m3\u001b[39m\n",
       "\u001b[36mres5_1\u001b[39m: \u001b[32mInt\u001b[39m = \u001b[32m3\u001b[39m\n",
       "\u001b[36mres5_2\u001b[39m: \u001b[32mInt\u001b[39m = \u001b[32m4\u001b[39m"
      ]
     },
     "execution_count": 5,
     "metadata": {},
     "output_type": "execute_result"
    }
   ],
   "source": [
    "1 + 2 \n",
    "1.+(2)\n",
    "\n",
    "-4.abs"
   ]
  },
  {
   "cell_type": "markdown",
   "id": "d6bb070b",
   "metadata": {},
   "source": [
    "Scala Primitives: Byte, Short, Int, Long, Float, Double, Char, Boolean have correlation to Java's primitives and *wrapped to give extra functionality* as above last statement.  \n",
    "\n",
    "```mermaid\n",
    "classDiagram\n",
    "    class scala.Any\n",
    "    class scala.AnyVal\n",
    "    class scala.AnyRef\n",
    "    class java.lang.Object\n",
    "\n",
    "    class scala.Byte\n",
    "    class scala.Short\n",
    "    class scala.Int\n",
    "    class scala.Long\n",
    "    class scala.Float\n",
    "    class scala.Double\n",
    "    class scala.Char\n",
    "    class scala.Boolean\n",
    "\n",
    "    scala.Any <|-- scala.AnyVal\n",
    "    scala.Any <|-- scala.AnyRef\n",
    "    java.lang.Object --> scala.AnyRef\n",
    "\n",
    "    scala.AnyVal <|-- scala.Byte\n",
    "    scala.AnyVal <|-- scala.Short\n",
    "    scala.AnyVal <|-- scala.Int\n",
    "    scala.AnyVal <|-- scala.Long\n",
    "    scala.AnyVal <|-- scala.Float\n",
    "    scala.AnyVal <|-- scala.Double\n",
    "    scala.AnyVal <|-- scala.Char\n",
    "    scala.AnyVal <|-- scala.Boolean\n",
    "```\n"
   ]
  },
  {
   "cell_type": "markdown",
   "id": "d606cb10",
   "metadata": {},
   "source": [
    "Otherwise you can use Java library to get the same functionality."
   ]
  },
  {
   "cell_type": "code",
   "execution_count": 4,
   "id": "5d3c57b2",
   "metadata": {},
   "outputs": [
    {
     "data": {
      "text/plain": [
       "\u001b[32mimport \u001b[39m\u001b[36mjava.lang.Math // import Java\n",
       "\u001b[39m\n",
       "\u001b[36mres4_1\u001b[39m: \u001b[32mInt\u001b[39m = \u001b[32m4\u001b[39m"
      ]
     },
     "execution_count": 4,
     "metadata": {},
     "output_type": "execute_result"
    }
   ],
   "source": [
    "import java.lang.Math // import Java\n",
    "Math.abs(-4)"
   ]
  },
  {
   "cell_type": "markdown",
   "id": "43fda831",
   "metadata": {},
   "source": [
    "Scala can manipuation String using\n",
    "- formating\n",
    "- interpolation\n",
    "\n",
    "Here the examples of String mnipulation:"
   ]
  },
  {
   "cell_type": "code",
   "execution_count": 6,
   "id": "886c9778",
   "metadata": {},
   "outputs": [
    {
     "data": {
      "text/plain": [
       "\u001b[32mimport \u001b[39m\u001b[36mjava.time._\u001b[39m\n",
       "\u001b[36mdt\u001b[39m: \u001b[32mLocalDate\u001b[39m = 2025-08-01\n",
       "\u001b[36mres6_2\u001b[39m: \u001b[32mString\u001b[39m = \u001b[32m\"August\"\u001b[39m\n",
       "\u001b[36mres6_3\u001b[39m: \u001b[32mString\u001b[39m = \u001b[32m\"1\"\u001b[39m\n",
       "\u001b[36mres6_4\u001b[39m: \u001b[32mString\u001b[39m = \u001b[32m\"2025\"\u001b[39m"
      ]
     },
     "execution_count": 6,
     "metadata": {},
     "output_type": "execute_result"
    }
   ],
   "source": [
    "import java.time._\n",
    "val dt = LocalDate.now\n",
    "\n",
    "\"%1$tB\".format(dt)\n",
    "\"%1$te\".format(dt)\n",
    "\"%1$tY\".format(dt)"
   ]
  },
  {
   "cell_type": "markdown",
   "id": "6d56d7f2",
   "metadata": {},
   "source": [
    "Interpolation:"
   ]
  },
  {
   "cell_type": "code",
   "execution_count": 6,
   "id": "ea928892",
   "metadata": {},
   "outputs": [
    {
     "data": {
      "text/plain": [
       "\u001b[36ma\u001b[39m: \u001b[32mInt\u001b[39m = \u001b[32m99\u001b[39m\n",
       "\u001b[36mres6_1\u001b[39m: \u001b[32mString\u001b[39m = \u001b[32m\"100\"\u001b[39m"
      ]
     },
     "execution_count": 6,
     "metadata": {},
     "output_type": "execute_result"
    }
   ],
   "source": [
    "val a = 99\n",
    "s\"${a+1}\""
   ]
  },
  {
   "cell_type": "markdown",
   "id": "9b47566e",
   "metadata": {},
   "source": [
    "In Scala, `val` is used to declare a constant value. Once assigned, the value cannot be changed or reassigned. This ensures immutability, making code safer and easier to reason about. Using `val` is recommended when you do not need to modify the variable after its initial assignment.\n",
    "\n",
    "> It is generally recommended to use `val` for immutability unless you specifically need to update the variable's value.\n",
    "{:.green}\n",
    "\n",
    "One of the unusual way but possible to specify the type:"
   ]
  },
  {
   "cell_type": "code",
   "execution_count": 2,
   "id": "71ff95a3",
   "metadata": {},
   "outputs": [
    {
     "data": {
      "text/plain": [
       "\u001b[36ma\u001b[39m: \u001b[32mByte\u001b[39m = \u001b[32m100\u001b[39m"
      ]
     },
     "execution_count": 2,
     "metadata": {},
     "output_type": "execute_result"
    }
   ],
   "source": [
    "val a = 100:Byte"
   ]
  },
  {
   "cell_type": "markdown",
   "id": "dd7c0fe0",
   "metadata": {},
   "source": [
    "In Scala, `var` is used to declare a mutable variable. This means the value assigned to a `var` can be changed or reassigned throughout the program. \n",
    "\n",
    "> ⚠️ While `var` offers flexibility, it can lead to code that is harder to maintain and reason about, especially in concurrent or complex applications. \n",
    "{:.yellow}"
   ]
  },
  {
   "cell_type": "code",
   "execution_count": 5,
   "id": "8486664e",
   "metadata": {},
   "outputs": [
    {
     "data": {
      "text/html": [
       "<div class=\"jp-RenderedText\">\n",
       "<pre><code><span style=\"color: rgb(0, 187, 187)\"><span class=\"ansi-cyan-fg\">b</span></span>: <span style=\"color: rgb(0, 187, 0)\"><span class=\"ansi-green-fg\">Int</span></span> = <span style=\"color: rgb(0, 187, 0)\"><span class=\"ansi-green-fg\">300</span></span></code></pre>\n",
       "</div>"
      ],
      "text/plain": [
       "\u001b[36mb\u001b[39m: \u001b[32mInt\u001b[39m = \u001b[32m300\u001b[39m"
      ]
     },
     "metadata": {},
     "output_type": "display_data"
    }
   ],
   "source": [
    "var b = 200\n",
    "b = 300"
   ]
  },
  {
   "cell_type": "markdown",
   "id": "43feb099",
   "metadata": {},
   "source": [
    "### Operators\n",
    "\n",
    "Typical `while` loop is:"
   ]
  },
  {
   "cell_type": "code",
   "execution_count": 1,
   "id": "4e73be56",
   "metadata": {},
   "outputs": [
    {
     "data": {
      "text/plain": [
       "\u001b[36ma\u001b[39m: \u001b[32mInt\u001b[39m = \u001b[32m0\u001b[39m\n",
       "\u001b[36mtot\u001b[39m: \u001b[32mInt\u001b[39m = \u001b[32m5050\u001b[39m"
      ]
     },
     "execution_count": 1,
     "metadata": {},
     "output_type": "execute_result"
    }
   ],
   "source": [
    "var a = 100\n",
    "var tot = 0\n",
    "while (a > 0){\n",
    "    tot += a\n",
    "    a -= 1\n",
    "}"
   ]
  },
  {
   "cell_type": "markdown",
   "id": "335f531b",
   "metadata": {},
   "source": [
    "Same thing you can write as"
   ]
  },
  {
   "cell_type": "code",
   "execution_count": 8,
   "id": "3fd744a8",
   "metadata": {},
   "outputs": [
    {
     "data": {
      "text/plain": [
       "\u001b[36mres8\u001b[39m: \u001b[32mInt\u001b[39m = \u001b[32m5050\u001b[39m"
      ]
     },
     "execution_count": 8,
     "metadata": {},
     "output_type": "execute_result"
    }
   ],
   "source": [
    "(1 to 100).sum"
   ]
  },
  {
   "cell_type": "markdown",
   "id": "9b392dfc",
   "metadata": {},
   "source": [
    "In Scala, `for-comprehensions` more flavorable than `for` loop. The `yield` is a keyword used in `for-comprehensions` to transform and collect results from iterations. When you use `yield` in a for-comprehension, it creates a new collection containing the transformed elements.\n",
    "\n",
    "> You can use guards (if conditions), multiple generators, and variable definitions within the for-comprehension"
   ]
  },
  {
   "cell_type": "code",
   "execution_count": 9,
   "id": "f6a6cd4f",
   "metadata": {},
   "outputs": [
    {
     "data": {
      "text/plain": [
       "\u001b[36mres9\u001b[39m: \u001b[32mIndexedSeq\u001b[39m[\u001b[32mInt\u001b[39m] = \u001b[33mVector\u001b[39m(\u001b[32m1\u001b[39m, \u001b[32m2\u001b[39m, \u001b[32m3\u001b[39m, \u001b[32m4\u001b[39m, \u001b[32m5\u001b[39m)"
      ]
     },
     "execution_count": 9,
     "metadata": {},
     "output_type": "execute_result"
    }
   ],
   "source": [
    "for (i <- (1 to 5)) yield i"
   ]
  },
  {
   "cell_type": "markdown",
   "id": "25b5cc02",
   "metadata": {},
   "source": [
    "## Scala Type Inference\n",
    "\n",
    "Scala features a powerful type inference system that allows the compiler to automatically deduce the type of a variable or expression based on its value. This means you often do not need to explicitly specify types, making code more concise and readable.\n",
    "\n",
    "Type inference works for variables, function return types, and more. However, for complex cases or public APIs, explicitly specifying types can improve code clarity and maintainability.\n",
    "\n",
    "> Type inference reduces boilerplate but does not compromise type safety. The compiler ensures that types are correct at compile time.\n",
    "{:.green}\n",
    "\n",
    "For example:"
   ]
  },
  {
   "cell_type": "code",
   "execution_count": 3,
   "id": "3ac46462",
   "metadata": {},
   "outputs": [
    {
     "data": {
      "text/plain": [
       "\u001b[36mx\u001b[39m: \u001b[32mInt\u001b[39m = \u001b[32m42\u001b[39m\n",
       "\u001b[36mname\u001b[39m: \u001b[32mString\u001b[39m = \u001b[32m\"Scala\"\u001b[39m"
      ]
     },
     "execution_count": 3,
     "metadata": {},
     "output_type": "execute_result"
    }
   ],
   "source": [
    "val x = 42        // Compiler infers x: Int\n",
    "val name = \"Scala\" // Compiler infers name: String"
   ]
  },
  {
   "cell_type": "markdown",
   "id": "058b0ec7",
   "metadata": {},
   "source": [
    "## What is `lazy val` in Scala?\n",
    "The  **forward referencing** refers to the ability to reference definitions (variables, methods, classes, etc.) that are declared later in the source code, before they are actually defined. You can reference methods and fields that are defined later in the same class or trait. \n",
    "\n",
    "Use `lazy` val when forward referencing with values to avoid initialization order issues. \n",
    "\n",
    "In Scala, a `lazy val` is a value that is not initialized until it is accessed for the first time. This is known as **lazy initialization**. When you declare a variable as `lazy`, its expression is not evaluated until it is needed, which can improve performance and resource usage, especially for expensive computations or I/O operations.\n",
    "\n",
    "**Key points:**\n",
    "- The value is computed only once, upon first access.\n",
    "- Subsequent accesses return the cached result.\n",
    "- Useful for deferring costly operations until absolutely necessary.\n",
    "\n",
    "> `lazy val` helps optimize resource usage and can prevent unnecessary computations, but should be used with care in concurrent contexts.\n",
    "{:.green}\n",
    "\n",
    "Example:"
   ]
  },
  {
   "cell_type": "code",
   "execution_count": 4,
   "id": "2948946c",
   "metadata": {},
   "outputs": [
    {
     "name": "stdout",
     "output_type": "stream",
     "text": [
      "Before accessing lazy val\n",
      "Computing...\n",
      "42\n",
      "After accessing lazy val\n",
      "42\n"
     ]
    },
    {
     "data": {
      "text/html": [
       "<div class=\"jp-RenderedText\">\n",
       "<pre><code><span style=\"color: rgb(0, 187, 187)\"><span class=\"ansi-cyan-fg\">expensiveComputation</span></span>: <span style=\"color: rgb(0, 187, 0)\"><span class=\"ansi-green-fg\">Int</span></span> = <span style=\"color: white\"><span class=\"ansi-white-fg\">[lazy]</span></span></code></pre>\n",
       "</div>"
      ],
      "text/plain": [
       "\u001b[36mexpensiveComputation\u001b[39m: \u001b[32mInt\u001b[39m = \u001b[37m[lazy]\u001b[39m"
      ]
     },
     "metadata": {},
     "output_type": "display_data"
    }
   ],
   "source": [
    "lazy val expensiveComputation = {\n",
    "    println(\"Computing...\")\n",
    "    42\n",
    "}\n",
    "\n",
    "println(\"Before accessing lazy val\")\n",
    "println(expensiveComputation) // Triggers computation\n",
    "println(\"After accessing lazy val\")\n",
    "println(expensiveComputation) // Uses cached value"
   ]
  },
  {
   "cell_type": "markdown",
   "id": "223687a9",
   "metadata": {},
   "source": [
    "## Classes and Case Classes\n",
    "\n",
    "Classes in Scala are blueprints for creating objects, requiring manual definition of fields and methods like `toString`, `equals`, and `hashCode`. \n",
    "\n",
    "Case classes automate these tasks, providing built-in implementations and immutability by default. Unlike regular classes, case classes cannot be extended."
   ]
  },
  {
   "cell_type": "code",
   "execution_count": null,
   "id": "43697490",
   "metadata": {},
   "outputs": [
    {
     "data": {
      "text/plain": [
       "defined \u001b[32mclass\u001b[39m \u001b[36mPerson\u001b[39m\n",
       "\u001b[36mperson\u001b[39m: \u001b[32mPerson\u001b[39m = ammonite.$sess.cmd5$Helper$Person@5592bc35\n",
       "\u001b[36mres5_2\u001b[39m: \u001b[32mString\u001b[39m = \u001b[32m\"Alice\"\u001b[39m\n",
       "\u001b[36mres5_4\u001b[39m: \u001b[32mInt\u001b[39m = \u001b[32m31\u001b[39m"
      ]
     },
     "execution_count": 5,
     "metadata": {},
     "output_type": "execute_result"
    }
   ],
   "source": [
    "class Person(val name: String, var age: Int)\n",
    "val person = new Person(\"Alice\", 30)\n",
    "\n",
    "person.name // Accessing field\n",
    "person.age = 31 // Modifying mutable field\n",
    "person.age  // Accessing mutable field"
   ]
  },
  {
   "cell_type": "markdown",
   "id": "5c19d6ff",
   "metadata": {},
   "source": [
    "### Standard `toString`\n",
    "\n",
    "If you want to avoid the random unkown value at line #2 in the above output. You have to implement the `toString` method."
   ]
  },
  {
   "cell_type": "code",
   "execution_count": 1,
   "id": "29d42af0",
   "metadata": {},
   "outputs": [
    {
     "data": {
      "text/plain": [
       "defined \u001b[32mclass\u001b[39m \u001b[36mPerson\u001b[39m\n",
       "\u001b[36mperson\u001b[39m: \u001b[32mPerson\u001b[39m = Person(name=Alice, age=30)"
      ]
     },
     "execution_count": 1,
     "metadata": {},
     "output_type": "execute_result"
    }
   ],
   "source": [
    "class Person(val name: String, var age: Int){\n",
    "    override def toString: String = s\"Person(name=$name, age=$age)\"\n",
    "}\n",
    "\n",
    "val person = new Person(\"Alice\", 30)"
   ]
  },
  {
   "cell_type": "markdown",
   "id": "fe763fa2",
   "metadata": {},
   "source": [
    "How to compare instances of Person class?\n",
    "\n",
    "For that you have to override the `equals` method.\n",
    "\n",
    "> Unfortunetly, You can't override the standard `equals` method using an implicit conversion. The compiler won't apply an implicit to provide a method that a class already has, and every class in Scala inherits an `equals` method from `AnyRef`.\n",
    "{:.yellow} "
   ]
  },
  {
   "cell_type": "code",
   "execution_count": 7,
   "id": "449dca36",
   "metadata": {},
   "outputs": [
    {
     "data": {
      "text/plain": [
       "defined \u001b[32mclass\u001b[39m \u001b[36mPerson\u001b[39m"
      ]
     },
     "execution_count": 7,
     "metadata": {},
     "output_type": "execute_result"
    }
   ],
   "source": [
    "class Person(val name: String, var age: Int){\n",
    "    \n",
    "    override def toString: String = s\"Person(name=$name, age=$age)\"\n",
    "    \n",
    "    def canEqual(other: Any): Boolean = other.isInstanceOf[Person]\n",
    "    \n",
    "    override def equals(other: Any): Boolean = other match {\n",
    "        case that: Person =>\n",
    "            (that canEqual this) && //check symmetry\n",
    "            name == that.name &&\n",
    "            age == that.age\n",
    "        case _ => false\n",
    "    }\n",
    "}"
   ]
  },
  {
   "cell_type": "markdown",
   "id": "167526df",
   "metadata": {},
   "source": [
    "> Symmetry mean `x.equals(y)` must return the same result as `y.equals(x)`.\n",
    "\n",
    "To test the above `Person` class implementation, you can create instances and compare them:"
   ]
  },
  {
   "cell_type": "code",
   "execution_count": 8,
   "id": "4dd0da1c",
   "metadata": {},
   "outputs": [
    {
     "name": "stdout",
     "output_type": "stream",
     "text": [
      "p1 == p2 ~~> true\n",
      "p1 == p3 ~~> false\n"
     ]
    },
    {
     "data": {
      "text/plain": [
       "\u001b[36mp1\u001b[39m: \u001b[32mPerson\u001b[39m = Person(name=Alice, age=30)\n",
       "\u001b[36mp2\u001b[39m: \u001b[32mPerson\u001b[39m = Person(name=Alice, age=30)\n",
       "\u001b[36mp3\u001b[39m: \u001b[32mPerson\u001b[39m = Person(name=Bob, age=25)"
      ]
     },
     "execution_count": 8,
     "metadata": {},
     "output_type": "execute_result"
    }
   ],
   "source": [
    "val p1 = new Person(\"Alice\", 30)\n",
    "val p2 = new Person(\"Alice\", 30)\n",
    "val p3 = new Person(\"Bob\", 25)\n",
    "\n",
    "println(s\"p1 == p2 ~~> ${p1 == p2}\") // Prints: p1 == p2: true\n",
    "println(s\"p1 == p3 ~~> ${p1 == p3}\") // Prints: p1 == p3: false"
   ]
  },
  {
   "cell_type": "markdown",
   "id": "8dfa9a1a",
   "metadata": {},
   "source": [
    "### Standard `hashCode`\n",
    "\n",
    "Another standard method to introduce is `hashCode`:"
   ]
  },
  {
   "cell_type": "code",
   "execution_count": 9,
   "id": "8e7af931",
   "metadata": {},
   "outputs": [
    {
     "data": {
      "text/plain": [
       "defined \u001b[32mclass\u001b[39m \u001b[36mPerson\u001b[39m"
      ]
     },
     "execution_count": 9,
     "metadata": {},
     "output_type": "execute_result"
    }
   ],
   "source": [
    "class Person(val name: String, var age: Int){\n",
    "    \n",
    "    override def toString: String = s\"Person(name=$name, age=$age)\"\n",
    "    \n",
    "    def canEqual(other: Any): Boolean = other.isInstanceOf[Person]\n",
    "    \n",
    "    override def equals(other: Any): Boolean = other match {\n",
    "        case that: Person =>\n",
    "            (that canEqual this) && //check symmetry\n",
    "            name == that.name &&\n",
    "            age == that.age\n",
    "        case _ => false\n",
    "    }\n",
    "\n",
    "    override def hashCode(): Int = {\n",
    "        (name, age).hashCode()\n",
    "    }\n",
    "}"
   ]
  },
  {
   "cell_type": "markdown",
   "id": "1996c153",
   "metadata": {},
   "source": [
    "Above code is the complete code for the `Person` class.\n",
    "\n",
    "Let's do the same testing"
   ]
  },
  {
   "cell_type": "code",
   "execution_count": 10,
   "id": "2c1ecc86",
   "metadata": {},
   "outputs": [
    {
     "name": "stdout",
     "output_type": "stream",
     "text": [
      "p1 == p2 ~~> true\n",
      "p1 == p3 ~~> false\n",
      "p1 eq p2 ~~> false\n"
     ]
    },
    {
     "data": {
      "text/plain": [
       "\u001b[36mp1\u001b[39m: \u001b[32mPerson\u001b[39m = Person(name=Alice, age=30)\n",
       "\u001b[36mp2\u001b[39m: \u001b[32mPerson\u001b[39m = Person(name=Alice, age=30)\n",
       "\u001b[36mp3\u001b[39m: \u001b[32mPerson\u001b[39m = Person(name=Bob, age=25)"
      ]
     },
     "execution_count": 10,
     "metadata": {},
     "output_type": "execute_result"
    }
   ],
   "source": [
    "val p1 = new Person(\"Alice\", 30)\n",
    "val p2 = new Person(\"Alice\", 30)\n",
    "val p3 = new Person(\"Bob\", 25)\n",
    "\n",
    "println(s\"p1 == p2 ~~> ${p1 == p2}\") // Prints: p1 == p2: true\n",
    "println(s\"p1 == p3 ~~> ${p1 == p3}\") // Prints: p1 == p3: false\n",
    "println(s\"p1 eq p2 ~~> ${p1 eq p2}\") // references are not the same\n"
   ]
  },
  {
   "cell_type": "markdown",
   "id": "7d934248",
   "metadata": {},
   "source": [
    "### Case Class\n",
    "\n",
    "If you convert the above class `Person` to case class:"
   ]
  },
  {
   "cell_type": "code",
   "execution_count": 11,
   "id": "67d3edea",
   "metadata": {},
   "outputs": [
    {
     "name": "stdout",
     "output_type": "stream",
     "text": [
      "p1 == p2 ~~> true\n",
      "p1 == p3 ~~> false\n",
      "p1 eq p2 ~~> false\n"
     ]
    },
    {
     "data": {
      "text/plain": [
       "defined \u001b[32mclass\u001b[39m \u001b[36mCPerson\u001b[39m\n",
       "\u001b[36mperson\u001b[39m: \u001b[32mCPerson\u001b[39m = \u001b[33mCPerson\u001b[39m(name = \u001b[32m\"Alice\"\u001b[39m, age = \u001b[32m30\u001b[39m)\n",
       "\u001b[36mp1\u001b[39m: \u001b[32mCPerson\u001b[39m = \u001b[33mCPerson\u001b[39m(name = \u001b[32m\"Alice\"\u001b[39m, age = \u001b[32m30\u001b[39m)\n",
       "\u001b[36mp2\u001b[39m: \u001b[32mCPerson\u001b[39m = \u001b[33mCPerson\u001b[39m(name = \u001b[32m\"Alice\"\u001b[39m, age = \u001b[32m30\u001b[39m)\n",
       "\u001b[36mp3\u001b[39m: \u001b[32mCPerson\u001b[39m = \u001b[33mCPerson\u001b[39m(name = \u001b[32m\"Bob\"\u001b[39m, age = \u001b[32m25\u001b[39m)"
      ]
     },
     "execution_count": 11,
     "metadata": {},
     "output_type": "execute_result"
    }
   ],
   "source": [
    "case class CPerson(name: String, age: Int) // Compiler infers Person is a case class with two parameters\n",
    "\n",
    "val person = CPerson(\"Alice\", 30) // Compiler infers person: Person\n",
    "\n",
    "val p1 = CPerson(\"Alice\", 30)\n",
    "val p2 = CPerson(\"Alice\", 30)\n",
    "val p3 = CPerson(\"Bob\", 25)\n",
    "\n",
    "println(s\"p1 == p2 ~~> ${p1 == p2}\") // Prints: p1 == p2: true\n",
    "println(s\"p1 == p3 ~~> ${p1 == p3}\") // Prints: p1 == p3: false\n",
    "println(s\"p1 eq p2 ~~> ${p1 eq p2}\") // references are not the same\n"
   ]
  },
  {
   "cell_type": "markdown",
   "id": "8320b0fb",
   "metadata": {},
   "source": [
    "> To instanticate regular classes, need to use `new` keyword, but not for the case class. The **universal apply method** is a feature in Scala 3 that automatically allows you to create an instance of any class using `ClassName(arguments)` syntax, without needing the `new` keyword.\n"
   ]
  },
  {
   "cell_type": "markdown",
   "id": "c752c8c5",
   "metadata": {},
   "source": [
    "## Objects\n",
    "\n",
    "Objects in Scala are **singletons**: they combine the definition of a class and its sole instance. Unlike classes, you cannot create multiple instances of an object.\n",
    "\n",
    "Objects are commonly used to hold static members, utility methods, or factory methods, similar to the `static` keyword in Java and class methods in Python.\n",
    "\n",
    "Objects can be paired with a class of the same name to form a **companion object**. Companion objects and classes can access each other's private members, enabling powerful design patterns: <span>A companion class work with the object and vice versa</span>{:gtxt}.\n",
    "\n",
    "Typical uses for objects include:\n",
    "- Defining utility or helper methods\n",
    "- Implementing pattern matching logic\n",
    "- Providing `apply` methods for easier instance creation\n",
    "- Storing constants or configuration\n",
    "\n",
    "**Companion objects** are especially useful for organizing code and encapsulating related functionality."
   ]
  },
  {
   "cell_type": "code",
   "execution_count": 12,
   "id": "19cd304b",
   "metadata": {},
   "outputs": [
    {
     "name": "stdout",
     "output_type": "stream",
     "text": [
      "p1 == p2 ~~> true\n",
      "p1 == p3 ~~> false\n",
      "p1 eq p2 ~~> false\n"
     ]
    },
    {
     "data": {
      "text/plain": [
       "defined \u001b[32mobject\u001b[39m \u001b[36mPerson\u001b[39m\n",
       "\u001b[36mp1\u001b[39m: \u001b[32mPerson\u001b[39m = Person(name=Alice, age=30)\n",
       "\u001b[36mp2\u001b[39m: \u001b[32mPerson\u001b[39m = Person(name=Alice, age=30)\n",
       "\u001b[36mp3\u001b[39m: \u001b[32mPerson\u001b[39m = Person(name=Bob, age=25)"
      ]
     },
     "execution_count": 12,
     "metadata": {},
     "output_type": "execute_result"
    }
   ],
   "source": [
    "object Person { // Companion object for Person class\n",
    "    def apply(name: String, age: Int): Person = new Person(name, age)\n",
    "}\n",
    "\n",
    "val p1 =  Person(\"Alice\", 30)\n",
    "val p2 =  Person(\"Alice\", 30)\n",
    "val p3 =  Person(\"Bob\", 25)\n",
    "\n",
    "println(s\"p1 == p2 ~~> ${p1 == p2}\") // Prints: p1 == p2: true\n",
    "println(s\"p1 == p3 ~~> ${p1 == p3}\") // Prints: p1 == p3: false\n",
    "println(s\"p1 eq p2 ~~> ${p1 eq p2}\") // references are not the same"
   ]
  },
  {
   "cell_type": "markdown",
   "id": "b83dd45d",
   "metadata": {},
   "source": [
    "Above code is an example to use of `apply` method to void the `new` keyword while intantiate regular class.\n",
    "\n",
    "However, you can create Signleton (i.e. not a companion object)"
   ]
  },
  {
   "cell_type": "code",
   "execution_count": 13,
   "id": "1fa67586",
   "metadata": {},
   "outputs": [
    {
     "name": "stdout",
     "output_type": "stream",
     "text": [
      "Singleton s1 == s2 ~~> true\n",
      "Singleton s1 eq s2 ~~> true\n"
     ]
    },
    {
     "data": {
      "text/plain": [
       "defined \u001b[32mobject\u001b[39m \u001b[36mSingleton\u001b[39m\n",
       "\u001b[36ms1\u001b[39m: \u001b[32mSingleton\u001b[39m.type = ammonite.$sess.cmd13$Helper$Singleton$@42e3b3fe\n",
       "\u001b[36ms2\u001b[39m: \u001b[32mSingleton\u001b[39m.type = ammonite.$sess.cmd13$Helper$Singleton$@42e3b3fe"
      ]
     },
     "execution_count": 13,
     "metadata": {},
     "output_type": "execute_result"
    }
   ],
   "source": [
    "object Singleton {\n",
    "    def greet(): String = \"Hello from Singleton!\"\n",
    "}\n",
    "\n",
    "val s1 = Singleton\n",
    "val s2 = Singleton\n",
    "println(s\"Singleton s1 == s2 ~~> ${s1 == s2}\") // Prints: Singleton s1 == s2: true\n",
    "println(s\"Singleton s1 eq s2 ~~> ${s1 eq s2}\") // references are the same"
   ]
  },
  {
   "cell_type": "markdown",
   "id": "796c19f0",
   "metadata": {},
   "source": [
    "> Notice that, in the above code `s1 eq s2` is true because `s1` and `s2` both are pointing to the same object.\n",
    "\n",
    "You can access private properites of the Companion Object for its class:"
   ]
  },
  {
   "cell_type": "code",
   "execution_count": 14,
   "id": "2a095642",
   "metadata": {},
   "outputs": [
    {
     "name": "stdout",
     "output_type": "stream",
     "text": [
      "number of Dummies are: 2\n"
     ]
    },
    {
     "data": {
      "text/plain": [
       "defined \u001b[32mclass\u001b[39m \u001b[36mDummy\u001b[39m\n",
       "defined \u001b[32mobject\u001b[39m \u001b[36mDummy\u001b[39m\n",
       "\u001b[36md1\u001b[39m: \u001b[32mDummy\u001b[39m = \u001b[33mDummy\u001b[39m(name = \u001b[32m\"a\"\u001b[39m, age = \u001b[32m1\u001b[39m)\n",
       "\u001b[36md2\u001b[39m: \u001b[32mDummy\u001b[39m = \u001b[33mDummy\u001b[39m(name = \u001b[32m\"b\"\u001b[39m, age = \u001b[32m3\u001b[39m)"
      ]
     },
     "execution_count": 14,
     "metadata": {},
     "output_type": "execute_result"
    }
   ],
   "source": [
    "case class Dummy(name: String, age: Int){\n",
    "    Dummy._count += 1 // Accessing private property\n",
    "    override def toString: String = s\"Dummy(name=$name, age=$age)\"\n",
    "}\n",
    "\n",
    "object Dummy {\n",
    "    private var _count:Int = 0\n",
    "    def getCount: Int = _count // Accessing private property\n",
    "}\n",
    "\n",
    "val d1 = Dummy(\"a\", 1)\n",
    "val d2 = Dummy(\"b\", 3)\n",
    "\n",
    "println(s\"number of Dummies are: ${Dummy.getCount}\")"
   ]
  },
  {
   "cell_type": "markdown",
   "id": "87b35240",
   "metadata": {},
   "source": [
    "## Method `apply`\n",
    "\n",
    "In Scala 2, the `apply` method is a special convention that allows <span>objects or companion objects to be invoked as if they were functions</span>{:gtxt}. When defined, it enables concise and intuitive syntax for object creation or custom behavior, such as constructing instances without explicitly using the `new` keyword (as explained above). \n",
    "\n",
    "> The `apply` method is commonly used in companion objects of classes, collections, and factory patterns to simplify code and improve readability.\n",
    "\n",
    "In the following senario, \n",
    "1. pass the intial value via constructor\n",
    "2. use `add(v:Int)` method to add intial value to `v` parameter.\n"
   ]
  },
  {
   "cell_type": "code",
   "execution_count": 15,
   "id": "a35503c5",
   "metadata": {},
   "outputs": [
    {
     "name": "stdout",
     "output_type": "stream",
     "text": [
      "foo.add(5) = 15\n"
     ]
    },
    {
     "data": {
      "text/plain": [
       "defined \u001b[32mclass\u001b[39m \u001b[36mFoo\u001b[39m\n",
       "\u001b[36mfoo\u001b[39m: \u001b[32mFoo\u001b[39m = Foo(x=10)"
      ]
     },
     "execution_count": 15,
     "metadata": {},
     "output_type": "execute_result"
    }
   ],
   "source": [
    "class Foo (val x: Int) { // Private constructor\n",
    "    def add(v:Int): Int = x+v // Public method to access private field\n",
    "    override def toString: String = s\"Foo(x=$x)\"\n",
    "}\n",
    "\n",
    "val foo = new Foo(10) // Create an instance of Foo\n",
    "println(s\"foo.add(5) = ${foo.add(5)}\") // Access public method to add 5 to x"
   ]
  },
  {
   "cell_type": "markdown",
   "id": "75353d51",
   "metadata": {},
   "source": [
    "Using `apply` method you can avoid use of `add` method as follows:\n",
    "\n",
    "```scala\n",
    "def apply(parameters): ReturnType\n",
    "```\n",
    "\n",
    "When you define an `apply` method, you can invoke instances of the class or object as if they were functions, omitting the `.apply` part. For example, if you have `def apply(x: Int): Int`, then calling `instance(5)` is equivalent to `instance.apply(5)`. This enables concise and intuitive syntax for object creation or custom behavior."
   ]
  },
  {
   "cell_type": "code",
   "execution_count": 16,
   "id": "82bfb493",
   "metadata": {},
   "outputs": [
    {
     "name": "stdout",
     "output_type": "stream",
     "text": [
      "foo(5) = 15\n"
     ]
    },
    {
     "data": {
      "text/plain": [
       "defined \u001b[32mclass\u001b[39m \u001b[36mFoo\u001b[39m\n",
       "\u001b[36mfoo\u001b[39m: \u001b[32mFoo\u001b[39m = Foo(x=10)"
      ]
     },
     "execution_count": 16,
     "metadata": {},
     "output_type": "execute_result"
    }
   ],
   "source": [
    "class Foo (val x: Int) { // Private constructor\n",
    "    def apply(v:Int): Int = x+v // Public method to access private field\n",
    "    override def toString: String = s\"Foo(x=$x)\"\n",
    "}\n",
    "\n",
    "val foo = new Foo(10) // Create an instance of Foo\n",
    "println(s\"foo(5) = ${foo(5)}\") // Access public method to add 5 to x"
   ]
  },
  {
   "cell_type": "markdown",
   "id": "7c1d62a5",
   "metadata": {},
   "source": [
    "You can define an `apply` method that takes two parameters in a class or object. This allows you to use the instance as if it were a function with two arguments.\n"
   ]
  },
  {
   "cell_type": "code",
   "execution_count": 17,
   "id": "760718b3",
   "metadata": {},
   "outputs": [
    {
     "data": {
      "text/plain": [
       "defined \u001b[32mclass\u001b[39m \u001b[36mAdder\u001b[39m\n",
       "\u001b[36madder\u001b[39m: \u001b[32mAdder\u001b[39m = ammonite.$sess.cmd17$Helper$Adder@1b33a4c3\n",
       "\u001b[36mres17_2\u001b[39m: \u001b[32mInt\u001b[39m = \u001b[32m17\u001b[39m"
      ]
     },
     "execution_count": 17,
     "metadata": {},
     "output_type": "execute_result"
    }
   ],
   "source": [
    "class Adder(val base: Int) {\n",
    "    def apply(x: Int, y: Int): Int = base + x + y\n",
    "}\n",
    "\n",
    "val adder = new Adder(10)\n",
    "adder(3, 4) // Output: 17 (10 + 3 + 4)\n"
   ]
  },
  {
   "cell_type": "markdown",
   "id": "a3678523",
   "metadata": {},
   "source": [
    "Here, calling `adder(3, 4)` is equivalent to `adder.apply(3, 4)`, thanks to the `apply` method with two parameters."
   ]
  },
  {
   "cell_type": "markdown",
   "id": "710abab2",
   "metadata": {},
   "source": [
    "## Functions\n",
    "Scala 2 functions are first-class citizens, meaning \n",
    "\n",
    "- they can be assigned to variables, \n",
    "- passed as arguments, and \n",
    "- returned from other functions. \n",
    "\n",
    "Functions can be defined using the `def` keyword or as anonymous functions (lambdas). \n",
    "\n",
    "They support multiple parameter lists, default and named parameters, and can be curried for partial application. **Functions in Scala are objects**{:gtxt}, enabling powerful functional programming patterns such as *higher-order* functions, *closures*, and *composition*. This flexibility allows concise, expressive, and reusable code.\n",
    "\n",
    "Here how the factorial function"
   ]
  },
  {
   "cell_type": "code",
   "execution_count": 9,
   "id": "58f9d7b1",
   "metadata": {},
   "outputs": [
    {
     "data": {
      "text/plain": [
       "defined \u001b[32mfunction\u001b[39m \u001b[36mfactorial\u001b[39m\n",
       "\u001b[36mres9_1\u001b[39m: \u001b[32mInt\u001b[39m = \u001b[32m120\u001b[39m"
      ]
     },
     "execution_count": 9,
     "metadata": {},
     "output_type": "execute_result"
    }
   ],
   "source": [
    "// import scala.annotation.tailrec\n",
    "\n",
    "// @tailrec\n",
    "def factorial(n:Int):Int = {\n",
    "    if (n == 0 || n == 1) 1 else n * factorial(n-1)\n",
    "}\n",
    "\n",
    "factorial(5)"
   ]
  },
  {
   "cell_type": "markdown",
   "id": "9fd44cfe",
   "metadata": {},
   "source": [
    "But you could not <span>optimize `@tailrec`</span> annotated method factorial: it contains a recursive call not in tail position that is where n multuply the return of the recursive call. As a solution, use accumulator:"
   ]
  },
  {
   "cell_type": "code",
   "execution_count": 13,
   "id": "1c1144fc",
   "metadata": {},
   "outputs": [
    {
     "data": {
      "text/plain": [
       "\u001b[32mimport \u001b[39m\u001b[36mscala.annotation.tailrec\u001b[39m\n",
       "defined \u001b[32mfunction\u001b[39m \u001b[36mfactorial\u001b[39m\n",
       "\u001b[36mres13_2\u001b[39m: \u001b[32mInt\u001b[39m = \u001b[32m120\u001b[39m"
      ]
     },
     "execution_count": 13,
     "metadata": {},
     "output_type": "execute_result"
    }
   ],
   "source": [
    "import scala.annotation.tailrec\n",
    "\n",
    "@tailrec\n",
    "def factorial(n:Int, acc:Int = 1):Int = {\n",
    "    if (n == 0 || n == 1) acc else factorial(n-1, n * acc)\n",
    "}\n",
    "\n",
    "factorial(5)"
   ]
  },
  {
   "cell_type": "markdown",
   "id": "f918a707",
   "metadata": {},
   "source": [
    "Difference between Functions and Methods in Scala 2:\n",
    "\n",
    "- **Methods** are defined with the `def` keyword inside *classes*, *traits*, or *objects* and are part of the structure of those types. They are invoked using dot notation and can have multiple parameter lists.\n",
    "- Methods must be converted to function values (using `_` or by eta-expansion) to be treated as objects, whereas functions are already objects.\n",
    "\n",
    "> Syntax vise, methods are like functions. Semantically method is not independent like a function to roaming.\n",
    "\n",
    "Here the simple function:"
   ]
  },
  {
   "cell_type": "code",
   "execution_count": 18,
   "id": "fe19c59a",
   "metadata": {},
   "outputs": [
    {
     "data": {
      "text/plain": [
       "\u001b[36maddOne\u001b[39m: \u001b[32mInt\u001b[39m => \u001b[32mInt\u001b[39m = ammonite.$sess.cmd18$Helper$$Lambda$2478/1454780532@2a890e22\n",
       "\u001b[36mres18_1\u001b[39m: \u001b[32mInt\u001b[39m = \u001b[32m6\u001b[39m\n",
       "\u001b[36mres18_2\u001b[39m: \u001b[32mInt\u001b[39m = \u001b[32m6\u001b[39m"
      ]
     },
     "execution_count": 18,
     "metadata": {},
     "output_type": "execute_result"
    }
   ],
   "source": [
    "val addOne = (x: Int) => x + 1 // Function literal to add 1 to a number\n",
    "\n",
    "addOne.apply(5) // <~~~ (1)\n",
    "\n",
    "addOne(5) // <~~~ (2) "
   ]
  },
  {
   "cell_type": "markdown",
   "id": "11ebd1a4",
   "metadata": {},
   "source": [
    "Notice in the above code:\n",
    "1. Using apply method to call the function\n",
    "2. Using the function directly"
   ]
  },
  {
   "cell_type": "markdown",
   "id": "8111a123",
   "metadata": {},
   "source": [
    "The `=>` symbol in Scala 2 is used to define ***anonymous functions*** (also known as *function literals* or ***lambdas***). It separates the parameter list from the function body.\n",
    "\n",
    "- `(x: Int)` is the parameter list.\n",
    "- `x + 1` is the function body.\n",
    "- `=>` separates them, indicating that `addOne` is a function that takes an `Int` and returns `x + 1`.\n",
    "\n",
    "This syntax allows you to create functions without naming them, making your code concise and expressive.\n",
    "\n",
    "### Curring\n",
    "Currying in Scala 2 is the process of transforming a function that takes multiple arguments into a series of functions, each taking a single argument. This allows you to partially apply functions, fixing some arguments and producing new functions that accept the remaining arguments. \n",
    "\n",
    "> The concept is named after the mathematician Haskell Curry, who contributed significantly to the theory of functions in mathematics and computer science. Currying enables more flexible and reusable code, making it easier to compose and pass functions as values.\n",
    "\n",
    "For example Function literal to add two numbers see (1):"
   ]
  },
  {
   "cell_type": "code",
   "execution_count": 19,
   "id": "5cfbbdad",
   "metadata": {},
   "outputs": [
    {
     "data": {
      "text/plain": [
       "\u001b[36maddTwoNumbers\u001b[39m: (\u001b[32mInt\u001b[39m, \u001b[32mInt\u001b[39m) => \u001b[32mInt\u001b[39m = ammonite.$sess.cmd19$Helper$$Lambda$2485/522409221@44ef2c17\n",
       "\u001b[36mres19_1\u001b[39m: \u001b[32mInt\u001b[39m = \u001b[32m7\u001b[39m"
      ]
     },
     "execution_count": 19,
     "metadata": {},
     "output_type": "execute_result"
    }
   ],
   "source": [
    "val addTwoNumbers \n",
    "    = (x: Int, y: Int) => x + y // <~~~(1)\n",
    "addTwoNumbers(3, 4) "
   ]
  },
  {
   "cell_type": "markdown",
   "id": "1b129710",
   "metadata": {},
   "source": [
    "If you apply *Currying* concept to above function:"
   ]
  },
  {
   "cell_type": "code",
   "execution_count": 20,
   "id": "68c24708",
   "metadata": {},
   "outputs": [
    {
     "data": {
      "text/plain": [
       "\u001b[36maddTwoNumbersOnCurried\u001b[39m: \u001b[32mInt\u001b[39m => \u001b[32mInt\u001b[39m => \u001b[32mInt\u001b[39m = ammonite.$sess.cmd20$Helper$$Lambda$2495/2007787243@57512536\n",
       "\u001b[36mres20_1\u001b[39m: \u001b[32mInt\u001b[39m = \u001b[32m7\u001b[39m"
      ]
     },
     "execution_count": 20,
     "metadata": {},
     "output_type": "execute_result"
    }
   ],
   "source": [
    "val addTwoNumbersOnCurried \n",
    "    = (x: Int) => (y: Int) => x + y // <~~~(1)\n",
    "addTwoNumbersOnCurried(3)(4) // <~~~(2)"
   ]
  },
  {
   "cell_type": "markdown",
   "id": "1a7d0362",
   "metadata": {},
   "source": [
    "Notice how to curried two variables as shwon in the (1) of the above code and the function call in at (2).\n",
    "\n",
    "Here, `addTwoNumbersOnCurried(3)` returns a new function that takes an `Int` and adds it to `3`. Then, applying `(4)` calls this returned function with `4`, resulting in `3 + 4 = 7`. This demonstrates how currying allows you to **partially apply**{:gtxt} arguments and chain function calls.\n",
    "\n",
    "### Closures in Scala\n",
    "\n",
    "A **closure** is a function that captures the **bindings of free variables**{:gtxt} in its environment. In Scala 2, this means a function can access and modify variables defined outside its own scope.\n",
    "\n",
    "Closures are useful for creating functions with context or state. \n",
    "\n",
    "For example where `multiplier` is a closure:\n"
   ]
  },
  {
   "cell_type": "code",
   "execution_count": 21,
   "id": "135607f2",
   "metadata": {},
   "outputs": [
    {
     "data": {
      "text/html": [
       "<div class=\"jp-RenderedText\">\n",
       "<pre><code><span style=\"color: rgb(0, 187, 187)\"><span class=\"ansi-cyan-fg\">factor</span></span>: <span style=\"color: rgb(0, 187, 0)\"><span class=\"ansi-green-fg\">Int</span></span> = <span style=\"color: rgb(0, 187, 0)\"><span class=\"ansi-green-fg\">3</span></span>\n",
       "<span style=\"color: rgb(0, 187, 187)\"><span class=\"ansi-cyan-fg\">multiplier</span></span>: <span style=\"color: rgb(0, 187, 0)\"><span class=\"ansi-green-fg\">Int</span></span> =&gt; <span style=\"color: rgb(0, 187, 0)\"><span class=\"ansi-green-fg\">Int</span></span> = ammonite.$sess.cmd21$Helper$$Lambda$2499/33639110@595423b5\n",
       "<span style=\"color: rgb(0, 187, 187)\"><span class=\"ansi-cyan-fg\">res21_2</span></span>: <span style=\"color: rgb(0, 187, 0)\"><span class=\"ansi-green-fg\">Int</span></span> = <span style=\"color: rgb(0, 187, 0)\"><span class=\"ansi-green-fg\">10</span></span>\n",
       "<span style=\"color: rgb(0, 187, 187)\"><span class=\"ansi-cyan-fg\">res21_4</span></span>: <span style=\"color: rgb(0, 187, 0)\"><span class=\"ansi-green-fg\">Int</span></span> = <span style=\"color: rgb(0, 187, 0)\"><span class=\"ansi-green-fg\">15</span></span></code></pre>\n",
       "</div>"
      ],
      "text/plain": [
       "\u001b[36mfactor\u001b[39m: \u001b[32mInt\u001b[39m = \u001b[32m3\u001b[39m\n",
       "\u001b[36mmultiplier\u001b[39m: \u001b[32mInt\u001b[39m => \u001b[32mInt\u001b[39m = ammonite.$sess.cmd21$Helper$$Lambda$2499/33639110@595423b5\n",
       "\u001b[36mres21_2\u001b[39m: \u001b[32mInt\u001b[39m = \u001b[32m10\u001b[39m\n",
       "\u001b[36mres21_4\u001b[39m: \u001b[32mInt\u001b[39m = \u001b[32m15\u001b[39m"
      ]
     },
     "metadata": {},
     "output_type": "display_data"
    }
   ],
   "source": [
    "var factor = 2 // free variable\n",
    "val multiplier = (x: Int) => x * factor  \n",
    "multiplier(5)\n",
    "\n",
    "factor = 3 // when you change factor, it will affect the multiplier function\n",
    "multiplier(5) "
   ]
  },
  {
   "cell_type": "markdown",
   "id": "ce3b9ff3",
   "metadata": {},
   "source": [
    "Here, `multiplier` captures the `factor` variable from its environment. Changing `factor` after the closure is created affects the result, demonstrating how closures maintain a reference to their enclosing scope."
   ]
  },
  {
   "cell_type": "markdown",
   "id": "0d19de30",
   "metadata": {},
   "source": [
    "Suppose we want to count the number of occurrences of a character in a given string. In this case the `c` is the free varaible and closure function is bound to that. The result of the function will be change according to the `c`. \n",
    "\n",
    "We can define a curried function for this purpose:"
   ]
  },
  {
   "cell_type": "code",
   "execution_count": 22,
   "id": "4cdc1813",
   "metadata": {},
   "outputs": [
    {
     "data": {
      "text/plain": [
       "\u001b[36mcountCharInString\u001b[39m: \u001b[32mChar\u001b[39m => \u001b[32mString\u001b[39m => \u001b[32mInt\u001b[39m = ammonite.$sess.cmd22$Helper$$Lambda$2507/29628173@43ac5995"
      ]
     },
     "execution_count": 22,
     "metadata": {},
     "output_type": "execute_result"
    }
   ],
   "source": [
    "val countCharInString = \n",
    "    // (c: Char) => (s: String) => s.count(cx => cx == c)\n",
    "    (c: Char) => (s: String) => s.count(_ == c)\n"
   ]
  },
  {
   "cell_type": "markdown",
   "id": "903cf14d",
   "metadata": {},
   "source": [
    "Now, you can partially apply the function to fix the character and reuse it:"
   ]
  },
  {
   "cell_type": "code",
   "execution_count": 23,
   "id": "c3fb7e07",
   "metadata": {},
   "outputs": [
    {
     "data": {
      "text/plain": [
       "\u001b[36mcountA\u001b[39m: \u001b[32mString\u001b[39m => \u001b[32mInt\u001b[39m = ammonite.$sess.cmd22$Helper$$Lambda$2510/1105659595@12debd97\n",
       "\u001b[36mres23_1\u001b[39m: \u001b[32mInt\u001b[39m = \u001b[32m3\u001b[39m\n",
       "\u001b[36mcountB\u001b[39m: \u001b[32mString\u001b[39m => \u001b[32mInt\u001b[39m = ammonite.$sess.cmd22$Helper$$Lambda$2510/1105659595@6ebbf543\n",
       "\u001b[36mres23_3\u001b[39m: \u001b[32mInt\u001b[39m = \u001b[32m1\u001b[39m"
      ]
     },
     "execution_count": 23,
     "metadata": {},
     "output_type": "execute_result"
    }
   ],
   "source": [
    "val countA = countCharInString('a')\n",
    "countA(\"banana\") \n",
    "\n",
    "val countB = countCharInString('b')\n",
    "countB(\"banana\")"
   ]
  },
  {
   "cell_type": "markdown",
   "id": "0db40ac4",
   "metadata": {},
   "source": [
    "A closure in Scala 2 can modify a free variable if that variable is mutable (e.g., a `var`). Here’s an example:\n"
   ]
  },
  {
   "cell_type": "code",
   "execution_count": 24,
   "id": "80474aa2",
   "metadata": {},
   "outputs": [
    {
     "name": "stdout",
     "output_type": "stream",
     "text": [
      "2\n"
     ]
    },
    {
     "data": {
      "text/html": [
       "<div class=\"jp-RenderedText\">\n",
       "<pre><code><span style=\"color: rgb(0, 187, 187)\"><span class=\"ansi-cyan-fg\">counter</span></span>: <span style=\"color: rgb(0, 187, 0)\"><span class=\"ansi-green-fg\">Int</span></span> = <span style=\"color: rgb(0, 187, 0)\"><span class=\"ansi-green-fg\">2</span></span>\n",
       "<span style=\"color: rgb(0, 187, 187)\"><span class=\"ansi-cyan-fg\">increment</span></span>: () =&gt; <span style=\"color: rgb(0, 187, 0)\"><span class=\"ansi-green-fg\">Unit</span></span> = ammonite.$sess.cmd24$Helper$$Lambda$2516/909580591@536e9888</code></pre>\n",
       "</div>"
      ],
      "text/plain": [
       "\u001b[36mcounter\u001b[39m: \u001b[32mInt\u001b[39m = \u001b[32m2\u001b[39m\n",
       "\u001b[36mincrement\u001b[39m: () => \u001b[32mUnit\u001b[39m = ammonite.$sess.cmd24$Helper$$Lambda$2516/909580591@536e9888"
      ]
     },
     "metadata": {},
     "output_type": "display_data"
    }
   ],
   "source": [
    "var counter = 0 // free variable\n",
    "\n",
    "val increment = () => { counter += 1 } // closure modifies counter\n",
    "\n",
    "increment()\n",
    "increment()\n",
    "println(counter) "
   ]
  },
  {
   "cell_type": "markdown",
   "id": "caf1b41f",
   "metadata": {},
   "source": [
    "\n",
    "In this example, the closure `increment` captures and modifies the free variable `counter` from its enclosing scope. Each call to `increment()` increases `counter` by 1.\n"
   ]
  },
  {
   "cell_type": "markdown",
   "id": "b51210a8",
   "metadata": {},
   "source": [
    "## Tuples in Scala 2\n",
    "\n",
    "A **tuple** in Scala 2 is a simple data structure \n",
    "\n",
    "- that can hold a fixed number of items, each potentially of a different type. \n",
    "- Tuples are immutable and are useful for grouping related values without creating a custom class.\n",
    "\n"
   ]
  },
  {
   "cell_type": "markdown",
   "id": "7699f5db",
   "metadata": {},
   "source": [
    "### Creating Tuples\n",
    "\n",
    "You can create a tuple by enclosing values in parentheses, separated by commas:"
   ]
  },
  {
   "cell_type": "code",
   "execution_count": 25,
   "id": "08276f5b",
   "metadata": {},
   "outputs": [
    {
     "data": {
      "text/plain": [
       "\u001b[36mtuple2\u001b[39m: (\u001b[32mInt\u001b[39m, \u001b[32mString\u001b[39m) = (\u001b[32m1\u001b[39m, \u001b[32m\"Scala\"\u001b[39m)\n",
       "\u001b[36mtuple3\u001b[39m: (\u001b[32mInt\u001b[39m, \u001b[32mString\u001b[39m, \u001b[32mBoolean\u001b[39m) = (\u001b[32m1\u001b[39m, \u001b[32m\"Scala\"\u001b[39m, \u001b[32mtrue\u001b[39m)"
      ]
     },
     "execution_count": 25,
     "metadata": {},
     "output_type": "execute_result"
    }
   ],
   "source": [
    "val tuple2 = (1, \"Scala\") \n",
    "val tuple3 = (1, \"Scala\", true) "
   ]
  },
  {
   "cell_type": "markdown",
   "id": "fc3723b9",
   "metadata": {},
   "source": [
    "Scala supports tuples of up to 22 elements.\n",
    "\n",
    "### Accessing Tuple Elements\n",
    "\n",
    "Tuple elements are accessed using the `_1`, `_2`, ..., `_n` methods:"
   ]
  },
  {
   "cell_type": "code",
   "execution_count": 26,
   "id": "2be8a9b0",
   "metadata": {},
   "outputs": [
    {
     "data": {
      "text/plain": [
       "\u001b[36mt\u001b[39m: (\u001b[32mInt\u001b[39m, \u001b[32mString\u001b[39m, \u001b[32mDouble\u001b[39m) = (\u001b[32m42\u001b[39m, \u001b[32m\"hello\"\u001b[39m, \u001b[32m3.14\u001b[39m)\n",
       "\u001b[36mfirst\u001b[39m: \u001b[32mInt\u001b[39m = \u001b[32m42\u001b[39m\n",
       "\u001b[36msecond\u001b[39m: \u001b[32mString\u001b[39m = \u001b[32m\"hello\"\u001b[39m\n",
       "\u001b[36mthird\u001b[39m: \u001b[32mDouble\u001b[39m = \u001b[32m3.14\u001b[39m"
      ]
     },
     "execution_count": 26,
     "metadata": {},
     "output_type": "execute_result"
    }
   ],
   "source": [
    "val t = (42, \"hello\", 3.14)\n",
    "val first = t._1    \n",
    "val second = t._2   \n",
    "val third = t._3    "
   ]
  },
  {
   "cell_type": "markdown",
   "id": "631aa65f",
   "metadata": {},
   "source": [
    "### Pattern Matching with Tuples\n",
    "\n",
    "You can use pattern matching to extract values from a tuple:"
   ]
  },
  {
   "cell_type": "code",
   "execution_count": 31,
   "id": "1b6aaba6",
   "metadata": {},
   "outputs": [
    {
     "data": {
      "text/plain": [
       "\u001b[36mperson\u001b[39m: (\u001b[32mString\u001b[39m, \u001b[32mInt\u001b[39m) = (\u001b[32m\"Alice\"\u001b[39m, \u001b[32m30\u001b[39m)\n",
       "\u001b[36mname\u001b[39m: \u001b[32mString\u001b[39m = \u001b[32m\"Alice\"\u001b[39m\n",
       "\u001b[36mage\u001b[39m: \u001b[32mInt\u001b[39m = \u001b[32m30\u001b[39m"
      ]
     },
     "execution_count": 31,
     "metadata": {},
     "output_type": "execute_result"
    }
   ],
   "source": [
    "val person = (\"Alice\", 30)\n",
    "val (name, age) = person"
   ]
  },
  {
   "cell_type": "markdown",
   "id": "a78239bb",
   "metadata": {},
   "source": [
    "### Returning Multiple Values from a Function\n",
    "\n",
    "Tuples are often used to return multiple values from a function:"
   ]
  },
  {
   "cell_type": "code",
   "execution_count": 29,
   "id": "80bd8f9c",
   "metadata": {},
   "outputs": [
    {
     "data": {
      "text/plain": [
       "defined \u001b[32mfunction\u001b[39m \u001b[36mminMax\u001b[39m\n",
       "\u001b[36mmin\u001b[39m: \u001b[32mInt\u001b[39m = \u001b[32m2\u001b[39m\n",
       "\u001b[36mmax\u001b[39m: \u001b[32mInt\u001b[39m = \u001b[32m9\u001b[39m"
      ]
     },
     "execution_count": 29,
     "metadata": {},
     "output_type": "execute_result"
    }
   ],
   "source": [
    "def minMax(values: Array[Int]): (Int, Int) =   \n",
    "    (values.min, values.max)\n",
    "\n",
    "val (min, max) = minMax(Array(3, 7, 2, 9))\n",
    "// min: 2, max: 9"
   ]
  },
  {
   "cell_type": "markdown",
   "id": "632870fc",
   "metadata": {},
   "source": [
    "<span>Tuples are immutable and can hold elements of different types</span>{:gtxt}, making them handy for quick grouping of values without defining a new class.\n",
    "\n",
    "> 💥 Scala 2 tuples can have up to 22 elements. This means you can create tuples like `(a1, a2, ..., a22)`, but not more. This limitation exists because each tuple arity is represented by a separate class in the standard library, and Scala 2 only provides classes up to `Tuple22`.\n",
    "{:.yellow}"
   ]
  },
  {
   "cell_type": "markdown",
   "id": "e58844b8",
   "metadata": {},
   "source": [
    "Here, `List`, `Vector`, and `Map` are generic classes, and you specify the type(s) they contain.\n",
    "\n",
    "## Defining Your Own Parameterized Types\n",
    "\n",
    "You can define your own generic classes or methods:\n"
   ]
  },
  {
   "cell_type": "code",
   "execution_count": 36,
   "id": "1076cef7",
   "metadata": {},
   "outputs": [
    {
     "data": {
      "text/plain": [
       "defined \u001b[32mclass\u001b[39m \u001b[36mBox\u001b[39m\n",
       "\u001b[36mintBox\u001b[39m: \u001b[32mBox\u001b[39m[\u001b[32mInt\u001b[39m] = ammonite.$sess.cmd36$Helper$Box@2e484f05\n",
       "\u001b[36mstrBox\u001b[39m: \u001b[32mBox\u001b[39m[\u001b[32mString\u001b[39m] = ammonite.$sess.cmd36$Helper$Box@5a5d8f9f"
      ]
     },
     "execution_count": 36,
     "metadata": {},
     "output_type": "execute_result"
    }
   ],
   "source": [
    "class Box[A](val value: A)\n",
    "val intBox = new Box[Int](42)\n",
    "val strBox = new Box[String](\"hello\")"
   ]
  },
  {
   "cell_type": "markdown",
   "id": "465d4861",
   "metadata": {},
   "source": [
    "### Variance in Scala Collections\n",
    "\n",
    "Scala collections use *variance annotations* to control subtyping:\n",
    "\n",
    "- `List[+A]` is **covariant**: `List[String]` is a subtype of `List[AnyRef]`.\n",
    "- `Array[A]` is **invariant**: `Array[String]` is not a subtype of `Array[AnyRef]`.\n",
    "\n",
    "> Parameterized types are essential for working with Scala collections, ensuring type safety and flexibility across your codebase.\n",
    "{:.green}"
   ]
  },
  {
   "cell_type": "markdown",
   "id": "705d7295",
   "metadata": {},
   "source": [
    "### Variance in Scala: Covariant, Invariant, and Contravariant\n",
    "\n",
    "Variance describes how subtyping between more complex types relates to subtyping between their component types. In Scala, variance is controlled using annotations on type parameters:\n",
    "\n",
    "- `+A` for **covariance**\n",
    "- `-A` for **contravariance**\n",
    "- No annotation for **invariance**\n"
   ]
  },
  {
   "cell_type": "markdown",
   "id": "49ef5f91",
   "metadata": {},
   "source": [
    "#### Covariant (`+A`)\n",
    "\n",
    "A type constructor is **covariant** if, for types `A` and `B`, whenever `A` is a subtype of `B`, then `F[A]` is a subtype of `F[B]`.\n",
    "\n",
    "```mermaid\n",
    "classDiagram\n",
    "    Type_B <|-- Type_A : extends\n",
    "```"
   ]
  },
  {
   "cell_type": "code",
   "execution_count": 1,
   "id": "03bc89f6",
   "metadata": {},
   "outputs": [
    {
     "data": {
      "text/plain": [
       "defined \u001b[32mclass\u001b[39m \u001b[36mType_B\u001b[39m\n",
       "defined \u001b[32mclass\u001b[39m \u001b[36mType_A\u001b[39m\n",
       "defined \u001b[32mclass\u001b[39m \u001b[36mF\u001b[39m\n",
       "\u001b[36maF\u001b[39m: \u001b[32mF\u001b[39m[\u001b[32mType_A\u001b[39m] = ammonite.$sess.cmd1$Helper$F@4d5830df\n",
       "\u001b[36mbF\u001b[39m: \u001b[32mF\u001b[39m[\u001b[32mType_B\u001b[39m] = ammonite.$sess.cmd1$Helper$F@4d5830df"
      ]
     },
     "execution_count": 1,
     "metadata": {},
     "output_type": "execute_result"
    }
   ],
   "source": [
    "class Type_B\n",
    "class Type_A extends Type_B\n",
    "\n",
    "class F[+A](val value: A)\n",
    "val aF: F[Type_A] = new F(new Type_A)\n",
    "val bF: F[Type_B] = aF // Allowed: F[Type_A] <: F[Type_B]"
   ]
  },
  {
   "cell_type": "markdown",
   "id": "9f99d57d",
   "metadata": {},
   "source": [
    "- **Use case:** Collections that only produce values (e.g., `List[+A]`).\n",
    "- **Mnemonic:** \"Output\" position.\n",
    "\n",
    "#### Invariant (`A`)\n",
    "\n",
    "A type constructor is **invariant** if there is no subtyping relationship between `F[A]` and `F[B]`, even if `A` and `B` are related.\n"
   ]
  },
  {
   "cell_type": "code",
   "execution_count": 2,
   "id": "131551e2",
   "metadata": {},
   "outputs": [
    {
     "name": "stderr",
     "output_type": "stream",
     "text": [
      "cmd2.sc:3: type mismatch;\n",
      " found   : Helper.this.F[cmd2.this.cmd1.Type_A]\n",
      " required: Helper.this.F[cmd2.this.cmd1.Type_B]\n",
      "Note: cmd2.this.cmd1.Type_A <: cmd2.this.cmd1.Type_B, but class F is invariant in type A.\n",
      "You may wish to define A as +A instead. (SLS 4.5)\n",
      "val bF: F[Type_B] = aF // Error: F[A] is not a subtype of F[B]\n",
      "                    ^\n",
      "Compilation Failed"
     ]
    }
   ],
   "source": [
    "class F[A](val value: A)\n",
    "val aF: F[Type_A] = new F(new Type_A)\n",
    "val bF: F[Type_B] = aF // Error: F[A] is not a subtype of F[B]"
   ]
  },
  {
   "cell_type": "markdown",
   "id": "80158626",
   "metadata": {},
   "source": [
    "- **Use case:** Mutable collections or types that both consume and produce values (e.g., `Array[A]`).\n",
    "- **Mnemonic:** \"Both input and output\" positions.\n",
    "\n",
    "#### Contravariant (`-A`)\n",
    "\n",
    "A type constructor is **contravariant** if, for types `A` and `B`, whenever `A` is a subtype of `B`, then `F[B]` is a subtype of `F[A]`."
   ]
  },
  {
   "cell_type": "code",
   "execution_count": 11,
   "id": "927f97db",
   "metadata": {},
   "outputs": [
    {
     "data": {
      "text/plain": [
       "defined \u001b[32mclass\u001b[39m \u001b[36mF\u001b[39m\n",
       "\u001b[36mbF\u001b[39m: \u001b[32mF\u001b[39m[\u001b[32mType_B\u001b[39m] = ammonite.$sess.cmd11$Helper$F@32a534e8\n",
       "\u001b[36maF\u001b[39m: \u001b[32mF\u001b[39m[\u001b[32mType_A\u001b[39m] = ammonite.$sess.cmd11$Helper$F@32a534e8"
      ]
     },
     "execution_count": 11,
     "metadata": {},
     "output_type": "execute_result"
    }
   ],
   "source": [
    "class F[-A] {\n",
    "    def print(a: A): Unit = println(a)\n",
    "}\n",
    "\n",
    "val bF: F[Type_B] = new F[Type_B]\n",
    "val aF: F[Type_A] = bF // Allowed: F[Type_B] <: F[Type_A]"
   ]
  },
  {
   "cell_type": "markdown",
   "id": "b2c5b532",
   "metadata": {},
   "source": [
    "\n",
    "- **Use case:** Types that only consume values (e.g., function argument types).\n",
    "- **Mnemonic:** \"Input\" position.\n",
    "\n",
    "Summary Table\n",
    "\n",
    "```mermaid\n",
    "classDiagram\n",
    "    Animal <|-- Dog : extends\n",
    "```\n",
    "\n",
    "| Annotation | Name         | Example         | Subtyping Direction                | Use Case                |\n",
    "|------------|--------------|----------------|------------------------------------|-------------------------|\n",
    "| `+A`       | Covariant    | `List[+A]`     | `List[Dog]` <: `List[Animal]`      | Output-only (produce)   |\n",
    "| `A`        | Invariant    | `Array[A]`     | No relationship                    | Input & output (mutable)|\n",
    "| `-A`       | Contravariant| `Printer[-A]`  | `Printer[Animal]` <: `Printer[Dog]`| Input-only (consume)    |\n",
    "\n",
    "> Covariance and contravariance help ensure type safety and flexibility when designing generic classes and traits in Scala."
   ]
  },
  {
   "cell_type": "markdown",
   "id": "98d59bf1",
   "metadata": {},
   "source": [
    "## Traits\n",
    "Traits are a fundamental feature that combines aspects of interfaces and mixins, providing a powerful way to compose behaviour and share code between classes.\n",
    "\n",
    "> A trait is similar to an interface in Java, but more powerful. It can contain both abstract and concrete methods, as well as fields."
   ]
  },
  {
   "cell_type": "code",
   "execution_count": 12,
   "id": "ccbec114",
   "metadata": {},
   "outputs": [
    {
     "data": {
      "text/plain": [
       "defined \u001b[32mtrait\u001b[39m \u001b[36mDrawable\u001b[39m"
      ]
     },
     "execution_count": 12,
     "metadata": {},
     "output_type": "execute_result"
    }
   ],
   "source": [
    "trait Drawable {\n",
    "  def draw(): Unit  // abstract method\n",
    "  def isVisible: Boolean = true  // concrete method with default implementation\n",
    "  val color: String = \"black\"  // concrete field\n",
    "}"
   ]
  },
  {
   "cell_type": "markdown",
   "id": "e6aa85a4",
   "metadata": {},
   "source": [
    "Classes can extend multiple traits, enabling a form of multiple inheritance that avoids the diamond problem."
   ]
  },
  {
   "cell_type": "markdown",
   "id": "4f738f85-6762-49d6-8734-576919d29857",
   "metadata": {},
   "source": [
    "## Linearisation and Method Resolution\n",
    "\n",
    "When multiple traits define the same method, Scala uses linearisation to determine which implementation to select. \n",
    "\n",
    "The linearisation order follows a depth-first, right-to-left traversal.{:gtxt}\n",
    "\n",
    "```mermaid\n",
    "classDiagram\n",
    "    class A[\"A (trait)\"] {\n",
    "\n",
    "        +foo() String\n",
    "    }\n",
    "    \n",
    "    class B[\"B (trait)\"] {\n",
    "        +foo() String\n",
    "    }\n",
    "    \n",
    "    class C[\"C (trait)\"] {\n",
    "        +foo() String\n",
    "    }\n",
    "    \n",
    "    class D {\n",
    "        +foo() String\n",
    "    }\n",
    "    \n",
    "    A <|-- B : extends\n",
    "    A <|-- C : extends\n",
    "    B <|.. D : with\n",
    "    C <|.. D : with\n",
    "    \n",
    "    note for D \"Linearization: D → C → B → A\n",
    "    foo() returns CBA\"\n",
    "```"
   ]
  },
  {
   "cell_type": "code",
   "execution_count": 13,
   "id": "ea5c956f-a1b6-4665-bc74-c7159cef7610",
   "metadata": {},
   "outputs": [
    {
     "data": {
      "text/plain": [
       "defined \u001b[32mtrait\u001b[39m \u001b[36mA\u001b[39m\n",
       "defined \u001b[32mtrait\u001b[39m \u001b[36mB\u001b[39m\n",
       "defined \u001b[32mtrait\u001b[39m \u001b[36mC\u001b[39m\n",
       "defined \u001b[32mclass\u001b[39m \u001b[36mD\u001b[39m\n",
       "\u001b[36mres13_4\u001b[39m: \u001b[32mString\u001b[39m = \u001b[32m\"CBA\"\u001b[39m"
      ]
     },
     "execution_count": 13,
     "metadata": {},
     "output_type": "execute_result"
    }
   ],
   "source": [
    "trait A { def foo = \"A\" }\n",
    "trait B extends A { override def foo = \"B\" + super.foo }\n",
    "trait C extends A { override def foo = \"C\" + super.foo }\n",
    "\n",
    "class D extends B with C // Linearization: D -> C -> B -> A\n",
    "new D().foo // returns \"CBA\""
   ]
  },
  {
   "cell_type": "markdown",
   "id": "53da2896",
   "metadata": {},
   "source": [
    "#### Self-Types traits\n",
    "Traits can declare dependencies on other traits or classes using self-types:\n",
    "\n",
    "```mermaid\n",
    "classDiagram\n",
    "    class Logger[\"Logger\n",
    "    (trait)\"] {\n",
    "        +log(message: String) Unit\n",
    "        +warn(message: String) Unit\n",
    "    }\n",
    "    \n",
    "    class DatabaseAccess[\"DatabaseAccess\n",
    "    (trait)\"]  {\n",
    "        +query(sql: String) Unit\n",
    "    }\n",
    "    \n",
    "    class UserService {\n",
    "        +log(message: String) Unit\n",
    "        +warn(message: String) Unit\n",
    "        +query(sql: String) Unit\n",
    "    }\n",
    "    \n",
    "    Logger <|.. UserService : with\n",
    "    DatabaseAccess <|.. UserService : with\n",
    "    Logger <.. DatabaseAccess : self-type dependency\n",
    "    \n",
    "    note for DatabaseAccess \"self: Logger =>\n",
    "    Requires Logger to be mixed in\"\n",
    "    note for UserService \"Valid: extends Logger with DatabaseAccess\"\n",
    "```"
   ]
  },
  {
   "cell_type": "code",
   "execution_count": 6,
   "id": "56c9d9c6",
   "metadata": {},
   "outputs": [
    {
     "data": {
      "text/plain": [
       "defined \u001b[32mtrait\u001b[39m \u001b[36mLogger\u001b[39m\n",
       "defined \u001b[32mtrait\u001b[39m \u001b[36mDatabaseAccess\u001b[39m\n",
       "defined \u001b[32mclass\u001b[39m \u001b[36mUserService\u001b[39m"
      ]
     },
     "execution_count": 6,
     "metadata": {},
     "output_type": "execute_result"
    }
   ],
   "source": [
    "// no abstracts\n",
    "trait Logger {\n",
    "  def log(message: String): Unit = println(s\"[LOG] $message\")\n",
    "  def warn(message: String): Unit = println(s\"[WARN] $message\")\n",
    "}\n",
    "\n",
    "trait DatabaseAccess {\n",
    "  self: Logger =>  // requires Logger to be mixed in\n",
    "  \n",
    "  def query(sql: String): Unit = {\n",
    "    log(s\"Executing: $sql\")\n",
    "    // database logic\n",
    "  }\n",
    "}\n",
    "\n",
    "class UserService extends Logger with DatabaseAccess  // valid\n",
    "// class UserService extends DatabaseAccess  // compilation error"
   ]
  },
  {
   "cell_type": "code",
   "execution_count": 4,
   "id": "ea3ba00e",
   "metadata": {},
   "outputs": [
    {
     "data": {
      "text/plain": [
       "\u001b[32mimport \u001b[39m\u001b[36mjava.util.Date\u001b[39m\n",
       "defined \u001b[32mtrait\u001b[39m \u001b[36mLogger\u001b[39m\n",
       "defined \u001b[32mtrait\u001b[39m \u001b[36mTimestampLogger\u001b[39m\n",
       "defined \u001b[32mtrait\u001b[39m \u001b[36mEncryptedLogger\u001b[39m\n",
       "defined \u001b[32mclass\u001b[39m \u001b[36mSecureService\u001b[39m"
      ]
     },
     "execution_count": 4,
     "metadata": {},
     "output_type": "execute_result"
    }
   ],
   "source": [
    "import java.util.Date\n",
    "\n",
    "\n",
    "trait TimestampLogger extends Logger {\n",
    "  override def log(message: String): Unit = {\n",
    "    super.log(s\"${new Date()}: $message\")\n",
    "  }\n",
    "}\n",
    "\n",
    "trait EncryptedLogger extends Logger {\n",
    "  override def log(message: String): Unit = {\n",
    "    super.log(encrypt(message))\n",
    "  }\n",
    "  private def encrypt(s: String) = s.reverse  // simple example\n",
    "}\n",
    "\n",
    "class SecureService extends Logger with TimestampLogger with EncryptedLogger"
   ]
  },
  {
   "cell_type": "markdown",
   "id": "473eb2bf",
   "metadata": {},
   "source": [
    "### Common Patterns\n",
    "Stackable Modifications: Traits can modify behavior by calling `super`:"
   ]
  },
  {
   "cell_type": "code",
   "execution_count": 7,
   "id": "47050d9a",
   "metadata": {},
   "outputs": [
    {
     "data": {
      "text/plain": [
       "defined \u001b[32mtrait\u001b[39m \u001b[36mTimestampLogger\u001b[39m\n",
       "defined \u001b[32mtrait\u001b[39m \u001b[36mEncryptedLogger\u001b[39m\n",
       "defined \u001b[32mclass\u001b[39m \u001b[36mSecureService\u001b[39m"
      ]
     },
     "execution_count": 7,
     "metadata": {},
     "output_type": "execute_result"
    }
   ],
   "source": [
    "trait TimestampLogger extends Logger {\n",
    "  override def log(message: String): Unit = {\n",
    "    super.log(s\"${new Date()}: $message\")\n",
    "  }\n",
    "}\n",
    "\n",
    "trait EncryptedLogger extends Logger {\n",
    "  override def log(message: String): Unit = {\n",
    "    super.log(encrypt(message))\n",
    "  }\n",
    "  private def encrypt(s: String) = s.reverse  // simple example\n",
    "}\n",
    "\n",
    "class SecureService extends Logger with TimestampLogger with EncryptedLogger"
   ]
  },
  {
   "cell_type": "markdown",
   "id": "05720af8",
   "metadata": {},
   "source": [
    "Template Method Pattern: Define algorithm structure in traits with customizable steps:\n"
   ]
  },
  {
   "cell_type": "code",
   "execution_count": 2,
   "id": "76825db6",
   "metadata": {},
   "outputs": [
    {
     "data": {
      "text/plain": [
       "defined \u001b[32mtrait\u001b[39m \u001b[36mDataProcessor\u001b[39m"
      ]
     },
     "execution_count": 2,
     "metadata": {},
     "output_type": "execute_result"
    }
   ],
   "source": [
    "trait DataProcessor {\n",
    "  def process(data: String): String = {\n",
    "    val validated = validate(data)\n",
    "    val transformed = transform(validated)\n",
    "    save(transformed)\n",
    "  }\n",
    "  \n",
    "  protected def validate(data: String): String\n",
    "  protected def transform(data: String): String  \n",
    "  protected def save(data: String): String\n",
    "}"
   ]
  },
  {
   "cell_type": "markdown",
   "id": "9f07c171",
   "metadata": {},
   "source": [
    "## ScalaTest Example\n",
    "\n",
    "Below is an example of how to use `org.scalatest.funspec.AnyFunSpec` together with `org.scalatest.matchers.should.Matchers` in Scala 2 for expressive and readable unit tests.\n"
   ]
  },
  {
   "cell_type": "code",
   "execution_count": 32,
   "id": "3e9746b0",
   "metadata": {},
   "outputs": [
    {
     "data": {
      "text/plain": [
       "\u001b[32mimport \u001b[39m\u001b[36morg.scalatest.funspec.AnyFunSpec\u001b[39m\n",
       "\u001b[32mimport \u001b[39m\u001b[36morg.scalatest.matchers.should.Matchers\u001b[39m\n",
       "defined \u001b[32mclass\u001b[39m \u001b[36mCalculatorSpec\u001b[39m"
      ]
     },
     "execution_count": 32,
     "metadata": {},
     "output_type": "execute_result"
    }
   ],
   "source": [
    "import org.scalatest.funspec.AnyFunSpec\n",
    "import org.scalatest.matchers.should.Matchers\n",
    "\n",
    "class CalculatorSpec extends AnyFunSpec with Matchers {\n",
    "\n",
    "    describe(\"A Calculator\") {\n",
    "\n",
    "        it(\"should add two numbers correctly\") {\n",
    "            val sum = 2 + 3\n",
    "            sum shouldEqual 5\n",
    "        }\n",
    "\n",
    "        it(\"should multiply two numbers correctly\") {\n",
    "            val product = 4 * 5\n",
    "            product shouldBe 20\n",
    "        }\n",
    "\n",
    "        it(\"should throw an exception when dividing by zero\") {\n",
    "            an [ArithmeticException] should be thrownBy {\n",
    "                10 / 0\n",
    "            }\n",
    "        }\n",
    "\n",
    "    }\n",
    "}"
   ]
  },
  {
   "cell_type": "markdown",
   "id": "504d7511",
   "metadata": {},
   "source": [
    "- `describe` and `it` provide a readable, BDD-style structure.\n",
    "- `shouldEqual` and `shouldBe` come from `Matchers` for expressive assertions.\n",
    "- The `an [Exception] should be thrownBy { ... }` syntax checks for exceptions."
   ]
  },
  {
   "cell_type": "markdown",
   "id": "35ca07ac",
   "metadata": {},
   "source": [
    "{:gtxt: .message color=\"green\"}\n",
    "{:ytxt: .message color=\"yellow\"}\n",
    "{:rtxt: .message color=\"red\"}"
   ]
  }
 ],
 "metadata": {
  "kernelspec": {
   "display_name": "Scala",
   "language": "scala",
   "name": "scala_2"
  },
  "language_info": {
   "codemirror_mode": "text/x-scala",
   "file_extension": ".sc",
   "mimetype": "text/x-scala",
   "name": "scala",
   "nbconvert_exporter": "script",
   "version": "2.13.16"
  }
 },
 "nbformat": 4,
 "nbformat_minor": 5
}
