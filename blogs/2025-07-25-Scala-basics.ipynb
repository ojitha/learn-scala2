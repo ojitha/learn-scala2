{
 "cells": [
  {
   "cell_type": "markdown",
   "id": "d9175770",
   "metadata": {},
   "source": [
    "---\n",
    "layout: post\n",
    "title:  Scala Notes\n",
    "date:   2025-07-24\n",
    "categories: [Scala]\n",
    "mermaid: true\n",
    "typora-root-url: /Users/ojitha/GitHub/ojitha.github.io\n",
    "typora-copy-images-to: ../assets/images/${filename}\n",
    "---\n",
    "\n",
    "<style>\n",
    "/* Styles for the two-column layout */\n",
    ".image-text-container {\n",
    "    display: flex; /* Enables flexbox */\n",
    "    flex-wrap: wrap; /* Allows columns to stack on small screens */\n",
    "    gap: 20px; /* Space between the image and text */\n",
    "    align-items: center; /* Vertically centers content in columns */\n",
    "    margin-bottom: 20px; /* Space below this section */\n",
    "}\n",
    "\n",
    ".image-column {\n",
    "    flex: 1; /* Allows this column to grow */\n",
    "    min-width: 250px; /* Minimum width for the image column before stacking */\n",
    "    max-width: 40%; /* Maximum width for the image column to not take up too much space initially */\n",
    "    box-sizing: border-box; /* Include padding/border in element's total width/height */\n",
    "}\n",
    "\n",
    ".text-column {\n",
    "    flex: 2; /* Allows this column to grow more (e.g., twice as much as image-column) */\n",
    "    min-width: 300px; /* Minimum width for the text column before stacking */\n",
    "    box-sizing: border-box;\n",
    "}\n",
    "\n",
    "</style>\n",
    "\n",
    "<div class=\"image-text-container\">\n",
    "    <div class=\"image-column\">\n",
    "        <img src=\"/assets/images/2025-07-25-Scala-basics/scala_basics.png\" alt=\"Scala basics\" width=\"150\" height=\"150\">\n",
    "    </div>\n",
    "    <div class=\"text-column\">\n",
    "<p>Explore fundamental Scala programming concepts including its functional and object-oriented nature, immutable variables , mutable variables, type inference, and basic syntax for defining functions and classes. This guide introduces key Scala features for developers familiar with other programming languages looking to understand its core principles and get started with Scala development. Discover the power and expressiveness of Scala through this concise overview of its building blocks.</p>\n",
    "    </div>\n",
    "</div>\n",
    "\n",
    "<!--more-->\n",
    "\n",
    "------\n",
    "\n",
    "* TOC\n",
    "{:toc}\n",
    "------"
   ]
  },
  {
   "cell_type": "code",
   "execution_count": null,
   "id": "4ea0e0a7",
   "metadata": {
    "tags": [
     "remove_output",
     "remove_input"
    ]
   },
   "outputs": [],
   "source": [
    "import $ivy.`org.scalatest::scalatest:3.2.18` // Use the desired ScalaTest version"
   ]
  },
  {
   "cell_type": "markdown",
   "id": "d524dd09",
   "metadata": {},
   "source": [
    "## Introduction\n",
    "\n",
    "```mermaid\n",
    "mindmap\n",
    "    ((Scala))\n",
    "      [\"Regular \n",
    "      Class\"]\n",
    "        [\"Method\"]\n",
    "      [\"Object\"]\n",
    "        [\"Companion \n",
    "        Object\"]\n",
    "          [\"Method\"]\n",
    "        [\"Singleton\"]\n",
    "          [\"Method\"]\n",
    "      [\"Case \n",
    "      Class\"]\n",
    "        [\"Method\"]\n",
    "      [\"Function\"]\n",
    "        [\"lambda\"]\n",
    "      [\"Trait\"]\n",
    "        [\"Method\"]\n",
    "```\n",
    "\n",
    "In Scala, you can everything will be an object:"
   ]
  },
  {
   "cell_type": "code",
   "execution_count": null,
   "id": "acd965f8",
   "metadata": {},
   "outputs": [
    {
     "data": {
      "text/plain": [
       "\u001b[36mres5_0\u001b[39m: \u001b[32mInt\u001b[39m = \u001b[32m3\u001b[39m\n",
       "\u001b[36mres5_1\u001b[39m: \u001b[32mInt\u001b[39m = \u001b[32m3\u001b[39m\n",
       "\u001b[36mres5_2\u001b[39m: \u001b[32mInt\u001b[39m = \u001b[32m4\u001b[39m"
      ]
     },
     "execution_count": 5,
     "metadata": {},
     "output_type": "execute_result"
    }
   ],
   "source": [
    "1 + 2 \n",
    "1.+(2)\n",
    "\n",
    "-4.abs"
   ]
  },
  {
   "cell_type": "markdown",
   "id": "d6bb070b",
   "metadata": {},
   "source": [
    "Scala Primitives: Byte, Short, Int, Long, Float, Double, Char, Boolean have correlation to Java's primitives and *wrapped to give extra functionality* as above last statement.  \n",
    "\n",
    "```mermaid\n",
    "classDiagram\n",
    "    class scala.Any\n",
    "    class scala.AnyVal\n",
    "    class scala.AnyRef\n",
    "    class java.lang.Object\n",
    "\n",
    "    class scala.Byte\n",
    "    class scala.Short\n",
    "    class scala.Int\n",
    "    class scala.Long\n",
    "    class scala.Float\n",
    "    class scala.Double\n",
    "    class scala.Char\n",
    "    class scala.Boolean\n",
    "\n",
    "    scala.Any <|-- scala.AnyVal\n",
    "    scala.Any <|-- scala.AnyRef\n",
    "    java.lang.Object --> scala.AnyRef\n",
    "\n",
    "    scala.AnyVal <|-- scala.Byte\n",
    "    scala.AnyVal <|-- scala.Short\n",
    "    scala.AnyVal <|-- scala.Int\n",
    "    scala.AnyVal <|-- scala.Long\n",
    "    scala.AnyVal <|-- scala.Float\n",
    "    scala.AnyVal <|-- scala.Double\n",
    "    scala.AnyVal <|-- scala.Char\n",
    "    scala.AnyVal <|-- scala.Boolean\n",
    "```\n"
   ]
  },
  {
   "cell_type": "markdown",
   "id": "d606cb10",
   "metadata": {},
   "source": [
    "Otherwise you can use Java library to get the same functionality."
   ]
  },
  {
   "cell_type": "code",
   "execution_count": 4,
   "id": "5d3c57b2",
   "metadata": {},
   "outputs": [
    {
     "data": {
      "text/plain": [
       "\u001b[32mimport \u001b[39m\u001b[36mjava.lang.Math // import Java\n",
       "\u001b[39m\n",
       "\u001b[36mres4_1\u001b[39m: \u001b[32mInt\u001b[39m = \u001b[32m4\u001b[39m"
      ]
     },
     "execution_count": 4,
     "metadata": {},
     "output_type": "execute_result"
    }
   ],
   "source": [
    "import java.lang.Math // import Java\n",
    "Math.abs(-4)"
   ]
  },
  {
   "cell_type": "markdown",
   "id": "43fda831",
   "metadata": {},
   "source": [
    "Scala can manipuation String using\n",
    "- formating\n",
    "- interpolation\n",
    "\n",
    "Here the examples of String mnipulation:"
   ]
  },
  {
   "cell_type": "code",
   "execution_count": 6,
   "id": "886c9778",
   "metadata": {},
   "outputs": [
    {
     "data": {
      "text/plain": [
       "\u001b[32mimport \u001b[39m\u001b[36mjava.time._\u001b[39m\n",
       "\u001b[36mdt\u001b[39m: \u001b[32mLocalDate\u001b[39m = 2025-08-01\n",
       "\u001b[36mres6_2\u001b[39m: \u001b[32mString\u001b[39m = \u001b[32m\"August\"\u001b[39m\n",
       "\u001b[36mres6_3\u001b[39m: \u001b[32mString\u001b[39m = \u001b[32m\"1\"\u001b[39m\n",
       "\u001b[36mres6_4\u001b[39m: \u001b[32mString\u001b[39m = \u001b[32m\"2025\"\u001b[39m"
      ]
     },
     "execution_count": 6,
     "metadata": {},
     "output_type": "execute_result"
    }
   ],
   "source": [
    "import java.time._\n",
    "val dt = LocalDate.now\n",
    "\n",
    "\"%1$tB\".format(dt)\n",
    "\"%1$te\".format(dt)\n",
    "\"%1$tY\".format(dt)"
   ]
  },
  {
   "cell_type": "markdown",
   "id": "6d56d7f2",
   "metadata": {},
   "source": [
    "Interpolation:"
   ]
  },
  {
   "cell_type": "code",
   "execution_count": null,
   "id": "49b56bbe-c190-4741-9ed3-b71f2cfb9201",
   "metadata": {},
   "outputs": [],
   "source": [
    "val a = 99\n",
    "s\"${a+1}\""
   ]
  },
  {
   "cell_type": "markdown",
   "id": "11a72a8f-ad08-4b1d-ad41-d8442b44f8cb",
   "metadata": {},
   "source": [
    "Another example where you need 2 of `%` to show a percentage:"
   ]
  },
  {
   "cell_type": "code",
   "execution_count": 11,
   "id": "12ceb4cb-bb56-459b-b3cc-f15f4c3816fc",
   "metadata": {},
   "outputs": [
    {
     "data": {
      "text/plain": [
       "\u001b[36mperInc\u001b[39m: \u001b[32mInt\u001b[39m = \u001b[32m10\u001b[39m\n",
       "\u001b[36mprice\u001b[39m: \u001b[32mDouble\u001b[39m = \u001b[32m10.24\u001b[39m\n",
       "\u001b[36mres10_2\u001b[39m: \u001b[32mString\u001b[39m = \u001b[32m\"The show ticket price is 10.24 increased by 10%\"\u001b[39m"
      ]
     },
     "execution_count": 11,
     "metadata": {},
     "output_type": "execute_result"
    }
   ],
   "source": [
    "val perInc = 10\n",
    "val price = 10.24\n",
    "f\"The show ticket price is $price%2.2f increased by $perInc%%\" "
   ]
  },
  {
   "cell_type": "markdown",
   "id": "9b47566e",
   "metadata": {},
   "source": [
    "In Scala, `val` is used to declare a constant value. Once assigned, the value cannot be changed or reassigned. This ensures immutability, making code safer and easier to reason about. Using `val` is recommended when you do not need to modify the variable after its initial assignment.\n",
    "\n",
    "> It is generally recommended to use `val` for immutability unless you specifically need to update the variable's value.\n",
    "{:.green}\n",
    "\n",
    "One of the unusual way but possible to specify the type:"
   ]
  },
  {
   "cell_type": "code",
   "execution_count": 2,
   "id": "71ff95a3",
   "metadata": {},
   "outputs": [
    {
     "data": {
      "text/plain": [
       "\u001b[36ma\u001b[39m: \u001b[32mByte\u001b[39m = \u001b[32m100\u001b[39m"
      ]
     },
     "execution_count": 2,
     "metadata": {},
     "output_type": "execute_result"
    }
   ],
   "source": [
    "val a = 100:Byte"
   ]
  },
  {
   "cell_type": "markdown",
   "id": "dd7c0fe0",
   "metadata": {},
   "source": [
    "In Scala, `var` is used to declare a mutable variable. This means the value assigned to a `var` can be changed or reassigned throughout the program. \n",
    "\n",
    "> ⚠️ While `var` offers flexibility, it can lead to code that is harder to maintain and reason about, especially in concurrent or complex applications. \n",
    "{:.yellow}"
   ]
  },
  {
   "cell_type": "code",
   "execution_count": 5,
   "id": "8486664e",
   "metadata": {},
   "outputs": [
    {
     "data": {
      "text/html": [
       "<div class=\"jp-RenderedText\">\n",
       "<pre><code><span style=\"color: rgb(0, 187, 187)\"><span class=\"ansi-cyan-fg\">b</span></span>: <span style=\"color: rgb(0, 187, 0)\"><span class=\"ansi-green-fg\">Int</span></span> = <span style=\"color: rgb(0, 187, 0)\"><span class=\"ansi-green-fg\">300</span></span></code></pre>\n",
       "</div>"
      ],
      "text/plain": [
       "\u001b[36mb\u001b[39m: \u001b[32mInt\u001b[39m = \u001b[32m300\u001b[39m"
      ]
     },
     "metadata": {},
     "output_type": "display_data"
    }
   ],
   "source": [
    "var b = 200\n",
    "b = 300"
   ]
  },
  {
   "cell_type": "markdown",
   "id": "43feb099",
   "metadata": {},
   "source": [
    "### Operators\n",
    "\n",
    "Typical `while` loop is:"
   ]
  },
  {
   "cell_type": "code",
   "execution_count": 1,
   "id": "4e73be56",
   "metadata": {},
   "outputs": [
    {
     "data": {
      "text/plain": [
       "\u001b[36ma\u001b[39m: \u001b[32mInt\u001b[39m = \u001b[32m0\u001b[39m\n",
       "\u001b[36mtot\u001b[39m: \u001b[32mInt\u001b[39m = \u001b[32m5050\u001b[39m"
      ]
     },
     "execution_count": 1,
     "metadata": {},
     "output_type": "execute_result"
    }
   ],
   "source": [
    "var a = 100\n",
    "var tot = 0\n",
    "while (a > 0){\n",
    "    tot += a\n",
    "    a -= 1\n",
    "}"
   ]
  },
  {
   "cell_type": "markdown",
   "id": "335f531b",
   "metadata": {},
   "source": [
    "Same thing you can write as"
   ]
  },
  {
   "cell_type": "code",
   "execution_count": 8,
   "id": "3fd744a8",
   "metadata": {},
   "outputs": [
    {
     "data": {
      "text/plain": [
       "\u001b[36mres8\u001b[39m: \u001b[32mInt\u001b[39m = \u001b[32m5050\u001b[39m"
      ]
     },
     "execution_count": 8,
     "metadata": {},
     "output_type": "execute_result"
    }
   ],
   "source": [
    "(1 to 100).sum"
   ]
  },
  {
   "cell_type": "markdown",
   "id": "9b392dfc",
   "metadata": {},
   "source": [
    "In Scala, `for-comprehensions` more flavorable than `for` loop. The `yield` is a keyword used in `for-comprehensions` to transform and collect results from iterations. When you use `yield` in a for-comprehension, it creates a new collection containing the transformed elements.\n",
    "\n",
    "> You can use guards (if conditions), multiple generators, and variable definitions within the for-comprehension"
   ]
  },
  {
   "cell_type": "code",
   "execution_count": 26,
   "id": "f6a6cd4f",
   "metadata": {},
   "outputs": [
    {
     "data": {
      "text/plain": [
       "\u001b[36mres25\u001b[39m: \u001b[32mIndexedSeq\u001b[39m[\u001b[32mInt\u001b[39m] = \u001b[33mVector\u001b[39m(\u001b[32m1\u001b[39m, \u001b[32m2\u001b[39m, \u001b[32m3\u001b[39m, \u001b[32m4\u001b[39m, \u001b[32m5\u001b[39m)"
      ]
     },
     "execution_count": 26,
     "metadata": {},
     "output_type": "execute_result"
    }
   ],
   "source": [
    "for (i <- (1 to 5)) yield i"
   ]
  },
  {
   "cell_type": "markdown",
   "id": "25b5cc02",
   "metadata": {},
   "source": [
    "## Scala Type Inference\n",
    "\n",
    "Scala features a powerful type inference system that allows the compiler to automatically deduce the type of a variable or expression based on its value. This means you often do not need to explicitly specify types, making code more concise and readable.\n",
    "\n",
    "Type inference works for variables, function return types, and more. However, for complex cases or public APIs, explicitly specifying types can improve code clarity and maintainability.\n",
    "\n",
    "> Type inference reduces boilerplate but does not compromise type safety. The compiler ensures that types are correct at compile time.\n",
    "{:.green}\n",
    "\n",
    "For example:"
   ]
  },
  {
   "cell_type": "code",
   "execution_count": 1,
   "id": "3ac46462",
   "metadata": {},
   "outputs": [
    {
     "data": {
      "text/plain": [
       "\u001b[36mx\u001b[39m: \u001b[32mInt\u001b[39m = \u001b[32m42\u001b[39m\n",
       "\u001b[36mname\u001b[39m: \u001b[32mString\u001b[39m = \u001b[32m\"Scala\"\u001b[39m"
      ]
     },
     "execution_count": 1,
     "metadata": {},
     "output_type": "execute_result"
    }
   ],
   "source": [
    "val x = 42        // Compiler infers x: Int\n",
    "val name = \"Scala\" // Compiler infers name: String"
   ]
  },
  {
   "cell_type": "markdown",
   "id": "d5a49627-2c6c-4e14-a3ed-0b340323cd96",
   "metadata": {},
   "source": [
    "In the following example, *type inferance will be failed*:"
   ]
  },
  {
   "cell_type": "code",
   "execution_count": 4,
   "id": "da8e3392-0aa1-4ae4-850b-54636b8e0813",
   "metadata": {},
   "outputs": [
    {
     "data": {
      "text/plain": [
       "defined \u001b[32mfunction\u001b[39m \u001b[36madd\u001b[39m\n",
       "defined \u001b[32mfunction\u001b[39m \u001b[36msubstract\u001b[39m"
      ]
     },
     "execution_count": 4,
     "metadata": {},
     "output_type": "execute_result"
    }
   ],
   "source": [
    "def add(x:Int, y:Int) = x + y\n",
    "def substract(x:Double, y:Double) = x - y"
   ]
  },
  {
   "cell_type": "code",
   "execution_count": 4,
   "id": "d1a7f39b-ce81-4b3b-a8b0-f8317519d139",
   "metadata": {},
   "outputs": [
    {
     "name": "stderr",
     "output_type": "stream",
     "text": [
      "cmd4.sc:1: type mismatch;\n",
      " found   : Double\n",
      " required: Int\n",
      "val res4 = add(substract(2.4,1.4), substract(4.0,3.1))\n",
      "                        ^cmd4.sc:1: type mismatch;\n",
      " found   : Double\n",
      " required: Int\n",
      "val res4 = add(substract(2.4,1.4), substract(4.0,3.1))\n",
      "                                            ^Compilation Failed"
     ]
    },
    {
     "ename": "",
     "evalue": "",
     "output_type": "error",
     "traceback": [
      "Compilation Failed"
     ]
    }
   ],
   "source": [
    "add(substract(2.4,1.4), substract(4.0,3.1))"
   ]
  },
  {
   "cell_type": "markdown",
   "id": "d37535ff-8491-42e5-bdad-316797ec04f3",
   "metadata": {},
   "source": [
    "Possible solution is casting Double to Int which will truncate as well."
   ]
  },
  {
   "cell_type": "code",
   "execution_count": 5,
   "id": "4885a8d1-7876-41af-a10e-5711b789fab8",
   "metadata": {},
   "outputs": [
    {
     "data": {
      "text/plain": [
       "\u001b[36mres4\u001b[39m: \u001b[32mInt\u001b[39m = \u001b[32m1\u001b[39m"
      ]
     },
     "execution_count": 5,
     "metadata": {},
     "output_type": "execute_result"
    }
   ],
   "source": [
    "add(substract(2.4,1.4).toInt, substract(4.0,3.1).toInt) // ✅"
   ]
  },
  {
   "cell_type": "markdown",
   "id": "ceecaf27-5d54-4bda-855b-f6b46990ca95",
   "metadata": {},
   "source": [
    "You must be carefull with turncation because you may get unexpected overflows as follows "
   ]
  },
  {
   "cell_type": "code",
   "execution_count": 6,
   "id": "555d1616-b876-4adc-b4d4-eb4d0a00b66a",
   "metadata": {},
   "outputs": [
    {
     "data": {
      "text/plain": [
       "\u001b[36mmyDoubleVal\u001b[39m: \u001b[32mDouble\u001b[39m = \u001b[32m2.03949567845869389E18\u001b[39m"
      ]
     },
     "execution_count": 6,
     "metadata": {},
     "output_type": "execute_result"
    }
   ],
   "source": [
    "val myDoubleVal = 2039495678458693969.2356"
   ]
  },
  {
   "cell_type": "markdown",
   "id": "e0424d7c-86fb-426f-95ab-c47074f7101a",
   "metadata": {},
   "source": [
    "turncate the above"
   ]
  },
  {
   "cell_type": "code",
   "execution_count": 7,
   "id": "5c3391b0-642c-48f1-acbc-d46a1496fc66",
   "metadata": {},
   "outputs": [
    {
     "data": {
      "text/plain": [
       "\u001b[36mmyLongVal\u001b[39m: \u001b[32mLong\u001b[39m = \u001b[32m2039495678458693888L\u001b[39m"
      ]
     },
     "execution_count": 7,
     "metadata": {},
     "output_type": "execute_result"
    }
   ],
   "source": [
    "val myLongVal= myDoubleVal.round"
   ]
  },
  {
   "cell_type": "markdown",
   "id": "240297ec-a2f1-415f-8d48-34978bd62b8b",
   "metadata": {},
   "source": [
    "If you cast this to Int, you get an <span>overflow problem as follows, which is entirely unexpected</span>{:rtxt}."
   ]
  },
  {
   "cell_type": "code",
   "execution_count": 8,
   "id": "64c46b10-f0d6-442a-a3be-2e13463d3089",
   "metadata": {},
   "outputs": [
    {
     "data": {
      "text/plain": [
       "\u001b[36mres7\u001b[39m: \u001b[32mInt\u001b[39m = \u001b[32m-1954969344\u001b[39m"
      ]
     },
     "execution_count": 8,
     "metadata": {},
     "output_type": "execute_result"
    }
   ],
   "source": [
    "myLongVal.toInt // ❌"
   ]
  },
  {
   "cell_type": "markdown",
   "id": "3ed79197-4de0-4c1a-82d8-f66f891dbf0f",
   "metadata": {},
   "source": [
    "Let's find the method signature of the follwowing `add` function:"
   ]
  },
  {
   "cell_type": "code",
   "execution_count": 10,
   "id": "fc1cfdbc-1b27-4919-9c59-2271c0ba73c6",
   "metadata": {},
   "outputs": [
    {
     "name": "stdout",
     "output_type": "stream",
     "text": [
      "(Int, Int) => Any\n"
     ]
    },
    {
     "data": {
      "text/plain": [
       "defined \u001b[32mfunction\u001b[39m \u001b[36madd\u001b[39m"
      ]
     },
     "execution_count": 10,
     "metadata": {},
     "output_type": "execute_result"
    }
   ],
   "source": [
    "def add(x:Int, y:Int) = {\n",
    "    if (x > 10) f\"$x + $y\"\n",
    "    else x+y\n",
    "}\n",
    "println(typeOf(add _))"
   ]
  },
  {
   "cell_type": "markdown",
   "id": "3b42071f-e4c3-4266-94ae-708dd995198f",
   "metadata": {},
   "source": [
    "> As shown above, the return type is `Any`. Funny example of the following function missing the `=` sign, which always returns `Unit`. This function call is considered to be a procedural call in Scala. \n",
    "{:.yellow}"
   ]
  },
  {
   "cell_type": "code",
   "execution_count": 27,
   "id": "7a7243e1-d1c4-4ca8-9e79-528325109476",
   "metadata": {},
   "outputs": [
    {
     "name": "stdout",
     "output_type": "stream",
     "text": [
      "(Int, Int) => Unit\n"
     ]
    },
    {
     "data": {
      "text/plain": [
       "defined \u001b[32mfunction\u001b[39m \u001b[36madd\u001b[39m"
      ]
     },
     "execution_count": 27,
     "metadata": {},
     "output_type": "execute_result"
    }
   ],
   "source": [
    "def add(x:Int, y:Int) {\n",
    "    if (x > 10) print(x + y) // side effect 👎\n",
    "    else x+y\n",
    "}\n",
    "println(typeOf(add _))"
   ]
  },
  {
   "cell_type": "markdown",
   "id": "bce8fa92-613c-4d4e-a869-749108b5e5e2",
   "metadata": {},
   "source": [
    "The above code has *side effects*{:rtxt}, which is not a good approach in functional programming. For example"
   ]
  },
  {
   "cell_type": "code",
   "execution_count": 26,
   "id": "0acc8559-1de2-45ba-9587-388585b3c4f7",
   "metadata": {},
   "outputs": [
    {
     "name": "stdout",
     "output_type": "stream",
     "text": [
      "13"
     ]
    }
   ],
   "source": [
    "add(11,2)"
   ]
  },
  {
   "cell_type": "markdown",
   "id": "058b0ec7",
   "metadata": {},
   "source": [
    "## What is `lazy val` in Scala?\n",
    "The  **forward referencing** refers to the ability to reference definitions (variables, methods, classes, etc.) that are declared later in the source code, before they are actually defined. You can reference methods and fields that are defined later in the same class or trait. \n",
    "\n",
    "Use `lazy` val when forward referencing with values to avoid initialization order issues. \n",
    "\n",
    "In Scala, a `lazy val` is a value that is not initialized until it is accessed for the first time. This is known as **lazy initialization**. When you declare a variable as `lazy`, its expression is not evaluated until it is needed, which can improve performance and resource usage, especially for expensive computations or I/O operations.\n",
    "\n",
    "**Key points:**\n",
    "- The value is computed only once, upon first access.\n",
    "- Subsequent accesses return the cached result.\n",
    "- Useful for deferring costly operations until absolutely necessary.\n",
    "\n",
    "> `lazy val` helps optimize resource usage and can prevent unnecessary computations, but should be used with care in concurrent contexts.\n",
    "{:.green}\n",
    "\n",
    "Example:"
   ]
  },
  {
   "cell_type": "code",
   "execution_count": 56,
   "id": "2948946c",
   "metadata": {},
   "outputs": [
    {
     "name": "stdout",
     "output_type": "stream",
     "text": [
      "Before accessing lazy val\n",
      "Computing...\n",
      "42\n",
      "After accessing lazy val\n",
      "42\n"
     ]
    },
    {
     "data": {
      "text/html": [
       "<div class=\"jp-RenderedText\">\n",
       "<pre><code><span style=\"color: rgb(0, 187, 187)\"><span class=\"ansi-cyan-fg\">expensiveComputation</span></span>: <span style=\"color: rgb(0, 187, 0)\"><span class=\"ansi-green-fg\">Int</span></span> = <span style=\"color: white\"><span class=\"ansi-white-fg\">[lazy]</span></span></code></pre>\n",
       "</div>"
      ],
      "text/plain": [
       "\u001b[36mexpensiveComputation\u001b[39m: \u001b[32mInt\u001b[39m = \u001b[37m[lazy]\u001b[39m"
      ]
     },
     "metadata": {},
     "output_type": "display_data"
    }
   ],
   "source": [
    "lazy val expensiveComputation = {\n",
    "    println(\"Computing...\")\n",
    "    42\n",
    "}\n",
    "\n",
    "println(\"Before accessing lazy val\")\n",
    "println(expensiveComputation) // Triggers computation\n",
    "println(\"After accessing lazy val\")\n",
    "println(expensiveComputation) // Uses cached value"
   ]
  },
  {
   "cell_type": "markdown",
   "id": "1a1711b9-8532-40da-9fac-fbcb95cea142",
   "metadata": {},
   "source": [
    "## Scala methods and functions\n",
    "A method belongs to a context, but a function is not.\n",
    "Here is the basic method\n"
   ]
  },
  {
   "cell_type": "code",
   "execution_count": 28,
   "id": "bed444ca-c68d-4df6-b8e0-18d9a87dcf2b",
   "metadata": {},
   "outputs": [
    {
     "data": {
      "text/plain": [
       "defined \u001b[32mfunction\u001b[39m \u001b[36madd\u001b[39m"
      ]
     },
     "execution_count": 28,
     "metadata": {},
     "output_type": "execute_result"
    }
   ],
   "source": [
    "def add (x:Int, y:Int) =  x + y"
   ]
  },
  {
   "cell_type": "markdown",
   "id": "65798304-0dbe-4966-87fd-f6773680fb22",
   "metadata": {},
   "source": [
    "You can use this function to add two values as follows:"
   ]
  },
  {
   "cell_type": "code",
   "execution_count": 7,
   "id": "213e0a56-94a7-436d-944a-f55976c8f10f",
   "metadata": {},
   "outputs": [
    {
     "data": {
      "text/plain": [
       "\u001b[36mres6\u001b[39m: \u001b[32mInt\u001b[39m = \u001b[32m3\u001b[39m"
      ]
     },
     "execution_count": 7,
     "metadata": {},
     "output_type": "execute_result"
    }
   ],
   "source": [
    "add(1,2)"
   ]
  },
  {
   "cell_type": "markdown",
   "id": "2955a133-627c-491c-ae27-8a0f32be4b9f",
   "metadata": {},
   "source": [
    "### Operator overload\n",
    "Operators are used as methods in operator overloading. For example, for the `3 + 4`:"
   ]
  },
  {
   "cell_type": "code",
   "execution_count": 8,
   "id": "7af53723-bf26-461e-9e7c-9901f33a0716",
   "metadata": {},
   "outputs": [
    {
     "data": {
      "text/plain": [
       "\u001b[36mres7_0\u001b[39m: \u001b[32mInt\u001b[39m = \u001b[32m7\u001b[39m\n",
       "\u001b[36mres7_1\u001b[39m: \u001b[32mFloat\u001b[39m = \u001b[32m7.3F\u001b[39m"
      ]
     },
     "execution_count": 8,
     "metadata": {},
     "output_type": "execute_result"
    }
   ],
   "source": [
    "3.+(4)\n",
    "3.0f.+(4f)"
   ]
  },
  {
   "cell_type": "markdown",
   "id": "3b311285-af74-4070-a300-32bfd057e0f8",
   "metadata": {},
   "source": [
    "### Method overload\n",
    "Method name is reused in different types of parameters. For example `num(n:Int)` method is different from the `num(n:Double)`."
   ]
  },
  {
   "cell_type": "code",
   "execution_count": 17,
   "id": "b8aaf087-2fb2-4023-9e45-90434984f006",
   "metadata": {},
   "outputs": [
    {
     "data": {
      "text/plain": [
       "defined \u001b[32mfunction\u001b[39m \u001b[36mnum\u001b[39m\n",
       "defined \u001b[32mfunction\u001b[39m \u001b[36mnum\u001b[39m\n",
       "\u001b[36mres16_2\u001b[39m: \u001b[32mString\u001b[39m = \u001b[32m\"Int numb is 2\"\u001b[39m\n",
       "\u001b[36mres16_3\u001b[39m: \u001b[32mString\u001b[39m = \u001b[32m\"Double numb is 2.2\"\u001b[39m"
      ]
     },
     "execution_count": 17,
     "metadata": {},
     "output_type": "execute_result"
    }
   ],
   "source": [
    "def num(n:Int):String = f\"Int numb is $n\"\n",
    "def num(n:Double):String = f\"Double numb is $n\"\n",
    "num(2)\n",
    "num(2.2)"
   ]
  },
  {
   "cell_type": "markdown",
   "id": "811d5448-3463-4bdb-9263-0ea0948e3b55",
   "metadata": {},
   "source": [
    "Method overload is part of the method signature and does not include the return type."
   ]
  },
  {
   "cell_type": "code",
   "execution_count": 17,
   "id": "16afc4a9-2d5b-42f6-a1db-fb5ae7bd389e",
   "metadata": {},
   "outputs": [
    {
     "name": "stderr",
     "output_type": "stream",
     "text": [
      "cmd17.sc:2: method num is defined twice;\n",
      "  the conflicting method num was defined at line 181:5 of 'cmd17.sc'\n",
      "def num(n:Int):Int = n + 1\n",
      "    ^Compilation Failed"
     ]
    },
    {
     "ename": "",
     "evalue": "",
     "output_type": "error",
     "traceback": [
      "Compilation Failed"
     ]
    }
   ],
   "source": [
    "def num(n:Int):String = f\"Int numb is $n\"\n",
    "def num(n:Int):Int = n + 1"
   ]
  },
  {
   "cell_type": "markdown",
   "id": "e92cf3c3-3ec6-4507-b5cb-25db26924f37",
   "metadata": {},
   "source": [
    "However, in the following method, you can pass Int instead of BigInt because\n"
   ]
  },
  {
   "cell_type": "code",
   "execution_count": 33,
   "id": "fa392ad6-98fd-4712-b851-89576b80c4a7",
   "metadata": {},
   "outputs": [
    {
     "data": {
      "text/plain": [
       "defined \u001b[32mfunction\u001b[39m \u001b[36mnum\u001b[39m\n",
       "\u001b[36ma\u001b[39m: \u001b[32mCharSequence\u001b[39m = \u001b[32m\"2\"\u001b[39m\n",
       "\u001b[36mres32_2\u001b[39m: \u001b[32mString\u001b[39m = \u001b[32m\"value is 2\"\u001b[39m\n",
       "\u001b[36mb\u001b[39m: \u001b[32mString\u001b[39m = \u001b[32m\"3\"\u001b[39m\n",
       "\u001b[36mres32_4\u001b[39m: \u001b[32mString\u001b[39m = \u001b[32m\"value is 3\"\u001b[39m"
      ]
     },
     "execution_count": 33,
     "metadata": {},
     "output_type": "execute_result"
    }
   ],
   "source": [
    "def num(n:CharSequence) = f\"value is $n\"\n",
    "val a:CharSequence = \"2\"\n",
    "num(a)\n",
    "val b:String = \"3\"\n",
    "num(b)"
   ]
  },
  {
   "cell_type": "markdown",
   "id": "6882a855-dff4-438c-9084-d72334a92245",
   "metadata": {},
   "source": [
    "```mermaid\n",
    "classDiagram\n",
    "    class scala.Any\n",
    "    class scala.AnyVal\n",
    "    class scala.AnyRef\n",
    "    class java.lang.Object\n",
    "\n",
    "    scala.Any <|-- scala.AnyVal\n",
    "    scala.Any <|-- scala.AnyRef\n",
    "    java.lang.Object --> scala.AnyRef\n",
    "\n",
    "    scala.AnyRef <|-- java.lang.CharSequence\n",
    "    java.lang.CharSequence <|-- java.lang.String\n",
    "\n",
    "```\n",
    "\n",
    "You can substitute `String` with `CharSequence` as shown in the above diagram `String` is a subclass of `CharSequence`."
   ]
  },
  {
   "cell_type": "code",
   "execution_count": 30,
   "id": "002f03b7-f8fd-4622-96ae-9be4b233ae8a",
   "metadata": {},
   "outputs": [
    {
     "data": {
      "text/plain": [
       "\u001b[36mres29_0\u001b[39m: \u001b[32mBoolean\u001b[39m = \u001b[32mtrue\u001b[39m\n",
       "\u001b[36mres29_1\u001b[39m: \u001b[32mBoolean\u001b[39m = \u001b[32mtrue\u001b[39m"
      ]
     },
     "execution_count": 30,
     "metadata": {},
     "output_type": "execute_result"
    }
   ],
   "source": [
    "\"3\".isInstanceOf[String]\n",
    "\"3\".isInstanceOf[CharSequence]"
   ]
  },
  {
   "cell_type": "markdown",
   "id": "9f8a821d-5ff7-4afd-b06a-d49313580dd8",
   "metadata": {},
   "source": [
    "But you cannot do other way around:"
   ]
  },
  {
   "cell_type": "code",
   "execution_count": 33,
   "id": "c3d0aa2f-a466-4d92-9d26-023c33802bbc",
   "metadata": {},
   "outputs": [
    {
     "name": "stderr",
     "output_type": "stream",
     "text": [
      "cmd33.sc:3: type mismatch;\n",
      " found   : CharSequence\n",
      " required: String\n",
      "val res33_2 = num(a)\n",
      "                  ^Compilation Failed"
     ]
    },
    {
     "ename": "",
     "evalue": "",
     "output_type": "error",
     "traceback": [
      "Compilation Failed"
     ]
    }
   ],
   "source": [
    "def num(n:String) = f\"value is $n\"\n",
    "val a:CharSequence = \"2\"\n",
    "num(a)\n",
    "val b:String = \"3\"\n",
    "num(b)"
   ]
  },
  {
   "cell_type": "markdown",
   "id": "c0371307-444d-474e-86f1-9a7eb62e7efb",
   "metadata": {},
   "source": [
    "Otherwise, you have to do explicit casting to the `CharSequence` to the `String` using `asInstanceOf`:"
   ]
  },
  {
   "cell_type": "code",
   "execution_count": 34,
   "id": "9f3cdf06-497a-433b-b57f-31b330367793",
   "metadata": {},
   "outputs": [
    {
     "data": {
      "text/plain": [
       "\u001b[36mres33\u001b[39m: \u001b[32mString\u001b[39m = \u001b[32m\"value is 2\"\u001b[39m"
      ]
     },
     "execution_count": 34,
     "metadata": {},
     "output_type": "execute_result"
    }
   ],
   "source": [
    "num(a.asInstanceOf[String])"
   ]
  },
  {
   "cell_type": "markdown",
   "id": "c6b3993f-6c1e-4276-8d0a-a7ea6543538a",
   "metadata": {},
   "source": [
    "You can use parameterised types on methods to maintain type consistency and avoid explicit casting:"
   ]
  },
  {
   "cell_type": "code",
   "execution_count": 39,
   "id": "7a6233e6-a76d-4b84-9f94-eb5b68336281",
   "metadata": {},
   "outputs": [
    {
     "data": {
      "text/plain": [
       "defined \u001b[32mfunction\u001b[39m \u001b[36mnum\u001b[39m\n",
       "\u001b[36mres38_1\u001b[39m: \u001b[32mString\u001b[39m = \u001b[32m\"value is 2\"\u001b[39m\n",
       "\u001b[36mres38_2\u001b[39m: \u001b[32mString\u001b[39m = \u001b[32m\"value is 2\"\u001b[39m\n",
       "\u001b[36mres38_3\u001b[39m: \u001b[32mString\u001b[39m = \u001b[32m\"value is 2\"\u001b[39m"
      ]
     },
     "execution_count": 39,
     "metadata": {},
     "output_type": "execute_result"
    }
   ],
   "source": [
    "def num[T](n:T) = f\"value is $n\"\n",
    "num(2)\n",
    "num(2:BigInt)\n",
    "num(\"2\")"
   ]
  },
  {
   "cell_type": "markdown",
   "id": "223687a9",
   "metadata": {},
   "source": [
    "## Classes and Case Classes\n",
    "\n",
    "Classes in Scala are blueprints for creating objects, requiring manual definition of fields and methods like `toString`, `equals`, and `hashCode`. \n",
    "\n",
    "Case classes automate these tasks, providing built-in implementations and immutability by default. Unlike regular classes, case classes cannot be extended."
   ]
  },
  {
   "cell_type": "code",
   "execution_count": 8,
   "id": "43697490",
   "metadata": {},
   "outputs": [
    {
     "data": {
      "text/plain": [
       "defined \u001b[32mclass\u001b[39m \u001b[36mPerson\u001b[39m\n",
       "\u001b[36mperson\u001b[39m: \u001b[32mPerson\u001b[39m = ammonite.$sess.cmd7$Helper$Person@7e1e69f2\n",
       "\u001b[36mres7_2\u001b[39m: \u001b[32mString\u001b[39m = \u001b[32m\"Alice\"\u001b[39m\n",
       "\u001b[36mres7_4\u001b[39m: \u001b[32mInt\u001b[39m = \u001b[32m31\u001b[39m"
      ]
     },
     "execution_count": 8,
     "metadata": {},
     "output_type": "execute_result"
    }
   ],
   "source": [
    "class Person(val name: String, var age: Int)\n",
    "val person = new Person(\"Alice\", 30)\n",
    "\n",
    "person.name // Accessing field\n",
    "person.age = 31 // Modifying mutable field\n",
    "person.age  // Accessing mutable field"
   ]
  },
  {
   "cell_type": "markdown",
   "id": "61e02103-50a6-486f-a5f5-e05b23a9f9d4",
   "metadata": {},
   "source": [
    "In the above class, you can directly access the properties of the class using the same syntax, which is called UAP[^1].\n",
    "\n",
    "> The Uniform Access Principle (UAP) is a programming language design principle that states: clients of a module should not be affected by whether a feature is implemented as a field or a method.\n",
    "{:.info-box}\n",
    "\n",
    "In the above class, the primary constructor is directly defined in the class signature. **Auxiliary** constructors are additional constructors defined with `def this(...)`:"
   ]
  },
  {
   "cell_type": "code",
   "execution_count": 16,
   "id": "f45e8078-f932-4d94-8e34-c60d9837f519",
   "metadata": {},
   "outputs": [
    {
     "data": {
      "text/plain": [
       "defined \u001b[32mclass\u001b[39m \u001b[36mPerson\u001b[39m\n",
       "\u001b[36mp1\u001b[39m: \u001b[32mPerson\u001b[39m = ammonite.$sess.cmd15$Helper$Person@4883fea4\n",
       "\u001b[36mp2\u001b[39m: \u001b[32mPerson\u001b[39m = ammonite.$sess.cmd15$Helper$Person@413af778\n",
       "\u001b[36mp3\u001b[39m: \u001b[32mPerson\u001b[39m = ammonite.$sess.cmd15$Helper$Person@4c07283f"
      ]
     },
     "execution_count": 16,
     "metadata": {},
     "output_type": "execute_result"
    }
   ],
   "source": [
    "class Person(val name: String, var age: Int) {\n",
    "  \n",
    "  // Auxiliary constructor with just name (age defaults to 0)\n",
    "  def this(name: String) = {\n",
    "    this(name, 0)  // MUST call primary constructor first\n",
    "  }\n",
    "  \n",
    "  // Another auxiliary constructor with no parameters\n",
    "  def this() = {\n",
    "    this(\"Unknown\", 0)  // MUST call another constructor\n",
    "  }\n",
    "}\n",
    "\n",
    "val p1 = new Person(\"Alice\", 30)     // Primary constructor\n",
    "val p2 = new Person(\"Bob\")           // Auxiliary constructor\n",
    "val p3 = new Person()                // Another auxiliary constructor"
   ]
  },
  {
   "cell_type": "markdown",
   "id": "d015bb74-92e9-45d4-8269-d3de94290ab4",
   "metadata": {},
   "source": [
    "Every auxiliary constructor must call another constructor (primary or auxiliary) as its first action.\n",
    "\n",
    "| Feature | Primary Constructor | Auxiliary Constructor |\n",
    "|---------|-------------------|---------------------|\n",
    "| **Definition** | In class signature | With `def this(...)` |\n",
    "| **Number** | Exactly one | Zero or more |\n",
    "| **First line** | Can do anything | **Must** call another constructor |\n",
    "| **Class body** | Executes entire body | Only executes its own code |"
   ]
  },
  {
   "cell_type": "markdown",
   "id": "5c19d6ff",
   "metadata": {},
   "source": [
    "### Standard `toString`\n",
    "\n",
    "If you want to avoid the random unkown value at line #2 in the above output. You have to implement the `toString` method."
   ]
  },
  {
   "cell_type": "code",
   "execution_count": 28,
   "id": "29d42af0",
   "metadata": {},
   "outputs": [
    {
     "name": "stdout",
     "output_type": "stream",
     "text": [
      "Cont. ...\n"
     ]
    },
    {
     "data": {
      "text/plain": [
       "defined \u001b[32mclass\u001b[39m \u001b[36mPerson\u001b[39m\n",
       "\u001b[36mres27_1\u001b[39m: \u001b[32mAny\u001b[39m = ()"
      ]
     },
     "execution_count": 28,
     "metadata": {},
     "output_type": "execute_result"
    }
   ],
   "source": [
    "class Person(val name: String, var age: Int=0){\n",
    "    require(name.nonEmpty, \"Name cannot be empty\")\n",
    "    require(age > 0 && age < 160, \"Age cannot be zero or more than 160\")\n",
    "    \n",
    "    override def toString: String = s\"Person(name=$name, age=$age)\"\n",
    "}\n",
    "try {\n",
    "    val person = new Person(\"Alice\", 30)\n",
    "} catch {\n",
    "    case e: IllegalArgumentException => e.getMessage\n",
    "} finally {\n",
    "    println(\"Cont. ...\")\n",
    "}"
   ]
  },
  {
   "cell_type": "markdown",
   "id": "fe763fa2",
   "metadata": {},
   "source": [
    "> All Scala exceptions are runtime exceptions and no checked Exceptions as in Java.\n",
    "{:.green}\n",
    "\n",
    "### equals\n",
    "\n",
    "How to compare instances of the Person class? Object equality not the reference equality.\n",
    "\n",
    "For that, you have to override the `equals` method.\n",
    "\n",
    "> Unfortunately, you can't override the standard `equals` method using an implicit conversion. The compiler won't apply an implicit to provide a method that a class already has, and every class in Scala inherits an `equals` method from `AnyRef`.\n",
    "{:.yellow}\n",
    "\n",
    "The simple version of equal is"
   ]
  },
  {
   "cell_type": "code",
   "execution_count": 1,
   "id": "a4e29cad-9844-42f4-8b2a-c403383d1023",
   "metadata": {},
   "outputs": [
    {
     "data": {
      "text/plain": [
       "defined \u001b[32mclass\u001b[39m \u001b[36mPerson\u001b[39m"
      ]
     },
     "execution_count": 1,
     "metadata": {},
     "output_type": "execute_result"
    }
   ],
   "source": [
    "class Person(val name: String, var age: Int){\n",
    "    \n",
    "    override def toString: String = s\"Person(name=$name,age=$age)\"\n",
    "    \n",
    "    override def equals(x: Any): Boolean = {\n",
    "        if (!x.isInstanceOf[Person]) false\n",
    "        else {\n",
    "            val other = x.asInstanceOf[Person]\n",
    "            other.name.equals(this.name) && other.age.equals(this.age)\n",
    "        }\n",
    "    }\n",
    "    \n",
    "}"
   ]
  },
  {
   "cell_type": "markdown",
   "id": "f7ba05bb-53e4-48a7-85f2-476dcbd8ebbc",
   "metadata": {},
   "source": [
    "Let's test the above:"
   ]
  },
  {
   "cell_type": "code",
   "execution_count": 3,
   "id": "e5dfa213-b762-403d-b7ec-ad1daa87aea9",
   "metadata": {},
   "outputs": [
    {
     "data": {
      "text/plain": [
       "\u001b[36mp1\u001b[39m: \u001b[32mPerson\u001b[39m = Person(name=Alice,age=30)\n",
       "\u001b[36mp2\u001b[39m: \u001b[32mPerson\u001b[39m = Person(name=Alice,age=30)\n",
       "\u001b[36mp3\u001b[39m: \u001b[32mPerson\u001b[39m = Person(name=Bob,age=25)\n",
       "\u001b[36mres2_3\u001b[39m: \u001b[32mBoolean\u001b[39m = \u001b[32mtrue\u001b[39m\n",
       "\u001b[36mres2_4\u001b[39m: \u001b[32mBoolean\u001b[39m = \u001b[32mfalse\u001b[39m"
      ]
     },
     "execution_count": 3,
     "metadata": {},
     "output_type": "execute_result"
    }
   ],
   "source": [
    "val p1 = new Person(\"Alice\", 30)\n",
    "val p2 = new Person(\"Alice\", 30)\n",
    "val p3 = new Person(\"Bob\", 25)\n",
    "\n",
    "p1.equals(p2)\n",
    "p1.equals(p3)"
   ]
  },
  {
   "cell_type": "markdown",
   "id": "f9ed9da5-6ea4-4932-a598-7c69c47a5139",
   "metadata": {},
   "source": [
    "Or"
   ]
  },
  {
   "cell_type": "code",
   "execution_count": 4,
   "id": "a9a49607-a018-49aa-a67f-372e858ea313",
   "metadata": {},
   "outputs": [
    {
     "name": "stdout",
     "output_type": "stream",
     "text": [
      "p1 == p2 ~~> true\n",
      "p1 == p3 ~~> false\n"
     ]
    }
   ],
   "source": [
    "println(s\"p1 == p2 ~~> ${p1 == p2}\") // Prints: p1 == p2: true\n",
    "println(s\"p1 == p3 ~~> ${p1 == p3}\") // Prints: p1 == p3: false"
   ]
  },
  {
   "cell_type": "code",
   "execution_count": 7,
   "id": "449dca36",
   "metadata": {},
   "outputs": [
    {
     "data": {
      "text/plain": [
       "defined \u001b[32mclass\u001b[39m \u001b[36mPerson\u001b[39m"
      ]
     },
     "execution_count": 7,
     "metadata": {},
     "output_type": "execute_result"
    }
   ],
   "source": [
    "class Person(val name: String, var age: Int){\n",
    "    \n",
    "    override def toString: String = s\"Person(name=$name, age=$age)\"\n",
    "    \n",
    "    def canEqual(other: Any): Boolean = other.isInstanceOf[Person]\n",
    "    \n",
    "    override def equals(other: Any): Boolean = other match {\n",
    "        case that: Person =>\n",
    "            (that canEqual this) && //check symmetry\n",
    "            name == that.name &&\n",
    "            age == that.age\n",
    "        case _ => false\n",
    "    }\n",
    "}"
   ]
  },
  {
   "cell_type": "markdown",
   "id": "167526df",
   "metadata": {},
   "source": [
    "> Symmetry mean `x.equals(y)` must return the same result as `y.equals(x)`.\n",
    "\n",
    "To test the above `Person` class implementation, you can create instances and compare them:"
   ]
  },
  {
   "cell_type": "code",
   "execution_count": 8,
   "id": "4dd0da1c",
   "metadata": {},
   "outputs": [
    {
     "name": "stdout",
     "output_type": "stream",
     "text": [
      "p1 == p2 ~~> true\n",
      "p1 == p3 ~~> false\n"
     ]
    },
    {
     "data": {
      "text/plain": [
       "\u001b[36mp1\u001b[39m: \u001b[32mPerson\u001b[39m = Person(name=Alice, age=30)\n",
       "\u001b[36mp2\u001b[39m: \u001b[32mPerson\u001b[39m = Person(name=Alice, age=30)\n",
       "\u001b[36mp3\u001b[39m: \u001b[32mPerson\u001b[39m = Person(name=Bob, age=25)"
      ]
     },
     "execution_count": 8,
     "metadata": {},
     "output_type": "execute_result"
    }
   ],
   "source": [
    "val p1 = new Person(\"Alice\", 30)\n",
    "val p2 = new Person(\"Alice\", 30)\n",
    "val p3 = new Person(\"Bob\", 25)\n",
    "\n",
    "println(s\"p1 == p2 ~~> ${p1 == p2}\") // Prints: p1 == p2: true\n",
    "println(s\"p1 == p3 ~~> ${p1 == p3}\") // Prints: p1 == p3: false"
   ]
  },
  {
   "cell_type": "markdown",
   "id": "8dfa9a1a",
   "metadata": {},
   "source": [
    "### Standard `hashCode`\n",
    "\n",
    "Another standard method to introduce is `hashCode`, which can be used to compare the equality of objects from the perspective of a business entity."
   ]
  },
  {
   "cell_type": "code",
   "execution_count": 44,
   "id": "8e7af931",
   "metadata": {},
   "outputs": [
    {
     "data": {
      "text/plain": [
       "defined \u001b[32mclass\u001b[39m \u001b[36mPerson\u001b[39m"
      ]
     },
     "execution_count": 44,
     "metadata": {},
     "output_type": "execute_result"
    }
   ],
   "source": [
    "class Person(val name: String, var age: Int){\n",
    "    \n",
    "    override def toString: String = s\"Person(name=$name, age=$age)\"\n",
    "    \n",
    "    def canEqual(other: Any): Boolean = other.isInstanceOf[Person]\n",
    "    \n",
    "    override def equals(other: Any): Boolean = other match {\n",
    "        case that: Person =>\n",
    "            (that canEqual this) && //check symmetry using infix operator\n",
    "            name == that.name &&\n",
    "            age == that.age\n",
    "        case _ => false\n",
    "    }\n",
    "\n",
    "    override def hashCode(): Int = {\n",
    "        (name, age).hashCode()\n",
    "    }\n",
    "}"
   ]
  },
  {
   "cell_type": "markdown",
   "id": "1996c153",
   "metadata": {},
   "source": [
    "> In Scala, any method with a single parameter can be called using infix notation (without dots and parentheses).\n",
    "\n",
    "In the above code, the infix operator is\n",
    "\n",
    "```scala\n",
    "// Standard method call\n",
    "object.method(parameter)\n",
    "\n",
    "// Infix notation (equivalent)\n",
    "object method parameter\n",
    "```\n",
    "\n",
    "> Right-associative if operator ends with `:` otherwise left associativity. The `b.op:(a)` can be written as `a op: b `.\n",
    "{:.info-box}\n",
    "\n",
    "Let's do the same testing for the above `Person` class:"
   ]
  },
  {
   "cell_type": "code",
   "execution_count": 10,
   "id": "2c1ecc86",
   "metadata": {},
   "outputs": [
    {
     "name": "stdout",
     "output_type": "stream",
     "text": [
      "p1 == p2 ~~> true\n",
      "p1 == p3 ~~> false\n",
      "p1 eq p2 ~~> false\n"
     ]
    },
    {
     "data": {
      "text/plain": [
       "\u001b[36mp1\u001b[39m: \u001b[32mPerson\u001b[39m = Person(name=Alice, age=30)\n",
       "\u001b[36mp2\u001b[39m: \u001b[32mPerson\u001b[39m = Person(name=Alice, age=30)\n",
       "\u001b[36mp3\u001b[39m: \u001b[32mPerson\u001b[39m = Person(name=Bob, age=25)"
      ]
     },
     "execution_count": 10,
     "metadata": {},
     "output_type": "execute_result"
    }
   ],
   "source": [
    "val p1 = new Person(\"Alice\", 30)\n",
    "val p2 = new Person(\"Alice\", 30)\n",
    "val p3 = new Person(\"Bob\", 25)\n",
    "\n",
    "println(s\"p1 == p2 ~~> ${p1 == p2}\") // Prints: p1 == p2: true\n",
    "println(s\"p1 == p3 ~~> ${p1 == p3}\") // Prints: p1 == p3: false\n",
    "println(s\"p1 eq p2 ~~> ${p1 eq p2}\") // references are not the same\n"
   ]
  },
  {
   "cell_type": "markdown",
   "id": "2e2bd6ef-f983-4c83-bc41-c555bb45695b",
   "metadata": {},
   "source": [
    "## Subclasses\n",
    "Using the keyword `extends`, subclasses can be created from the superclass. As shown in the following example, inheritance has a \"is-a\" relationship:\n",
    "\n",
    "```mermaid\n",
    "classDiagram\n",
    "    class scala.Any\n",
    "    class scala.AnyVal\n",
    "    class scala.AnyRef\n",
    "    class java.lang.Object\n",
    "\n",
    "    scala.Any <|-- scala.AnyVal\n",
    "    scala.Any <|-- scala.AnyRef\n",
    "    java.lang.Object --> scala.AnyRef\n",
    "\n",
    " \n",
    "    scala.AnyRef <|-- Person\n",
    "    Person <|-- Employee\n",
    "    \n",
    "    class Person {\n",
    "        +name: String\n",
    "        +age: Int\n",
    "    }\n",
    "    \n",
    "    class Employee {\n",
    "        +gender: Char\n",
    "    }\n",
    "```\n",
    "\n",
    "> All the subclasses are polymorphic in Scala.\n",
    "{:.green}\n"
   ]
  },
  {
   "cell_type": "code",
   "execution_count": 38,
   "id": "b34d72c1-9f52-4c7f-8073-6866786561d6",
   "metadata": {},
   "outputs": [
    {
     "data": {
      "text/plain": [
       "defined \u001b[32mclass\u001b[39m \u001b[36mEmployee\u001b[39m"
      ]
     },
     "execution_count": 38,
     "metadata": {},
     "output_type": "execute_result"
    }
   ],
   "source": [
    "class Employee(name:String, age:Int, val contract:Char) \n",
    "    extends Person(name, age){\n",
    "    require(contract == 'F' || contract == 'P'\n",
    "            , \"Contract can be either F: full-time or P: part-time\")\n",
    "}"
   ]
  },
  {
   "cell_type": "code",
   "execution_count": 40,
   "id": "2cb07920-d4fa-4db0-ad16-ebf7ad2cbdfb",
   "metadata": {},
   "outputs": [
    {
     "data": {
      "text/plain": [
       "\u001b[36me1\u001b[39m: \u001b[32mEmployee\u001b[39m = Person(name=Alice, age=30)\n",
       "\u001b[36mres39_1\u001b[39m: \u001b[32mEmployee\u001b[39m = Person(name=Alice, age=30)"
      ]
     },
     "execution_count": 40,
     "metadata": {},
     "output_type": "execute_result"
    }
   ],
   "source": [
    "val e1 = new Employee(\"Alice\", 30,'F')\n",
    "e1"
   ]
  },
  {
   "cell_type": "markdown",
   "id": "e9bcc4a8-34c3-4c94-9f6e-f1d622c15212",
   "metadata": {},
   "source": [
    "As shown in the above `toString` method, it is inherited from the Person parent class which can be overridden in the `Employee` class."
   ]
  },
  {
   "cell_type": "code",
   "execution_count": 11,
   "id": "fcc31fad-1685-43ab-b4e7-c5a4cf179f1f",
   "metadata": {},
   "outputs": [
    {
     "data": {
      "text/plain": [
       "defined \u001b[32mclass\u001b[39m \u001b[36mEmployee\u001b[39m\n",
       "\u001b[36me1\u001b[39m: \u001b[32mEmployee\u001b[39m = Person(Name=Alice, Age=30, Contract=F)\n",
       "\u001b[36mres10_2\u001b[39m: \u001b[32mEmployee\u001b[39m = Person(Name=Alice, Age=30, Contract=F)"
      ]
     },
     "execution_count": 11,
     "metadata": {},
     "output_type": "execute_result"
    }
   ],
   "source": [
    "class Employee(name:String, age:Int, val contract:Char) \n",
    "    extends Person(name, age){\n",
    "    require(contract == 'F' || contract == 'P'\n",
    "            , \"Contract can be either F: full-time or P: part-time\")\n",
    "    override def toString: String = s\"Person(Name=$name, Age=$age, Contract=$contract)\"    \n",
    "}\n",
    "\n",
    "val e1 = new Employee(\"Alice\", 30,'F')\n",
    "e1"
   ]
  },
  {
   "cell_type": "markdown",
   "id": "d3365b30-98eb-43b7-9848-5bf38b8043f6",
   "metadata": {},
   "source": [
    "> The `override` keyword is compulsory in Scala (not like in Java) for overriding parent methods with the same method signature.\n",
    "\n",
    "The same reference equality operator is `eq` in Scala:"
   ]
  },
  {
   "cell_type": "code",
   "execution_count": 13,
   "id": "57d6bc74-2d76-402d-ba90-dad39d0b360c",
   "metadata": {},
   "outputs": [
    {
     "data": {
      "text/plain": [
       "\u001b[36me1\u001b[39m: \u001b[32mEmployee\u001b[39m = Person(Name=Alice, Age=30, Contract=F)\n",
       "\u001b[36me2\u001b[39m: \u001b[32mEmployee\u001b[39m = Person(Name=Alice, Age=30, Contract=F)\n",
       "\u001b[36mres12_2\u001b[39m: \u001b[32mBoolean\u001b[39m = \u001b[32mtrue\u001b[39m"
      ]
     },
     "execution_count": 13,
     "metadata": {},
     "output_type": "execute_result"
    }
   ],
   "source": [
    "val e1 = new Employee(\"Alice\", 30, 'F')\n",
    "val e2 = e1"
   ]
  },
  {
   "cell_type": "code",
   "execution_count": 14,
   "id": "48f9ca48-b446-4d9d-8c2d-956092dc1571",
   "metadata": {},
   "outputs": [
    {
     "data": {
      "text/plain": [
       "\u001b[36mres13\u001b[39m: \u001b[32mBoolean\u001b[39m = \u001b[32mtrue\u001b[39m"
      ]
     },
     "execution_count": 14,
     "metadata": {},
     "output_type": "execute_result"
    }
   ],
   "source": [
    "e1 eq e2"
   ]
  },
  {
   "cell_type": "markdown",
   "id": "7d934248",
   "metadata": {},
   "source": [
    "### Case Class\n",
    "Case classes are designed for algebraic data types (**ADT**s) representing product types (data with multiple fields). \n",
    "\n",
    "> Inheritance represents sum types (choice between alternatives), which should be modelled at the trait/sealed trait level, not at the case class level.\n",
    "{:.yellow}\n",
    "\n",
    "Suppose you convert the above class `Person` to a case class. In this case, there is no need for `val` in front of the parameter because that is the default."
   ]
  },
  {
   "cell_type": "code",
   "execution_count": 11,
   "id": "67d3edea",
   "metadata": {},
   "outputs": [
    {
     "name": "stdout",
     "output_type": "stream",
     "text": [
      "p1 == p2 ~~> true\n",
      "p1 == p3 ~~> false\n",
      "p1 eq p2 ~~> false\n"
     ]
    },
    {
     "data": {
      "text/plain": [
       "defined \u001b[32mclass\u001b[39m \u001b[36mCPerson\u001b[39m\n",
       "\u001b[36mperson\u001b[39m: \u001b[32mCPerson\u001b[39m = \u001b[33mCPerson\u001b[39m(name = \u001b[32m\"Alice\"\u001b[39m, age = \u001b[32m30\u001b[39m)\n",
       "\u001b[36mp1\u001b[39m: \u001b[32mCPerson\u001b[39m = \u001b[33mCPerson\u001b[39m(name = \u001b[32m\"Alice\"\u001b[39m, age = \u001b[32m30\u001b[39m)\n",
       "\u001b[36mp2\u001b[39m: \u001b[32mCPerson\u001b[39m = \u001b[33mCPerson\u001b[39m(name = \u001b[32m\"Alice\"\u001b[39m, age = \u001b[32m30\u001b[39m)\n",
       "\u001b[36mp3\u001b[39m: \u001b[32mCPerson\u001b[39m = \u001b[33mCPerson\u001b[39m(name = \u001b[32m\"Bob\"\u001b[39m, age = \u001b[32m25\u001b[39m)"
      ]
     },
     "execution_count": 11,
     "metadata": {},
     "output_type": "execute_result"
    }
   ],
   "source": [
    "case class CPerson(name: String, age: Int) // Compiler infers Person is a case class with two parameters\n",
    "\n",
    "val person = CPerson(\"Alice\", 30) // Compiler infers person: Person\n",
    "\n",
    "val p1 = CPerson(\"Alice\", 30)\n",
    "val p2 = CPerson(\"Alice\", 30)\n",
    "val p3 = CPerson(\"Bob\", 25)\n",
    "\n",
    "println(s\"p1 == p2 ~~> ${p1 == p2}\") // Prints: p1 == p2: true\n",
    "println(s\"p1 == p3 ~~> ${p1 == p3}\") // Prints: p1 == p3: false\n",
    "println(s\"p1 eq p2 ~~> ${p1 eq p2}\") // references are not the same\n"
   ]
  },
  {
   "cell_type": "markdown",
   "id": "8320b0fb",
   "metadata": {},
   "source": [
    "> To instantiate regular classes, we need to use the `new` keyword, but not for the case class. The **universal apply method** is a feature in Scala 3 that automatically allows you to create an instance of any class using `ClassName(arguments)` syntax, without needing the `new` keyword.\n",
    "\n",
    "However, you can override the methods, for example `toString`:"
   ]
  },
  {
   "cell_type": "code",
   "execution_count": 15,
   "id": "2453a3c1-acd8-4068-8d80-e2d25e642233",
   "metadata": {},
   "outputs": [
    {
     "data": {
      "text/plain": [
       "defined \u001b[32mclass\u001b[39m \u001b[36mCPerson\u001b[39m"
      ]
     },
     "execution_count": 15,
     "metadata": {},
     "output_type": "execute_result"
    }
   ],
   "source": [
    "case class CPerson(name: String, age: Int){\n",
    "    override def toString = s\"Name: $name and Age: $age\"\n",
    "}"
   ]
  },
  {
   "cell_type": "code",
   "execution_count": 16,
   "id": "1bc7af72-6706-4b6f-bfe6-54acf8771134",
   "metadata": {},
   "outputs": [
    {
     "name": "stdout",
     "output_type": "stream",
     "text": [
      "Name: Alice and Age: 30"
     ]
    },
    {
     "data": {
      "text/plain": [
       "\u001b[36mp1\u001b[39m: \u001b[32mCPerson\u001b[39m = \u001b[33mCPerson\u001b[39m(name = \u001b[32m\"Alice\"\u001b[39m, age = \u001b[32m30\u001b[39m)"
      ]
     },
     "execution_count": 16,
     "metadata": {},
     "output_type": "execute_result"
    }
   ],
   "source": [
    "val p1 = CPerson(\"Alice\", 30)\n",
    "print(p1)"
   ]
  },
  {
   "cell_type": "markdown",
   "id": "c4832715-46d5-4f94-9275-d86258015636",
   "metadata": {},
   "source": [
    "#### **Extractors and the Unapply Pattern**\n",
    "\n",
    "Case classes in Scala automatically generate an `unapply` method that acts as an **extractor**. This is the theoretical inverse of the `apply` method (constructor):\n",
    "\n",
    "-   `apply`: constructs an object from components → `CPerson.apply(\"Alice\", 30)`\n",
    "-   `unapply`: deconstructs an object into components → `CPerson.unapply(p1) == Some((\"Alice\", 30))`\n",
    "\n",
    "Case Classes are well known for pattern matching. For example, you can extract `name` from the case class instance using **Refutable Pattern**:"
   ]
  },
  {
   "cell_type": "code",
   "execution_count": 29,
   "id": "2ea87096-9a64-4471-9030-69cb803ebee3",
   "metadata": {},
   "outputs": [
    {
     "data": {
      "text/plain": [
       "\u001b[36mname\u001b[39m: \u001b[32mAny\u001b[39m = \u001b[32m\"Alice\"\u001b[39m\n",
       "\u001b[36mage\u001b[39m: \u001b[32mAny\u001b[39m = \u001b[32m30\u001b[39m"
      ]
     },
     "execution_count": 29,
     "metadata": {},
     "output_type": "execute_result"
    }
   ],
   "source": [
    "val (name, age) = p1 match {\n",
    "    case CPerson(n, a) => (n, a)\n",
    "    case _ => \"Unknown\"\n",
    "}"
   ]
  },
  {
   "cell_type": "markdown",
   "id": "7fa18d49-791a-4c80-9348-c23c47144b44",
   "metadata": {},
   "source": [
    "using **Irrefutable Pattern**:"
   ]
  },
  {
   "cell_type": "code",
   "execution_count": 28,
   "id": "b5ad0461-09e1-4e75-bc87-3b9c1f67fd5c",
   "metadata": {},
   "outputs": [
    {
     "data": {
      "text/plain": [
       "\u001b[36mn1\u001b[39m: \u001b[32mString\u001b[39m = \u001b[32m\"Alice\"\u001b[39m\n",
       "\u001b[36ma1\u001b[39m: \u001b[32mInt\u001b[39m = \u001b[32m30\u001b[39m\n",
       "\u001b[36mres27_1\u001b[39m: \u001b[32mString\u001b[39m = \u001b[32m\"Alice\"\u001b[39m"
      ]
     },
     "execution_count": 28,
     "metadata": {},
     "output_type": "execute_result"
    }
   ],
   "source": [
    "val CPerson(n1,a1) = p1\n",
    "n1"
   ]
  },
  {
   "cell_type": "markdown",
   "id": "bff6dc06-1559-46e0-bd76-21ef337b3197",
   "metadata": {},
   "source": [
    "1.  **Pattern matching** (`p1 match { ... }`) is **case analysis** - you're saying \"let me check what shape this value has\"\n",
    "2.  **Pattern binding** (`val CPerson(n1, a1) = p1`) is a **destructuring assignment** - you're asserting \"I know this value has this shape\"\n",
    "\n",
    "The first form is essentially syntactic sugar that says: \"I'm confident enough in the type that I don't need the safety of exhaustive matching.\" If `p1` weren't actually a `CPerson`, you'd get a runtime `MatchError`.\n",
    "\n",
    "When to Use Each:\n",
    "\n",
    "-   Use **pattern binding** when the type is guaranteed (like your case)\n",
    "-   Use **pattern matching** when you need to handle multiple cases or the match might fail\n",
    "\n",
    "This reflects the broader PL theory concept of **pattern matching as both construction and deconstruction**, where the same syntactic form works bidirectionally.\n",
    "\n",
    "#### Subclassing case classes\n",
    "\n",
    "This is technically possible, but <span>subclassing is highly discouraged and problematic</span>{:rtxt}.\n",
    "\n",
    "> Don't subclass case classes. Use sealed traits with case class implementations instead.\n",
    "{:.info-box}\n",
    "\n",
    "For example:"
   ]
  },
  {
   "cell_type": "code",
   "execution_count": null,
   "id": "845cf8de-1bac-4c38-a623-1fedea716b8f",
   "metadata": {},
   "outputs": [
    {
     "name": "stderr",
     "output_type": "stream",
     "text": [
      "cmd0.sc:2: case class Employee has case ancestor ammonite.$sess.cmd0.Helper.Person, but case-to-case inheritance is prohibited. To overcome this limitation, use extractors to pattern match on non-leaf nodes.\n",
      "case class Employee(name: String, age: Int, salary: Double) extends Person(name, age)\n",
      "           ^Compilation Failed"
     ]
    },
    {
     "ename": "",
     "evalue": "",
     "output_type": "error",
     "traceback": [
      "Compilation Failed"
     ]
    }
   ],
   "source": [
    "case class Person(name: String, age: Int)\n",
    "case class Employee(name: String, age: Int, salary: Double) extends Person(name, age)"
   ]
  },
  {
   "cell_type": "markdown",
   "id": "9b38ab3d-5354-412c-9974-79509d01d6a8",
   "metadata": {},
   "source": [
    "The recommended alternative is the use of Sealed Trait Hierarchy:"
   ]
  },
  {
   "cell_type": "code",
   "execution_count": 1,
   "id": "e2af4452-83f8-4bd4-a880-7cb341c7c31e",
   "metadata": {},
   "outputs": [
    {
     "data": {
      "text/plain": [
       "defined \u001b[32mtrait\u001b[39m \u001b[36mPerson\u001b[39m\n",
       "defined \u001b[32mclass\u001b[39m \u001b[36mRegularPerson\u001b[39m\n",
       "defined \u001b[32mclass\u001b[39m \u001b[36mEmployee\u001b[39m\n",
       "defined \u001b[32mclass\u001b[39m \u001b[36mStudent\u001b[39m"
      ]
     },
     "execution_count": 1,
     "metadata": {},
     "output_type": "execute_result"
    }
   ],
   "source": [
    "sealed trait Person {\n",
    "    def name: String\n",
    "    def age: Int\n",
    "}\n",
    "\n",
    "case class RegularPerson(name: String, age: Int) extends Person\n",
    "case class Employee(name: String, age: Int, salary: Double) extends Person\n",
    "case class Student(name: String, age: Int, school: String) extends Person"
   ]
  },
  {
   "cell_type": "markdown",
   "id": "168ad336-4adb-44e8-9aaf-effd003137e2",
   "metadata": {},
   "source": [
    "#### Abstract class\n",
    "You can use abstract classes with case classes as regular classes:"
   ]
  },
  {
   "cell_type": "code",
   "execution_count": 2,
   "id": "cc915b67-dc42-4174-baa8-d05b0d13b3e2",
   "metadata": {},
   "outputs": [
    {
     "data": {
      "text/plain": [
       "defined \u001b[32mclass\u001b[39m \u001b[36mPerson\u001b[39m\n",
       "defined \u001b[32mclass\u001b[39m \u001b[36mEmployee\u001b[39m\n",
       "defined \u001b[32mclass\u001b[39m \u001b[36mStudent\u001b[39m"
      ]
     },
     "execution_count": 2,
     "metadata": {},
     "output_type": "execute_result"
    }
   ],
   "source": [
    "abstract class Person(val name: String, val age: Int)\n",
    "\n",
    "case class Employee(override val name: String, override val age: Int, salary: Double) \n",
    "  extends Person(name, age)\n",
    "\n",
    "case class Student(override val name: String, override val age: Int, school: String) \n",
    "  extends Person(name, age)"
   ]
  },
  {
   "cell_type": "markdown",
   "id": "1051868b-cc04-4ef8-a3ab-4dc76a7979eb",
   "metadata": {},
   "source": [
    "But the problem is "
   ]
  },
  {
   "cell_type": "code",
   "execution_count": 3,
   "id": "0b309159-8921-4948-a2e0-47a3070105c2",
   "metadata": {},
   "outputs": [
    {
     "data": {
      "text/plain": [
       "\u001b[36me\u001b[39m: \u001b[32mEmployee\u001b[39m = \u001b[33mEmployee\u001b[39m(name = \u001b[32m\"Alice\"\u001b[39m, age = \u001b[32m30\u001b[39m, salary = \u001b[32m50000.0\u001b[39m)\n",
       "\u001b[36ms\u001b[39m: \u001b[32mStudent\u001b[39m = \u001b[33mStudent\u001b[39m(name = \u001b[32m\"Bob\"\u001b[39m, age = \u001b[32m20\u001b[39m, school = \u001b[32m\"MIT\"\u001b[39m)"
      ]
     },
     "execution_count": 3,
     "metadata": {},
     "output_type": "execute_result"
    }
   ],
   "source": [
    "val e = Employee(\"Alice\", 30, 50000)\n",
    "val s = Student(\"Bob\", 20, \"MIT\")"
   ]
  },
  {
   "cell_type": "markdown",
   "id": "4311e4a8-2d13-4445-8216-0f8f4549ae77",
   "metadata": {},
   "source": [
    "To pattern match, will define a function:"
   ]
  },
  {
   "cell_type": "code",
   "execution_count": 4,
   "id": "43b9ef1a-369a-49c9-a078-2c594d8709af",
   "metadata": {},
   "outputs": [
    {
     "data": {
      "text/plain": [
       "defined \u001b[32mfunction\u001b[39m \u001b[36mdescribe\u001b[39m"
      ]
     },
     "execution_count": 4,
     "metadata": {},
     "output_type": "execute_result"
    }
   ],
   "source": [
    "def describe(p: Person): String = p match {\n",
    "    case Employee(n, a, sal) => s\"Employee: $n, salary: $sal\"\n",
    "    case Student(n, a, sch) => s\"Student: $n at $sch\"\n",
    "}"
   ]
  },
  {
   "cell_type": "code",
   "execution_count": null,
   "id": "21a7d46a-1125-4c98-9403-b892ee550911",
   "metadata": {},
   "outputs": [],
   "source": [
    "For the `Employee`:"
   ]
  },
  {
   "cell_type": "code",
   "execution_count": 5,
   "id": "b289fd0b-b0e3-4c0a-8af0-d1aeb3abfc86",
   "metadata": {},
   "outputs": [
    {
     "data": {
      "text/plain": [
       "\u001b[36mres4\u001b[39m: \u001b[32mString\u001b[39m = \u001b[32m\"Employee: Alice, salary: 50000.0\"\u001b[39m"
      ]
     },
     "execution_count": 5,
     "metadata": {},
     "output_type": "execute_result"
    }
   ],
   "source": [
    "describe(e)"
   ]
  },
  {
   "cell_type": "markdown",
   "id": "3651e1eb-988d-4649-a095-461ff9e4d4d1",
   "metadata": {},
   "source": [
    "For the `Student`:"
   ]
  },
  {
   "cell_type": "code",
   "execution_count": 6,
   "id": "8e9469ae-ed41-45e8-8491-9bee08236677",
   "metadata": {},
   "outputs": [
    {
     "data": {
      "text/plain": [
       "\u001b[36mres5\u001b[39m: \u001b[32mString\u001b[39m = \u001b[32m\"Student: Bob at MIT\"\u001b[39m"
      ]
     },
     "execution_count": 6,
     "metadata": {},
     "output_type": "execute_result"
    }
   ],
   "source": [
    "describe(s)"
   ]
  },
  {
   "cell_type": "markdown",
   "id": "bb800bc8-5f9b-4243-926e-8c8edd785168",
   "metadata": {},
   "source": [
    "Although you declare an abstract class, you cannot instantiate instances directly; therefore, you have to use a companion object and create instance from the anonymous subclass:"
   ]
  },
  {
   "cell_type": "code",
   "execution_count": 17,
   "id": "4b3672e7-0ff8-4693-80d4-9bbb7c41c069",
   "metadata": {},
   "outputs": [
    {
     "data": {
      "text/plain": [
       "defined \u001b[32mobject\u001b[39m \u001b[36mPerson\u001b[39m\n",
       "\u001b[36mp1\u001b[39m: \u001b[32mPerson\u001b[39m = ammonite.$sess.cmd16$Helper$Person$$anon$1@257876ed"
      ]
     },
     "execution_count": 17,
     "metadata": {},
     "output_type": "execute_result"
    }
   ],
   "source": [
    "object Person {\n",
    "    def apply(name: String, age: Int): Person =\n",
    "        new Person(name, age) {} // anonymous subclass\n",
    "}\n",
    "\n",
    "val p1 = Person(\"Foo\",20)"
   ]
  },
  {
   "cell_type": "markdown",
   "id": "69b27407-153d-4a3b-a495-da79ce75de10",
   "metadata": {},
   "source": [
    "> This Companion Object approach for the Case class is less intuitive than regular abstract classes. Rarely used in practice.\n",
    "{:.yellow}\n",
    " \n",
    "If you use the above `describe` function for pattern matching:"
   ]
  },
  {
   "cell_type": "code",
   "execution_count": 9,
   "id": "58d11103-28f8-4795-aeba-cd0bf287d618",
   "metadata": {},
   "outputs": [
    {
     "ename": "",
     "evalue": "",
     "output_type": "error",
     "traceback": [
      "\u001b[31mscala.MatchError: ammonite.$sess.cmd6$Helper$Person$$anon$1@39768c9a (of class ammonite.$sess.cmd6$Helper$Person$$anon$1)\u001b[39m\n  ammonite.$sess.cmd3$Helper.describe(\u001b[32mcmd3.sc\u001b[39m:\u001b[32m1\u001b[39m)\n  ammonite.$sess.cmd8$Helper.<init>(\u001b[32mcmd8.sc\u001b[39m:\u001b[32m1\u001b[39m)\n  ammonite.$sess.cmd8$.<clinit>(\u001b[32mcmd8.sc\u001b[39m:\u001b[32m7\u001b[39m)"
     ]
    }
   ],
   "source": [
    "describe(p1)"
   ]
  },
  {
   "cell_type": "markdown",
   "id": "e43e4934-ac44-4e21-855d-73c81d05e5fe",
   "metadata": {},
   "source": [
    "This is not possible because this is an anonymous subclass.\n",
    "\n",
    "You can follow the shared implementation/behaviour approach by declaring regular abstract class as well:"
   ]
  },
  {
   "cell_type": "code",
   "execution_count": 10,
   "id": "e74d92f2-b8e7-4936-b428-c98710fad113",
   "metadata": {},
   "outputs": [
    {
     "data": {
      "text/plain": [
       "defined \u001b[32mclass\u001b[39m \u001b[36mVehicle\u001b[39m\n",
       "defined \u001b[32mclass\u001b[39m \u001b[36mCar\u001b[39m\n",
       "defined \u001b[32mclass\u001b[39m \u001b[36mBike\u001b[39m"
      ]
     },
     "execution_count": 10,
     "metadata": {},
     "output_type": "execute_result"
    }
   ],
   "source": [
    "abstract class Vehicle(val wheels: Int) {\n",
    "    def describe: String = s\"Vehicle with $wheels wheels\"\n",
    "}\n",
    "\n",
    "case class Car(make: String, model: String) extends Vehicle(4)\n",
    "case class Bike(brand: String) extends Vehicle(2)"
   ]
  },
  {
   "cell_type": "markdown",
   "id": "ea45001f-bcba-4183-ac7e-754d200f7885",
   "metadata": {},
   "source": [
    "For example:"
   ]
  },
  {
   "cell_type": "code",
   "execution_count": 12,
   "id": "820ebffe-3c7d-4ed3-a7f4-a51fb4797c07",
   "metadata": {},
   "outputs": [
    {
     "data": {
      "text/plain": [
       "defined \u001b[32mclass\u001b[39m \u001b[36mVehicle\u001b[39m\n",
       "defined \u001b[32mclass\u001b[39m \u001b[36mCar\u001b[39m\n",
       "defined \u001b[32mclass\u001b[39m \u001b[36mBike\u001b[39m\n",
       "defined \u001b[32mfunction\u001b[39m \u001b[36mpark\u001b[39m\n",
       "\u001b[36mc1\u001b[39m: \u001b[32mCar\u001b[39m = \u001b[33mCar\u001b[39m(make = \u001b[32m\"Toyota\"\u001b[39m, model = \u001b[32m\"RAVE4\"\u001b[39m)\n",
       "\u001b[36mres11_5\u001b[39m: \u001b[32mString\u001b[39m = \u001b[32m\"Parking car: Toyota RAVE4\"\u001b[39m"
      ]
     },
     "execution_count": 12,
     "metadata": {},
     "output_type": "execute_result"
    }
   ],
   "source": [
    "abstract class Vehicle(val wheels: Int) {\n",
    "    def describe: String = s\"Vehicle with $wheels wheels\"\n",
    "}\n",
    "\n",
    "case class Car(make: String, model: String) extends Vehicle(4)\n",
    "case class Bike(brand: String) extends Vehicle(2)\n",
    "\n",
    "// Compiler enforces exhaustive matching:\n",
    "def park(v: Vehicle): String = v match {\n",
    "    case Car(make, model) => s\"Parking car: $make $model\"\n",
    "    case Bike(brand) => s\"Parking bike: $brand\"\n",
    "    // Compiler warns if you forget a case!\n",
    "}\n",
    "\n",
    "val c1 = Car(\"Toyota\",\"RAVE4\")\n",
    "park(c1)\n"
   ]
  },
  {
   "cell_type": "markdown",
   "id": "2f42d54c-a2e5-4a16-bd12-ac0a8f1b2e1f",
   "metadata": {},
   "source": [
    "| Pattern | Exhaustiveness Checking | Shared Implementation | Open/Closed |\n",
    "|---------|------------------------|---------------------|-------------|\n",
    "| **Sealed Trait + Case Classes** | ✅ Yes | Limited (abstract methods only) | Closed |\n",
    "| **Abstract Class + Case Classes** | ❌ No | ✅ Yes (concrete methods/fields) | Open |\n",
    "| **Case Class extends Case Class** | ❌ No | ⚠️ Broken | ❌ Don't use |\n",
    "\n",
    "#### Case class parameterisation\n"
   ]
  },
  {
   "cell_type": "code",
   "execution_count": 13,
   "id": "1f9ff55a-7464-4837-9cde-ebfbb322d143",
   "metadata": {},
   "outputs": [
    {
     "data": {
      "text/plain": [
       "defined \u001b[32mclass\u001b[39m \u001b[36mBox\u001b[39m"
      ]
     },
     "execution_count": 13,
     "metadata": {},
     "output_type": "execute_result"
    }
   ],
   "source": [
    "case class Box[T](t:T)"
   ]
  },
  {
   "cell_type": "code",
   "execution_count": 30,
   "id": "911e40e0-4b70-4be4-a0ec-3db33fb27ff7",
   "metadata": {},
   "outputs": [
    {
     "data": {
      "text/plain": [
       "\u001b[36miBox\u001b[39m: \u001b[32mBox\u001b[39m[\u001b[32mInt\u001b[39m] = \u001b[33mBox\u001b[39m(t = \u001b[32m1\u001b[39m)"
      ]
     },
     "execution_count": 30,
     "metadata": {},
     "output_type": "execute_result"
    }
   ],
   "source": [
    "val iBox = Box(1)"
   ]
  },
  {
   "cell_type": "code",
   "execution_count": 31,
   "id": "66f46256-d8bf-4b9d-a750-1750eecbac69",
   "metadata": {},
   "outputs": [
    {
     "data": {
      "text/plain": [
       "\u001b[36msBox\u001b[39m: \u001b[32mBox\u001b[39m[\u001b[32mString\u001b[39m] = \u001b[33mBox\u001b[39m(t = \u001b[32m\"Hello\"\u001b[39m)"
      ]
     },
     "execution_count": 31,
     "metadata": {},
     "output_type": "execute_result"
    }
   ],
   "source": [
    "val sBox = Box(\"Hello\")"
   ]
  },
  {
   "cell_type": "code",
   "execution_count": 34,
   "id": "e422816b-7dae-4407-af02-37841c6fc618",
   "metadata": {},
   "outputs": [
    {
     "data": {
      "text/plain": [
       "\u001b[36mc1Box\u001b[39m: \u001b[32mBox\u001b[39m[\u001b[32mCar\u001b[39m] = \u001b[33mBox\u001b[39m(t = \u001b[33mCar\u001b[39m(make = \u001b[32m\"Toyota\"\u001b[39m, model = \u001b[32m\"RAVE4\"\u001b[39m))"
      ]
     },
     "execution_count": 34,
     "metadata": {},
     "output_type": "execute_result"
    }
   ],
   "source": [
    "val c1Box = Box(c1)"
   ]
  },
  {
   "cell_type": "markdown",
   "id": "2cd01d7d-b235-40f3-b0f4-3d3fbf28b97c",
   "metadata": {},
   "source": [
    "For the anonymous subclass of Person abstract class:"
   ]
  },
  {
   "cell_type": "code",
   "execution_count": 21,
   "id": "43914f20-0d79-46a6-8daf-a696e591d755",
   "metadata": {},
   "outputs": [
    {
     "data": {
      "text/plain": [
       "\u001b[36mp1Box\u001b[39m: \u001b[32mBox\u001b[39m[\u001b[32mPerson\u001b[39m] = \u001b[33mBox\u001b[39m(\n",
       "  t = ammonite.$sess.cmd16$Helper$Person$$anon$1@257876ed\n",
       ")\n",
       "\u001b[36mres20_1\u001b[39m: \u001b[32mString\u001b[39m = \u001b[32m\"Foo\"\u001b[39m"
      ]
     },
     "execution_count": 21,
     "metadata": {},
     "output_type": "execute_result"
    }
   ],
   "source": [
    "val p1Box = Box(p1)\n",
    "p1Box.t.name"
   ]
  },
  {
   "cell_type": "markdown",
   "id": "0a4aacd4-0020-479e-9b0f-7dedb7509363",
   "metadata": {},
   "source": [
    "can be complicated as follows:"
   ]
  },
  {
   "cell_type": "code",
   "execution_count": 33,
   "id": "fb18779c-32ae-48dd-ae69-0a596d69ae5c",
   "metadata": {},
   "outputs": [
    {
     "data": {
      "text/plain": [
       "defined \u001b[32mclass\u001b[39m \u001b[36mBoxOfTwo\u001b[39m"
      ]
     },
     "execution_count": 33,
     "metadata": {},
     "output_type": "execute_result"
    }
   ],
   "source": [
    "case class BoxOfTwo[A, B](a:A, b:B)"
   ]
  },
  {
   "cell_type": "code",
   "execution_count": 27,
   "id": "86492130-39fe-4fae-a2ad-3633807d9b12",
   "metadata": {},
   "outputs": [
    {
     "data": {
      "text/plain": [
       "\u001b[36mboftwo_SI\u001b[39m: \u001b[32mBoxOfTwo\u001b[39m[\u001b[32mString\u001b[39m, \u001b[32mInt\u001b[39m] = \u001b[33mBoxOfTwo\u001b[39m(a = \u001b[32m\"Hellow\"\u001b[39m, b = \u001b[32m2\u001b[39m)"
      ]
     },
     "execution_count": 27,
     "metadata": {},
     "output_type": "execute_result"
    }
   ],
   "source": [
    "val boftwo_SI = BoxOfTwo(\"Hellow\", 2)"
   ]
  },
  {
   "cell_type": "code",
   "execution_count": 28,
   "id": "1f6ef56b-b6ce-4956-8033-1f9733019237",
   "metadata": {},
   "outputs": [
    {
     "data": {
      "text/plain": [
       "\u001b[36mboftwo_SBoxOfTwo\u001b[39m: \u001b[32mBoxOfTwo\u001b[39m[\u001b[32mString\u001b[39m, \u001b[32mBoxOfTwo\u001b[39m[\u001b[32mString\u001b[39m, \u001b[32mInt\u001b[39m]] = \u001b[33mBoxOfTwo\u001b[39m(\n",
       "  a = \u001b[32m\"Hi\"\u001b[39m,\n",
       "  b = \u001b[33mBoxOfTwo\u001b[39m(a = \u001b[32m\"Hellow\"\u001b[39m, b = \u001b[32m2\u001b[39m)\n",
       ")"
      ]
     },
     "execution_count": 28,
     "metadata": {},
     "output_type": "execute_result"
    }
   ],
   "source": [
    "val boftwo_SBoxOfTwo = BoxOfTwo(\"Hi\", boftwo_SI)"
   ]
  },
  {
   "cell_type": "code",
   "execution_count": 29,
   "id": "56ff3aba-5ae0-46f9-9ca8-3ef219c46860",
   "metadata": {},
   "outputs": [
    {
     "data": {
      "text/plain": [
       "\u001b[36mres28\u001b[39m: \u001b[32mBoxOfTwo\u001b[39m[\u001b[32mBoxOfTwo\u001b[39m[\u001b[32mString\u001b[39m, \u001b[32mBoxOfTwo\u001b[39m[\u001b[32mString\u001b[39m, \u001b[32mInt\u001b[39m]], \u001b[32mBoxOfTwo\u001b[39m[\u001b[32mString\u001b[39m, \u001b[32mInt\u001b[39m]] = \u001b[33mBoxOfTwo\u001b[39m(\n",
       "  a = \u001b[33mBoxOfTwo\u001b[39m(a = \u001b[32m\"Hi\"\u001b[39m, b = \u001b[33mBoxOfTwo\u001b[39m(a = \u001b[32m\"Hellow\"\u001b[39m, b = \u001b[32m2\u001b[39m)),\n",
       "  b = \u001b[33mBoxOfTwo\u001b[39m(a = \u001b[32m\"Hellow\"\u001b[39m, b = \u001b[32m2\u001b[39m)\n",
       ")"
      ]
     },
     "execution_count": 29,
     "metadata": {},
     "output_type": "execute_result"
    }
   ],
   "source": [
    "BoxOfTwo(boftwo_SBoxOfTwo, boftwo_SI)"
   ]
  },
  {
   "cell_type": "markdown",
   "id": "71d7359a-5759-43f9-a7e2-3e5d5b6a2894",
   "metadata": {},
   "source": [
    "Parameterised methods can be used in conjunction with Parameterised Classes:"
   ]
  },
  {
   "cell_type": "code",
   "execution_count": 36,
   "id": "c30d6bf4-5ca6-437b-8200-bce904f780d2",
   "metadata": {},
   "outputs": [
    {
     "data": {
      "text/plain": [
       "defined \u001b[32mclass\u001b[39m \u001b[36mBoxWithMethods\u001b[39m"
      ]
     },
     "execution_count": 36,
     "metadata": {},
     "output_type": "execute_result"
    }
   ],
   "source": [
    "case class BoxWithMethods[T](t:T) {\n",
    "    def boxMethod[U](u:U) = {\n",
    "        BoxOfTwo(t, u)\n",
    "    }\n",
    "}"
   ]
  },
  {
   "cell_type": "code",
   "execution_count": 39,
   "id": "efde3906-9927-430a-b3b7-7855a21df450",
   "metadata": {},
   "outputs": [
    {
     "data": {
      "text/plain": [
       "\u001b[36mboxWithMethod\u001b[39m: \u001b[32mBoxWithMethods\u001b[39m[\u001b[32mInt\u001b[39m] = \u001b[33mBoxWithMethods\u001b[39m(t = \u001b[32m1\u001b[39m)\n",
       "\u001b[36mres38_1\u001b[39m: \u001b[32mBoxOfTwo\u001b[39m[\u001b[32mInt\u001b[39m, \u001b[32mString\u001b[39m] = \u001b[33mBoxOfTwo\u001b[39m(a = \u001b[32m1\u001b[39m, b = \u001b[32m\"a\"\u001b[39m)"
      ]
     },
     "execution_count": 39,
     "metadata": {},
     "output_type": "execute_result"
    }
   ],
   "source": [
    "val boxWithMethod = BoxWithMethods(1)\n",
    "boxWithMethod.boxMethod(\"a\")"
   ]
  },
  {
   "cell_type": "markdown",
   "id": "c752c8c5",
   "metadata": {},
   "source": [
    "## Objects\n",
    "\n",
    "Objects in Scala are **singletons**: they combine the definition of a class and its sole instance. Unlike classes, you cannot create multiple instances of an object.\n",
    "\n",
    "Objects are commonly used to hold static members, utility methods, or factory methods, similar to the `static` keyword in Java and class methods in Python.\n",
    "\n",
    "Objects can be paired with a class of the same name to form a **companion object**. **Companion objects and classes can access each other's private members**{:gtxt}, enabling powerful design patterns: <span>A companion class works with the object and vice versa</span>{:gtxt}.\n",
    "\n",
    "> Both the class and the companion object should be within the same file with the same name.\n",
    "\n",
    "Typical uses for objects include:\n",
    "- Defining utility or helper methods\n",
    "- Implementing pattern-matching logic\n",
    "- Providing `apply` methods for easier instance creation\n",
    "- Storing constants or configuration\n",
    "\n",
    "**Companion objects** are especially useful for organising code and encapsulating related functionality. In the following example, there is no way to create a direct instance from the Person class due to the `private` primary constructor which is only accessible via comapnion object:"
   ]
  },
  {
   "cell_type": "code",
   "execution_count": 58,
   "id": "19cd304b",
   "metadata": {},
   "outputs": [
    {
     "data": {
      "text/plain": [
       "defined \u001b[32mclass\u001b[39m \u001b[36mPerson\u001b[39m\n",
       "defined \u001b[32mobject\u001b[39m \u001b[36mPerson\u001b[39m\n",
       "\u001b[36mp1\u001b[39m: \u001b[32mPerson\u001b[39m = Person(id=1, name=Alice, Mall, age=0)\n",
       "\u001b[36mp2\u001b[39m: \u001b[32mPerson\u001b[39m = Person(id=2, name=Alice, Mall, age=0)\n",
       "\u001b[36mp3\u001b[39m: \u001b[32mPerson\u001b[39m = Person(id=3, name=Bob, Taylor, age=20)"
      ]
     },
     "execution_count": 58,
     "metadata": {},
     "output_type": "execute_result"
    }
   ],
   "source": [
    "class Person private (val fname: String, val lname: String, var age: Int){\n",
    "    \n",
    "    import Person._\n",
    "    val id: Int = nextId()  // Assign unique ID to each instance\n",
    "    \n",
    "    override def toString: String = s\"Person(id=$id, name=$fname, $lname, age=$age)\"\n",
    "}\n",
    "\n",
    "// companion object\n",
    "object Person { // Companion object for Person class\n",
    "    def apply(name: String, age: Int = 0): Person \n",
    "        = new Person(name.split(\"\\\\s+\")(0),name.split(\"\\\\s+\")(1), age)\n",
    "\n",
    "    private var instanceCount: Int = 0\n",
    "    \n",
    "    private def nextId(): Int = {\n",
    "        instanceCount += 1\n",
    "        instanceCount\n",
    "    }\n",
    "}\n",
    "\n",
    "val p1 =  Person(\"Alice Mall\")\n",
    "val p2 =  Person(\"Alice Mall\")\n",
    "val p3 =  Person(\"Bob Taylor\",20)"
   ]
  },
  {
   "cell_type": "markdown",
   "id": "b83dd45d",
   "metadata": {},
   "source": [
    "Above code is an example to use of `apply` method to void the `new` keyword while intantiate regular class.\n",
    "\n",
    "However, you can create Signleton (i.e. not a companion object)"
   ]
  },
  {
   "cell_type": "code",
   "execution_count": 60,
   "id": "1fa67586",
   "metadata": {},
   "outputs": [
    {
     "name": "stdout",
     "output_type": "stream",
     "text": [
      "Singleton s1 == s2 ~~> true\n",
      "Singleton s1 eq s2 ~~> true\n"
     ]
    },
    {
     "data": {
      "text/plain": [
       "defined \u001b[32mobject\u001b[39m \u001b[36mSingleton\u001b[39m\n",
       "\u001b[36ms1\u001b[39m: \u001b[32mSingleton\u001b[39m.type = ammonite.$sess.cmd59$Helper$Singleton$@2c3899b8\n",
       "\u001b[36ms2\u001b[39m: \u001b[32mSingleton\u001b[39m.type = ammonite.$sess.cmd59$Helper$Singleton$@2c3899b8"
      ]
     },
     "execution_count": 60,
     "metadata": {},
     "output_type": "execute_result"
    }
   ],
   "source": [
    "object Singleton {\n",
    "    def greet(): String = \"Hello from Singleton!\"\n",
    "}\n",
    "\n",
    "val s1 = Singleton\n",
    "val s2 = Singleton\n",
    "println(s\"Singleton s1 == s2 ~~> ${s1 == s2}\") // Prints: Singleton s1 == s2: true\n",
    "println(s\"Singleton s1 eq s2 ~~> ${s1 eq s2}\") // references are the same"
   ]
  },
  {
   "cell_type": "markdown",
   "id": "796c19f0",
   "metadata": {},
   "source": [
    "> Notice that, in the above code `s1 eq s2` is true because `s1` and `s2` both are pointing to the same object.\n",
    "\n",
    "You can access private properties of the Companion Object from its class also:"
   ]
  },
  {
   "cell_type": "code",
   "execution_count": 59,
   "id": "2a095642",
   "metadata": {},
   "outputs": [
    {
     "name": "stdout",
     "output_type": "stream",
     "text": [
      "number of Dummies are: 2\n"
     ]
    },
    {
     "data": {
      "text/plain": [
       "defined \u001b[32mclass\u001b[39m \u001b[36mDummy\u001b[39m\n",
       "defined \u001b[32mobject\u001b[39m \u001b[36mDummy\u001b[39m\n",
       "\u001b[36md1\u001b[39m: \u001b[32mDummy\u001b[39m = \u001b[33mDummy\u001b[39m(name = \u001b[32m\"a\"\u001b[39m, age = \u001b[32m1\u001b[39m)\n",
       "\u001b[36md2\u001b[39m: \u001b[32mDummy\u001b[39m = \u001b[33mDummy\u001b[39m(name = \u001b[32m\"b\"\u001b[39m, age = \u001b[32m3\u001b[39m)"
      ]
     },
     "execution_count": 59,
     "metadata": {},
     "output_type": "execute_result"
    }
   ],
   "source": [
    "case class Dummy(name: String, age: Int){\n",
    "    Dummy._count += 1 // Accessing private property\n",
    "    override def toString: String = s\"Dummy(name=$name, age=$age)\"\n",
    "}\n",
    "\n",
    "object Dummy {\n",
    "    private var _count:Int = 0\n",
    "    def getCount: Int = _count // Accessing private property\n",
    "}\n",
    "\n",
    "val d1 = Dummy(\"a\", 1)\n",
    "val d2 = Dummy(\"b\", 3)\n",
    "\n",
    "println(s\"number of Dummies are: ${Dummy.getCount}\")"
   ]
  },
  {
   "cell_type": "markdown",
   "id": "87b35240",
   "metadata": {},
   "source": [
    "## Method `apply`\n",
    "\n",
    "In Scala 2, the `apply` method is a special convention that allows <span>objects or companion objects to be invoked as if they were functions</span>{:gtxt}. When defined, it enables concise and intuitive syntax for object creation or custom behavior, such as constructing instances without explicitly using the `new` keyword (as explained above). \n",
    "\n",
    "> The `apply` method is commonly used in companion objects of classes, collections, and factory patterns to simplify code and improve readability.\n",
    "\n",
    "In the following senario, \n",
    "1. pass the intial value via constructor\n",
    "2. use `add(v:Int)` method to add intial value to `v` parameter.\n"
   ]
  },
  {
   "cell_type": "code",
   "execution_count": 64,
   "id": "a35503c5",
   "metadata": {},
   "outputs": [
    {
     "name": "stdout",
     "output_type": "stream",
     "text": [
      "foo.add(5) = 15\n"
     ]
    },
    {
     "data": {
      "text/plain": [
       "defined \u001b[32mclass\u001b[39m \u001b[36mFoo\u001b[39m\n",
       "\u001b[36mfoo\u001b[39m: \u001b[32mFoo\u001b[39m = Foo(x=10)"
      ]
     },
     "execution_count": 64,
     "metadata": {},
     "output_type": "execute_result"
    }
   ],
   "source": [
    "class Foo (private val x: Int) { // Private constructor\n",
    "    def add(v:Int): Int = x+v // Public method to access private field\n",
    "    override def toString: String = s\"Foo(x=$x)\"\n",
    "}\n",
    "\n",
    "val foo = new Foo(10) // Create an instance of Foo\n",
    "println(s\"foo.add(5) = ${foo.add(5)}\") // Access public method to add 5 to x\n",
    "// foo.x ❌"
   ]
  },
  {
   "cell_type": "markdown",
   "id": "75353d51",
   "metadata": {},
   "source": [
    "Using `apply` method you can avoid use of `add` method as follows:\n",
    "\n",
    "```scala\n",
    "def apply(parameters): ReturnType\n",
    "```\n",
    "\n",
    "When you define an `apply` method, you can invoke instances of the class or object as if they were functions, omitting the `.apply` part. For example, if you have `def apply(x: Int): Int`, then calling `instance(5)` is equivalent to `instance.apply(5)`. This enables concise and intuitive syntax for object creation or custom behavior."
   ]
  },
  {
   "cell_type": "code",
   "execution_count": 65,
   "id": "82bfb493",
   "metadata": {},
   "outputs": [
    {
     "name": "stdout",
     "output_type": "stream",
     "text": [
      "foo(5) = 15\n"
     ]
    },
    {
     "data": {
      "text/plain": [
       "defined \u001b[32mclass\u001b[39m \u001b[36mFoo\u001b[39m\n",
       "\u001b[36mfoo\u001b[39m: \u001b[32mFoo\u001b[39m = Foo(x=10)"
      ]
     },
     "execution_count": 65,
     "metadata": {},
     "output_type": "execute_result"
    }
   ],
   "source": [
    "class Foo (private val x: Int) { // Private constructor\n",
    "    def apply(v:Int): Int = x+v // Public method to access private field\n",
    "    override def toString: String = s\"Foo(x=$x)\"\n",
    "}\n",
    "\n",
    "val foo = new Foo(10) // Create an instance of Foo\n",
    "println(s\"foo(5) = ${foo(5)}\") // Access public method to add 5 to x"
   ]
  },
  {
   "cell_type": "markdown",
   "id": "7c1d62a5",
   "metadata": {},
   "source": [
    "Please take a look at the last line in the above code. You can avoid method name because it is `apply(...)`.\n",
    "\n",
    "You can define an `apply` method that takes two parameters in a class or object. This allows you to use the instance as if it were a function with two arguments."
   ]
  },
  {
   "cell_type": "code",
   "execution_count": 66,
   "id": "760718b3",
   "metadata": {},
   "outputs": [
    {
     "data": {
      "text/plain": [
       "defined \u001b[32mclass\u001b[39m \u001b[36mAdder\u001b[39m\n",
       "\u001b[36madder\u001b[39m: \u001b[32mAdder\u001b[39m = ammonite.$sess.cmd65$Helper$Adder@62c9a96b\n",
       "\u001b[36mres65_2\u001b[39m: \u001b[32mInt\u001b[39m = \u001b[32m17\u001b[39m"
      ]
     },
     "execution_count": 66,
     "metadata": {},
     "output_type": "execute_result"
    }
   ],
   "source": [
    "class Adder(val base: Int) {\n",
    "    def apply(x: Int, y: Int): Int = base + x + y\n",
    "}\n",
    "\n",
    "val adder = new Adder(10)\n",
    "adder(3, 4) // Output: 17 (10 + 3 + 4)\n"
   ]
  },
  {
   "cell_type": "markdown",
   "id": "a3678523",
   "metadata": {},
   "source": [
    "Here, calling `adder(3, 4)` is equivalent to `adder.apply(3, 4)`, thanks to the `apply` method with two parameters."
   ]
  },
  {
   "cell_type": "markdown",
   "id": "4f624309-b658-42ff-bff5-fb623b661be5",
   "metadata": {},
   "source": [
    "## Option\n",
    "In Scala, `Option[A]` is a sealed abstract trait that elegantly solves the null reference problem by making the presence or absence of a value explicit in the type system. Being sealed means it can only be extended by `Some[A]` (a case class wrapping an actual value) and `None` (a singleton object representing no value), both defined in the same file, which enables exhaustive pattern matching at compile time. This design leverages Scala's powerful features: the trait provides a common interface with higher-order methods like `map`, `flatMap`, and `filter` that compose beautifully in for-comprehensions; the case class gives `Some` automatic implementations of `equals`, `hashCode`, and pattern matching support; and the object makes `None` a singleton that's memory-efficient and referentially transparent. The type parameter `A` makes Option covariant, so `Some[String]` is a subtype of `Option[String]`, and methods like `getOrElse` use call-by-name parameters (`: => A`) for lazy evaluation, avoiding unnecessary computations. This functional approach transforms potentially dangerous null-checking imperative code into safe, composable expressions that the compiler can verify, embodying Scala's philosophy of marrying object-oriented and functional programming paradigms to create more robust, maintainable code.\n",
    "\n",
    "{% raw %}\n",
    "```mermaid\n",
    "classDiagram\n",
    "    class Option~A~ {\n",
    "        <<abstract>>\n",
    "        +isEmpty: Boolean\n",
    "        +isDefined: Boolean\n",
    "        +get: A\n",
    "        +getOrElse(default: => A): A\n",
    "        +orElse(alternative: => Option[A]): Option[A]\n",
    "        +map[B](f: A => B): Option[B]\n",
    "        +flatMap[B](f: A => Option[B]): Option[B]\n",
    "        +filter(p: A => Boolean): Option[A]\n",
    "        +foreach(f: A => Unit): Unit\n",
    "        +fold[B](ifEmpty: => B)(f: A => B): B\n",
    "        +contains(elem: A): Boolean\n",
    "        +exists(p: A => Boolean): Boolean\n",
    "        +forall(p: A => Boolean): Boolean\n",
    "    }\n",
    "    \n",
    "    class Some~A~ {\n",
    "        +value: A\n",
    "        +isEmpty: Boolean = false\n",
    "        +isDefined: Boolean = true\n",
    "        +get: A\n",
    "    }\n",
    "    \n",
    "    class None {\n",
    "        +isEmpty: Boolean = true\n",
    "        +isDefined: Boolean = false\n",
    "        +get: Nothing\n",
    "    }\n",
    "    \n",
    "    Option <|-- Some : extends\n",
    "    Option <|-- None : extends\n",
    "    \n",
    "    note for Option \"Represents optional values\n",
    "    Instances are either Some(value) or None\"\n",
    "    \n",
    "    note for Some \"Wraps a definite value\"\n",
    "    note for None \"Singleton object - no value\"\n",
    "```\n",
    "{% endraw %}"
   ]
  },
  {
   "cell_type": "markdown",
   "id": "710abab2",
   "metadata": {},
   "source": [
    "## Functions\n",
    "Scala 2 functions are first-class citizens, meaning \n",
    "\n",
    "- they can be assigned to variables, \n",
    "- passed as arguments, and \n",
    "- returned from other functions. \n",
    "\n",
    "Functions can be defined using the `def` keyword or as anonymous functions (lambdas). \n",
    "\n",
    "They support multiple parameter lists, default and named parameters, and can be curried for partial application. **Functions in Scala are objects**{:gtxt}, enabling powerful functional programming patterns such as *higher-order* functions, *closures*, and *composition*. This flexibility allows concise, expressive, and reusable code.\n",
    "\n",
    "Here how the factorial function"
   ]
  },
  {
   "cell_type": "code",
   "execution_count": 9,
   "id": "58f9d7b1",
   "metadata": {},
   "outputs": [
    {
     "data": {
      "text/plain": [
       "defined \u001b[32mfunction\u001b[39m \u001b[36mfactorial\u001b[39m\n",
       "\u001b[36mres9_1\u001b[39m: \u001b[32mInt\u001b[39m = \u001b[32m120\u001b[39m"
      ]
     },
     "execution_count": 9,
     "metadata": {},
     "output_type": "execute_result"
    }
   ],
   "source": [
    "// import scala.annotation.tailrec\n",
    "\n",
    "// @tailrec\n",
    "def factorial(n:Int):Int = {\n",
    "    if (n == 0 || n == 1) 1 else n * factorial(n-1)\n",
    "}\n",
    "\n",
    "factorial(5)"
   ]
  },
  {
   "cell_type": "markdown",
   "id": "9fd44cfe",
   "metadata": {},
   "source": [
    "But you could not <span> optimise `@tailrec`</span> annotated method factorial: it contains a recursive call not in tail position, that is, where n multiply the return of the recursive call. As a solution, use an **accumulator**:"
   ]
  },
  {
   "cell_type": "code",
   "execution_count": 13,
   "id": "1c1144fc",
   "metadata": {},
   "outputs": [
    {
     "data": {
      "text/plain": [
       "\u001b[32mimport \u001b[39m\u001b[36mscala.annotation.tailrec\u001b[39m\n",
       "defined \u001b[32mfunction\u001b[39m \u001b[36mfactorial\u001b[39m\n",
       "\u001b[36mres13_2\u001b[39m: \u001b[32mInt\u001b[39m = \u001b[32m120\u001b[39m"
      ]
     },
     "execution_count": 13,
     "metadata": {},
     "output_type": "execute_result"
    }
   ],
   "source": [
    "import scala.annotation.tailrec\n",
    "\n",
    "@tailrec\n",
    "def factorial(n:Int, acc:Int = 1):Int = {\n",
    "    if (n == 0 || n == 1) acc else factorial(n-1, n * acc)\n",
    "}\n",
    "\n",
    "factorial(5)"
   ]
  },
  {
   "cell_type": "markdown",
   "id": "c9910ed9-5202-48f3-82cb-bffe3fa77775",
   "metadata": {},
   "source": [
    "More functional version is"
   ]
  },
  {
   "cell_type": "code",
   "execution_count": 1,
   "id": "38e1de89-7b57-419d-ac6b-ed0ed6dcbbca",
   "metadata": {},
   "outputs": [
    {
     "data": {
      "text/plain": [
       "\u001b[32mimport \u001b[39m\u001b[36mscala.annotation.tailrec\n",
       "\n",
       "\u001b[39m\n",
       "defined \u001b[32mfunction\u001b[39m \u001b[36mfactorial\u001b[39m"
      ]
     },
     "execution_count": 1,
     "metadata": {},
     "output_type": "execute_result"
    }
   ],
   "source": [
    "import scala.annotation.tailrec\n",
    "\n",
    "def factorial(n:Int): Int = {\n",
    "    @tailrec\n",
    "    def fact(n:Int, acc:Int):Int = {\n",
    "        if (n == 0 | n ==1 ) acc\n",
    "        else fact(n-1, n * acc)\n",
    "    }\n",
    "    // call the method inside 👏 \n",
    "    fact(n, 1)\n",
    "}"
   ]
  },
  {
   "cell_type": "markdown",
   "id": "b4221e9e-05f4-46db-ac90-9c310f4156c3",
   "metadata": {},
   "source": [
    "Let's test the above factorial:"
   ]
  },
  {
   "cell_type": "code",
   "execution_count": 2,
   "id": "858758c9-dd7d-4a97-beac-5cbb1d4e0b31",
   "metadata": {},
   "outputs": [
    {
     "data": {
      "text/plain": [
       "\u001b[36mres1\u001b[39m: \u001b[32mInt\u001b[39m = \u001b[32m120\u001b[39m"
      ]
     },
     "execution_count": 2,
     "metadata": {},
     "output_type": "execute_result"
    }
   ],
   "source": [
    "factorial(5)"
   ]
  },
  {
   "cell_type": "markdown",
   "id": "f918a707",
   "metadata": {},
   "source": [
    "Difference between Functions and Methods in Scala 2:\n",
    "\n",
    "- **Methods** are defined with the `def` keyword inside *classes*, *traits*, or *objects* and are part of the structure of those types. They are invoked using dot notation and can have multiple parameter lists.\n",
    "- Methods must be converted to function values (using `_` or by eta-expansion) to be treated as objects, whereas functions are already objects.\n",
    "\n",
    "> Syntax vise, methods are like functions. Semantically method is not independent like a function to roaming.\n",
    "\n",
    "Here the simple function:"
   ]
  },
  {
   "cell_type": "code",
   "execution_count": 28,
   "id": "fe19c59a",
   "metadata": {},
   "outputs": [
    {
     "data": {
      "text/plain": [
       "\u001b[36maddOne\u001b[39m: \u001b[32mInt\u001b[39m => \u001b[32mInt\u001b[39m = ammonite.$sess.cmd27$Helper$$Lambda$3008/0x0000000128a39bc8@2b75fc7d\n",
       "\u001b[36mres27_1\u001b[39m: \u001b[32mInt\u001b[39m = \u001b[32m6\u001b[39m\n",
       "\u001b[36mres27_2\u001b[39m: \u001b[32mInt\u001b[39m = \u001b[32m6\u001b[39m"
      ]
     },
     "execution_count": 28,
     "metadata": {},
     "output_type": "execute_result"
    }
   ],
   "source": [
    "val addOne = (x: Int) => x + 1 // Function literal to add 1 to a number\n",
    "\n",
    "addOne.apply(5) // <~~~ (1)\n",
    "\n",
    "addOne(5) // <~~~ (2) "
   ]
  },
  {
   "cell_type": "markdown",
   "id": "11ebd1a4",
   "metadata": {},
   "source": [
    "Notice in the above code:\n",
    "1. Using apply method to call the function\n",
    "2. Using the function directly"
   ]
  },
  {
   "cell_type": "markdown",
   "id": "8111a123",
   "metadata": {},
   "source": [
    "The `=>` symbol in Scala 2 is used to define ***anonymous functions*** (also known as *function literals* or ***lambdas***). It separates the parameter list from the function body.\n",
    "\n",
    "- `(x: Int)` is the parameter list.\n",
    "- `x + 1` is the function body.\n",
    "- `=>` separates them, indicating that `addOne` is a function that takes an `Int` and returns `x + 1`.\n",
    "\n",
    "This syntax allows you to create functions without naming them, making your code concise and expressive.\n",
    "\n",
    "### Curring\n",
    "Currying in Scala 2 is the process of transforming a function that takes multiple arguments into a series of functions, each taking a single argument. This allows you to partially apply functions, fixing some arguments and producing new functions that accept the remaining arguments. \n",
    "\n",
    "> The concept is named after the mathematician Haskell Curry, who contributed significantly to the theory of functions in mathematics and computer science. Currying enables more flexible and reusable code, making it easier to compose and pass functions as values.\n",
    "\n",
    "For example Function literal to add two numbers see (1):"
   ]
  },
  {
   "cell_type": "code",
   "execution_count": 67,
   "id": "5cfbbdad",
   "metadata": {},
   "outputs": [
    {
     "data": {
      "text/plain": [
       "\u001b[36maddTwoNumbers\u001b[39m: (\u001b[32mInt\u001b[39m, \u001b[32mInt\u001b[39m) => \u001b[32mInt\u001b[39m = ammonite.$sess.cmd66$Helper$$Lambda$3171/0x000000012f959000@67a3e9da\n",
       "\u001b[36mres66_1\u001b[39m: \u001b[32mInt\u001b[39m = \u001b[32m7\u001b[39m"
      ]
     },
     "execution_count": 67,
     "metadata": {},
     "output_type": "execute_result"
    }
   ],
   "source": [
    "val addTwoNumbers \n",
    "    = (x: Int, y: Int) => x + y // <~~~(1)\n",
    "addTwoNumbers(3, 4) "
   ]
  },
  {
   "cell_type": "markdown",
   "id": "1b129710",
   "metadata": {},
   "source": [
    "If you apply *Currying* concept to above function:"
   ]
  },
  {
   "cell_type": "code",
   "execution_count": 20,
   "id": "68c24708",
   "metadata": {},
   "outputs": [
    {
     "data": {
      "text/plain": [
       "\u001b[36maddTwoNumbersOnCurried\u001b[39m: \u001b[32mInt\u001b[39m => \u001b[32mInt\u001b[39m => \u001b[32mInt\u001b[39m = ammonite.$sess.cmd20$Helper$$Lambda$2495/2007787243@57512536\n",
       "\u001b[36mres20_1\u001b[39m: \u001b[32mInt\u001b[39m = \u001b[32m7\u001b[39m"
      ]
     },
     "execution_count": 20,
     "metadata": {},
     "output_type": "execute_result"
    }
   ],
   "source": [
    "val addTwoNumbersOnCurried \n",
    "    = (x: Int) => (y: Int) => x + y // <~~~(1)\n",
    "addTwoNumbersOnCurried(3)(4) // <~~~(2)"
   ]
  },
  {
   "cell_type": "markdown",
   "id": "1a7d0362",
   "metadata": {},
   "source": [
    "Notice how to curried two variables as shwon in the (1) of the above code and the function call in at (2).\n",
    "\n",
    "Here, `addTwoNumbersOnCurried(3)` returns a new function that takes an `Int` and adds it to `3`. Then, applying `(4)` calls this returned function with `4`, resulting in `3 + 4 = 7`. This demonstrates how currying allows you to **partially apply**{:gtxt} arguments and chain function calls.\n",
    "\n",
    "### Closures in Scala\n",
    "\n",
    "A **closure** is a function that captures the **bindings of free variables**{:gtxt} in its environment. In Scala 2, this means a function can access and modify variables defined outside its own scope.\n",
    "\n",
    "Closures are useful for creating functions with context or state. \n",
    "\n",
    "For example where `multiplier` is a closure:\n"
   ]
  },
  {
   "cell_type": "code",
   "execution_count": 21,
   "id": "135607f2",
   "metadata": {},
   "outputs": [
    {
     "data": {
      "text/html": [
       "<div class=\"jp-RenderedText\">\n",
       "<pre><code><span style=\"color: rgb(0, 187, 187)\"><span class=\"ansi-cyan-fg\">factor</span></span>: <span style=\"color: rgb(0, 187, 0)\"><span class=\"ansi-green-fg\">Int</span></span> = <span style=\"color: rgb(0, 187, 0)\"><span class=\"ansi-green-fg\">3</span></span>\n",
       "<span style=\"color: rgb(0, 187, 187)\"><span class=\"ansi-cyan-fg\">multiplier</span></span>: <span style=\"color: rgb(0, 187, 0)\"><span class=\"ansi-green-fg\">Int</span></span> =&gt; <span style=\"color: rgb(0, 187, 0)\"><span class=\"ansi-green-fg\">Int</span></span> = ammonite.$sess.cmd21$Helper$$Lambda$2499/33639110@595423b5\n",
       "<span style=\"color: rgb(0, 187, 187)\"><span class=\"ansi-cyan-fg\">res21_2</span></span>: <span style=\"color: rgb(0, 187, 0)\"><span class=\"ansi-green-fg\">Int</span></span> = <span style=\"color: rgb(0, 187, 0)\"><span class=\"ansi-green-fg\">10</span></span>\n",
       "<span style=\"color: rgb(0, 187, 187)\"><span class=\"ansi-cyan-fg\">res21_4</span></span>: <span style=\"color: rgb(0, 187, 0)\"><span class=\"ansi-green-fg\">Int</span></span> = <span style=\"color: rgb(0, 187, 0)\"><span class=\"ansi-green-fg\">15</span></span></code></pre>\n",
       "</div>"
      ],
      "text/plain": [
       "\u001b[36mfactor\u001b[39m: \u001b[32mInt\u001b[39m = \u001b[32m3\u001b[39m\n",
       "\u001b[36mmultiplier\u001b[39m: \u001b[32mInt\u001b[39m => \u001b[32mInt\u001b[39m = ammonite.$sess.cmd21$Helper$$Lambda$2499/33639110@595423b5\n",
       "\u001b[36mres21_2\u001b[39m: \u001b[32mInt\u001b[39m = \u001b[32m10\u001b[39m\n",
       "\u001b[36mres21_4\u001b[39m: \u001b[32mInt\u001b[39m = \u001b[32m15\u001b[39m"
      ]
     },
     "metadata": {},
     "output_type": "display_data"
    }
   ],
   "source": [
    "var factor = 2 // free variable\n",
    "val multiplier = (x: Int) => x * factor  \n",
    "multiplier(5)\n",
    "\n",
    "factor = 3 // when you change factor, it will affect the multiplier function\n",
    "multiplier(5) "
   ]
  },
  {
   "cell_type": "markdown",
   "id": "ce3b9ff3",
   "metadata": {},
   "source": [
    "Here, `multiplier` captures the `factor` variable from its environment. Changing `factor` after the closure is created affects the result, demonstrating how closures maintain a reference to their enclosing scope."
   ]
  },
  {
   "cell_type": "markdown",
   "id": "0d19de30",
   "metadata": {},
   "source": [
    "Suppose we want to count the number of occurrences of a character in a given string. In this case the `c` is the free varaible and closure function is bound to that. The result of the function will be change according to the `c`. \n",
    "\n",
    "We can define a curried function for this purpose:"
   ]
  },
  {
   "cell_type": "code",
   "execution_count": 22,
   "id": "4cdc1813",
   "metadata": {},
   "outputs": [
    {
     "data": {
      "text/plain": [
       "\u001b[36mcountCharInString\u001b[39m: \u001b[32mChar\u001b[39m => \u001b[32mString\u001b[39m => \u001b[32mInt\u001b[39m = ammonite.$sess.cmd22$Helper$$Lambda$2507/29628173@43ac5995"
      ]
     },
     "execution_count": 22,
     "metadata": {},
     "output_type": "execute_result"
    }
   ],
   "source": [
    "val countCharInString = \n",
    "    // (c: Char) => (s: String) => s.count(cx => cx == c)\n",
    "    (c: Char) => (s: String) => s.count(_ == c)\n"
   ]
  },
  {
   "cell_type": "markdown",
   "id": "903cf14d",
   "metadata": {},
   "source": [
    "Now, you can partially apply the function to fix the character and reuse it:"
   ]
  },
  {
   "cell_type": "code",
   "execution_count": 23,
   "id": "c3fb7e07",
   "metadata": {},
   "outputs": [
    {
     "data": {
      "text/plain": [
       "\u001b[36mcountA\u001b[39m: \u001b[32mString\u001b[39m => \u001b[32mInt\u001b[39m = ammonite.$sess.cmd22$Helper$$Lambda$2510/1105659595@12debd97\n",
       "\u001b[36mres23_1\u001b[39m: \u001b[32mInt\u001b[39m = \u001b[32m3\u001b[39m\n",
       "\u001b[36mcountB\u001b[39m: \u001b[32mString\u001b[39m => \u001b[32mInt\u001b[39m = ammonite.$sess.cmd22$Helper$$Lambda$2510/1105659595@6ebbf543\n",
       "\u001b[36mres23_3\u001b[39m: \u001b[32mInt\u001b[39m = \u001b[32m1\u001b[39m"
      ]
     },
     "execution_count": 23,
     "metadata": {},
     "output_type": "execute_result"
    }
   ],
   "source": [
    "val countA = countCharInString('a')\n",
    "countA(\"banana\") \n",
    "\n",
    "val countB = countCharInString('b')\n",
    "countB(\"banana\")"
   ]
  },
  {
   "cell_type": "markdown",
   "id": "0db40ac4",
   "metadata": {},
   "source": [
    "A closure in Scala 2 can modify a free variable if that variable is mutable (e.g., a `var`). Here’s an example:\n"
   ]
  },
  {
   "cell_type": "code",
   "execution_count": 24,
   "id": "80474aa2",
   "metadata": {},
   "outputs": [
    {
     "name": "stdout",
     "output_type": "stream",
     "text": [
      "2\n"
     ]
    },
    {
     "data": {
      "text/html": [
       "<div class=\"jp-RenderedText\">\n",
       "<pre><code><span style=\"color: rgb(0, 187, 187)\"><span class=\"ansi-cyan-fg\">counter</span></span>: <span style=\"color: rgb(0, 187, 0)\"><span class=\"ansi-green-fg\">Int</span></span> = <span style=\"color: rgb(0, 187, 0)\"><span class=\"ansi-green-fg\">2</span></span>\n",
       "<span style=\"color: rgb(0, 187, 187)\"><span class=\"ansi-cyan-fg\">increment</span></span>: () =&gt; <span style=\"color: rgb(0, 187, 0)\"><span class=\"ansi-green-fg\">Unit</span></span> = ammonite.$sess.cmd24$Helper$$Lambda$2516/909580591@536e9888</code></pre>\n",
       "</div>"
      ],
      "text/plain": [
       "\u001b[36mcounter\u001b[39m: \u001b[32mInt\u001b[39m = \u001b[32m2\u001b[39m\n",
       "\u001b[36mincrement\u001b[39m: () => \u001b[32mUnit\u001b[39m = ammonite.$sess.cmd24$Helper$$Lambda$2516/909580591@536e9888"
      ]
     },
     "metadata": {},
     "output_type": "display_data"
    }
   ],
   "source": [
    "var counter = 0 // free variable\n",
    "\n",
    "val increment = () => { counter += 1 } // closure modifies counter\n",
    "\n",
    "increment()\n",
    "increment()\n",
    "println(counter) "
   ]
  },
  {
   "cell_type": "markdown",
   "id": "caf1b41f",
   "metadata": {},
   "source": [
    "\n",
    "In this example, the closure `increment` captures and modifies the free variable `counter` from its enclosing scope. Each call to `increment()` increases `counter` by 1.\n"
   ]
  },
  {
   "cell_type": "markdown",
   "id": "b51210a8",
   "metadata": {},
   "source": [
    "## Tuples in Scala 2\n",
    "\n",
    "A **tuple** in Scala 2 is a simple data structure \n",
    "\n",
    "- that can hold a fixed number of items, each potentially of a different type. \n",
    "- Tuples are immutable and are useful for grouping related values without creating a custom class.\n",
    "\n"
   ]
  },
  {
   "cell_type": "markdown",
   "id": "7699f5db",
   "metadata": {},
   "source": [
    "### Creating Tuples\n",
    "\n",
    "You can create a tuple by enclosing values in parentheses, separated by commas:"
   ]
  },
  {
   "cell_type": "code",
   "execution_count": 25,
   "id": "08276f5b",
   "metadata": {},
   "outputs": [
    {
     "data": {
      "text/plain": [
       "\u001b[36mtuple2\u001b[39m: (\u001b[32mInt\u001b[39m, \u001b[32mString\u001b[39m) = (\u001b[32m1\u001b[39m, \u001b[32m\"Scala\"\u001b[39m)\n",
       "\u001b[36mtuple3\u001b[39m: (\u001b[32mInt\u001b[39m, \u001b[32mString\u001b[39m, \u001b[32mBoolean\u001b[39m) = (\u001b[32m1\u001b[39m, \u001b[32m\"Scala\"\u001b[39m, \u001b[32mtrue\u001b[39m)"
      ]
     },
     "execution_count": 25,
     "metadata": {},
     "output_type": "execute_result"
    }
   ],
   "source": [
    "val tuple2 = (1, \"Scala\") \n",
    "val tuple3 = (1, \"Scala\", true) "
   ]
  },
  {
   "cell_type": "markdown",
   "id": "fc3723b9",
   "metadata": {},
   "source": [
    "Scala supports tuples of up to 22 elements.\n",
    "\n",
    "### Accessing Tuple Elements\n",
    "\n",
    "Tuple elements are accessed using the `_1`, `_2`, ..., `_n` methods:"
   ]
  },
  {
   "cell_type": "code",
   "execution_count": 26,
   "id": "2be8a9b0",
   "metadata": {},
   "outputs": [
    {
     "data": {
      "text/plain": [
       "\u001b[36mt\u001b[39m: (\u001b[32mInt\u001b[39m, \u001b[32mString\u001b[39m, \u001b[32mDouble\u001b[39m) = (\u001b[32m42\u001b[39m, \u001b[32m\"hello\"\u001b[39m, \u001b[32m3.14\u001b[39m)\n",
       "\u001b[36mfirst\u001b[39m: \u001b[32mInt\u001b[39m = \u001b[32m42\u001b[39m\n",
       "\u001b[36msecond\u001b[39m: \u001b[32mString\u001b[39m = \u001b[32m\"hello\"\u001b[39m\n",
       "\u001b[36mthird\u001b[39m: \u001b[32mDouble\u001b[39m = \u001b[32m3.14\u001b[39m"
      ]
     },
     "execution_count": 26,
     "metadata": {},
     "output_type": "execute_result"
    }
   ],
   "source": [
    "val t = (42, \"hello\", 3.14)\n",
    "val first = t._1    \n",
    "val second = t._2   \n",
    "val third = t._3    "
   ]
  },
  {
   "cell_type": "markdown",
   "id": "631aa65f",
   "metadata": {},
   "source": [
    "### Pattern Matching with Tuples\n",
    "\n",
    "You can use pattern matching to extract values from a tuple:"
   ]
  },
  {
   "cell_type": "code",
   "execution_count": 31,
   "id": "1b6aaba6",
   "metadata": {},
   "outputs": [
    {
     "data": {
      "text/plain": [
       "\u001b[36mperson\u001b[39m: (\u001b[32mString\u001b[39m, \u001b[32mInt\u001b[39m) = (\u001b[32m\"Alice\"\u001b[39m, \u001b[32m30\u001b[39m)\n",
       "\u001b[36mname\u001b[39m: \u001b[32mString\u001b[39m = \u001b[32m\"Alice\"\u001b[39m\n",
       "\u001b[36mage\u001b[39m: \u001b[32mInt\u001b[39m = \u001b[32m30\u001b[39m"
      ]
     },
     "execution_count": 31,
     "metadata": {},
     "output_type": "execute_result"
    }
   ],
   "source": [
    "val person = (\"Alice\", 30)\n",
    "val (name, age) = person"
   ]
  },
  {
   "cell_type": "markdown",
   "id": "a78239bb",
   "metadata": {},
   "source": [
    "### Returning Multiple Values from a Function\n",
    "\n",
    "Tuples are often used to return multiple values from a function:"
   ]
  },
  {
   "cell_type": "code",
   "execution_count": 29,
   "id": "80bd8f9c",
   "metadata": {},
   "outputs": [
    {
     "data": {
      "text/plain": [
       "defined \u001b[32mfunction\u001b[39m \u001b[36mminMax\u001b[39m\n",
       "\u001b[36mmin\u001b[39m: \u001b[32mInt\u001b[39m = \u001b[32m2\u001b[39m\n",
       "\u001b[36mmax\u001b[39m: \u001b[32mInt\u001b[39m = \u001b[32m9\u001b[39m"
      ]
     },
     "execution_count": 29,
     "metadata": {},
     "output_type": "execute_result"
    }
   ],
   "source": [
    "def minMax(values: Array[Int]): (Int, Int) =   \n",
    "    (values.min, values.max)\n",
    "\n",
    "val (min, max) = minMax(Array(3, 7, 2, 9))\n",
    "// min: 2, max: 9"
   ]
  },
  {
   "cell_type": "markdown",
   "id": "632870fc",
   "metadata": {},
   "source": [
    "<span>Tuples are immutable and can hold elements of different types</span>{:gtxt}, making them handy for quick grouping of values without defining a new class.\n",
    "\n",
    "> 💥 Scala 2 tuples can have up to 22 elements. This means you can create tuples like `(a1, a2, ..., a22)`, but not more. This limitation exists because each tuple arity is represented by a separate class in the standard library, and Scala 2 only provides classes up to `Tuple22`.\n",
    "{:.yellow}"
   ]
  },
  {
   "cell_type": "markdown",
   "id": "e58844b8",
   "metadata": {},
   "source": [
    "Here, `List`, `Vector`, and `Map` are generic classes, and you specify the type(s) they contain.\n",
    "\n",
    "## Defining Your Own Parameterized Types\n",
    "\n",
    "You can define your own generic classes or methods:\n"
   ]
  },
  {
   "cell_type": "code",
   "execution_count": 36,
   "id": "1076cef7",
   "metadata": {},
   "outputs": [
    {
     "data": {
      "text/plain": [
       "defined \u001b[32mclass\u001b[39m \u001b[36mBox\u001b[39m\n",
       "\u001b[36mintBox\u001b[39m: \u001b[32mBox\u001b[39m[\u001b[32mInt\u001b[39m] = ammonite.$sess.cmd36$Helper$Box@2e484f05\n",
       "\u001b[36mstrBox\u001b[39m: \u001b[32mBox\u001b[39m[\u001b[32mString\u001b[39m] = ammonite.$sess.cmd36$Helper$Box@5a5d8f9f"
      ]
     },
     "execution_count": 36,
     "metadata": {},
     "output_type": "execute_result"
    }
   ],
   "source": [
    "class Box[A](val value: A)\n",
    "val intBox = new Box[Int](42)\n",
    "val strBox = new Box[String](\"hello\")"
   ]
  },
  {
   "cell_type": "markdown",
   "id": "465d4861",
   "metadata": {},
   "source": [
    "### Variance in Scala Collections\n",
    "\n",
    "Scala collections use *variance annotations* to control subtyping:\n",
    "\n",
    "- `List[+A]` is **covariant**: `List[String]` is a subtype of `List[AnyRef]`.\n",
    "- `Array[A]` is **invariant**: `Array[String]` is not a subtype of `Array[AnyRef]`.\n",
    "\n",
    "> Parameterized types are essential for working with Scala collections, ensuring type safety and flexibility across your codebase.\n",
    "{:.green}"
   ]
  },
  {
   "cell_type": "markdown",
   "id": "705d7295",
   "metadata": {},
   "source": [
    "### Variance in Scala: Covariant, Invariant, and Contravariant\n",
    "\n",
    "Variance describes how subtyping between more complex types relates to subtyping between their component types. In Scala, variance is controlled using annotations on type parameters:\n",
    "\n",
    "- `+A` for **covariance**\n",
    "- `-A` for **contravariance**\n",
    "- No annotation for **invariance**\n"
   ]
  },
  {
   "cell_type": "markdown",
   "id": "49ef5f91",
   "metadata": {},
   "source": [
    "#### Covariant (`+A`)\n",
    "\n",
    "A type constructor is **covariant** if, for types `A` and `B`, whenever `A` is a subtype of `B`, then `F[A]` is a subtype of `F[B]`.\n",
    "\n",
    "```mermaid\n",
    "classDiagram\n",
    "    Type_B <|-- Type_A : extends\n",
    "```"
   ]
  },
  {
   "cell_type": "code",
   "execution_count": 1,
   "id": "03bc89f6",
   "metadata": {},
   "outputs": [
    {
     "data": {
      "text/plain": [
       "defined \u001b[32mclass\u001b[39m \u001b[36mType_B\u001b[39m\n",
       "defined \u001b[32mclass\u001b[39m \u001b[36mType_A\u001b[39m\n",
       "defined \u001b[32mclass\u001b[39m \u001b[36mF\u001b[39m\n",
       "\u001b[36maF\u001b[39m: \u001b[32mF\u001b[39m[\u001b[32mType_A\u001b[39m] = ammonite.$sess.cmd1$Helper$F@4d5830df\n",
       "\u001b[36mbF\u001b[39m: \u001b[32mF\u001b[39m[\u001b[32mType_B\u001b[39m] = ammonite.$sess.cmd1$Helper$F@4d5830df"
      ]
     },
     "execution_count": 1,
     "metadata": {},
     "output_type": "execute_result"
    }
   ],
   "source": [
    "class Type_B\n",
    "class Type_A extends Type_B\n",
    "\n",
    "class F[+A](val value: A)\n",
    "val aF: F[Type_A] = new F(new Type_A)\n",
    "val bF: F[Type_B] = aF // Allowed: F[Type_A] <: F[Type_B]"
   ]
  },
  {
   "cell_type": "markdown",
   "id": "9f99d57d",
   "metadata": {},
   "source": [
    "- **Use case:** Collections that only produce values (e.g., `List[+A]`).\n",
    "- **Mnemonic:** \"Output\" position.\n",
    "\n",
    "#### Invariant (`A`)\n",
    "\n",
    "A type constructor is **invariant** if there is no subtyping relationship between `F[A]` and `F[B]`, even if `A` and `B` are related.\n"
   ]
  },
  {
   "cell_type": "code",
   "execution_count": 2,
   "id": "131551e2",
   "metadata": {},
   "outputs": [
    {
     "name": "stderr",
     "output_type": "stream",
     "text": [
      "cmd2.sc:3: type mismatch;\n",
      " found   : Helper.this.F[cmd2.this.cmd1.Type_A]\n",
      " required: Helper.this.F[cmd2.this.cmd1.Type_B]\n",
      "Note: cmd2.this.cmd1.Type_A <: cmd2.this.cmd1.Type_B, but class F is invariant in type A.\n",
      "You may wish to define A as +A instead. (SLS 4.5)\n",
      "val bF: F[Type_B] = aF // Error: F[A] is not a subtype of F[B]\n",
      "                    ^\n",
      "Compilation Failed"
     ]
    }
   ],
   "source": [
    "class F[A](val value: A)\n",
    "val aF: F[Type_A] = new F(new Type_A)\n",
    "val bF: F[Type_B] = aF // Error: F[A] is not a subtype of F[B]"
   ]
  },
  {
   "cell_type": "markdown",
   "id": "80158626",
   "metadata": {},
   "source": [
    "- **Use case:** Mutable collections or types that both consume and produce values (e.g., `Array[A]`).\n",
    "- **Mnemonic:** \"Both input and output\" positions.\n",
    "\n",
    "#### Contravariant (`-A`)\n",
    "\n",
    "A type constructor is **contravariant** if, for types `A` and `B`, whenever `A` is a subtype of `B`, then `F[B]` is a subtype of `F[A]`."
   ]
  },
  {
   "cell_type": "code",
   "execution_count": 11,
   "id": "927f97db",
   "metadata": {},
   "outputs": [
    {
     "data": {
      "text/plain": [
       "defined \u001b[32mclass\u001b[39m \u001b[36mF\u001b[39m\n",
       "\u001b[36mbF\u001b[39m: \u001b[32mF\u001b[39m[\u001b[32mType_B\u001b[39m] = ammonite.$sess.cmd11$Helper$F@32a534e8\n",
       "\u001b[36maF\u001b[39m: \u001b[32mF\u001b[39m[\u001b[32mType_A\u001b[39m] = ammonite.$sess.cmd11$Helper$F@32a534e8"
      ]
     },
     "execution_count": 11,
     "metadata": {},
     "output_type": "execute_result"
    }
   ],
   "source": [
    "class F[-A] {\n",
    "    def print(a: A): Unit = println(a)\n",
    "}\n",
    "\n",
    "val bF: F[Type_B] = new F[Type_B]\n",
    "val aF: F[Type_A] = bF // Allowed: F[Type_B] <: F[Type_A]"
   ]
  },
  {
   "cell_type": "markdown",
   "id": "b2c5b532",
   "metadata": {},
   "source": [
    "\n",
    "- **Use case:** Types that only consume values (e.g., function argument types).\n",
    "- **Mnemonic:** \"Input\" position.\n",
    "\n",
    "Summary Table\n",
    "\n",
    "```mermaid\n",
    "classDiagram\n",
    "    Animal <|-- Dog : extends\n",
    "```\n",
    "\n",
    "| Annotation | Name         | Example         | Subtyping Direction                | Use Case                |\n",
    "|------------|--------------|----------------|------------------------------------|-------------------------|\n",
    "| `+A`       | Covariant    | `List[+A]`     | `List[Dog]` <: `List[Animal]`      | Output-only (produce)   |\n",
    "| `A`        | Invariant    | `Array[A]`     | No relationship                    | Input & output (mutable)|\n",
    "| `-A`       | Contravariant| `Printer[-A]`  | `Printer[Animal]` <: `Printer[Dog]`| Input-only (consume)    |\n",
    "\n",
    "> Covariance and contravariance help ensure type safety and flexibility when designing generic classes and traits in Scala."
   ]
  },
  {
   "cell_type": "markdown",
   "id": "98d59bf1",
   "metadata": {},
   "source": [
    "## Traits\n",
    "Traits are a fundamental feature that combines aspects of interfaces and mixins, providing a powerful way to compose behaviour and share code between classes.\n",
    "\n",
    "> A trait is similar to an interface in Java, but more powerful. It can contain both abstract and concrete methods, as well as fields."
   ]
  },
  {
   "cell_type": "code",
   "execution_count": 12,
   "id": "ccbec114",
   "metadata": {},
   "outputs": [
    {
     "data": {
      "text/plain": [
       "defined \u001b[32mtrait\u001b[39m \u001b[36mDrawable\u001b[39m"
      ]
     },
     "execution_count": 12,
     "metadata": {},
     "output_type": "execute_result"
    }
   ],
   "source": [
    "trait Drawable {\n",
    "  def draw(): Unit  // abstract method\n",
    "  def isVisible: Boolean = true  // concrete method with default implementation\n",
    "  val color: String = \"black\"  // concrete field\n",
    "}"
   ]
  },
  {
   "cell_type": "markdown",
   "id": "e6aa85a4",
   "metadata": {},
   "source": [
    "Classes can extend multiple traits, enabling a form of multiple inheritance that avoids the diamond problem."
   ]
  },
  {
   "cell_type": "markdown",
   "id": "4f738f85-6762-49d6-8734-576919d29857",
   "metadata": {},
   "source": [
    "## Linearisation and Method Resolution\n",
    "\n",
    "When multiple traits define the same method, Scala uses linearisation to determine which implementation to select. \n",
    "\n",
    "The linearisation order follows a depth-first, right-to-left traversal.{:gtxt}\n",
    "\n",
    "```mermaid\n",
    "classDiagram\n",
    "    class A[\"A (trait)\"] {\n",
    "\n",
    "        +foo() String\n",
    "    }\n",
    "    \n",
    "    class B[\"B (trait)\"] {\n",
    "        +foo() String\n",
    "    }\n",
    "    \n",
    "    class C[\"C (trait)\"] {\n",
    "        +foo() String\n",
    "    }\n",
    "    \n",
    "    class D {\n",
    "        +foo() String\n",
    "    }\n",
    "    \n",
    "    A <|-- B : extends\n",
    "    A <|-- C : extends\n",
    "    B <|.. D : with\n",
    "    C <|.. D : with\n",
    "    \n",
    "    note for D \"Linearization: D → C → B → A\n",
    "    foo() returns CBA\"\n",
    "```"
   ]
  },
  {
   "cell_type": "code",
   "execution_count": 13,
   "id": "ea5c956f-a1b6-4665-bc74-c7159cef7610",
   "metadata": {},
   "outputs": [
    {
     "data": {
      "text/plain": [
       "defined \u001b[32mtrait\u001b[39m \u001b[36mA\u001b[39m\n",
       "defined \u001b[32mtrait\u001b[39m \u001b[36mB\u001b[39m\n",
       "defined \u001b[32mtrait\u001b[39m \u001b[36mC\u001b[39m\n",
       "defined \u001b[32mclass\u001b[39m \u001b[36mD\u001b[39m\n",
       "\u001b[36mres13_4\u001b[39m: \u001b[32mString\u001b[39m = \u001b[32m\"CBA\"\u001b[39m"
      ]
     },
     "execution_count": 13,
     "metadata": {},
     "output_type": "execute_result"
    }
   ],
   "source": [
    "trait A { def foo = \"A\" }\n",
    "trait B extends A { override def foo = \"B\" + super.foo }\n",
    "trait C extends A { override def foo = \"C\" + super.foo }\n",
    "\n",
    "class D extends B with C // Linearization: D -> C -> B -> A\n",
    "new D().foo // returns \"CBA\""
   ]
  },
  {
   "cell_type": "markdown",
   "id": "53da2896",
   "metadata": {},
   "source": [
    "#### Self-Types traits\n",
    "Traits can declare dependencies on other traits or classes using self-types:\n",
    "\n",
    "```mermaid\n",
    "classDiagram\n",
    "    class Logger[\"Logger\n",
    "    (trait)\"] {\n",
    "        +log(message: String) Unit\n",
    "        +warn(message: String) Unit\n",
    "    }\n",
    "    \n",
    "    class DatabaseAccess[\"DatabaseAccess\n",
    "    (trait)\"]  {\n",
    "        +query(sql: String) Unit\n",
    "    }\n",
    "    \n",
    "    class UserService {\n",
    "        +log(message: String) Unit\n",
    "        +warn(message: String) Unit\n",
    "        +query(sql: String) Unit\n",
    "    }\n",
    "    \n",
    "    Logger <|.. UserService : with\n",
    "    DatabaseAccess <|.. UserService : with\n",
    "    Logger <.. DatabaseAccess : self-type dependency\n",
    "    \n",
    "    note for DatabaseAccess \"self: Logger =>\n",
    "    Requires Logger to be mixed in\"\n",
    "    note for UserService \"Valid: extends Logger with DatabaseAccess\"\n",
    "```"
   ]
  },
  {
   "cell_type": "code",
   "execution_count": 6,
   "id": "56c9d9c6",
   "metadata": {},
   "outputs": [
    {
     "data": {
      "text/plain": [
       "defined \u001b[32mtrait\u001b[39m \u001b[36mLogger\u001b[39m\n",
       "defined \u001b[32mtrait\u001b[39m \u001b[36mDatabaseAccess\u001b[39m\n",
       "defined \u001b[32mclass\u001b[39m \u001b[36mUserService\u001b[39m"
      ]
     },
     "execution_count": 6,
     "metadata": {},
     "output_type": "execute_result"
    }
   ],
   "source": [
    "// no abstracts\n",
    "trait Logger {\n",
    "  def log(message: String): Unit = println(s\"[LOG] $message\")\n",
    "  def warn(message: String): Unit = println(s\"[WARN] $message\")\n",
    "}\n",
    "\n",
    "trait DatabaseAccess {\n",
    "  self: Logger =>  // requires Logger to be mixed in\n",
    "  \n",
    "  def query(sql: String): Unit = {\n",
    "    log(s\"Executing: $sql\")\n",
    "    // database logic\n",
    "  }\n",
    "}\n",
    "\n",
    "class UserService extends Logger with DatabaseAccess  // valid\n",
    "// class UserService extends DatabaseAccess  // compilation error"
   ]
  },
  {
   "cell_type": "code",
   "execution_count": 4,
   "id": "ea3ba00e",
   "metadata": {},
   "outputs": [
    {
     "data": {
      "text/plain": [
       "\u001b[32mimport \u001b[39m\u001b[36mjava.util.Date\u001b[39m\n",
       "defined \u001b[32mtrait\u001b[39m \u001b[36mLogger\u001b[39m\n",
       "defined \u001b[32mtrait\u001b[39m \u001b[36mTimestampLogger\u001b[39m\n",
       "defined \u001b[32mtrait\u001b[39m \u001b[36mEncryptedLogger\u001b[39m\n",
       "defined \u001b[32mclass\u001b[39m \u001b[36mSecureService\u001b[39m"
      ]
     },
     "execution_count": 4,
     "metadata": {},
     "output_type": "execute_result"
    }
   ],
   "source": [
    "import java.util.Date\n",
    "\n",
    "\n",
    "trait TimestampLogger extends Logger {\n",
    "  override def log(message: String): Unit = {\n",
    "    super.log(s\"${new Date()}: $message\")\n",
    "  }\n",
    "}\n",
    "\n",
    "trait EncryptedLogger extends Logger {\n",
    "  override def log(message: String): Unit = {\n",
    "    super.log(encrypt(message))\n",
    "  }\n",
    "  private def encrypt(s: String) = s.reverse  // simple example\n",
    "}\n",
    "\n",
    "class SecureService extends Logger with TimestampLogger with EncryptedLogger"
   ]
  },
  {
   "cell_type": "markdown",
   "id": "473eb2bf",
   "metadata": {},
   "source": [
    "### Common Patterns\n",
    "Stackable Modifications: Traits can modify behavior by calling `super`:"
   ]
  },
  {
   "cell_type": "code",
   "execution_count": 7,
   "id": "47050d9a",
   "metadata": {},
   "outputs": [
    {
     "data": {
      "text/plain": [
       "defined \u001b[32mtrait\u001b[39m \u001b[36mTimestampLogger\u001b[39m\n",
       "defined \u001b[32mtrait\u001b[39m \u001b[36mEncryptedLogger\u001b[39m\n",
       "defined \u001b[32mclass\u001b[39m \u001b[36mSecureService\u001b[39m"
      ]
     },
     "execution_count": 7,
     "metadata": {},
     "output_type": "execute_result"
    }
   ],
   "source": [
    "trait TimestampLogger extends Logger {\n",
    "  override def log(message: String): Unit = {\n",
    "    super.log(s\"${new Date()}: $message\")\n",
    "  }\n",
    "}\n",
    "\n",
    "trait EncryptedLogger extends Logger {\n",
    "  override def log(message: String): Unit = {\n",
    "    super.log(encrypt(message))\n",
    "  }\n",
    "  private def encrypt(s: String) = s.reverse  // simple example\n",
    "}\n",
    "\n",
    "class SecureService extends Logger with TimestampLogger with EncryptedLogger"
   ]
  },
  {
   "cell_type": "markdown",
   "id": "05720af8",
   "metadata": {},
   "source": [
    "Template Method Pattern: Define algorithm structure in traits with customizable steps:\n"
   ]
  },
  {
   "cell_type": "code",
   "execution_count": 2,
   "id": "76825db6",
   "metadata": {},
   "outputs": [
    {
     "data": {
      "text/plain": [
       "defined \u001b[32mtrait\u001b[39m \u001b[36mDataProcessor\u001b[39m"
      ]
     },
     "execution_count": 2,
     "metadata": {},
     "output_type": "execute_result"
    }
   ],
   "source": [
    "trait DataProcessor {\n",
    "  def process(data: String): String = {\n",
    "    val validated = validate(data)\n",
    "    val transformed = transform(validated)\n",
    "    save(transformed)\n",
    "  }\n",
    "  \n",
    "  protected def validate(data: String): String\n",
    "  protected def transform(data: String): String  \n",
    "  protected def save(data: String): String\n",
    "}"
   ]
  },
  {
   "cell_type": "markdown",
   "id": "9f07c171",
   "metadata": {},
   "source": [
    "## ScalaTest Example\n",
    "\n",
    "Below is an example of how to use `org.scalatest.funspec.AnyFunSpec` together with `org.scalatest.matchers.should.Matchers` in Scala 2 for expressive and readable unit tests.\n"
   ]
  },
  {
   "cell_type": "code",
   "execution_count": 32,
   "id": "3e9746b0",
   "metadata": {},
   "outputs": [
    {
     "data": {
      "text/plain": [
       "\u001b[32mimport \u001b[39m\u001b[36morg.scalatest.funspec.AnyFunSpec\u001b[39m\n",
       "\u001b[32mimport \u001b[39m\u001b[36morg.scalatest.matchers.should.Matchers\u001b[39m\n",
       "defined \u001b[32mclass\u001b[39m \u001b[36mCalculatorSpec\u001b[39m"
      ]
     },
     "execution_count": 32,
     "metadata": {},
     "output_type": "execute_result"
    }
   ],
   "source": [
    "import org.scalatest.funspec.AnyFunSpec\n",
    "import org.scalatest.matchers.should.Matchers\n",
    "\n",
    "class CalculatorSpec extends AnyFunSpec with Matchers {\n",
    "\n",
    "    describe(\"A Calculator\") {\n",
    "\n",
    "        it(\"should add two numbers correctly\") {\n",
    "            val sum = 2 + 3\n",
    "            sum shouldEqual 5\n",
    "        }\n",
    "\n",
    "        it(\"should multiply two numbers correctly\") {\n",
    "            val product = 4 * 5\n",
    "            product shouldBe 20\n",
    "        }\n",
    "\n",
    "        it(\"should throw an exception when dividing by zero\") {\n",
    "            an [ArithmeticException] should be thrownBy {\n",
    "                10 / 0\n",
    "            }\n",
    "        }\n",
    "\n",
    "    }\n",
    "}"
   ]
  },
  {
   "cell_type": "markdown",
   "id": "504d7511",
   "metadata": {},
   "source": [
    "- `describe` and `it` provide a readable, BDD-style structure.\n",
    "- `shouldEqual` and `shouldBe` come from `Matchers` for expressive assertions.\n",
    "- The `an [Exception] should be thrownBy { ... }` syntax checks for exceptions."
   ]
  },
  {
   "cell_type": "markdown",
   "id": "35ca07ac",
   "metadata": {},
   "source": [
    "{:gtxt: .message color=\"green\"}\n",
    "{:ytxt: .message color=\"yellow\"}\n",
    "{:rtxt: .message color=\"red\"}\n",
    "\n",
    "[^1]: [Uniform Access Principle](https://martinfowler.com/bliki/UniformAccessPrinciple.html){:target=\"_blank\"}"
   ]
  }
 ],
 "metadata": {
  "kernelspec": {
   "display_name": "Scala",
   "language": "scala",
   "name": "scala"
  },
  "language_info": {
   "codemirror_mode": "text/x-scala",
   "file_extension": ".sc",
   "mimetype": "text/x-scala",
   "name": "scala",
   "nbconvert_exporter": "script",
   "version": "2.13.10"
  }
 },
 "nbformat": 4,
 "nbformat_minor": 5
}
