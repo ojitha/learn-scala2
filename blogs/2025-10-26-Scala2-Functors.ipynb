{
 "cells": [
  {
   "cell_type": "markdown",
   "id": "79e1e385-cc64-4a76-a802-9e06508c0743",
   "metadata": {
    "editable": true,
    "slideshow": {
     "slide_type": ""
    },
    "tags": []
   },
   "source": [
    "---\n",
    "layout: post\n",
    "title:  Scala 2 Functors\n",
    "date:   2025-10-26\n",
    "categories: [Scala]\n",
    "mermaid: true\n",
    "maths: true\n",
    "typora-root-url: /Users/ojitha/GitHub/ojitha.github.io\n",
    "typora-copy-images-to: ../assets/images/${filename}\n",
    "---\n",
    "\n",
    "<style>\n",
    "/* Styles for the two-column layout */\n",
    ".image-text-container {\n",
    "    display: flex; /* Enables flexbox */\n",
    "    flex-wrap: wrap; /* Allows columns to stack on small screens */\n",
    "    gap: 20px; /* Space between the image and text */\n",
    "    align-items: center; /* Vertically centers content in columns */\n",
    "    margin-bottom: 20px; /* Space below this section */\n",
    "}\n",
    "\n",
    ".image-column {\n",
    "    flex: 1; /* Allows this column to grow */\n",
    "    min-width: 250px; /* Minimum width for the image column before stacking */\n",
    "    max-width: 40%; /* Maximum width for the image column to not take up too much space initially */\n",
    "    box-sizing: border-box; /* Include padding/border in element's total width/height */\n",
    "}\n",
    "\n",
    ".text-column {\n",
    "    flex: 2; /* Allows this column to grow more (e.g., twice as much as image-column) */\n",
    "    min-width: 300px; /* Minimum width for the text column before stacking */\n",
    "    box-sizing: border-box;\n",
    "}\n",
    "\n",
    "</style>\n",
    "\n",
    "<div class=\"image-text-container\">\n",
    "    <div class=\"image-column\">\n",
    "        <img src=\"/assets/images/2025-07-25-Scala-basics/scala_basics.png\" alt=\"Scala basics\" width=\"150\" height=\"150\">\n",
    "    </div>\n",
    "    <div class=\"text-column\">\n",
    "<p>TBC</p>\n",
    "    </div>\n",
    "</div>\n",
    "\n",
    "<!--more-->\n",
    "\n",
    "------\n",
    "\n",
    "* TOC\n",
    "{:toc}\n",
    "------\n",
    "\n",
    "## Introduction\n",
    "\n",
    "A **Functor** is one of the most fundamental abstractions in functional programming. Before diving into Scala code, let's understand the concept intuitively:\n",
    "\n",
    "> **Intuitive Definition**: A Functor is a computational context (like `List`, `Option`, `Future`) that allows you to apply a function to values inside that context **without leaving the context**.\n",
    "\n",
    "Think of it like this: If you have a gift box (context) with a toy inside, a Functor lets you replace that toy with a different one **without opening the box**. You just describe the transformation, and the Functor handles applying it within the box.\n",
    "\n",
    "---\n",
    "\n",
    "## Mathematical Foundations\n",
    "\n",
    "### Category Theory Basics\n",
    "\n",
    "Before understanding Functors, we need to understand **categories**. Don't worry—I'll explain all the mathematical notation!\n",
    "\n",
    "#### What is a Category?\n",
    "\n",
    "```mermaid\n",
    "---\n",
    "config:\n",
    "  look: neo\n",
    "  theme: default\n",
    "---\n",
    "graph LR\n",
    "    A[Object A] -->|arrow f| B[Object B]\n",
    "    B -->|arrow g| C[Object C]\n",
    "    A -->|arrow g ∘ f| C\n",
    "    \n",
    "    style A fill:#e1f5ff\n",
    "    style B fill:#e1f5ff\n",
    "    style C fill:#e1f5ff\n",
    "```\n",
    "\n",
    "**Mathematical Definition**: A category $\\mathcal{C}$ consists of:[^1]\n",
    "\n",
    "- **Objects**: $A, B, C, \\ldots$ (think of these as types)\n",
    "- **Arrows** (morphisms): $f : A \\to B$ (think of these as functions)\n",
    "- **Identity arrows**: For every object $A$, there exists $1_A : A \\to A$\n",
    "- **Composition**: For arrows $f : A \\to B$ and $g : B \\to C$, there exists $g \\circ f : A \\to C$\n",
    "\n",
    "**Laws**:\n",
    "1. **Associativity**: $h \\circ (g \\circ f) = (h \\circ g) \\circ f$\n",
    "2. **Identity**: $f \\circ 1_A = f$ and $1_B \\circ f = f$\n",
    "\n",
    "**Notation Guide**:\n",
    "- $\\circ$ means \"composed with\" (like the dot in math)\n",
    "- $A \\to B$ means \"an arrow from A to B\"\n",
    "- $1_A$ means \"identity arrow for object A\"\n",
    "\n",
    "#### Examples of Categories\n",
    "\n",
    "1. **Set** (Category of Sets):\n",
    "   - Objects: All sets\n",
    "   - Arrows: Functions between sets\n",
    "   \n",
    "2. **Scala** (Category of Scala Types):\n",
    "   - Objects: Scala types (`Int`, `String`, `List[A]`, etc.)\n",
    "   - Arrows: Scala functions (`A => B`)\n",
    "\n",
    "---\n",
    "\n",
    "## Functor in Category Theory\n",
    "\n",
    "Now we can define a Functor mathematically!\n",
    "\n",
    "### Formal Definition\n",
    "\n",
    "```mermaid\n",
    "---\n",
    "config:\n",
    "  look: neo\n",
    "  theme: default\n",
    "---\n",
    "graph TB\n",
    "    subgraph \"Category C\"\n",
    "        A[Object A] -->|f| B[Object B]\n",
    "    end\n",
    "    \n",
    "    subgraph \"Category D\"\n",
    "        FA[F A] -->|F f| FB[F B]\n",
    "    end\n",
    "    \n",
    "    A -.->|Functor F| FA\n",
    "    B -.->|Functor F| FB\n",
    "    \n",
    "    style A fill:#e1f5ff\n",
    "    style B fill:#e1f5ff\n",
    "    style FA fill:#ffe1f5\n",
    "    style FB fill:#ffe1f5\n",
    "```\n",
    "\n",
    "**Mathematical Definition**: A functor $F : \\mathcal{C} \\to \\mathcal{D}$ between categories $\\mathcal{C}$ and $\\mathcal{D}$ consists of:[^1]\n",
    "\n",
    "1. **Object mapping**: For each object $A$ in $\\mathcal{C}$, an object $F(A)$ in $\\mathcal{D}$\n",
    "2. **Arrow mapping**: For each arrow $f : A \\to B$ in $\\mathcal{C}$, an arrow $F(f) : F(A) \\to F(B)$ in $\\mathcal{D}$\n",
    "\n",
    "**Such that**:\n",
    "- **Preserves identity**: {% raw %} $$F(1_A) = 1_{F(A)}$$ {% endraw %}\n",
    "- **Preserves composition**: $F(g \\circ f) = F(g) \\circ F(f)$\n",
    "\n",
    "> A Functor is a \"structure-preserving map\" between categories. It maps objects to objects and arrows to arrows while preserving the categorical structure.\n",
    "{:.green}\n",
    "\n",
    "### Endofunctor\n",
    "\n",
    "In programming, we typically work with **endofunctors**—functors from a category to itself.\n",
    "\n",
    "$$F : \\mathcal{Scala} \\to \\mathcal{Scala}$$\n",
    "\n",
    "For example:\n",
    "- `List` is a functor: it maps type `A` to type `List[A]`\n",
    "- `Option` is a functor: it maps type `A` to type `Option[A]`\n",
    "\n",
    "---\n",
    "\n",
    "## Functors in Scala 2\n",
    "\n",
    "### The Functor Trait\n",
    "\n",
    "Here's the Scala 2 definition of a Functor:[^2]\n"
   ]
  },
  {
   "cell_type": "code",
   "execution_count": 2,
   "id": "3a9cfe9c-7d87-4907-8978-9b2ab2df706a",
   "metadata": {
    "editable": true,
    "slideshow": {
     "slide_type": ""
    },
    "tags": []
   },
   "outputs": [
    {
     "data": {
      "text/plain": [
       "defined \u001b[32mtrait\u001b[39m \u001b[36mFunctor\u001b[39m"
      ]
     },
     "execution_count": 2,
     "metadata": {},
     "output_type": "execute_result"
    }
   ],
   "source": [
    "trait Functor[F[_]] {\n",
    "  def map[A, B](fa: F[A])(f: A => B): F[B]\n",
    "}"
   ]
  },
  {
   "cell_type": "markdown",
   "id": "0f517649-f6c6-4cbd-99e8-4fc9e618b395",
   "metadata": {
    "editable": true,
    "slideshow": {
     "slide_type": ""
    },
    "tags": []
   },
   "source": [
    "- `F[_]` is a **type constructor** (takes a type and produces a type)\n",
    "- `map` is the only required operation\n",
    "- `map` applies function `f: A => B` to values inside context `F[A]` to produce `F[B]`\n",
    "\n",
    "Type Constructor Explanation\n",
    "```\n",
    "// F[_] means \"F takes one type parameter\"\n",
    "List      // F in List[A]\n",
    "Option    // F in Option[A]  \n",
    "Either[E, _]  // Can be partially applied to get F[_]\n",
    "```\n",
    "### Functor Instances\n",
    "\n",
    "#### List Functor\n",
    "\n",
    "This example creates a `listFunctor` instance by implementing the `Functor[List]` trait. The `map` method delegates to List's built-in `map` function, demonstrating that Scala's List already has functor-like behavior. The example shows transforming `[1, 2, 3]` to `[2, 4, 6]` by applying `_ * 2`, maintaining the List context throughout the transformation."
   ]
  },
  {
   "cell_type": "code",
   "execution_count": 2,
   "id": "50b88133-c454-4c81-a262-ba257a9feb50",
   "metadata": {},
   "outputs": [
    {
     "data": {
      "text/plain": [
       "\u001b[36mlistFunctor\u001b[39m: \u001b[32mAnyRef\u001b[39m with \u001b[32mFunctor\u001b[39m[\u001b[32mList\u001b[39m] = ammonite.$sess.cmd1$Helper$$anon$1@17ebf35a\n",
       "\u001b[36mnumbers\u001b[39m: \u001b[32mList\u001b[39m[\u001b[32mInt\u001b[39m] = \u001b[33mList\u001b[39m(\u001b[32m1\u001b[39m, \u001b[32m2\u001b[39m, \u001b[32m3\u001b[39m)\n",
       "\u001b[36mdoubled\u001b[39m: \u001b[32mList\u001b[39m[\u001b[32mInt\u001b[39m] = \u001b[33mList\u001b[39m(\u001b[32m2\u001b[39m, \u001b[32m4\u001b[39m, \u001b[32m6\u001b[39m)"
      ]
     },
     "execution_count": 2,
     "metadata": {},
     "output_type": "execute_result"
    }
   ],
   "source": [
    "// Creating a Functor instance for List\n",
    "val listFunctor = new Functor[List] {\n",
    "  def map[A, B](as: List[A])(f: A => B): List[B] = \n",
    "    as.map(f)  // Uses built-in List.map\n",
    "}\n",
    "\n",
    "// Example usage\n",
    "val numbers = List(1, 2, 3)\n",
    "val doubled = listFunctor.map(numbers)(_ * 2)\n",
    "// doubled = List(2, 4, 6)"
   ]
  },
  {
   "cell_type": "markdown",
   "id": "a15ffa76-b3b6-48c4-8124-814f0b58faf2",
   "metadata": {},
   "source": [
    "Source: [^2] : Shows how to create a concrete Functor instance that works with Scala's `List` type, bridging the gap between abstract category theory and practical Scala programming.\n",
    "\n",
    " This code exemplifies the category theory concept where:\n",
    "- **Object mapping**: `Int` → `List[Int]`\n",
    "- **Arrow mapping**: function `f: A => B` → `map(f): List[A] => List[B]`\n",
    "- **Preserves structure**: The List context is maintained throughout the transformation\n",
    "\n",
    "This is the first concrete example showing that familiar Scala collections like List are actually functors that satisfy the mathematical laws (identity and composition) discussed earlier in the notebook. It makes the abstract theory tangible by using everyday Scala code.\n",
    "\n",
    "#### Option Functor\n",
    "\n",
    "{% raw %}\n",
    "```mermaid\n",
    "---\n",
    "config:\n",
    "  look: classic\n",
    "  theme: default\n",
    "---\n",
    "classDiagram\n",
    "    class Option~A~ {\n",
    "        <<abstract>>\n",
    "        +isEmpty: Boolean\n",
    "        +isDefined: Boolean\n",
    "        +get: A\n",
    "        +getOrElse(default: => A): A\n",
    "        +orElse(alternative: => Option[A]): Option[A]\n",
    "        +map[B](f: A => B): Option[B]\n",
    "        +flatMap[B](f: A => Option[B]): Option[B]\n",
    "        +filter(p: A => Boolean): Option[A]\n",
    "        +foreach(f: A => Unit): Unit\n",
    "        +fold[B](ifEmpty: => B)(f: A => B): B\n",
    "        +contains(elem: A): Boolean\n",
    "        +exists(p: A => Boolean): Boolean\n",
    "        +forall(p: A => Boolean): Boolean\n",
    "    }\n",
    "    \n",
    "    class Some~A~ {\n",
    "        +value: A\n",
    "        +isEmpty: Boolean = false\n",
    "        +isDefined: Boolean = true\n",
    "        +get: A\n",
    "    }\n",
    "    \n",
    "    class None {\n",
    "        +isEmpty: Boolean = true\n",
    "        +isDefined: Boolean = false\n",
    "        +get: Nothing\n",
    "    }\n",
    "    \n",
    "    Option <|-- Some : extends\n",
    "    Option <|-- None : extends\n",
    "    \n",
    "    note for Option \"Represents optional values\n",
    "    Instances are either Some(value) or None\"\n",
    "    \n",
    "    note for Some \"Wraps a definite value\"\n",
    "    note for None \"Singleton object - no value\"\n",
    "```\n",
    "{% endraw %}"
   ]
  },
  {
   "cell_type": "code",
   "execution_count": 7,
   "id": "ed663c9c-05f3-42d7-859c-591043117701",
   "metadata": {},
   "outputs": [
    {
     "data": {
      "text/plain": [
       "\u001b[36moptionFunctor\u001b[39m: \u001b[32mAnyRef\u001b[39m with \u001b[32mFunctor\u001b[39m[\u001b[32mOption\u001b[39m] = ammonite.$sess.cmd6$Helper$$anon$1@20762413"
      ]
     },
     "execution_count": 7,
     "metadata": {},
     "output_type": "execute_result"
    }
   ],
   "source": [
    "// Option Functor\n",
    "val optionFunctor = new Functor[Option] {\n",
    "  def map[A, B](optA: Option[A])(f: A => B): Option[B] = optA match {\n",
    "    case Some(value) => Some(f(value))  // Apply f to the value\n",
    "    case None        => None             // Preserve None\n",
    "  }\n",
    "}\n"
   ]
  },
  {
   "cell_type": "code",
   "execution_count": null,
   "id": "3544c1b8",
   "metadata": {},
   "outputs": [
    {
     "data": {
      "text/plain": [
       "\u001b[36mmaybeAge\u001b[39m: \u001b[32mOption\u001b[39m[\u001b[32mInt\u001b[39m] = \u001b[33mSome\u001b[39m(value = \u001b[32m25\u001b[39m)\n",
       "\u001b[36mres7_1\u001b[39m: \u001b[32mOption\u001b[39m[\u001b[32mBoolean\u001b[39m] = \u001b[33mSome\u001b[39m(value = \u001b[32mtrue\u001b[39m)"
      ]
     },
     "execution_count": 8,
     "metadata": {},
     "output_type": "execute_result"
    }
   ],
   "source": [
    "// Example usage\n",
    "val maybeAge: Option[Int] = Some(25)\n",
    "optionFunctor.map(maybeAge)(_ >= 21)\n",
    "// canDrink = Some(true)"
   ]
  },
  {
   "cell_type": "code",
   "execution_count": 9,
   "id": "5d40b3cd",
   "metadata": {},
   "outputs": [
    {
     "data": {
      "text/plain": [
       "\u001b[36mnoAge\u001b[39m: \u001b[32mOption\u001b[39m[\u001b[32mInt\u001b[39m] = \u001b[32mNone\u001b[39m\n",
       "\u001b[36mres8_1\u001b[39m: \u001b[32mOption\u001b[39m[\u001b[32mBoolean\u001b[39m] = \u001b[32mNone\u001b[39m"
      ]
     },
     "execution_count": 9,
     "metadata": {},
     "output_type": "execute_result"
    }
   ],
   "source": [
    "val noAge: Option[Int] = None\n",
    "optionFunctor.map(noAge)(_ >= 21)\n",
    "// result = None"
   ]
  },
  {
   "cell_type": "markdown",
   "id": "f9deeee8-6dc6-45dc-a91e-71ec10227aa5",
   "metadata": {
    "editable": true,
    "slideshow": {
     "slide_type": ""
    },
    "tags": []
   },
   "source": [
    "Source: [^2]: The `optionFunctor` implements `Functor[Option]` using pattern matching. When the Option is `Some(value)`, it applies function `f` to the value and wraps it back in `Some`. When it's `None`, it preserves `None` without applying the function. This demonstrates safe computation - transformations only apply when a value exists. The examples show checking drinking age eligibility: `Some(25)` becomes `Some(true)`, while `None` remains `None`, elegantly handling the absence of data without null pointer exceptions.\n",
    "\n",
    "### Type Constructor Hierarchy\n",
    "\n",
    "{% raw %}\n",
    "```mermaid\n",
    "---\n",
    "config:\n",
    "  look: neo\n",
    "  theme: default\n",
    "---\n",
    "graph TD\n",
    "    A[\"Type Constructor F[_]\"] --> B[\"Functor F[_]\"]\n",
    "    B --> C[\"Applicative F[_]\"]\n",
    "    C --> D[\"Monad F[_]\"]\n",
    "    \n",
    "    B --> E[map operation]\n",
    "    C --> F[map2, pure operations]\n",
    "    D --> G[flatMap, unit operations]\n",
    "    \n",
    "    style A fill:#e1f5ff\n",
    "    style B fill:#ffe1e1\n",
    "    style C fill:#e1ffe1\n",
    "    style D fill:#ffe1f5\n",
    "```\n",
    "{% endraw %}\n",
    "\n",
    "\n",
    "## Functor Laws\n",
    "\n",
    "Functors must satisfy two laws to be \"well-behaved\":[^2]\n",
    "\n",
    "### Law 1: Identity\n",
    "\n",
    "**Mathematical form**: \n",
    "$$\\text{map}(x)(\\text{id}) = x$$\n",
    "\n",
    "Where $\\text{id}$ is the identity function: $\\text{id}(a) = a$\n",
    "\n",
    "```scala\n",
    "// For any fa: F[A]\n",
    "fa.map(a => a) == fa\n",
    "\n",
    "// Or equivalently\n",
    "fa.map(identity) == fa\n",
    "```\n",
    "\n",
    "**Why this matters**: Mapping with the identity function shouldn't change the structure or its contents. This ensures `map` preserves structure."
   ]
  },
  {
   "cell_type": "code",
   "execution_count": 10,
   "id": "12ded1ff-4a15-4296-b450-0eb2775e2e40",
   "metadata": {
    "editable": true,
    "slideshow": {
     "slide_type": ""
    },
    "tags": []
   },
   "outputs": [
    {
     "data": {
      "text/plain": [
       "\u001b[36mnumbers\u001b[39m: \u001b[32mList\u001b[39m[\u001b[32mInt\u001b[39m] = \u001b[33mList\u001b[39m(\u001b[32m1\u001b[39m, \u001b[32m2\u001b[39m, \u001b[32m3\u001b[39m)\n",
       "\u001b[36mres9_1\u001b[39m: \u001b[32mList\u001b[39m[\u001b[32mInt\u001b[39m] = \u001b[33mList\u001b[39m(\u001b[32m1\u001b[39m, \u001b[32m2\u001b[39m, \u001b[32m3\u001b[39m)\n",
       "\u001b[36mres9_2\u001b[39m: \u001b[32mList\u001b[39m[\u001b[32mInt\u001b[39m] = \u001b[33mList\u001b[39m(\u001b[32m1\u001b[39m, \u001b[32m2\u001b[39m, \u001b[32m3\u001b[39m)\n",
       "\u001b[36mres9_3\u001b[39m: \u001b[32mList\u001b[39m[\u001b[32mInt\u001b[39m] = \u001b[33mList\u001b[39m(\u001b[32m1\u001b[39m, \u001b[32m2\u001b[39m, \u001b[32m3\u001b[39m)"
      ]
     },
     "execution_count": 10,
     "metadata": {},
     "output_type": "execute_result"
    }
   ],
   "source": [
    "val numbers = List(1, 2, 3)\n",
    "\n",
    "// These are equivalent\n",
    "numbers.map(x => x)         // List(1, 2, 3)\n",
    "numbers.map(identity)       // List(1, 2, 3)\n",
    "numbers                     // List(1, 2, 3)"
   ]
  },
  {
   "cell_type": "markdown",
   "id": "aff26c09-5a6d-4057-a410-424618fd20f1",
   "metadata": {},
   "source": [
    "### Law 2: Composition\n",
    "\n",
    "**Mathematical form**:\n",
    "$$\\text{map}(x)(g \\circ f) = \\text{map}(\\text{map}(x)(f))(g)$$\n",
    "\n",
    "Where $(g \\circ f)(x) = g(f(x))$\n",
    "\n",
    "**In Scala**:\n",
    "```scala\n",
    "// For any fa: F[A] and functions f: A => B, g: B => C\n",
    "fa.map(f).map(g) == fa.map(g compose f)\n",
    "// Or equivalently:\n",
    "fa.map(f).map(g) == fa.map(x => g(f(x)))\n",
    "```\n",
    "\n",
    "**Why this matters**: We can compose functions first, then map, or map twice—the result is the same. This lets us reason about code transformations algebraically.\n"
   ]
  },
  {
   "cell_type": "code",
   "execution_count": 6,
   "id": "ea5e9c02-0d40-47e3-9085-6b2f908f4485",
   "metadata": {},
   "outputs": [
    {
     "data": {
      "text/plain": [
       "\u001b[36mnumbers\u001b[39m: \u001b[32mList\u001b[39m[\u001b[32mInt\u001b[39m] = \u001b[33mList\u001b[39m(\u001b[32m1\u001b[39m, \u001b[32m2\u001b[39m, \u001b[32m3\u001b[39m)\n",
       "\u001b[36maddOne\u001b[39m: \u001b[32mInt\u001b[39m => \u001b[32mInt\u001b[39m = ammonite.$sess.cmd5$Helper$$Lambda$2236/0x000000012780d6d8@228cdff9\n",
       "\u001b[36mdouble\u001b[39m: \u001b[32mInt\u001b[39m => \u001b[32mInt\u001b[39m = ammonite.$sess.cmd5$Helper$$Lambda$2237/0x000000012780dac0@31a2695f\n",
       "\u001b[36mres5_3\u001b[39m: \u001b[32mList\u001b[39m[\u001b[32mInt\u001b[39m] = \u001b[33mList\u001b[39m(\u001b[32m4\u001b[39m, \u001b[32m6\u001b[39m, \u001b[32m8\u001b[39m)\n",
       "\u001b[36mres5_4\u001b[39m: \u001b[32mList\u001b[39m[\u001b[32mInt\u001b[39m] = \u001b[33mList\u001b[39m(\u001b[32m4\u001b[39m, \u001b[32m6\u001b[39m, \u001b[32m8\u001b[39m)\n",
       "\u001b[36mres5_5\u001b[39m: \u001b[32mList\u001b[39m[\u001b[32mInt\u001b[39m] = \u001b[33mList\u001b[39m(\u001b[32m4\u001b[39m, \u001b[32m6\u001b[39m, \u001b[32m8\u001b[39m)"
      ]
     },
     "execution_count": 6,
     "metadata": {},
     "output_type": "execute_result"
    }
   ],
   "source": [
    "val numbers = List(1, 2, 3)\n",
    "val addOne: Int => Int = _ + 1\n",
    "val double: Int => Int = _ * 2\n",
    "\n",
    "// Two ways to do the same thing:\n",
    "numbers.map(addOne).map(double)          // List(4, 6, 8)\n",
    "numbers.map(x => double(addOne(x)))      // List(4, 6, 8)\n",
    "numbers.map(double compose addOne)       // List(4, 6, 8)"
   ]
  },
  {
   "cell_type": "markdown",
   "id": "5c993630-c7ec-48db-8be5-e3c895bb3622",
   "metadata": {},
   "source": [
    "### Law Verification Example\n",
    "\n",
    "Let's verify the laws for `Option`:"
   ]
  },
  {
   "cell_type": "code",
   "execution_count": 7,
   "id": "a1673dcd-27c4-4fe3-9a90-06f8cb8597cc",
   "metadata": {
    "editable": true,
    "slideshow": {
     "slide_type": ""
    },
    "tags": []
   },
   "outputs": [
    {
     "data": {
      "text/plain": [
       "\u001b[36msomeValue\u001b[39m: \u001b[32mOption\u001b[39m[\u001b[32mInt\u001b[39m] = \u001b[33mSome\u001b[39m(value = \u001b[32m42\u001b[39m)\n",
       "\u001b[36mnoneValue\u001b[39m: \u001b[32mOption\u001b[39m[\u001b[32mInt\u001b[39m] = \u001b[32mNone\u001b[39m\n",
       "\u001b[36mf\u001b[39m: \u001b[32mInt\u001b[39m => \u001b[32mInt\u001b[39m = ammonite.$sess.cmd6$Helper$$Lambda$2253/0x00000001278118f8@630d0a41\n",
       "\u001b[36mg\u001b[39m: \u001b[32mInt\u001b[39m => \u001b[32mString\u001b[39m = ammonite.$sess.cmd6$Helper$$Lambda$2254/0x0000000127811ce0@543024b9"
      ]
     },
     "execution_count": 7,
     "metadata": {},
     "output_type": "execute_result"
    }
   ],
   "source": [
    "// Identity Law\n",
    "val someValue: Option[Int] = Some(42)\n",
    "assert(someValue.map(identity) == someValue)\n",
    "\n",
    "val noneValue: Option[Int] = None\n",
    "assert(noneValue.map(identity) == noneValue)\n",
    "\n",
    "// Composition Law\n",
    "val f: Int => Int = _ + 10\n",
    "val g: Int => String = _.toString\n",
    "\n",
    "assert(\n",
    "  someValue.map(f).map(g) == \n",
    "  someValue.map(x => g(f(x)))\n",
    ")\n",
    "// Both produce: Some(\"42\")"
   ]
  },
  {
   "cell_type": "markdown",
   "id": "c33ecd94-ead3-48fa-bbc0-cb4a66496ab9",
   "metadata": {},
   "source": [
    "## Practical Examples\n",
    "\n",
    "### Example 1: Mapping Over Collections"
   ]
  },
  {
   "cell_type": "code",
   "execution_count": 17,
   "id": "e954ac6a-7eb8-42c5-b142-e020e645b269",
   "metadata": {
    "editable": true,
    "slideshow": {
     "slide_type": ""
    },
    "tags": []
   },
   "outputs": [
    {
     "data": {
      "text/plain": [
       "\u001b[36mages\u001b[39m: \u001b[32mList\u001b[39m[\u001b[32mInt\u001b[39m] = \u001b[33mList\u001b[39m(\u001b[32m15\u001b[39m, \u001b[32m21\u001b[39m, \u001b[32m18\u001b[39m, \u001b[32m30\u001b[39m, \u001b[32m16\u001b[39m)\n",
       "defined \u001b[32mfunction\u001b[39m \u001b[36misAdult\u001b[39m\n",
       "\u001b[36meligibility\u001b[39m: \u001b[32mList\u001b[39m[\u001b[32mBoolean\u001b[39m] = \u001b[33mList\u001b[39m(\u001b[32mfalse\u001b[39m, \u001b[32mtrue\u001b[39m, \u001b[32mtrue\u001b[39m, \u001b[32mtrue\u001b[39m, \u001b[32mfalse\u001b[39m)\n",
       "\u001b[36mformattedResults\u001b[39m: \u001b[32mList\u001b[39m[\u001b[32mString\u001b[39m] = \u001b[33mList\u001b[39m(\u001b[32m\"✗\"\u001b[39m, \u001b[32m\"✓\"\u001b[39m, \u001b[32m\"✓\"\u001b[39m, \u001b[32m\"✓\"\u001b[39m, \u001b[32m\"✗\"\u001b[39m)"
      ]
     },
     "execution_count": 17,
     "metadata": {},
     "output_type": "execute_result"
    }
   ],
   "source": [
    "// Transform a list of ages to determine eligibility\n",
    "val ages: List[Int] = List(15, 21, 18, 30, 16)\n",
    "\n",
    "// Using Functor abstraction\n",
    "def isAdult(age: Int): Boolean = age >= 18\n",
    "\n",
    "val eligibility: List[Boolean] = ages.map(isAdult)\n",
    "// Result: List(false, true, true, true, false)\n",
    "\n",
    "// Chain multiple transformations\n",
    "val formattedResults: List[String] =  \n",
    "    ages.map(isAdult) // List[Boolean]\n",
    "      .map(eligible => if (eligible) \"✓\" else \"✗\")  // List[String]\n",
    "// Result: List(\"✗\", \"✓\", \"✓\", \"✓\", \"✗\")"
   ]
  },
  {
   "cell_type": "markdown",
   "id": "1bd0ad35-312c-40b2-8846-fbb8aa7cde31",
   "metadata": {},
   "source": [
    "**Functor Perspective**: This example demonstrates the **composition law** in action. The chained transformations show that `List` functor preserves composition: \n",
    "\n",
    "$$\\text{map}(\\text{map}(\\text{ages})(\\text{isAdult}))(\\text{format}) = \\text{map}(\\text{ages})(\\text{format} \\circ \\text{isAdult})$$\n",
    "\n",
    "From category theory:\n",
    "- **Arrow mapping**: `isAdult: Int => Boolean` is lifted to `map(isAdult): List[Int] => List[Boolean]`\n",
    "- **Composition preserved**: Two sequential `map` operations compose into a single functor mapping\n",
    "- **Context maintained**: The `List` functor context $F(\\text{age})$ is preserved through transformations: `List[Int]` → `List[Boolean]` → `List[String]`\n",
    "\n",
    "This exemplifies how functors allow us to work with values **inside a computational context** without ever \"unwrapping\" them, maintaining type safety throughout the transformation pipeline.\n",
    "\n",
    "### Example 2: Safe Division with Option"
   ]
  },
  {
   "cell_type": "code",
   "execution_count": 11,
   "id": "c6eea1d5-b3b9-419a-b72f-fc595a6e4082",
   "metadata": {},
   "outputs": [
    {
     "data": {
      "text/plain": [
       "defined \u001b[32mfunction\u001b[39m \u001b[36msafeDivide\u001b[39m\n",
       "\u001b[36mresult1\u001b[39m: \u001b[32mOption\u001b[39m[\u001b[32mDouble\u001b[39m] = \u001b[33mSome\u001b[39m(value = \u001b[32m500.0\u001b[39m)\n",
       "\u001b[36mresult2\u001b[39m: \u001b[32mOption\u001b[39m[\u001b[32mDouble\u001b[39m] = \u001b[32mNone\u001b[39m\n",
       "\u001b[36mformattedResult\u001b[39m: \u001b[32mOption\u001b[39m[\u001b[32mString\u001b[39m] = \u001b[33mSome\u001b[39m(value = \u001b[32m\"Result: 10\"\u001b[39m)"
      ]
     },
     "execution_count": 11,
     "metadata": {},
     "output_type": "execute_result"
    }
   ],
   "source": [
    "// Division that returns Option to handle division by zero\n",
    "def safeDivide(numerator: Int, denominator: Int): Option[Double] = {\n",
    "  if (denominator == 0) None\n",
    "  else Some(numerator.toDouble / denominator)\n",
    "}\n",
    "\n",
    "// Using map to transform the result\n",
    "val result1: Option[Double] = safeDivide(10, 2).map(_ * 100)\n",
    "// result1 = Some(500.0)\n",
    "\n",
    "val result2: Option[Double] = safeDivide(10, 0).map(_ * 100)\n",
    "// result2 = None (computation \"short-circuits\")\n",
    "\n",
    "// Chaining transformations\n",
    "val formattedResult: Option[String] = \n",
    "  safeDivide(15, 3)\n",
    "    .map(_ * 2)                    // Some(10.0)\n",
    "    .map(_.toInt)                  // Some(10)\n",
    "    .map(n => s\"Result: $n\")       // Some(\"Result: 10\")"
   ]
  },
  {
   "cell_type": "markdown",
   "id": "13f5b2da-5b96-4dfc-b93c-4102a9f72c68",
   "metadata": {},
   "source": [
    "above code Inspired by: [^3]\n",
    "\n",
    "**Functor Perspective**: The `Option` functor demonstrates **safe computation** with potential failure. From category theory:\n",
    "\n",
    "**Arrow Lifting**: The function `_ * 100: Double => Double` is lifted to the `Option` context:\n",
    "$$\\text{map}: (\\text{Double} \\to \\text{Double}) \\to (\\text{Option}[\\text{Double}] \\to \\text{Option}[\\text{Double}])$$\n",
    "\n",
    "**Short-Circuit Behavior**: When `safeDivide` returns `None` (division by zero), subsequent `map` operations preserve `None`:\n",
    "$$\\text{map}(\\text{None})(f) = \\text{None} \\quad \\forall f$$\n",
    "\n",
    "**Composition Chain**: The chained transformations show functor composition law:\n",
    "$$\\begin{align}\n",
    "&\\text{Option}[\\text{Double}] \\xrightarrow{\\text{map}(\\_ \\times 2)} \\text{Option}[\\text{Double}] \\\\\n",
    "&\\xrightarrow{\\text{map}(\\_.toInt)} \\text{Option}[\\text{Int}] \\\\\n",
    "&\\xrightarrow{\\text{map}(n \\Rightarrow s)} \\text{Option}[\\text{String}]\n",
    "\\end{align}$$\n",
    "\n",
    "This exemplifies how the `Option` functor handles **computational effects** (potential absence of value) while maintaining the functor laws. The transformation pipeline remains type-safe and composable whether the value is `Some` or `None`.\n",
    "\n",
    "### Example 3: Lifting Functions\n",
    "\n",
    "The `map` operation can be thought of as \"lifting\" a function into a context:[^2]"
   ]
  },
  {
   "cell_type": "code",
   "execution_count": 12,
   "id": "65d28613-29c6-4e2c-8c96-981f7c1c00ca",
   "metadata": {},
   "outputs": [
    {
     "data": {
      "text/plain": [
       "defined \u001b[32mtrait\u001b[39m \u001b[36mFunctor\u001b[39m\n",
       "defined \u001b[32mobject\u001b[39m \u001b[36mFunctor\u001b[39m\n",
       "\u001b[32mimport \u001b[39m\u001b[36mFunctor._\n",
       "\n",
       "// Lift converts A => B into F[A] => F[B]\n",
       "\u001b[39m\n",
       "defined \u001b[32mfunction\u001b[39m \u001b[36mlift\u001b[39m"
      ]
     },
     "execution_count": 12,
     "metadata": {},
     "output_type": "execute_result"
    }
   ],
   "source": [
    "// Functor trait\n",
    "trait Functor[F[_]] {\n",
    "  def map[A, B](fa: F[A])(f: A => B): F[B]\n",
    "}\n",
    "\n",
    "// Implicit Functor instances\n",
    "object Functor {\n",
    "  implicit val optionFunctor: Functor[Option] = new Functor[Option] {\n",
    "    def map[A, B](fa: Option[A])(f: A => B): Option[B] = fa.map(f)\n",
    "  }\n",
    "  \n",
    "  implicit val listFunctor: Functor[List] = new Functor[List] {\n",
    "    def map[A, B](fa: List[A])(f: A => B): List[B] = fa.map(f)\n",
    "  }\n",
    "}\n",
    "\n",
    "import Functor._\n",
    "\n",
    "// Lift converts A => B into F[A] => F[B]\n",
    "def lift[F[_], A, B](f: A => B)(implicit F: Functor[F]): F[A] => F[B] = \n",
    "  fa => F.map(fa)(f)\n"
   ]
  },
  {
   "cell_type": "markdown",
   "id": "498ce773-6e6b-4296-a853-bd7d410c910b",
   "metadata": {},
   "source": [
    "Source[^2] of above code:\n",
    "\n",
    "1. Implicit Instances - The Functor object defines implicit values (`optionFunctor`, `listFunctor`) that provide `Functor` implementations for specific types.\n",
    "2. Implicit Parameter - The `lift` function has an `implicit F: Functor[F]` parameter. When you call lift, Scala automatically searches for a matching implicit `Functor[F]` in scope.\n",
    "3. Import - `import Functor._` brings the implicit instances into scope, making them available for the compiler to find.\n",
    "\n",
    "The `lift` function demonstrates the fundamental **arrow mapping** property of functors. From category theory:\n",
    "\n",
    "**Lifting Definition**: For any functor $F$ and function $f: A \\to B$, lifting transforms it into $F(f): F(A) \\to F(B)$:\n",
    "$$\\text{lift}(f) = \\lambda fa. \\, \\text{map}(fa)(f)$$\n",
    "\n",
    "This is precisely the **arrow mapping** from the functor definition, making it explicit as a first-class function.\n",
    "\n",
    "**Polymorphic Lifting**: The `lift` function works for **any** functor $F$, demonstrating parametric polymorphism:\n",
    "$$\\text{lift}: \\forall F, A, B. \\, (A \\to B) \\to (F[A] \\to F[B])$$\n"
   ]
  },
  {
   "cell_type": "code",
   "execution_count": 13,
   "id": "e7128556",
   "metadata": {},
   "outputs": [
    {
     "data": {
      "text/plain": [
       "\u001b[36mabsOption\u001b[39m: \u001b[32mOption\u001b[39m[\u001b[32mDouble\u001b[39m] => \u001b[32mOption\u001b[39m[\u001b[32mDouble\u001b[39m] = ammonite.$sess.cmd11$Helper$$Lambda$2318/0x000000012c816d98@82dae8f\n",
       "\u001b[36msomeNegative\u001b[39m: \u001b[32mOption\u001b[39m[\u001b[32mDouble\u001b[39m] = \u001b[33mSome\u001b[39m(value = \u001b[32m-3.14\u001b[39m)\n",
       "\u001b[36mresult\u001b[39m: \u001b[32mOption\u001b[39m[\u001b[32mDouble\u001b[39m] = \u001b[33mSome\u001b[39m(value = \u001b[32m3.14\u001b[39m)\n",
       "\u001b[36mabsList\u001b[39m: \u001b[32mList\u001b[39m[\u001b[32mDouble\u001b[39m] => \u001b[32mList\u001b[39m[\u001b[32mDouble\u001b[39m] = ammonite.$sess.cmd11$Helper$$Lambda$2318/0x000000012c816d98@1e3d09f0\n",
       "\u001b[36mnegatives\u001b[39m: \u001b[32mList\u001b[39m[\u001b[32mDouble\u001b[39m] = \u001b[33mList\u001b[39m(\u001b[32m-1.5\u001b[39m, \u001b[32m-2.5\u001b[39m, \u001b[32m-3.5\u001b[39m)\n",
       "\u001b[36mabsolutes\u001b[39m: \u001b[32mList\u001b[39m[\u001b[32mDouble\u001b[39m] = \u001b[33mList\u001b[39m(\u001b[32m1.5\u001b[39m, \u001b[32m2.5\u001b[39m, \u001b[32m3.5\u001b[39m)"
      ]
     },
     "execution_count": 13,
     "metadata": {},
     "output_type": "execute_result"
    }
   ],
   "source": [
    "// Example: Lift math.abs into Option context\n",
    "val absOption: Option[Double] => Option[Double] = lift(math.abs)\n",
    "\n",
    "val someNegative: Option[Double] = Some(-3.14)\n",
    "val result = absOption(someNegative)\n",
    "// result = Some(3.14)\n",
    "\n",
    "// Lift works with any Functor\n",
    "val absList: List[Double] => List[Double] = lift(math.abs)\n",
    "val negatives = List(-1.5, -2.5, -3.5)\n",
    "val absolutes = absList(negatives)"
   ]
  },
  {
   "cell_type": "markdown",
   "id": "d8a0bcae",
   "metadata": {},
   "source": [
    "**Examples**:\n",
    "- `math.abs: Double => Double` lifted to `Option` context: $\\text{abs}: \\text{Option}[\\text{Double}] \\to \\text{Option}[\\text{Double}]$\n",
    "- Same function lifted to `List` context: $\\text{abs}: \\text{List}[\\text{Double}] \\to \\text{List}[\\text{Double}]$\n",
    "\n",
    "**Key Insight**: Lifting transforms **ordinary functions** into **context-aware functions** without changing the function's logic. The functor's `map` operation handles the context (Option, List, etc.), while the lifted function focuses purely on the transformation. This separation of concerns is a core principle of functional programming.\n",
    "\n"
   ]
  },
  {
   "cell_type": "markdown",
   "id": "e9efcf52-0e4b-4d62-abe1-94fe40df46a9",
   "metadata": {},
   "source": [
    "### Example 4: Parser Functor\n",
    "\n",
    "From the \"Functional Programming in Scala\" book, we can define a Functor for parsers:[^2]"
   ]
  },
  {
   "cell_type": "code",
   "execution_count": 20,
   "id": "7eac08e2-f523-4f5e-bb25-a9cfd790e5c0",
   "metadata": {
    "editable": true,
    "slideshow": {
     "slide_type": ""
    },
    "tags": []
   },
   "outputs": [
    {
     "data": {
      "text/plain": [
       "defined \u001b[32mtrait\u001b[39m \u001b[36mFunctor\u001b[39m\n",
       "defined \u001b[32mclass\u001b[39m \u001b[36mParser\u001b[39m\n",
       "defined \u001b[32mobject\u001b[39m \u001b[36mParserFunctor\u001b[39m"
      ]
     },
     "execution_count": 20,
     "metadata": {},
     "output_type": "execute_result"
    }
   ],
   "source": [
    "// Functor trait\n",
    "trait Functor[F[_]] {\n",
    "  def map[A, B](fa: F[A])(f: A => B): F[B]\n",
    "}\n",
    "\n",
    "// Parser that wraps a parsing function\n",
    "case class Parser[+A](run: String => Option[(A, String)])\n",
    "\n",
    "object ParserFunctor extends Functor[Parser] {\n",
    "  def map[A, B](parser: Parser[A])(f: A => B): Parser[B] = {\n",
    "    Parser { input =>\n",
    "      parser.run(input).map { case (a, remaining) =>\n",
    "        (f(a), remaining)\n",
    "      }\n",
    "    }\n",
    "  }\n",
    "}\n",
    "\n"
   ]
  },
  {
   "cell_type": "markdown",
   "id": "09eb0599-292f-4c6a-96cf-23b5d6e5da0c",
   "metadata": {
    "editable": true,
    "slideshow": {
     "slide_type": ""
    },
    "tags": []
   },
   "source": [
    "Above case class:\n",
    "- Wraps a parsing function that processes string input\n",
    "- The `run` function signature:\n",
    "  - **Input:** `String` - the text to parse\n",
    "  - **Output:** `Option[(A, String)]`\n",
    "    - `Some((value, remaining))` - successful parse with extracted value and remaining input\n",
    "    - `None` - parse failure\n",
    "\n",
    "The `ParserFunctor` object:\n",
    "1. Takes a `Parser[A]` and a transformation function `f: A => B`\n",
    "2. Returns a new `Parser[B]` that:\n",
    "   - Runs the original parser on the input\n",
    "   - If successful, applies `f` to transform the parsed value from `A` to `B`\n",
    "   - Preserves the remaining unparsed string unchanged\n",
    "   - Propagates failures (returns `None` if original parser fails)"
   ]
  },
  {
   "cell_type": "code",
   "execution_count": 18,
   "id": "a2526d9f-0528-402c-82dc-5b5f87041fd8",
   "metadata": {},
   "outputs": [
    {
     "data": {
      "text/plain": [
       "\u001b[36mintParser\u001b[39m: \u001b[32mParser\u001b[39m[\u001b[32mInt\u001b[39m] = \u001b[33mParser\u001b[39m(\n",
       "  run = ammonite.$sess.cmd17$Helper$$Lambda$3421/0x0000000127acbec0@6bfbdf88\n",
       ")"
      ]
     },
     "execution_count": 18,
     "metadata": {},
     "output_type": "execute_result"
    }
   ],
   "source": [
    "// Example integer parser\n",
    "val intParser: Parser[Int] = Parser { input =>\n",
    "  input.takeWhile(_.isDigit) match {\n",
    "    case \"\" => None\n",
    "    case digits => Some((digits.toInt, input.drop(digits.length)))\n",
    "  }\n",
    "}"
   ]
  },
  {
   "cell_type": "markdown",
   "id": "cc0ef7df-ad69-4ba2-9102-db013e8cf8b7",
   "metadata": {},
   "source": [
    "Above `intParser`:\n",
    "1. **`Parser { input => ... }`**\n",
    "   - Creates a new `Parser[Int]` instance\n",
    "   - The lambda defines the parsing logic for the `run` function\n",
    "\n",
    "2. **`input.takeWhile(_.isDigit)`**\n",
    "   - Extracts consecutive digit characters from the start of the input\n",
    "   - Stops at the first non-digit character\n",
    "   - Returns a string of digits (or empty string if input starts with non-digit)\n",
    "\n",
    "3. **Pattern Matching**\n",
    "    ```scala\n",
    "       match {\n",
    "        ...\n",
    "       }\n",
    "    ```\n",
    "    \n",
    "    Returns:\n",
    "   - **Empty string:** Parser fails, returns `None`\n",
    "   - **Non-empty digits:** \n",
    "     - Converts digit string to `Int` using `.toInt`\n",
    "     - Drops parsed characters from input to get remaining string\n",
    "     - Returns `Some((parsedInt, remaining))`\n",
    "\n",
    "Here the examples:"
   ]
  },
  {
   "cell_type": "code",
   "execution_count": 19,
   "id": "cca3c913-5561-4429-a977-bc3787acd50d",
   "metadata": {},
   "outputs": [
    {
     "data": {
      "text/plain": [
       "\u001b[36mstringParser\u001b[39m: \u001b[32mParser\u001b[39m[\u001b[32mString\u001b[39m] = \u001b[33mParser\u001b[39m(\n",
       "  run = ammonite.$sess.cmd12$Helper$ParserFunctor$$$Lambda$2486/0x00000001278526f0@2998a456\n",
       ")\n",
       "\u001b[36mboolParser\u001b[39m: \u001b[32mParser\u001b[39m[\u001b[32mBoolean\u001b[39m] = \u001b[33mParser\u001b[39m(\n",
       "  run = ammonite.$sess.cmd12$Helper$ParserFunctor$$$Lambda$2486/0x00000001278526f0@5853148d\n",
       ")\n",
       "\u001b[36mres18_2\u001b[39m: \u001b[32mOption\u001b[39m[(\u001b[32mInt\u001b[39m, \u001b[32mString\u001b[39m)] = \u001b[33mSome\u001b[39m(value = (\u001b[32m123\u001b[39m, \u001b[32m\"abc\"\u001b[39m))\n",
       "\u001b[36mres18_3\u001b[39m: \u001b[32mOption\u001b[39m[(\u001b[32mString\u001b[39m, \u001b[32mString\u001b[39m)] = \u001b[33mSome\u001b[39m(value = (\u001b[32m\"456\"\u001b[39m, \u001b[32m\"def\"\u001b[39m))\n",
       "\u001b[36mres18_4\u001b[39m: \u001b[32mOption\u001b[39m[(\u001b[32mBoolean\u001b[39m, \u001b[32mString\u001b[39m)] = \u001b[33mSome\u001b[39m(value = (\u001b[32mtrue\u001b[39m, \u001b[32m\"xyz\"\u001b[39m))"
      ]
     },
     "execution_count": 19,
     "metadata": {},
     "output_type": "execute_result"
    }
   ],
   "source": [
    "// Transform to string\n",
    "val stringParser: Parser[String] = \n",
    "  ParserFunctor.map(intParser)(_.toString)\n",
    "\n",
    "// Check if even\n",
    "val boolParser: Parser[Boolean] = \n",
    "  ParserFunctor.map(intParser)(_ % 2 == 0)\n",
    "\n",
    "// Test examples\n",
    "intParser.run(\"123abc\")      // Some((123, \"abc\"))\n",
    "stringParser.run(\"456def\")   // Some((\"456\", \"def\"))\n",
    "boolParser.run(\"8xyz\")       // Some((true, \"xyz\"))"
   ]
  },
  {
   "cell_type": "markdown",
   "id": "e3e8c5f1-0d58-491e-b7d2-0b7db4d30e6d",
   "metadata": {
    "editable": true,
    "slideshow": {
     "slide_type": ""
    },
    "tags": []
   },
   "source": [
    "## Advanced Topics\n",
    "\n",
    "### Relationship to Other Abstractions\n",
    "\n",
    "```mermaid\n",
    "---\n",
    "config:\n",
    "  look: neo\n",
    "  theme: default\n",
    "---\n",
    "graph TB\n",
    "    F[Functor]\n",
    "    A[Applicative Functor]\n",
    "    M[Monad]\n",
    "    T[Traversable]\n",
    "    \n",
    "    F --> A\n",
    "    A --> M\n",
    "    F --> T\n",
    "    A --> T\n",
    "    \n",
    "    F -.->|\"adds pure, map2\"| A\n",
    "    A -.->|\"adds flatMap\"| M\n",
    "    F -.->|\"adds traverse\"| T\n",
    "    \n",
    "    style F fill:#e1f5ff\n",
    "    style A fill:#ffe1f5\n",
    "    style M fill:#f5e1ff\n",
    "    style T fill:#e1ffe1\n",
    "```\n",
    "\n",
    "#### Functor vs Applicative vs Monad\n",
    "\n",
    "| Abstraction | Operations | Power | When to Use |\n",
    "|-------------|-----------|-------|-------------|\n",
    "| **Functor** | `map` | Transform values in a context | Basic transformations, independent computations |\n",
    "| **Applicative** | `map2`, `pure` | Combine multiple contexts | Fixed structure, parallel operations |\n",
    "| **Monad** | `flatMap`, `unit` | Sequence computations, flatten nested contexts | Dependent computations, chaining operations |\n",
    "\n",
    "*Source: [^4]*\n",
    "\n",
    "### Functor Composition\n",
    "\n",
    "This code demonstrates **functor composition** - the ability to combine two functors to create a new functor that works on nested structures like `List[Option[A]]`.\n",
    "\n",
    "Functors compose! If `F[_]` and `G[_]` are functors, then `F[G[_]]` is also a functor:"
   ]
  },
  {
   "cell_type": "code",
   "execution_count": 16,
   "id": "1e32b3fa",
   "metadata": {},
   "outputs": [
    {
     "data": {
      "text/plain": [
       "defined \u001b[32mtrait\u001b[39m \u001b[36mFunctor\u001b[39m"
      ]
     },
     "execution_count": 16,
     "metadata": {},
     "output_type": "execute_result"
    }
   ],
   "source": [
    "// Functor trait\n",
    "trait Functor[F[_]] {\n",
    "  def map[A, B](fa: F[A])(f: A => B): F[B]\n",
    "}"
   ]
  },
  {
   "cell_type": "markdown",
   "id": "77d84ab3",
   "metadata": {},
   "source": [
    "- Provides functor implementations for `List` and `Option`\n",
    "- Marked `implicit` so the compiler can find them automatically\n",
    "- Delegates to the built-in `.map` methods"
   ]
  },
  {
   "cell_type": "code",
   "execution_count": 17,
   "id": "cb7399ff",
   "metadata": {},
   "outputs": [
    {
     "data": {
      "text/plain": [
       "\u001b[36mlistFunctor\u001b[39m: \u001b[32mFunctor\u001b[39m[\u001b[32mList\u001b[39m] = ammonite.$sess.cmd16$Helper$$anon$1@7a4a3132\n",
       "\u001b[36moptionFunctor\u001b[39m: \u001b[32mFunctor\u001b[39m[\u001b[32mOption\u001b[39m] = ammonite.$sess.cmd16$Helper$$anon$2@51afcd91"
      ]
     },
     "execution_count": 17,
     "metadata": {},
     "output_type": "execute_result"
    }
   ],
   "source": [
    "// Functor instances\n",
    "implicit val listFunctor: Functor[List] = new Functor[List] {\n",
    "  def map[A, B](fa: List[A])(f: A => B): List[B] = fa.map(f)\n",
    "}\n",
    "\n",
    "implicit val optionFunctor: Functor[Option] = new Functor[Option] {\n",
    "  def map[A, B](fa: Option[A])(f: A => B): Option[B] = fa.map(f)\n",
    "}"
   ]
  },
  {
   "cell_type": "markdown",
   "id": "8de185a7",
   "metadata": {},
   "source": [
    "- Creates a readable name for the nested type `List[Option[X]]`\n",
    "- Makes code more self-documenting\n",
    "- Not used directly in this example but shows what we're working with"
   ]
  },
  {
   "cell_type": "code",
   "execution_count": 18,
   "id": "84dd97f5",
   "metadata": {},
   "outputs": [
    {
     "data": {
      "text/plain": [
       "defined \u001b[32mtype\u001b[39m \u001b[36mListOption\u001b[39m"
      ]
     },
     "execution_count": 18,
     "metadata": {},
     "output_type": "execute_result"
    }
   ],
   "source": [
    "// Type alias instead of Lambda\n",
    "type ListOption[X] = List[Option[X]]"
   ]
  },
  {
   "cell_type": "markdown",
   "id": "56af64e1",
   "metadata": {},
   "source": [
    "**Type Lambda:** `({type L[X] = F[G[X]]})#L`\n",
    "- **Scala 2 Type Lambda Syntax** - a workaround for creating anonymous type constructors\n",
    "- Defines a new type constructor `L[X]` that represents `F[G[X]]`\n",
    "- The `#L` projects out the type member\n",
    "- Equivalent to: \"a functor for the composed type `F[G[_]]`\"\n",
    "\n",
    "**Constructor Parameters:**\n",
    "- `implicit F: Functor[F]` - requires a functor instance for outer type `F`\n",
    "- `implicit G: Functor[G]` - requires a functor instance for inner type `G`\n"
   ]
  },
  {
   "cell_type": "code",
   "execution_count": 19,
   "id": "30bb2ac3-e580-4e08-bfd3-4f8590769fa1",
   "metadata": {
    "editable": true,
    "slideshow": {
     "slide_type": ""
    },
    "tags": []
   },
   "outputs": [
    {
     "data": {
      "text/plain": [
       "defined \u001b[32mclass\u001b[39m \u001b[36mComposedFunctor\u001b[39m"
      ]
     },
     "execution_count": 19,
     "metadata": {},
     "output_type": "execute_result"
    }
   ],
   "source": [
    "// Define a composed Functor\n",
    "class ComposedFunctor[F[_], G[_]](\n",
    "  implicit F: Functor[F], \n",
    "  G: Functor[G]\n",
    ") extends Functor[({type L[X] = F[G[X]]})#L] {\n",
    "  \n",
    "  def map[A, B](fga: F[G[A]])(f: A => B): F[G[B]] = {\n",
    "    F.map(fga)(ga => G.map(ga)(f))\n",
    "  }\n",
    "}\n"
   ]
  },
  {
   "cell_type": "markdown",
   "id": "937bdca1",
   "metadata": {},
   "source": [
    "**How it works:**\n",
    "1. Takes a nested structure `F[G[A]]` (e.g., `List[Option[Int]]`)\n",
    "2. Uses outer functor `F` to map over the outer structure\n",
    "3. For each inner value `ga: G[A]`, uses inner functor `G` to map over it\n",
    "4. Applies transformation `f: A => B` to the innermost values\n",
    "5. Returns `F[G[B]]` with transformed values"
   ]
  },
  {
   "cell_type": "markdown",
   "id": "ae71b64b-dfbe-473d-8f6f-2f93b7c959bc",
   "metadata": {},
   "source": [
    "**Functor Perspective**: This code demonstrates the crucial property that **functors compose** - a fundamental theorem in category theory.\n",
    "\n",
    "**Composition Theorem**: If $F$ and $G$ are functors, then their composition $F \\circ G$ is also a functor:\n",
    "$$F \\circ G : \\mathcal{C} \\to \\mathcal{C}$$\n",
    "$$(F \\circ G)(A) = F(G(A))$$\n",
    "$$(F \\circ G)(f) = F(G(f))$$\n",
    "\n",
    "**Implementation Details**:\n",
    "- **Type-level composition**: `F[G[X]]` represents nested contexts (e.g., `List[Option[Int]]`)\n",
    "- **Map composition**: To map over `F[G[A]]`, we:\n",
    "  1. Use $F$'s map to traverse the outer structure\n",
    "  2. For each inner $G[A]$, use $G$'s map to apply function $f$\n",
    "\n",
    "**Mathematical Expression**:\n",
    "$$\\text{map}_{F \\circ G}(f) = \\text{map}_F(\\text{map}_G(f))$$\n",
    "\n",
    "In code: `F.map(fga)(ga => G.map(ga)(f))`\n",
    "\n",
    "**Functor Laws Preservation**: The composed functor preserves both functor laws:\n",
    "- **Identity**: $(F \\circ G)(id) = F(G(id)) = F(id) = id$\n",
    "- **Composition**: $(F \\circ G)(g \\circ f) = F(G(g \\circ f)) = F(G(g) \\circ G(f)) = F(G(g)) \\circ F(G(f))$\n",
    "\n",
    "This composition property allows building complex data structures (like `List[Option[Int]]`) that remain functorial, enabling safe and composable transformations."
   ]
  },
  {
   "cell_type": "code",
   "execution_count": 20,
   "id": "87864246-a2ce-487c-93dd-28741b87f589",
   "metadata": {},
   "outputs": [
    {
     "data": {
      "text/plain": [
       "\u001b[36mlistOptionFunctor\u001b[39m: \u001b[32mFunctor\u001b[39m[\u001b[32mListOption\u001b[39m] = ammonite.$sess.cmd18$Helper$ComposedFunctor@5d0815b9\n",
       "\u001b[36mdata\u001b[39m: \u001b[32mList\u001b[39m[\u001b[32mOption\u001b[39m[\u001b[32mInt\u001b[39m]] = \u001b[33mList\u001b[39m(\u001b[33mSome\u001b[39m(value = \u001b[32m1\u001b[39m), \u001b[32mNone\u001b[39m, \u001b[33mSome\u001b[39m(value = \u001b[32m3\u001b[39m))\n",
       "\u001b[36mdoubled\u001b[39m: \u001b[32mList\u001b[39m[\u001b[32mOption\u001b[39m[\u001b[32mInt\u001b[39m]] = \u001b[33mList\u001b[39m(\u001b[33mSome\u001b[39m(value = \u001b[32m2\u001b[39m), \u001b[32mNone\u001b[39m, \u001b[33mSome\u001b[39m(value = \u001b[32m6\u001b[39m))"
      ]
     },
     "execution_count": 20,
     "metadata": {},
     "output_type": "execute_result"
    }
   ],
   "source": [
    "// Example: List[Option[_]] is a Functor\n",
    "val listOptionFunctor: Functor[ListOption] = \n",
    "  new ComposedFunctor[List, Option]\n",
    "\n",
    "val data: List[Option[Int]] = List(Some(1), None, Some(3))\n",
    "\n",
    "val doubled: List[Option[Int]] = \n",
    "  listOptionFunctor.map(data)((x: Int) => x * 2)\n",
    "// Result: List(Some(2), None, Some(6))"
   ]
  },
  {
   "cell_type": "markdown",
   "id": "198abcf9",
   "metadata": {},
   "source": [
    "### Contravariant Functor\n",
    "\n",
    "This code demonstrates **contravariance** - a pattern that's the \"opposite\" of regular functors. While functors *produce* values (covariant), contravariant functors *consume* values.\n",
    "\n",
    "Some type constructors support a `contramap` operation instead of `map`:"
   ]
  },
  {
   "cell_type": "code",
   "execution_count": 22,
   "id": "5a03026e",
   "metadata": {},
   "outputs": [
    {
     "data": {
      "text/plain": [
       "defined \u001b[32mtrait\u001b[39m \u001b[36mContravariant\u001b[39m"
      ]
     },
     "execution_count": 22,
     "metadata": {},
     "output_type": "execute_result"
    }
   ],
   "source": [
    "trait Contravariant[F[_]] {\n",
    "  def contramap[A, B](fa: F[A])(f: B => A): F[B]\n",
    "}"
   ]
  },
  {
   "cell_type": "markdown",
   "id": "5478f368",
   "metadata": {},
   "source": [
    "Key Difference from Functor\n",
    "\n",
    "| Type | Signature | Direction |\n",
    "|------|-----------|-----------|\n",
    "| **Functor** | `map[A, B](fa: F[A])(f: A => B): F[B]` | Forward: `A => B` |\n",
    "| **Contravariant** | `contramap[A, B](fa: F[A])(f: B => A): F[B]` | **Backward: `B => A`** |\n",
    "\n",
    "**Intuition:**\n",
    "- Functor: \"I have `F[A]`, give me a way to get `B` from `A`, I'll give you `F[B]`\"\n",
    "- Contravariant: \"I have `F[A]`, give me a way to get `A` from `B`, I'll give you `F[B]`\"\n"
   ]
  },
  {
   "cell_type": "code",
   "execution_count": 23,
   "id": "6b254b33",
   "metadata": {},
   "outputs": [
    {
     "data": {
      "text/plain": [
       "defined \u001b[32mtrait\u001b[39m \u001b[36mShow\u001b[39m\n",
       "\u001b[36mshowInt\u001b[39m: \u001b[32mShow\u001b[39m[\u001b[32mInt\u001b[39m] = ammonite.$sess.cmd22$Helper$$anon$1@7578d5b5"
      ]
     },
     "execution_count": 23,
     "metadata": {},
     "output_type": "execute_result"
    }
   ],
   "source": [
    "// Example: Show type class\n",
    "trait Show[A] {\n",
    "  def show(a: A): String\n",
    "}\n",
    "\n",
    "implicit val showInt: Show[Int] = new Show[Int] {\n",
    "  def show(a: Int): String = a.toString\n",
    "}"
   ]
  },
  {
   "cell_type": "markdown",
   "id": "c6dd1969",
   "metadata": {},
   "source": [
    "The Show Type Class:\n",
    "\n",
    "- Type class for converting values to strings\n",
    "- `Show[A]` is a **consumer** of `A` (it takes `A` and produces `String`)\n",
    "- This makes it contravariant in `A`"
   ]
  },
  {
   "cell_type": "code",
   "execution_count": 24,
   "id": "17c73ff6",
   "metadata": {},
   "outputs": [
    {
     "data": {
      "text/plain": [
       "defined \u001b[32mclass\u001b[39m \u001b[36mPerson\u001b[39m\n",
       "\u001b[36mshowPerson\u001b[39m: \u001b[32mShow\u001b[39m[\u001b[32mPerson\u001b[39m] = ammonite.$sess.cmd23$Helper$$anon$1@56f63d52"
      ]
     },
     "execution_count": 24,
     "metadata": {},
     "output_type": "execute_result"
    }
   ],
   "source": [
    "// We can create Show[Person] from Show[Int]\n",
    "case class Person(age: Int)\n",
    "\n",
    "implicit val showPerson: Show[Person] = \n",
    "  new Show[Person] {\n",
    "    def show(person: Person): String = \n",
    "      showInt.show(person.age)\n",
    "  }\n"
   ]
  },
  {
   "cell_type": "markdown",
   "id": "6d7d6bb4",
   "metadata": {},
   "source": [
    "Manual Implementation (Without Contramap):\n",
    "1. We have `Show[Int]` - can show integers\n",
    "2. We can extract an `Int` from `Person` via `.age`\n",
    "3. Therefore, we can create `Show[Person]` by: extract age → show the age"
   ]
  },
  {
   "cell_type": "code",
   "execution_count": 25,
   "id": "fdfcd1fd",
   "metadata": {},
   "outputs": [
    {
     "data": {
      "text/plain": [
       "defined \u001b[32mobject\u001b[39m \u001b[36mShowContravariant\u001b[39m"
      ]
     },
     "execution_count": 25,
     "metadata": {},
     "output_type": "execute_result"
    }
   ],
   "source": [
    "// Using contramap:\n",
    "object ShowContravariant extends Contravariant[Show] {\n",
    "  def contramap[A, B](showA: Show[A])(f: B => A): Show[B] = {\n",
    "    new Show[B] {\n",
    "      def show(b: B): String = showA.show(f(b))\n",
    "    }\n",
    "  }\n",
    "}\n"
   ]
  },
  {
   "cell_type": "markdown",
   "id": "aa9524a5",
   "metadata": {},
   "source": [
    "ShowContravariant Implementation:\n",
    "\n",
    "**Type Parameters:**\n",
    "- `A` = the type we already know how to show (e.g., `Int`)\n",
    "- `B` = the new type we want to show (e.g., `Person`)\n",
    "\n",
    "**Parameters:**\n",
    "- `showA: Show[A]` - existing Show instance for type `A`\n",
    "- `f: B => A` - function to convert `B` to `A`\n",
    "\n",
    "**Return:**\n",
    "- `Show[B]` - new Show instance for type `B`\n",
    "\n",
    "**The Logic:**\n",
    "```scala\n",
    "def show(b: B): String = showA.show(f(b))\n",
    "//       ↑              ↑          ↑\n",
    "//     input B       show A    convert B→A\n",
    "```\n",
    "\n",
    "1. Take a value of type `B`\n",
    "2. Convert it to `A` using `f`\n",
    "3. Show the `A` using existing `showA`"
   ]
  },
  {
   "cell_type": "code",
   "execution_count": 26,
   "id": "33cf42e4",
   "metadata": {},
   "outputs": [
    {
     "data": {
      "text/plain": [
       "\u001b[36mshowPerson2\u001b[39m: \u001b[32mShow\u001b[39m[\u001b[32mPerson\u001b[39m] = ammonite.$sess.cmd24$Helper$ShowContravariant$$anon$1@709d0a62"
      ]
     },
     "execution_count": 26,
     "metadata": {},
     "output_type": "execute_result"
    }
   ],
   "source": [
    "\n",
    "val showPerson2: Show[Person] = \n",
    "  ShowContravariant.contramap(showInt)(_.age)\n",
    "//                              ↑         ↑\n",
    "//                          Show[Int]  Person => Int"
   ]
  },
  {
   "cell_type": "markdown",
   "id": "4b0683f8",
   "metadata": {},
   "source": [
    "As shown above elegent way is us Using Contramap:\n",
    "- **Map**: \"I'll transform what comes OUT\"\n",
    "- **Contramap**: \"I'll transform what goes IN\"\n",
    "\n",
    "Visualization\n",
    "```\n",
    "Show[Int] ←──(contramap)── Show[Person] ←──(contramap)── Show[Employee]\n",
    "    ↑                           ↑                             ↑\n",
    "a.toString              person.age                    employee.person\n",
    "```\n",
    "\n",
    "Data flows **right to left** (contravariant direction):\n",
    "```\n",
    "Employee → Person → Int → String\n",
    "```"
   ]
  },
  {
   "cell_type": "markdown",
   "id": "1f8e89c0",
   "metadata": {},
   "source": [
    "**Contravariant Functor Perspective**: While (covariant) functors use `map`, contravariant functors reverse the arrow direction using `contramap`.\n",
    "\n",
    "**Mathematical Definition**: A contravariant functor $F : \\mathcal{C}^{op} \\to \\mathcal{D}$ maps:\n",
    "- Objects: $A \\mapsto F(A)$\n",
    "- Arrows **reversed**: $f: B \\to A$ becomes $F(f): F(A) \\to F(B)$\n",
    "\n",
    "Notice the arrow reversal: $f: B \\to A$ but $\\text{contramap}(f): F[A] \\to F[B]$\n",
    "\n",
    "**The Show Example**:\n",
    "$$\\text{Show}[\\text{Int}] \\xrightarrow{\\text{contramap}(\\text{Person} \\to \\text{Int})} \\text{Show}[\\text{Person}]$$\n",
    "\n",
    "The function `_.age: Person => Int` goes from `Person` to `Int`, but `contramap` produces `Show[Person]` from `Show[Int]` - the type parameters are reversed!\n",
    "\n",
    "**Contravariant Functor Laws**:\n",
    "1. **Identity**: $\\text{contramap}(fa)(id) = fa$\n",
    "2. **Composition**: $\\text{contramap}(fa)(f \\circ g) = \\text{contramap}(\\text{contramap}(fa)(g))(f)$\n",
    "\n",
    "**Intuition**: Contravariant functors represent **consumers** of data (like `Show[A]` consumes an `A` to produce a String). If you can convert `B => A`, you can adapt a consumer of `A` into a consumer of `B` by pre-composing the conversion:\n",
    "\n",
    "$$\\text{show}_B(b) = \\text{show}_A(f(b)) \\quad \\text{where } f: B \\to A$$\n",
    "\n",
    "This is the dual of covariant functors, which represent **producers** of data."
   ]
  },
  {
   "cell_type": "markdown",
   "id": "a5e5a0d9",
   "metadata": {},
   "source": [
    "## Summary\n",
    "\n",
    "### Key Takeaways\n",
    "\n",
    "1. **Functor Definition**: A Functor is a type constructor `F[_]` with a `map` operation that transforms values inside a context without leaving the context.\n",
    "\n",
    "2. **Mathematical Foundation**: Functors come from category theory—they are structure-preserving mappings between categories.\n",
    "\n",
    "3. **Functor Laws**: \n",
    "   - **Identity**: `fa.map(identity) == fa`\n",
    "   - **Composition**: `fa.map(f).map(g) == fa.map(g compose f)`\n",
    "\n",
    "4. **Common Examples**: `List`, `Option`, `Either`, `Future`, `Parser`, `Gen`\n",
    "\n",
    "5. **Power**: Functors provide:\n",
    "   - Generic operations that work across different data types\n",
    "   - Function lifting\n",
    "   - Composition of computations\n",
    "   - Algebraic reasoning about programs\n",
    "\n",
    "### When to Use Functors\n",
    "\n",
    "✅ **Use Functors when**:\n",
    "- You need to transform values inside a context\n",
    "- Transformations are independent (don't depend on previous results)\n",
    "- You want to lift ordinary functions into a context\n",
    "- You need structure-preserving transformations\n",
    "\n",
    "❌ **Consider Applicative or Monad when**:\n",
    "- You need to combine multiple independent computations (`Applicative`)\n",
    "- Computations depend on previous results (`Monad`)\n",
    "- You need to flatten nested structures (`Monad`)\n",
    "\n",
    "### Quick Reference Card\n",
    "\n",
    "```scala\n",
    "// Functor trait\n",
    "trait Functor[F[_]] {\n",
    "  def map[A, B](fa: F[A])(f: A => B): F[B]\n",
    "}\n",
    "\n",
    "// Laws\n",
    "fa.map(identity) == fa                    // Identity\n",
    "fa.map(f).map(g) == fa.map(g compose f)   // Composition\n",
    "\n",
    "// Common instances\n",
    "List[A]     // listFunctor\n",
    "Option[A]   // optionFunctor\n",
    "Either[E, A] // eitherFunctor (right-biased)\n",
    "Future[A]   // futureFunctor\n",
    "Parser[A]   // parserFunctor\n",
    "```"
   ]
  },
  {
   "cell_type": "markdown",
   "id": "73887080-6430-40c6-b85e-f928df4423a0",
   "metadata": {
    "editable": true,
    "slideshow": {
     "slide_type": ""
    },
    "tags": []
   },
   "source": [
    "[^1]: Awodey, S. *Category Theory*. Oxford University Press, 2010. → Ch. 1: \"Categories\", pp. 1-9, and Ch. 7: \"Naturality\", pp. 147-150\n",
    "\n",
    "[^2]: Chiusano, P. and Bjarnason, R. *Functional Programming in Scala*. Manning Publications, 2014. → Ch. 11: \"Monads\" → \"Functors: generalizing the map function\", pp. 187-190\n",
    "\n",
    "[^3]: Chiusano, P. and Bjarnason, R. *Functional Programming in Scala*. Manning Publications, 2014. → Ch. 4: \"Handling errors without exceptions\" → \"The Option data type\", pp. 53-60\n",
    "\n",
    "[^4]: Chiusano, P. and Bjarnason, R. *Functional Programming in Scala*. Manning Publications, 2014. → Ch. 12: \"Applicative and traversable functors\" → \"The difference between monads and applicative functors\", pp. 208-210\n",
    "\n",
    "[^5]: Odersky, M., Spoon, L., and Venners, B. *Programming in Scala, Fourth Edition*. Artima Press, 2019. → Ch. 16: \"Working with Lists\", pp. 346-349\n",
    "\n",
    "[^6]: Awodey, S. *Category Theory*. Oxford University Press, 2010. → Ch. 4: \"Groups and Categories\" → \"Finitely presented categories\", pp. 84-88\n",
    "\n",
    "[^7]: [Scala Standard Library API - Functor-like operations](https://www.scala-lang.org/api/2.13.x/)\n",
    "\n",
    "[^8]: [Scala Language Specification 2.13](https://scala-lang.org/files/archive/spec/2.13/)\n",
    "\n",
    "{:gtxt: .message color=\"green\"}\n",
    "{:ytxt: .message color=\"yellow\"}\n",
    "{:rtxt: .message color=\"red\"}"
   ]
  },
  {
   "cell_type": "markdown",
   "id": "80982aad-77b8-43f8-9b0f-8c81102b1f90",
   "metadata": {},
   "source": []
  }
 ],
 "metadata": {
  "kernelspec": {
   "display_name": "Scala",
   "language": "scala",
   "name": "scala"
  },
  "language_info": {
   "codemirror_mode": "text/x-scala",
   "file_extension": ".sc",
   "mimetype": "text/x-scala",
   "name": "scala",
   "nbconvert_exporter": "script",
   "version": "2.13.10"
  }
 },
 "nbformat": 4,
 "nbformat_minor": 5
}
