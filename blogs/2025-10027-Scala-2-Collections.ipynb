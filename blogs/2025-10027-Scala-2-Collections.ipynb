{
 "cells": [
  {
   "cell_type": "markdown",
   "id": "0803e73f-f2cd-4fbb-aef8-622fc74e3a30",
   "metadata": {
    "editable": true,
    "slideshow": {
     "slide_type": ""
    },
    "tags": []
   },
   "source": [
    "---\n",
    "layout: post\n",
    "title:  Scala 2 Collections explained\n",
    "date:   2025-10-27\n",
    "categories: [Scala]\n",
    "mermaid: true\n",
    "maths: true\n",
    "typora-root-url: /Users/ojitha/GitHub/ojitha.github.io\n",
    "typora-copy-images-to: ../../blog/assets/images/${filename}\n",
    "---\n",
    "\n",
    "<style>\n",
    "/* Styles for the two-column layout */\n",
    ".image-text-container {\n",
    "    display: flex; /* Enables flexbox */\n",
    "    flex-wrap: wrap; /* Allows columns to stack on small screens */\n",
    "    gap: 20px; /* Space between the image and text */\n",
    "    align-items: center; /* Vertically centers content in columns */\n",
    "    margin-bottom: 20px; /* Space below this section */\n",
    "}\n",
    "\n",
    ".image-column {\n",
    "    flex: 1; /* Allows this column to grow */\n",
    "    min-width: 250px; /* Minimum width for the image column before stacking */\n",
    "    max-width: 40%; /* Maximum width for the image column to not take up too much space initially */\n",
    "    box-sizing: border-box; /* Include padding/border in element's total width/height */\n",
    "}\n",
    "\n",
    ".text-column {\n",
    "    flex: 2; /* Allows this column to grow more (e.g., twice as much as image-column) */\n",
    "    min-width: 300px; /* Minimum width for the text column before stacking */\n",
    "    box-sizing: border-box;\n",
    "}\n",
    "\n",
    "</style>\n",
    "\n",
    "<div class=\"image-text-container\">\n",
    "    <div class=\"image-column\">\n",
    "        <img src=\"https://raw.githubusercontent.com/ojitha/blog/master/assets/images/2025-10-26-Scala2-Functors/scala-functors-illustration.svg\" alt=\"Scala Functors\" width=\"150\" height=\"150\">\n",
    "    </div>\n",
    "    <div class=\"text-column\">\n",
    "<p>TBC</p>\n",
    "    </div>\n",
    "</div>\n",
    "\n",
    "<!--more-->\n",
    "\n",
    "------\n",
    "\n",
    "* TOC\n",
    "{:toc}\n",
    "------\n",
    "\n",
    "## Introduction\n",
    "Scala's collection library is one of its most powerful features, providing a rich set of data structures and operations for working with sequences, sets, and maps. The collections are designed to be **easy to use**, **concise**, **safe**, **fast**, and **universal**[^3].\n",
    "\n",
    "## Collection Hierarchy\n",
    "\n",
    "The Scala collections are organized into three main packages[^1]:\n",
    "\n",
    "| Package | Description | Mutability |\n",
    "|---------|-------------|------------|\n",
    "| `scala.collection` | Base traits and abstract collections | May be immutable or mutable |\n",
    "| `scala.collection.immutable` | Immutable collections (default) | Never change after creation |\n",
    "| `scala.collection.mutable` | Mutable collections | Can be modified in place |\n",
    "\n",
    "```mermaid\n",
    "---\n",
    "config:\n",
    "  look: neo\n",
    "  theme: default\n",
    "---\n",
    "graph LR\n",
    "    Iterable[Iterable]\n",
    "    Iterable --> Seq[Seq]\n",
    "    Iterable --> Set[Set]\n",
    "    Iterable --> Map[Map]\n",
    "    \n",
    "    Seq --> IndexedSeq[IndexedSeq]\n",
    "    Seq --> LinearSeq[LinearSeq]\n",
    "    \n",
    "    IndexedSeq --> Vector\n",
    "    IndexedSeq --> ArraySeq\n",
    "    IndexedSeq --> Range\n",
    "    IndexedSeq --> ArrayBuffer[\"ArrayBuffer (mutable)\"]\n",
    "    \n",
    "    LinearSeq --> List\n",
    "    LinearSeq --> LazyList\n",
    "    LinearSeq --> Queue[\"Queue (immutable)\"]\n",
    "    \n",
    "    Set --> SortedSet\n",
    "    Set --> HashSet[\"HashSet\"]\n",
    "    Set --> BitSet\n",
    "    SortedSet --> TreeSet\n",
    "    \n",
    "    Map --> SortedMap\n",
    "    Map --> HashMap\n",
    "    Map --> VectorMap\n",
    "    SortedMap --> TreeMap\n",
    "    \n",
    "    style Iterable fill:#e1f5ff\n",
    "    style Seq fill:#fff4e1\n",
    "    style Set fill:#ffe1f5\n",
    "    style Map fill:#e1ffe1\n",
    "```\n",
    "\n",
    "### The Iterable Trait\n",
    "\n",
    "All Scala collections inherit from `Iterable[A]`, which defines an **iterator** that lets you loop through collection elements one at a time[^1]. The iterator can traverse the collection only once, as each element is consumed during iteration.\n",
    "\n",
    "> **Important**: The `Iterable` trait provides the foundation for all collection operations through its iterator.\n",
    "\n",
    "## Immutable vs. Mutable Collections\n",
    "\n",
    "### Immutable Collections (Default)\n",
    "\n",
    "Immutable collections **never change after creation**[^3]. When you \"modify\" an immutable collection, you create a new collection with the changes.\n",
    "\n",
    "Immutable collections are the default:"
   ]
  },
  {
   "cell_type": "code",
   "execution_count": 3,
   "id": "f7a8fc6a-0744-4765-a391-7d67c33cc98b",
   "metadata": {
    "editable": true,
    "slideshow": {
     "slide_type": ""
    },
    "tags": []
   },
   "outputs": [
    {
     "data": {
      "text/plain": [
       "\u001b[36mset\u001b[39m: \u001b[32mSet\u001b[39m[\u001b[32mInt\u001b[39m] = \u001b[33mSet\u001b[39m(\u001b[32m1\u001b[39m, \u001b[32m2\u001b[39m, \u001b[32m3\u001b[39m)\n",
       "\u001b[36mlist\u001b[39m: \u001b[32mList\u001b[39m[\u001b[32mInt\u001b[39m] = \u001b[33mList\u001b[39m(\u001b[32m1\u001b[39m, \u001b[32m2\u001b[39m, \u001b[32m3\u001b[39m)\n",
       "\u001b[36mmap\u001b[39m: \u001b[32mMap\u001b[39m[\u001b[32mInt\u001b[39m, \u001b[32mChar\u001b[39m] = \u001b[33mMap\u001b[39m(\u001b[32m1\u001b[39m -> \u001b[32m'a'\u001b[39m)"
      ]
     },
     "execution_count": 3,
     "metadata": {},
     "output_type": "execute_result"
    }
   ],
   "source": [
    "val set = Set(1,2,3)\n",
    "val list = List(1,2,3)\n",
    "val map = Map(1 -> 'a', 2->'b')"
   ]
  },
  {
   "cell_type": "markdown",
   "id": "342010f1-1134-4f31-ac5e-3e7ec64eacb2",
   "metadata": {},
   "source": [
    "Adding to immutable collections creates new collections:"
   ]
  },
  {
   "cell_type": "code",
   "execution_count": 5,
   "id": "b4329286-5639-4d78-9a3e-3f3ec48fb6c2",
   "metadata": {},
   "outputs": [
    {
     "data": {
      "text/plain": [
       "\u001b[36mset2\u001b[39m: \u001b[32mSet\u001b[39m[\u001b[32mInt\u001b[39m] = \u001b[33mSet\u001b[39m(\u001b[32m1\u001b[39m, \u001b[32m2\u001b[39m, \u001b[32m3\u001b[39m, \u001b[32m4\u001b[39m)\n",
       "\u001b[36mlist2\u001b[39m: \u001b[32mList\u001b[39m[\u001b[32mInt\u001b[39m] = \u001b[33mList\u001b[39m(\u001b[32m1\u001b[39m, \u001b[32m2\u001b[39m, \u001b[32m3\u001b[39m, \u001b[32m4\u001b[39m)"
      ]
     },
     "execution_count": 5,
     "metadata": {},
     "output_type": "execute_result"
    }
   ],
   "source": [
    "val set2 = set + 4\n",
    "val list2 = list :+ 4"
   ]
  },
  {
   "cell_type": "markdown",
   "id": "847fdfea-f406-42a7-beb1-475b98fdbc04",
   "metadata": {
    "editable": true,
    "slideshow": {
     "slide_type": ""
    },
    "tags": []
   },
   "source": [
    "Source📝[^1]: Demonstrates how immutable collections are the default in Scala and how they handle additions.\n",
    "\n",
    "**Logic**: \n",
    "- First three lines create immutable collections without any import statements\n",
    "- The `+` operator on Set and <b>`:+`</b>{:gtxt} operator on List create new collections rather than modifying the originals\n",
    "- `set` and `list` remain unchanged after operations; only new bindings `set2` and `list2` contain the updated values\n",
    "\n",
    ">Immutability ensures **referential transparency** - the same expression always evaluates to the same value, making code easier to reason about and thread-safe by default.\n",
    "{:.green}\n",
    "\n",
    "### Mutable Collections\n",
    "\n",
    "Mutable collections can be modified in place using operations that have **side effects**[^1].\n",
    "\n",
    "Must import or use full path for mutable collections:"
   ]
  },
  {
   "cell_type": "code",
   "execution_count": 7,
   "id": "8c0c85c0-9224-4223-8be3-d45f6938b179",
   "metadata": {},
   "outputs": [
    {
     "data": {
      "text/plain": [
       "\u001b[32mimport \u001b[39m\u001b[36mscala.collection.mutable\u001b[39m"
      ]
     },
     "execution_count": 7,
     "metadata": {},
     "output_type": "execute_result"
    }
   ],
   "source": [
    "import scala.collection.mutable"
   ]
  },
  {
   "cell_type": "code",
   "execution_count": 13,
   "id": "3a55cfbe-fd62-4d26-b85f-6e51ba34d86b",
   "metadata": {},
   "outputs": [
    {
     "data": {
      "text/plain": [
       "\u001b[36mmutableSet\u001b[39m: \u001b[32mmutable\u001b[39m.\u001b[32mSet\u001b[39m[\u001b[32mInt\u001b[39m] = \u001b[33mHashSet\u001b[39m(\u001b[32m1\u001b[39m, \u001b[32m2\u001b[39m, \u001b[32m3\u001b[39m)"
      ]
     },
     "execution_count": 13,
     "metadata": {},
     "output_type": "execute_result"
    }
   ],
   "source": [
    "val mutableSet = mutable.Set(1,2,3)"
   ]
  },
  {
   "cell_type": "code",
   "execution_count": 9,
   "id": "8bd1ede2-955c-43d0-afe4-7bdeebba9257",
   "metadata": {},
   "outputs": [
    {
     "data": {
      "text/plain": [
       "\u001b[36mmutableList\u001b[39m: \u001b[32mmutable\u001b[39m.\u001b[32mArrayBuffer\u001b[39m[\u001b[32mInt\u001b[39m] = \u001b[33mArrayBuffer\u001b[39m(\u001b[32m1\u001b[39m, \u001b[32m2\u001b[39m, \u001b[32m3\u001b[39m)"
      ]
     },
     "execution_count": 9,
     "metadata": {},
     "output_type": "execute_result"
    }
   ],
   "source": [
    "val mutableList = mutable.ArrayBuffer(1,2,3)"
   ]
  },
  {
   "cell_type": "code",
   "execution_count": 11,
   "id": "505d4ada-da90-4150-bfae-e5fadcabfeeb",
   "metadata": {},
   "outputs": [
    {
     "data": {
      "text/plain": [
       "\u001b[36mmutableMap\u001b[39m: \u001b[32mmutable\u001b[39m.\u001b[32mMap\u001b[39m[\u001b[32mInt\u001b[39m, \u001b[32mChar\u001b[39m] = \u001b[33mHashMap\u001b[39m(\u001b[32m1\u001b[39m -> \u001b[32m'a'\u001b[39m, \u001b[32m2\u001b[39m -> \u001b[32m'b'\u001b[39m)"
      ]
     },
     "execution_count": 11,
     "metadata": {},
     "output_type": "execute_result"
    }
   ],
   "source": [
    "val mutableMap = mutable.Map(1 -> 'a', 2 -> 'b')"
   ]
  },
  {
   "cell_type": "markdown",
   "id": "ef672329-df2f-481c-ad4e-858beca2e57a",
   "metadata": {},
   "source": [
    "Modifying mutable collections in place:"
   ]
  },
  {
   "cell_type": "code",
   "execution_count": 15,
   "id": "ea08a4ff-fc43-4378-9e46-89d92c12849a",
   "metadata": {},
   "outputs": [
    {
     "data": {
      "text/plain": [
       "\u001b[36mres14_0\u001b[39m: \u001b[32mmutable\u001b[39m.\u001b[32mSet\u001b[39m[\u001b[32mInt\u001b[39m] = \u001b[33mHashSet\u001b[39m(\u001b[32m1\u001b[39m, \u001b[32m2\u001b[39m, \u001b[32m3\u001b[39m, \u001b[32m4\u001b[39m)\n",
       "\u001b[36mres14_1\u001b[39m: \u001b[32mmutable\u001b[39m.\u001b[32mArrayBuffer\u001b[39m[\u001b[32mInt\u001b[39m] = \u001b[33mArrayBuffer\u001b[39m(\u001b[32m1\u001b[39m, \u001b[32m2\u001b[39m, \u001b[32m3\u001b[39m, \u001b[32m4\u001b[39m)"
      ]
     },
     "execution_count": 15,
     "metadata": {},
     "output_type": "execute_result"
    }
   ],
   "source": [
    "mutableSet += 4\n",
    "mutableList += 4"
   ]
  },
  {
   "cell_type": "markdown",
   "id": "21ad13f8-3914-45e6-b4f2-84e5bea6d395",
   "metadata": {
    "editable": true,
    "slideshow": {
     "slide_type": ""
    },
    "tags": []
   },
   "source": [
    "Source📝[^1]: Shows how mutable collections differ from immutable ones in both declaration and usage.\n",
    "\n",
    "> Mutable collections use **side effects**{:rtxt} - they change state rather than creating new values. This can be more efficient for frequent updates but sacrifices thread-safety and referential transparency.\n",
    "{:.yellow}\n",
    "\n",
    "### Why Immutability Matters\n",
    "\n",
    "**Benefits of Immutability**:\n",
    "- **Thread-safe**: Multiple threads can safely access immutable collections\n",
    "- **Easier to reason about**: No hidden state changes\n",
    "- **Referential transparency**: Same inputs always produce same outputs\n",
    "- **Structural sharing**: Efficient memory use through shared structure\n",
    "\n",
    "## Main Collection Types\n",
    "\n",
    "### 1. Sequences (Seq)\n",
    "\n",
    "Sequences are ordered collections that support indexed access. They branch into two main categories:\n",
    "\n",
    "#### Linear Sequences (LinearSeq)\n",
    "\n",
    "Optimised for **head/tail** operations. Elements are accessed sequentially[^1].\n",
    "\n",
    "```mermaid\n",
    "---\n",
    "config:\n",
    "  look: handDrawn\n",
    "  theme: default\n",
    "---\n",
    "graph LR\n",
    "    List[\"List(1,2,3,4,5)\"]\n",
    "    N1[\":: <br/> head: 1\"]\n",
    "    N2[\":: <br/> head: 2\"]\n",
    "    N3[\":: <br/> head: 3\"]\n",
    "    N4[\":: <br/> head: 4\"]\n",
    "    N5[\":: <br/> head: 5\"]\n",
    "    Nil[\"Nil\"]\n",
    "    \n",
    "    List --> N1\n",
    "    N1 -->|tail| N2\n",
    "    N2 -->|tail| N3\n",
    "    N3 -->|tail| N4\n",
    "    N4 -->|tail| N5\n",
    "    N5 -->|tail| Nil\n",
    "```\n",
    "\n",
    "The `List` is implemented as a *singly linked list* where each node contains a value and a pointer to the next node. This structure makes prepending (`::`), head, and tail operations extremely fast, but random access requires traversing from the beginning.\n",
    "\n",
    "**List characteristics**:\n",
    "- **cons (::)** operation prepends elements in O(1) time\n",
    "- Random access is O(n) - must traverse from head\n",
    "- Ideal for recursive algorithms and pattern matching"
   ]
  },
  {
   "cell_type": "code",
   "execution_count": 16,
   "id": "3d84f1c4-863b-4742-9227-62e5d718fd80",
   "metadata": {
    "editable": true,
    "slideshow": {
     "slide_type": ""
    },
    "tags": []
   },
   "outputs": [
    {
     "data": {
      "text/plain": [
       "\u001b[36mlist\u001b[39m: \u001b[32mList\u001b[39m[\u001b[32mInt\u001b[39m] = \u001b[33mList\u001b[39m(\u001b[32m1\u001b[39m, \u001b[32m2\u001b[39m, \u001b[32m3\u001b[39m, \u001b[32m4\u001b[39m, \u001b[32m5\u001b[39m)"
      ]
     },
     "execution_count": 16,
     "metadata": {},
     "output_type": "execute_result"
    }
   ],
   "source": [
    "val list = List(1, 2, 3, 4, 5)"
   ]
  },
  {
   "cell_type": "markdown",
   "id": "4bb8231b-c0a1-43e4-82ca-38af672e493a",
   "metadata": {},
   "source": [
    "Head and tail operations are O(1)"
   ]
  },
  {
   "cell_type": "code",
   "execution_count": 17,
   "id": "b569fd09-424f-4869-b027-4f3d38c6f9e3",
   "metadata": {},
   "outputs": [
    {
     "data": {
      "text/plain": [
       "\u001b[36mres16_0\u001b[39m: \u001b[32mInt\u001b[39m = \u001b[32m1\u001b[39m\n",
       "\u001b[36mres16_1\u001b[39m: \u001b[32mList\u001b[39m[\u001b[32mInt\u001b[39m] = \u001b[33mList\u001b[39m(\u001b[32m2\u001b[39m, \u001b[32m3\u001b[39m, \u001b[32m4\u001b[39m, \u001b[32m5\u001b[39m)"
      ]
     },
     "execution_count": 17,
     "metadata": {},
     "output_type": "execute_result"
    }
   ],
   "source": [
    "list.head\n",
    "list.tail"
   ]
  },
  {
   "cell_type": "code",
   "execution_count": 18,
   "id": "e4ee55f3-c0cc-4762-8f42-8d1addc2270a",
   "metadata": {},
   "outputs": [
    {
     "data": {
      "text/plain": [
       "\u001b[36mres17\u001b[39m: \u001b[32mBoolean\u001b[39m = \u001b[32mfalse\u001b[39m"
      ]
     },
     "execution_count": 18,
     "metadata": {},
     "output_type": "execute_result"
    }
   ],
   "source": [
    "list.isEmpty"
   ]
  },
  {
   "cell_type": "markdown",
   "id": "b89f0415-5243-4434-9e4f-cc6d18c3403e",
   "metadata": {},
   "source": [
    "Pattern matching with Lists:"
   ]
  },
  {
   "cell_type": "code",
   "execution_count": 20,
   "id": "cbca0740-b6c8-4b70-8d1d-c8ef30c46d47",
   "metadata": {},
   "outputs": [
    {
     "name": "stdout",
     "output_type": "stream",
     "text": [
      "Head: 1\n"
     ]
    }
   ],
   "source": [
    "list match {\n",
    "    case h :: t => println(s\"Head: $h\")\n",
    "    case Nil => println(\"Empty list\")\n",
    "}"
   ]
  },
  {
   "cell_type": "markdown",
   "id": "fc242d6e-501b-47c7-91ea-bcbef3a26cd2",
   "metadata": {},
   "source": [
    "Example📝[^2]: Demonstrates the fundamental operations on List - a singly linked list optimised for sequential access.\n",
    "\n",
    "- `head` extracts the first element in constant O(1) time\n",
    "- `tail` returns all elements except the first, also in O(1) time\n",
    "- `::` (cons) operator in pattern matching destructures the list into head and tail\n",
    "- `Nil` represents the empty list"
   ]
  },
  {
   "cell_type": "markdown",
   "id": "24a9723a-4cc0-4117-83da-55fc5300bbe0",
   "metadata": {},
   "source": [
    "#### Indexed Sequences (IndexedSeq)\n",
    "\n",
    "Optimised for **random access**. Elements can be accessed efficiently by index[^1].\n",
    "Vector - the default indexed sequence"
   ]
  },
  {
   "cell_type": "code",
   "execution_count": 21,
   "id": "a775823e-adfa-4a0d-82ac-78b647a9ffd1",
   "metadata": {},
   "outputs": [
    {
     "data": {
      "text/plain": [
       "\u001b[36mvector\u001b[39m: \u001b[32mVector\u001b[39m[\u001b[32mInt\u001b[39m] = \u001b[33mVector\u001b[39m(\u001b[32m1\u001b[39m, \u001b[32m2\u001b[39m, \u001b[32m3\u001b[39m, \u001b[32m4\u001b[39m, \u001b[32m5\u001b[39m)"
      ]
     },
     "execution_count": 21,
     "metadata": {},
     "output_type": "execute_result"
    }
   ],
   "source": [
    "val vector = Vector(1,2,3,4,5)"
   ]
  },
  {
   "cell_type": "markdown",
   "id": "c80b7964-4413-4674-95c2-84e82274b42c",
   "metadata": {},
   "source": [
    "Optimized for **random access**. Elements can be accessed efficiently by index[^1]."
   ]
  },
  {
   "cell_type": "code",
   "execution_count": 24,
   "id": "9c47c481-2932-4997-abe6-920e8aa24889",
   "metadata": {},
   "outputs": [
    {
     "data": {
      "text/plain": [
       "\u001b[36mindexed\u001b[39m: \u001b[32mIndexedSeq\u001b[39m[\u001b[32mInt\u001b[39m] = \u001b[33mVector\u001b[39m(\u001b[32m1\u001b[39m, \u001b[32m2\u001b[39m, \u001b[32m3\u001b[39m)"
      ]
     },
     "execution_count": 24,
     "metadata": {},
     "output_type": "execute_result"
    }
   ],
   "source": [
    "val indexed = IndexedSeq(1,2,3)"
   ]
  },
  {
   "cell_type": "code",
   "execution_count": 25,
   "id": "81ade37e-9da4-4827-b817-e4202b2f1679",
   "metadata": {},
   "outputs": [
    {
     "data": {
      "text/plain": [
       "\u001b[36mupdated\u001b[39m: \u001b[32mVector\u001b[39m[\u001b[32mInt\u001b[39m] = \u001b[33mVector\u001b[39m(\u001b[32m1\u001b[39m, \u001b[32m2\u001b[39m, \u001b[32m22\u001b[39m, \u001b[32m4\u001b[39m, \u001b[32m5\u001b[39m)"
      ]
     },
     "execution_count": 25,
     "metadata": {},
     "output_type": "execute_result"
    }
   ],
   "source": [
    "val updated = vector.updated(2, 22)"
   ]
  },
  {
   "cell_type": "markdown",
   "id": "b942a0d5-c5c2-4f5a-a944-8daa491e7eb9",
   "metadata": {},
   "source": [
    "Example📝[^1]: Shows Vector's strength in random access and updates compared to List.\n",
    "\n",
    "**Data Structure**: Vector uses a **tree structure**. This gives effectively O(1) access time for practical purposes. Updates use **structural sharing** - only the path from root to the changed element is copied.\n",
    "\n",
    "-   **Branching factor of 32** - Each internal node can have up to 32 children\n",
    "-   **Shallow and wide** - Typical depth is 0-6 levels even for millions of elements\n",
    "-   **Array-based nodes** - Each node is backed by an array of size 32\n",
    "-   **Efficient access** - $O(\\log_{32} n)$ ≈ effectively constant time for practical sizes\n",
    "-   **Persistent/Immutable** - Structural sharing enables efficient copying\n",
    "\n",
    "```mermaid\n",
    "---\n",
    "config:\n",
    "  look: handDrawn\n",
    "  theme: default\n",
    "---\n",
    "graph TD\n",
    "    V[\"Vector(1,2,3,4,5,6,7,8)\"]\n",
    "    Root[\"Root Node<br/>(Internal)\"]\n",
    "    \n",
    "    L1[\"Leaf Array<br/>[1, 2, 3, 4]\"]\n",
    "    L2[\"Leaf Array<br/>[5, 6, 7, 8]\"]\n",
    "    \n",
    "    V --> Root\n",
    "    Root --> L1\n",
    "    Root --> L2\n",
    "    \n",
    "    style Root fill:#e1f5ff\n",
    "    style L1 fill:#c8e6c9\n",
    "    style L2 fill:#c8e6c9\n",
    "```\n",
    "\n",
    "### 2. Sets\n",
    "\n",
    "Sets are collections of **unique elements** with no defined order (except for sorted sets)[^1].\n",
    "```mermaid\n",
    "---\n",
    "config:\n",
    "  look: neo\n",
    "  theme: default\n",
    "---\n",
    "classDiagram\n",
    "    Set <|-- HashSet\n",
    "    Set <|-- SortedSet\n",
    "    Set <|-- BitSet\n",
    "    SortedSet <|-- TreeSet\n",
    "    \n",
    "    class Set {\n",
    "        +contains(elem): Boolean\n",
    "        ++(elem): Set\n",
    "        --(elem): Set\n",
    "        union(other): Set\n",
    "        intersect(other): Set\n",
    "        diff(other): Set\n",
    "    }\n",
    "    \n",
    "    class HashSet {\n",
    "        Hash-based storage\n",
    "        O(1) lookup\n",
    "    }\n",
    "    \n",
    "    class TreeSet {\n",
    "        Red-black tree\n",
    "        Sorted order\n",
    "        O(log n) operations\n",
    "    }\n",
    "    \n",
    "    class BitSet {\n",
    "        Bit array\n",
    "        Non-negative integers only\n",
    "        Memory efficient\n",
    "    }\n",
    "```\n",
    "#### Immutable Sets\n",
    "Creating immutable sets"
   ]
  },
  {
   "cell_type": "code",
   "execution_count": 26,
   "id": "35110756-1b59-45de-a865-bbc020e66d32",
   "metadata": {},
   "outputs": [
    {
     "data": {
      "text/plain": [
       "\u001b[36mset1\u001b[39m: \u001b[32mSet\u001b[39m[\u001b[32mInt\u001b[39m] = \u001b[33mSet\u001b[39m(\u001b[32m1\u001b[39m, \u001b[32m2\u001b[39m, \u001b[32m3\u001b[39m)\n",
       "\u001b[36mset2\u001b[39m: \u001b[32mSet\u001b[39m[\u001b[32mInt\u001b[39m] = \u001b[33mSet\u001b[39m(\u001b[32m3\u001b[39m, \u001b[32m4\u001b[39m, \u001b[32m5\u001b[39m)"
      ]
     },
     "execution_count": 26,
     "metadata": {},
     "output_type": "execute_result"
    }
   ],
   "source": [
    "val set1 = Set(1,2,3)\n",
    "val set2 = Set(3,4,5)"
   ]
  },
  {
   "cell_type": "markdown",
   "id": "ea7aaa25-e0f3-4fc7-b3a0-d7de8fe8639b",
   "metadata": {},
   "source": [
    "Adding elements (returns a new set):"
   ]
  },
  {
   "cell_type": "code",
   "execution_count": 28,
   "id": "13bf9f3b-9178-4288-bb3a-431d83080618",
   "metadata": {},
   "outputs": [
    {
     "data": {
      "text/plain": [
       "\u001b[36mset3\u001b[39m: \u001b[32mSet\u001b[39m[\u001b[32mInt\u001b[39m] = \u001b[33mSet\u001b[39m(\u001b[32m1\u001b[39m, \u001b[32m2\u001b[39m, \u001b[32m3\u001b[39m, \u001b[32m4\u001b[39m)\n",
       "\u001b[36mset4\u001b[39m: \u001b[32mSet\u001b[39m[\u001b[32mInt\u001b[39m] = \u001b[33mHashSet\u001b[39m(\u001b[32m5\u001b[39m, \u001b[32m1\u001b[39m, \u001b[32m6\u001b[39m, \u001b[32m2\u001b[39m, \u001b[32m3\u001b[39m)"
      ]
     },
     "execution_count": 28,
     "metadata": {},
     "output_type": "execute_result"
    }
   ],
   "source": [
    "val set3 = set1 + 4\n",
    "val set4 = set1 ++ List(5,6)"
   ]
  },
  {
   "cell_type": "code",
   "execution_count": 32,
   "id": "86e9dc42-198b-44c6-b22e-5c67b5c1fd8a",
   "metadata": {},
   "outputs": [
    {
     "name": "stdout",
     "output_type": "stream",
     "text": [
      "set4 is a: HashSet\n"
     ]
    }
   ],
   "source": [
    "println(s\"set4 is a: ${set4.getClass.getSimpleName}\")"
   ]
  },
  {
   "cell_type": "markdown",
   "id": "2d503f2d-8857-4621-8970-52ce63881530",
   "metadata": {
    "editable": true,
    "slideshow": {
     "slide_type": ""
    },
    "tags": []
   },
   "source": [
    "Scala's immutable HashSet uses a Hash Array Mapped Trie (HAMT) - a tree structure optimised for hash-based lookups.\n",
    "\n",
    "```mermaid\n",
    "---\n",
    "config:\n",
    "  look: handDrawn\n",
    "  theme: default\n",
    "---\n",
    "graph TD\n",
    "    Root[\"Root Node<br/>(bitmap: 32-bit)\"]\n",
    "    \n",
    "    subgraph \"Level 1 - First 5 bits of hash\"\n",
    "    N0[\"Node at index 0\"]\n",
    "    N5[\"Node at index 5\"]\n",
    "    N17[\"Node at index 17\"]\n",
    "    end\n",
    "    \n",
    "    subgraph \"Level 2 - Next 5 bits of hash\"\n",
    "    N5_3[\"Node at index 3\"]\n",
    "    N5_12[\"Node at index 12\"]\n",
    "    end\n",
    "    \n",
    "    subgraph \"Leaf Level\"\n",
    "    L1[\"Value: 1<br/>hash: 0b00000...\"]\n",
    "    L2[\"Value: 2<br/>hash: 0b00101...\"]\n",
    "    L3[\"Value: 5<br/>hash: 0b00101...\"]\n",
    "    L4[\"Value: 17<br/>hash: 0b10001...\"]\n",
    "    end\n",
    "    \n",
    "    Root -->|bits 0-4| N0\n",
    "    Root -->|bits 0-4| N5\n",
    "    Root -->|bits 0-4| N17\n",
    "    \n",
    "    N5 --> N5_3\n",
    "    N5 --> N5_12\n",
    "    \n",
    "    N0 --> L1\n",
    "    N5_3 --> L2\n",
    "    N5_12 --> L3\n",
    "    N17 --> L4\n",
    "    \n",
    "    style Root fill:#e1f5ff\n",
    "    style N0 fill:#fff9c4\n",
    "    style N5 fill:#fff9c4\n",
    "    style N17 fill:#fff9c4\n",
    "    style N5_3 fill:#fff9c4\n",
    "    style N5_12 fill:#fff9c4\n",
    "    style L1 fill:#c8e6c9\n",
    "    style L2 fill:#c8e6c9\n",
    "    style L3 fill:#c8e6c9\n",
    "    style L4 fill:#c8e6c9\n",
    "```\n",
    "\n",
    "Key Characteristics:\n",
    "\n",
    "1. **Hash-based Indexing**\n",
    "    - Each element's hash code determines its position\n",
    "    - Hash code is split into 5-bit chunks (32 = 2⁵ branches per level)\n",
    "    - Each chunk selects which child node to follow\n",
    "2. **Bitmap Compression**\n",
    "    - Each node has a 32-bit bitmap indicating which children exist\n",
    "    - Only allocated children are stored (sparse representation)\n",
    "    - Saves memory for sparse hash distributions\n",
    "3. **Tree Properties**\n",
    "    - Branching factor: 32 (2⁵)\n",
    "    - Max depth: ~6-7 levels for millions of elements\n",
    "    - Time complexity: $$O(\\log_{32} n)$$ ≈ O(1) effectively\n",
    "    - Space: Efficient with structural sharing\n",
    "\n",
    "Performance Characteristics:\n",
    "\n",
    "| Operation | Time Complexity | Explanation |\n",
    "|-----------|----------------|-------------|\n",
    "| `contains` | $O(\\log_{32} n) \\approx O(1)$ | Hash lookup with shallow tree |\n",
    "| `+` (add) | $O(\\log_{32} n) \\approx O(1)$ | Copy path, share rest |\n",
    "| `++` (union) | $O(m \\log_{32} n)$ | Add $m$ elements |\n",
    "| `size` | $O(1)$ | Cached |\n",
    "\n",
    "Set operations:"
   ]
  },
  {
   "cell_type": "code",
   "execution_count": 33,
   "id": "6cd01a37-e0e9-4342-aa39-30b03325d56e",
   "metadata": {
    "editable": true,
    "slideshow": {
     "slide_type": ""
    },
    "tags": []
   },
   "outputs": [
    {
     "data": {
      "text/plain": [
       "\u001b[36mres32\u001b[39m: \u001b[32mSet\u001b[39m[\u001b[32mInt\u001b[39m] = \u001b[33mHashSet\u001b[39m(\u001b[32m5\u001b[39m, \u001b[32m1\u001b[39m, \u001b[32m2\u001b[39m, \u001b[32m3\u001b[39m, \u001b[32m4\u001b[39m)"
      ]
     },
     "execution_count": 33,
     "metadata": {},
     "output_type": "execute_result"
    }
   ],
   "source": [
    "set1 union set2"
   ]
  },
  {
   "cell_type": "code",
   "execution_count": 34,
   "id": "8b470787-aab9-40ab-994b-27ed0e582453",
   "metadata": {},
   "outputs": [
    {
     "data": {
      "text/plain": [
       "\u001b[36mres33\u001b[39m: \u001b[32mSet\u001b[39m[\u001b[32mInt\u001b[39m] = \u001b[33mSet\u001b[39m(\u001b[32m3\u001b[39m)"
      ]
     },
     "execution_count": 34,
     "metadata": {},
     "output_type": "execute_result"
    }
   ],
   "source": [
    "set1 intersect set2"
   ]
  },
  {
   "cell_type": "code",
   "execution_count": 35,
   "id": "50e7cdf0-bd1a-46eb-aab2-cccb991b8f52",
   "metadata": {},
   "outputs": [
    {
     "data": {
      "text/plain": [
       "\u001b[36mres34\u001b[39m: \u001b[32mSet\u001b[39m[\u001b[32mInt\u001b[39m] = \u001b[33mSet\u001b[39m(\u001b[32m1\u001b[39m, \u001b[32m2\u001b[39m)"
      ]
     },
     "execution_count": 35,
     "metadata": {},
     "output_type": "execute_result"
    }
   ],
   "source": [
    "set1 diff set2"
   ]
  },
  {
   "cell_type": "markdown",
   "id": "fe18dfb7-97f1-4d9c-8ce9-4c211a276016",
   "metadata": {},
   "source": [
    "Membership testing $O(1)$ for HashSet"
   ]
  },
  {
   "cell_type": "code",
   "execution_count": 36,
   "id": "e10e40b6-ed76-4fd3-8928-478b6146e1c7",
   "metadata": {},
   "outputs": [
    {
     "data": {
      "text/plain": [
       "\u001b[36mres35_0\u001b[39m: \u001b[32mBoolean\u001b[39m = \u001b[32mtrue\u001b[39m\n",
       "\u001b[36mres35_1\u001b[39m: \u001b[32mBoolean\u001b[39m = \u001b[32mtrue\u001b[39m"
      ]
     },
     "execution_count": 36,
     "metadata": {},
     "output_type": "execute_result"
    }
   ],
   "source": [
    "set1.contains(1)\n",
    "// alternatively\n",
    "set1(1)"
   ]
  },
  {
   "cell_type": "markdown",
   "id": "ec00fa2c-715d-46a6-8b5e-20ffe25ef0dd",
   "metadata": {
    "editable": true,
    "slideshow": {
     "slide_type": ""
    },
    "tags": []
   },
   "source": [
    "Source📝[^4]: Demonstrates basic Set operations and their mathematical set theory foundations.\n",
    "\n",
    "**Logic**:\n",
    "- `+` and `++` add elements, creating new sets (immutable)\n",
    "- `union` combines all elements from both sets (mathematical ∪ operator)\n",
    "- `intersect` keeps only common elements (mathematical ∩ operator)\n",
    "- `diff` returns elements in first set but not in second (mathematical \\ operator)\n",
    "- `contains` checks membership, implemented as hash lookup for O(1) performance\n",
    "\n",
    "Sets implement mathematical set operations:\n",
    "\n",
    "**Union**: \n",
    "$$A ∪ B = \\{x | x ∈ A \\text{ or } x ∈ B\\}$$\n",
    "\n",
    "**Intersection**: \n",
    "$$A ∩ B = \\{x | x ∈ A \\text{ and } x ∈ B\\}$$\n",
    "\n",
    "**Difference**: \n",
    "$$A \\setminus B = \\{x | x ∈ A \\text{ and } x ∉ B\\}$$\n",
    "\n",
    "The uniqueness property ensures no duplicates: adding existing elements has no effect.\n",
    "\n",
    "#### Sorted Sets\n",
    "TreeSet maintains elements in sorted order"
   ]
  },
  {
   "cell_type": "code",
   "execution_count": 37,
   "id": "d2da7d82-dae8-43c4-b70c-62f4f64e1067",
   "metadata": {
    "editable": true,
    "slideshow": {
     "slide_type": ""
    },
    "tags": []
   },
   "outputs": [
    {
     "data": {
      "text/plain": [
       "\u001b[36msortedSet\u001b[39m: \u001b[32mcollection\u001b[39m.\u001b[32mimmutable\u001b[39m.\u001b[32mTreeSet\u001b[39m[\u001b[32mInt\u001b[39m] = \u001b[33mTreeSet\u001b[39m(\u001b[32m1\u001b[39m, \u001b[32m2\u001b[39m, \u001b[32m5\u001b[39m, \u001b[32m8\u001b[39m, \u001b[32m9\u001b[39m)"
      ]
     },
     "execution_count": 37,
     "metadata": {},
     "output_type": "execute_result"
    }
   ],
   "source": [
    "val sortedSet = scala.collection.immutable.TreeSet(5, 2, 8, 1, 9)"
   ]
  },
  {
   "cell_type": "markdown",
   "id": "ea0761d6-5684-4168-bd15-b98dbfd6f66d",
   "metadata": {},
   "source": [
    "The `TreeSet` operation creates an immutable, sorted set containing the given elements. The result stores unique values in ascending order according to an implicit `Ordering`.\n",
    "\n",
    "```mermaid\n",
    "---\n",
    "config:\n",
    "  look: neo\n",
    "  theme: default\n",
    "---\n",
    "graph TD\n",
    "    A[\"TreeSet(5, 2, 8, 1, 9)\"] -->|\"Underlying Structure\"| B[\"Red-Black Tree\"]\n",
    "    B -->|\"Balanced BST\"| C[\"Operations: O(log n)\"]\n",
    "    C -->|\"Insert\"| D[\"O(log n)\"]\n",
    "    C -->|\"Delete\"| E[\"O(log n)\"]\n",
    "    C -->|\"Search\"| F[\"O(log n)\"]\n",
    "    \n",
    "    G[\"Tree Structure:<br/>5 is root\"] -->|\"left subtree\"| H[\"2\"]\n",
    "    G -->|\"right subtree\"| I[\"8\"]\n",
    "    H -->|\"left\"| J[\"1\"]\n",
    "    I -->|\"right\"| K[\"9\"]\n",
    "    \n",
    "    style B fill:#e1f5ff\n",
    "    style C fill:#fff3e0\n",
    "    style D fill:#f3e5f5\n",
    "    style E fill:#f3e5f5\n",
    "    style F fill:#f3e5f5\n",
    "```\n",
    "\n",
    "Red-Black Tree Properties\n",
    "\n",
    "A Red-Black Tree is a self-balancing binary search tree with these invariants:\n",
    "\n",
    "1. **Every node is colored red or black** - Ensures the tree remains relatively balanced\n",
    "2. **The root is always black** - Simplifies the tree structure\n",
    "3. **Red nodes have only black children** - Prevents consecutive red nodes\n",
    "4. **Every path from root to null has the same number of black nodes** - Guarantees O(log n) height\n",
    "\n",
    "These properties ensure that the tree height is at most 2 × log(n + 1), guaranteeing logarithmic complexity for all operations.\n",
    "\n",
    "Algorithmic Complexity Analysis\n",
    "\n",
    "| Operation | Time Complexity | Space Complexity | Description |\n",
    "|-----------|-----------------|------------------|-------------|\n",
    "| **Construction** | O(n log n) | O(n) | Creating TreeSet from n elements requires n insertions, each O(log n) |\n",
    "| **Insertion** | O(log n) | O(1) amortized | Adding an element requires tree rotations and rebalancing |\n",
    "| **Deletion** | O(log n) | O(1) amortized | Removing an element requires tree rotations and rebalancing |\n",
    "| **Search/Contains** | O(log n) | O(1) | Binary search in balanced tree structure |\n",
    "| **Iteration** | O(n) | O(1) | In-order traversal visits each node once |\n",
    "| **Minimum/Maximum** | O(log n) | O(1) | Must traverse to leftmost/rightmost leaf |\n",
    "\n",
    "First and last operations"
   ]
  },
  {
   "cell_type": "code",
   "execution_count": 38,
   "id": "1fe38855-e9f7-40d7-8eaf-3366825a6d20",
   "metadata": {},
   "outputs": [
    {
     "data": {
      "text/plain": [
       "\u001b[36mres37_0\u001b[39m: \u001b[32mInt\u001b[39m = \u001b[32m1\u001b[39m\n",
       "\u001b[36mres37_1\u001b[39m: \u001b[32mInt\u001b[39m = \u001b[32m9\u001b[39m"
      ]
     },
     "execution_count": 38,
     "metadata": {},
     "output_type": "execute_result"
    }
   ],
   "source": [
    "sortedSet.head\n",
    "sortedSet.last"
   ]
  },
  {
   "cell_type": "markdown",
   "id": "355ac0d0-f258-4177-b317-4a6eb430a1c9",
   "metadata": {},
   "source": [
    "Range queries"
   ]
  },
  {
   "cell_type": "code",
   "execution_count": 39,
   "id": "922c7bc0-e4f8-44ea-afad-973cc5da2629",
   "metadata": {},
   "outputs": [
    {
     "data": {
      "text/plain": [
       "\u001b[36mres38\u001b[39m: \u001b[32mcollection\u001b[39m.\u001b[32mimmutable\u001b[39m.\u001b[32mTreeSet\u001b[39m[\u001b[32mInt\u001b[39m] = \u001b[33mTreeSet\u001b[39m(\u001b[32m2\u001b[39m, \u001b[32m5\u001b[39m)"
      ]
     },
     "execution_count": 39,
     "metadata": {},
     "output_type": "execute_result"
    }
   ],
   "source": [
    "sortedSet.range(2, 8)"
   ]
  },
  {
   "cell_type": "markdown",
   "id": "8a823005-ee52-40c3-a6e1-ebde89b3350e",
   "metadata": {},
   "source": [
    "Example📝[^4]\n",
    "\n",
    "Why Red-Black Tree for TreeSet?\n",
    "\n",
    "When to Use TreeSet\n",
    "\n",
    "| Use TreeSet When | Don't Use TreeSet When |\n",
    "|-----------------|----------------------|\n",
    "| You need sorted iteration | Elements don't need ordering |\n",
    "| You need range queries (headSet, tailSet) | You frequently add/remove elements |\n",
    "| Thread safety is important | Mutability would improve performance |\n",
    "| You want guaranteed O(log n) operations | You need O(1) average case (use HashSet) |\n",
    "| Working with small datasets | Performance overhead is critical |\n",
    "\n",
    "```mermaid\n",
    "---\n",
    "config:\n",
    "  look: neo\n",
    "  theme: default\n",
    "---\n",
    "graph LR\n",
    "    A[\"Scala Sets\"] -->|\"Immutable\"| B[\"HashSet\"]\n",
    "    A -->|\"Immutable\"| C[\"TreeSet\"]\n",
    "    A -->|\"Immutable\"| D[\"BitSet\"]\n",
    "    A -->|\"Mutable\"| E[\"scala.collection.mutable<br/>HashSet\"]\n",
    "    A -->|\"Mutable\"| F[\"scala.collection.mutable<br/>TreeSet\"]\n",
    "    \n",
    "    B -->|\"Complexity\"| B1[\"avg O(1)<br/>worst O(n)\"]\n",
    "    C -->|\"Complexity\"| C1[\"O(log n)<br/>guaranteed\"]\n",
    "    \n",
    "    B -->|\"Order\"| B2[\"Unordered\"]\n",
    "    C -->|\"Order\"| C2[\"Sorted\"]\n",
    "    \n",
    "    style A fill:#e0f2f1\n",
    "    style C fill:#fff9c4\n",
    "    style B fill:#f3e5f5\n",
    "```\n",
    "\n",
    "### 3. Maps\n",
    "\n",
    "Maps store **key-value pairs** where all keys must be unique[^1].\n",
    "\n",
    "```mermaid\n",
    "---\n",
    "config:\n",
    "  look: neo\n",
    "  theme: default\n",
    "---\n",
    "classDiagram\n",
    "    Map <|-- HashMap\n",
    "    Map <|-- SortedMap\n",
    "    Map <|-- VectorMap\n",
    "    SortedMap <|-- TreeMap\n",
    "    \n",
    "    class Map {\n",
    "        +get(key): Option[Value]\n",
    "        +apply(key): Value\n",
    "        +getOrElse(key, default): Value\n",
    "        +(key -> value): Map\n",
    "        -(key): Map\n",
    "    }\n",
    "    \n",
    "    class HashMap {\n",
    "        Hash trie storage\n",
    "        O(1) lookup\n",
    "        No ordering\n",
    "    }\n",
    "    \n",
    "    class TreeMap {\n",
    "        Red-black tree\n",
    "        Sorted by keys\n",
    "        O(log n) operations\n",
    "    }\n",
    "    \n",
    "    class VectorMap {\n",
    "        Preserves insertion order\n",
    "        Vector-based\n",
    "    }\n",
    "```\n",
    "\n",
    "#### Creating and Using Maps"
   ]
  },
  {
   "cell_type": "code",
   "execution_count": 45,
   "id": "fca4c62b-f1c0-4573-9691-a6bc54b2aee3",
   "metadata": {},
   "outputs": [
    {
     "name": "stdout",
     "output_type": "stream",
     "text": [
      "map1 is a: Map3\n"
     ]
    },
    {
     "data": {
      "text/plain": [
       "\u001b[36mmap1\u001b[39m: \u001b[32mMap\u001b[39m[\u001b[32mInt\u001b[39m, \u001b[32mString\u001b[39m] = \u001b[33mMap\u001b[39m(\u001b[32m1\u001b[39m -> \u001b[32m\"a\"\u001b[39m, \u001b[32m2\u001b[39m -> \u001b[32m\"b\"\u001b[39m, \u001b[32m3\u001b[39m -> \u001b[32m\"c\"\u001b[39m)"
      ]
     },
     "execution_count": 45,
     "metadata": {},
     "output_type": "execute_result"
    }
   ],
   "source": [
    "val map1 = Map(1 -> \"a\", 2 -> \"b\", 3 -> \"c\")\n",
    "println(s\"map1 is a: ${map1.getClass.getSimpleName}\")"
   ]
  },
  {
   "cell_type": "markdown",
   "id": "f3ca6399-9150-4995-90a2-296d348825b6",
   "metadata": {},
   "source": [
    "Alternative syntax"
   ]
  },
  {
   "cell_type": "code",
   "execution_count": 44,
   "id": "c18d60ef-7a0e-4fb2-9fcd-13696a59fe8e",
   "metadata": {},
   "outputs": [
    {
     "name": "stdout",
     "output_type": "stream",
     "text": [
      "map2 is a: Map3\n"
     ]
    },
    {
     "data": {
      "text/plain": [
       "\u001b[36mmap2\u001b[39m: \u001b[32mMap\u001b[39m[\u001b[32mInt\u001b[39m, \u001b[32mString\u001b[39m] = \u001b[33mMap\u001b[39m(\u001b[32m1\u001b[39m -> \u001b[32m\"a\"\u001b[39m, \u001b[32m2\u001b[39m -> \u001b[32m\"b\"\u001b[39m, \u001b[32m3\u001b[39m -> \u001b[32m\"c\"\u001b[39m)"
      ]
     },
     "execution_count": 44,
     "metadata": {},
     "output_type": "execute_result"
    }
   ],
   "source": [
    "val map2 = Map((1,\"a\"), (2, \"b\"), (3, \"c\"))\n",
    "println(s\"map2 is a: ${map2.getClass.getSimpleName}\")"
   ]
  },
  {
   "cell_type": "markdown",
   "id": "1f453150-a2f3-4012-849e-06dc26d0a792",
   "metadata": {},
   "source": [
    "Accessing values"
   ]
  },
  {
   "cell_type": "code",
   "execution_count": 47,
   "id": "1bdd144d-ec4a-4a18-8914-bbc133927237",
   "metadata": {},
   "outputs": [
    {
     "data": {
      "text/plain": [
       "\u001b[36mres46\u001b[39m: \u001b[32mString\u001b[39m = \u001b[32m\"a\"\u001b[39m"
      ]
     },
     "execution_count": 47,
     "metadata": {},
     "output_type": "execute_result"
    }
   ],
   "source": [
    "map1(1)"
   ]
  },
  {
   "cell_type": "markdown",
   "id": "5dfa20f4-23fb-4fc1-94cf-fa704d1f7d1f",
   "metadata": {},
   "source": [
    "if key not found"
   ]
  },
  {
   "cell_type": "code",
   "execution_count": 48,
   "id": "adb2c83a-309e-49d2-825d-eb7a40a5cd11",
   "metadata": {},
   "outputs": [
    {
     "ename": "",
     "evalue": "",
     "output_type": "error",
     "traceback": [
      "\u001b[31mjava.util.NoSuchElementException: key not found: 4\u001b[39m\n  scala.collection.immutable.Map$Map3.apply(\u001b[32mMap.scala\u001b[39m:\u001b[32m397\u001b[39m)\n  ammonite.$sess.cmd47$Helper.<init>(\u001b[32mcmd47.sc\u001b[39m:\u001b[32m1\u001b[39m)\n  ammonite.$sess.cmd47$.<clinit>(\u001b[32mcmd47.sc\u001b[39m:\u001b[32m7\u001b[39m)"
     ]
    }
   ],
   "source": [
    "map1(4)"
   ]
  },
  {
   "cell_type": "markdown",
   "id": "c72dc184-a911-4e82-8505-64bafc23fb37",
   "metadata": {
    "editable": true,
    "slideshow": {
     "slide_type": ""
    },
    "tags": []
   },
   "source": [
    "**Option Pattern**: The `get` method returns `Option[V]` instead of throwing exceptions, following functional programming's principle of making errors explicit in types:\n",
    "- `Some(value)` when key exists\n",
    "- `None` when key doesn't exist"
   ]
  },
  {
   "cell_type": "code",
   "execution_count": 50,
   "id": "c29fb558-8693-4a4d-a9c7-5eafbf90a962",
   "metadata": {},
   "outputs": [
    {
     "data": {
      "text/plain": [
       "\u001b[36mres49_0\u001b[39m: \u001b[32mOption\u001b[39m[\u001b[32mString\u001b[39m] = \u001b[33mSome\u001b[39m(value = \u001b[32m\"a\"\u001b[39m)\n",
       "\u001b[36mres49_1\u001b[39m: \u001b[32mOption\u001b[39m[\u001b[32mString\u001b[39m] = \u001b[32mNone\u001b[39m\n",
       "\u001b[36mres49_2\u001b[39m: \u001b[32mAny\u001b[39m = \u001b[32m'?'\u001b[39m"
      ]
     },
     "execution_count": 50,
     "metadata": {},
     "output_type": "execute_result"
    }
   ],
   "source": [
    "map1.get(1)\n",
    "map1.get(4)\n",
    "map1.getOrElse(4, '?')"
   ]
  },
  {
   "cell_type": "markdown",
   "id": "0e6fb070-33eb-4355-901f-1a06c537f6fe",
   "metadata": {},
   "source": [
    "Adding/updating entries (immutable)"
   ]
  },
  {
   "cell_type": "code",
   "execution_count": 52,
   "id": "6e703c8c-162a-4e3b-842b-c805a20b4582",
   "metadata": {},
   "outputs": [
    {
     "data": {
      "text/plain": [
       "\u001b[36mres51\u001b[39m: \u001b[32mMap\u001b[39m[\u001b[32mInt\u001b[39m, \u001b[32mString\u001b[39m] = \u001b[33mMap\u001b[39m(\u001b[32m1\u001b[39m -> \u001b[32m\"a\"\u001b[39m, \u001b[32m2\u001b[39m -> \u001b[32m\"b\"\u001b[39m, \u001b[32m3\u001b[39m -> \u001b[32m\"c\"\u001b[39m, \u001b[32m4\u001b[39m -> \u001b[32m\"d\"\u001b[39m)"
      ]
     },
     "execution_count": 52,
     "metadata": {},
     "output_type": "execute_result"
    }
   ],
   "source": [
    "map1 + (4 -> \"d\")"
   ]
  },
  {
   "cell_type": "markdown",
   "id": "ea080603-a9e9-4d72-bd3c-eceaf8ebb0c6",
   "metadata": {},
   "source": [
    "Removing entries by the key:"
   ]
  },
  {
   "cell_type": "code",
   "execution_count": 53,
   "id": "2654f477-bbd2-4b91-824f-c366aab42d5f",
   "metadata": {},
   "outputs": [
    {
     "data": {
      "text/plain": [
       "\u001b[36mres52\u001b[39m: \u001b[32mMap\u001b[39m[\u001b[32mInt\u001b[39m, \u001b[32mString\u001b[39m] = \u001b[33mMap\u001b[39m(\u001b[32m1\u001b[39m -> \u001b[32m\"a\"\u001b[39m, \u001b[32m3\u001b[39m -> \u001b[32m\"c\"\u001b[39m)"
      ]
     },
     "execution_count": 53,
     "metadata": {},
     "output_type": "execute_result"
    }
   ],
   "source": [
    "map1 - 2 // 2 is a key"
   ]
  },
  {
   "cell_type": "markdown",
   "id": "22d024bb-c0fa-4a39-8dc9-571c74ee056b",
   "metadata": {},
   "source": [
    "Source📝[^5] Shows different ways to create, access, and modify immutable Maps.\n",
    "- `->` operator creates tuple pairs (syntactic sugar for `(1, \"a\")`)\n",
    "- `apply(key)` throws exception if key doesn't exist (unsafe but concise)\n",
    "- `get(key)` returns `Option[Value]` - safe handling of missing keys\n",
    "- `getOrElse(key, default)` provides fallback value for missing keys\n",
    "- `+` and `++` create new maps with additional entries\n",
    "- `-` creates new map with key removed\n",
    "\n",
    "This forces callers to handle the missing key case, preventing runtime errors.\n",
    "\n",
    "#### Traversing Maps\n",
    "**For comprehension** with tuple destructuring: `(k, v) <- ratings` automatically unpacks each key-value pair"
   ]
  },
  {
   "cell_type": "code",
   "execution_count": 57,
   "id": "a4272118-8ec3-429f-baa4-223626e590bf",
   "metadata": {},
   "outputs": [
    {
     "name": "stdout",
     "output_type": "stream",
     "text": [
      "key: 1 and value is: a\n",
      "key: 2 and value is: b\n",
      "key: 3 and value is: c\n"
     ]
    },
    {
     "data": {
      "text/plain": [
       "\u001b[36mmap1\u001b[39m: \u001b[32mMap\u001b[39m[\u001b[32mInt\u001b[39m, \u001b[32mString\u001b[39m] = \u001b[33mMap\u001b[39m(\u001b[32m1\u001b[39m -> \u001b[32m\"a\"\u001b[39m, \u001b[32m2\u001b[39m -> \u001b[32m\"b\"\u001b[39m, \u001b[32m3\u001b[39m -> \u001b[32m\"c\"\u001b[39m)"
      ]
     },
     "execution_count": 57,
     "metadata": {},
     "output_type": "execute_result"
    }
   ],
   "source": [
    "val map1 = Map(1 -> \"a\", 2 -> \"b\", 3 -> \"c\")\n",
    "\n",
    "for ((k, v) <- map1) { println(s\"key: $k and value is: $v\") }"
   ]
  },
  {
   "cell_type": "markdown",
   "id": "b0aa575d-db5b-4d4e-8da6-b412341707d1",
   "metadata": {},
   "source": [
    "**Pattern matching** in foreach: `case (movie, rating) =>` explicitly shows tuple destructuring"
   ]
  },
  {
   "cell_type": "code",
   "execution_count": 60,
   "id": "07199a9d-03ec-4145-881d-5290d034364b",
   "metadata": {},
   "outputs": [
    {
     "name": "stdout",
     "output_type": "stream",
     "text": [
      "key: 1 and value is: a\n",
      "key: 2 and value is: b\n",
      "key: 3 and value is: c\n"
     ]
    }
   ],
   "source": [
    "map1.foreach{\n",
    "    case (k, v) => println(s\"key: $k and value is: $v\")\n",
    "}"
   ]
  },
  {
   "cell_type": "markdown",
   "id": "6daa3d85-596b-4053-b588-870efa79211d",
   "metadata": {},
   "source": [
    "**Tuple accessors**: `x._1` (key) and `x._2` (value) directly access tuple components"
   ]
  },
  {
   "cell_type": "code",
   "execution_count": 61,
   "id": "70084f40-61df-43df-90a6-c8431047335a",
   "metadata": {},
   "outputs": [
    {
     "name": "stdout",
     "output_type": "stream",
     "text": [
      "key: 1 and value is a\n",
      "key: 2 and value is b\n",
      "key: 3 and value is c\n"
     ]
    }
   ],
   "source": [
    "map1.foreach(x => println(s\"key: ${x._1} and value is ${x._2}\"))"
   ]
  },
  {
   "cell_type": "markdown",
   "id": "c99f6c77-1bab-4514-8de1-608f65e6759a",
   "metadata": {},
   "source": [
    "**Separate iteration**: `keys` and `values` methods provide iterators over each component independently"
   ]
  },
  {
   "cell_type": "code",
   "execution_count": 66,
   "id": "7ecdbeba-302f-414d-a197-c3b93a91baed",
   "metadata": {},
   "outputs": [
    {
     "name": "stdout",
     "output_type": "stream",
     "text": [
      "123abc"
     ]
    }
   ],
   "source": [
    "map1.keys.foreach(k => print(k))\n",
    "map1.values.foreach(v => print(v))"
   ]
  },
  {
   "cell_type": "markdown",
   "id": "0fe41732-e0c4-4161-aa76-f0abdc314981",
   "metadata": {
    "editable": true,
    "slideshow": {
     "slide_type": ""
    },
    "tags": []
   },
   "source": [
    "Source📝[^5]: Demonstrates multiple idiomatic ways to traverse Map entries.\n",
    "\n",
    "> Maps are Iterables of key-value pairs (also named mappings or associations)\n",
    "{:.info-box}\n",
    "\n",
    "**Map as Collection of Tuples**: Maps are conceptually `Iterable[(K, V)]` - a collection of 2-tuples. Each iteration yields a pair `(key, value)` which can be destructured using pattern matching or accessed via tuple syntax.\n",
    "\n",
    "**Performance Note**: Using `keys` or `values` creates lightweight iterators without copying data.\n",
    "\n",
    "**Transformer methods** take at least one collection and produce a new collection[^1]. In Scala 2, these include:\n",
    "\n",
    "| Method | Description | Example |\n",
    "|--------|-------------|---------|\n",
    "| `map` | Apply function to each element | `List(1,2,3).map(_ * 2)` → `List(2,4,6)` |\n",
    "| `filter` | Keep elements matching predicate | `List(1,2,3,4).filter(_ > 2)` → `List(3,4)` |\n",
    "| `flatMap` | Map and flatten nested results | `List(1,2).flatMap(n => List(n, n*10))` → `List(1,10,2,20)` |\n",
    "| `collect` | Partial function mapping + filtering | `List(1,2,3).collect { case x if x > 1 => x * 2 }` → `List(4,6)` |\n",
    "\n",
    "#### The map Method\n",
    "The `map(_ * 2)` uses underscore syntax for anonymous function: `x => x * 2`"
   ]
  },
  {
   "cell_type": "code",
   "execution_count": 67,
   "id": "ba8c1eb5-56ef-4b42-bc78-561560cea2a1",
   "metadata": {},
   "outputs": [
    {
     "data": {
      "text/plain": [
       "\u001b[36mnumbers\u001b[39m: \u001b[32mList\u001b[39m[\u001b[32mInt\u001b[39m] = \u001b[33mList\u001b[39m(\u001b[32m1\u001b[39m, \u001b[32m2\u001b[39m, \u001b[32m3\u001b[39m, \u001b[32m4\u001b[39m, \u001b[32m5\u001b[39m)\n",
       "\u001b[36mres66_1\u001b[39m: \u001b[32mList\u001b[39m[\u001b[32mInt\u001b[39m] = \u001b[33mList\u001b[39m(\u001b[32m2\u001b[39m, \u001b[32m4\u001b[39m, \u001b[32m6\u001b[39m, \u001b[32m8\u001b[39m, \u001b[32m10\u001b[39m)"
      ]
     },
     "execution_count": 67,
     "metadata": {},
     "output_type": "execute_result"
    }
   ],
   "source": [
    "val numbers = List(1,2,3,4,5)\n",
    "numbers.map(_ * 2)"
   ]
  },
  {
   "cell_type": "markdown",
   "id": "bb374661-a335-4ea5-8d9e-5d2d701da53e",
   "metadata": {},
   "source": [
    "map with function"
   ]
  },
  {
   "cell_type": "code",
   "execution_count": 68,
   "id": "3d23e032-7605-4f02-bbc7-c0e61bff215f",
   "metadata": {},
   "outputs": [
    {
     "data": {
      "text/plain": [
       "\u001b[36mres67\u001b[39m: \u001b[32mList\u001b[39m[\u001b[32mInt\u001b[39m] = \u001b[33mList\u001b[39m(\u001b[32m1\u001b[39m, \u001b[32m2\u001b[39m, \u001b[32m3\u001b[39m)"
      ]
     },
     "execution_count": 68,
     "metadata": {},
     "output_type": "execute_result"
    }
   ],
   "source": [
    "List(\"a\", \"bb\", \"ccc\").map(_.length)"
   ]
  },
  {
   "cell_type": "markdown",
   "id": "978ae75c-57c4-47ff-be1d-792f8d031069",
   "metadata": {},
   "source": [
    "map preserves collection type"
   ]
  },
  {
   "cell_type": "code",
   "execution_count": 69,
   "id": "ed86066b-5c02-423a-80e1-6eca78c7d200",
   "metadata": {},
   "outputs": [
    {
     "data": {
      "text/plain": [
       "\u001b[36mvector\u001b[39m: \u001b[32mVector\u001b[39m[\u001b[32mInt\u001b[39m] = \u001b[33mVector\u001b[39m(\u001b[32m1\u001b[39m, \u001b[32m2\u001b[39m, \u001b[32m3\u001b[39m)\n",
       "\u001b[36mvectorResult\u001b[39m: \u001b[32mVector\u001b[39m[\u001b[32mInt\u001b[39m] = \u001b[33mVector\u001b[39m(\u001b[32m2\u001b[39m, \u001b[32m3\u001b[39m, \u001b[32m4\u001b[39m)"
      ]
     },
     "execution_count": 69,
     "metadata": {},
     "output_type": "execute_result"
    }
   ],
   "source": [
    "val vector = Vector(1, 2, 3)\n",
    "val vectorResult = vector.map(_ + 1)"
   ]
  },
  {
   "cell_type": "markdown",
   "id": "8889dd08-ff1c-444a-af36-18d3742f1cdd",
   "metadata": {},
   "source": [
    "Example📝[^2]"
   ]
  },
  {
   "cell_type": "markdown",
   "id": "89fde23a-98db-493d-be9e-d2ebfdf749fa",
   "metadata": {
    "editable": true,
    "slideshow": {
     "slide_type": ""
    },
    "tags": []
   },
   "source": [
    "**Functor Laws**: The `map` operation makes collections into **functors**[^12]. To be a valid functor, `map` must satisfy two laws:\n",
    "\n",
    "1. **Identity**: `collection.map(x => x) == collection`\n",
    "   - Mapping the identity function returns the same collection\n",
    "\n",
    "2. **Composition**: `collection.map(f).map(g) == collection.map(x => g(f(x)))`\n",
    "   - Mapping twice equals mapping the composition once\n",
    "   - This means: `map(f).map(g)` = `map(g ∘ f)` where `∘` is function composition\n",
    "\n",
    "**Mathematics**: If we have functions $f: A → B$ and $g: B → C$, then:\n",
    "$$\\text{map}(g) ∘ \\text{map}(f) = \\text{map}(g ∘ f)$$\n",
    "\n",
    "This property allows the compiler to optimize chained `map` operations.\n",
    "\n",
    "#### The filter Method\n",
    "The `filter(_ % 2 == 0)` keeps only elements where the predicate returns `true`: $$\\{x \\in \\text{numbers} | x \\bmod 2 = 0\\}$$"
   ]
  },
  {
   "cell_type": "code",
   "execution_count": 73,
   "id": "5da5d914-3a2f-4d32-966f-49c422044229",
   "metadata": {
    "editable": true,
    "slideshow": {
     "slide_type": ""
    },
    "tags": []
   },
   "outputs": [
    {
     "data": {
      "text/plain": [
       "\u001b[36mnumbers\u001b[39m: \u001b[32mList\u001b[39m[\u001b[32mInt\u001b[39m] = \u001b[33mList\u001b[39m(\u001b[32m1\u001b[39m, \u001b[32m2\u001b[39m, \u001b[32m3\u001b[39m, \u001b[32m4\u001b[39m, \u001b[32m5\u001b[39m, \u001b[32m6\u001b[39m, \u001b[32m7\u001b[39m, \u001b[32m8\u001b[39m, \u001b[32m9\u001b[39m, \u001b[32m10\u001b[39m)\n",
       "\u001b[36mres72_1\u001b[39m: \u001b[32mList\u001b[39m[\u001b[32mInt\u001b[39m] = \u001b[33mList\u001b[39m(\u001b[32m2\u001b[39m, \u001b[32m4\u001b[39m, \u001b[32m6\u001b[39m, \u001b[32m8\u001b[39m, \u001b[32m10\u001b[39m)"
      ]
     },
     "execution_count": 73,
     "metadata": {},
     "output_type": "execute_result"
    }
   ],
   "source": [
    "val numbers = (1 to 10).toList\n",
    "// Filter even numbers\n",
    "numbers.filter( _ % 2 == 0 )"
   ]
  },
  {
   "cell_type": "markdown",
   "id": "02abb838-b1f0-4458-a637-9afe61e1826c",
   "metadata": {},
   "source": [
    "Multiple `filter` calls can be chained: `filter(p1).filter(p2)` ≡ `filter(x => p1(x) && p2(x))`"
   ]
  },
  {
   "cell_type": "code",
   "execution_count": 74,
   "id": "b6a31b36-c440-4566-9dab-3436c3fa781e",
   "metadata": {},
   "outputs": [
    {
     "data": {
      "text/plain": [
       "\u001b[36mres73\u001b[39m: \u001b[32mList\u001b[39m[\u001b[32mInt\u001b[39m] = \u001b[33mList\u001b[39m(\u001b[32m3\u001b[39m, \u001b[32m4\u001b[39m, \u001b[32m5\u001b[39m, \u001b[32m6\u001b[39m, \u001b[32m7\u001b[39m)"
      ]
     },
     "execution_count": 74,
     "metadata": {},
     "output_type": "execute_result"
    }
   ],
   "source": [
    "numbers.filter(_ > 2).filter(_ < 8)"
   ]
  },
  {
   "cell_type": "markdown",
   "id": "075b150a-b690-4f21-bc22-cff2a8e12d4d",
   "metadata": {
    "editable": true,
    "slideshow": {
     "slide_type": ""
    },
    "tags": []
   },
   "source": [
    "Example📝[^2]: Demonstrates filtering collections based on boolean predicates (test conditions).\n",
    "\n",
    "**Predicate Function**: A **predicate** is a function that returns a Boolean: `A => Boolean`. It answers \"yes\" or \"no\" questions about each element.\n",
    "\n",
    "Filter implements set comprehension notation:\n",
    "$$\\{x \\in S | P(x)\\}$$\n",
    "\n",
    "Read as: \"the set of all x in S such that P(x) is true\"\n",
    "\n",
    "\n",
    "**Performance**: Filter must traverse all elements once, giving O(n) time complexity. The resulting collection may be smaller but never larger than the input.\n",
    "\n",
    "#### The flatMap Method\n",
    "\n",
    "Imagine you have a **wrapped value** inside a container (like `Option[Int]` or `List[String]`). You want to:\n",
    "\n",
    "1. **Extract** the value from its container\n",
    "2. **Transform** it using a function that *also* produces a wrapped result\n",
    "3. **Avoid nesting** containers (so you don't end up with `Option[Option[Int]]`)\n",
    "\n",
    "This is exactly what `flatMap` does. The word \"flat\" is key—it flattens the nesting that would naturally occur.\n",
    "\n",
    "```\n",
    "flatMap: M[A] → (A → M[B]) → M[B]\n",
    "```\n",
    "\n",
    "| Symbol | Meaning |\n",
    "|--------|---------|\n",
    "| M[A] | A value of type A wrapped in monad M (e.g., Option[Int], List[String]) |\n",
    "| A | The unwrapped value type |\n",
    "| A → M[B] | A function that takes a plain A and returns a wrapped B |\n",
    "| M[B] | The final result: a B wrapped in monad M (same monad, different type) |\n",
    "\n",
    "In Scala syntax:\n",
    "\n",
    "```scala\n",
    "def flatMap[A, B](ma: M[A])(f: A => M[B]): M[B]\n",
    "```\n",
    "\n",
    "For `flatMap` to preserve monadic semantics, it must satisfy  3 **Monad Laws**:\n",
    "\n",
    "**Left Identity**: Creating a context from a value and then flatMap-ing is the same as just applying the function:\n",
    "\n",
    "```\n",
    "unit(a).flatMap(f) = f(a)\n",
    "```\n",
    "\n",
    "**Right Identity**: flatMap-ing with the constructor does nothing:\n",
    "\n",
    "```\n",
    "m.flatMap(unit) = m\n",
    "```\n",
    "\n",
    "**Associativity**: Chaining two sequential flatMap calls is the same as nesting one inside the other:\n",
    "\n",
    "```\n",
    "m.flatMap(f).flatMap(g) = m.flatMap(x => f(x).flatMap(g))\n",
    "```\n",
    "\n",
    "For example, Monad Type Class Definition:\n",
    "- `pure[A](value: A): F[A]` — wraps a plain value in monad F\n",
    "- `flatMap[A, B](ma: F[A])(f: A => F[B]): F[B]` — sequences operations\n",
    "- `map` is derived from `flatMap` + `pure` — all monads automatically get `map`"
   ]
  },
  {
   "cell_type": "code",
   "execution_count": 3,
   "id": "7f285c85-e941-4d97-affa-15c702b81d8c",
   "metadata": {},
   "outputs": [
    {
     "data": {
      "text/plain": [
       "\u001b[32mimport \u001b[39m\u001b[36mscala.language.higherKinds\n",
       "\n",
       "\u001b[39m\n",
       "defined \u001b[32mtrait\u001b[39m \u001b[36mMonad\u001b[39m\n",
       "\u001b[36moptionMonad\u001b[39m: \u001b[32mMonad\u001b[39m[\u001b[32mOption\u001b[39m] = ammonite.$sess.cmd2$Helper$$anon$1@7c758c02\n",
       "\u001b[36mlistMonad\u001b[39m: \u001b[32mMonad\u001b[39m[\u001b[32mList\u001b[39m] = ammonite.$sess.cmd2$Helper$$anon$2@650110e5\n",
       "defined \u001b[32mfunction\u001b[39m \u001b[36mcombine\u001b[39m\n",
       "\u001b[36mres2_5\u001b[39m: \u001b[32mOption\u001b[39m[\u001b[32mInt\u001b[39m] = \u001b[33mSome\u001b[39m(value = \u001b[32m7\u001b[39m)\n",
       "\u001b[36mres2_6\u001b[39m: \u001b[32mList\u001b[39m[\u001b[32mInt\u001b[39m] = \u001b[33mList\u001b[39m(\u001b[32m4\u001b[39m, \u001b[32m5\u001b[39m, \u001b[32m5\u001b[39m, \u001b[32m6\u001b[39m)"
      ]
     },
     "execution_count": 3,
     "metadata": {},
     "output_type": "execute_result"
    }
   ],
   "source": [
    "import scala.language.higherKinds\n",
    "\n",
    "trait Monad[F[_]] {\n",
    "  def pure[A](value: A): F[A]\n",
    "  def flatMap[A, B](ma: F[A])(f: A => F[B]): F[B]\n",
    "  def map[A, B](ma: F[A])(f: A => B): F[B] =\n",
    "    flatMap(ma)(a => pure(f(a)))\n",
    "}\n",
    "\n",
    "implicit val optionMonad: Monad[Option] = new Monad[Option] {\n",
    "  def pure[A](value: A): Option[A] = Some(value)\n",
    "  def flatMap[A, B](ma: Option[A])(f: A => Option[B]): Option[B] = ma.flatMap(f)\n",
    "}\n",
    "\n",
    "implicit val listMonad: Monad[List] = new Monad[List] {\n",
    "  def pure[A](value: A): List[A] = List(value)\n",
    "  def flatMap[A, B](ma: List[A])(f: A => List[B]): List[B] = ma.flatMap(f)\n",
    "}\n",
    "\n",
    "def combine[M[_]: Monad](a: M[Int], b: M[Int])(implicit M: Monad[M]): M[Int] =\n",
    "  M.flatMap(a) { x =>\n",
    "    M.flatMap(b) { y =>\n",
    "      M.pure(x + y)\n",
    "    }\n",
    "  }\n",
    "\n",
    "// Explicitly specify type parameter\n",
    "combine[Option](Some(3), Some(4))       // Some(7) ✅\n",
    "combine[List](List(1, 2), List(3, 4))   // List(4, 5, 5, 6) ✅"
   ]
  },
  {
   "cell_type": "markdown",
   "id": "42fe6e1f-ced8-41ff-9af0-1d48f5570753",
   "metadata": {},
   "source": [
    "Source: *Advanced Scala*, Chapter 4: \"Monads\" → Section 4.1: \"Monad Definition and Laws\"\n",
    "\n",
    "For lists, flatMap implements **list comprehensions**:\n",
    "$$[f(x, y) | x ← xs, y ← ys] = \\text{xs.flatMap}(x ⇒ \\text{ys.map}(y ⇒ f(x, y)))$$"
   ]
  },
  {
   "cell_type": "code",
   "execution_count": 75,
   "id": "0cd504fe-7327-4985-b851-42ec45f247ab",
   "metadata": {
    "editable": true,
    "slideshow": {
     "slide_type": ""
    },
    "tags": []
   },
   "outputs": [
    {
     "data": {
      "text/plain": [
       "\u001b[36mnumbers\u001b[39m: \u001b[32mList\u001b[39m[\u001b[32mInt\u001b[39m] = \u001b[33mList\u001b[39m(\u001b[32m1\u001b[39m, \u001b[32m2\u001b[39m, \u001b[32m3\u001b[39m)"
      ]
     },
     "execution_count": 75,
     "metadata": {},
     "output_type": "execute_result"
    }
   ],
   "source": [
    "val numbers = (1 to 3).toList"
   ]
  },
  {
   "cell_type": "code",
   "execution_count": 77,
   "id": "2429e48c-5732-4aee-8e4b-bb34270d9208",
   "metadata": {},
   "outputs": [
    {
     "data": {
      "text/plain": [
       "\u001b[36mres76\u001b[39m: \u001b[32mList\u001b[39m[\u001b[32mInt\u001b[39m] = \u001b[33mList\u001b[39m(\u001b[32m2\u001b[39m, \u001b[32m4\u001b[39m, \u001b[32m6\u001b[39m)"
      ]
     },
     "execution_count": 77,
     "metadata": {},
     "output_type": "execute_result"
    }
   ],
   "source": [
    "numbers.map(n => 2 * n)"
   ]
  },
  {
   "cell_type": "markdown",
   "id": "4252fe4b-6d0a-4b77-a54b-9ecc7e84918b",
   "metadata": {},
   "source": [
    "The `map` with a function returning collections creates nested structure: `List[List[Int]]`"
   ]
  },
  {
   "cell_type": "code",
   "execution_count": 78,
   "id": "c15e218b-87f9-4c40-85b4-8d6cb70c22bd",
   "metadata": {},
   "outputs": [
    {
     "data": {
      "text/plain": [
       "\u001b[36mnested\u001b[39m: \u001b[32mList\u001b[39m[\u001b[32mList\u001b[39m[\u001b[32mInt\u001b[39m]] = \u001b[33mList\u001b[39m(\u001b[33mList\u001b[39m(\u001b[32m1\u001b[39m, \u001b[32m10\u001b[39m), \u001b[33mList\u001b[39m(\u001b[32m2\u001b[39m, \u001b[32m20\u001b[39m), \u001b[33mList\u001b[39m(\u001b[32m3\u001b[39m, \u001b[32m30\u001b[39m))"
      ]
     },
     "execution_count": 78,
     "metadata": {},
     "output_type": "execute_result"
    }
   ],
   "source": [
    "val nested = numbers.map(n => List(n, n * 10))"
   ]
  },
  {
   "cell_type": "markdown",
   "id": "f8fbc173-a972-47aa-97ba-b17e7ca826d3",
   "metadata": {},
   "source": [
    "The `flatMap` applies the function **and** flattens one level: `List[Int]`"
   ]
  },
  {
   "cell_type": "code",
   "execution_count": 84,
   "id": "36c5ed3d-a8b9-4b45-a8fb-b341a2bc8301",
   "metadata": {},
   "outputs": [
    {
     "data": {
      "text/plain": [
       "\u001b[36mres83_0\u001b[39m: \u001b[32mList\u001b[39m[\u001b[32mInt\u001b[39m] = \u001b[33mList\u001b[39m(\u001b[32m1\u001b[39m, \u001b[32m10\u001b[39m, \u001b[32m2\u001b[39m, \u001b[32m20\u001b[39m, \u001b[32m3\u001b[39m, \u001b[32m30\u001b[39m)\n",
       "\u001b[36mres83_1\u001b[39m: \u001b[32mList\u001b[39m[\u001b[32mInt\u001b[39m] = \u001b[33mList\u001b[39m(\u001b[32m1\u001b[39m, \u001b[32m10\u001b[39m, \u001b[32m2\u001b[39m, \u001b[32m20\u001b[39m, \u001b[32m3\u001b[39m, \u001b[32m30\u001b[39m)"
      ]
     },
     "execution_count": 84,
     "metadata": {},
     "output_type": "execute_result"
    }
   ],
   "source": [
    "nested.flatten // flatten the above nested \n",
    "numbers.flatMap(n => List(n, n * 10)) // ✔️"
   ]
  },
  {
   "cell_type": "markdown",
   "id": "22926972-0d72-4e8f-8874-929d813e7774",
   "metadata": {
    "editable": true,
    "slideshow": {
     "slide_type": ""
    },
    "tags": []
   },
   "source": [
    "Example📝[^2]: Shows how `flatMap` combines mapping and flattening into one operation, crucial for working with nested structures and monadic types.\n",
    "\n",
    "```mermaid\n",
    "---\n",
    "config:\n",
    "  look: neo\n",
    "  theme: default\n",
    "---\n",
    "graph TD\n",
    "    A[\"numbers = List(1, 2, 3)\"] -->|\"map(n => List(n, n*10))\"| B[\"List(List(1,10), List(2,20), List(3,30))\"]\n",
    "    \n",
    "    B -->|\"flatten\"| C[\"List(1, 10, 2, 20, 3, 30)\"]\n",
    "    \n",
    "    A -->|\"flatMap(n => List(n, n*10))\"| D[\"List(1, 10, 2, 20, 3, 30)\"]\n",
    "    \n",
    "    C -->|\"same result\"| D\n",
    "    \n",
    "    style A fill:#e3f2fd\n",
    "    style B fill:#fff3e0\n",
    "    style C fill:#c8e6c9\n",
    "    style D fill:#c8e6c9\n",
    "```\n",
    "\n",
    "- `map` with a function returning collections creates nested structure: `List[List[Int]]`\n",
    "- `flatMap` applies the function **and** flattens one level: `List[Int]`\n",
    "\n",
    "\n",
    "**Relationship**: `flatMap(f)` ≡ `map(f).flatten`\n",
    "\n",
    "**Monadic Bind**: `flatMap` is the **bind** operation in monadic programming. For a monad `M[A]`:\n",
    "$$\\text{flatMap}: M[A] → (A → M[B]) → M[B]$$\n",
    "\n",
    "This allows **sequencing computations** where each step may produce multiple results (List) or may fail (Option).\n",
    "\n",
    "With `Option`, `flatMap` filters out `None` values automatically:\n",
    "  - `Some(x)` → contributes `x` to result\n",
    "  - `None` → contributes nothing (filtered out)"
   ]
  },
  {
   "cell_type": "code",
   "execution_count": 5,
   "id": "840b6bf0-d04e-49ac-b0c4-eb9ed8cfa9d6",
   "metadata": {},
   "outputs": [
    {
     "data": {
      "text/plain": [
       "defined \u001b[32mfunction\u001b[39m \u001b[36mfindInt\u001b[39m"
      ]
     },
     "execution_count": 5,
     "metadata": {},
     "output_type": "execute_result"
    }
   ],
   "source": [
    "def findInt(s: String): Option[Int] = \n",
    "    try Some(s.toInt)\n",
    "    catch {case _: NumberFormatException => None\n",
    "}"
   ]
  },
  {
   "cell_type": "markdown",
   "id": "b2ba258d-a24e-495f-a472-98a73fafd598",
   "metadata": {},
   "source": [
    "test the above method:"
   ]
  },
  {
   "cell_type": "code",
   "execution_count": 8,
   "id": "07a3f504-6a46-4680-80b2-1761fb998522",
   "metadata": {},
   "outputs": [
    {
     "data": {
      "text/plain": [
       "\u001b[36mstrings\u001b[39m: \u001b[32mList\u001b[39m[\u001b[32mString\u001b[39m] = \u001b[33mList\u001b[39m(\u001b[32m\"2\"\u001b[39m, \u001b[32m\"too\"\u001b[39m, \u001b[32m\"5.22\"\u001b[39m, \u001b[32m\"two\"\u001b[39m, \u001b[32m\"10\"\u001b[39m)\n",
       "\u001b[36mres7_1\u001b[39m: \u001b[32mList\u001b[39m[\u001b[32mInt\u001b[39m] = \u001b[33mList\u001b[39m(\u001b[32m2\u001b[39m, \u001b[32m10\u001b[39m)"
      ]
     },
     "execution_count": 8,
     "metadata": {},
     "output_type": "execute_result"
    }
   ],
   "source": [
    "val strings = List(\"2\", \"too\", \"5.22\", \"two\", \"10\")\n",
    "strings.flatMap(findInt)"
   ]
  },
  {
   "cell_type": "markdown",
   "id": "32549a4d-ed87-4e99-acf4-4c0d06db42b9",
   "metadata": {},
   "source": [
    "A monad is a control mechanism for sequencing computations. Instead of thinking of it as a purely mathematical concept, think of it as a way to specify \"what happens next\" in a computation, where the next step may depend on the result of the previous step.\n",
    "\n",
    "```scala\n",
    "def flatMap[A, B](ma: M[A])(f: A => M[B]): M[B]\n",
    "```\n",
    "\n",
    "### Reduction Operations\n",
    "\n",
    "Operations that **combine** elements to produce a single result:\n",
    "\n",
    "#### fold, foldLeft, foldRight\n",
    "\n",
    "Fold operations implement **catamorphisms**, which are generalisations of recursion. They \"tear down\" a structure to a single value.\n",
    "\n",
    "For a list `[a₁, a₂, a₃, a₄]` with operation `⊕` and initial value `z`:\n",
    "\n",
    "**foldLeft** (left-associative):\n",
    "$$((((z ⊕ a₁) ⊕ a₂) ⊕ a₃) ⊕ a₄)$$\n",
    "\n",
    "**foldRight** (right-associative):\n",
    "$$(a₁ ⊕ (a₂ ⊕ (a₃ ⊕ (a₄ ⊕ z))))$$\n",
    "\n",
    "**Associativity Requirement for fold**: Operation must satisfy:\n",
    "$$(a ⊕ b) ⊕ c = a ⊕ (b ⊕ c)$$\n",
    "\n",
    "Examples: `+`, `*`, `max`, `min` are associative; `-`, `/` are not.\n"
   ]
  },
  {
   "cell_type": "code",
   "execution_count": 9,
   "id": "a106e835-150d-4691-a294-75520c856ac8",
   "metadata": {},
   "outputs": [
    {
     "data": {
      "text/plain": [
       "\u001b[36mnumbers\u001b[39m: \u001b[32mList\u001b[39m[\u001b[32mInt\u001b[39m] = \u001b[33mList\u001b[39m(\u001b[32m1\u001b[39m, \u001b[32m2\u001b[39m, \u001b[32m3\u001b[39m, \u001b[32m4\u001b[39m, \u001b[32m5\u001b[39m)"
      ]
     },
     "execution_count": 9,
     "metadata": {},
     "output_type": "execute_result"
    }
   ],
   "source": [
    "val numbers = (1 to 5).toList"
   ]
  },
  {
   "cell_type": "markdown",
   "id": "90e9cfc1-e00f-4cd0-8203-7042d99ba692",
   "metadata": {
    "editable": true,
    "slideshow": {
     "slide_type": ""
    },
    "tags": []
   },
   "source": [
    "**foldLeft**: Processes left-to-right with accumulator as first parameter: `((((z ⊕ a₁) ⊕ a₂) ⊕ a₃) ⊕ a₄)`\n",
    "\n",
    "> ```scala\n",
    "> def foldLeft[B](z: B)(op: (B, A) => B): B   // z is accumulator, A is element\n",
    "> ```\n",
    "{:.info-box}"
   ]
  },
  {
   "cell_type": "code",
   "execution_count": 16,
   "id": "6f3ddf55-83c6-4f2b-a954-c635ad1d3852",
   "metadata": {},
   "outputs": [
    {
     "data": {
      "text/plain": [
       "\u001b[36mres15_0\u001b[39m: \u001b[32mInt\u001b[39m = \u001b[32m15\u001b[39m\n",
       "\u001b[36mres15_1\u001b[39m: \u001b[32mString\u001b[39m = \u001b[32m\"12345\"\u001b[39m"
      ]
     },
     "execution_count": 16,
     "metadata": {},
     "output_type": "execute_result"
    }
   ],
   "source": [
    "numbers.foldLeft(0)(_ + _)\n",
    "// 0 + 1 = 1, 1 + 2 = 3, 3 + 3 = 6, 6 + 4 = 10, 10 + 5 = 15\n",
    "\n",
    "//with an accumulator\n",
    "numbers.foldLeft(\"\")((acc, n) => acc + n)"
   ]
  },
  {
   "cell_type": "markdown",
   "id": "660873d1-43c7-4b28-8f5d-4969683c076a",
   "metadata": {},
   "source": [
    "**foldRight**: Processes right-to-left with accumulator as second parameter: `(a₁ ⊕ (a₂ ⊕ (a₃ ⊕ (a₄ ⊕ z))))`\n",
    "\n",
    "> ```scala\n",
    "> def foldRight[B](z: B)(op: (A, B) => B): B  // z is accumulator, A is element\n",
    "> ```\n",
    "{:.info-box}"
   ]
  },
  {
   "cell_type": "code",
   "execution_count": 14,
   "id": "3bf3e17f-a88f-478b-9148-0a7109927f32",
   "metadata": {},
   "outputs": [
    {
     "data": {
      "text/plain": [
       "\u001b[36mres13\u001b[39m: \u001b[32mList\u001b[39m[\u001b[32mInt\u001b[39m] = \u001b[33mList\u001b[39m(\u001b[32m1\u001b[39m, \u001b[32m2\u001b[39m, \u001b[32m3\u001b[39m, \u001b[32m4\u001b[39m, \u001b[32m5\u001b[39m)"
      ]
     },
     "execution_count": 14,
     "metadata": {},
     "output_type": "execute_result"
    }
   ],
   "source": [
    "numbers.foldRight(List.empty[Int])((elem, acc) => elem :: acc)"
   ]
  },
  {
   "cell_type": "markdown",
   "id": "36498f22-f376-4488-a354-7baebfdfdb21",
   "metadata": {
    "editable": true,
    "slideshow": {
     "slide_type": ""
    },
    "tags": []
   },
   "source": [
    "**fold**: Can process in any order (requires associativity), enables parallelization\n",
    "> ```scala\n",
    "> def fold[A1 >: A](z: A1)(op: (A1, A1) => A1): A1\n",
    "> ```\n",
    "{:.info-box}"
   ]
  },
  {
   "cell_type": "code",
   "execution_count": 15,
   "id": "b82f6aa8-1e44-425b-9f0d-9898709d3050",
   "metadata": {
    "editable": true,
    "slideshow": {
     "slide_type": ""
    },
    "tags": []
   },
   "outputs": [
    {
     "data": {
      "text/plain": [
       "\u001b[36mres14\u001b[39m: \u001b[32mInt\u001b[39m = \u001b[32m120\u001b[39m"
      ]
     },
     "execution_count": 15,
     "metadata": {},
     "output_type": "execute_result"
    }
   ],
   "source": [
    "numbers.fold(1)(_ * _)"
   ]
  },
  {
   "cell_type": "markdown",
   "id": "de548755-6788-4f55-9629-332f1503c866",
   "metadata": {
    "editable": true,
    "slideshow": {
     "slide_type": ""
    },
    "tags": []
   },
   "source": [
    "Source📝[^6]: Demonstrates folding operations that reduce a collection to a single value by repeatedly applying a binary operation.\n",
    "\n",
    "**Subtraction Example Analysis**:\n",
    "- `reduceLeft(_ - _)` on `[1,2,3,4,5]`: \n",
    "  - `((((1 - 2) - 3) - 4) - 5)` = `(((-1 - 3) - 4) - 5)` = `((-4 - 4) - 5)` = `(-8 - 5)` = `-13`\n",
    "  \n",
    "- `reduceRight(_ - _)` on `[1,2,3,4,5]`:\n",
    "  - `(1 - (2 - (3 - (4 - 5))))` = `(1 - (2 - (3 - (-1))))` = `(1 - (2 - 4))` = `(1 - (-2))` = `3`\n",
    " \n",
    "**Key Differences from fold**:\n",
    "\n",
    "| Feature | fold | reduce |\n",
    "|---------|------|--------|\n",
    "| Initial value | Required parameter | Uses first element |\n",
    "| Empty collection | Returns initial value | Throws exception (use reduceOption) |\n",
    "| Result type | Can differ from element type | Must be same as element type |\n",
    "\n",
    "**When to use reduce**: When the operation is associative and you don't need a different result type. The first element naturally serves as the identity element.\n",
    "\n",
    "### Collection Queries\n",
    "\n",
    "#### Checking Conditions\n",
    "\n",
    "- **Exists (∃)**: `numbers.exists(_ > 4)` ≡ $\\exists x \\in \\text{numbers}, x > 4$\n",
    "  - \"There exists an x in numbers such that x > 4\"\n",
    "  - `exists(p)`: Returns `true` if **at least one** element satisfies predicate p (∃ - existential quantifier)"
   ]
  },
  {
   "cell_type": "code",
   "execution_count": 17,
   "id": "1af83044-123c-4425-bee4-5b268cfa53ad",
   "metadata": {
    "editable": true,
    "slideshow": {
     "slide_type": ""
    },
    "tags": []
   },
   "outputs": [
    {
     "data": {
      "text/plain": [
       "\u001b[36mnumbers\u001b[39m: \u001b[32mList\u001b[39m[\u001b[32mInt\u001b[39m] = \u001b[33mList\u001b[39m(\u001b[32m1\u001b[39m, \u001b[32m2\u001b[39m, \u001b[32m3\u001b[39m, \u001b[32m4\u001b[39m, \u001b[32m5\u001b[39m)\n",
       "\u001b[36mres16_1\u001b[39m: \u001b[32mBoolean\u001b[39m = \u001b[32mtrue\u001b[39m"
      ]
     },
     "execution_count": 17,
     "metadata": {},
     "output_type": "execute_result"
    }
   ],
   "source": [
    "val numbers = (1 to 5).toList\n",
    "numbers.exists(_ > 4)"
   ]
  },
  {
   "cell_type": "markdown",
   "id": "c9ab8a6f-d0ea-48b6-a75f-8325671c73c3",
   "metadata": {},
   "source": [
    "- **For all (∀)**: `numbers.forall(_ > 0)` ≡ $\\forall x \\in \\text{numbers}, x > 0$\n",
    "  - \"For all x in numbers, x > 0\"\n",
    "  - `forall(p)`: Returns `true` if **all** elements satisfy predicate p (∀ - universal quantifier)"
   ]
  },
  {
   "cell_type": "code",
   "execution_count": 18,
   "id": "99508484-b4a8-4d51-a47d-e1790cc5a14f",
   "metadata": {},
   "outputs": [
    {
     "data": {
      "text/plain": [
       "\u001b[36mres17\u001b[39m: \u001b[32mBoolean\u001b[39m = \u001b[32mfalse\u001b[39m"
      ]
     },
     "execution_count": 18,
     "metadata": {},
     "output_type": "execute_result"
    }
   ],
   "source": [
    "numbers.forall(_ > 3)"
   ]
  },
  {
   "cell_type": "markdown",
   "id": "e45eb4ce-b49c-497b-8842-ad8ff283e908",
   "metadata": {},
   "source": [
    "`contains(x)`: Returns `true` if element x is in the collection (membership test)"
   ]
  },
  {
   "cell_type": "code",
   "execution_count": 19,
   "id": "b45e05fd-2d44-4d1f-ad0e-ec1ebaf28a5f",
   "metadata": {},
   "outputs": [
    {
     "data": {
      "text/plain": [
       "\u001b[36mres18\u001b[39m: \u001b[32mBoolean\u001b[39m = \u001b[32mtrue\u001b[39m"
      ]
     },
     "execution_count": 19,
     "metadata": {},
     "output_type": "execute_result"
    }
   ],
   "source": [
    "numbers.contains(3)"
   ]
  },
  {
   "cell_type": "markdown",
   "id": "7b6ede8b-019b-4cb3-adc8-e3df931156c7",
   "metadata": {},
   "source": [
    "`find(p)`: Returns `Some(first matching element)` or `None` (search with early termination)"
   ]
  },
  {
   "cell_type": "code",
   "execution_count": 20,
   "id": "89431cbb-0dc1-4253-a5fd-54e179b516f0",
   "metadata": {},
   "outputs": [
    {
     "data": {
      "text/plain": [
       "\u001b[36mres19\u001b[39m: \u001b[32mOption\u001b[39m[\u001b[32mInt\u001b[39m] = \u001b[33mSome\u001b[39m(value = \u001b[32m4\u001b[39m)"
      ]
     },
     "execution_count": 20,
     "metadata": {},
     "output_type": "execute_result"
    }
   ],
   "source": [
    "numbers.find(_ > 3)"
   ]
  },
  {
   "cell_type": "markdown",
   "id": "d9ff0e57-931d-4bc7-adc9-3c2f7898a966",
   "metadata": {},
   "source": [
    "Example📝[^2]: Demonstrates predicate-based queries that answer questions about collection contents.\n",
    "\n",
    "**Performance**:\n",
    "- `exists` and `find` use **short-circuit evaluation**: stop as soon as match found (best case O(1), worst case O(n))\n",
    "- `forall` stops at first element that fails the predicate\n",
    "- `contains` is O(n) for lists, O(1) for HashSet/HashMap\n",
    "\n",
    "#### Taking and Dropping\n",
    "\n",
    "- `take(n)`: Returns first n elements (or all if fewer than n)"
   ]
  },
  {
   "cell_type": "code",
   "execution_count": 21,
   "id": "193986ee-1c27-4162-af30-e6b19a4cea76",
   "metadata": {},
   "outputs": [
    {
     "data": {
      "text/plain": [
       "\u001b[36mnumbers\u001b[39m: \u001b[32mList\u001b[39m[\u001b[32mInt\u001b[39m] = \u001b[33mList\u001b[39m(\u001b[32m1\u001b[39m, \u001b[32m2\u001b[39m, \u001b[32m3\u001b[39m, \u001b[32m4\u001b[39m, \u001b[32m5\u001b[39m, \u001b[32m6\u001b[39m, \u001b[32m7\u001b[39m, \u001b[32m8\u001b[39m, \u001b[32m9\u001b[39m, \u001b[32m10\u001b[39m)\n",
       "\u001b[36mres20_1\u001b[39m: \u001b[32mList\u001b[39m[\u001b[32mInt\u001b[39m] = \u001b[33mList\u001b[39m(\u001b[32m1\u001b[39m, \u001b[32m2\u001b[39m, \u001b[32m3\u001b[39m)"
      ]
     },
     "execution_count": 21,
     "metadata": {},
     "output_type": "execute_result"
    }
   ],
   "source": [
    "val numbers = (1 to 10).toList\n",
    "numbers.take(3)"
   ]
  },
  {
   "cell_type": "markdown",
   "id": "d19ce86d-885b-4320-96db-6981fe438de9",
   "metadata": {},
   "source": [
    "- `drop(n)`: Returns all except first n elements"
   ]
  },
  {
   "cell_type": "code",
   "execution_count": 22,
   "id": "32670a2f-65a3-48e0-aae3-9fab079cdd46",
   "metadata": {},
   "outputs": [
    {
     "data": {
      "text/plain": [
       "\u001b[36mres21\u001b[39m: \u001b[32mList\u001b[39m[\u001b[32mInt\u001b[39m] = \u001b[33mList\u001b[39m(\u001b[32m4\u001b[39m, \u001b[32m5\u001b[39m, \u001b[32m6\u001b[39m, \u001b[32m7\u001b[39m, \u001b[32m8\u001b[39m, \u001b[32m9\u001b[39m, \u001b[32m10\u001b[39m)"
      ]
     },
     "execution_count": 22,
     "metadata": {},
     "output_type": "execute_result"
    }
   ],
   "source": [
    "numbers.drop(3)"
   ]
  },
  {
   "cell_type": "markdown",
   "id": "3f770275-7635-4894-8a54-bebcd20b4a80",
   "metadata": {},
   "source": [
    "- `takeWhile(p)`: Takes elements **from the start** while predicate is true, stops at first false"
   ]
  },
  {
   "cell_type": "code",
   "execution_count": 23,
   "id": "c168c5cf-979b-4ab9-be64-e45d3af1f3c7",
   "metadata": {},
   "outputs": [
    {
     "data": {
      "text/plain": [
       "\u001b[36mres22\u001b[39m: \u001b[32mList\u001b[39m[\u001b[32mInt\u001b[39m] = \u001b[33mList\u001b[39m(\u001b[32m1\u001b[39m, \u001b[32m2\u001b[39m, \u001b[32m3\u001b[39m, \u001b[32m4\u001b[39m)"
      ]
     },
     "execution_count": 23,
     "metadata": {},
     "output_type": "execute_result"
    }
   ],
   "source": [
    "numbers.takeWhile(_ < 5)"
   ]
  },
  {
   "cell_type": "markdown",
   "id": "11353937-744a-40b3-93ce-402a898ceab5",
   "metadata": {},
   "source": [
    "- `dropWhile(p)`: Drops elements **from the start** while predicate is true, keeps rest"
   ]
  },
  {
   "cell_type": "code",
   "execution_count": 26,
   "id": "64d86bf1-c724-421f-8249-313bef86ed79",
   "metadata": {},
   "outputs": [
    {
     "data": {
      "text/plain": [
       "\u001b[36mres25\u001b[39m: \u001b[32mList\u001b[39m[\u001b[32mInt\u001b[39m] = \u001b[33mList\u001b[39m(\u001b[32m5\u001b[39m, \u001b[32m6\u001b[39m, \u001b[32m7\u001b[39m, \u001b[32m8\u001b[39m, \u001b[32m9\u001b[39m, \u001b[32m10\u001b[39m)"
      ]
     },
     "execution_count": 26,
     "metadata": {},
     "output_type": "execute_result"
    }
   ],
   "source": [
    "numbers.dropWhile(_ < 5)"
   ]
  },
  {
   "cell_type": "markdown",
   "id": "8754eb6b-556d-4298-a682-82deee8b218c",
   "metadata": {},
   "source": [
    "- `takeRight(n)` / `dropRight(n)`: Same operations but from the end\n",
    "\n",
    "**Important**: `takeWhile` and `dropWhile` stop at the **first** element that doesn't match:\n",
    "\n",
    "```scala\n",
    "List(1, 2, 3, 1, 2).takeWhile(_ < 3)  // List(1, 2) - stops at 3\n",
    "// NOT List(1, 2, 1, 2) - doesn't continue checking\n",
    "```"
   ]
  },
  {
   "cell_type": "code",
   "execution_count": 25,
   "id": "d6e8eb1e-e4f8-4626-a1d8-7cce42f03e9f",
   "metadata": {
    "editable": true,
    "slideshow": {
     "slide_type": ""
    },
    "tags": []
   },
   "outputs": [
    {
     "data": {
      "text/plain": [
       "\u001b[36mres24_0\u001b[39m: \u001b[32mList\u001b[39m[\u001b[32mInt\u001b[39m] = \u001b[33mList\u001b[39m(\u001b[32m8\u001b[39m, \u001b[32m9\u001b[39m, \u001b[32m10\u001b[39m)\n",
       "\u001b[36mres24_1\u001b[39m: \u001b[32mList\u001b[39m[\u001b[32mInt\u001b[39m] = \u001b[33mList\u001b[39m(\u001b[32m1\u001b[39m, \u001b[32m2\u001b[39m, \u001b[32m3\u001b[39m, \u001b[32m4\u001b[39m, \u001b[32m5\u001b[39m, \u001b[32m6\u001b[39m, \u001b[32m7\u001b[39m)"
      ]
     },
     "execution_count": 25,
     "metadata": {},
     "output_type": "execute_result"
    }
   ],
   "source": [
    "numbers.takeRight(3)\n",
    "numbers.dropRight(3)"
   ]
  },
  {
   "cell_type": "markdown",
   "id": "b66c1995-047b-43fc-975b-cb04199aefc5",
   "metadata": {},
   "source": [
    "**Complementary Operations**: For any collection `c` and number `n`:\n",
    "```scala\n",
    "c.take(n) ++ c.drop(n) == c        // Reconstruct original\n",
    "c.takeWhile(p) ++ c.dropWhile(p) == c  // Also reconstructs original\n",
    "```"
   ]
  },
  {
   "cell_type": "code",
   "execution_count": 28,
   "id": "0905fe7c-0bbd-4092-93aa-f548d4787f4b",
   "metadata": {},
   "outputs": [
    {
     "data": {
      "text/plain": [
       "\u001b[36mres27_0\u001b[39m: \u001b[32mList\u001b[39m[\u001b[32mInt\u001b[39m] = \u001b[33mList\u001b[39m(\u001b[32m1\u001b[39m, \u001b[32m2\u001b[39m, \u001b[32m3\u001b[39m, \u001b[32m4\u001b[39m, \u001b[32m5\u001b[39m, \u001b[32m6\u001b[39m, \u001b[32m7\u001b[39m, \u001b[32m8\u001b[39m, \u001b[32m9\u001b[39m, \u001b[32m10\u001b[39m)\n",
       "\u001b[36mres27_1\u001b[39m: \u001b[32mList\u001b[39m[\u001b[32mInt\u001b[39m] = \u001b[33mList\u001b[39m(\u001b[32m1\u001b[39m, \u001b[32m2\u001b[39m, \u001b[32m3\u001b[39m, \u001b[32m4\u001b[39m, \u001b[32m5\u001b[39m, \u001b[32m6\u001b[39m, \u001b[32m7\u001b[39m, \u001b[32m8\u001b[39m, \u001b[32m9\u001b[39m, \u001b[32m10\u001b[39m)"
      ]
     },
     "execution_count": 28,
     "metadata": {},
     "output_type": "execute_result"
    }
   ],
   "source": [
    "numbers.take(3) ++ numbers.drop(3)\n",
    "numbers.takeWhile(_ < 5) ++ numbers.dropWhile(_ < 5)"
   ]
  },
  {
   "cell_type": "markdown",
   "id": "94badf86-2c8e-43c8-a3b6-3313dabf2e25",
   "metadata": {},
   "source": [
    "Example📝[^2]: Shows operations for extracting subsequences from collections.\n",
    "\n",
    "**Performance**: \n",
    "- `take/drop`: O(n) for List (must traverse), O(1) for Vector (index calculation)\n",
    "- `takeRight/dropRight`: O(n) - must traverse entire collection to find end\n",
    "\n",
    "#### Grouping and Partitioning\n",
    "\n",
    "- `partition(p)`: Splits into two groups - `(matching, notMatching)` tuple. All elements tested against predicate"
   ]
  },
  {
   "cell_type": "code",
   "execution_count": 29,
   "id": "05166221-15d3-4a8a-86cd-8c6aad315e90",
   "metadata": {},
   "outputs": [
    {
     "data": {
      "text/plain": [
       "\u001b[36mnumbers\u001b[39m: \u001b[32mList\u001b[39m[\u001b[32mInt\u001b[39m] = \u001b[33mList\u001b[39m(\u001b[32m1\u001b[39m, \u001b[32m2\u001b[39m, \u001b[32m3\u001b[39m, \u001b[32m4\u001b[39m, \u001b[32m5\u001b[39m, \u001b[32m6\u001b[39m, \u001b[32m7\u001b[39m, \u001b[32m8\u001b[39m, \u001b[32m9\u001b[39m, \u001b[32m10\u001b[39m)\n",
       "\u001b[36meven\u001b[39m: \u001b[32mList\u001b[39m[\u001b[32mInt\u001b[39m] = \u001b[33mList\u001b[39m(\u001b[32m2\u001b[39m, \u001b[32m4\u001b[39m, \u001b[32m6\u001b[39m, \u001b[32m8\u001b[39m, \u001b[32m10\u001b[39m)\n",
       "\u001b[36modds\u001b[39m: \u001b[32mList\u001b[39m[\u001b[32mInt\u001b[39m] = \u001b[33mList\u001b[39m(\u001b[32m1\u001b[39m, \u001b[32m3\u001b[39m, \u001b[32m5\u001b[39m, \u001b[32m7\u001b[39m, \u001b[32m9\u001b[39m)"
      ]
     },
     "execution_count": 29,
     "metadata": {},
     "output_type": "execute_result"
    }
   ],
   "source": [
    "val numbers = (1 to 10).toList\n",
    "val (even, odds) = numbers.partition(_ % 2 == 0)"
   ]
  },
  {
   "cell_type": "markdown",
   "id": "c3c81633-3cc7-40ae-92f1-54451f5e4920",
   "metadata": {},
   "source": [
    "- `groupBy(f)`: Creates Map where keys are `f(element)` and values are Lists of elements producing that key"
   ]
  },
  {
   "cell_type": "code",
   "execution_count": 31,
   "id": "096dcf13-8f61-4c3a-980b-128d078900da",
   "metadata": {},
   "outputs": [
    {
     "data": {
      "text/plain": [
       "\u001b[36mgrouped\u001b[39m: \u001b[32mMap\u001b[39m[\u001b[32mInt\u001b[39m, \u001b[32mList\u001b[39m[\u001b[32mInt\u001b[39m]] = \u001b[33mHashMap\u001b[39m(\n",
       "  \u001b[32m0\u001b[39m -> \u001b[33mList\u001b[39m(\u001b[32m3\u001b[39m, \u001b[32m6\u001b[39m, \u001b[32m9\u001b[39m),\n",
       "  \u001b[32m1\u001b[39m -> \u001b[33mList\u001b[39m(\u001b[32m1\u001b[39m, \u001b[32m4\u001b[39m, \u001b[32m7\u001b[39m, \u001b[32m10\u001b[39m),\n",
       "  \u001b[32m2\u001b[39m -> \u001b[33mList\u001b[39m(\u001b[32m2\u001b[39m, \u001b[32m5\u001b[39m, \u001b[32m8\u001b[39m)\n",
       ")"
      ]
     },
     "execution_count": 31,
     "metadata": {},
     "output_type": "execute_result"
    }
   ],
   "source": [
    "val grouped = numbers.groupBy(_ % 3)"
   ]
  },
  {
   "cell_type": "markdown",
   "id": "f8cafb56-2d23-47af-96f6-657d7925e234",
   "metadata": {},
   "source": [
    "- `span(p)`: Like `(takeWhile(p), dropWhile(p))` but in single traversal"
   ]
  },
  {
   "cell_type": "code",
   "execution_count": 43,
   "id": "2bdccdaf-8e4a-4e32-b87f-65f0cbfe96be",
   "metadata": {},
   "outputs": [
    {
     "data": {
      "text/plain": [
       "\u001b[36mlow\u001b[39m: \u001b[32mList\u001b[39m[\u001b[32mInt\u001b[39m] = \u001b[33mList\u001b[39m(\u001b[32m1\u001b[39m, \u001b[32m2\u001b[39m)\n",
       "\u001b[36mhight\u001b[39m: \u001b[32mList\u001b[39m[\u001b[32mInt\u001b[39m] = \u001b[33mList\u001b[39m(\u001b[32m3\u001b[39m, \u001b[32m4\u001b[39m, \u001b[32m5\u001b[39m, \u001b[32m6\u001b[39m, \u001b[32m7\u001b[39m, \u001b[32m8\u001b[39m, \u001b[32m9\u001b[39m, \u001b[32m10\u001b[39m)"
      ]
     },
     "execution_count": 43,
     "metadata": {},
     "output_type": "execute_result"
    }
   ],
   "source": [
    "val (low, hight) = numbers.span(_ < 3)"
   ]
  },
  {
   "cell_type": "markdown",
   "id": "ce9a9351-4981-42da-a7e6-71e59a62ff8d",
   "metadata": {
    "editable": true,
    "slideshow": {
     "slide_type": ""
    },
    "tags": []
   },
   "source": [
    "- `splitAt(n)`: Like `(take(n), drop(n))` but returns tuple"
   ]
  },
  {
   "cell_type": "code",
   "execution_count": 42,
   "id": "cd2bceba-4b4d-4225-82bd-7b2a64e78f9f",
   "metadata": {},
   "outputs": [
    {
     "data": {
      "text/plain": [
       "\u001b[36mfirst\u001b[39m: \u001b[32mList\u001b[39m[\u001b[32mInt\u001b[39m] = \u001b[33mList\u001b[39m(\u001b[32m1\u001b[39m, \u001b[32m2\u001b[39m, \u001b[32m3\u001b[39m)\n",
       "\u001b[36msecond\u001b[39m: \u001b[32mList\u001b[39m[\u001b[32mInt\u001b[39m] = \u001b[33mList\u001b[39m(\u001b[32m4\u001b[39m, \u001b[32m5\u001b[39m, \u001b[32m6\u001b[39m, \u001b[32m7\u001b[39m, \u001b[32m8\u001b[39m, \u001b[32m9\u001b[39m, \u001b[32m10\u001b[39m)"
      ]
     },
     "execution_count": 42,
     "metadata": {},
     "output_type": "execute_result"
    }
   ],
   "source": [
    "val (first, second) = numbers.splitAt(3)"
   ]
  },
  {
   "cell_type": "markdown",
   "id": "3e70c590-c157-4f1d-ac46-e03cdb1cc4f8",
   "metadata": {
    "editable": true,
    "slideshow": {
     "slide_type": ""
    },
    "tags": []
   },
   "source": [
    "Example📝[^2]: Demonstrates operations that divide a collection into multiple subcollections.\n",
    "\n",
    "**Key Differences**:\n",
    "- **partition** vs **filter**: `partition` gives both groups; `filter` gives only matching\n",
    "- **span** vs **partition**: `span` stops at first non-match; `partition` checks all elements\n",
    "- **span** vs **takeWhile/dropWhile**: <span>`span` is more efficient (single pass)</span>{:.gtxt}\n",
    "\n",
    "**groupBy Mathematics**: Creates an **equivalence relation** partitioning the collection:\n",
    "\n",
    "For key function $f: A → K$, elements $x, y$ are in same group if $f(x) = f(y)$\n",
    "\n",
    "Results in partition: \n",
    "$$\n",
    "\\{G_k | k \\in K\\}\n",
    "$$ \n",
    "where $G_k = \\{x | f(x) = k\\}$\n",
    "\n",
    "Example: `groupBy(_ % 3)` partitions by remainder mod 3\n",
    "\n",
    "- \n",
    "$$\n",
    "G_0 = \\{x | x \\bmod 3 = 0\\}\n",
    "$$ = {3, 6, 9}\n",
    "- \n",
    "$$\n",
    "G_1 = \\{x | x \\bmod 3 = 1\\}\n",
    "$$ = {1, 4, 7, 10}\n",
    "- \n",
    "$$\n",
    "G_2 = \\{x | x \\bmod 3 = 2\\}\n",
    "$$ = {2, 5, 8}\n",
    "\n",
    "### Sorting\n"
   ]
  },
  {
   "cell_type": "code",
   "execution_count": 48,
   "id": "fe509fa9-4dd1-4433-aad0-5d7b813b9c5d",
   "metadata": {},
   "outputs": [
    {
     "data": {
      "text/plain": [
       "\u001b[36mnumbers\u001b[39m: \u001b[32mList\u001b[39m[\u001b[32mInt\u001b[39m] = \u001b[33mList\u001b[39m(\u001b[32m5\u001b[39m, \u001b[32m2\u001b[39m, \u001b[32m8\u001b[39m, \u001b[32m1\u001b[39m, \u001b[32m9\u001b[39m, \u001b[32m3\u001b[39m)\n",
       "\u001b[36mwords\u001b[39m: \u001b[32mList\u001b[39m[\u001b[32mString\u001b[39m] = \u001b[33mList\u001b[39m(\u001b[32m\"banana\"\u001b[39m, \u001b[32m\"cherry\"\u001b[39m, \u001b[32m\"mango\"\u001b[39m, \u001b[32m\"apple\"\u001b[39m)"
      ]
     },
     "execution_count": 48,
     "metadata": {},
     "output_type": "execute_result"
    }
   ],
   "source": [
    "val numbers = List(5, 2, 8, 1, 9, 3)\n",
    "val words = List(\"banana\", \"cherry\", \"mango\", \"apple\")\n"
   ]
  },
  {
   "cell_type": "markdown",
   "id": "d60afca3-2fc9-4da0-8898-b78e31de3ed4",
   "metadata": {},
   "source": [
    "- `sorted`: Uses **natural ordering** (requires implicit `Ordering[A]`)\n",
    "  - Numbers: ascending order (1, 2, 3...)\n",
    "  - Strings: lexicographic order (alphabetical)"
   ]
  },
  {
   "cell_type": "code",
   "execution_count": 49,
   "id": "7d5632e8-9b1d-4947-ab33-ec20ded9e12f",
   "metadata": {},
   "outputs": [
    {
     "data": {
      "text/plain": [
       "\u001b[36mres48_0\u001b[39m: \u001b[32mList\u001b[39m[\u001b[32mInt\u001b[39m] = \u001b[33mList\u001b[39m(\u001b[32m1\u001b[39m, \u001b[32m2\u001b[39m, \u001b[32m3\u001b[39m, \u001b[32m5\u001b[39m, \u001b[32m8\u001b[39m, \u001b[32m9\u001b[39m)\n",
       "\u001b[36mres48_1\u001b[39m: \u001b[32mList\u001b[39m[\u001b[32mString\u001b[39m] = \u001b[33mList\u001b[39m(\u001b[32m\"apple\"\u001b[39m, \u001b[32m\"banana\"\u001b[39m, \u001b[32m\"cherry\"\u001b[39m, \u001b[32m\"mango\"\u001b[39m)"
      ]
     },
     "execution_count": 49,
     "metadata": {},
     "output_type": "execute_result"
    }
   ],
   "source": [
    "numbers.sorted\n",
    "words.sorted"
   ]
  },
  {
   "cell_type": "markdown",
   "id": "1c98a4d9-5ab1-452a-8aea-30ffadb60f2f",
   "metadata": {},
   "source": [
    "- `sortBy(f)`: Extracts a sortable key using function `f`, then sorts by that key"
   ]
  },
  {
   "cell_type": "code",
   "execution_count": 51,
   "id": "18f2ea9e-972f-4592-b791-461d9d23701a",
   "metadata": {},
   "outputs": [
    {
     "data": {
      "text/plain": [
       "\u001b[36mpeople\u001b[39m: \u001b[32mList\u001b[39m[(\u001b[32mString\u001b[39m, \u001b[32mInt\u001b[39m)] = \u001b[33mList\u001b[39m((\u001b[32m\"Charls\"\u001b[39m, \u001b[32m34\u001b[39m), (\u001b[32m\"Alice\"\u001b[39m, \u001b[32m32\u001b[39m), (\u001b[32m\"Ben\"\u001b[39m, \u001b[32m23\u001b[39m))\n",
       "\u001b[36mres50_1\u001b[39m: \u001b[32mList\u001b[39m[(\u001b[32mString\u001b[39m, \u001b[32mInt\u001b[39m)] = \u001b[33mList\u001b[39m((\u001b[32m\"Ben\"\u001b[39m, \u001b[32m23\u001b[39m), (\u001b[32m\"Alice\"\u001b[39m, \u001b[32m32\u001b[39m), (\u001b[32m\"Charls\"\u001b[39m, \u001b[32m34\u001b[39m))"
      ]
     },
     "execution_count": 51,
     "metadata": {},
     "output_type": "execute_result"
    }
   ],
   "source": [
    "val people = List((\"Charls\", 34), (\"Alice\", 32), (\"Ben\", 23)) \n",
    "//Sort by second key\n",
    "people.sortBy(_._2)"
   ]
  },
  {
   "cell_type": "markdown",
   "id": "089af437-8f2d-450b-8453-5b82d30890dd",
   "metadata": {},
   "source": [
    "- `sortWith(compare)`: Uses custom comparison function `(A, A) => Boolean`\n",
    "  - `sortWith(_ < _)` for ascending\n",
    "  - `sortWith(_ > _)` for descending"
   ]
  },
  {
   "cell_type": "code",
   "execution_count": 54,
   "id": "1dfccf47-2b61-4328-a942-cd72a69bebf6",
   "metadata": {},
   "outputs": [
    {
     "data": {
      "text/plain": [
       "\u001b[36mres53_0\u001b[39m: \u001b[32mList\u001b[39m[\u001b[32mInt\u001b[39m] = \u001b[33mList\u001b[39m(\u001b[32m9\u001b[39m, \u001b[32m8\u001b[39m, \u001b[32m5\u001b[39m, \u001b[32m3\u001b[39m, \u001b[32m2\u001b[39m, \u001b[32m1\u001b[39m)\n",
       "\u001b[36mres53_1\u001b[39m: \u001b[32mList\u001b[39m[(\u001b[32mString\u001b[39m, \u001b[32mInt\u001b[39m)] = \u001b[33mList\u001b[39m((\u001b[32m\"Alice\"\u001b[39m, \u001b[32m32\u001b[39m), (\u001b[32m\"Ben\"\u001b[39m, \u001b[32m23\u001b[39m), (\u001b[32m\"Charls\"\u001b[39m, \u001b[32m34\u001b[39m))"
      ]
     },
     "execution_count": 54,
     "metadata": {},
     "output_type": "execute_result"
    }
   ],
   "source": [
    "numbers.sortWith(_ > _)\n",
    "people.sortWith(_._1 < _._1) // sort by name"
   ]
  },
  {
   "cell_type": "markdown",
   "id": "858a348e-4406-4dae-bed6-226c0b80e90a",
   "metadata": {},
   "source": [
    "- `reverse`: Reverses element order (doesn't sort, just reverses)"
   ]
  },
  {
   "cell_type": "code",
   "execution_count": 55,
   "id": "2226c545-8ccc-4d75-a04f-244174c84a6e",
   "metadata": {},
   "outputs": [
    {
     "data": {
      "text/plain": [
       "\u001b[36mres54\u001b[39m: \u001b[32mList\u001b[39m[\u001b[32mInt\u001b[39m] = \u001b[33mList\u001b[39m(\u001b[32m9\u001b[39m, \u001b[32m8\u001b[39m, \u001b[32m5\u001b[39m, \u001b[32m3\u001b[39m, \u001b[32m2\u001b[39m, \u001b[32m1\u001b[39m)"
      ]
     },
     "execution_count": 55,
     "metadata": {},
     "output_type": "execute_result"
    }
   ],
   "source": [
    "numbers.sorted.reverse"
   ]
  },
  {
   "cell_type": "markdown",
   "id": "6669f7ea-f4d4-4be0-b657-e3fa309effd0",
   "metadata": {},
   "source": [
    "Example📝[^2]: Shows different ways to order collection elements.\n",
    "\n",
    "**Orderings**: Sorting requires a **total order** relation ≤ that satisfies:\n",
    "1. **Reflexivity**: $a ≤ a$ (every element relates to itself)\n",
    "2. **Antisymmetry**: if $a ≤ b$ and $b ≤ a$, then $a = b$\n",
    "3. **Transitivity**: if $a ≤ b$ and $b ≤ c$, then $a ≤ c$\n",
    "4. **Totality**: for all $a, b$: either $a ≤ b$ or $b ≤ a$ (can compare any two elements)\n",
    "\n",
    "**Performance**: Most Scala sorting uses **Timsort** (a hybrid of merge sort and insertion sort):\n",
    "- Time: O(n log n) worst case, O(n) best case for nearly sorted data\n",
    "- Space: O(n) for temporary storage\n",
    "- **Stable**: equal elements maintain relative order\n",
    "\n",
    "## `for` Comprehensions with Collections\n",
    "\n",
    "For comprehensions in Scala provide syntactic sugar for **map**, **flatMap**, and **filter** operations[^7]."
   ]
  },
  {
   "cell_type": "code",
   "execution_count": 60,
   "id": "efcc7b8c-6bf6-49e1-bcab-29fa06cf323d",
   "metadata": {},
   "outputs": [
    {
     "data": {
      "text/plain": [
       "\u001b[36mnumbers\u001b[39m: \u001b[32mList\u001b[39m[\u001b[32mInt\u001b[39m] = \u001b[33mList\u001b[39m(\u001b[32m1\u001b[39m, \u001b[32m2\u001b[39m, \u001b[32m3\u001b[39m, \u001b[32m4\u001b[39m, \u001b[32m5\u001b[39m)"
      ]
     },
     "execution_count": 60,
     "metadata": {},
     "output_type": "execute_result"
    }
   ],
   "source": [
    "val numbers = (1 to 5).toList"
   ]
  },
  {
   "cell_type": "markdown",
   "id": "09ac0146-55b5-470e-90aa-d6c248aa9b24",
   "metadata": {},
   "source": [
    "- Single generator `for x <- col yield expr` → `col.map(x => expr)`\n",
    "    - `yield` collects results from each loop iteration and returns them as a **new collection** of the same type as the input.\n",
    "\n",
    "Think of what `yield` does in simple terms:\n",
    "\n",
    "1. **Creates an empty bucket** when the for loop begins\n",
    "2. **On each iteration**, one output element may be created from the current input element\n",
    "3. **Places the output element** into the bucket\n",
    "4. **Returns the bucket's contents** when the loop finishes\n",
    "\n",
    "A **functor** is a mathematical structure that preserves relationships while transforming data. Think of it as a \"structure-preserving function.\"\n",
    "\n",
    "When you apply `yield`, you're using the fundamental mathematical operation called **map** (or `fmap`), which is the core of functor theory.\n",
    "\n",
    "- Single generator `for (x <- col yield expr` → `col.map(x => expr)`"
   ]
  },
  {
   "cell_type": "code",
   "execution_count": 65,
   "id": "fa711c1b-fb58-4e22-a73b-b3f61e79ed7e",
   "metadata": {},
   "outputs": [
    {
     "data": {
      "text/plain": [
       "\u001b[36mdouble\u001b[39m: \u001b[32mList\u001b[39m[\u001b[32mInt\u001b[39m] = \u001b[33mList\u001b[39m(\u001b[32m2\u001b[39m, \u001b[32m4\u001b[39m, \u001b[32m6\u001b[39m, \u001b[32m8\u001b[39m, \u001b[32m10\u001b[39m)"
      ]
     },
     "execution_count": 65,
     "metadata": {},
     "output_type": "execute_result"
    }
   ],
   "source": [
    "// for/yield translates to map\n",
    "val double = for (n <- numbers) yield n * 2"
   ]
  },
  {
   "cell_type": "markdown",
   "id": "dd4df6f4-2d52-4d90-b585-10062b68984a",
   "metadata": {
    "editable": true,
    "slideshow": {
     "slide_type": ""
    },
    "tags": []
   },
   "source": [
    "---\n",
    "Above `yield` is **syntactic sugar** (human-readable syntax) for the `map` operation:"
   ]
  },
  {
   "cell_type": "code",
   "execution_count": 67,
   "id": "b97c3421-544f-43f5-afba-6aa00fe06e48",
   "metadata": {
    "editable": true,
    "slideshow": {
     "slide_type": ""
    },
    "tags": []
   },
   "outputs": [
    {
     "data": {
      "text/plain": [
       "\u001b[36mres66_0\u001b[39m: \u001b[32mList\u001b[39m[\u001b[32mInt\u001b[39m] = \u001b[33mList\u001b[39m(\u001b[32m2\u001b[39m, \u001b[32m4\u001b[39m, \u001b[32m6\u001b[39m, \u001b[32m8\u001b[39m, \u001b[32m10\u001b[39m)\n",
       "\u001b[36mres66_1\u001b[39m: \u001b[32mList\u001b[39m[\u001b[32mInt\u001b[39m] = \u001b[33mList\u001b[39m(\u001b[32m2\u001b[39m, \u001b[32m4\u001b[39m, \u001b[32m6\u001b[39m, \u001b[32m8\u001b[39m, \u001b[32m10\u001b[39m)"
      ]
     },
     "execution_count": 67,
     "metadata": {},
     "output_type": "execute_result"
    }
   ],
   "source": [
    "// Using yield (readable)\n",
    "for (n <- numbers) yield n * 2\n",
    "\n",
    "// Desugars to (functional)\n",
    "numbers.map(n => n * 2)"
   ]
  },
  {
   "cell_type": "markdown",
   "id": "cf53d7b1-4e0a-4212-9a7d-541ea47f28e8",
   "metadata": {
    "editable": true,
    "slideshow": {
     "slide_type": ""
    },
    "tags": []
   },
   "source": [
    "---\n",
    "\n",
    "- Generator + guard `for x <- col if pred yield expr` → `col.filter(pred).map(x => expr)` "
   ]
  },
  {
   "cell_type": "code",
   "execution_count": 77,
   "id": "6c7493c1-605c-441b-944e-03fb03d2cbf3",
   "metadata": {},
   "outputs": [
    {
     "data": {
      "text/plain": [
       "\u001b[36mres76_0\u001b[39m: \u001b[32mList\u001b[39m[\u001b[32mInt\u001b[39m] = \u001b[33mList\u001b[39m(\u001b[32m2\u001b[39m, \u001b[32m6\u001b[39m, \u001b[32m10\u001b[39m)\n",
       "\u001b[36mres76_1\u001b[39m: \u001b[32mList\u001b[39m[\u001b[32mInt\u001b[39m] = \u001b[33mList\u001b[39m(\u001b[32m2\u001b[39m, \u001b[32m6\u001b[39m, \u001b[32m10\u001b[39m)"
      ]
     },
     "execution_count": 77,
     "metadata": {},
     "output_type": "execute_result"
    }
   ],
   "source": [
    "for {\n",
    "    n <- numbers\n",
    "    if n % 2 != 0\n",
    "} yield n * 2\n",
    "\n",
    "// same as \n",
    "numbers.filter(n => n % 2 != 0).map( n => n * 2)"
   ]
  },
  {
   "cell_type": "markdown",
   "id": "d99381d2-ae22-41df-b250-95603f67de7f",
   "metadata": {},
   "source": [
    "- Multiple generators → nested `flatMap` and `map` calls"
   ]
  },
  {
   "cell_type": "code",
   "execution_count": 76,
   "id": "a5bf288c-3515-48bb-9ba7-be9b9c34de30",
   "metadata": {
    "editable": true,
    "slideshow": {
     "slide_type": ""
    },
    "tags": []
   },
   "outputs": [
    {
     "data": {
      "text/plain": [
       "\u001b[36mres75_0\u001b[39m: \u001b[32mList\u001b[39m[(\u001b[32mInt\u001b[39m, \u001b[32mString\u001b[39m)] = \u001b[33mList\u001b[39m(\n",
       "  (\u001b[32m1\u001b[39m, \u001b[32m\"a\"\u001b[39m),\n",
       "  (\u001b[32m1\u001b[39m, \u001b[32m\"b\"\u001b[39m),\n",
       "  (\u001b[32m2\u001b[39m, \u001b[32m\"a\"\u001b[39m),\n",
       "  (\u001b[32m2\u001b[39m, \u001b[32m\"b\"\u001b[39m),\n",
       "  (\u001b[32m3\u001b[39m, \u001b[32m\"a\"\u001b[39m),\n",
       "  (\u001b[32m3\u001b[39m, \u001b[32m\"b\"\u001b[39m)\n",
       ")\n",
       "\u001b[36mres75_1\u001b[39m: \u001b[32mList\u001b[39m[(\u001b[32mInt\u001b[39m, \u001b[32mString\u001b[39m)] = \u001b[33mList\u001b[39m(\n",
       "  (\u001b[32m1\u001b[39m, \u001b[32m\"a\"\u001b[39m),\n",
       "  (\u001b[32m1\u001b[39m, \u001b[32m\"b\"\u001b[39m),\n",
       "  (\u001b[32m2\u001b[39m, \u001b[32m\"a\"\u001b[39m),\n",
       "  (\u001b[32m2\u001b[39m, \u001b[32m\"b\"\u001b[39m),\n",
       "  (\u001b[32m3\u001b[39m, \u001b[32m\"a\"\u001b[39m),\n",
       "  (\u001b[32m3\u001b[39m, \u001b[32m\"b\"\u001b[39m)\n",
       ")"
      ]
     },
     "execution_count": 76,
     "metadata": {},
     "output_type": "execute_result"
    }
   ],
   "source": [
    "for {\n",
    "    x <- (1 to 3).toList\n",
    "    y <- List(\"a\", \"b\")\n",
    "} yield (x, y)\n",
    "\n",
    "// same as\n",
    "(1 to 3).toList.flatMap(x => // Step 1: Translate outer generator to flatMap\n",
    "        List(\"a\", \"b\").map(y => (x, y))) // Step 2: Translate inner generator to map"
   ]
  },
  {
   "cell_type": "markdown",
   "id": "f1e81a8f-5477-471d-87bc-8973e7e1c510",
   "metadata": {
    "editable": true,
    "slideshow": {
     "slide_type": ""
    },
    "tags": []
   },
   "source": [
    "Source📝[^2]: Shows how `for` comprehensions are syntactic sugar for collection operations.\n",
    "\n",
    "**Translation Process** (step-by-step for nested example):\n",
    "```scala\n",
    "for { x <- List(1,2,3); y <- List(10,20) } yield (x, y)\n",
    "\n",
    "// Step 1: Translate outer generator to flatMap\n",
    "List(1,2,3).flatMap(x => \n",
    "  // Step 2: Translate inner generator to map\n",
    "  List(10,20).map(y => (x, y))\n",
    ")\n",
    "```\n",
    "\n",
    "**Why This Matters**: Understanding the translation helps you:\n",
    "1. Know when for comprehensions are appropriate (working with monads)\n",
    "2. Understand performance implications (each generator may iterate)\n",
    "3. Debug errors (compiler errors reference `flatMap`/`map`)\n",
    "\n",
    "**Monadic Comprehensions**: Any type `M` that implements `map`, `flatMap`, and `withFilter` can use for comprehensions:\n",
    "- Collections: `List`, `Vector`, `Option`, `Either`\n",
    "- Async computations: `Future`\n",
    "- Effect types: `IO`, `Task`\n",
    "\n",
    "> This is why `for` comprehensions are called \"monadic comprehensions\" - they work with any monad.\n",
    "{:.green}\n",
    "\n",
    "## Views and Lazy Evaluation\n",
    "\n",
    "**Views** provide lazy evaluation of collection operations[^1]. Transformer methods on views don't create intermediate collections.\n",
    "\n",
    "- **Without view**: Each transformation (`map`, `filter`) creates a new collection immediately (**strict evaluation**)\n",
    "\n",
    "    ```scala\n",
    "    val numbers = List.range(1, 1000000)\n",
    "    val r1 = numbers.map(_ + 1).map(_ * 2).filter(_ > 100)\n",
    "    ```\n",
    "    - For 1M elements: map creates 1M element list, next map creates another 1M, etc.\n",
    "    - Memory usage: Multiple copies of the entire collection\n",
    "\n",
    "- **With view**: Transformations create lightweight **iterators** that compute elements on demand (**lazy evaluation**)\n",
    "\n",
    "  > Views are especially useful for large collections\n",
    "\n"
   ]
  },
  {
   "cell_type": "code",
   "execution_count": 1,
   "id": "9d1c0e38-02cb-4138-80b1-8b24d5dc9970",
   "metadata": {},
   "outputs": [
    {
     "data": {
      "text/html": [
       "<div class=\"jp-RenderedText\">\n",
       "<pre><code><span style=\"color: rgb(0, 187, 187)\"><span class=\"ansi-cyan-fg\">hugeList</span></span>: <span style=\"color: rgb(0, 187, 0)\"><span class=\"ansi-green-fg\">List</span></span>[<span style=\"color: rgb(0, 187, 0)\"><span class=\"ansi-green-fg\">Int</span></span>] = <span style=\"color: white\"><span class=\"ansi-white-fg\">[lazy]</span></span>\n",
       "<span style=\"color: rgb(0, 187, 187)\"><span class=\"ansi-cyan-fg\">goodHugeList</span></span>: <span style=\"color: rgb(0, 187, 0)\"><span class=\"ansi-green-fg\">List</span></span>[<span style=\"color: rgb(0, 187, 0)\"><span class=\"ansi-green-fg\">Int</span></span>] = <span style=\"color: yellow\"><span class=\"ansi-yellow-fg\">List</span></span>(<span style=\"color: rgb(0, 187, 0)\"><span class=\"ansi-green-fg\">1002</span></span>, <span style=\"color: rgb(0, 187, 0)\"><span class=\"ansi-green-fg\">1004</span></span>)</code></pre>\n",
       "</div>"
      ],
      "text/plain": [
       "\u001b[36mhugeList\u001b[39m: \u001b[32mList\u001b[39m[\u001b[32mInt\u001b[39m] = \u001b[37m[lazy]\u001b[39m\n",
       "\u001b[36mgoodHugeList\u001b[39m: \u001b[32mList\u001b[39m[\u001b[32mInt\u001b[39m] = \u001b[33mList\u001b[39m(\u001b[32m1002\u001b[39m, \u001b[32m1004\u001b[39m)"
      ]
     },
     "metadata": {},
     "output_type": "display_data"
    }
   ],
   "source": [
    "lazy val hugeList = (1 to 1000000).toList\n",
    "val goodHugeList = hugeList\n",
    "    .view // This works efficiently\n",
    "    .map(_ + 1)\n",
    "    .map(_ * 2)\n",
    "    .filter(_ > 1000)\n",
    "    .take(2).toList"
   ]
  },
  {
   "cell_type": "markdown",
   "id": "e828d900-58d2-4442-9dc1-f4f107c7f7ef",
   "metadata": {
    "editable": true,
    "slideshow": {
     "slide_type": ""
    },
    "tags": []
   },
   "source": [
    "Source📝[^1]: Demonstrates lazy evaluation using views to avoid creating intermediate collections.\n",
    "\n",
    "```mermaid\n",
    "---\n",
    "config:\n",
    "  look: neo\n",
    "  theme: default\n",
    "---\n",
    "graph TD\n",
    "    A[\"List(1, 2, 3)\"]\n",
    "    \n",
    "    A --> B[\"With .view<br/>(LAZY)\"]\n",
    "    A --> C[\"Without .view<br/>(STRICT)\"]\n",
    "    \n",
    "    B --> B1[\"Element 1: 1<br/>→ (+1) → 2<br/>→ (*2) → 4\"]\n",
    "    B --> B2[\"Element 2: 2<br/>→ (+1) → 3<br/>→ (*2) → 6\"]\n",
    "    B --> B3[\"Element 3: 3<br/>→ (+1) → 4<br/>→ (*2) → 8\"]\n",
    "    \n",
    "    B1 --> B_END[\"Result: 4, 6, 8<br/>(One element<br/>at a time)\"]\n",
    "    B2 --> B_END\n",
    "    B3 --> B_END\n",
    "    \n",
    "    C --> C1[\"Step 1: map(+1)<br/>[1,2,3] → [2,3,4]<br/>(Entire collection)\"]\n",
    "    C1 --> C2[\"Step 2: map(*2)<br/>[2,3,4] → [4,6,8]<br/>(Entire collection)\"]\n",
    "    C2 --> C_END[\"Result: 4, 6, 8<br/>(Full collections<br/>at each step)\"]\n",
    "    \n",
    "    style B fill:#c8e6c9\n",
    "    style C fill:#ffccbc\n",
    "    style B_END fill:#a5d6a7\n",
    "    style C_END fill:#ffb74d\n",
    "    style B1 fill:#e8f5e9\n",
    "    style B2 fill:#e8f5e9\n",
    "    style B3 fill:#e8f5e9\n",
    "    style C1 fill:#ffe0b2\n",
    "    style C2 fill:#ffe0b2\n",
    "```\n",
    "\n",
    "**Key Difference:**\n",
    "- 🟢 **Lazy (with .view)**: Each element flows through ALL operations one at a time\n",
    "- 🟠 **Strict (without .view)**: Each operation completes on ENTIRE collection before next operation\n",
    "- \n",
    "**When to use views**:\n",
    "1. Chaining multiple transformations on large collections\n",
    "2. When you only need part of the result (e.g., with `take`)\n",
    "3. To avoid memory allocation for intermediate results\n",
    "4. Working with infinite sequences\n",
    "\n",
    "> Views compute elements every time they are accessed. If accessing multiple times, use strict collection.\n",
    "{:.yellow}\n",
    "\n",
    "Performance Characteristics\n",
    "\n",
    "Understanding performance is crucial for choosing the right collection[^1].\n",
    "\n",
    "### Sequence Operations Performance\n",
    "\n",
    "| Operation | List | Vector | ArrayBuffer | Array |\n",
    "|-----------|------|--------|-------------|-------|\n",
    "| head | C | eC | C | C |\n",
    "| tail | C | eC | L | L |\n",
    "| apply (indexed access) | L | eC | C | C |\n",
    "| update | L | eC | C | C |\n",
    "| prepend (::) | C | eC | L | - |\n",
    "| append (:+) | L | eC | aC | - |\n",
    "| insert | - | - | L | - |\n",
    "\n",
    "**Legend**:\n",
    "- **C**: Constant time - O(1)\n",
    "- **eC**: Effectively constant time - O(log₃₂ n), very fast in practice\n",
    "- **aC**: Amortized constant time - O(1) on average\n",
    "- **L**: Linear time - O(n)\n",
    "\n",
    "## Variance and Type Parameters\n",
    "\n",
    "Collections in Scala use **variance annotations** to control subtyping relationships[^8]. In type theory, variance is defined in terms of subtyping relations. If we have types A and B where `A <: B` (`A` is a subtype of `B`), then for a generic type `F[+T]`, `F[-T]`, or `F[T]`, we examine how the subtyping relationship between `F[A]` and `F[B]` behaves.\n",
    "\n",
    "### Covariance (+A)\n",
    "\n",
    "A type `F[+A]` is **covariant** if `F[Dog]` is a subtype of `F[Animal]` when `Dog` is a subtype of `Animal`.\n"
   ]
  },
  {
   "cell_type": "code",
   "execution_count": 22,
   "id": "0c8c0166-77d2-477b-acb2-a6fc54851105",
   "metadata": {},
   "outputs": [
    {
     "data": {
      "text/plain": [
       "defined \u001b[32mtrait\u001b[39m \u001b[36mAnimal\u001b[39m\n",
       "defined \u001b[32mclass\u001b[39m \u001b[36mDog\u001b[39m\n",
       "defined \u001b[32mclass\u001b[39m \u001b[36mCat\u001b[39m"
      ]
     },
     "execution_count": 22,
     "metadata": {},
     "output_type": "execute_result"
    }
   ],
   "source": [
    "sealed trait Animal {\n",
    "    def name: String\n",
    "    override def toString():String = s\"Name: $name\"\n",
    "}\n",
    "\n",
    "case class Dog(name: String) extends Animal\n",
    "case class Cat(name: String) extends Animal"
   ]
  },
  {
   "cell_type": "markdown",
   "id": "b4b52b13-80d0-4285-984b-39497e054826",
   "metadata": {},
   "source": [
    "- `List` is declared as `List[+A]` where `+` indicates covariance\n",
    "- Since `Dog <: Animal` (Dog is subtype of Animal)\n",
    "- Then `List[Dog] <: List[Animal]` (covariance preserved)\n",
    "- This is safe because List is **immutable** - we only read from it, never write"
   ]
  },
  {
   "cell_type": "code",
   "execution_count": 26,
   "id": "5acbf801-aebf-48d7-b0b4-cfe5ecfec9da",
   "metadata": {},
   "outputs": [
    {
     "data": {
      "text/plain": [
       "\u001b[36mdogs\u001b[39m: \u001b[32mList\u001b[39m[\u001b[32mDog\u001b[39m] = \u001b[33mList\u001b[39m(\u001b[33mDog\u001b[39m(name = \u001b[32m\"Liela\"\u001b[39m), \u001b[33mDog\u001b[39m(name = \u001b[32m\"Rex\"\u001b[39m))\n",
       "\u001b[36manimals\u001b[39m: \u001b[32mList\u001b[39m[\u001b[32mAnimal\u001b[39m] = \u001b[33mList\u001b[39m(\u001b[33mDog\u001b[39m(name = \u001b[32m\"Liela\"\u001b[39m), \u001b[33mDog\u001b[39m(name = \u001b[32m\"Rex\"\u001b[39m))"
      ]
     },
     "execution_count": 26,
     "metadata": {},
     "output_type": "execute_result"
    }
   ],
   "source": [
    "val dogs: List[Dog]  = List(Dog(\"Liela\"), Dog(\"Rex\"))\n",
    "val animals:List[Animal] = dogs  // ✓"
   ]
  },
  {
   "cell_type": "code",
   "execution_count": 27,
   "id": "8ac9a18e-4439-4659-abed-f6012bbc4d48",
   "metadata": {},
   "outputs": [
    {
     "data": {
      "text/plain": [
       "defined \u001b[32mfunction\u001b[39m \u001b[36mprintAllAnimals\u001b[39m"
      ]
     },
     "execution_count": 27,
     "metadata": {},
     "output_type": "execute_result"
    }
   ],
   "source": [
    "def printAllAnimals(axs: List[Animal]):String = axs.mkString(\", \")"
   ]
  },
  {
   "cell_type": "markdown",
   "id": "7dbc4b8e-94f0-4dda-bf7e-52261359407e",
   "metadata": {},
   "source": [
    "*Functors*: Covariant type constructors are functors that preserve subtyping direction:\n",
    "\n",
    "If $A <: B$, then $F[A] <: F[B]$ (same direction)\n",
    "\n",
    "*Liskov Substitution*: You can substitute `List[Dog]` where `List[Animal]` is expected because:\n",
    "- All operations on `List[Animal]` work on `List[Dog]`\n",
    "- Reading returns Dogs, which are Animals (safe upcast)\n",
    "- No operations try to insert Cats into List (immutability prevents this)\n",
    "  \n",
    "Type Hierarchy:\n",
    "\n",
    "```\n",
    "        Animal  |    List[Animal]   \n",
    "         /  \\   |         /  \\\n",
    "       Dog  Cat |   List[Dog] List[Cat]\n",
    "   \n",
    "   (covariant relationship preserved)\n",
    "```\n",
    "\n",
    "The following code work because `List` is covariant:"
   ]
  },
  {
   "cell_type": "code",
   "execution_count": 28,
   "id": "df61888e-2e53-4400-8b4a-118b5836df7e",
   "metadata": {},
   "outputs": [
    {
     "data": {
      "text/plain": [
       "\u001b[36mres27\u001b[39m: \u001b[32mString\u001b[39m = \u001b[32m\"Name: Liela, Name: Rex\"\u001b[39m"
      ]
     },
     "execution_count": 28,
     "metadata": {},
     "output_type": "execute_result"
    }
   ],
   "source": [
    "printAllAnimals(dogs)"
   ]
  },
  {
   "cell_type": "markdown",
   "id": "47ff4b56-8206-4329-93c2-f83b1bf4f6f2",
   "metadata": {},
   "source": [
    "Source📝[^8]: Demonstrates covariance - how `List[Dog]` can be used as `List[Animal]` safely.\n",
    "\n",
    "### Contravariance (-A)\n",
    "\n",
    "A type `F[-A]` is **contravariant** if `F[Animal]` is a subtype of `F[Dog]` when `Dog` is a subtype of `Animal`[^9].\n",
    "\n",
    "- `Function1` is declared as `Function1[-T, +R]`\n",
    "  - `-T`: Contravariant in parameter type (input)\n",
    "  - `+R`: Covariant in return type (output)\n",
    "\n",
    "If `Dog <: Animal`, then `Function1[Animal, R] <: Function1[Dog, R]`\n",
    "  ```scala\n",
    "    trait Function1[-T, +R] {\n",
    "      def apply(x: T): R\n",
    "    }\n",
    "  ```\n",
    "> Notice the **reversal**: Animal function is subtype of Dog function\n",
    "\n",
    "Contravariance is ideal for containers or classes that consume only values of a specific type. Think of a printer, a logger, or a data sink:"
   ]
  },
  {
   "cell_type": "code",
   "execution_count": 37,
   "id": "f5aa54c1-9f81-463c-a3bd-95dce290e492",
   "metadata": {},
   "outputs": [
    {
     "data": {
      "text/plain": [
       "defined \u001b[32mtrait\u001b[39m \u001b[36mPrinter\u001b[39m\n",
       "\u001b[36manimalPrinter\u001b[39m: \u001b[32mPrinter\u001b[39m[\u001b[32mAnimal\u001b[39m] = ammonite.$sess.cmd36$Helper$$anonfun$1@21d0cd41"
      ]
     },
     "execution_count": 37,
     "metadata": {},
     "output_type": "execute_result"
    }
   ],
   "source": [
    "// Custom example\n",
    "trait Printer[-T] {\n",
    "  def print(value: T): Unit\n",
    "}\n",
    "\n",
    "val animalPrinter: Printer[Animal] = (a: Animal) => println(s\"The $a is the animal\")"
   ]
  },
  {
   "cell_type": "markdown",
   "id": "e00e3e9f-83c3-4145-ad40-62a3705b59e1",
   "metadata": {},
   "source": [
    "Following code works because `Printer` is contravariant"
   ]
  },
  {
   "cell_type": "code",
   "execution_count": 38,
   "id": "43ecee04-5195-4dcf-a43b-a911d1ce81d7",
   "metadata": {},
   "outputs": [
    {
     "name": "stdout",
     "output_type": "stream",
     "text": [
      "The Name: Tossy is the animal\n"
     ]
    },
    {
     "data": {
      "text/plain": [
       "\u001b[36mdogPrinter\u001b[39m: \u001b[32mPrinter\u001b[39m[\u001b[32mDog\u001b[39m] = ammonite.$sess.cmd36$Helper$$anonfun$1@21d0cd41"
      ]
     },
     "execution_count": 38,
     "metadata": {},
     "output_type": "execute_result"
    }
   ],
   "source": [
    "val dogPrinter: Printer[Dog] = animalPrinter\n",
    "dogPrinter.print(Dog(\"Tossy\"))"
   ]
  },
  {
   "cell_type": "markdown",
   "id": "c80fa6e6-0d92-4fc8-8ae4-4fc9337a6a85",
   "metadata": {},
   "source": [
    "Since every *Dog IS an Animal*, this always works because according to **Liskov Substitution Principle**, it's safe to substitute `T` for `U` if you can use `T` wherever `U` is required.\n",
    "\n",
    "Source📝[^9]: Demonstrates contravariance - how function parameter types work in the \"opposite\" direction of covariance.\n",
    "\n",
    "**Mnemonic**: \n",
    "- **Producers** (outputs) are covariant (+): Can provide more specific type\n",
    "- **Consumers** (inputs) are contravariant (-): Must accept more general type\n",
    "\n",
    "### Invariance (A)\n",
    "\n",
    "A type `F[A]` is **invariant** if there's no subtyping relationship between `F[Dog]` and `F[Animal]`, regardless of the relationship between `Dog` and `Animal`.\n",
    "\n",
    "> Arrays and mutable collections declared as `Array[A]`, `ArrayBuffer[A]` (no variance annotation)\n",
    "{:.yellow}\n",
    "\n",
    "Arrays are invariant in Scala; therefore, the following code won't compile."
   ]
  },
  {
   "cell_type": "code",
   "execution_count": 39,
   "id": "61a61807-c11d-4cf1-8dd8-94f967703458",
   "metadata": {},
   "outputs": [
    {
     "name": "stderr",
     "output_type": "stream",
     "text": [
      "cmd39.sc:2: type mismatch;\n",
      " found   : Array[cmd39.this.cmd21.Dog]\n",
      " required: Array[cmd39.this.cmd21.Animal]\n",
      "Note: cmd39.this.cmd21.Dog <: cmd39.this.cmd21.Animal, but class Array is invariant in type T.\n",
      "You may wish to investigate a wildcard type such as `_ <: cmd39.this.cmd21.Animal`. (SLS 3.2.10)\n",
      "val animals: Array[Animal] = dogs\n",
      "                             ^Compilation Failed"
     ]
    },
    {
     "ename": "",
     "evalue": "",
     "output_type": "error",
     "traceback": [
      "Compilation Failed"
     ]
    }
   ],
   "source": [
    "val dogs: Array[Dog] = Array(Dog(\"Liela\"),Dog(\"Liela\"))\n",
    "val animals: Array[Animal] = dogs"
   ]
  },
  {
   "cell_type": "markdown",
   "id": "149df1a6-7925-4e8a-8668-075cc7c0bcc2",
   "metadata": {},
   "source": [
    "Example📝[^9]: Shows why mutable collections must be invariant for type safety.\n",
    "\n",
    "Variance Summary Table\n",
    "\n",
    "| Variance | Notation | Subtyping | Use Case | Examples |\n",
    "|----------|----------|-----------|----------|----------|\n",
    "| Covariant | `+A` | `F[Dog] <: F[Animal]` | Producers (output) | `List[+A]`, `Vector[+A]`, `Option[+A]` |\n",
    "| Contravariant | `-A` | `F[Animal] <: F[Dog]` | Consumers (input) | `Function1[-T, +R]` (parameter type) |\n",
    "| Invariant | `A` | No relation | Producers + Consumers | `Array[A]`, `ArrayBuffer[A]` |\n",
    "\n",
    "## Iterators\n",
    "**Iterators** provide a way to access collection elements sequentially without directly using `hasNext` and `next`[^2].\n"
   ]
  },
  {
   "cell_type": "code",
   "execution_count": 55,
   "id": "a03b22cb-5388-4b52-acb7-4ae64aed7808",
   "metadata": {},
   "outputs": [
    {
     "data": {
      "text/plain": [
       "\u001b[36mxs\u001b[39m: \u001b[32mList\u001b[39m[\u001b[32mInt\u001b[39m] = \u001b[33mList\u001b[39m(\u001b[32m1\u001b[39m, \u001b[32m2\u001b[39m, \u001b[32m3\u001b[39m, \u001b[32m4\u001b[39m, \u001b[32m5\u001b[39m)\n",
       "\u001b[36mit\u001b[39m: \u001b[32mIterator\u001b[39m[\u001b[32mInt\u001b[39m] = \u001b[32mnon-empty iterator\u001b[39m"
      ]
     },
     "execution_count": 55,
     "metadata": {},
     "output_type": "execute_result"
    }
   ],
   "source": [
    "val xs = (1 to 5).toList\n",
    "val it = xs.iterator"
   ]
  },
  {
   "cell_type": "markdown",
   "id": "e4523ca0-1207-4038-b82f-5c9559e8f596",
   "metadata": {},
   "source": [
    "❌ Don't use this because this is not idiomatic:"
   ]
  },
  {
   "cell_type": "code",
   "execution_count": 53,
   "id": "76715c63-187f-4341-bcbd-a47c0a6782bd",
   "metadata": {},
   "outputs": [
    {
     "name": "stdout",
     "output_type": "stream",
     "text": [
      "12345"
     ]
    }
   ],
   "source": [
    "while (it.hasNext) {\n",
    "  val elem = it.next()\n",
    "  print(elem)\n",
    "}"
   ]
  },
  {
   "cell_type": "code",
   "execution_count": null,
   "id": "999e9210-024f-4ef9-ae4c-ae00cad13dca",
   "metadata": {},
   "outputs": [],
   "source": [
    "✅ Instead, use Scala-style:"
   ]
  },
  {
   "cell_type": "code",
   "execution_count": 56,
   "id": "f90471e0-a2de-428d-86e5-73f00b40ec12",
   "metadata": {},
   "outputs": [
    {
     "name": "stdout",
     "output_type": "stream",
     "text": [
      "12345"
     ]
    },
    {
     "data": {
      "text/plain": [
       "\u001b[36mxs\u001b[39m: \u001b[32mList\u001b[39m[\u001b[32mInt\u001b[39m] = \u001b[33mList\u001b[39m(\u001b[32m1\u001b[39m, \u001b[32m2\u001b[39m, \u001b[32m3\u001b[39m, \u001b[32m4\u001b[39m, \u001b[32m5\u001b[39m)\n",
       "\u001b[36mit\u001b[39m: \u001b[32mIterator\u001b[39m[\u001b[32mInt\u001b[39m] = \u001b[32mempty iterator\u001b[39m"
      ]
     },
     "execution_count": 56,
     "metadata": {},
     "output_type": "execute_result"
    }
   ],
   "source": [
    "val xs = (1 to 5).toList\n",
    "val it = xs.iterator\n",
    "\n",
    "it.foreach( e => print(e))"
   ]
  },
  {
   "cell_type": "markdown",
   "id": "c719427b-ac32-474f-b183-134668b9529b",
   "metadata": {},
   "source": [
    "Iterators are lazy"
   ]
  },
  {
   "cell_type": "code",
   "execution_count": 58,
   "id": "41b0c1d2-ccab-42d6-96c9-b0191640dfac",
   "metadata": {},
   "outputs": [
    {
     "name": "stdout",
     "output_type": "stream",
     "text": [
      "2\n",
      "4\n",
      "6\n"
     ]
    },
    {
     "data": {
      "text/plain": [
       "\u001b[36mit\u001b[39m: \u001b[32mIterator\u001b[39m[\u001b[32mInt\u001b[39m] = \u001b[32mempty iterator\u001b[39m\n",
       "\u001b[36mmapped\u001b[39m: \u001b[32mIterator\u001b[39m[\u001b[32mInt\u001b[39m] = \u001b[32mempty iterator\u001b[39m"
      ]
     },
     "execution_count": 58,
     "metadata": {},
     "output_type": "execute_result"
    }
   ],
   "source": [
    "val it = List(1, 2, 3).iterator\n",
    "val mapped = it.map(_ * 2) // still not computed\n",
    "mapped.foreach(println) // computed"
   ]
  },
  {
   "cell_type": "markdown",
   "id": "4a9e51ba-4b9f-4900-bece-37fc0bfb2a55",
   "metadata": {},
   "source": [
    "Above code `mapped` is just a lazy iterator: nothing computed until `foreach`.\n",
    "\n",
    "Iterators are consumed after use, for example:"
   ]
  },
  {
   "cell_type": "code",
   "execution_count": 4,
   "id": "2d6c153e-2338-4591-83c8-73b09ac41acd",
   "metadata": {},
   "outputs": [
    {
     "name": "stdout",
     "output_type": "stream",
     "text": [
      "12345"
     ]
    },
    {
     "data": {
      "text/plain": [
       "\u001b[36mit1\u001b[39m: \u001b[32mIterator\u001b[39m[\u001b[32mInt\u001b[39m] = \u001b[32mempty iterator\u001b[39m\n",
       "\u001b[36mres3_1\u001b[39m: \u001b[32mIterator\u001b[39m[\u001b[32mInt\u001b[39m] = \u001b[32mempty iterator\u001b[39m"
      ]
     },
     "execution_count": 4,
     "metadata": {},
     "output_type": "execute_result"
    }
   ],
   "source": [
    "val it1 = (1 to 5).iterator\n",
    "it1.foreach(print)"
   ]
  },
  {
   "cell_type": "markdown",
   "id": "e750bd1f-d995-4be4-b357-2aca980788c9",
   "metadata": {},
   "source": [
    "Iterator exhausted! Single-use nature.\n",
    "\n",
    "> An iterator maintains internal state (current position). Once elements consumed, they're gone."
   ]
  },
  {
   "cell_type": "code",
   "execution_count": 5,
   "id": "a4c25561-31b3-458d-b393-d8bfa52383f2",
   "metadata": {},
   "outputs": [],
   "source": [
    "it1.foreach(print)"
   ]
  },
  {
   "cell_type": "markdown",
   "id": "13f90c9f-a4dd-4b18-9cb6-3db173bad53f",
   "metadata": {},
   "source": [
    "Convert iterator to collection"
   ]
  },
  {
   "cell_type": "code",
   "execution_count": 9,
   "id": "c0e4fcbd-d9e1-431f-91f0-c8baf36e4f35",
   "metadata": {},
   "outputs": [
    {
     "data": {
      "text/plain": [
       "\u001b[36mit1\u001b[39m: \u001b[32mIterator\u001b[39m[\u001b[32mInt\u001b[39m] = \u001b[32mempty iterator\u001b[39m\n",
       "\u001b[36mres8_1\u001b[39m: \u001b[32mList\u001b[39m[\u001b[32mInt\u001b[39m] = \u001b[33mList\u001b[39m(\u001b[32m1\u001b[39m, \u001b[32m2\u001b[39m, \u001b[32m3\u001b[39m, \u001b[32m4\u001b[39m, \u001b[32m5\u001b[39m)\n",
       "\u001b[36mit2\u001b[39m: \u001b[32mIterator\u001b[39m[\u001b[32mInt\u001b[39m] = \u001b[32mempty iterator\u001b[39m\n",
       "\u001b[36mres8_3\u001b[39m: \u001b[32mVector\u001b[39m[\u001b[32mInt\u001b[39m] = \u001b[33mVector\u001b[39m(\u001b[32m1\u001b[39m, \u001b[32m2\u001b[39m, \u001b[32m3\u001b[39m, \u001b[32m4\u001b[39m, \u001b[32m5\u001b[39m)"
      ]
     },
     "execution_count": 9,
     "metadata": {},
     "output_type": "execute_result"
    }
   ],
   "source": [
    "val it1 = (1 to 5).iterator\n",
    "it1.toList\n",
    "val it2 = (1 to 5).iterator\n",
    "it2.toVector"
   ]
  },
  {
   "cell_type": "markdown",
   "id": "e1e1b72e-e6f9-4f14-8af3-de1fd49384ce",
   "metadata": {},
   "source": [
    "Source📝[^2]: Shows how to work with iterators in Scala, emphasising they're used differently than in Java\n",
    "\n",
    "**When to Use Iterators**:\n",
    "1. **Large files**: Process line-by-line without loading entire file\n",
    "2. **Streaming data**: Process elements as they arrive\n",
    "3. **Memory constraints**: Avoid creating intermediate collections\n",
    "4. **One-pass algorithms**: When you only need to traverse once\n",
    "\n",
    "**Performance Benefits**:\n",
    "- **Memory**: O(1) space instead of O(n) for collections\n",
    "- **Time**: <span>*Lazy evaluation* - compute only what's needed</span>{:gtxt}\n",
    "- **Composition**: Multiple operations fused into a single pass\n",
    "\n",
    "**Caveat**: *Iterators can't be reused*{:rtxt}. If needed, multiple passes, use a collection or create a new iterator.\n",
    "\n",
    "**Methods Available**: Iterators support most collection methods:\n",
    "- Transformers: `map`, `filter`, `flatMap`, `collect`\n",
    "- Reducers: `fold`, `reduce`, `sum`, `count`\n",
    "- Queries: `find`, `exists`, `forall`\n",
    "- <span>But **not** indexed access like `apply(i)` or `length`</span>{:rtxt}\n",
    "\n",
    "## Ranges\n",
    "\n",
    "Range represents an **arithmetic sequence** including evenly spaced integers or characters[^4]:\n",
    "\n",
    "$$a_n = a_1 + (n-1)d$$\n",
    "Where $a_1$ is start, $d$ is step, and $n$ is position.\n",
    "\n",
    "Memory efficiency, Range stores only three values:\n",
    "\n",
    "```scala\n",
    "case class Range(start: Int, end: Int, step: Int)\n",
    "```\n",
    "For example, So `1 to 1000000` uses ~12 bytes regardless of size! ✅\n",
    "\n",
    "- `to` creates **inclusive** range: `1 to 5` includes both 1 and 5\n",
    "- `until` creates **exclusive** range: `1 until 5` includes 1-4 but not 5\n",
    "\n",
    "Syntax Sugar: `to`, `until`, and `by` are methods:\n",
    "\n",
    "`(end: Int): scala.collection.immutable.Range.Inclusive`\n",
    "\n",
    "Parameters\n",
    "- `end`: The final bound of the range to make.\n",
    "\n",
    "  "
   ]
  },
  {
   "cell_type": "code",
   "execution_count": 11,
   "id": "578de8ab-4a87-47d9-85fc-8d173467be87",
   "metadata": {},
   "outputs": [
    {
     "data": {
      "text/plain": [
       "\u001b[36mres10_0\u001b[39m: \u001b[32mRange\u001b[39m.\u001b[32mInclusive\u001b[39m = \u001b[33mRange\u001b[39m(\u001b[32m1\u001b[39m, \u001b[32m2\u001b[39m, \u001b[32m3\u001b[39m, \u001b[32m4\u001b[39m, \u001b[32m5\u001b[39m)\n",
       "\u001b[36mres10_1\u001b[39m: \u001b[32mcollection\u001b[39m.\u001b[32mimmutable\u001b[39m.\u001b[32mNumericRange\u001b[39m.\u001b[32mInclusive\u001b[39m[\u001b[32mChar\u001b[39m] = \u001b[33mNumericRange\u001b[39m(\n",
       "  \u001b[32m'a'\u001b[39m,\n",
       "  \u001b[32m'b'\u001b[39m,\n",
       "  \u001b[32m'c'\u001b[39m,\n",
       "  \u001b[32m'd'\u001b[39m,\n",
       "  \u001b[32m'e'\u001b[39m\n",
       ")\n",
       "\u001b[36mres10_2\u001b[39m: \u001b[32mRange\u001b[39m = \u001b[33mRange\u001b[39m(\u001b[32m1\u001b[39m, \u001b[32m2\u001b[39m, \u001b[32m3\u001b[39m, \u001b[32m4\u001b[39m)"
      ]
     },
     "execution_count": 11,
     "metadata": {},
     "output_type": "execute_result"
    }
   ],
   "source": [
    "1 to 5 // 1.to(5)\n",
    "'a' to 'e'\n",
    "1 until 5"
   ]
  },
  {
   "cell_type": "markdown",
   "id": "aa84dcab-14b9-424c-a45f-efcbf822f23e",
   "metadata": {},
   "source": [
    "Replace the `for` loop:"
   ]
  },
  {
   "cell_type": "code",
   "execution_count": 15,
   "id": "56eb9612-e5b2-4ec3-9274-9c3d27f3c820",
   "metadata": {},
   "outputs": [
    {
     "name": "stdout",
     "output_type": "stream",
     "text": [
      "1234512345"
     ]
    }
   ],
   "source": [
    "for (i <- 1 to 5) {\n",
    "  print(i)\n",
    "} // can be replaced by\n",
    "\n",
    "(1 to 5).foreach(print)"
   ]
  },
  {
   "cell_type": "markdown",
   "id": "fc3dd607-b922-4e6c-a886-82cb9f9425a6",
   "metadata": {},
   "source": [
    "> These methods come from `RichInt` via implicit conversion.\n",
    "\n",
    "Ranges with step:\n",
    "- `by` specifies step size: `1 to 10 by 2` generates 1, 3, 5, 7, 9\n",
    "- Negative step counts backward: `10 to 1 by -2` generates 10, 8, 6, 4, 2\n",
    "\n",
    "`scala.collection.immutable.Range`\n",
    "Create a new range with the `start` and `end` values of this range and\n",
    " a new `step`.\n",
    " \n",
    "Returns: a new range with a different step"
   ]
  },
  {
   "cell_type": "code",
   "execution_count": 13,
   "id": "76dbbe7c-3322-49a7-8b3a-aeadc4946ba0",
   "metadata": {},
   "outputs": [
    {
     "data": {
      "text/plain": [
       "\u001b[36mres12_0\u001b[39m: \u001b[32mRange\u001b[39m = \u001b[33mRange\u001b[39m(\u001b[32m1\u001b[39m, \u001b[32m3\u001b[39m, \u001b[32m5\u001b[39m, \u001b[32m7\u001b[39m, \u001b[32m9\u001b[39m)\n",
       "\u001b[36mres12_1\u001b[39m: \u001b[32mRange\u001b[39m = \u001b[33mRange\u001b[39m(\u001b[32m10\u001b[39m, \u001b[32m8\u001b[39m, \u001b[32m6\u001b[39m, \u001b[32m4\u001b[39m, \u001b[32m2\u001b[39m)"
      ]
     },
     "execution_count": 13,
     "metadata": {},
     "output_type": "execute_result"
    }
   ],
   "source": [
    "1 to 10 by 2 // 1.to(10).by(2)\n",
    "10 to 1 by -2"
   ]
  },
  {
   "cell_type": "code",
   "execution_count": 26,
   "id": "277e91a7-c50f-4b3b-a1a9-017e6a60444c",
   "metadata": {},
   "outputs": [
    {
     "name": "stdout",
     "output_type": "stream",
     "text": [
      "12345"
     ]
    }
   ],
   "source": [
    "for (i <- 1 to 5) {\n",
    "  print(i)\n",
    "}"
   ]
  },
  {
   "cell_type": "markdown",
   "id": "10fc42dd-3892-461b-84d9-f41548a4bc58",
   "metadata": {},
   "source": [
    "Source📝[^4]: Shows how Range provides a memory-efficient representation of numeric sequences.\n",
    "\n",
    "## Option and Collections\n",
    "\n",
    "**Option** integrates seamlessly with collections, acting as a collection with 0 or 1 element[^10].\n"
   ]
  },
  {
   "cell_type": "code",
   "execution_count": 16,
   "id": "1c63586f-1cbd-497c-96d3-548fbe0b6a6d",
   "metadata": {},
   "outputs": [
    {
     "data": {
      "text/plain": [
       "\u001b[36ms\u001b[39m: \u001b[32mOption\u001b[39m[\u001b[32mInt\u001b[39m] = \u001b[33mSome\u001b[39m(value = \u001b[32m2\u001b[39m)\n",
       "\u001b[36mres15_1\u001b[39m: \u001b[32mOption\u001b[39m[\u001b[32mInt\u001b[39m] = \u001b[33mSome\u001b[39m(value = \u001b[32m6\u001b[39m)\n",
       "\u001b[36mn\u001b[39m: \u001b[32mOption\u001b[39m[\u001b[32mInt\u001b[39m] = \u001b[32mNone\u001b[39m\n",
       "\u001b[36mres15_3\u001b[39m: \u001b[32mOption\u001b[39m[\u001b[32mInt\u001b[39m] = \u001b[32mNone\u001b[39m"
      ]
     },
     "execution_count": 16,
     "metadata": {},
     "output_type": "execute_result"
    }
   ],
   "source": [
    "val s: Option[Int] = Some(2)\n",
    "s.map(_ * 3)\n",
    "\n",
    "val n: Option[Int] = None\n",
    "n.map(_ * 3)"
   ]
  },
  {
   "cell_type": "markdown",
   "id": "046de0f2-c5bf-475b-b069-08f687e82ec2",
   "metadata": {},
   "source": [
    "`flatMap[B](f: Int => Option[B]): Option[B]` enables chaining operations that return  `Option`:"
   ]
  },
  {
   "cell_type": "code",
   "execution_count": 19,
   "id": "fee5baca-98a0-46b4-acda-f67f1746bd2a",
   "metadata": {},
   "outputs": [
    {
     "data": {
      "text/plain": [
       "defined \u001b[32mfunction\u001b[39m \u001b[36mdivide\u001b[39m"
      ]
     },
     "execution_count": 19,
     "metadata": {},
     "output_type": "execute_result"
    }
   ],
   "source": [
    "def divide(a: Int, b: Int): Option[Int] = \n",
    "    if (b == 0) None else Some (a /b)"
   ]
  },
  {
   "cell_type": "markdown",
   "id": "8b3b4bfa-5f4b-4b69-894d-b82b902f903f",
   "metadata": {},
   "source": [
    "for example,"
   ]
  },
  {
   "cell_type": "code",
   "execution_count": 27,
   "id": "5747c243-84de-4a4c-9280-272014984a7a",
   "metadata": {},
   "outputs": [
    {
     "data": {
      "text/plain": [
       "\u001b[36mres26\u001b[39m: \u001b[32mOption\u001b[39m[\u001b[32mInt\u001b[39m] = \u001b[33mSome\u001b[39m(value = \u001b[32m5\u001b[39m)"
      ]
     },
     "execution_count": 27,
     "metadata": {},
     "output_type": "execute_result"
    }
   ],
   "source": [
    "Some(10).flatMap(a => divide(a, 2))"
   ]
  },
  {
   "cell_type": "code",
   "execution_count": 28,
   "id": "74001e15-ba70-459b-b100-a8dcca1d77c7",
   "metadata": {},
   "outputs": [
    {
     "data": {
      "text/plain": [
       "\u001b[36mres27\u001b[39m: \u001b[32mOption\u001b[39m[\u001b[32mInt\u001b[39m] = \u001b[32mNone\u001b[39m"
      ]
     },
     "execution_count": 28,
     "metadata": {},
     "output_type": "execute_result"
    }
   ],
   "source": [
    "Some(10).flatMap(a => divide(a, 0))"
   ]
  },
  {
   "cell_type": "markdown",
   "id": "48b6665b-962b-4826-ba42-700b30219ae9",
   "metadata": {},
   "source": [
    "**Monad Operations**:\n",
    "```scala\n",
    "// unit (constructor)\n",
    "def unit[A](x: A): Option[A] = Some(x)\n",
    "\n",
    "// flatMap (bind)\n",
    "Some(x).flatMap(f) = f(x)\n",
    "None.flatMap(f) = None\n",
    "```"
   ]
  },
  {
   "cell_type": "markdown",
   "id": "e237abe5-6faa-4c44-ba5e-4f1eee293be2",
   "metadata": {},
   "source": [
    "*for comprehension* with `Option` (monadic composition). If any step returns `None`, the entire chain short-circuits to `None`. **Short-Circuiting**: In the for comprehension example:"
   ]
  },
  {
   "cell_type": "code",
   "execution_count": 25,
   "id": "5195f06f-c355-4681-9ff6-ad4e8e32bbe6",
   "metadata": {},
   "outputs": [
    {
     "data": {
      "text/plain": [
       "\u001b[36mresult\u001b[39m: \u001b[32mOption\u001b[39m[\u001b[32mInt\u001b[39m] = \u001b[32mNone\u001b[39m"
      ]
     },
     "execution_count": 25,
     "metadata": {},
     "output_type": "execute_result"
    }
   ],
   "source": [
    "val result = for {\n",
    "  x <- divide(10, 2)   // Some(5)\n",
    "  y <- divide(x, 5)    // Some(1)\n",
    "  z <- divide(y, 0)    // None - short circuits here\n",
    "} yield z"
   ]
  },
  {
   "cell_type": "markdown",
   "id": "4a7436fd-7ada-4d32-9b60-63a1ba05434e",
   "metadata": {},
   "source": [
    "- **For comprehensions** provide clean syntax for chaining:\n",
    "  - If any step returns `None`, the entire chain short-circuits to `None`\n",
    "  - Otherwise, yields the final value\n",
    "\n",
    "> Once `None` is encountered, no further operations are executed.\n",
    "\n",
    "Converting between Option and collections:"
   ]
  },
  {
   "cell_type": "code",
   "execution_count": 22,
   "id": "76ecf978-d64a-4fa9-9698-0fc6a015065c",
   "metadata": {},
   "outputs": [
    {
     "data": {
      "text/plain": [
       "\u001b[36moptSome\u001b[39m: \u001b[32mSome\u001b[39m[\u001b[32mInt\u001b[39m] = \u001b[33mSome\u001b[39m(value = \u001b[32m2\u001b[39m)\n",
       "\u001b[36mres21_1\u001b[39m: \u001b[32mList\u001b[39m[\u001b[32mInt\u001b[39m] = \u001b[33mList\u001b[39m(\u001b[32m2\u001b[39m)"
      ]
     },
     "execution_count": 22,
     "metadata": {},
     "output_type": "execute_result"
    }
   ],
   "source": [
    "val optSome = Some(2)\n",
    "optSome.toList"
   ]
  },
  {
   "cell_type": "code",
   "execution_count": 23,
   "id": "bf4f120f-b528-4d37-8cb8-1b7ac99b2ff4",
   "metadata": {},
   "outputs": [
    {
     "data": {
      "text/plain": [
       "\u001b[36moptNone\u001b[39m: \u001b[32mNone\u001b[39m.type = \u001b[32mNone\u001b[39m\n",
       "\u001b[36mres22_1\u001b[39m: \u001b[32mList\u001b[39m[\u001b[32mNothing\u001b[39m] = \u001b[33mList\u001b[39m()"
      ]
     },
     "execution_count": 23,
     "metadata": {},
     "output_type": "execute_result"
    }
   ],
   "source": [
    "val optNone = None\n",
    "optNone.toList"
   ]
  },
  {
   "cell_type": "code",
   "execution_count": null,
   "id": "4c4f92ea-4eef-4989-8926-15b7851818f1",
   "metadata": {},
   "outputs": [],
   "source": [
    "def unit[A"
   ]
  },
  {
   "cell_type": "markdown",
   "id": "21fe6b6d-fd59-4633-b005-eac0094aaa14",
   "metadata": {},
   "source": [
    "Example📝[^2]: Demonstrates how Option integrates with collection operations and enables safe chaining of computations that may fail.\n",
    "\n",
    "\n",
    "**The Maybe Monad**: Option is also called the Maybe monad. It encodes computations that might fail:\n",
    "\n",
    "**Monad Operations**:"
   ]
  },
  {
   "cell_type": "markdown",
   "id": "9e785d74-5e7e-471f-ae28-5654c2c8baaa",
   "metadata": {
    "editable": true,
    "slideshow": {
     "slide_type": ""
    },
    "tags": []
   },
   "source": [
    "## References\n",
    "\n",
    "[^1]: *Scala Cookbook, Second Edition*, Ch. 11: \"Collections: Introduction\"\n",
    "\n",
    "[^2]: *Scala Cookbook, Second Edition*, Ch. 13: \"Collections: Common Sequence Methods\"\n",
    "\n",
    "[^3]: *Programming in Scala, Fourth Edition*, Ch. 24: \"Collections in Depth\"\n",
    "\n",
    "[^4]: *Scala Cookbook, Second Edition*, Ch. 15: \"Collections: Tuple, Range, Set, Stack, and Queue\"\n",
    "\n",
    "[^5]: *Scala Cookbook, Second Edition*, Ch. 14: \"Collections: Using Maps\"\n",
    "\n",
    "[^6]: *Functional Programming in Scala*, Ch. 10: \"Monoids\"\n",
    "\n",
    "[^7]: *Programming in Scala, Fourth Edition*, Ch. 23: \"For Expressions Revisited\"\n",
    "\n",
    "[^8]: *Scala Cookbook, Second Edition*, Ch. 23: \"Types\"\n",
    "\n",
    "[^9]: *Programming in Scala, Fourth Edition*, Ch. 19: \"Type Parameterization\"\n",
    "\n",
    "[^10]: *Advanced Scala with Cats*, Ch. 3: \"Functors\"\n",
    "\n",
    "[^11]: Philip Wadler, \"Comprehending Monads\", p. 22, *WadlerMonads.pdf*\n",
    "\n",
    "[^12]: [Scala 2 Functors Explained]({% link _posts/2025-10-26-Scala2-Functors.md %}){:target=\"_blank\"}\n",
    "\n",
    "\n",
    "{:gtxt: .message color=\"green\"}\n",
    "{:ytxt: .message color=\"yellow\"}\n",
    "{:rtxt: .message color=\"red\"}"
   ]
  }
 ],
 "metadata": {
  "kernelspec": {
   "display_name": "Scala",
   "language": "scala",
   "name": "scala"
  },
  "language_info": {
   "codemirror_mode": "text/x-scala",
   "file_extension": ".sc",
   "mimetype": "text/x-scala",
   "name": "scala",
   "nbconvert_exporter": "script",
   "version": "2.13.10"
  }
 },
 "nbformat": 4,
 "nbformat_minor": 5
}