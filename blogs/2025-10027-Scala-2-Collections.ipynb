{
 "cells": [
  {
   "cell_type": "markdown",
   "id": "0803e73f-f2cd-4fbb-aef8-622fc74e3a30",
   "metadata": {
    "editable": true,
    "slideshow": {
     "slide_type": ""
    },
    "tags": []
   },
   "source": [
    "---\n",
    "layout: post\n",
    "title:  Scala 2 Collections explained\n",
    "date:   2025-10-27\n",
    "categories: [Scala]\n",
    "mermaid: true\n",
    "maths: true\n",
    "typora-root-url: /Users/ojitha/GitHub/ojitha.github.io\n",
    "typora-copy-images-to: ../../blog/assets/images/${filename}\n",
    "---\n",
    "\n",
    "<style>\n",
    "/* Styles for the two-column layout */\n",
    ".image-text-container {\n",
    "    display: flex; /* Enables flexbox */\n",
    "    flex-wrap: wrap; /* Allows columns to stack on small screens */\n",
    "    gap: 20px; /* Space between the image and text */\n",
    "    align-items: center; /* Vertically centers content in columns */\n",
    "    margin-bottom: 20px; /* Space below this section */\n",
    "}\n",
    "\n",
    ".image-column {\n",
    "    flex: 1; /* Allows this column to grow */\n",
    "    min-width: 250px; /* Minimum width for the image column before stacking */\n",
    "    max-width: 40%; /* Maximum width for the image column to not take up too much space initially */\n",
    "    box-sizing: border-box; /* Include padding/border in element's total width/height */\n",
    "}\n",
    "\n",
    ".text-column {\n",
    "    flex: 2; /* Allows this column to grow more (e.g., twice as much as image-column) */\n",
    "    min-width: 300px; /* Minimum width for the text column before stacking */\n",
    "    box-sizing: border-box;\n",
    "}\n",
    "\n",
    "</style>\n",
    "\n",
    "<div class=\"image-text-container\">\n",
    "    <div class=\"image-column\">\n",
    "        <img src=\"https://raw.githubusercontent.com/ojitha/blog/master/assets/images/2025-10-26-Scala2-Functors/scala-functors-illustration.svg\" alt=\"Scala Functors\" width=\"150\" height=\"150\">\n",
    "    </div>\n",
    "    <div class=\"text-column\">\n",
    "<p>TBC</p>\n",
    "    </div>\n",
    "</div>\n",
    "\n",
    "<!--more-->\n",
    "\n",
    "------\n",
    "\n",
    "* TOC\n",
    "{:toc}\n",
    "------\n",
    "\n",
    "## Introduction\n",
    "Scala's collection library is one of its most powerful features, providing a rich set of data structures and operations for working with sequences, sets, and maps. The collections are designed to be **easy to use**, **concise**, **safe**, **fast**, and **universal**[^1].\n",
    "\n",
    "## Collection Hierarchy\n",
    "\n",
    "The Scala collections are organized into three main packages[^2]:\n",
    "\n",
    "| Package | Description | Mutability |\n",
    "|---------|-------------|------------|\n",
    "| `scala.collection` | Base traits and abstract collections | May be immutable or mutable |\n",
    "| `scala.collection.immutable` | Immutable collections (default) | Never change after creation |\n",
    "| `scala.collection.mutable` | Mutable collections | Can be modified in place |\n",
    "\n",
    "```mermaid\n",
    "---\n",
    "config:\n",
    "  look: neo\n",
    "  theme: default\n",
    "---\n",
    "graph TB\n",
    "    Iterable[Iterable]\n",
    "    Iterable --> Seq[Seq]\n",
    "    Iterable --> Set[Set]\n",
    "    Iterable --> Map[Map]\n",
    "    \n",
    "    Seq --> IndexedSeq[IndexedSeq]\n",
    "    Seq --> LinearSeq[LinearSeq]\n",
    "    \n",
    "    IndexedSeq --> Vector\n",
    "    IndexedSeq --> ArraySeq\n",
    "    IndexedSeq --> Range\n",
    "    IndexedSeq --> ArrayBuffer[\"ArrayBuffer (mutable)\"]\n",
    "    \n",
    "    LinearSeq --> List\n",
    "    LinearSeq --> LazyList\n",
    "    LinearSeq --> Queue[\"Queue (immutable)\"]\n",
    "    \n",
    "    Set --> SortedSet\n",
    "    Set --> HashSet[\"HashSet\"]\n",
    "    Set --> BitSet\n",
    "    SortedSet --> TreeSet\n",
    "    \n",
    "    Map --> SortedMap\n",
    "    Map --> HashMap\n",
    "    Map --> VectorMap\n",
    "    SortedMap --> TreeMap\n",
    "    \n",
    "    style Iterable fill:#e1f5ff\n",
    "    style Seq fill:#fff4e1\n",
    "    style Set fill:#ffe1f5\n",
    "    style Map fill:#e1ffe1\n",
    "```\n",
    "\n",
    "### The Iterable Trait\n",
    "\n",
    "All Scala collections inherit from `Iterable[A]`, which defines an **iterator** that lets you loop through collection elements one at a time[^3]. The iterator can traverse the collection only once, as each element is consumed during iteration.\n",
    "\n",
    "> **Important**: The `Iterable` trait provides the foundation for all collection operations through its iterator.\n",
    "\n",
    "## Immutable vs. Mutable Collections\n",
    "\n",
    "### Immutable Collections (Default)\n",
    "\n",
    "Immutable collections **never change after creation**[^4]. When you \"modify\" an immutable collection, you create a new collection with the changes.\n",
    "\n",
    "Immutable collections are the default:"
   ]
  },
  {
   "cell_type": "code",
   "execution_count": 3,
   "id": "f7a8fc6a-0744-4765-a391-7d67c33cc98b",
   "metadata": {},
   "outputs": [
    {
     "data": {
      "text/plain": [
       "\u001b[36mset\u001b[39m: \u001b[32mSet\u001b[39m[\u001b[32mInt\u001b[39m] = \u001b[33mSet\u001b[39m(\u001b[32m1\u001b[39m, \u001b[32m2\u001b[39m, \u001b[32m3\u001b[39m)\n",
       "\u001b[36mlist\u001b[39m: \u001b[32mList\u001b[39m[\u001b[32mInt\u001b[39m] = \u001b[33mList\u001b[39m(\u001b[32m1\u001b[39m, \u001b[32m2\u001b[39m, \u001b[32m3\u001b[39m)\n",
       "\u001b[36mmap\u001b[39m: \u001b[32mMap\u001b[39m[\u001b[32mInt\u001b[39m, \u001b[32mChar\u001b[39m] = \u001b[33mMap\u001b[39m(\u001b[32m1\u001b[39m -> \u001b[32m'a'\u001b[39m)"
      ]
     },
     "execution_count": 3,
     "metadata": {},
     "output_type": "execute_result"
    }
   ],
   "source": [
    "val set = Set(1,2,3)\n",
    "val list = List(1,2,3)\n",
    "val map = Map(1 -> 'a', 2->'b')"
   ]
  },
  {
   "cell_type": "markdown",
   "id": "342010f1-1134-4f31-ac5e-3e7ec64eacb2",
   "metadata": {},
   "source": [
    "Adding to immutable collections creates new collections:"
   ]
  },
  {
   "cell_type": "code",
   "execution_count": 5,
   "id": "b4329286-5639-4d78-9a3e-3f3ec48fb6c2",
   "metadata": {},
   "outputs": [
    {
     "data": {
      "text/plain": [
       "\u001b[36mset2\u001b[39m: \u001b[32mSet\u001b[39m[\u001b[32mInt\u001b[39m] = \u001b[33mSet\u001b[39m(\u001b[32m1\u001b[39m, \u001b[32m2\u001b[39m, \u001b[32m3\u001b[39m, \u001b[32m4\u001b[39m)\n",
       "\u001b[36mlist2\u001b[39m: \u001b[32mList\u001b[39m[\u001b[32mInt\u001b[39m] = \u001b[33mList\u001b[39m(\u001b[32m1\u001b[39m, \u001b[32m2\u001b[39m, \u001b[32m3\u001b[39m, \u001b[32m4\u001b[39m)"
      ]
     },
     "execution_count": 5,
     "metadata": {},
     "output_type": "execute_result"
    }
   ],
   "source": [
    "val set2 = set + 4\n",
    "val list2 = list :+ 4"
   ]
  },
  {
   "cell_type": "markdown",
   "id": "847fdfea-f406-42a7-beb1-475b98fdbc04",
   "metadata": {
    "editable": true,
    "slideshow": {
     "slide_type": ""
    },
    "tags": []
   },
   "source": [
    "Source📝[^5]: Demonstrates how immutable collections are the default in Scala and how they handle additions.\n",
    "\n",
    "**Logic**: \n",
    "- First three lines create immutable collections without any import statements\n",
    "- The `+` operator on Set and <b>`:+`</b>{:gtxt} operator on List create new collections rather than modifying the originals\n",
    "- `set` and `list` remain unchanged after operations; only new bindings `set2` and `list2` contain the updated values\n",
    "\n",
    ">Immutability ensures **referential transparency** - the same expression always evaluates to the same value, making code easier to reason about and thread-safe by default.\n",
    "{:.green}\n",
    "\n",
    "### Mutable Collections\n",
    "\n",
    "Mutable collections can be modified in place using operations that have **side effects**[^6].\n",
    "\n",
    "Must import or use full path for mutable collections:"
   ]
  },
  {
   "cell_type": "code",
   "execution_count": 7,
   "id": "8c0c85c0-9224-4223-8be3-d45f6938b179",
   "metadata": {},
   "outputs": [
    {
     "data": {
      "text/plain": [
       "\u001b[32mimport \u001b[39m\u001b[36mscala.collection.mutable\u001b[39m"
      ]
     },
     "execution_count": 7,
     "metadata": {},
     "output_type": "execute_result"
    }
   ],
   "source": [
    "import scala.collection.mutable"
   ]
  },
  {
   "cell_type": "code",
   "execution_count": 13,
   "id": "3a55cfbe-fd62-4d26-b85f-6e51ba34d86b",
   "metadata": {},
   "outputs": [
    {
     "data": {
      "text/plain": [
       "\u001b[36mmutableSet\u001b[39m: \u001b[32mmutable\u001b[39m.\u001b[32mSet\u001b[39m[\u001b[32mInt\u001b[39m] = \u001b[33mHashSet\u001b[39m(\u001b[32m1\u001b[39m, \u001b[32m2\u001b[39m, \u001b[32m3\u001b[39m)"
      ]
     },
     "execution_count": 13,
     "metadata": {},
     "output_type": "execute_result"
    }
   ],
   "source": [
    "val mutableSet = mutable.Set(1,2,3)"
   ]
  },
  {
   "cell_type": "code",
   "execution_count": 9,
   "id": "8bd1ede2-955c-43d0-afe4-7bdeebba9257",
   "metadata": {},
   "outputs": [
    {
     "data": {
      "text/plain": [
       "\u001b[36mmutableList\u001b[39m: \u001b[32mmutable\u001b[39m.\u001b[32mArrayBuffer\u001b[39m[\u001b[32mInt\u001b[39m] = \u001b[33mArrayBuffer\u001b[39m(\u001b[32m1\u001b[39m, \u001b[32m2\u001b[39m, \u001b[32m3\u001b[39m)"
      ]
     },
     "execution_count": 9,
     "metadata": {},
     "output_type": "execute_result"
    }
   ],
   "source": [
    "val mutableList = mutable.ArrayBuffer(1,2,3)"
   ]
  },
  {
   "cell_type": "code",
   "execution_count": 11,
   "id": "505d4ada-da90-4150-bfae-e5fadcabfeeb",
   "metadata": {},
   "outputs": [
    {
     "data": {
      "text/plain": [
       "\u001b[36mmutableMap\u001b[39m: \u001b[32mmutable\u001b[39m.\u001b[32mMap\u001b[39m[\u001b[32mInt\u001b[39m, \u001b[32mChar\u001b[39m] = \u001b[33mHashMap\u001b[39m(\u001b[32m1\u001b[39m -> \u001b[32m'a'\u001b[39m, \u001b[32m2\u001b[39m -> \u001b[32m'b'\u001b[39m)"
      ]
     },
     "execution_count": 11,
     "metadata": {},
     "output_type": "execute_result"
    }
   ],
   "source": [
    "val mutableMap = mutable.Map(1 -> 'a', 2 -> 'b')"
   ]
  },
  {
   "cell_type": "markdown",
   "id": "ef672329-df2f-481c-ad4e-858beca2e57a",
   "metadata": {},
   "source": [
    "Modifying mutable collections in place:"
   ]
  },
  {
   "cell_type": "code",
   "execution_count": 15,
   "id": "ea08a4ff-fc43-4378-9e46-89d92c12849a",
   "metadata": {},
   "outputs": [
    {
     "data": {
      "text/plain": [
       "\u001b[36mres14_0\u001b[39m: \u001b[32mmutable\u001b[39m.\u001b[32mSet\u001b[39m[\u001b[32mInt\u001b[39m] = \u001b[33mHashSet\u001b[39m(\u001b[32m1\u001b[39m, \u001b[32m2\u001b[39m, \u001b[32m3\u001b[39m, \u001b[32m4\u001b[39m)\n",
       "\u001b[36mres14_1\u001b[39m: \u001b[32mmutable\u001b[39m.\u001b[32mArrayBuffer\u001b[39m[\u001b[32mInt\u001b[39m] = \u001b[33mArrayBuffer\u001b[39m(\u001b[32m1\u001b[39m, \u001b[32m2\u001b[39m, \u001b[32m3\u001b[39m, \u001b[32m4\u001b[39m)"
      ]
     },
     "execution_count": 15,
     "metadata": {},
     "output_type": "execute_result"
    }
   ],
   "source": [
    "mutableSet += 4\n",
    "mutableList += 4"
   ]
  },
  {
   "cell_type": "markdown",
   "id": "21ad13f8-3914-45e6-b4f2-84e5bea6d395",
   "metadata": {
    "editable": true,
    "slideshow": {
     "slide_type": ""
    },
    "tags": []
   },
   "source": [
    "Source📝[^7]: Shows how mutable collections differ from immutable ones in both declaration and usage.\n",
    "\n",
    "> Mutable collections use **side effects**{:rtxt} - they change state rather than creating new values. This can be more efficient for frequent updates but sacrifices thread-safety and referential transparency.\n",
    "{:.yellow}\n",
    "\n",
    "### Why Immutability Matters\n",
    "\n",
    "**Benefits of Immutability**:\n",
    "- **Thread-safe**: Multiple threads can safely access immutable collections\n",
    "- **Easier to reason about**: No hidden state changes\n",
    "- **Referential transparency**: Same inputs always produce same outputs\n",
    "- **Structural sharing**: Efficient memory use through shared structure\n",
    "\n",
    "## Main Collection Types\n",
    "\n",
    "### 1. Sequences (Seq)\n",
    "\n",
    "Sequences are ordered collections that support indexed access. They branch into two main categories:\n",
    "\n",
    "#### Linear Sequences (LinearSeq)\n",
    "\n",
    "Optimised for **head/tail** operations. Elements are accessed sequentially[^8].\n",
    "\n",
    "```mermaid\n",
    "---\n",
    "config:\n",
    "  look: handDrawn\n",
    "  theme: default\n",
    "---\n",
    "graph LR\n",
    "    List[\"List(1,2,3,4,5)\"]\n",
    "    N1[\":: <br/> head: 1\"]\n",
    "    N2[\":: <br/> head: 2\"]\n",
    "    N3[\":: <br/> head: 3\"]\n",
    "    N4[\":: <br/> head: 4\"]\n",
    "    N5[\":: <br/> head: 5\"]\n",
    "    Nil[\"Nil\"]\n",
    "    \n",
    "    List --> N1\n",
    "    N1 -->|tail| N2\n",
    "    N2 -->|tail| N3\n",
    "    N3 -->|tail| N4\n",
    "    N4 -->|tail| N5\n",
    "    N5 -->|tail| Nil\n",
    "```\n",
    "\n",
    "The `List` is implemented as a *singly linked list* where each node contains a value and a pointer to the next node. This structure makes prepending (`::`), head, and tail operations extremely fast, but random access requires traversing from the beginning.\n",
    "\n",
    "**List characteristics**:\n",
    "- **cons (::)** operation prepends elements in O(1) time\n",
    "- Random access is O(n) - must traverse from head\n",
    "- Ideal for recursive algorithms and pattern matching"
   ]
  },
  {
   "cell_type": "code",
   "execution_count": 16,
   "id": "3d84f1c4-863b-4742-9227-62e5d718fd80",
   "metadata": {
    "editable": true,
    "slideshow": {
     "slide_type": ""
    },
    "tags": []
   },
   "outputs": [
    {
     "data": {
      "text/plain": [
       "\u001b[36mlist\u001b[39m: \u001b[32mList\u001b[39m[\u001b[32mInt\u001b[39m] = \u001b[33mList\u001b[39m(\u001b[32m1\u001b[39m, \u001b[32m2\u001b[39m, \u001b[32m3\u001b[39m, \u001b[32m4\u001b[39m, \u001b[32m5\u001b[39m)"
      ]
     },
     "execution_count": 16,
     "metadata": {},
     "output_type": "execute_result"
    }
   ],
   "source": [
    "val list = List(1, 2, 3, 4, 5)"
   ]
  },
  {
   "cell_type": "markdown",
   "id": "4bb8231b-c0a1-43e4-82ca-38af672e493a",
   "metadata": {},
   "source": [
    "Head and tail operations are O(1)"
   ]
  },
  {
   "cell_type": "code",
   "execution_count": 17,
   "id": "b569fd09-424f-4869-b027-4f3d38c6f9e3",
   "metadata": {},
   "outputs": [
    {
     "data": {
      "text/plain": [
       "\u001b[36mres16_0\u001b[39m: \u001b[32mInt\u001b[39m = \u001b[32m1\u001b[39m\n",
       "\u001b[36mres16_1\u001b[39m: \u001b[32mList\u001b[39m[\u001b[32mInt\u001b[39m] = \u001b[33mList\u001b[39m(\u001b[32m2\u001b[39m, \u001b[32m3\u001b[39m, \u001b[32m4\u001b[39m, \u001b[32m5\u001b[39m)"
      ]
     },
     "execution_count": 17,
     "metadata": {},
     "output_type": "execute_result"
    }
   ],
   "source": [
    "list.head\n",
    "list.tail"
   ]
  },
  {
   "cell_type": "code",
   "execution_count": 18,
   "id": "e4ee55f3-c0cc-4762-8f42-8d1addc2270a",
   "metadata": {},
   "outputs": [
    {
     "data": {
      "text/plain": [
       "\u001b[36mres17\u001b[39m: \u001b[32mBoolean\u001b[39m = \u001b[32mfalse\u001b[39m"
      ]
     },
     "execution_count": 18,
     "metadata": {},
     "output_type": "execute_result"
    }
   ],
   "source": [
    "list.isEmpty"
   ]
  },
  {
   "cell_type": "markdown",
   "id": "b89f0415-5243-4434-9e4f-cc6d18c3403e",
   "metadata": {},
   "source": [
    "Pattern matching with Lists:"
   ]
  },
  {
   "cell_type": "code",
   "execution_count": 20,
   "id": "cbca0740-b6c8-4b70-8d1d-c8ef30c46d47",
   "metadata": {},
   "outputs": [
    {
     "name": "stdout",
     "output_type": "stream",
     "text": [
      "Head: 1\n"
     ]
    }
   ],
   "source": [
    "list match {\n",
    "    case h :: t => println(s\"Head: $h\")\n",
    "    case Nil => println(\"Empty list\")\n",
    "}"
   ]
  },
  {
   "cell_type": "markdown",
   "id": "fc242d6e-501b-47c7-91ea-bcbef3a26cd2",
   "metadata": {},
   "source": [
    "Example📝[^9]: Demonstrates the fundamental operations on List - a singly linked list optimised for sequential access.\n",
    "\n",
    "- `head` extracts the first element in constant O(1) time\n",
    "- `tail` returns all elements except the first, also in O(1) time\n",
    "- `::` (cons) operator in pattern matching destructures the list into head and tail\n",
    "- `Nil` represents the empty list"
   ]
  },
  {
   "cell_type": "markdown",
   "id": "24a9723a-4cc0-4117-83da-55fc5300bbe0",
   "metadata": {},
   "source": [
    "#### Indexed Sequences (IndexedSeq)\n",
    "\n",
    "Optimised for **random access**. Elements can be accessed efficiently by index[^10].\n",
    "Vector - the default indexed sequence"
   ]
  },
  {
   "cell_type": "code",
   "execution_count": 21,
   "id": "a775823e-adfa-4a0d-82ac-78b647a9ffd1",
   "metadata": {},
   "outputs": [
    {
     "data": {
      "text/plain": [
       "\u001b[36mvector\u001b[39m: \u001b[32mVector\u001b[39m[\u001b[32mInt\u001b[39m] = \u001b[33mVector\u001b[39m(\u001b[32m1\u001b[39m, \u001b[32m2\u001b[39m, \u001b[32m3\u001b[39m, \u001b[32m4\u001b[39m, \u001b[32m5\u001b[39m)"
      ]
     },
     "execution_count": 21,
     "metadata": {},
     "output_type": "execute_result"
    }
   ],
   "source": [
    "val vector = Vector(1,2,3,4,5)"
   ]
  },
  {
   "cell_type": "markdown",
   "id": "c80b7964-4413-4674-95c2-84e82274b42c",
   "metadata": {},
   "source": [
    "Optimized for **random access**. Elements can be accessed efficiently by index[^10]."
   ]
  },
  {
   "cell_type": "code",
   "execution_count": 24,
   "id": "9c47c481-2932-4997-abe6-920e8aa24889",
   "metadata": {},
   "outputs": [
    {
     "data": {
      "text/plain": [
       "\u001b[36mindexed\u001b[39m: \u001b[32mIndexedSeq\u001b[39m[\u001b[32mInt\u001b[39m] = \u001b[33mVector\u001b[39m(\u001b[32m1\u001b[39m, \u001b[32m2\u001b[39m, \u001b[32m3\u001b[39m)"
      ]
     },
     "execution_count": 24,
     "metadata": {},
     "output_type": "execute_result"
    }
   ],
   "source": [
    "val indexed = IndexedSeq(1,2,3)"
   ]
  },
  {
   "cell_type": "code",
   "execution_count": 25,
   "id": "81ade37e-9da4-4827-b817-e4202b2f1679",
   "metadata": {},
   "outputs": [
    {
     "data": {
      "text/plain": [
       "\u001b[36mupdated\u001b[39m: \u001b[32mVector\u001b[39m[\u001b[32mInt\u001b[39m] = \u001b[33mVector\u001b[39m(\u001b[32m1\u001b[39m, \u001b[32m2\u001b[39m, \u001b[32m22\u001b[39m, \u001b[32m4\u001b[39m, \u001b[32m5\u001b[39m)"
      ]
     },
     "execution_count": 25,
     "metadata": {},
     "output_type": "execute_result"
    }
   ],
   "source": [
    "val updated = vector.updated(2, 22)"
   ]
  },
  {
   "cell_type": "markdown",
   "id": "b942a0d5-c5c2-4f5a-a944-8daa491e7eb9",
   "metadata": {},
   "source": [
    "Example📝[^11]: Shows Vector's strength in random access and updates compared to List.\n",
    "\n",
    "**Data Structure**: Vector uses a **tree structure**. This gives effectively O(1) access time for practical purposes. Updates use **structural sharing** - only the path from root to the changed element is copied.\n",
    "\n",
    "-   **Branching factor of 32** - Each internal node can have up to 32 children\n",
    "-   **Shallow and wide** - Typical depth is 0-6 levels even for millions of elements\n",
    "-   **Array-based nodes** - Each node is backed by an array of size 32\n",
    "-   **Efficient access** - $O(\\log_{32} n)$ ≈ effectively constant time for practical sizes\n",
    "-   **Persistent/Immutable** - Structural sharing enables efficient copying\n",
    "\n",
    "```mermaid\n",
    "---\n",
    "config:\n",
    "  look: handDrawn\n",
    "  theme: default\n",
    "---\n",
    "graph TD\n",
    "    V[\"Vector(1,2,3,4,5,6,7,8)\"]\n",
    "    Root[\"Root Node<br/>(Internal)\"]\n",
    "    \n",
    "    L1[\"Leaf Array<br/>[1, 2, 3, 4]\"]\n",
    "    L2[\"Leaf Array<br/>[5, 6, 7, 8]\"]\n",
    "    \n",
    "    V --> Root\n",
    "    Root --> L1\n",
    "    Root --> L2\n",
    "    \n",
    "    style Root fill:#e1f5ff\n",
    "    style L1 fill:#c8e6c9\n",
    "    style L2 fill:#c8e6c9\n",
    "```\n",
    "\n",
    "### 2. Sets\n",
    "\n",
    "Sets are collections of **unique elements** with no defined order (except for sorted sets)[^12].\n",
    "```mermaid\n",
    "---\n",
    "config:\n",
    "  look: neo\n",
    "  theme: default\n",
    "---\n",
    "classDiagram\n",
    "    Set <|-- HashSet\n",
    "    Set <|-- SortedSet\n",
    "    Set <|-- BitSet\n",
    "    SortedSet <|-- TreeSet\n",
    "    \n",
    "    class Set {\n",
    "        +contains(elem): Boolean\n",
    "        ++(elem): Set\n",
    "        --(elem): Set\n",
    "        union(other): Set\n",
    "        intersect(other): Set\n",
    "        diff(other): Set\n",
    "    }\n",
    "    \n",
    "    class HashSet {\n",
    "        Hash-based storage\n",
    "        O(1) lookup\n",
    "    }\n",
    "    \n",
    "    class TreeSet {\n",
    "        Red-black tree\n",
    "        Sorted order\n",
    "        O(log n) operations\n",
    "    }\n",
    "    \n",
    "    class BitSet {\n",
    "        Bit array\n",
    "        Non-negative integers only\n",
    "        Memory efficient\n",
    "    }\n",
    "```\n",
    "#### Immutable Sets\n",
    "Creating immutable sets"
   ]
  },
  {
   "cell_type": "code",
   "execution_count": 26,
   "id": "35110756-1b59-45de-a865-bbc020e66d32",
   "metadata": {},
   "outputs": [
    {
     "data": {
      "text/plain": [
       "\u001b[36mset1\u001b[39m: \u001b[32mSet\u001b[39m[\u001b[32mInt\u001b[39m] = \u001b[33mSet\u001b[39m(\u001b[32m1\u001b[39m, \u001b[32m2\u001b[39m, \u001b[32m3\u001b[39m)\n",
       "\u001b[36mset2\u001b[39m: \u001b[32mSet\u001b[39m[\u001b[32mInt\u001b[39m] = \u001b[33mSet\u001b[39m(\u001b[32m3\u001b[39m, \u001b[32m4\u001b[39m, \u001b[32m5\u001b[39m)"
      ]
     },
     "execution_count": 26,
     "metadata": {},
     "output_type": "execute_result"
    }
   ],
   "source": [
    "val set1 = Set(1,2,3)\n",
    "val set2 = Set(3,4,5)"
   ]
  },
  {
   "cell_type": "markdown",
   "id": "ea7aaa25-e0f3-4fc7-b3a0-d7de8fe8639b",
   "metadata": {},
   "source": [
    "Adding elements (returns a new set):"
   ]
  },
  {
   "cell_type": "code",
   "execution_count": 28,
   "id": "13bf9f3b-9178-4288-bb3a-431d83080618",
   "metadata": {},
   "outputs": [
    {
     "data": {
      "text/plain": [
       "\u001b[36mset3\u001b[39m: \u001b[32mSet\u001b[39m[\u001b[32mInt\u001b[39m] = \u001b[33mSet\u001b[39m(\u001b[32m1\u001b[39m, \u001b[32m2\u001b[39m, \u001b[32m3\u001b[39m, \u001b[32m4\u001b[39m)\n",
       "\u001b[36mset4\u001b[39m: \u001b[32mSet\u001b[39m[\u001b[32mInt\u001b[39m] = \u001b[33mHashSet\u001b[39m(\u001b[32m5\u001b[39m, \u001b[32m1\u001b[39m, \u001b[32m6\u001b[39m, \u001b[32m2\u001b[39m, \u001b[32m3\u001b[39m)"
      ]
     },
     "execution_count": 28,
     "metadata": {},
     "output_type": "execute_result"
    }
   ],
   "source": [
    "val set3 = set1 + 4\n",
    "val set4 = set1 ++ List(5,6)"
   ]
  },
  {
   "cell_type": "code",
   "execution_count": 32,
   "id": "86e9dc42-198b-44c6-b22e-5c67b5c1fd8a",
   "metadata": {},
   "outputs": [
    {
     "name": "stdout",
     "output_type": "stream",
     "text": [
      "set4 is a: HashSet\n"
     ]
    }
   ],
   "source": [
    "println(s\"set4 is a: ${set4.getClass.getSimpleName}\")"
   ]
  },
  {
   "cell_type": "markdown",
   "id": "2d503f2d-8857-4621-8970-52ce63881530",
   "metadata": {
    "editable": true,
    "slideshow": {
     "slide_type": ""
    },
    "tags": []
   },
   "source": [
    "Scala's immutable HashSet uses a Hash Array Mapped Trie (HAMT) - a tree structure optimised for hash-based lookups.\n",
    "\n",
    "```mermaid\n",
    "---\n",
    "config:\n",
    "  look: handDrawn\n",
    "  theme: default\n",
    "---\n",
    "graph TD\n",
    "    Root[\"Root Node<br/>(bitmap: 32-bit)\"]\n",
    "    \n",
    "    subgraph \"Level 1 - First 5 bits of hash\"\n",
    "    N0[\"Node at index 0\"]\n",
    "    N5[\"Node at index 5\"]\n",
    "    N17[\"Node at index 17\"]\n",
    "    end\n",
    "    \n",
    "    subgraph \"Level 2 - Next 5 bits of hash\"\n",
    "    N5_3[\"Node at index 3\"]\n",
    "    N5_12[\"Node at index 12\"]\n",
    "    end\n",
    "    \n",
    "    subgraph \"Leaf Level\"\n",
    "    L1[\"Value: 1<br/>hash: 0b00000...\"]\n",
    "    L2[\"Value: 2<br/>hash: 0b00101...\"]\n",
    "    L3[\"Value: 5<br/>hash: 0b00101...\"]\n",
    "    L4[\"Value: 17<br/>hash: 0b10001...\"]\n",
    "    end\n",
    "    \n",
    "    Root -->|bits 0-4| N0\n",
    "    Root -->|bits 0-4| N5\n",
    "    Root -->|bits 0-4| N17\n",
    "    \n",
    "    N5 --> N5_3\n",
    "    N5 --> N5_12\n",
    "    \n",
    "    N0 --> L1\n",
    "    N5_3 --> L2\n",
    "    N5_12 --> L3\n",
    "    N17 --> L4\n",
    "    \n",
    "    style Root fill:#e1f5ff\n",
    "    style N0 fill:#fff9c4\n",
    "    style N5 fill:#fff9c4\n",
    "    style N17 fill:#fff9c4\n",
    "    style N5_3 fill:#fff9c4\n",
    "    style N5_12 fill:#fff9c4\n",
    "    style L1 fill:#c8e6c9\n",
    "    style L2 fill:#c8e6c9\n",
    "    style L3 fill:#c8e6c9\n",
    "    style L4 fill:#c8e6c9\n",
    "```\n",
    "\n",
    "Key Characteristics:\n",
    "\n",
    "1. **Hash-based Indexing**\n",
    "    - Each element's hash code determines its position\n",
    "    - Hash code is split into 5-bit chunks (32 = 2⁵ branches per level)\n",
    "    - Each chunk selects which child node to follow\n",
    "2. **Bitmap Compression**\n",
    "    - Each node has a 32-bit bitmap indicating which children exist\n",
    "    - Only allocated children are stored (sparse representation)\n",
    "    - Saves memory for sparse hash distributions\n",
    "3. **Tree Properties**\n",
    "    - Branching factor: 32 (2⁵)\n",
    "    - Max depth: ~6-7 levels for millions of elements\n",
    "    - Time complexity: $$O(\\log_{32} n)$$ ≈ O(1) effectively\n",
    "    - Space: Efficient with structural sharing\n",
    "\n",
    "Performance Characteristics:\n",
    "\n",
    "| Operation | Time Complexity | Explanation |\n",
    "|-----------|----------------|-------------|\n",
    "| `contains` | $O(\\log_{32} n) \\approx O(1)$ | Hash lookup with shallow tree |\n",
    "| `+` (add) | $O(\\log_{32} n) \\approx O(1)$ | Copy path, share rest |\n",
    "| `++` (union) | $O(m \\log_{32} n)$ | Add $m$ elements |\n",
    "| `size` | $O(1)$ | Cached |\n",
    "\n",
    "Set operations:"
   ]
  },
  {
   "cell_type": "code",
   "execution_count": 33,
   "id": "6cd01a37-e0e9-4342-aa39-30b03325d56e",
   "metadata": {
    "editable": true,
    "slideshow": {
     "slide_type": ""
    },
    "tags": []
   },
   "outputs": [
    {
     "data": {
      "text/plain": [
       "\u001b[36mres32\u001b[39m: \u001b[32mSet\u001b[39m[\u001b[32mInt\u001b[39m] = \u001b[33mHashSet\u001b[39m(\u001b[32m5\u001b[39m, \u001b[32m1\u001b[39m, \u001b[32m2\u001b[39m, \u001b[32m3\u001b[39m, \u001b[32m4\u001b[39m)"
      ]
     },
     "execution_count": 33,
     "metadata": {},
     "output_type": "execute_result"
    }
   ],
   "source": [
    "set1 union set2"
   ]
  },
  {
   "cell_type": "code",
   "execution_count": 34,
   "id": "8b470787-aab9-40ab-994b-27ed0e582453",
   "metadata": {},
   "outputs": [
    {
     "data": {
      "text/plain": [
       "\u001b[36mres33\u001b[39m: \u001b[32mSet\u001b[39m[\u001b[32mInt\u001b[39m] = \u001b[33mSet\u001b[39m(\u001b[32m3\u001b[39m)"
      ]
     },
     "execution_count": 34,
     "metadata": {},
     "output_type": "execute_result"
    }
   ],
   "source": [
    "set1 intersect set2"
   ]
  },
  {
   "cell_type": "code",
   "execution_count": 35,
   "id": "50e7cdf0-bd1a-46eb-aab2-cccb991b8f52",
   "metadata": {},
   "outputs": [
    {
     "data": {
      "text/plain": [
       "\u001b[36mres34\u001b[39m: \u001b[32mSet\u001b[39m[\u001b[32mInt\u001b[39m] = \u001b[33mSet\u001b[39m(\u001b[32m1\u001b[39m, \u001b[32m2\u001b[39m)"
      ]
     },
     "execution_count": 35,
     "metadata": {},
     "output_type": "execute_result"
    }
   ],
   "source": [
    "set1 diff set2"
   ]
  },
  {
   "cell_type": "markdown",
   "id": "fe18dfb7-97f1-4d9c-8ce9-4c211a276016",
   "metadata": {},
   "source": [
    "Membership testing $O(1)$ for HashSet"
   ]
  },
  {
   "cell_type": "code",
   "execution_count": 36,
   "id": "e10e40b6-ed76-4fd3-8928-478b6146e1c7",
   "metadata": {},
   "outputs": [
    {
     "data": {
      "text/plain": [
       "\u001b[36mres35_0\u001b[39m: \u001b[32mBoolean\u001b[39m = \u001b[32mtrue\u001b[39m\n",
       "\u001b[36mres35_1\u001b[39m: \u001b[32mBoolean\u001b[39m = \u001b[32mtrue\u001b[39m"
      ]
     },
     "execution_count": 36,
     "metadata": {},
     "output_type": "execute_result"
    }
   ],
   "source": [
    "set1.contains(1)\n",
    "// alternatively\n",
    "set1(1)"
   ]
  },
  {
   "cell_type": "markdown",
   "id": "ec00fa2c-715d-46a6-8b5e-20ffe25ef0dd",
   "metadata": {
    "editable": true,
    "slideshow": {
     "slide_type": ""
    },
    "tags": []
   },
   "source": [
    "Source📝[^13]: Demonstrates basic Set operations and their mathematical set theory foundations.\n",
    "\n",
    "**Logic**:\n",
    "- `+` and `++` add elements, creating new sets (immutable)\n",
    "- `union` combines all elements from both sets (mathematical ∪ operator)\n",
    "- `intersect` keeps only common elements (mathematical ∩ operator)\n",
    "- `diff` returns elements in first set but not in second (mathematical \\ operator)\n",
    "- `contains` checks membership, implemented as hash lookup for O(1) performance\n",
    "\n",
    "Sets implement mathematical set operations:\n",
    "\n",
    "**Union**: \n",
    "$$A ∪ B = \\{x | x ∈ A \\text{ or } x ∈ B\\}$$\n",
    "\n",
    "**Intersection**: \n",
    "$$A ∩ B = \\{x | x ∈ A \\text{ and } x ∈ B\\}$$\n",
    "\n",
    "**Difference**: \n",
    "$$A \\setminus B = \\{x | x ∈ A \\text{ and } x ∉ B\\}$$\n",
    "\n",
    "The uniqueness property ensures no duplicates: adding existing elements has no effect.\n",
    "\n",
    "#### Sorted Sets\n",
    "TreeSet maintains elements in sorted order"
   ]
  },
  {
   "cell_type": "code",
   "execution_count": 37,
   "id": "d2da7d82-dae8-43c4-b70c-62f4f64e1067",
   "metadata": {
    "editable": true,
    "slideshow": {
     "slide_type": ""
    },
    "tags": []
   },
   "outputs": [
    {
     "data": {
      "text/plain": [
       "\u001b[36msortedSet\u001b[39m: \u001b[32mcollection\u001b[39m.\u001b[32mimmutable\u001b[39m.\u001b[32mTreeSet\u001b[39m[\u001b[32mInt\u001b[39m] = \u001b[33mTreeSet\u001b[39m(\u001b[32m1\u001b[39m, \u001b[32m2\u001b[39m, \u001b[32m5\u001b[39m, \u001b[32m8\u001b[39m, \u001b[32m9\u001b[39m)"
      ]
     },
     "execution_count": 37,
     "metadata": {},
     "output_type": "execute_result"
    }
   ],
   "source": [
    "val sortedSet = scala.collection.immutable.TreeSet(5, 2, 8, 1, 9)"
   ]
  },
  {
   "cell_type": "markdown",
   "id": "ea0761d6-5684-4168-bd15-b98dbfd6f66d",
   "metadata": {},
   "source": [
    "The `TreeSet` operation creates an immutable, sorted set containing the given elements. The result stores unique values in ascending order according to an implicit `Ordering`.\n",
    "\n",
    "```mermaid\n",
    "---\n",
    "config:\n",
    "  look: neo\n",
    "  theme: default\n",
    "---\n",
    "graph TD\n",
    "    A[\"TreeSet(5, 2, 8, 1, 9)\"] -->|\"Underlying Structure\"| B[\"Red-Black Tree\"]\n",
    "    B -->|\"Balanced BST\"| C[\"Operations: O(log n)\"]\n",
    "    C -->|\"Insert\"| D[\"O(log n)\"]\n",
    "    C -->|\"Delete\"| E[\"O(log n)\"]\n",
    "    C -->|\"Search\"| F[\"O(log n)\"]\n",
    "    \n",
    "    G[\"Tree Structure:<br/>5 is root\"] -->|\"left subtree\"| H[\"2\"]\n",
    "    G -->|\"right subtree\"| I[\"8\"]\n",
    "    H -->|\"left\"| J[\"1\"]\n",
    "    I -->|\"right\"| K[\"9\"]\n",
    "    \n",
    "    style B fill:#e1f5ff\n",
    "    style C fill:#fff3e0\n",
    "    style D fill:#f3e5f5\n",
    "    style E fill:#f3e5f5\n",
    "    style F fill:#f3e5f5\n",
    "```\n",
    "\n",
    "Red-Black Tree Properties\n",
    "\n",
    "A Red-Black Tree is a self-balancing binary search tree with these invariants:\n",
    "\n",
    "1. **Every node is colored red or black** - Ensures the tree remains relatively balanced\n",
    "2. **The root is always black** - Simplifies the tree structure\n",
    "3. **Red nodes have only black children** - Prevents consecutive red nodes\n",
    "4. **Every path from root to null has the same number of black nodes** - Guarantees O(log n) height\n",
    "\n",
    "These properties ensure that the tree height is at most 2 × log(n + 1), guaranteeing logarithmic complexity for all operations.\n",
    "\n",
    "Algorithmic Complexity Analysis\n",
    "\n",
    "| Operation | Time Complexity | Space Complexity | Description |\n",
    "|-----------|-----------------|------------------|-------------|\n",
    "| **Construction** | O(n log n) | O(n) | Creating TreeSet from n elements requires n insertions, each O(log n) |\n",
    "| **Insertion** | O(log n) | O(1) amortized | Adding an element requires tree rotations and rebalancing |\n",
    "| **Deletion** | O(log n) | O(1) amortized | Removing an element requires tree rotations and rebalancing |\n",
    "| **Search/Contains** | O(log n) | O(1) | Binary search in balanced tree structure |\n",
    "| **Iteration** | O(n) | O(1) | In-order traversal visits each node once |\n",
    "| **Minimum/Maximum** | O(log n) | O(1) | Must traverse to leftmost/rightmost leaf |\n",
    "\n",
    "First and last operations"
   ]
  },
  {
   "cell_type": "code",
   "execution_count": 38,
   "id": "1fe38855-e9f7-40d7-8eaf-3366825a6d20",
   "metadata": {},
   "outputs": [
    {
     "data": {
      "text/plain": [
       "\u001b[36mres37_0\u001b[39m: \u001b[32mInt\u001b[39m = \u001b[32m1\u001b[39m\n",
       "\u001b[36mres37_1\u001b[39m: \u001b[32mInt\u001b[39m = \u001b[32m9\u001b[39m"
      ]
     },
     "execution_count": 38,
     "metadata": {},
     "output_type": "execute_result"
    }
   ],
   "source": [
    "sortedSet.head\n",
    "sortedSet.last"
   ]
  },
  {
   "cell_type": "markdown",
   "id": "355ac0d0-f258-4177-b317-4a6eb430a1c9",
   "metadata": {},
   "source": [
    "Range queries"
   ]
  },
  {
   "cell_type": "code",
   "execution_count": 39,
   "id": "922c7bc0-e4f8-44ea-afad-973cc5da2629",
   "metadata": {},
   "outputs": [
    {
     "data": {
      "text/plain": [
       "\u001b[36mres38\u001b[39m: \u001b[32mcollection\u001b[39m.\u001b[32mimmutable\u001b[39m.\u001b[32mTreeSet\u001b[39m[\u001b[32mInt\u001b[39m] = \u001b[33mTreeSet\u001b[39m(\u001b[32m2\u001b[39m, \u001b[32m5\u001b[39m)"
      ]
     },
     "execution_count": 39,
     "metadata": {},
     "output_type": "execute_result"
    }
   ],
   "source": [
    "sortedSet.range(2, 8)"
   ]
  },
  {
   "cell_type": "markdown",
   "id": "8a823005-ee52-40c3-a6e1-ebde89b3350e",
   "metadata": {},
   "source": [
    "Example📝[^14]\n",
    "\n",
    "Why Red-Black Tree for TreeSet?\n",
    "\n",
    "When to Use TreeSet\n",
    "\n",
    "| Use TreeSet When | Don't Use TreeSet When |\n",
    "|-----------------|----------------------|\n",
    "| You need sorted iteration | Elements don't need ordering |\n",
    "| You need range queries (headSet, tailSet) | You frequently add/remove elements |\n",
    "| Thread safety is important | Mutability would improve performance |\n",
    "| You want guaranteed O(log n) operations | You need O(1) average case (use HashSet) |\n",
    "| Working with small datasets | Performance overhead is critical |\n",
    "\n",
    "```mermaid\n",
    "---\n",
    "config:\n",
    "  look: neo\n",
    "  theme: default\n",
    "---\n",
    "graph LR\n",
    "    A[\"Scala Sets\"] -->|\"Immutable\"| B[\"HashSet\"]\n",
    "    A -->|\"Immutable\"| C[\"TreeSet\"]\n",
    "    A -->|\"Immutable\"| D[\"BitSet\"]\n",
    "    A -->|\"Mutable\"| E[\"scala.collection.mutable<br/>HashSet\"]\n",
    "    A -->|\"Mutable\"| F[\"scala.collection.mutable<br/>TreeSet\"]\n",
    "    \n",
    "    B -->|\"Complexity\"| B1[\"avg O(1)<br/>worst O(n)\"]\n",
    "    C -->|\"Complexity\"| C1[\"O(log n)<br/>guaranteed\"]\n",
    "    \n",
    "    B -->|\"Order\"| B2[\"Unordered\"]\n",
    "    C -->|\"Order\"| C2[\"Sorted\"]\n",
    "    \n",
    "    style A fill:#e0f2f1\n",
    "    style C fill:#fff9c4\n",
    "    style B fill:#f3e5f5\n",
    "```\n",
    "\n",
    "### 3. Maps\n",
    "\n",
    "Maps store **key-value pairs** where all keys must be unique[^15].\n",
    "\n",
    "```mermaid\n",
    "---\n",
    "config:\n",
    "  look: neo\n",
    "  theme: default\n",
    "---\n",
    "classDiagram\n",
    "    Map <|-- HashMap\n",
    "    Map <|-- SortedMap\n",
    "    Map <|-- VectorMap\n",
    "    SortedMap <|-- TreeMap\n",
    "    \n",
    "    class Map {\n",
    "        +get(key): Option[Value]\n",
    "        +apply(key): Value\n",
    "        +getOrElse(key, default): Value\n",
    "        +(key -> value): Map\n",
    "        -(key): Map\n",
    "    }\n",
    "    \n",
    "    class HashMap {\n",
    "        Hash trie storage\n",
    "        O(1) lookup\n",
    "        No ordering\n",
    "    }\n",
    "    \n",
    "    class TreeMap {\n",
    "        Red-black tree\n",
    "        Sorted by keys\n",
    "        O(log n) operations\n",
    "    }\n",
    "    \n",
    "    class VectorMap {\n",
    "        Preserves insertion order\n",
    "        Vector-based\n",
    "    }\n",
    "```\n",
    "\n",
    "#### Creating and Using Maps"
   ]
  },
  {
   "cell_type": "code",
   "execution_count": 45,
   "id": "fca4c62b-f1c0-4573-9691-a6bc54b2aee3",
   "metadata": {},
   "outputs": [
    {
     "name": "stdout",
     "output_type": "stream",
     "text": [
      "map1 is a: Map3\n"
     ]
    },
    {
     "data": {
      "text/plain": [
       "\u001b[36mmap1\u001b[39m: \u001b[32mMap\u001b[39m[\u001b[32mInt\u001b[39m, \u001b[32mString\u001b[39m] = \u001b[33mMap\u001b[39m(\u001b[32m1\u001b[39m -> \u001b[32m\"a\"\u001b[39m, \u001b[32m2\u001b[39m -> \u001b[32m\"b\"\u001b[39m, \u001b[32m3\u001b[39m -> \u001b[32m\"c\"\u001b[39m)"
      ]
     },
     "execution_count": 45,
     "metadata": {},
     "output_type": "execute_result"
    }
   ],
   "source": [
    "val map1 = Map(1 -> \"a\", 2 -> \"b\", 3 -> \"c\")\n",
    "println(s\"map1 is a: ${map1.getClass.getSimpleName}\")"
   ]
  },
  {
   "cell_type": "markdown",
   "id": "f3ca6399-9150-4995-90a2-296d348825b6",
   "metadata": {},
   "source": [
    "Alternative syntax"
   ]
  },
  {
   "cell_type": "code",
   "execution_count": 44,
   "id": "c18d60ef-7a0e-4fb2-9fcd-13696a59fe8e",
   "metadata": {},
   "outputs": [
    {
     "name": "stdout",
     "output_type": "stream",
     "text": [
      "map2 is a: Map3\n"
     ]
    },
    {
     "data": {
      "text/plain": [
       "\u001b[36mmap2\u001b[39m: \u001b[32mMap\u001b[39m[\u001b[32mInt\u001b[39m, \u001b[32mString\u001b[39m] = \u001b[33mMap\u001b[39m(\u001b[32m1\u001b[39m -> \u001b[32m\"a\"\u001b[39m, \u001b[32m2\u001b[39m -> \u001b[32m\"b\"\u001b[39m, \u001b[32m3\u001b[39m -> \u001b[32m\"c\"\u001b[39m)"
      ]
     },
     "execution_count": 44,
     "metadata": {},
     "output_type": "execute_result"
    }
   ],
   "source": [
    "val map2 = Map((1,\"a\"), (2, \"b\"), (3, \"c\"))\n",
    "println(s\"map2 is a: ${map2.getClass.getSimpleName}\")"
   ]
  },
  {
   "cell_type": "markdown",
   "id": "1f453150-a2f3-4012-849e-06dc26d0a792",
   "metadata": {},
   "source": [
    "Accessing values"
   ]
  },
  {
   "cell_type": "code",
   "execution_count": 47,
   "id": "1bdd144d-ec4a-4a18-8914-bbc133927237",
   "metadata": {},
   "outputs": [
    {
     "data": {
      "text/plain": [
       "\u001b[36mres46\u001b[39m: \u001b[32mString\u001b[39m = \u001b[32m\"a\"\u001b[39m"
      ]
     },
     "execution_count": 47,
     "metadata": {},
     "output_type": "execute_result"
    }
   ],
   "source": [
    "map1(1)"
   ]
  },
  {
   "cell_type": "markdown",
   "id": "5dfa20f4-23fb-4fc1-94cf-fa704d1f7d1f",
   "metadata": {},
   "source": [
    "if key not found"
   ]
  },
  {
   "cell_type": "code",
   "execution_count": 48,
   "id": "adb2c83a-309e-49d2-825d-eb7a40a5cd11",
   "metadata": {},
   "outputs": [
    {
     "ename": "",
     "evalue": "",
     "output_type": "error",
     "traceback": [
      "\u001b[31mjava.util.NoSuchElementException: key not found: 4\u001b[39m\n  scala.collection.immutable.Map$Map3.apply(\u001b[32mMap.scala\u001b[39m:\u001b[32m397\u001b[39m)\n  ammonite.$sess.cmd47$Helper.<init>(\u001b[32mcmd47.sc\u001b[39m:\u001b[32m1\u001b[39m)\n  ammonite.$sess.cmd47$.<clinit>(\u001b[32mcmd47.sc\u001b[39m:\u001b[32m7\u001b[39m)"
     ]
    }
   ],
   "source": [
    "map1(4)"
   ]
  },
  {
   "cell_type": "markdown",
   "id": "c72dc184-a911-4e82-8505-64bafc23fb37",
   "metadata": {
    "editable": true,
    "slideshow": {
     "slide_type": ""
    },
    "tags": []
   },
   "source": [
    "**Option Pattern**: The `get` method returns `Option[V]` instead of throwing exceptions, following functional programming's principle of making errors explicit in types:\n",
    "- `Some(value)` when key exists\n",
    "- `None` when key doesn't exist"
   ]
  },
  {
   "cell_type": "code",
   "execution_count": 50,
   "id": "c29fb558-8693-4a4d-a9c7-5eafbf90a962",
   "metadata": {},
   "outputs": [
    {
     "data": {
      "text/plain": [
       "\u001b[36mres49_0\u001b[39m: \u001b[32mOption\u001b[39m[\u001b[32mString\u001b[39m] = \u001b[33mSome\u001b[39m(value = \u001b[32m\"a\"\u001b[39m)\n",
       "\u001b[36mres49_1\u001b[39m: \u001b[32mOption\u001b[39m[\u001b[32mString\u001b[39m] = \u001b[32mNone\u001b[39m\n",
       "\u001b[36mres49_2\u001b[39m: \u001b[32mAny\u001b[39m = \u001b[32m'?'\u001b[39m"
      ]
     },
     "execution_count": 50,
     "metadata": {},
     "output_type": "execute_result"
    }
   ],
   "source": [
    "map1.get(1)\n",
    "map1.get(4)\n",
    "map1.getOrElse(4, '?')"
   ]
  },
  {
   "cell_type": "markdown",
   "id": "0e6fb070-33eb-4355-901f-1a06c537f6fe",
   "metadata": {},
   "source": [
    "Adding/updating entries (immutable)"
   ]
  },
  {
   "cell_type": "code",
   "execution_count": 52,
   "id": "6e703c8c-162a-4e3b-842b-c805a20b4582",
   "metadata": {},
   "outputs": [
    {
     "data": {
      "text/plain": [
       "\u001b[36mres51\u001b[39m: \u001b[32mMap\u001b[39m[\u001b[32mInt\u001b[39m, \u001b[32mString\u001b[39m] = \u001b[33mMap\u001b[39m(\u001b[32m1\u001b[39m -> \u001b[32m\"a\"\u001b[39m, \u001b[32m2\u001b[39m -> \u001b[32m\"b\"\u001b[39m, \u001b[32m3\u001b[39m -> \u001b[32m\"c\"\u001b[39m, \u001b[32m4\u001b[39m -> \u001b[32m\"d\"\u001b[39m)"
      ]
     },
     "execution_count": 52,
     "metadata": {},
     "output_type": "execute_result"
    }
   ],
   "source": [
    "map1 + (4 -> \"d\")"
   ]
  },
  {
   "cell_type": "markdown",
   "id": "ea080603-a9e9-4d72-bd3c-eceaf8ebb0c6",
   "metadata": {},
   "source": [
    "Removing entries by the key:"
   ]
  },
  {
   "cell_type": "code",
   "execution_count": 53,
   "id": "2654f477-bbd2-4b91-824f-c366aab42d5f",
   "metadata": {},
   "outputs": [
    {
     "data": {
      "text/plain": [
       "\u001b[36mres52\u001b[39m: \u001b[32mMap\u001b[39m[\u001b[32mInt\u001b[39m, \u001b[32mString\u001b[39m] = \u001b[33mMap\u001b[39m(\u001b[32m1\u001b[39m -> \u001b[32m\"a\"\u001b[39m, \u001b[32m3\u001b[39m -> \u001b[32m\"c\"\u001b[39m)"
      ]
     },
     "execution_count": 53,
     "metadata": {},
     "output_type": "execute_result"
    }
   ],
   "source": [
    "map1 - 2 // 2 is a key"
   ]
  },
  {
   "cell_type": "markdown",
   "id": "22d024bb-c0fa-4a39-8dc9-571c74ee056b",
   "metadata": {},
   "source": [
    "Source📝[^16] Shows different ways to create, access, and modify immutable Maps.\n",
    "- `->` operator creates tuple pairs (syntactic sugar for `(1, \"a\")`)\n",
    "- `apply(key)` throws exception if key doesn't exist (unsafe but concise)\n",
    "- `get(key)` returns `Option[Value]` - safe handling of missing keys\n",
    "- `getOrElse(key, default)` provides fallback value for missing keys\n",
    "- `+` and `++` create new maps with additional entries\n",
    "- `-` creates new map with key removed\n",
    "\n",
    "This forces callers to handle the missing key case, preventing runtime errors.\n",
    "\n",
    "#### Traversing Maps\n",
    "**For comprehension** with tuple destructuring: `(k, v) <- ratings` automatically unpacks each key-value pair"
   ]
  },
  {
   "cell_type": "code",
   "execution_count": 57,
   "id": "a4272118-8ec3-429f-baa4-223626e590bf",
   "metadata": {},
   "outputs": [
    {
     "name": "stdout",
     "output_type": "stream",
     "text": [
      "key: 1 and value is: a\n",
      "key: 2 and value is: b\n",
      "key: 3 and value is: c\n"
     ]
    },
    {
     "data": {
      "text/plain": [
       "\u001b[36mmap1\u001b[39m: \u001b[32mMap\u001b[39m[\u001b[32mInt\u001b[39m, \u001b[32mString\u001b[39m] = \u001b[33mMap\u001b[39m(\u001b[32m1\u001b[39m -> \u001b[32m\"a\"\u001b[39m, \u001b[32m2\u001b[39m -> \u001b[32m\"b\"\u001b[39m, \u001b[32m3\u001b[39m -> \u001b[32m\"c\"\u001b[39m)"
      ]
     },
     "execution_count": 57,
     "metadata": {},
     "output_type": "execute_result"
    }
   ],
   "source": [
    "val map1 = Map(1 -> \"a\", 2 -> \"b\", 3 -> \"c\")\n",
    "\n",
    "for ((k, v) <- map1) { println(s\"key: $k and value is: $v\") }"
   ]
  },
  {
   "cell_type": "markdown",
   "id": "b0aa575d-db5b-4d4e-8da6-b412341707d1",
   "metadata": {},
   "source": [
    "**Pattern matching** in foreach: `case (movie, rating) =>` explicitly shows tuple destructuring"
   ]
  },
  {
   "cell_type": "code",
   "execution_count": 60,
   "id": "07199a9d-03ec-4145-881d-5290d034364b",
   "metadata": {},
   "outputs": [
    {
     "name": "stdout",
     "output_type": "stream",
     "text": [
      "key: 1 and value is: a\n",
      "key: 2 and value is: b\n",
      "key: 3 and value is: c\n"
     ]
    }
   ],
   "source": [
    "map1.foreach{\n",
    "    case (k, v) => println(s\"key: $k and value is: $v\")\n",
    "}"
   ]
  },
  {
   "cell_type": "markdown",
   "id": "6daa3d85-596b-4053-b588-870efa79211d",
   "metadata": {},
   "source": [
    "**Tuple accessors**: `x._1` (key) and `x._2` (value) directly access tuple components"
   ]
  },
  {
   "cell_type": "code",
   "execution_count": 61,
   "id": "70084f40-61df-43df-90a6-c8431047335a",
   "metadata": {},
   "outputs": [
    {
     "name": "stdout",
     "output_type": "stream",
     "text": [
      "key: 1 and value is a\n",
      "key: 2 and value is b\n",
      "key: 3 and value is c\n"
     ]
    }
   ],
   "source": [
    "map1.foreach(x => println(s\"key: ${x._1} and value is ${x._2}\"))"
   ]
  },
  {
   "cell_type": "markdown",
   "id": "c99f6c77-1bab-4514-8de1-608f65e6759a",
   "metadata": {},
   "source": [
    "**Separate iteration**: `keys` and `values` methods provide iterators over each component independently"
   ]
  },
  {
   "cell_type": "code",
   "execution_count": 66,
   "id": "7ecdbeba-302f-414d-a197-c3b93a91baed",
   "metadata": {},
   "outputs": [
    {
     "name": "stdout",
     "output_type": "stream",
     "text": [
      "123abc"
     ]
    }
   ],
   "source": [
    "map1.keys.foreach(k => print(k))\n",
    "map1.values.foreach(v => print(v))"
   ]
  },
  {
   "cell_type": "markdown",
   "id": "0fe41732-e0c4-4161-aa76-f0abdc314981",
   "metadata": {
    "editable": true,
    "slideshow": {
     "slide_type": ""
    },
    "tags": []
   },
   "source": [
    "Source📝[^17]: Demonstrates multiple idiomatic ways to traverse Map entries.\n",
    "\n",
    "> Maps are Iterables of key-value pairs (also named mappings or associations)\n",
    "{:.info-box}\n",
    "\n",
    "**Map as Collection of Tuples**: Maps are conceptually `Iterable[(K, V)]` - a collection of 2-tuples. Each iteration yields a pair `(key, value)` which can be destructured using pattern matching or accessed via tuple syntax.\n",
    "\n",
    "**Performance Note**: Using `keys` or `values` creates lightweight iterators without copying data.\n",
    "\n",
    "**Transformer methods** take at least one collection and produce a new collection[^18]. In Scala 2, these include:\n",
    "\n",
    "| Method | Description | Example |\n",
    "|--------|-------------|---------|\n",
    "| `map` | Apply function to each element | `List(1,2,3).map(_ * 2)` → `List(2,4,6)` |\n",
    "| `filter` | Keep elements matching predicate | `List(1,2,3,4).filter(_ > 2)` → `List(3,4)` |\n",
    "| `flatMap` | Map and flatten nested results | `List(1,2).flatMap(n => List(n, n*10))` → `List(1,10,2,20)` |\n",
    "| `collect` | Partial function mapping + filtering | `List(1,2,3).collect { case x if x > 1 => x * 2 }` → `List(4,6)` |\n",
    "\n",
    "#### The map Method\n",
    "The `map(_ * 2)` uses underscore syntax for anonymous function: `x => x * 2`"
   ]
  },
  {
   "cell_type": "code",
   "execution_count": 67,
   "id": "ba8c1eb5-56ef-4b42-bc78-561560cea2a1",
   "metadata": {},
   "outputs": [
    {
     "data": {
      "text/plain": [
       "\u001b[36mnumbers\u001b[39m: \u001b[32mList\u001b[39m[\u001b[32mInt\u001b[39m] = \u001b[33mList\u001b[39m(\u001b[32m1\u001b[39m, \u001b[32m2\u001b[39m, \u001b[32m3\u001b[39m, \u001b[32m4\u001b[39m, \u001b[32m5\u001b[39m)\n",
       "\u001b[36mres66_1\u001b[39m: \u001b[32mList\u001b[39m[\u001b[32mInt\u001b[39m] = \u001b[33mList\u001b[39m(\u001b[32m2\u001b[39m, \u001b[32m4\u001b[39m, \u001b[32m6\u001b[39m, \u001b[32m8\u001b[39m, \u001b[32m10\u001b[39m)"
      ]
     },
     "execution_count": 67,
     "metadata": {},
     "output_type": "execute_result"
    }
   ],
   "source": [
    "val numbers = List(1,2,3,4,5)\n",
    "numbers.map(_ * 2)"
   ]
  },
  {
   "cell_type": "markdown",
   "id": "bb374661-a335-4ea5-8d9e-5d2d701da53e",
   "metadata": {},
   "source": [
    "map with function"
   ]
  },
  {
   "cell_type": "code",
   "execution_count": 68,
   "id": "3d23e032-7605-4f02-bbc7-c0e61bff215f",
   "metadata": {},
   "outputs": [
    {
     "data": {
      "text/plain": [
       "\u001b[36mres67\u001b[39m: \u001b[32mList\u001b[39m[\u001b[32mInt\u001b[39m] = \u001b[33mList\u001b[39m(\u001b[32m1\u001b[39m, \u001b[32m2\u001b[39m, \u001b[32m3\u001b[39m)"
      ]
     },
     "execution_count": 68,
     "metadata": {},
     "output_type": "execute_result"
    }
   ],
   "source": [
    "List(\"a\", \"bb\", \"ccc\").map(_.length)"
   ]
  },
  {
   "cell_type": "markdown",
   "id": "978ae75c-57c4-47ff-be1d-792f8d031069",
   "metadata": {},
   "source": [
    "map preserves collection type"
   ]
  },
  {
   "cell_type": "code",
   "execution_count": 69,
   "id": "ed86066b-5c02-423a-80e1-6eca78c7d200",
   "metadata": {},
   "outputs": [
    {
     "data": {
      "text/plain": [
       "\u001b[36mvector\u001b[39m: \u001b[32mVector\u001b[39m[\u001b[32mInt\u001b[39m] = \u001b[33mVector\u001b[39m(\u001b[32m1\u001b[39m, \u001b[32m2\u001b[39m, \u001b[32m3\u001b[39m)\n",
       "\u001b[36mvectorResult\u001b[39m: \u001b[32mVector\u001b[39m[\u001b[32mInt\u001b[39m] = \u001b[33mVector\u001b[39m(\u001b[32m2\u001b[39m, \u001b[32m3\u001b[39m, \u001b[32m4\u001b[39m)"
      ]
     },
     "execution_count": 69,
     "metadata": {},
     "output_type": "execute_result"
    }
   ],
   "source": [
    "val vector = Vector(1, 2, 3)\n",
    "val vectorResult = vector.map(_ + 1)"
   ]
  },
  {
   "cell_type": "markdown",
   "id": "8889dd08-ff1c-444a-af36-18d3742f1cdd",
   "metadata": {},
   "source": [
    "Example📝[^19]"
   ]
  },
  {
   "cell_type": "markdown",
   "id": "89fde23a-98db-493d-be9e-d2ebfdf749fa",
   "metadata": {
    "editable": true,
    "slideshow": {
     "slide_type": ""
    },
    "tags": []
   },
   "source": [
    "**Functor Laws**: The `map` operation makes collections into **functors**[^52]. To be a valid functor, `map` must satisfy two laws:\n",
    "\n",
    "1. **Identity**: `collection.map(x => x) == collection`\n",
    "   - Mapping the identity function returns the same collection\n",
    "\n",
    "2. **Composition**: `collection.map(f).map(g) == collection.map(x => g(f(x)))`\n",
    "   - Mapping twice equals mapping the composition once\n",
    "   - This means: `map(f).map(g)` = `map(g ∘ f)` where `∘` is function composition\n",
    "\n",
    "**Mathematics**: If we have functions $f: A → B$ and $g: B → C$, then:\n",
    "$$\\text{map}(g) ∘ \\text{map}(f) = \\text{map}(g ∘ f)$$\n",
    "\n",
    "This property allows the compiler to optimize chained `map` operations.\n",
    "\n",
    "#### The filter Method\n",
    "The `filter(_ % 2 == 0)` keeps only elements where the predicate returns `true`: $$\\{x \\in \\text{numbers} | x \\bmod 2 = 0\\}$$"
   ]
  },
  {
   "cell_type": "code",
   "execution_count": 73,
   "id": "5da5d914-3a2f-4d32-966f-49c422044229",
   "metadata": {
    "editable": true,
    "slideshow": {
     "slide_type": ""
    },
    "tags": []
   },
   "outputs": [
    {
     "data": {
      "text/plain": [
       "\u001b[36mnumbers\u001b[39m: \u001b[32mList\u001b[39m[\u001b[32mInt\u001b[39m] = \u001b[33mList\u001b[39m(\u001b[32m1\u001b[39m, \u001b[32m2\u001b[39m, \u001b[32m3\u001b[39m, \u001b[32m4\u001b[39m, \u001b[32m5\u001b[39m, \u001b[32m6\u001b[39m, \u001b[32m7\u001b[39m, \u001b[32m8\u001b[39m, \u001b[32m9\u001b[39m, \u001b[32m10\u001b[39m)\n",
       "\u001b[36mres72_1\u001b[39m: \u001b[32mList\u001b[39m[\u001b[32mInt\u001b[39m] = \u001b[33mList\u001b[39m(\u001b[32m2\u001b[39m, \u001b[32m4\u001b[39m, \u001b[32m6\u001b[39m, \u001b[32m8\u001b[39m, \u001b[32m10\u001b[39m)"
      ]
     },
     "execution_count": 73,
     "metadata": {},
     "output_type": "execute_result"
    }
   ],
   "source": [
    "val numbers = (1 to 10).toList\n",
    "// Filter even numbers\n",
    "numbers.filter( _ % 2 == 0 )"
   ]
  },
  {
   "cell_type": "markdown",
   "id": "02abb838-b1f0-4458-a637-9afe61e1826c",
   "metadata": {},
   "source": [
    "Multiple `filter` calls can be chained: `filter(p1).filter(p2)` ≡ `filter(x => p1(x) && p2(x))`"
   ]
  },
  {
   "cell_type": "code",
   "execution_count": 74,
   "id": "b6a31b36-c440-4566-9dab-3436c3fa781e",
   "metadata": {},
   "outputs": [
    {
     "data": {
      "text/plain": [
       "\u001b[36mres73\u001b[39m: \u001b[32mList\u001b[39m[\u001b[32mInt\u001b[39m] = \u001b[33mList\u001b[39m(\u001b[32m3\u001b[39m, \u001b[32m4\u001b[39m, \u001b[32m5\u001b[39m, \u001b[32m6\u001b[39m, \u001b[32m7\u001b[39m)"
      ]
     },
     "execution_count": 74,
     "metadata": {},
     "output_type": "execute_result"
    }
   ],
   "source": [
    "numbers.filter(_ > 2).filter(_ < 8)"
   ]
  },
  {
   "cell_type": "markdown",
   "id": "075b150a-b690-4f21-bc22-cff2a8e12d4d",
   "metadata": {
    "editable": true,
    "slideshow": {
     "slide_type": ""
    },
    "tags": []
   },
   "source": [
    "Example📝[^21]: Demonstrates filtering collections based on boolean predicates (test conditions).\n",
    "\n",
    "**Predicate Function**: A **predicate** is a function that returns a Boolean: `A => Boolean`. It answers \"yes\" or \"no\" questions about each element.\n",
    "\n",
    "Filter implements set comprehension notation:\n",
    "$$\\{x \\in S | P(x)\\}$$\n",
    "\n",
    "Read as: \"the set of all x in S such that P(x) is true\"\n",
    "\n",
    "\n",
    "**Performance**: Filter must traverse all elements once, giving O(n) time complexity. The resulting collection may be smaller but never larger than the input.\n",
    "\n",
    "#### The flatMap Method\n",
    "\n",
    "Imagine you have a **wrapped value** inside a container (like `Option[Int]` or `List[String]`). You want to:\n",
    "\n",
    "1. **Extract** the value from its container\n",
    "2. **Transform** it using a function that *also* produces a wrapped result\n",
    "3. **Avoid nesting** containers (so you don't end up with `Option[Option[Int]]`)\n",
    "\n",
    "This is exactly what `flatMap` does. The word \"flat\" is key—it flattens the nesting that would naturally occur.\n",
    "\n",
    "```\n",
    "flatMap: M[A] → (A → M[B]) → M[B]\n",
    "```\n",
    "\n",
    "| Symbol | Meaning |\n",
    "|--------|---------|\n",
    "| M[A] | A value of type A wrapped in monad M (e.g., Option[Int], List[String]) |\n",
    "| A | The unwrapped value type |\n",
    "| A → M[B] | A function that takes a plain A and returns a wrapped B |\n",
    "| M[B] | The final result: a B wrapped in monad M (same monad, different type) |\n",
    "\n",
    "In Scala syntax:\n",
    "\n",
    "```scala\n",
    "def flatMap[A, B](ma: M[A])(f: A => M[B]): M[B]\n",
    "```\n",
    "\n",
    "For `flatMap` to preserve monadic semantics, it must satisfy  3 **Monad Laws**:\n",
    "\n",
    "**Left Identity**: Creating a context from a value and then flatMap-ing is the same as just applying the function:\n",
    "\n",
    "```\n",
    "unit(a).flatMap(f) = f(a)\n",
    "```\n",
    "\n",
    "**Right Identity**: flatMap-ing with the constructor does nothing:\n",
    "\n",
    "```\n",
    "m.flatMap(unit) = m\n",
    "```\n",
    "\n",
    "**Associativity**: Chaining two sequential flatMap calls is the same as nesting one inside the other:\n",
    "\n",
    "```\n",
    "m.flatMap(f).flatMap(g) = m.flatMap(x => f(x).flatMap(g))\n",
    "```\n",
    "\n",
    "For example, Monad Type Class Definition:\n",
    "- `pure[A](value: A): F[A]` — wraps a plain value in monad F\n",
    "- `flatMap[A, B](ma: F[A])(f: A => F[B]): F[B]` — sequences operations\n",
    "- `map` is derived from `flatMap` + `pure` — all monads automatically get `map`"
   ]
  },
  {
   "cell_type": "code",
   "execution_count": 3,
   "id": "7f285c85-e941-4d97-affa-15c702b81d8c",
   "metadata": {},
   "outputs": [
    {
     "data": {
      "text/plain": [
       "\u001b[32mimport \u001b[39m\u001b[36mscala.language.higherKinds\n",
       "\n",
       "\u001b[39m\n",
       "defined \u001b[32mtrait\u001b[39m \u001b[36mMonad\u001b[39m\n",
       "\u001b[36moptionMonad\u001b[39m: \u001b[32mMonad\u001b[39m[\u001b[32mOption\u001b[39m] = ammonite.$sess.cmd2$Helper$$anon$1@7c758c02\n",
       "\u001b[36mlistMonad\u001b[39m: \u001b[32mMonad\u001b[39m[\u001b[32mList\u001b[39m] = ammonite.$sess.cmd2$Helper$$anon$2@650110e5\n",
       "defined \u001b[32mfunction\u001b[39m \u001b[36mcombine\u001b[39m\n",
       "\u001b[36mres2_5\u001b[39m: \u001b[32mOption\u001b[39m[\u001b[32mInt\u001b[39m] = \u001b[33mSome\u001b[39m(value = \u001b[32m7\u001b[39m)\n",
       "\u001b[36mres2_6\u001b[39m: \u001b[32mList\u001b[39m[\u001b[32mInt\u001b[39m] = \u001b[33mList\u001b[39m(\u001b[32m4\u001b[39m, \u001b[32m5\u001b[39m, \u001b[32m5\u001b[39m, \u001b[32m6\u001b[39m)"
      ]
     },
     "execution_count": 3,
     "metadata": {},
     "output_type": "execute_result"
    }
   ],
   "source": [
    "import scala.language.higherKinds\n",
    "\n",
    "trait Monad[F[_]] {\n",
    "  def pure[A](value: A): F[A]\n",
    "  def flatMap[A, B](ma: F[A])(f: A => F[B]): F[B]\n",
    "  def map[A, B](ma: F[A])(f: A => B): F[B] =\n",
    "    flatMap(ma)(a => pure(f(a)))\n",
    "}\n",
    "\n",
    "implicit val optionMonad: Monad[Option] = new Monad[Option] {\n",
    "  def pure[A](value: A): Option[A] = Some(value)\n",
    "  def flatMap[A, B](ma: Option[A])(f: A => Option[B]): Option[B] = ma.flatMap(f)\n",
    "}\n",
    "\n",
    "implicit val listMonad: Monad[List] = new Monad[List] {\n",
    "  def pure[A](value: A): List[A] = List(value)\n",
    "  def flatMap[A, B](ma: List[A])(f: A => List[B]): List[B] = ma.flatMap(f)\n",
    "}\n",
    "\n",
    "def combine[M[_]: Monad](a: M[Int], b: M[Int])(implicit M: Monad[M]): M[Int] =\n",
    "  M.flatMap(a) { x =>\n",
    "    M.flatMap(b) { y =>\n",
    "      M.pure(x + y)\n",
    "    }\n",
    "  }\n",
    "\n",
    "// Explicitly specify type parameter\n",
    "combine[Option](Some(3), Some(4))       // Some(7) ✅\n",
    "combine[List](List(1, 2), List(3, 4))   // List(4, 5, 5, 6) ✅"
   ]
  },
  {
   "cell_type": "markdown",
   "id": "42fe6e1f-ced8-41ff-9af0-1d48f5570753",
   "metadata": {},
   "source": [
    "Source: *Advanced Scala*, Chapter 4: \"Monads\" → Section 4.1: \"Monad Definition and Laws\"\n",
    "\n",
    "For lists, flatMap implements **list comprehensions**:\n",
    "$$[f(x, y) | x ← xs, y ← ys] = \\text{xs.flatMap}(x ⇒ \\text{ys.map}(y ⇒ f(x, y)))$$"
   ]
  },
  {
   "cell_type": "code",
   "execution_count": 75,
   "id": "0cd504fe-7327-4985-b851-42ec45f247ab",
   "metadata": {
    "editable": true,
    "slideshow": {
     "slide_type": ""
    },
    "tags": []
   },
   "outputs": [
    {
     "data": {
      "text/plain": [
       "\u001b[36mnumbers\u001b[39m: \u001b[32mList\u001b[39m[\u001b[32mInt\u001b[39m] = \u001b[33mList\u001b[39m(\u001b[32m1\u001b[39m, \u001b[32m2\u001b[39m, \u001b[32m3\u001b[39m)"
      ]
     },
     "execution_count": 75,
     "metadata": {},
     "output_type": "execute_result"
    }
   ],
   "source": [
    "val numbers = (1 to 3).toList"
   ]
  },
  {
   "cell_type": "code",
   "execution_count": 77,
   "id": "2429e48c-5732-4aee-8e4b-bb34270d9208",
   "metadata": {},
   "outputs": [
    {
     "data": {
      "text/plain": [
       "\u001b[36mres76\u001b[39m: \u001b[32mList\u001b[39m[\u001b[32mInt\u001b[39m] = \u001b[33mList\u001b[39m(\u001b[32m2\u001b[39m, \u001b[32m4\u001b[39m, \u001b[32m6\u001b[39m)"
      ]
     },
     "execution_count": 77,
     "metadata": {},
     "output_type": "execute_result"
    }
   ],
   "source": [
    "numbers.map(n => 2 * n)"
   ]
  },
  {
   "cell_type": "markdown",
   "id": "4252fe4b-6d0a-4b77-a54b-9ecc7e84918b",
   "metadata": {},
   "source": [
    "The `map` with a function returning collections creates nested structure: `List[List[Int]]`"
   ]
  },
  {
   "cell_type": "code",
   "execution_count": 78,
   "id": "c15e218b-87f9-4c40-85b4-8d6cb70c22bd",
   "metadata": {},
   "outputs": [
    {
     "data": {
      "text/plain": [
       "\u001b[36mnested\u001b[39m: \u001b[32mList\u001b[39m[\u001b[32mList\u001b[39m[\u001b[32mInt\u001b[39m]] = \u001b[33mList\u001b[39m(\u001b[33mList\u001b[39m(\u001b[32m1\u001b[39m, \u001b[32m10\u001b[39m), \u001b[33mList\u001b[39m(\u001b[32m2\u001b[39m, \u001b[32m20\u001b[39m), \u001b[33mList\u001b[39m(\u001b[32m3\u001b[39m, \u001b[32m30\u001b[39m))"
      ]
     },
     "execution_count": 78,
     "metadata": {},
     "output_type": "execute_result"
    }
   ],
   "source": [
    "val nested = numbers.map(n => List(n, n * 10))"
   ]
  },
  {
   "cell_type": "markdown",
   "id": "f8fbc173-a972-47aa-97ba-b17e7ca826d3",
   "metadata": {},
   "source": [
    "The `flatMap` applies the function **and** flattens one level: `List[Int]`"
   ]
  },
  {
   "cell_type": "code",
   "execution_count": 84,
   "id": "36c5ed3d-a8b9-4b45-a8fb-b341a2bc8301",
   "metadata": {},
   "outputs": [
    {
     "data": {
      "text/plain": [
       "\u001b[36mres83_0\u001b[39m: \u001b[32mList\u001b[39m[\u001b[32mInt\u001b[39m] = \u001b[33mList\u001b[39m(\u001b[32m1\u001b[39m, \u001b[32m10\u001b[39m, \u001b[32m2\u001b[39m, \u001b[32m20\u001b[39m, \u001b[32m3\u001b[39m, \u001b[32m30\u001b[39m)\n",
       "\u001b[36mres83_1\u001b[39m: \u001b[32mList\u001b[39m[\u001b[32mInt\u001b[39m] = \u001b[33mList\u001b[39m(\u001b[32m1\u001b[39m, \u001b[32m10\u001b[39m, \u001b[32m2\u001b[39m, \u001b[32m20\u001b[39m, \u001b[32m3\u001b[39m, \u001b[32m30\u001b[39m)"
      ]
     },
     "execution_count": 84,
     "metadata": {},
     "output_type": "execute_result"
    }
   ],
   "source": [
    "nested.flatten // flatten the above nested \n",
    "numbers.flatMap(n => List(n, n * 10)) // ✔️"
   ]
  },
  {
   "cell_type": "markdown",
   "id": "22926972-0d72-4e8f-8874-929d813e7774",
   "metadata": {
    "editable": true,
    "slideshow": {
     "slide_type": ""
    },
    "tags": []
   },
   "source": [
    "Example📝[^22]: Shows how `flatMap` combines mapping and flattening into one operation, crucial for working with nested structures and monadic types.\n",
    "\n",
    "```mermaid\n",
    "---\n",
    "config:\n",
    "  look: neo\n",
    "  theme: default\n",
    "---\n",
    "graph TD\n",
    "    A[\"numbers = List(1, 2, 3)\"] -->|\"map(n => List(n, n*10))\"| B[\"List(List(1,10), List(2,20), List(3,30))\"]\n",
    "    \n",
    "    B -->|\"flatten\"| C[\"List(1, 10, 2, 20, 3, 30)\"]\n",
    "    \n",
    "    A -->|\"flatMap(n => List(n, n*10))\"| D[\"List(1, 10, 2, 20, 3, 30)\"]\n",
    "    \n",
    "    C -->|\"same result\"| D\n",
    "    \n",
    "    style A fill:#e3f2fd\n",
    "    style B fill:#fff3e0\n",
    "    style C fill:#c8e6c9\n",
    "    style D fill:#c8e6c9\n",
    "```\n",
    "\n",
    "- `map` with a function returning collections creates nested structure: `List[List[Int]]`\n",
    "- `flatMap` applies the function **and** flattens one level: `List[Int]`\n",
    "\n",
    "\n",
    "**Relationship**: `flatMap(f)` ≡ `map(f).flatten`\n",
    "\n",
    "**Monadic Bind**: `flatMap` is the **bind** operation in monadic programming. For a monad `M[A]`:\n",
    "$$\\text{flatMap}: M[A] → (A → M[B]) → M[B]$$\n",
    "\n",
    "This allows **sequencing computations** where each step may produce multiple results (List) or may fail (Option).\n",
    "\n",
    "With `Option`, `flatMap` filters out `None` values automatically:\n",
    "  - `Some(x)` → contributes `x` to result\n",
    "  - `None` → contributes nothing (filtered out)"
   ]
  },
  {
   "cell_type": "code",
   "execution_count": 5,
   "id": "840b6bf0-d04e-49ac-b0c4-eb9ed8cfa9d6",
   "metadata": {},
   "outputs": [
    {
     "data": {
      "text/plain": [
       "defined \u001b[32mfunction\u001b[39m \u001b[36mfindInt\u001b[39m"
      ]
     },
     "execution_count": 5,
     "metadata": {},
     "output_type": "execute_result"
    }
   ],
   "source": [
    "def findInt(s: String): Option[Int] = \n",
    "    try Some(s.toInt)\n",
    "    catch {case _: NumberFormatException => None\n",
    "}"
   ]
  },
  {
   "cell_type": "markdown",
   "id": "b2ba258d-a24e-495f-a472-98a73fafd598",
   "metadata": {},
   "source": [
    "test the above method:"
   ]
  },
  {
   "cell_type": "code",
   "execution_count": 8,
   "id": "07a3f504-6a46-4680-80b2-1761fb998522",
   "metadata": {},
   "outputs": [
    {
     "data": {
      "text/plain": [
       "\u001b[36mstrings\u001b[39m: \u001b[32mList\u001b[39m[\u001b[32mString\u001b[39m] = \u001b[33mList\u001b[39m(\u001b[32m\"2\"\u001b[39m, \u001b[32m\"too\"\u001b[39m, \u001b[32m\"5.22\"\u001b[39m, \u001b[32m\"two\"\u001b[39m, \u001b[32m\"10\"\u001b[39m)\n",
       "\u001b[36mres7_1\u001b[39m: \u001b[32mList\u001b[39m[\u001b[32mInt\u001b[39m] = \u001b[33mList\u001b[39m(\u001b[32m2\u001b[39m, \u001b[32m10\u001b[39m)"
      ]
     },
     "execution_count": 8,
     "metadata": {},
     "output_type": "execute_result"
    }
   ],
   "source": [
    "val strings = List(\"2\", \"too\", \"5.22\", \"two\", \"10\")\n",
    "strings.flatMap(findInt)"
   ]
  },
  {
   "cell_type": "markdown",
   "id": "32549a4d-ed87-4e99-acf4-4c0d06db42b9",
   "metadata": {},
   "source": [
    "A monad is a control mechanism for sequencing computations. Instead of thinking of it as a purely mathematical concept, think of it as a way to specify \"what happens next\" in a computation, where the next step may depend on the result of the previous step.\n",
    "\n",
    "```scala\n",
    "def flatMap[A, B](ma: M[A])(f: A => M[B]): M[B]\n",
    "```\n",
    "\n",
    "### Reduction Operations\n",
    "\n",
    "Operations that **combine** elements to produce a single result:\n",
    "\n",
    "#### fold, foldLeft, foldRight\n",
    "\n",
    "Fold operations implement **catamorphisms**, which are generalisations of recursion. They \"tear down\" a structure to a single value.\n",
    "\n",
    "For a list `[a₁, a₂, a₃, a₄]` with operation `⊕` and initial value `z`:\n",
    "\n",
    "**foldLeft** (left-associative):\n",
    "$$((((z ⊕ a₁) ⊕ a₂) ⊕ a₃) ⊕ a₄)$$\n",
    "\n",
    "**foldRight** (right-associative):\n",
    "$$(a₁ ⊕ (a₂ ⊕ (a₃ ⊕ (a₄ ⊕ z))))$$\n",
    "\n",
    "**Associativity Requirement for fold**: Operation must satisfy:\n",
    "$$(a ⊕ b) ⊕ c = a ⊕ (b ⊕ c)$$\n",
    "\n",
    "Examples: `+`, `*`, `max`, `min` are associative; `-`, `/` are not.\n"
   ]
  },
  {
   "cell_type": "code",
   "execution_count": 9,
   "id": "a106e835-150d-4691-a294-75520c856ac8",
   "metadata": {},
   "outputs": [
    {
     "data": {
      "text/plain": [
       "\u001b[36mnumbers\u001b[39m: \u001b[32mList\u001b[39m[\u001b[32mInt\u001b[39m] = \u001b[33mList\u001b[39m(\u001b[32m1\u001b[39m, \u001b[32m2\u001b[39m, \u001b[32m3\u001b[39m, \u001b[32m4\u001b[39m, \u001b[32m5\u001b[39m)"
      ]
     },
     "execution_count": 9,
     "metadata": {},
     "output_type": "execute_result"
    }
   ],
   "source": [
    "val numbers = (1 to 5).toList"
   ]
  },
  {
   "cell_type": "markdown",
   "id": "90e9cfc1-e00f-4cd0-8203-7042d99ba692",
   "metadata": {
    "editable": true,
    "slideshow": {
     "slide_type": ""
    },
    "tags": []
   },
   "source": [
    "**foldLeft**: Processes left-to-right with accumulator as first parameter: `((((z ⊕ a₁) ⊕ a₂) ⊕ a₃) ⊕ a₄)`\n",
    "\n",
    "> ```scala\n",
    "> def foldLeft[B](z: B)(op: (B, A) => B): B   // z is accumulator, A is element\n",
    "> ```\n",
    "{:.info-box}"
   ]
  },
  {
   "cell_type": "code",
   "execution_count": 16,
   "id": "6f3ddf55-83c6-4f2b-a954-c635ad1d3852",
   "metadata": {},
   "outputs": [
    {
     "data": {
      "text/plain": [
       "\u001b[36mres15_0\u001b[39m: \u001b[32mInt\u001b[39m = \u001b[32m15\u001b[39m\n",
       "\u001b[36mres15_1\u001b[39m: \u001b[32mString\u001b[39m = \u001b[32m\"12345\"\u001b[39m"
      ]
     },
     "execution_count": 16,
     "metadata": {},
     "output_type": "execute_result"
    }
   ],
   "source": [
    "numbers.foldLeft(0)(_ + _)\n",
    "// 0 + 1 = 1, 1 + 2 = 3, 3 + 3 = 6, 6 + 4 = 10, 10 + 5 = 15\n",
    "\n",
    "//with an accumulator\n",
    "numbers.foldLeft(\"\")((acc, n) => acc + n)"
   ]
  },
  {
   "cell_type": "markdown",
   "id": "660873d1-43c7-4b28-8f5d-4969683c076a",
   "metadata": {},
   "source": [
    "**foldRight**: Processes right-to-left with accumulator as second parameter: `(a₁ ⊕ (a₂ ⊕ (a₃ ⊕ (a₄ ⊕ z))))`\n",
    "\n",
    "> ```scala\n",
    "> def foldRight[B](z: B)(op: (A, B) => B): B  // z is accumulator, A is element\n",
    "> ```\n",
    "{:.info-box}"
   ]
  },
  {
   "cell_type": "code",
   "execution_count": 14,
   "id": "3bf3e17f-a88f-478b-9148-0a7109927f32",
   "metadata": {},
   "outputs": [
    {
     "data": {
      "text/plain": [
       "\u001b[36mres13\u001b[39m: \u001b[32mList\u001b[39m[\u001b[32mInt\u001b[39m] = \u001b[33mList\u001b[39m(\u001b[32m1\u001b[39m, \u001b[32m2\u001b[39m, \u001b[32m3\u001b[39m, \u001b[32m4\u001b[39m, \u001b[32m5\u001b[39m)"
      ]
     },
     "execution_count": 14,
     "metadata": {},
     "output_type": "execute_result"
    }
   ],
   "source": [
    "numbers.foldRight(List.empty[Int])((elem, acc) => elem :: acc)"
   ]
  },
  {
   "cell_type": "markdown",
   "id": "36498f22-f376-4488-a354-7baebfdfdb21",
   "metadata": {
    "editable": true,
    "slideshow": {
     "slide_type": ""
    },
    "tags": []
   },
   "source": [
    "**fold**: Can process in any order (requires associativity), enables parallelization\n",
    "> ```scala\n",
    "> def fold[A1 >: A](z: A1)(op: (A1, A1) => A1): A1\n",
    "> ```\n",
    "{:.info-box}"
   ]
  },
  {
   "cell_type": "code",
   "execution_count": 15,
   "id": "b82f6aa8-1e44-425b-9f0d-9898709d3050",
   "metadata": {
    "editable": true,
    "slideshow": {
     "slide_type": ""
    },
    "tags": []
   },
   "outputs": [
    {
     "data": {
      "text/plain": [
       "\u001b[36mres14\u001b[39m: \u001b[32mInt\u001b[39m = \u001b[32m120\u001b[39m"
      ]
     },
     "execution_count": 15,
     "metadata": {},
     "output_type": "execute_result"
    }
   ],
   "source": [
    "numbers.fold(1)(_ * _)"
   ]
  },
  {
   "cell_type": "markdown",
   "id": "de548755-6788-4f55-9629-332f1503c866",
   "metadata": {
    "editable": true,
    "slideshow": {
     "slide_type": ""
    },
    "tags": []
   },
   "source": [
    "Source📝[^23]: Demonstrates folding operations that reduce a collection to a single value by repeatedly applying a binary operation.\n",
    "\n",
    "**Subtraction Example Analysis**:\n",
    "- `reduceLeft(_ - _)` on `[1,2,3,4,5]`: \n",
    "  - `((((1 - 2) - 3) - 4) - 5)` = `(((-1 - 3) - 4) - 5)` = `((-4 - 4) - 5)` = `(-8 - 5)` = `-13`\n",
    "  \n",
    "- `reduceRight(_ - _)` on `[1,2,3,4,5]`:\n",
    "  - `(1 - (2 - (3 - (4 - 5))))` = `(1 - (2 - (3 - (-1))))` = `(1 - (2 - 4))` = `(1 - (-2))` = `3`\n",
    " \n",
    "**Key Differences from fold**:\n",
    "| Feature | fold | reduce |\n",
    "|---------|------|--------|\n",
    "| Initial value | Required parameter | Uses first element |\n",
    "| Empty collection | Returns initial value | Throws exception (use reduceOption) |\n",
    "| Result type | Can differ from element type | Must be same as element type |\n",
    "\n",
    "**When to use reduce**: When the operation is associative and you don't need a different result type. The first element naturally serves as the identity element.\n",
    "\n",
    "### Collection Queries\n",
    "\n",
    "#### Checking Conditions\n"
   ]
  },
  {
   "cell_type": "code",
   "execution_count": 17,
   "id": "1af83044-123c-4425-bee4-5b268cfa53ad",
   "metadata": {},
   "outputs": [
    {
     "data": {
      "text/plain": [
       "\u001b[36mnumbers\u001b[39m: \u001b[32mList\u001b[39m[\u001b[32mInt\u001b[39m] = \u001b[33mList\u001b[39m(\u001b[32m1\u001b[39m, \u001b[32m2\u001b[39m, \u001b[32m3\u001b[39m, \u001b[32m4\u001b[39m, \u001b[32m5\u001b[39m)\n",
       "\u001b[36mres16_1\u001b[39m: \u001b[32mBoolean\u001b[39m = \u001b[32mtrue\u001b[39m"
      ]
     },
     "execution_count": 17,
     "metadata": {},
     "output_type": "execute_result"
    }
   ],
   "source": [
    "val numbers = (1 to 5).toList\n",
    "numbers.exists(_ > 4)"
   ]
  },
  {
   "cell_type": "markdown",
   "id": "9e785d74-5e7e-471f-ae28-5654c2c8baaa",
   "metadata": {
    "editable": true,
    "slideshow": {
     "slide_type": ""
    },
    "tags": []
   },
   "source": [
    "## References\n",
    "\n",
    "[^1]: *Programming in Scala, Fourth Edition*, Ch. 24: \"Collections in Depth\" → \"Introduction\", p. 573\n",
    "\n",
    "[^2]: *Scala Cookbook, Second Edition*, Ch. 11: \"Collections: Introduction\" → \"Understanding the Collections Hierarchy\", p. 318-319\n",
    "\n",
    "[^3]: *Scala Cookbook, Second Edition*, Ch. 11: \"Collections: Introduction\" → \"Understanding the Collections Hierarchy\", p. 320\n",
    "\n",
    "[^4]: *Programming in Scala, Fourth Edition*, Ch. 24: \"Collections in Depth\" → \"Collections Hierarchy\", p. 574\n",
    "\n",
    "[^5]: *Scala Cookbook, Second Edition*, Ch. 11: \"Collections: Introduction\" → \"Understanding the Collections Hierarchy\", p. 323\n",
    "\n",
    "[^6]: *Scala Cookbook, Second Edition*, Ch. 11: \"Collections: Introduction\" → \"Understanding the Collections Hierarchy\", p. 322\n",
    "\n",
    "[^7]: *Scala Cookbook, Second Edition*, Ch. 11: \"Collections: Introduction\" → \"Understanding the Collections Hierarchy\", p. 322\n",
    "\n",
    "[^8]: *Scala Cookbook, Second Edition*, Ch. 11: \"Collections: Introduction\" → \"Sequences\", p. 321\n",
    "\n",
    "[^9]: *Scala Cookbook, Second Edition*, Ch. 13: \"Collections: Common Sequence Methods\" → \"List Operations\"\n",
    "\n",
    "[^10]: *Scala Cookbook, Second Edition*, Ch. 11: \"Collections: Introduction\" → \"Sequences\", p. 321-322\n",
    "\n",
    "[^11]: *Scala Cookbook, Second Edition*, Ch. 11: \"Collections: Introduction\" → \"Understanding the Collections Hierarchy\", p. 320\n",
    "\n",
    "[^12]: *Scala Cookbook, Second Edition*, Ch. 11: \"Collections: Introduction\" → \"Sets\", p. 323\n",
    "\n",
    "[^13]: *Scala Cookbook, Second Edition*, Ch. 15: \"Collections: Tuple, Range, Set, Stack, and Queue\" → \"Creating a Set\", p. 453-454\n",
    "\n",
    "[^14]: *Scala Cookbook, Second Edition*, Ch. 15: \"Collections: Tuple, Range, Set, Stack, and Queue\" → \"Sorted Sets\"\n",
    "\n",
    "[^15]: *Scala Cookbook, Second Edition*, Ch. 11: \"Collections: Introduction\" → \"Maps\", p. 322\n",
    "\n",
    "[^16]: *Scala Cookbook, Second Edition*, Ch. 14: \"Collections: Using Maps\" → \"Creating and Using Maps\", p. 424\n",
    "\n",
    "[^17]: *Scala Cookbook, Second Edition*, Ch. 14: \"Collections: Using Maps\" → \"Traversing a Map\", p. 435-436\n",
    "\n",
    "[^18]: *Scala Cookbook, Second Edition*, Ch. 11: \"Collections: Introduction\" → \"Transformer Methods\", p. 371\n",
    "\n",
    "[^19]: *Scala Cookbook, Second Edition*, Ch. 13: \"Collections: Common Sequence Methods\" → \"map Method\", p. 387-389\n",
    "\n",
    "[^20]: *Programming in Scala, Fourth Edition*, Ch. 24: \"Collections in Depth\" → \"Template Traits\", p. 588\n",
    "\n",
    "[^21]: *Scala Cookbook, Second Edition*, Ch. 13: \"Collections: Common Sequence Methods\" → \"filter Method\", p. 392-394\n",
    "\n",
    "[^22]: *Scala Cookbook, Second Edition*, Ch. 13: \"Collections: Common Sequence Methods\" → \"flatMap Method\"\n",
    "\n",
    "[^23]: *Functional Programming in Scala*, Ch. 10: \"Monoids\" → \"Folding\", p. 180\n",
    "\n",
    "[^24]: *Functional Programming in Scala*, Ch. 10: \"Monoids\" → \"Associativity and parallelism\", p. 179-181\n",
    "\n",
    "[^25]: *Scala Cookbook, Second Edition*, Ch. 13: \"Collections: Common Sequence Methods\" → \"reduce Method\", p. 400-405\n",
    "\n",
    "[^26]: *Scala Cookbook, Second Edition*, Ch. 13: \"Collections: Common Sequence Methods\" → \"Collection Methods\"\n",
    "\n",
    "[^27]: *Scala Cookbook, Second Edition*, Ch. 13: \"Collections: Common Sequence Methods\" → \"Taking and Dropping\"\n",
    "\n",
    "[^28]: *Scala Cookbook, Second Edition*, Ch. 13: \"Collections: Common Sequence Methods\" → \"Grouping Methods\", p. 397-399\n",
    "\n",
    "[^29]: *Scala Cookbook, Second Edition*, Ch. 13: \"Collections: Common Sequence Methods\" → \"Sorting\", p. 410-415\n",
    "\n",
    "[^30]: *Programming in Scala, Fourth Edition*, Ch. 23: \"For Expressions Revisited\" → \"Translation\", p. 557-561\n",
    "\n",
    "[^31]: *Scala Cookbook, Second Edition*, Ch. 13: \"Collections: Common Sequence Methods\" → \"for/yield with Collections\", p. 387-390\n",
    "\n",
    "[^32]: *Programming in Scala, Fourth Edition*, Ch. 23: \"For Expressions Revisited\" → \"Monads\", p. 566-567\n",
    "\n",
    "[^33]: *Scala Cookbook, Second Edition*, Ch. 11: \"Collections: Introduction\" → \"Views\", p. 335-337\n",
    "\n",
    "[^34]: *Scala Cookbook, Second Edition*, Ch. 11: \"Collections: Introduction\" → \"Views\", p. 336\n",
    "\n",
    "[^35]: *Scala Cookbook, Second Edition*, Ch. 11: \"Collections: Introduction\" → \"Performance\", p. 330-333\n",
    "\n",
    "[^36]: *Scala Cookbook, Second Edition*, Ch. 23: \"Types\" → \"Variance\", p. 670-674\n",
    "\n",
    "[^37]: *Scala Cookbook, Second Edition*, Ch. 23: \"Types\" → \"Covariance\", p. 671-672\n",
    "\n",
    "[^38]: *Programming in Scala, Fourth Edition*, Ch. 19: \"Type Parameterization\" → \"Contravariance\", p. 425-426\n",
    "\n",
    "[^39]: *Programming in Scala, Fourth Edition*, Ch. 19: \"Type Parameterization\" → \"Function Variance\", p. 426-427\n",
    "\n",
    "[^40]: *Programming in Scala, Fourth Edition*, Ch. 19: \"Type Parameterization\" → \"Liskov Substitution Principle\", p. 425\n",
    "\n",
    "[^41]: *Programming in Scala, Fourth Edition*, Ch. 19: \"Type Parameterization\" → \"Arrays and Variance\", p. 422-423\n",
    "\n",
    "[^42]: *Scala Cookbook, Second Edition*, Ch. 13: \"Collections: Common Sequence Methods\" → \"Iterators\", p. 381-384\n",
    "\n",
    "[^43]: *Scala Cookbook, Second Edition*, Ch. 13: \"Collections: Common Sequence Methods\" → \"Iterators\", p. 381-382\n",
    "\n",
    "[^44]: *Scala Cookbook, Second Edition*, Ch. 15: \"Collections: Tuple, Range, Set, Stack, and Queue\" → \"Ranges\", p. 449-453\n",
    "\n",
    "[^45]: *Scala Cookbook, Second Edition*, Ch. 15: \"Collections: Tuple, Range, Set, Stack, and Queue\" → \"Ranges\", p. 452-453\n",
    "\n",
    "[^46]: *Advanced Scala with Cats*, Ch. 3: \"Functors\" → \"Maybe Monad\"\n",
    "\n",
    "[^47]: *Scala Cookbook, Second Edition*, Ch. 13: \"Collections: Common Sequence Methods\" → \"Option Integration\"\n",
    "\n",
    "[^48]: Philip Wadler, \"Comprehending Monads\", p. 22, *WadlerMonads.pdf*\n",
    "\n",
    "[^49]: *Scala Cookbook, Second Edition*, Ch. 13: \"Collections: Common Sequence Methods\" → Examples\n",
    "\n",
    "[^50]: *Scala Cookbook, Second Edition*, Ch. 13: \"Collections: Common Sequence Methods\" → \"flatMap examples\"\n",
    "\n",
    "[^51]: *Scala Cookbook, Second Edition*, Ch. 14: \"Collections: Using Maps\" → \"Immutable Map Updates\"\n",
    "\n",
    "[^52]: [Scala 2 Functors Explained]({% link _posts/2025-10-26-Scala2-Functors.md %}){:target=\"_blank\"}\n",
    "\n",
    "{:gtxt: .message color=\"green\"}\n",
    "\n",
    "{:ytxt: .message color=\"yellow\"}\n",
    "\n",
    "{:rtxt: .message color=\"red\"}"
   ]
  }
 ],
 "metadata": {
  "kernelspec": {
   "display_name": "Scala",
   "language": "scala",
   "name": "scala"
  },
  "language_info": {
   "codemirror_mode": "text/x-scala",
   "file_extension": ".sc",
   "mimetype": "text/x-scala",
   "name": "scala",
   "nbconvert_exporter": "script",
   "version": "2.13.10"
  }
 },
 "nbformat": 4,
 "nbformat_minor": 5
}
