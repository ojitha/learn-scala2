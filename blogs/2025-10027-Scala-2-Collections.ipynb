{
 "cells": [
  {
   "cell_type": "markdown",
   "id": "0803e73f-f2cd-4fbb-aef8-622fc74e3a30",
   "metadata": {
    "editable": true,
    "slideshow": {
     "slide_type": ""
    },
    "tags": []
   },
   "source": [
    "---\n",
    "layout: post\n",
    "title:  Scala 2 Collections explained\n",
    "date:   2025-10-27\n",
    "categories: [Scala]\n",
    "mermaid: true\n",
    "maths: true\n",
    "typora-root-url: /Users/ojitha/GitHub/ojitha.github.io\n",
    "typora-copy-images-to: ../../blog/assets/images/${filename}\n",
    "---\n",
    "\n",
    "<style>\n",
    "/* Styles for the two-column layout */\n",
    ".image-text-container {\n",
    "    display: flex; /* Enables flexbox */\n",
    "    flex-wrap: wrap; /* Allows columns to stack on small screens */\n",
    "    gap: 20px; /* Space between the image and text */\n",
    "    align-items: center; /* Vertically centers content in columns */\n",
    "    margin-bottom: 20px; /* Space below this section */\n",
    "}\n",
    "\n",
    ".image-column {\n",
    "    flex: 1; /* Allows this column to grow */\n",
    "    min-width: 250px; /* Minimum width for the image column before stacking */\n",
    "    max-width: 40%; /* Maximum width for the image column to not take up too much space initially */\n",
    "    box-sizing: border-box; /* Include padding/border in element's total width/height */\n",
    "}\n",
    "\n",
    ".text-column {\n",
    "    flex: 2; /* Allows this column to grow more (e.g., twice as much as image-column) */\n",
    "    min-width: 300px; /* Minimum width for the text column before stacking */\n",
    "    box-sizing: border-box;\n",
    "}\n",
    "\n",
    "</style>\n",
    "\n",
    "<div class=\"image-text-container\">\n",
    "    <div class=\"image-column\">\n",
    "        <img src=\"https://raw.githubusercontent.com/ojitha/blog/master/assets/images/2025-10-26-Scala2-Functors/scala-functors-illustration.svg\" alt=\"Scala Functors\" width=\"150\" height=\"150\">\n",
    "    </div>\n",
    "    <div class=\"text-column\">\n",
    "<p>TBC</p>\n",
    "    </div>\n",
    "</div>\n",
    "\n",
    "<!--more-->\n",
    "\n",
    "------\n",
    "\n",
    "* TOC\n",
    "{:toc}\n",
    "------\n",
    "\n",
    "## Introduction\n",
    "Scala's collection library is one of its most powerful features, providing a rich set of data structures and operations for working with sequences, sets, and maps. The collections are designed to be **easy to use**, **concise**, **safe**, **fast**, and **universal**[^1].\n",
    "\n",
    "## Collection Hierarchy\n",
    "\n",
    "The Scala collections are organized into three main packages[^2]:\n",
    "\n",
    "| Package | Description | Mutability |\n",
    "|---------|-------------|------------|\n",
    "| `scala.collection` | Base traits and abstract collections | May be immutable or mutable |\n",
    "| `scala.collection.immutable` | Immutable collections (default) | Never change after creation |\n",
    "| `scala.collection.mutable` | Mutable collections | Can be modified in place |\n",
    "\n",
    "```mermaid\n",
    "---\n",
    "config:\n",
    "  look: neo\n",
    "  theme: default\n",
    "---\n",
    "graph TB\n",
    "    Iterable[Iterable]\n",
    "    Iterable --> Seq[Seq]\n",
    "    Iterable --> Set[Set]\n",
    "    Iterable --> Map[Map]\n",
    "    \n",
    "    Seq --> IndexedSeq[IndexedSeq]\n",
    "    Seq --> LinearSeq[LinearSeq]\n",
    "    \n",
    "    IndexedSeq --> Vector\n",
    "    IndexedSeq --> ArraySeq\n",
    "    IndexedSeq --> Range\n",
    "    IndexedSeq --> ArrayBuffer[\"ArrayBuffer (mutable)\"]\n",
    "    \n",
    "    LinearSeq --> List\n",
    "    LinearSeq --> LazyList\n",
    "    LinearSeq --> Queue[\"Queue (immutable)\"]\n",
    "    \n",
    "    Set --> SortedSet\n",
    "    Set --> HashSet[\"HashSet\"]\n",
    "    Set --> BitSet\n",
    "    SortedSet --> TreeSet\n",
    "    \n",
    "    Map --> SortedMap\n",
    "    Map --> HashMap\n",
    "    Map --> VectorMap\n",
    "    SortedMap --> TreeMap\n",
    "    \n",
    "    style Iterable fill:#e1f5ff\n",
    "    style Seq fill:#fff4e1\n",
    "    style Set fill:#ffe1f5\n",
    "    style Map fill:#e1ffe1\n",
    "```\n",
    "\n",
    "### The Iterable Trait\n",
    "\n",
    "All Scala collections inherit from `Iterable[A]`, which defines an **iterator** that lets you loop through collection elements one at a time[^3]. The iterator can traverse the collection only once, as each element is consumed during iteration.\n",
    "\n",
    "> **Important**: The `Iterable` trait provides the foundation for all collection operations through its iterator.\n",
    "\n",
    "## Immutable vs. Mutable Collections\n",
    "\n",
    "### Immutable Collections (Default)\n",
    "\n",
    "Immutable collections **never change after creation**[^4]. When you \"modify\" an immutable collection, you create a new collection with the changes.\n",
    "\n",
    "Immutable collections are the default:"
   ]
  },
  {
   "cell_type": "code",
   "execution_count": 3,
   "id": "f7a8fc6a-0744-4765-a391-7d67c33cc98b",
   "metadata": {},
   "outputs": [
    {
     "data": {
      "text/plain": [
       "\u001b[36mset\u001b[39m: \u001b[32mSet\u001b[39m[\u001b[32mInt\u001b[39m] = \u001b[33mSet\u001b[39m(\u001b[32m1\u001b[39m, \u001b[32m2\u001b[39m, \u001b[32m3\u001b[39m)\n",
       "\u001b[36mlist\u001b[39m: \u001b[32mList\u001b[39m[\u001b[32mInt\u001b[39m] = \u001b[33mList\u001b[39m(\u001b[32m1\u001b[39m, \u001b[32m2\u001b[39m, \u001b[32m3\u001b[39m)\n",
       "\u001b[36mmap\u001b[39m: \u001b[32mMap\u001b[39m[\u001b[32mInt\u001b[39m, \u001b[32mChar\u001b[39m] = \u001b[33mMap\u001b[39m(\u001b[32m1\u001b[39m -> \u001b[32m'a'\u001b[39m)"
      ]
     },
     "execution_count": 3,
     "metadata": {},
     "output_type": "execute_result"
    }
   ],
   "source": [
    "val set = Set(1,2,3)\n",
    "val list = List(1,2,3)\n",
    "val map = Map(1 -> 'a', 2->'b')"
   ]
  },
  {
   "cell_type": "markdown",
   "id": "342010f1-1134-4f31-ac5e-3e7ec64eacb2",
   "metadata": {},
   "source": [
    "Adding to immutable collections creates new collections:"
   ]
  },
  {
   "cell_type": "code",
   "execution_count": 5,
   "id": "b4329286-5639-4d78-9a3e-3f3ec48fb6c2",
   "metadata": {},
   "outputs": [
    {
     "data": {
      "text/plain": [
       "\u001b[36mset2\u001b[39m: \u001b[32mSet\u001b[39m[\u001b[32mInt\u001b[39m] = \u001b[33mSet\u001b[39m(\u001b[32m1\u001b[39m, \u001b[32m2\u001b[39m, \u001b[32m3\u001b[39m, \u001b[32m4\u001b[39m)\n",
       "\u001b[36mlist2\u001b[39m: \u001b[32mList\u001b[39m[\u001b[32mInt\u001b[39m] = \u001b[33mList\u001b[39m(\u001b[32m1\u001b[39m, \u001b[32m2\u001b[39m, \u001b[32m3\u001b[39m, \u001b[32m4\u001b[39m)"
      ]
     },
     "execution_count": 5,
     "metadata": {},
     "output_type": "execute_result"
    }
   ],
   "source": [
    "val set2 = set + 4\n",
    "val list2 = list :+ 4"
   ]
  },
  {
   "cell_type": "markdown",
   "id": "847fdfea-f406-42a7-beb1-475b98fdbc04",
   "metadata": {
    "editable": true,
    "slideshow": {
     "slide_type": ""
    },
    "tags": []
   },
   "source": [
    "Source📝[^5]: Demonstrates how immutable collections are the default in Scala and how they handle additions.\n",
    "\n",
    "**Logic**: \n",
    "- First three lines create immutable collections without any import statements\n",
    "- The `+` operator on Set and <b>`:+`</b>{:gtxt} operator on List create new collections rather than modifying the originals\n",
    "- `set` and `list` remain unchanged after operations; only new bindings `set2` and `list2` contain the updated values\n",
    "\n",
    ">Immutability ensures **referential transparency** - the same expression always evaluates to the same value, making code easier to reason about and thread-safe by default.\n",
    "{:.green}\n",
    "\n",
    "### Mutable Collections\n",
    "\n",
    "Mutable collections can be modified in place using operations that have **side effects**[^6].\n",
    "\n",
    "Must import or use full path for mutable collections:"
   ]
  },
  {
   "cell_type": "code",
   "execution_count": 7,
   "id": "8c0c85c0-9224-4223-8be3-d45f6938b179",
   "metadata": {},
   "outputs": [
    {
     "data": {
      "text/plain": [
       "\u001b[32mimport \u001b[39m\u001b[36mscala.collection.mutable\u001b[39m"
      ]
     },
     "execution_count": 7,
     "metadata": {},
     "output_type": "execute_result"
    }
   ],
   "source": [
    "import scala.collection.mutable"
   ]
  },
  {
   "cell_type": "code",
   "execution_count": 13,
   "id": "3a55cfbe-fd62-4d26-b85f-6e51ba34d86b",
   "metadata": {},
   "outputs": [
    {
     "data": {
      "text/plain": [
       "\u001b[36mmutableSet\u001b[39m: \u001b[32mmutable\u001b[39m.\u001b[32mSet\u001b[39m[\u001b[32mInt\u001b[39m] = \u001b[33mHashSet\u001b[39m(\u001b[32m1\u001b[39m, \u001b[32m2\u001b[39m, \u001b[32m3\u001b[39m)"
      ]
     },
     "execution_count": 13,
     "metadata": {},
     "output_type": "execute_result"
    }
   ],
   "source": [
    "val mutableSet = mutable.Set(1,2,3)"
   ]
  },
  {
   "cell_type": "code",
   "execution_count": 9,
   "id": "8bd1ede2-955c-43d0-afe4-7bdeebba9257",
   "metadata": {},
   "outputs": [
    {
     "data": {
      "text/plain": [
       "\u001b[36mmutableList\u001b[39m: \u001b[32mmutable\u001b[39m.\u001b[32mArrayBuffer\u001b[39m[\u001b[32mInt\u001b[39m] = \u001b[33mArrayBuffer\u001b[39m(\u001b[32m1\u001b[39m, \u001b[32m2\u001b[39m, \u001b[32m3\u001b[39m)"
      ]
     },
     "execution_count": 9,
     "metadata": {},
     "output_type": "execute_result"
    }
   ],
   "source": [
    "val mutableList = mutable.ArrayBuffer(1,2,3)"
   ]
  },
  {
   "cell_type": "code",
   "execution_count": 11,
   "id": "505d4ada-da90-4150-bfae-e5fadcabfeeb",
   "metadata": {},
   "outputs": [
    {
     "data": {
      "text/plain": [
       "\u001b[36mmutableMap\u001b[39m: \u001b[32mmutable\u001b[39m.\u001b[32mMap\u001b[39m[\u001b[32mInt\u001b[39m, \u001b[32mChar\u001b[39m] = \u001b[33mHashMap\u001b[39m(\u001b[32m1\u001b[39m -> \u001b[32m'a'\u001b[39m, \u001b[32m2\u001b[39m -> \u001b[32m'b'\u001b[39m)"
      ]
     },
     "execution_count": 11,
     "metadata": {},
     "output_type": "execute_result"
    }
   ],
   "source": [
    "val mutableMap = mutable.Map(1 -> 'a', 2 -> 'b')"
   ]
  },
  {
   "cell_type": "markdown",
   "id": "ef672329-df2f-481c-ad4e-858beca2e57a",
   "metadata": {},
   "source": [
    "Modifying mutable collections in place:"
   ]
  },
  {
   "cell_type": "code",
   "execution_count": 15,
   "id": "ea08a4ff-fc43-4378-9e46-89d92c12849a",
   "metadata": {},
   "outputs": [
    {
     "data": {
      "text/plain": [
       "\u001b[36mres14_0\u001b[39m: \u001b[32mmutable\u001b[39m.\u001b[32mSet\u001b[39m[\u001b[32mInt\u001b[39m] = \u001b[33mHashSet\u001b[39m(\u001b[32m1\u001b[39m, \u001b[32m2\u001b[39m, \u001b[32m3\u001b[39m, \u001b[32m4\u001b[39m)\n",
       "\u001b[36mres14_1\u001b[39m: \u001b[32mmutable\u001b[39m.\u001b[32mArrayBuffer\u001b[39m[\u001b[32mInt\u001b[39m] = \u001b[33mArrayBuffer\u001b[39m(\u001b[32m1\u001b[39m, \u001b[32m2\u001b[39m, \u001b[32m3\u001b[39m, \u001b[32m4\u001b[39m)"
      ]
     },
     "execution_count": 15,
     "metadata": {},
     "output_type": "execute_result"
    }
   ],
   "source": [
    "mutableSet += 4\n",
    "mutableList += 4"
   ]
  },
  {
   "cell_type": "markdown",
   "id": "21ad13f8-3914-45e6-b4f2-84e5bea6d395",
   "metadata": {
    "editable": true,
    "slideshow": {
     "slide_type": ""
    },
    "tags": []
   },
   "source": [
    "Source📝[^7]: Shows how mutable collections differ from immutable ones in both declaration and usage.\n",
    "\n",
    "> Mutable collections use **side effects**{:rtxt} - they change state rather than creating new values. This can be more efficient for frequent updates but sacrifices thread-safety and referential transparency.\n",
    "{:.yellow}\n",
    "\n",
    "### Why Immutability Matters\n",
    "\n",
    "**Benefits of Immutability**:\n",
    "- **Thread-safe**: Multiple threads can safely access immutable collections\n",
    "- **Easier to reason about**: No hidden state changes\n",
    "- **Referential transparency**: Same inputs always produce same outputs\n",
    "- **Structural sharing**: Efficient memory use through shared structure\n",
    "\n",
    "## Main Collection Types\n",
    "\n",
    "### 1. Sequences (Seq)\n",
    "\n",
    "Sequences are ordered collections that support indexed access. They branch into two main categories:\n",
    "\n",
    "#### Linear Sequences (LinearSeq)\n",
    "\n",
    "Optimised for **head/tail** operations. Elements are accessed sequentially[^8].\n",
    "\n",
    "List - singly linked list:"
   ]
  },
  {
   "cell_type": "code",
   "execution_count": 16,
   "id": "3d84f1c4-863b-4742-9227-62e5d718fd80",
   "metadata": {},
   "outputs": [
    {
     "data": {
      "text/plain": [
       "\u001b[36mlist\u001b[39m: \u001b[32mList\u001b[39m[\u001b[32mInt\u001b[39m] = \u001b[33mList\u001b[39m(\u001b[32m1\u001b[39m, \u001b[32m2\u001b[39m, \u001b[32m3\u001b[39m, \u001b[32m4\u001b[39m, \u001b[32m5\u001b[39m)"
      ]
     },
     "execution_count": 16,
     "metadata": {},
     "output_type": "execute_result"
    }
   ],
   "source": [
    "val list = List(1, 2, 3, 4, 5)"
   ]
  },
  {
   "cell_type": "markdown",
   "id": "4bb8231b-c0a1-43e4-82ca-38af672e493a",
   "metadata": {},
   "source": [
    "Head and tail operations are O(1)"
   ]
  },
  {
   "cell_type": "code",
   "execution_count": 17,
   "id": "b569fd09-424f-4869-b027-4f3d38c6f9e3",
   "metadata": {},
   "outputs": [
    {
     "data": {
      "text/plain": [
       "\u001b[36mres16_0\u001b[39m: \u001b[32mInt\u001b[39m = \u001b[32m1\u001b[39m\n",
       "\u001b[36mres16_1\u001b[39m: \u001b[32mList\u001b[39m[\u001b[32mInt\u001b[39m] = \u001b[33mList\u001b[39m(\u001b[32m2\u001b[39m, \u001b[32m3\u001b[39m, \u001b[32m4\u001b[39m, \u001b[32m5\u001b[39m)"
      ]
     },
     "execution_count": 17,
     "metadata": {},
     "output_type": "execute_result"
    }
   ],
   "source": [
    "list.head\n",
    "list.tail"
   ]
  },
  {
   "cell_type": "markdown",
   "id": "9e785d74-5e7e-471f-ae28-5654c2c8baaa",
   "metadata": {
    "editable": true,
    "slideshow": {
     "slide_type": ""
    },
    "tags": []
   },
   "source": [
    "## References\n",
    "\n",
    "[^1]: *Programming in Scala, Fourth Edition*, Ch. 24: \"Collections in Depth\" → \"Introduction\", p. 573\n",
    "\n",
    "[^2]: *Scala Cookbook, Second Edition*, Ch. 11: \"Collections: Introduction\" → \"Understanding the Collections Hierarchy\", p. 318-319\n",
    "\n",
    "[^3]: *Scala Cookbook, Second Edition*, Ch. 11: \"Collections: Introduction\" → \"Understanding the Collections Hierarchy\", p. 320\n",
    "\n",
    "[^4]: *Programming in Scala, Fourth Edition*, Ch. 24: \"Collections in Depth\" → \"Collections Hierarchy\", p. 574\n",
    "\n",
    "[^5]: *Scala Cookbook, Second Edition*, Ch. 11: \"Collections: Introduction\" → \"Understanding the Collections Hierarchy\", p. 323\n",
    "\n",
    "[^6]: *Scala Cookbook, Second Edition*, Ch. 11: \"Collections: Introduction\" → \"Understanding the Collections Hierarchy\", p. 322\n",
    "\n",
    "[^7]: *Scala Cookbook, Second Edition*, Ch. 11: \"Collections: Introduction\" → \"Understanding the Collections Hierarchy\", p. 322\n",
    "\n",
    "[^8]: *Scala Cookbook, Second Edition*, Ch. 11: \"Collections: Introduction\" → \"Sequences\", p. 321\n",
    "\n",
    "[^9]: *Scala Cookbook, Second Edition*, Ch. 13: \"Collections: Common Sequence Methods\" → \"List Operations\"\n",
    "\n",
    "[^10]: *Scala Cookbook, Second Edition*, Ch. 11: \"Collections: Introduction\" → \"Sequences\", p. 321-322\n",
    "\n",
    "[^11]: *Scala Cookbook, Second Edition*, Ch. 11: \"Collections: Introduction\" → \"Understanding the Collections Hierarchy\", p. 320\n",
    "\n",
    "[^12]: *Scala Cookbook, Second Edition*, Ch. 11: \"Collections: Introduction\" → \"Sets\", p. 323\n",
    "\n",
    "[^13]: *Scala Cookbook, Second Edition*, Ch. 15: \"Collections: Tuple, Range, Set, Stack, and Queue\" → \"Creating a Set\", p. 453-454\n",
    "\n",
    "[^14]: *Scala Cookbook, Second Edition*, Ch. 15: \"Collections: Tuple, Range, Set, Stack, and Queue\" → \"Sorted Sets\"\n",
    "\n",
    "[^15]: *Scala Cookbook, Second Edition*, Ch. 11: \"Collections: Introduction\" → \"Maps\", p. 322\n",
    "\n",
    "[^16]: *Scala Cookbook, Second Edition*, Ch. 14: \"Collections: Using Maps\" → \"Creating and Using Maps\", p. 424\n",
    "\n",
    "[^17]: *Scala Cookbook, Second Edition*, Ch. 14: \"Collections: Using Maps\" → \"Traversing a Map\", p. 435-436\n",
    "\n",
    "[^18]: *Scala Cookbook, Second Edition*, Ch. 11: \"Collections: Introduction\" → \"Transformer Methods\", p. 371\n",
    "\n",
    "[^19]: *Scala Cookbook, Second Edition*, Ch. 13: \"Collections: Common Sequence Methods\" → \"map Method\", p. 387-389\n",
    "\n",
    "[^20]: *Programming in Scala, Fourth Edition*, Ch. 24: \"Collections in Depth\" → \"Template Traits\", p. 588\n",
    "\n",
    "[^21]: *Scala Cookbook, Second Edition*, Ch. 13: \"Collections: Common Sequence Methods\" → \"filter Method\", p. 392-394\n",
    "\n",
    "[^22]: *Scala Cookbook, Second Edition*, Ch. 13: \"Collections: Common Sequence Methods\" → \"flatMap Method\"\n",
    "\n",
    "[^23]: *Functional Programming in Scala*, Ch. 10: \"Monoids\" → \"Folding\", p. 180\n",
    "\n",
    "[^24]: *Functional Programming in Scala*, Ch. 10: \"Monoids\" → \"Associativity and parallelism\", p. 179-181\n",
    "\n",
    "[^25]: *Scala Cookbook, Second Edition*, Ch. 13: \"Collections: Common Sequence Methods\" → \"reduce Method\", p. 400-405\n",
    "\n",
    "[^26]: *Scala Cookbook, Second Edition*, Ch. 13: \"Collections: Common Sequence Methods\" → \"Collection Methods\"\n",
    "\n",
    "[^27]: *Scala Cookbook, Second Edition*, Ch. 13: \"Collections: Common Sequence Methods\" → \"Taking and Dropping\"\n",
    "\n",
    "[^28]: *Scala Cookbook, Second Edition*, Ch. 13: \"Collections: Common Sequence Methods\" → \"Grouping Methods\", p. 397-399\n",
    "\n",
    "[^29]: *Scala Cookbook, Second Edition*, Ch. 13: \"Collections: Common Sequence Methods\" → \"Sorting\", p. 410-415\n",
    "\n",
    "[^30]: *Programming in Scala, Fourth Edition*, Ch. 23: \"For Expressions Revisited\" → \"Translation\", p. 557-561\n",
    "\n",
    "[^31]: *Scala Cookbook, Second Edition*, Ch. 13: \"Collections: Common Sequence Methods\" → \"for/yield with Collections\", p. 387-390\n",
    "\n",
    "[^32]: *Programming in Scala, Fourth Edition*, Ch. 23: \"For Expressions Revisited\" → \"Monads\", p. 566-567\n",
    "\n",
    "[^33]: *Scala Cookbook, Second Edition*, Ch. 11: \"Collections: Introduction\" → \"Views\", p. 335-337\n",
    "\n",
    "[^34]: *Scala Cookbook, Second Edition*, Ch. 11: \"Collections: Introduction\" → \"Views\", p. 336\n",
    "\n",
    "[^35]: *Scala Cookbook, Second Edition*, Ch. 11: \"Collections: Introduction\" → \"Performance\", p. 330-333\n",
    "\n",
    "[^36]: *Scala Cookbook, Second Edition*, Ch. 23: \"Types\" → \"Variance\", p. 670-674\n",
    "\n",
    "[^37]: *Scala Cookbook, Second Edition*, Ch. 23: \"Types\" → \"Covariance\", p. 671-672\n",
    "\n",
    "[^38]: *Programming in Scala, Fourth Edition*, Ch. 19: \"Type Parameterization\" → \"Contravariance\", p. 425-426\n",
    "\n",
    "[^39]: *Programming in Scala, Fourth Edition*, Ch. 19: \"Type Parameterization\" → \"Function Variance\", p. 426-427\n",
    "\n",
    "[^40]: *Programming in Scala, Fourth Edition*, Ch. 19: \"Type Parameterization\" → \"Liskov Substitution Principle\", p. 425\n",
    "\n",
    "[^41]: *Programming in Scala, Fourth Edition*, Ch. 19: \"Type Parameterization\" → \"Arrays and Variance\", p. 422-423\n",
    "\n",
    "[^42]: *Scala Cookbook, Second Edition*, Ch. 13: \"Collections: Common Sequence Methods\" → \"Iterators\", p. 381-384\n",
    "\n",
    "[^43]: *Scala Cookbook, Second Edition*, Ch. 13: \"Collections: Common Sequence Methods\" → \"Iterators\", p. 381-382\n",
    "\n",
    "[^44]: *Scala Cookbook, Second Edition*, Ch. 15: \"Collections: Tuple, Range, Set, Stack, and Queue\" → \"Ranges\", p. 449-453\n",
    "\n",
    "[^45]: *Scala Cookbook, Second Edition*, Ch. 15: \"Collections: Tuple, Range, Set, Stack, and Queue\" → \"Ranges\", p. 452-453\n",
    "\n",
    "[^46]: *Advanced Scala with Cats*, Ch. 3: \"Functors\" → \"Maybe Monad\"\n",
    "\n",
    "[^47]: *Scala Cookbook, Second Edition*, Ch. 13: \"Collections: Common Sequence Methods\" → \"Option Integration\"\n",
    "\n",
    "[^48]: Philip Wadler, \"Comprehending Monads\", p. 22, *WadlerMonads.pdf*\n",
    "\n",
    "[^49]: *Scala Cookbook, Second Edition*, Ch. 13: \"Collections: Common Sequence Methods\" → Examples\n",
    "\n",
    "[^50]: *Scala Cookbook, Second Edition*, Ch. 13: \"Collections: Common Sequence Methods\" → \"flatMap examples\"\n",
    "\n",
    "[^51]: *Scala Cookbook, Second Edition*, Ch. 14: \"Collections: Using Maps\" → \"Immutable Map Updates\"\n",
    "\n",
    "{:gtxt: .message color=\"green\"}\n",
    "{:ytxt: .message color=\"yellow\"}\n",
    "{:rtxt: .message color=\"red\"}"
   ]
  }
 ],
 "metadata": {
  "kernelspec": {
   "display_name": "Scala",
   "language": "scala",
   "name": "scala"
  },
  "language_info": {
   "codemirror_mode": "text/x-scala",
   "file_extension": ".sc",
   "mimetype": "text/x-scala",
   "name": "scala",
   "nbconvert_exporter": "script",
   "version": "2.13.10"
  }
 },
 "nbformat": 4,
 "nbformat_minor": 5
}
