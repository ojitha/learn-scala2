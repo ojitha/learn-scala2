{
 "cells": [
  {
   "cell_type": "markdown",
   "id": "7de90d36-c969-4d30-ac69-15e965a37f53",
   "metadata": {
    "editable": true,
    "slideshow": {
     "slide_type": ""
    },
    "tags": []
   },
   "source": [
    "---\n",
    "layout: post\n",
    "title:  Scala 2 Functional Programming\n",
    "date:   2025-10-24\n",
    "categories: [Scala]\n",
    "mermaid: true\n",
    "maths: true\n",
    "typora-root-url: /Users/ojitha/GitHub/ojitha.github.io\n",
    "typora-copy-images-to: ../assets/images/${filename}\n",
    "---\n",
    "\n",
    "<style>\n",
    "/* Styles for the two-column layout */\n",
    ".image-text-container {\n",
    "    display: flex; /* Enables flexbox */\n",
    "    flex-wrap: wrap; /* Allows columns to stack on small screens */\n",
    "    gap: 20px; /* Space between the image and text */\n",
    "    align-items: center; /* Vertically centers content in columns */\n",
    "    margin-bottom: 20px; /* Space below this section */\n",
    "}\n",
    "\n",
    ".image-column {\n",
    "    flex: 1; /* Allows this column to grow */\n",
    "    min-width: 250px; /* Minimum width for the image column before stacking */\n",
    "    max-width: 40%; /* Maximum width for the image column to not take up too much space initially */\n",
    "    box-sizing: border-box; /* Include padding/border in element's total width/height */\n",
    "}\n",
    "\n",
    ".text-column {\n",
    "    flex: 2; /* Allows this column to grow more (e.g., twice as much as image-column) */\n",
    "    min-width: 300px; /* Minimum width for the text column before stacking */\n",
    "    box-sizing: border-box;\n",
    "}\n",
    "\n",
    "</style>\n",
    "\n",
    "<div class=\"image-text-container\">\n",
    "    <div class=\"image-column\">\n",
    "        <img src=\"/assets/images/2025-07-25-Scala-basics/scala_basics.png\" alt=\"Scala basics\" width=\"150\" height=\"150\">\n",
    "    </div>\n",
    "    <div class=\"text-column\">\n",
    "<p>TBC</p>\n",
    "    </div>\n",
    "</div>\n",
    "\n",
    "<!--more-->\n",
    "\n",
    "------\n",
    "\n",
    "* TOC\n",
    "{:toc}\n",
    "------\n",
    "\n",
    "Functional Programming (FP) is a programming paradigm based on mathematical functions where computation is treated as the evaluation of mathematical functions avoiding changing state and mutable data. This guide explores five fundamental FP concepts in Scala 2 with their mathematical foundations.\n",
    "\n",
    "Core Principles of Functional Programming\n",
    "\n",
    "1. **Functions are first-class values**: Functions can be passed as arguments, returned from other functions, and assigned to variables\n",
    "2. **Immutability**: Data structures don't change after creation\n",
    "3. **No side effects**: Pure functions don't modify external state\n",
    "4. **Referential Transparency**: Expressions can be replaced by their values without changing program behavior\n",
    "\n",
    "## Pure Functions\n",
    "\n",
    "### Mathematical Definition\n",
    "\n",
    "A **pure function** is a mathematical function where:\n",
    "\n",
    "$$f: A \\rightarrow B$$\n",
    "\n",
    "Such that:\n",
    "\n",
    "1. **Determinism**: $\\forall x \\in A, f(x)$ always produces the same output $y \\in B$\n",
    "2. **No Side Effects**: $f$ doesn't modify any state outside its scope\n",
    "3. **Referential Transparency**: For any program $p$, all occurrences of $f(x)$ can be replaced by its result without changing $p$'s meaning\n",
    "\n",
    "### Formal Definition\n",
    "\n",
    "**Referential Transparency (RT)**: An expression $e$ is referentially transparent if, for all programs $p$, all occurrences of $e$ in $p$ can be replaced by the result of evaluating $e$ without affecting the meaning of $p$.[^1]\n",
    "\n",
    "**Purity**: A function $f$ is pure if the expression $f(x)$ is referentially transparent for all referentially transparent $x$.[^1]\n",
    "\n",
    "### Mathematical Properties\n",
    "\n",
    "```mermaid\n",
    "---\n",
    "config:\n",
    "  look: neo\n",
    "  theme: default\n",
    "---\n",
    "graph TB\n",
    "    A[Pure Function Properties] --> B[Determinism]\n",
    "    A --> C[No Side Effects]\n",
    "    A --> D[Referential Transparency]\n",
    "    B --> E[\"∀x: f(x) = constant\"]\n",
    "    C --> F[\"No I/O, mutations, or exceptions\"]\n",
    "    D --> G[\"Can substitute f(x) with its result\"]\n",
    "    style A fill:#e1f5ff\n",
    "    style B fill:#fff4e1\n",
    "    style C fill:#fff4e1\n",
    "    style D fill:#fff4e1\n",
    "```\n",
    "\n",
    "### Substitution Model\n",
    "\n",
    "Pure functions enable **equational reasoning** through the substitution model:\n",
    "\n",
    "$$\n",
    "\\begin{align}\n",
    "\\text{Given: } & f(x) = x^2 \\\\\n",
    "\\text{Then: } & f(3) + f(3) \\\\\n",
    "& = 9 + f(3) \\quad \\text{(substitute first)} \\\\\n",
    "& = 9 + 9 \\quad \\text{(substitute second)} \\\\\n",
    "& = 18\n",
    "\\end{align}\n",
    "$$\n",
    "\n",
    "### Code Examples\n"
   ]
  },
  {
   "cell_type": "code",
   "execution_count": 6,
   "id": "7ce60fbf-48e1-4bfd-bab8-635279b54f93",
   "metadata": {},
   "outputs": [
    {
     "data": {
      "text/plain": [
       "defined \u001b[32mfunction\u001b[39m \u001b[36msquare\u001b[39m\n",
       "\u001b[36mresult1\u001b[39m: \u001b[32mInt\u001b[39m = \u001b[32m25\u001b[39m\n",
       "\u001b[36mresult2\u001b[39m: \u001b[32mInt\u001b[39m = \u001b[32m25\u001b[39m"
      ]
     },
     "execution_count": 6,
     "metadata": {},
     "output_type": "execute_result"
    }
   ],
   "source": [
    "// Pure Function - Always returns the same output for the same input\n",
    "def square(x: Int): Int = x * x\n",
    "\n",
    "// Test purity\n",
    "val result1 = square(5)  // 25\n",
    "val result2 = square(5)  // 25\n",
    "// result1 == result2 always true"
   ]
  },
  {
   "cell_type": "markdown",
   "id": "31619737-6e0e-4570-b5a0-78dc568b392e",
   "metadata": {},
   "source": [
    "Mathematical proof:\n",
    "    \n",
    "    square(5) = 5 * 5 = 25\n",
    "\n",
    "NOTE: Can always replace square(5) with 25\n"
   ]
  },
  {
   "cell_type": "code",
   "execution_count": 7,
   "id": "02aa3d32-3358-4b3f-8c7e-3b17747f4118",
   "metadata": {},
   "outputs": [
    {
     "data": {
      "text/plain": [
       "defined \u001b[32mclass\u001b[39m \u001b[36mCreditCard\u001b[39m\n",
       "defined \u001b[32mfunction\u001b[39m \u001b[36mbuyCoffee\u001b[39m"
      ]
     },
     "execution_count": 7,
     "metadata": {},
     "output_type": "execute_result"
    }
   ],
   "source": [
    "// Impure Function - Has side effects\n",
    "class CreditCard {\n",
    "  def charge(amount: Double): Unit = {\n",
    "    println(s\"Charging $amount\")  // Side effect: I/O\n",
    "    // External API call would go here\n",
    "  }\n",
    "}\n",
    "\n",
    "def buyCoffee(cc: CreditCard, price: Double): Unit = {\n",
    "  cc.charge(price)  // Side effect!\n",
    "  println(\"Coffee purchased\")\n",
    "}\n"
   ]
  },
  {
   "cell_type": "markdown",
   "id": "820e217e-4dfa-413e-95d7-109de65c37af",
   "metadata": {},
   "source": [
    "Problem: Cannot substitute buyCoffee(cc, 2.50) with its \"result\" because the function performs actions, not just computations\n",
    "\n",
    "Making Impure Code Pure"
   ]
  },
  {
   "cell_type": "code",
   "execution_count": 8,
   "id": "03ca5bac-c5f3-4dce-aa94-b9d7f537106d",
   "metadata": {},
   "outputs": [
    {
     "data": {
      "text/plain": [
       "defined \u001b[32mfunction\u001b[39m \u001b[36mbuyCoffeeImpure\u001b[39m\n",
       "defined \u001b[32mclass\u001b[39m \u001b[36mCoffee\u001b[39m\n",
       "defined \u001b[32mclass\u001b[39m \u001b[36mCharge\u001b[39m\n",
       "defined \u001b[32mfunction\u001b[39m \u001b[36mbuyCoffeePure\u001b[39m"
      ]
     },
     "execution_count": 8,
     "metadata": {},
     "output_type": "execute_result"
    }
   ],
   "source": [
    "// Impure version\n",
    "def buyCoffeeImpure(cc: CreditCard): Coffee = {\n",
    "  val cup = new Coffee()\n",
    "  cc.charge(cup.price)  // Side effect\n",
    "  cup\n",
    "}\n",
    "\n",
    "// Pure version - Return description of charge\n",
    "case class Coffee(price: Double = 2.50)\n",
    "case class Charge(cc: CreditCard, amount: Double)\n",
    "\n",
    "def buyCoffeePure(cc: CreditCard): (Coffee, Charge) = {\n",
    "  val cup = new Coffee()\n",
    "  (cup, Charge(cc, cup.price))  // No side effects!\n",
    "}\n"
   ]
  },
  {
   "cell_type": "markdown",
   "id": "d0ef1121-61ee-4fe4-a516-05514bf56c18",
   "metadata": {},
   "source": [
    "Mathematical property:\n",
    " buyCoffeePure(cc) can be replaced by (Coffee(2.50), Charge(cc, 2.50))\n",
    "\n",
    "Pure Function with Local Mutation\n"
   ]
  },
  {
   "cell_type": "code",
   "execution_count": 9,
   "id": "b72cac4b-2d16-4f9a-a941-44284f11b21d",
   "metadata": {},
   "outputs": [
    {
     "data": {
      "text/plain": [
       "defined \u001b[32mfunction\u001b[39m \u001b[36mquicksort\u001b[39m"
      ]
     },
     "execution_count": 9,
     "metadata": {},
     "output_type": "execute_result"
    }
   ],
   "source": [
    "// Pure function using internal mutable state (hidden from outside)\n",
    "def quicksort(xs: List[Int]): List[Int] = {\n",
    "  if (xs.isEmpty) xs\n",
    "  else {\n",
    "    val arr = xs.toArray  // Local mutable array 👈\n",
    "    \n",
    "    def swap(x: Int, y: Int): Unit = {\n",
    "      val tmp = arr(x)\n",
    "      arr(x) = arr(y)\n",
    "      arr(y) = tmp\n",
    "    }\n",
    "    \n",
    "    def partition(n: Int, r: Int, pivot: Int): Int = {\n",
    "      val pivotVal = arr(pivot)\n",
    "      swap(pivot, r)\n",
    "      var j = n\n",
    "      for (i <- n until r) {\n",
    "        if (arr(i) < pivotVal) {\n",
    "          swap(i, j)\n",
    "          j += 1\n",
    "        }\n",
    "      }\n",
    "      swap(j, r)\n",
    "      j\n",
    "    }\n",
    "    \n",
    "    def qs(n: Int, r: Int): Unit = {\n",
    "      if (n < r) {\n",
    "        val pi = partition(n, r, n + (r - n) / 2)\n",
    "        qs(n, pi - 1)\n",
    "        qs(pi + 1, r)\n",
    "      }\n",
    "    }\n",
    "    \n",
    "    qs(0, arr.length - 1)\n",
    "    arr.toList\n",
    "  }\n",
    "}\n",
    "\n"
   ]
  },
  {
   "cell_type": "markdown",
   "id": "b112905c-fd3c-486f-ba02-9d6301d3bef0",
   "metadata": {},
   "source": [
    "Still pure because:\n",
    "1. Local mutations not observable from outside\n",
    "2. For any List xs, quicksort(xs) always returns the same sorted list\n",
    "3. Can replace `quicksort(List(3,1,2))` with `List(1,2,3)`"
   ]
  },
  {
   "cell_type": "markdown",
   "id": "9a2448fd-ef24-433c-816a-5677869ffe08",
   "metadata": {
    "editable": true,
    "slideshow": {
     "slide_type": ""
    },
    "tags": []
   },
   "source": [
    "### Pure Functions in Mathematics\n",
    "\n",
    "| Mathematical Concept | Scala Example                      | Property           |\n",
    "| -------------------- | ---------------------------------- | ------------------ |\n",
    "| $f(x) = x + 1$       | `def inc(x: Int) = x + 1`          | Successor function |\n",
    "| $f(x, y) = x + y$    | `def add(x: Int, y: Int) = x + y`  | Addition           |\n",
    "| $f(x) = x^2$         | `def square(x: Int) = x * x`       | Quadratic          |\n",
    "| $f(s) = \\|s\\|$       | `def length(s: String) = s.length` | String length      |\n",
    "| $f(x) = e^x$         | `def exp(x: Double) = math.exp(x)` | Exponential        |\n",
    "\n",
    "### Key Benefits of Pure Functions\n",
    "\n",
    "1. **Testability**: Easy to test - same input always produces the same output\n",
    "2. **Parallelisation**: Can safely run in parallel (no shared mutable state)\n",
    "3. **Memoization**: Results can be cached\n",
    "4. **Reasoning**: Enable algebraic reasoning and equational substitution\n",
    "5. **Composition**: Can combine pure functions to create complex behaviour\n",
    "\n",
    "```mermaid\n",
    "---\n",
    "config:\n",
    "  look: neo\n",
    "  theme: default\n",
    "---\n",
    "mindmap\n",
    "  root((Pure Functions))\n",
    "    Benefits\n",
    "      Easy Testing\n",
    "        Predictable\n",
    "        No Mocks Needed\n",
    "      Parallelization\n",
    "        Thread Safe\n",
    "        No Race Conditions\n",
    "      Caching\n",
    "        Memoization\n",
    "        Performance\n",
    "    Properties\n",
    "      Deterministic\n",
    "      No Side Effects\n",
    "      Referential Transparency\n",
    "    Applications\n",
    "      Mathematical Computations\n",
    "      Data Transformations\n",
    "      Functional Pipelines\n",
    "```\n",
    "\n",
    "---\n",
    "\n",
    "## Higher-Order Functions\n",
    "\n",
    "### Mathematical Definition\n",
    "\n",
    "A **higher-order function (HOF)** is a function that:\n",
    "\n",
    "1. Takes one or more functions as arguments, or\n",
    "2. Returns a function as its result\n",
    "\n",
    "$$\n",
    "\\text{HOF}: (A \\rightarrow B) \\rightarrow C \\text{ or } A \\rightarrow (B \\rightarrow C)\n",
    "$$\n",
    "\n",
    "> In category theory, *HOFs are morphisms* in the category of functions where *objects are types and morphisms are functions*.[^4]\n",
    "\n",
    "### Type Theory Foundation\n",
    "\n",
    "In the simply typed lambda calculus, if $\\tau_1, \\tau_2, \\tau_3$ are types:\n",
    "\n",
    "$$\n",
    "f: (\\tau_1 \\rightarrow \\tau_2) \\rightarrow \\tau_3 \\text{ is a HOF}\n",
    "$$\n",
    "\n",
    "This means $f$ accepts a function of type $\\tau_1 \\rightarrow \\tau_2$ and produces a value of type $\\tau_3$.\n",
    "\n",
    "Examples\n",
    "\n",
    "1. Map operation (Functor)\n",
    "2. Filter operation\n",
    "3. Fold operation:\n",
    "\n",
    "#### Example 1: Map - The Functor HOF[^2]\n",
    "\n",
    "**Map operation (Functor)**:\n",
    "\n",
    "$$\n",
    "\\text{map}: (A \\rightarrow B) \\rightarrow [A] \\rightarrow [B]\n",
    "$$\n",
    "\n",
    "\n",
    ">This reads as: \"`map` takes a function from A to B, then takes a list of A's, and returns a list of B's\".\n",
    "{:.info-box}\n",
    "\n",
    "The arrows represent **currying** - `map` doesn't take all arguments at once, but returns functions:\n",
    "-   Takes `(A → B)` - a function from type A to type B\n",
    "-   Returns a function that takes `[A]` - a list of A's\n",
    "-   Which returns `[B]` - a list of B's\n",
    "\n",
    "**Behaviour:**\n",
    "\n",
    "$$\n",
    "\\text{map}\\ f\\ [x_1, x_2, ..., x_n] = [f(x_1), f(x_2), ..., f(x_n)]\n",
    "$$\n",
    "    \n",
    "Apply function f to each element in the list.\n",
    "\n",
    "The map applies a function to each element"
   ]
  },
  {
   "cell_type": "code",
   "execution_count": null,
   "id": "5b6a80c8-397e-4853-818c-decf4b1978d8",
   "metadata": {},
   "outputs": [],
   "source": [
    "def map[A, B](f: A => B)(xs: List[A]): List[B] = xs match {\n",
    "  case Nil => Nil\n",
    "  case head :: tail => f(head) :: map(f)(tail)\n",
    "}"
   ]
  },
  {
   "cell_type": "markdown",
   "id": "323798c7-0191-4a97-8e5d-f6f0517fa399",
   "metadata": {},
   "source": [
    "**Type Parameters:** `[A, B]` - generic types matching the math notation\n",
    "\n",
    "**Curried Syntax:** Two parameter lists `(f: A => B)(xs: List[A])` implements the curried arrows:\n",
    "\n",
    "-   First takes function `f: A => B` (matching `A → B`)\n",
    "-   Then takes list `xs: List[A]` (matching `[A]`)\n",
    "-   Returns `List[B]` (matching `[B]`)\n",
    "\n",
    "The recursive case implements the mathematical definition:\n",
    "\n",
    "-   `f(head)` - apply f to first element (like `f(x₁)`)\n",
    "-   `map(f)(tail)` - recursively map over remaining elements (like `[f(x₂), ..., f(xₙ)]`)\n",
    "-   `::` - cons operator joins them together\n",
    "\n",
    "Example execution is\n",
    "```scala\n",
    "map(x => x * 2)(List(1, 2, 3))\n",
    "```\n",
    "\n",
    "Traces to:\n",
    "```scala\n",
    "f(1) :: map(f)(List(2, 3))\n",
    "2 :: f(2) :: map(f)(List(3))\n",
    "2 :: 4 :: f(3) :: map(f)(Nil)\n",
    "2 :: 4 :: 6 :: Nil\n",
    "List(2, 4, 6)\n",
    "```\n",
    "\n",
    "This matches the math: `map (*2) [1,2,3] = [2, 4, 6]` ✓"
   ]
  },
  {
   "cell_type": "code",
   "execution_count": 13,
   "id": "f4686f81-eca3-4b29-9f97-95b2e7a96151",
   "metadata": {},
   "outputs": [
    {
     "data": {
      "text/plain": [
       "\u001b[36mnumbers\u001b[39m: \u001b[32mList\u001b[39m[\u001b[32mInt\u001b[39m] = \u001b[33mList\u001b[39m(\u001b[32m1\u001b[39m, \u001b[32m2\u001b[39m, \u001b[32m3\u001b[39m)\n",
       "\u001b[36msquared\u001b[39m: \u001b[32mList\u001b[39m[\u001b[32mInt\u001b[39m] = \u001b[33mList\u001b[39m(\u001b[32m2\u001b[39m, \u001b[32m4\u001b[39m, \u001b[32m6\u001b[39m)"
      ]
     },
     "execution_count": 13,
     "metadata": {},
     "output_type": "execute_result"
    }
   ],
   "source": [
    "// Using map\n",
    "val numbers = List(1, 2, 3)\n",
    "val squared = map((x: Int) => x * 2)(numbers)\n",
    "// Result: List(1, 4, 9, 16, 25)\n",
    "\n",
    "// Mathematical property (Functor law):\n",
    "// map(id) == id\n",
    "// map(f ∘ g) == map(f) ∘ map(g)"
   ]
  },
  {
   "cell_type": "markdown",
   "id": "15c68a45-c150-4f81-9098-d2eee152dec9",
   "metadata": {},
   "source": [
    "Scala standard library usage"
   ]
  },
  {
   "cell_type": "code",
   "execution_count": 15,
   "id": "39daeda3-6448-440c-bf2e-867fde10d260",
   "metadata": {},
   "outputs": [
    {
     "data": {
      "text/plain": [
       "\u001b[36mnums\u001b[39m: \u001b[32mList\u001b[39m[\u001b[32mInt\u001b[39m] = \u001b[33mList\u001b[39m(\u001b[32m1\u001b[39m, \u001b[32m2\u001b[39m, \u001b[32m3\u001b[39m)\n",
       "defined \u001b[32mfunction\u001b[39m \u001b[36mdouble\u001b[39m\n",
       "\u001b[36mres14_2\u001b[39m: \u001b[32mList\u001b[39m[\u001b[32mInt\u001b[39m] = \u001b[33mList\u001b[39m(\u001b[32m2\u001b[39m, \u001b[32m4\u001b[39m, \u001b[32m6\u001b[39m)"
      ]
     },
     "execution_count": 15,
     "metadata": {},
     "output_type": "execute_result"
    }
   ],
   "source": [
    "val nums = List(1, 2, 3)\n",
    "\n",
    "// map with named function\n",
    "def double(x: Int): Int = x * 2\n",
    "nums.map(double)  // List(2, 4, 6, 8, 10)"
   ]
  },
  {
   "cell_type": "markdown",
   "id": "f593bb44-9bf5-4bb5-bff6-35718635dcf1",
   "metadata": {
    "editable": true,
    "slideshow": {
     "slide_type": ""
    },
    "tags": []
   },
   "source": [
    "#### Example 2: Filter - Predicate-Based Selection[^2]\n",
    "\n",
    "filter keeps elements satisfying a predicate\n",
    "\n",
    "$$\n",
    "\\text{filter}: (A \\rightarrow \\text{Bool}) \\rightarrow [A] \\rightarrow [A]\n",
    "$$\n",
    "    \n",
    "> This reads as: \"`filter` takes a predicate function from A to Boolean, then takes a list of A's, and returns a list of A's\"\n",
    "{:.info-box}\n",
    "\n",
    "Key difference from `map`: the input and output list types are **the same** (`[A] → [A]`) because we're selecting elements, not transforming them.\n",
    "\n",
    "The currying structure:\n",
    "\n",
    "-   Takes `(A → Bool)` - a predicate function that tests elements\n",
    "-   Returns a function that takes `[A]` - a list of A's\n",
    "-   Which returns `[A]` - a filtered list of A's\n",
    "\n",
    "**Behaviour (List Comprehension)**:\n",
    "\n",
    "This is **list comprehension** notation meaning: \"build a list containing all elements `x` drawn from `xs` where the predicate `p(x)` is true\"\n",
    "\n",
    "$$\n",
    "\\text{filter}\\ p\\ xs = [x\\ |\\ x \\leftarrow xs, p(x)]\n",
    "$$\n",
    "    "
   ]
  },
  {
   "cell_type": "code",
   "execution_count": 16,
   "id": "ade99d2a-7761-4061-80b0-7bf6ecb1a6ef",
   "metadata": {},
   "outputs": [
    {
     "data": {
      "text/plain": [
       "defined \u001b[32mfunction\u001b[39m \u001b[36mfilter\u001b[39m"
      ]
     },
     "execution_count": 16,
     "metadata": {},
     "output_type": "execute_result"
    }
   ],
   "source": [
    "def filter[A](p: A => Boolean)(xs: List[A]): List[A] = xs match {\n",
    "  case Nil => Nil\n",
    "  case head :: tail => \n",
    "    if (p(head)) head :: filter(p)(tail)\n",
    "    else filter(p)(tail)\n",
    "}"
   ]
  },
  {
   "cell_type": "markdown",
   "id": "95bb2536-d75c-4c89-af96-743a7bf88898",
   "metadata": {
    "editable": true,
    "slideshow": {
     "slide_type": ""
    },
    "tags": []
   },
   "source": [
    "**Type Parameter:** `[A]` - single generic type (input and output are same type)\n",
    "\n",
    "**Curried Syntax:** `(p: A => Boolean)(xs: List[A])` implements:\n",
    "\n",
    "-   First takes predicate `p: A => Boolean` (matching `A → Bool`)\n",
    "-   Then takes list `xs: List[A]` (matching `[A]`)\n",
    "-   Returns `List[A]` (matching `[A]`)\n",
    "\n",
    "**Pattern Matching Implementation:**\n",
    "\n",
    "The recursive logic implements the list comprehension:\n",
    "\n",
    "-   **Test:** `if (p(head))` - checks if predicate holds for current element\n",
    "-   **Include:** `head :: filter(p)(tail)` - keep element and continue\n",
    "-   **Exclude:** `filter(p)(tail)` - skip element and continue\n",
    "-   Eventually builds a list of only elements where `p(x)` was true\n"
   ]
  },
  {
   "cell_type": "code",
   "execution_count": 17,
   "id": "8657e655-49dd-4d08-830f-9c4109c25154",
   "metadata": {},
   "outputs": [
    {
     "data": {
      "text/plain": [
       "\u001b[36mnumbers\u001b[39m: \u001b[32mList\u001b[39m[\u001b[32mInt\u001b[39m] = \u001b[33mList\u001b[39m(\u001b[32m1\u001b[39m, \u001b[32m2\u001b[39m, \u001b[32m3\u001b[39m, \u001b[32m4\u001b[39m, \u001b[32m5\u001b[39m, \u001b[32m6\u001b[39m, \u001b[32m7\u001b[39m, \u001b[32m8\u001b[39m, \u001b[32m9\u001b[39m, \u001b[32m10\u001b[39m)\n",
       "\u001b[36mevens\u001b[39m: \u001b[32mList\u001b[39m[\u001b[32mInt\u001b[39m] = \u001b[33mList\u001b[39m(\u001b[32m2\u001b[39m, \u001b[32m4\u001b[39m, \u001b[32m6\u001b[39m, \u001b[32m8\u001b[39m, \u001b[32m10\u001b[39m)"
      ]
     },
     "execution_count": 17,
     "metadata": {},
     "output_type": "execute_result"
    }
   ],
   "source": [
    "// Using filter\n",
    "val numbers = List(1, 2, 3, 4, 5, 6, 7, 8, 9, 10)\n",
    "\n",
    "// Keep even numbers\n",
    "val evens = filter((x: Int) => x % 2 == 0)(numbers)\n",
    "// Result: List(2, 4, 6, 8, 10)\n",
    "\n",
    "// Mathematical definition as list comprehension:\n",
    "// filter p xs = [x | x ← xs, p x]"
   ]
  },
  {
   "cell_type": "markdown",
   "id": "2af3b3f1-c683-473c-bac0-3067f8d6f2fc",
   "metadata": {},
   "source": [
    "Example Execution\n",
    "```scala\n",
    "filter(x => x > 2)(List(1, 2, 3, 4))\n",
    "```\n",
    "\n",
    "Traces to:\n",
    "```scala\n",
    "p(1) = false → filter(p)(List(2, 3, 4))\n",
    "p(2) = false → filter(p)(List(3, 4))\n",
    "p(3) = true  → 3 :: filter(p)(List(4))\n",
    "p(4) = true  → 3 :: 4 :: filter(p)(Nil)\n",
    "3 :: 4 :: Nil\n",
    "List(3, 4)\n",
    "```\n",
    "\n",
    "Scala Standard library usage:"
   ]
  },
  {
   "cell_type": "code",
   "execution_count": 19,
   "id": "d609bc99-62fd-4553-9518-84854dde0e3b",
   "metadata": {},
   "outputs": [
    {
     "data": {
      "text/plain": [
       "\u001b[36mnumbers\u001b[39m: \u001b[32mList\u001b[39m[\u001b[32mInt\u001b[39m] = \u001b[33mList\u001b[39m(\u001b[32m-3\u001b[39m, \u001b[32m-2\u001b[39m, \u001b[32m-1\u001b[39m, \u001b[32m0\u001b[39m, \u001b[32m1\u001b[39m, \u001b[32m2\u001b[39m, \u001b[32m3\u001b[39m, \u001b[32m4\u001b[39m, \u001b[32m5\u001b[39m)\n",
       "\u001b[36mres18_1\u001b[39m: \u001b[32mList\u001b[39m[\u001b[32mInt\u001b[39m] = \u001b[33mList\u001b[39m(\u001b[32m1\u001b[39m, \u001b[32m2\u001b[39m, \u001b[32m3\u001b[39m, \u001b[32m4\u001b[39m, \u001b[32m5\u001b[39m)\n",
       "\u001b[36mres18_2\u001b[39m: \u001b[32mList\u001b[39m[\u001b[32mInt\u001b[39m] = \u001b[33mList\u001b[39m(\u001b[32m-2\u001b[39m, \u001b[32m0\u001b[39m, \u001b[32m2\u001b[39m, \u001b[32m4\u001b[39m)\n",
       "\u001b[36mres18_3\u001b[39m: \u001b[32mList\u001b[39m[\u001b[32mInt\u001b[39m] = \u001b[33mList\u001b[39m(\u001b[32m2\u001b[39m, \u001b[32m4\u001b[39m)"
      ]
     },
     "execution_count": 19,
     "metadata": {},
     "output_type": "execute_result"
    }
   ],
   "source": [
    "// Practical examples\n",
    "val numbers = List(-3, -2, -1, 0, 1, 2, 3, 4, 5)\n",
    "\n",
    "// Filter positive numbers\n",
    "numbers.filter(_ > 0)  // List(1, 2, 3)\n",
    "\n",
    "// Filter even numbers\n",
    "numbers.filter(x => x % 2 == 0)  // List(-2, 0, 2, 4)\n",
    "\n",
    "// Chain filter operations\n",
    "numbers\n",
    "  .filter(_ > 0)        // List(1, 2, 3, 4, 5)\n",
    "  .filter(_ % 2 == 0)   // List(2, 4)"
   ]
  },
  {
   "cell_type": "markdown",
   "id": "eb9f9a27-0784-465f-a45d-a64f0e2f0ac0",
   "metadata": {},
   "source": [
    "This matches the math: `map (*2) [1,2,3] = [2, 4, 6]` ✓"
   ]
  },
  {
   "cell_type": "markdown",
   "id": "85f09282-9896-48f0-8161-850b67c79f63",
   "metadata": {
    "editable": true,
    "slideshow": {
     "slide_type": ""
    },
    "tags": []
   },
   "source": [
    "#### Example 3: Fold - Reduction Operations[^2]\n",
    "\n",
    "$$\n",
    "\\text{foldr}: (A \\rightarrow B \\rightarrow B) \\rightarrow B \\rightarrow [A] \\rightarrow B\n",
    "$$\n",
    "\n",
    "> This reads as: \"`foldr` takes a combining function, then an initial value, then a list, and returns a single accumulated value\"\n",
    "{:.info-box}    \n",
    "\n",
    "This reads as: \"`foldr` takes a combining function, then an initial value, then a list, and returns a single accumulated value\"\n",
    "\n",
    "The currying structure (three levels):\n",
    "\n",
    "-   Takes `(A → B → B)` - a **combining function** that takes an element of type A and an accumulator of type B, returning a new B\n",
    "-   Then takes `B` - an **initial/accumulator value**\n",
    "-   Then takes `[A]` - a list of A's\n",
    "-   Returns `B` - a single folded result\n",
    "\n",
    "**Behaviour (Right-Associative):**\n",
    "\n",
    "$$\n",
    "\\text{foldr}\\ (\\oplus)\\ a\\ [x_1, x_2, ..., x_n] = x_1 \\oplus (x_2 \\oplus ... (x_n \\oplus a))\n",
    "$$\n",
    "\n",
    "Works right-to-left, with parentheses showing association from the right. The rightmost element xₙ is combined with the initial value first, then that result is combined with xₙ₋₁, and so on.\n",
    "\n",
    "foldr - right-associative fold"
   ]
  },
  {
   "cell_type": "code",
   "execution_count": 20,
   "id": "2b9fd75b-31d9-47ac-b6c2-9df239389ab1",
   "metadata": {},
   "outputs": [
    {
     "data": {
      "text/plain": [
       "defined \u001b[32mfunction\u001b[39m \u001b[36mfoldr\u001b[39m"
      ]
     },
     "execution_count": 20,
     "metadata": {},
     "output_type": "execute_result"
    }
   ],
   "source": [
    "def foldr[A, B](f: (A, B) => B)(z: B)(xs: List[A]): B = xs match {\n",
    "  case Nil => z\n",
    "  case head :: tail => f(head, foldr(f)(z)(tail))\n",
    "}\n",
    "\n",
    "// Mathematical notation:\n",
    "// foldr (⊕) a [x₁, x₂, ..., xₙ] = x₁ ⊕ (x₂ ⊕ ... (xₙ ⊕ a))"
   ]
  },
  {
   "cell_type": "markdown",
   "id": "eb8df273-d4ec-4244-bec6-3ad8c7c90419",
   "metadata": {},
   "source": [
    "**Type Parameters:** `[A, B]` - two types (list elements and accumulator can differ)\n",
    "\n",
    "**Three Parameter Lists (Curried):**\n",
    "\n",
    "-   `(f: (A, B) => B)` - combining function (matching `A → B → B`)\n",
    "-   `(z: B)` - initial/\"zero\" value (matching the `B`)\n",
    "-   `(xs: List[A])` - input list (matching `[A]`)\n",
    "-   Returns `B` - folded result\n",
    "\n",
    "\n",
    "The recursive case implements right-associativity:\n",
    "\n",
    "-   `foldr(f)(z)(tail)` - **first** recursively fold the tail (processes right side)\n",
    "-   `f(head, ...)` - **then** combine head with that result (processes left side)\n",
    "-   This creates the structure: `head ⊕ (recursive_result)`\n",
    "\n",
    "Example Execution\n"
   ]
  },
  {
   "cell_type": "code",
   "execution_count": 23,
   "id": "aff3400a-1081-44d2-84e2-b15b13de1158",
   "metadata": {},
   "outputs": [
    {
     "data": {
      "text/plain": [
       "\u001b[36mnumbers\u001b[39m: \u001b[32mList\u001b[39m[\u001b[32mInt\u001b[39m] = \u001b[33mList\u001b[39m(\u001b[32m1\u001b[39m, \u001b[32m2\u001b[39m, \u001b[32m3\u001b[39m, \u001b[32m4\u001b[39m, \u001b[32m5\u001b[39m)\n",
       "\u001b[36mproduct\u001b[39m: \u001b[32mInt\u001b[39m = \u001b[32m120\u001b[39m"
      ]
     },
     "execution_count": 23,
     "metadata": {},
     "output_type": "execute_result"
    }
   ],
   "source": [
    "// Practical fold examples\n",
    "val numbers = List(1, 2, 3, 4, 5)\n",
    "// Product using foldRight\n",
    "val product = numbers.foldRight(1)(_ * _)  // 120\n",
    "// Evaluation: 1 * (2 * (3 * (4 * (5 * 1))))"
   ]
  },
  {
   "cell_type": "markdown",
   "id": "1140bd5a-4dbb-461f-a41c-fa2e6f53aad6",
   "metadata": {
    "editable": true,
    "slideshow": {
     "slide_type": ""
    },
    "tags": []
   },
   "source": [
    "```scala\n",
    "foldr((x: Int, acc: Int) => x + acc)(0)(List(1, 2, 3))\n",
    "```\n",
    "\n",
    "Traces to:\n",
    "```\n",
    "f(1, foldr(f)(0)(List(2, 3)))\n",
    "f(1, f(2, foldr(f)(0)(List(3))))\n",
    "f(1, f(2, f(3, foldr(f)(0)(Nil))))\n",
    "f(1, f(2, f(3, 0)))\n",
    "f(1, f(2, 3))\n",
    "f(1, 5)\n",
    "6\n",
    "```\n",
    "\n",
    "This matches the math: \n",
    "$$\\text{foldr}\\ (+)\\ 0\\ [1,2,3] = 1 + (2 + (3 + 0)) = 1 + (2 + 3) = 1 + 5 = 6$$ ✓\n",
    "\n",
    "Visualising Right Association\n",
    "\n",
    "For `foldr (⊕) a [x₁, x₂, x₃]`:\n",
    "```\n",
    "    x₁ ⊕ (x₂ ⊕ (x₃ ⊕ a))\n",
    "    │      │      │\n",
    "    │      │      └─ combines first\n",
    "    │      └──────── combines second  \n",
    "    └─────────────── combines last\n",
    "```\n",
    "\n",
    "foldl - left-associative fold\n",
    "\n",
    "$$\n",
    "\\text{foldl}: (B \\rightarrow A \\rightarrow B) \\rightarrow B \\rightarrow [A] \\rightarrow B\n",
    "$$\n",
    "\n",
    "> This reads as: \"`foldl` takes a combining function, then an initial value, then a list, and returns a single accumulated value\"\n",
    "{:.info-box}\n",
    "\n",
    "The currying structure (three levels):\n",
    "- Takes `(B → A → B)` - a **combining function** that takes an accumulator of type B and an element of type A, returning a new B\n",
    "  - **Note:** Arguments are **reversed** compared to `foldr`!\n",
    "- Then takes `B` - an **initial/accumulator value**\n",
    "- Then takes `[A]` - a list of A's\n",
    "- Returns `B` - a single folded result\n",
    "\n",
    "**Behaviour (Left-Associative):**\n",
    "\n",
    "$$\n",
    "\\text{foldl}\\ (\\oplus)\\ a\\ [x_1, x_2, ..., x_n] = ((...((a \\oplus x_1) \\oplus x_2) ...) \\oplus x_n)\n",
    "$$\n",
    "\n",
    "Works **left-to-right**, with parentheses showing association from the left. The leftmost element `x₁` is combined with the initial value `a` first, then that result is combined with `x₂`, and so on.\n"
   ]
  },
  {
   "cell_type": "code",
   "execution_count": 25,
   "id": "bd08a4db-e42a-4950-89e6-908841fffc50",
   "metadata": {},
   "outputs": [
    {
     "data": {
      "text/plain": [
       "defined \u001b[32mfunction\u001b[39m \u001b[36mfoldl\u001b[39m"
      ]
     },
     "execution_count": 25,
     "metadata": {},
     "output_type": "execute_result"
    }
   ],
   "source": [
    "// foldl - left-associative fold\n",
    "def foldl[A, B](f: (B, A) => B)(z: B)(xs: List[A]): B = xs match {\n",
    "  case Nil => z\n",
    "  case head :: tail => foldl(f)(f(z, head))(tail)\n",
    "}\n",
    "\n",
    "// Mathematical notation:\n",
    "// foldl (⊕) a [x₁, x₂, ..., xₙ] = (((a ⊕ x₁) ⊕ x₂) ... ⊕ xₙ)"
   ]
  },
  {
   "cell_type": "markdown",
   "id": "9fddae8b-7dc0-458b-b57c-da2f9d2ace1a",
   "metadata": {},
   "source": [
    "**Type Parameters:** `[A, B]` - two types (list elements and accumulator can differ)\n",
    "\n",
    "**Three Parameter Lists (Curried):**\n",
    "- `(f: (B, A) => B)` - combining function with **accumulator first** (matching `B → A → B`)\n",
    "- `(z: B)` - initial/\"zero\" value (matching the `B`)\n",
    "- `(xs: List[A])` - input list (matching `[A]`)\n",
    "- Returns `B` - folded result\n"
   ]
  },
  {
   "cell_type": "code",
   "execution_count": 26,
   "id": "1560cab6-1a03-4a05-bb20-3e3fa0de8334",
   "metadata": {},
   "outputs": [
    {
     "data": {
      "text/plain": [
       "\u001b[36mreversed\u001b[39m: \u001b[32mList\u001b[39m[\u001b[32mInt\u001b[39m] = \u001b[33mList\u001b[39m(\u001b[32m5\u001b[39m, \u001b[32m4\u001b[39m, \u001b[32m3\u001b[39m, \u001b[32m2\u001b[39m, \u001b[32m1\u001b[39m)"
      ]
     },
     "execution_count": 26,
     "metadata": {},
     "output_type": "execute_result"
    }
   ],
   "source": [
    "// Building a reversed list with foldLeft\n",
    "val reversed = numbers.foldLeft(List.empty[Int])((acc, x) => x :: acc)\n",
    "// Result: List(5, 4, 3, 2, 1)"
   ]
  },
  {
   "cell_type": "markdown",
   "id": "187aa9f6-fcfd-40ee-bd3c-dd943c29b870",
   "metadata": {},
   "source": [
    "Example Execution\n",
    "\n",
    "The recursive case implements left-associativity:\n",
    "- `f(z, head)` - **first** combine accumulator with head (processes left side)\n",
    "- `foldl(f)(...)(tail)` - **then** recursively fold tail with new accumulator\n",
    "- This creates the structure: `(previous_result) ⊕ head`\n",
    "\n",
    "```scala\n",
    "foldl((acc: Int, x: Int) => acc + x)(0)(List(1, 2, 3))\n",
    "```\n",
    "\n",
    "Traces to:\n",
    "```\n",
    "foldl(f)(f(0, 1))(List(2, 3))\n",
    "foldl(f)(1)(List(2, 3))\n",
    "foldl(f)(f(1, 2))(List(3))\n",
    "foldl(f)(3)(List(3))\n",
    "foldl(f)(f(3, 3))(Nil)\n",
    "foldl(f)(6)(Nil)\n",
    "6\n",
    "```\n",
    "\n",
    "This matches the math:\n",
    "$$\\text{foldl}\\ (+)\\ 0\\ [1,2,3] = ((0 + 1) + 2) + 3 = (1 + 2) + 3 = 3 + 3 = 6$$ ✓\n",
    "\n",
    "## Visualising Left Association\n",
    "\n",
    "For `foldl (⊕) a [x₁, x₂, x₃]`:\n",
    "\n",
    "```\n",
    "    ((a ⊕ x₁) ⊕ x₂) ⊕ x₃\n",
    "     │         │       │\n",
    "     │         │       └─ combines last\n",
    "     │         └──────── combines second  \n",
    "     └─────────────────── combines first\n",
    "```\n"
   ]
  },
  {
   "cell_type": "markdown",
   "id": "f2795118-bf5d-4e0f-b1a1-22b18302b1cf",
   "metadata": {
    "editable": true,
    "slideshow": {
     "slide_type": ""
    },
    "tags": []
   },
   "source": [
    "Scala Standard library usage:"
   ]
  },
  {
   "cell_type": "code",
   "execution_count": 27,
   "id": "22a408bb-0958-444f-b420-6e4fec374eb5",
   "metadata": {},
   "outputs": [
    {
     "data": {
      "text/plain": [
       "\u001b[36mnumbers\u001b[39m: \u001b[32mList\u001b[39m[\u001b[32mInt\u001b[39m] = \u001b[33mList\u001b[39m(\u001b[32m1\u001b[39m, \u001b[32m2\u001b[39m, \u001b[32m3\u001b[39m, \u001b[32m4\u001b[39m, \u001b[32m5\u001b[39m)\n",
       "\u001b[36msum\u001b[39m: \u001b[32mInt\u001b[39m = \u001b[32m15\u001b[39m\n",
       "\u001b[36mproduct\u001b[39m: \u001b[32mInt\u001b[39m = \u001b[32m120\u001b[39m\n",
       "\u001b[36mreversed\u001b[39m: \u001b[32mList\u001b[39m[\u001b[32mInt\u001b[39m] = \u001b[33mList\u001b[39m(\u001b[32m5\u001b[39m, \u001b[32m4\u001b[39m, \u001b[32m3\u001b[39m, \u001b[32m2\u001b[39m, \u001b[32m1\u001b[39m)"
      ]
     },
     "execution_count": 27,
     "metadata": {},
     "output_type": "execute_result"
    }
   ],
   "source": [
    "// Practical fold examples\n",
    "val numbers = List(1, 2, 3, 4, 5)\n",
    "\n",
    "// Sum using foldLeft\n",
    "val sum = numbers.foldLeft(0)(_ + _)  // 15\n",
    "// Evaluation: ((((0 + 1) + 2) + 3) + 4) + 5\n",
    "\n",
    "// Product using foldRight\n",
    "val product = numbers.foldRight(1)(_ * _)  // 120\n",
    "// Evaluation: 1 * (2 * (3 * (4 * (5 * 1))))\n",
    "\n",
    "// Building a reversed list with foldLeft\n",
    "val reversed = numbers.foldLeft(List.empty[Int])((acc, x) => x :: acc)\n",
    "// Result: List(5, 4, 3, 2, 1)"
   ]
  },
  {
   "cell_type": "markdown",
   "id": "09a1b53a-56b9-4aea-86e2-dec037ab8765",
   "metadata": {},
   "source": [
    "Defining common operations with fold"
   ]
  },
  {
   "cell_type": "code",
   "execution_count": 28,
   "id": "498cef7d-5854-41bc-85d6-f7b2d5d3dac8",
   "metadata": {
    "editable": true,
    "slideshow": {
     "slide_type": ""
    },
    "tags": []
   },
   "outputs": [
    {
     "data": {
      "text/plain": [
       "defined \u001b[32mfunction\u001b[39m \u001b[36msum\u001b[39m\n",
       "defined \u001b[32mfunction\u001b[39m \u001b[36mproduct\u001b[39m\n",
       "defined \u001b[32mfunction\u001b[39m \u001b[36mlength\u001b[39m\n",
       "defined \u001b[32mfunction\u001b[39m \u001b[36mconcatenate\u001b[39m\n",
       "\u001b[36mres27_4\u001b[39m: \u001b[32mInt\u001b[39m = \u001b[32m15\u001b[39m\n",
       "\u001b[36mres27_5\u001b[39m: \u001b[32mInt\u001b[39m = \u001b[32m120\u001b[39m\n",
       "\u001b[36mres27_6\u001b[39m: \u001b[32mInt\u001b[39m = \u001b[32m3\u001b[39m\n",
       "\u001b[36mres27_7\u001b[39m: \u001b[32mList\u001b[39m[\u001b[32mInt\u001b[39m] = \u001b[33mList\u001b[39m(\u001b[32m1\u001b[39m, \u001b[32m2\u001b[39m, \u001b[32m3\u001b[39m, \u001b[32m4\u001b[39m)"
      ]
     },
     "execution_count": 28,
     "metadata": {},
     "output_type": "execute_result"
    }
   ],
   "source": [
    "def sum(xs: List[Int]): Int = \n",
    "  xs.foldRight(0)(_ + _)\n",
    "\n",
    "def product(xs: List[Int]): Int = \n",
    "  xs.foldRight(1)(_ * _)\n",
    "\n",
    "def length[A](xs: List[A]): Int = \n",
    "  xs.foldRight(0)((_, acc) => acc + 1)\n",
    "\n",
    "def concatenate[A](xss: List[List[A]]): List[A] = \n",
    "  xss.foldRight(List.empty[A])(_ ++ _)\n",
    "\n",
    "// Example usage\n",
    "sum(List(1, 2, 3, 4, 5))           // 15\n",
    "product(List(1, 2, 3, 4, 5))       // 120\n",
    "length(List('a', 'b', 'c'))        // 3\n",
    "concatenate(List(List(1,2), List(3,4)))  // List(1, 2, 3, 4)"
   ]
  },
  {
   "cell_type": "markdown",
   "id": "8a6e28d3-3ef8-409a-b34a-46caad0f318a",
   "metadata": {
    "editable": true,
    "slideshow": {
     "slide_type": ""
    },
    "tags": []
   },
   "source": [
    "#### Comparing foldr vs foldl\n",
    "\n",
    "##### Visual Comparison\n",
    "\n",
    "**foldr:** `x₁ ⊕ (x₂ ⊕ (x₃ ⊕ a))`  \n",
    "- Right-associative\n",
    "- Processes right side first (via recursion)\n",
    "- Function signature: `(A, B) => B`\n",
    "\n",
    "**foldl:** `((a ⊕ x₁) ⊕ x₂) ⊕ x₃`  \n",
    "- Left-associative  \n",
    "- Processes left side first (via accumulator)\n",
    "- Function signature: `(B, A) => B`\n",
    "\n",
    "##### Example Where Order Matters\n",
    "\n",
    "```scala\n",
    "// Division is NOT associative\n",
    "foldr((x: Int, acc: Int) => x / acc)(1)(List(8, 4, 2))\n",
    "// 8 / (4 / (2 / 1)) = 8 / (4 / 2) = 8 / 2 = 4\n",
    "\n",
    "foldl((acc: Int, x: Int) => acc / x)(64)(List(4, 2, 2))\n",
    "// ((64 / 4) / 2) / 2 = (16 / 2) / 2 = 8 / 2 = 4\n",
    "```\n",
    "\n",
    "Different structure, potentially different results!\n",
    "\n",
    "##### Example: Building a Reversed List\n",
    "\n",
    "```scala\n",
    "foldl((acc: List[Int], x: Int) => x :: acc)(Nil)(List(1, 2, 3))\n",
    "```\n",
    "\n",
    "```\n",
    "((Nil :: 1) :: 2) :: 3\n",
    "(List(1) :: 2) :: 3\n",
    "List(2, 1) :: 3\n",
    "List(3, 2, 1)\n",
    "```\n",
    "\n",
    "This **reverses** the list! In fact, `foldl (flip (::)) Nil xs = reverse xs`\n",
    "\n",
    "#### Key Insights\n",
    "\n",
    "- **`foldl` is tail-recursive** in this implementation - the recursive call is the last operation, making it more memory efficient\n",
    "- **Left-associative:** processes list from left to right via accumulator\n",
    "- **Accumulator-first:** the function takes `(B, A)` not `(A, B)` - accumulator is first argument\n",
    "- **For associative operations** (like `+`, `*`), `foldr` and `foldl` produce the same result\n",
    "- **For non-associative operations** (like `-`, `/`, `::`) they produce different results\n",
    "- **In practice:** `foldl` is often preferred for efficiency (tail-recursive), but `foldr` works on infinite lists"
   ]
  },
  {
   "cell_type": "markdown",
   "id": "6051f0c9-7874-495a-969a-16ef8e2a29b5",
   "metadata": {
    "editable": true,
    "slideshow": {
     "slide_type": ""
    },
    "tags": []
   },
   "source": [
    "[^1]: Functional Programming in Scala, Ch. 1: \"What is functional programming?\" → \"The benefits of FP: a simple example\", p. 3-12\n",
    "\n",
    "[^2]: Bird & Wadler: Introduction to Functional Programming, Ch. 3: \"Lists\" → \"Map and filter\", p. 61-65\n",
    "\n",
    "[^3]: Programming in Scala Fourth Edition, Ch. 23: \"For Expressions Revisited\" → p. 528-545\n",
    "\n",
    "[^4]: Category Theory, Ch. 9: \"Functors and Natural Transformations\" → p. 156-161\n",
    "\n",
    "[^5]: Scala in Depth, Ch. 11: \"Patterns in functional programming\" → \"Currying and applicative style\", p. 266-268\n",
    "\n",
    "[^6]: Programming in Scala Fourth Edition, Ch. 8: \"Functions and Closures\" → \"Closures\", p. 176-179\n",
    "\n",
    "{:gtxt: .message color=\"green\"}\n",
    "{:ytxt: .message color=\"yellow\"}\n",
    "{:rtxt: .message color=\"red\"}"
   ]
  }
 ],
 "metadata": {
  "kernelspec": {
   "display_name": "Scala",
   "language": "scala",
   "name": "scala"
  },
  "language_info": {
   "codemirror_mode": "text/x-scala",
   "file_extension": ".sc",
   "mimetype": "text/x-scala",
   "name": "scala",
   "nbconvert_exporter": "script",
   "version": "2.13.10"
  }
 },
 "nbformat": 4,
 "nbformat_minor": 5
}
