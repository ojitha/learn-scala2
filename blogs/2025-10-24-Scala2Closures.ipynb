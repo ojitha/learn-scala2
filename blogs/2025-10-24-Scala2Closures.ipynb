{
 "cells": [
  {
   "cell_type": "markdown",
   "id": "7de90d36-c969-4d30-ac69-15e965a37f53",
   "metadata": {
    "editable": true,
    "slideshow": {
     "slide_type": ""
    },
    "tags": []
   },
   "source": [
    "---\n",
    "layout: post\n",
    "title:  Scala 2 Functional Programming\n",
    "date:   2025-10-24\n",
    "categories: [Scala]\n",
    "mermaid: true\n",
    "maths: true\n",
    "typora-root-url: /Users/ojitha/GitHub/ojitha.github.io\n",
    "typora-copy-images-to: ../assets/images/${filename}\n",
    "---\n",
    "\n",
    "<style>\n",
    "/* Styles for the two-column layout */\n",
    ".image-text-container {\n",
    "    display: flex; /* Enables flexbox */\n",
    "    flex-wrap: wrap; /* Allows columns to stack on small screens */\n",
    "    gap: 20px; /* Space between the image and text */\n",
    "    align-items: center; /* Vertically centers content in columns */\n",
    "    margin-bottom: 20px; /* Space below this section */\n",
    "}\n",
    "\n",
    ".image-column {\n",
    "    flex: 1; /* Allows this column to grow */\n",
    "    min-width: 250px; /* Minimum width for the image column before stacking */\n",
    "    max-width: 40%; /* Maximum width for the image column to not take up too much space initially */\n",
    "    box-sizing: border-box; /* Include padding/border in element's total width/height */\n",
    "}\n",
    "\n",
    ".text-column {\n",
    "    flex: 2; /* Allows this column to grow more (e.g., twice as much as image-column) */\n",
    "    min-width: 300px; /* Minimum width for the text column before stacking */\n",
    "    box-sizing: border-box;\n",
    "}\n",
    "\n",
    "</style>\n",
    "\n",
    "<div class=\"image-text-container\">\n",
    "    <div class=\"image-column\">\n",
    "        <img src=\"/assets/images/2025-07-25-Scala-basics/scala_basics.png\" alt=\"Scala basics\" width=\"150\" height=\"150\">\n",
    "    </div>\n",
    "    <div class=\"text-column\">\n",
    "<p>TBC</p>\n",
    "    </div>\n",
    "</div>\n",
    "\n",
    "<!--more-->\n",
    "\n",
    "------\n",
    "\n",
    "* TOC\n",
    "{:toc}\n",
    "------\n",
    "\n",
    "Functional Programming (FP) is a programming paradigm based on mathematical functions where computation is treated as the evaluation of mathematical functions avoiding changing state and mutable data. This guide explores five fundamental FP concepts in Scala 2 with their mathematical foundations.\n",
    "\n",
    "Core Principles of Functional Programming\n",
    "\n",
    "1. **Functions are first-class values**: Functions can be passed as arguments, returned from other functions, and assigned to variables\n",
    "2. **Immutability**: Data structures don't change after creation\n",
    "3. **No side effects**: Pure functions don't modify external state\n",
    "4. **Referential Transparency**: Expressions can be replaced by their values without changing program behavior\n",
    "\n",
    "## Pure Functions\n",
    "\n",
    "### Mathematical Definition\n",
    "\n",
    "A **pure function** is a mathematical function where:\n",
    "\n",
    "$$f: A \\rightarrow B$$\n",
    "\n",
    "Such that:\n",
    "\n",
    "1. **Determinism**: $\\forall x \\in A, f(x)$ always produces the same output $y \\in B$\n",
    "2. **No Side Effects**: $f$ doesn't modify any state outside its scope\n",
    "3. **Referential Transparency**: For any program $p$, all occurrences of $f(x)$ can be replaced by its result without changing $p$'s meaning\n",
    "\n",
    "### Formal Definition\n",
    "\n",
    "**Referential Transparency (RT)**: An expression $e$ is referentially transparent if, for all programs $p$, all occurrences of $e$ in $p$ can be replaced by the result of evaluating $e$ without affecting the meaning of $p$.[^1]\n",
    "\n",
    "**Purity**: A function $f$ is pure if the expression $f(x)$ is referentially transparent for all referentially transparent $x$.[^1]\n",
    "\n",
    "### Mathematical Properties\n",
    "\n",
    "```mermaid\n",
    "---\n",
    "config:\n",
    "  look: neo\n",
    "  theme: default\n",
    "---\n",
    "graph TB\n",
    "    A[Pure Function Properties] --> B[Determinism]\n",
    "    A --> C[No Side Effects]\n",
    "    A --> D[Referential Transparency]\n",
    "    B --> E[\"∀x: f(x) = constant\"]\n",
    "    C --> F[\"No I/O, mutations, or exceptions\"]\n",
    "    D --> G[\"Can substitute f(x) with its result\"]\n",
    "    style A fill:#e1f5ff\n",
    "    style B fill:#fff4e1\n",
    "    style C fill:#fff4e1\n",
    "    style D fill:#fff4e1\n",
    "```\n",
    "\n",
    "### Substitution Model\n",
    "\n",
    "Pure functions enable **equational reasoning** through the substitution model:\n",
    "\n",
    "$$\n",
    "\\begin{align}\n",
    "\\text{Given: } & f(x) = x^2 \\\\\n",
    "\\text{Then: } & f(3) + f(3) \\\\\n",
    "& = 9 + f(3) \\quad \\text{(substitute first)} \\\\\n",
    "& = 9 + 9 \\quad \\text{(substitute second)} \\\\\n",
    "& = 18\n",
    "\\end{align}\n",
    "$$\n",
    "\n",
    "for example,\n"
   ]
  },
  {
   "cell_type": "code",
   "execution_count": 6,
   "id": "7ce60fbf-48e1-4bfd-bab8-635279b54f93",
   "metadata": {},
   "outputs": [
    {
     "data": {
      "text/plain": [
       "defined \u001b[32mfunction\u001b[39m \u001b[36msquare\u001b[39m\n",
       "\u001b[36mresult1\u001b[39m: \u001b[32mInt\u001b[39m = \u001b[32m25\u001b[39m\n",
       "\u001b[36mresult2\u001b[39m: \u001b[32mInt\u001b[39m = \u001b[32m25\u001b[39m"
      ]
     },
     "execution_count": 6,
     "metadata": {},
     "output_type": "execute_result"
    }
   ],
   "source": [
    "// Pure Function - Always returns the same output for the same input\n",
    "def square(x: Int): Int = x * x\n",
    "\n",
    "// Test purity\n",
    "val result1 = square(5)  // 25\n",
    "val result2 = square(5)  // 25\n",
    "// result1 == result2 always true"
   ]
  },
  {
   "cell_type": "markdown",
   "id": "31619737-6e0e-4570-b5a0-78dc568b392e",
   "metadata": {},
   "source": [
    "Mathematical proof:\n",
    "    \n",
    "    square(5) = 5 * 5 = 25\n",
    "\n",
    "NOTE: Can always replace square(5) with 25\n",
    "\n",
    "> Pure function using internal mutable state (hidden from outside).\n",
    "{:.green}"
   ]
  },
  {
   "cell_type": "markdown",
   "id": "9a2448fd-ef24-433c-816a-5677869ffe08",
   "metadata": {
    "editable": true,
    "slideshow": {
     "slide_type": ""
    },
    "tags": []
   },
   "source": [
    "### Pure Functions in Mathematics\n",
    "\n",
    "| Mathematical Concept | Scala Example                      | Property           |\n",
    "| -------------------- | ---------------------------------- | ------------------ |\n",
    "| $f(x) = x + 1$       | `def inc(x: Int) = x + 1`          | Successor function |\n",
    "| $f(x, y) = x + y$    | `def add(x: Int, y: Int) = x + y`  | Addition           |\n",
    "| $f(x) = x^2$         | `def square(x: Int) = x * x`       | Quadratic          |\n",
    "| $f(s) = \\|s\\|$       | `def length(s: String) = s.length` | String length      |\n",
    "| $f(x) = e^x$         | `def exp(x: Double) = math.exp(x)` | Exponential        |\n",
    "\n",
    "### Key Benefits of Pure Functions\n",
    "\n",
    "1. **Testability**: Easy to test - same input always produces the same output\n",
    "2. **Parallelisation**: Can safely run in parallel (no shared mutable state)\n",
    "3. **Memoization**: Results can be cached\n",
    "4. **Reasoning**: Enable algebraic reasoning and equational substitution\n",
    "5. **Composition**: Can combine pure functions to create complex behaviour\n",
    "\n",
    "```mermaid\n",
    "---\n",
    "config:\n",
    "  look: neo\n",
    "  theme: default\n",
    "---\n",
    "mindmap\n",
    "  root((Pure Functions))\n",
    "    Benefits\n",
    "      Easy Testing\n",
    "        Predictable\n",
    "        No Mocks Needed\n",
    "      Parallelization\n",
    "        Thread Safe\n",
    "        No Race Conditions\n",
    "      Caching\n",
    "        Memoization\n",
    "        Performance\n",
    "    Properties\n",
    "      Deterministic\n",
    "      No Side Effects\n",
    "      Referential Transparency\n",
    "    Applications\n",
    "      Mathematical Computations\n",
    "      Data Transformations\n",
    "      Functional Pipelines\n",
    "```\n",
    "\n",
    "---\n",
    "\n",
    "## Higher-Order Functions\n",
    "\n",
    "**Morphisms** are simply **arrows** or **mappings** between objects in a category. Think of them as generalized functions.\n",
    "When we say \"objects are types and morphisms are functions\":\n",
    "\n",
    "-   **Objects** = Types (`Int`, `String`, `List[A]`, etc.)\n",
    "-   **Morphisms** = Functions between those types\n",
    "\n",
    "```scala\n",
    "def length: String => Int\n",
    "```\n",
    "\n",
    "This is a **morphism** from the object `String` to the object `Int`.\n",
    "\n",
    "String ----length----> Int\n",
    "(object)  (morphism)  (object)\n",
    "\n",
    "A higher-order function like `map` is a morphism in a \"higher\" category:\n",
    "\n",
    "```scala\n",
    "def map[A, B](f: A => B): List[A] => List[B]\n",
    "// or curried version\n",
    "def map[A, B](f: A => B)(xs: List[A]): List[B]\n",
    "```\n",
    "\n",
    "Here:\n",
    "- **Objects** are themselves function types: `(A => B)`, `(List[A] => List[B])`\n",
    "- **Morphism** is `map`, which maps between these function objects\n",
    " \n",
    "`(A => B) ----map----> (List[A] => List[B])`\n",
    "\n",
    "### HOF Mathematical Definition\n",
    "\n",
    "A **higher-order function (HOF)** is a function that:\n",
    "\n",
    "1. Takes one or more functions as arguments, or\n",
    "2. Returns a function as its result\n",
    "\n",
    "$$\n",
    "\\text{HOF}: (A \\rightarrow B) \\rightarrow C \\text{ or } A \\rightarrow (B \\rightarrow C)\n",
    "$$\n",
    "\n",
    "> In category theory, *HOFs are morphisms* in the category of functions where *objects are types and morphisms are functions*.[^4]\n",
    "\n",
    "### Type Theory Foundation of HOF\n",
    "\n",
    "In the simply typed lambda calculus, if $\\tau_1, \\tau_2, \\tau_3$ are types:\n",
    "\n",
    "$$\n",
    "f: (\\tau_1 \\rightarrow \\tau_2) \\rightarrow \\tau_3 \\text{ is a HOF}\n",
    "$$\n",
    "\n",
    "This means $f$ accepts a function of type $\\tau_1 \\rightarrow \\tau_2$ and produces a value of type $\\tau_3$.\n",
    "\n",
    "Examples\n",
    "\n",
    "1. Map operation (Functor)\n",
    "2. Filter operation\n",
    "3. Fold operation:\n",
    "\n",
    "#### Example 1: Map - The Functor HOF[^2]\n",
    "\n",
    "**Map operation (Functor)**:\n",
    "\n",
    "$$\n",
    "\\text{map}: (A \\rightarrow B) \\rightarrow [A] \\rightarrow [B]\n",
    "$$\n",
    "\n",
    "\n",
    ">This reads as: \"`map` takes a function from A to B, then takes a list of A's, and returns a list of B's\".\n",
    "{:.info-box}\n",
    "\n",
    "The arrows represent **currying** - `map` doesn't take all arguments at once, but returns functions:\n",
    "-   Takes `(A → B)` - a function from type A to type B\n",
    "-   Returns a function that takes `[A]` - a list of A's\n",
    "-   Which returns `[B]` - a list of B's\n",
    "\n",
    "**Behaviour:**\n",
    "\n",
    "$$\n",
    "\\text{map}\\ f\\ [x_1, x_2, ..., x_n] = [f(x_1), f(x_2), ..., f(x_n)]\n",
    "$$\n",
    "    \n",
    "Apply function f to each element in the list.\n",
    "\n",
    "The map applies a function to each element"
   ]
  },
  {
   "cell_type": "code",
   "execution_count": null,
   "id": "5b6a80c8-397e-4853-818c-decf4b1978d8",
   "metadata": {},
   "outputs": [],
   "source": [
    "def map[A, B](f: A => B)(xs: List[A]): List[B] = xs match {\n",
    "  case Nil => Nil\n",
    "  case head :: tail => f(head) :: map(f)(tail)\n",
    "}"
   ]
  },
  {
   "cell_type": "markdown",
   "id": "323798c7-0191-4a97-8e5d-f6f0517fa399",
   "metadata": {},
   "source": [
    "**Type Parameters:** `[A, B]` - generic types matching the math notation\n",
    "\n",
    "**Curried Syntax:** Two parameter lists `(f: A => B)(xs: List[A])` implements the curried arrows:\n",
    "\n",
    "-   First takes function `f: A => B` (matching `A → B`)\n",
    "-   Then takes list `xs: List[A]` (matching `[A]`)\n",
    "-   Returns `List[B]` (matching `[B]`)\n",
    "\n",
    "The recursive case implements the mathematical definition:\n",
    "\n",
    "-   `f(head)` - apply f to first element (like `f(x₁)`)\n",
    "-   `map(f)(tail)` - recursively map over remaining elements (like `[f(x₂), ..., f(xₙ)]`)\n",
    "-   `::` - cons operator joins them together\n",
    "\n",
    "Example execution is\n",
    "```scala\n",
    "map(x => x * 2)(List(1, 2, 3))\n",
    "```\n",
    "\n",
    "Traces to:\n",
    "```scala\n",
    "f(1) :: map(f)(List(2, 3))\n",
    "2 :: f(2) :: map(f)(List(3))\n",
    "2 :: 4 :: f(3) :: map(f)(Nil)\n",
    "2 :: 4 :: 6 :: Nil\n",
    "List(2, 4, 6)\n",
    "```\n",
    "\n",
    "This matches the math: `map (*2) [1,2,3] = [2, 4, 6]` ✓"
   ]
  },
  {
   "cell_type": "code",
   "execution_count": 13,
   "id": "f4686f81-eca3-4b29-9f97-95b2e7a96151",
   "metadata": {},
   "outputs": [
    {
     "data": {
      "text/plain": [
       "\u001b[36mnumbers\u001b[39m: \u001b[32mList\u001b[39m[\u001b[32mInt\u001b[39m] = \u001b[33mList\u001b[39m(\u001b[32m1\u001b[39m, \u001b[32m2\u001b[39m, \u001b[32m3\u001b[39m)\n",
       "\u001b[36msquared\u001b[39m: \u001b[32mList\u001b[39m[\u001b[32mInt\u001b[39m] = \u001b[33mList\u001b[39m(\u001b[32m2\u001b[39m, \u001b[32m4\u001b[39m, \u001b[32m6\u001b[39m)"
      ]
     },
     "execution_count": 13,
     "metadata": {},
     "output_type": "execute_result"
    }
   ],
   "source": [
    "// Using map\n",
    "val numbers = List(1, 2, 3)\n",
    "val squared = map((x: Int) => x * 2)(numbers)\n",
    "// Result: List(1, 4, 9, 16, 25)\n",
    "\n",
    "// Mathematical property (Functor law):\n",
    "// map(id) == id\n",
    "// map(f ∘ g) == map(f) ∘ map(g)"
   ]
  },
  {
   "cell_type": "markdown",
   "id": "15c68a45-c150-4f81-9098-d2eee152dec9",
   "metadata": {},
   "source": [
    "Scala standard library usage"
   ]
  },
  {
   "cell_type": "code",
   "execution_count": 15,
   "id": "39daeda3-6448-440c-bf2e-867fde10d260",
   "metadata": {},
   "outputs": [
    {
     "data": {
      "text/plain": [
       "\u001b[36mnums\u001b[39m: \u001b[32mList\u001b[39m[\u001b[32mInt\u001b[39m] = \u001b[33mList\u001b[39m(\u001b[32m1\u001b[39m, \u001b[32m2\u001b[39m, \u001b[32m3\u001b[39m)\n",
       "defined \u001b[32mfunction\u001b[39m \u001b[36mdouble\u001b[39m\n",
       "\u001b[36mres14_2\u001b[39m: \u001b[32mList\u001b[39m[\u001b[32mInt\u001b[39m] = \u001b[33mList\u001b[39m(\u001b[32m2\u001b[39m, \u001b[32m4\u001b[39m, \u001b[32m6\u001b[39m)"
      ]
     },
     "execution_count": 15,
     "metadata": {},
     "output_type": "execute_result"
    }
   ],
   "source": [
    "val nums = List(1, 2, 3)\n",
    "\n",
    "// map with named function\n",
    "def double(x: Int): Int = x * 2\n",
    "nums.map(double)  // List(2, 4, 6, 8, 10)"
   ]
  },
  {
   "cell_type": "markdown",
   "id": "f593bb44-9bf5-4bb5-bff6-35718635dcf1",
   "metadata": {
    "editable": true,
    "slideshow": {
     "slide_type": ""
    },
    "tags": []
   },
   "source": [
    "#### Example 2: Filter - Predicate-Based Selection[^2]\n",
    "\n",
    "filter keeps elements satisfying a predicate\n",
    "\n",
    "$$\n",
    "\\text{filter}: (A \\rightarrow \\text{Bool}) \\rightarrow [A] \\rightarrow [A]\n",
    "$$\n",
    "    \n",
    "> This reads as: \"`filter` takes a predicate function from A to Boolean, then takes a list of A's, and returns a list of A's\"\n",
    "{:.info-box}\n",
    "\n",
    "Key difference from `map`: the input and output list types are **the same** (`[A] → [A]`) because we're selecting elements, not transforming them.\n",
    "\n",
    "The currying structure:\n",
    "\n",
    "-   Takes `(A → Bool)` - a predicate function that tests elements\n",
    "-   Returns a function that takes `[A]` - a list of A's\n",
    "-   Which returns `[A]` - a filtered list of A's\n",
    "\n",
    "**Behaviour (List Comprehension)**:\n",
    "\n",
    "This is **list comprehension** notation meaning: \"build a list containing all elements `x` drawn from `xs` where the predicate `p(x)` is true\"\n",
    "\n",
    "$$\n",
    "\\text{filter}\\ p\\ xs = [x\\ |\\ x \\leftarrow xs, p(x)]\n",
    "$$\n",
    "    "
   ]
  },
  {
   "cell_type": "code",
   "execution_count": 16,
   "id": "ade99d2a-7761-4061-80b0-7bf6ecb1a6ef",
   "metadata": {},
   "outputs": [
    {
     "data": {
      "text/plain": [
       "defined \u001b[32mfunction\u001b[39m \u001b[36mfilter\u001b[39m"
      ]
     },
     "execution_count": 16,
     "metadata": {},
     "output_type": "execute_result"
    }
   ],
   "source": [
    "def filter[A](p: A => Boolean)(xs: List[A]): List[A] = xs match {\n",
    "  case Nil => Nil\n",
    "  case head :: tail => \n",
    "    if (p(head)) head :: filter(p)(tail)\n",
    "    else filter(p)(tail)\n",
    "}"
   ]
  },
  {
   "cell_type": "markdown",
   "id": "95bb2536-d75c-4c89-af96-743a7bf88898",
   "metadata": {
    "editable": true,
    "slideshow": {
     "slide_type": ""
    },
    "tags": []
   },
   "source": [
    "**Type Parameter:** `[A]` - single generic type (input and output are same type)\n",
    "\n",
    "**Curried Syntax:** `(p: A => Boolean)(xs: List[A])` implements:\n",
    "\n",
    "-   First takes predicate `p: A => Boolean` (matching `A → Bool`)\n",
    "-   Then takes list `xs: List[A]` (matching `[A]`)\n",
    "-   Returns `List[A]` (matching `[A]`)\n",
    "\n",
    "**Pattern Matching Implementation:**\n",
    "\n",
    "The recursive logic implements the list comprehension:\n",
    "\n",
    "-   **Test:** `if (p(head))` - checks if predicate holds for current element\n",
    "-   **Include:** `head :: filter(p)(tail)` - keep element and continue\n",
    "-   **Exclude:** `filter(p)(tail)` - skip element and continue\n",
    "-   Eventually builds a list of only elements where `p(x)` was true\n"
   ]
  },
  {
   "cell_type": "code",
   "execution_count": 17,
   "id": "8657e655-49dd-4d08-830f-9c4109c25154",
   "metadata": {},
   "outputs": [
    {
     "data": {
      "text/plain": [
       "\u001b[36mnumbers\u001b[39m: \u001b[32mList\u001b[39m[\u001b[32mInt\u001b[39m] = \u001b[33mList\u001b[39m(\u001b[32m1\u001b[39m, \u001b[32m2\u001b[39m, \u001b[32m3\u001b[39m, \u001b[32m4\u001b[39m, \u001b[32m5\u001b[39m, \u001b[32m6\u001b[39m, \u001b[32m7\u001b[39m, \u001b[32m8\u001b[39m, \u001b[32m9\u001b[39m, \u001b[32m10\u001b[39m)\n",
       "\u001b[36mevens\u001b[39m: \u001b[32mList\u001b[39m[\u001b[32mInt\u001b[39m] = \u001b[33mList\u001b[39m(\u001b[32m2\u001b[39m, \u001b[32m4\u001b[39m, \u001b[32m6\u001b[39m, \u001b[32m8\u001b[39m, \u001b[32m10\u001b[39m)"
      ]
     },
     "execution_count": 17,
     "metadata": {},
     "output_type": "execute_result"
    }
   ],
   "source": [
    "// Using filter\n",
    "val numbers = List(1, 2, 3, 4, 5, 6, 7, 8, 9, 10)\n",
    "\n",
    "// Keep even numbers\n",
    "val evens = filter((x: Int) => x % 2 == 0)(numbers)\n",
    "// Result: List(2, 4, 6, 8, 10)\n",
    "\n",
    "// Mathematical definition as list comprehension:\n",
    "// filter p xs = [x | x ← xs, p x]"
   ]
  },
  {
   "cell_type": "markdown",
   "id": "2af3b3f1-c683-473c-bac0-3067f8d6f2fc",
   "metadata": {},
   "source": [
    "Example Execution\n",
    "```scala\n",
    "filter(x => x > 2)(List(1, 2, 3, 4))\n",
    "```\n",
    "\n",
    "Traces to:\n",
    "```scala\n",
    "p(1) = false → filter(p)(List(2, 3, 4))\n",
    "p(2) = false → filter(p)(List(3, 4))\n",
    "p(3) = true  → 3 :: filter(p)(List(4))\n",
    "p(4) = true  → 3 :: 4 :: filter(p)(Nil)\n",
    "3 :: 4 :: Nil\n",
    "List(3, 4)\n",
    "```\n",
    "\n",
    "Scala Standard library usage:"
   ]
  },
  {
   "cell_type": "code",
   "execution_count": 19,
   "id": "d609bc99-62fd-4553-9518-84854dde0e3b",
   "metadata": {},
   "outputs": [
    {
     "data": {
      "text/plain": [
       "\u001b[36mnumbers\u001b[39m: \u001b[32mList\u001b[39m[\u001b[32mInt\u001b[39m] = \u001b[33mList\u001b[39m(\u001b[32m-3\u001b[39m, \u001b[32m-2\u001b[39m, \u001b[32m-1\u001b[39m, \u001b[32m0\u001b[39m, \u001b[32m1\u001b[39m, \u001b[32m2\u001b[39m, \u001b[32m3\u001b[39m, \u001b[32m4\u001b[39m, \u001b[32m5\u001b[39m)\n",
       "\u001b[36mres18_1\u001b[39m: \u001b[32mList\u001b[39m[\u001b[32mInt\u001b[39m] = \u001b[33mList\u001b[39m(\u001b[32m1\u001b[39m, \u001b[32m2\u001b[39m, \u001b[32m3\u001b[39m, \u001b[32m4\u001b[39m, \u001b[32m5\u001b[39m)\n",
       "\u001b[36mres18_2\u001b[39m: \u001b[32mList\u001b[39m[\u001b[32mInt\u001b[39m] = \u001b[33mList\u001b[39m(\u001b[32m-2\u001b[39m, \u001b[32m0\u001b[39m, \u001b[32m2\u001b[39m, \u001b[32m4\u001b[39m)\n",
       "\u001b[36mres18_3\u001b[39m: \u001b[32mList\u001b[39m[\u001b[32mInt\u001b[39m] = \u001b[33mList\u001b[39m(\u001b[32m2\u001b[39m, \u001b[32m4\u001b[39m)"
      ]
     },
     "execution_count": 19,
     "metadata": {},
     "output_type": "execute_result"
    }
   ],
   "source": [
    "// Practical examples\n",
    "val numbers = List(-3, -2, -1, 0, 1, 2, 3, 4, 5)\n",
    "\n",
    "// Filter positive numbers\n",
    "numbers.filter(_ > 0)  // List(1, 2, 3)\n",
    "\n",
    "// Filter even numbers\n",
    "numbers.filter(x => x % 2 == 0)  // List(-2, 0, 2, 4)\n",
    "\n",
    "// Chain filter operations\n",
    "numbers\n",
    "  .filter(_ > 0)        // List(1, 2, 3, 4, 5)\n",
    "  .filter(_ % 2 == 0)   // List(2, 4)"
   ]
  },
  {
   "cell_type": "markdown",
   "id": "eb9f9a27-0784-465f-a45d-a64f0e2f0ac0",
   "metadata": {
    "editable": true,
    "slideshow": {
     "slide_type": ""
    },
    "tags": []
   },
   "source": [
    "This matches the math: \n",
    "$$\n",
    "\\text{filter}\\ (>2)\\ [1,2,3,4] = [x\\ |\\ x \\leftarrow [1,2,3,4], x > 2] = [3, 4]\n",
    "$$ "
   ]
  },
  {
   "cell_type": "markdown",
   "id": "85f09282-9896-48f0-8161-850b67c79f63",
   "metadata": {
    "editable": true,
    "slideshow": {
     "slide_type": ""
    },
    "tags": []
   },
   "source": [
    "#### Example 3: Fold - Reduction Operations[^2]\n",
    "\n",
    "##### foldr - right-associative fold\n",
    "\n",
    "$$\n",
    "\\text{foldr}: (A \\rightarrow B \\rightarrow B) \\rightarrow B \\rightarrow [A] \\rightarrow B\n",
    "$$\n",
    "\n",
    "> This reads as: \"`foldr` takes a combining function, then an initial value, then a list, and returns a single accumulated value\"\n",
    "{:.info-box}\n",
    "\n",
    "![img000778@2x](/assets/images/2025-10-24-Scala2Closures/foldr-diagram-detailed.svg)\n",
    "\n",
    "The currying structure (three levels):\n",
    "\n",
    "-   Takes `(A → B → B)` - a **combining function** that takes an element of type A and an accumulator of type B, returning a new B\n",
    "-   Then takes `B` - an **initial/accumulator value**\n",
    "-   Then takes `[A]` - a list of A's\n",
    "-   Returns `B` - a single folded result\n",
    "\n",
    "**Behaviour (Right-Associative):**\n",
    "\n",
    "$$\n",
    "\\text{foldr}\\ (\\oplus)\\ a\\ [x_1, x_2, ..., x_n] = x_1 \\oplus (x_2 \\oplus ... (x_n \\oplus a))\n",
    "$$\n",
    "\n",
    "Works right-to-left, with parentheses showing association from the right. The rightmost element xₙ is combined with the initial value first, then that result is combined with xₙ₋₁, and so on.\n",
    "\n"
   ]
  },
  {
   "cell_type": "code",
   "execution_count": 20,
   "id": "2b9fd75b-31d9-47ac-b6c2-9df239389ab1",
   "metadata": {},
   "outputs": [
    {
     "data": {
      "text/plain": [
       "defined \u001b[32mfunction\u001b[39m \u001b[36mfoldr\u001b[39m"
      ]
     },
     "execution_count": 20,
     "metadata": {},
     "output_type": "execute_result"
    }
   ],
   "source": [
    "def foldr[A, B](f: (A, B) => B)(z: B)(xs: List[A]): B = xs match {\n",
    "  case Nil => z\n",
    "  case head :: tail => f(head, foldr(f)(z)(tail))\n",
    "}\n",
    "\n",
    "// Mathematical notation:\n",
    "// foldr (⊕) a [x₁, x₂, ..., xₙ] = x₁ ⊕ (x₂ ⊕ ... (xₙ ⊕ a))"
   ]
  },
  {
   "cell_type": "markdown",
   "id": "eb8df273-d4ec-4244-bec6-3ad8c7c90419",
   "metadata": {},
   "source": [
    "**Type Parameters:** `[A, B]` - two types (list elements and accumulator can differ)\n",
    "\n",
    "**Three Parameter Lists (Curried):**\n",
    "\n",
    "-   `(f: (A, B) => B)` - combining function (matching `A → B → B`)\n",
    "-   `(z: B)` - initial/\"zero\" value (matching the `B`)\n",
    "-   `(xs: List[A])` - input list (matching `[A]`)\n",
    "-   Returns `B` - folded result\n",
    "\n",
    "\n",
    "The recursive case implements right-associativity:\n",
    "\n",
    "-   `foldr(f)(z)(tail)` - **first** recursively fold the tail (processes right side)\n",
    "-   `f(head, ...)` - **then** combine head with that result (processes left side)\n",
    "-   This creates the structure: `head ⊕ (recursive_result)`\n",
    "\n",
    "Example Execution\n"
   ]
  },
  {
   "cell_type": "code",
   "execution_count": 36,
   "id": "aff3400a-1081-44d2-84e2-b15b13de1158",
   "metadata": {},
   "outputs": [
    {
     "data": {
      "text/plain": [
       "\u001b[36mnumbers\u001b[39m: \u001b[32mList\u001b[39m[\u001b[32mInt\u001b[39m] = \u001b[33mList\u001b[39m(\u001b[32m1\u001b[39m, \u001b[32m2\u001b[39m, \u001b[32m3\u001b[39m, \u001b[32m4\u001b[39m, \u001b[32m5\u001b[39m)\n",
       "\u001b[36mproduct\u001b[39m: \u001b[32mInt\u001b[39m = \u001b[32m120\u001b[39m"
      ]
     },
     "execution_count": 36,
     "metadata": {},
     "output_type": "execute_result"
    }
   ],
   "source": [
    "// Practical fold examples\n",
    "val numbers = List(1, 2, 3, 4, 5)\n",
    "// Product using foldRight\n",
    "val product = numbers.foldRight(1)(_ * _)  // 120\n",
    "// Evaluation: 1 * (2 * (3 * (4 * (5 * 1))))"
   ]
  },
  {
   "cell_type": "markdown",
   "id": "f8fc5f03-bcb9-47f9-8d7d-38ba6392b0a6",
   "metadata": {},
   "source": [
    "see the trace below for the following"
   ]
  },
  {
   "cell_type": "code",
   "execution_count": 35,
   "id": "45244148-675f-47fd-b45e-c68a3783a00f",
   "metadata": {},
   "outputs": [
    {
     "data": {
      "text/plain": [
       "\u001b[36mres34\u001b[39m: \u001b[32mInt\u001b[39m = \u001b[32m6\u001b[39m"
      ]
     },
     "execution_count": 35,
     "metadata": {},
     "output_type": "execute_result"
    }
   ],
   "source": [
    "foldr((x: Int, acc: Int) => x + acc)(0)(List(1, 2, 3))"
   ]
  },
  {
   "cell_type": "markdown",
   "id": "1140bd5a-4dbb-461f-a41c-fa2e6f53aad6",
   "metadata": {
    "editable": true,
    "slideshow": {
     "slide_type": ""
    },
    "tags": []
   },
   "source": [
    "Traces to:\n",
    "\n",
    "```\n",
    "f(1, foldr(f)(0)(List(2, 3)))\n",
    "f(1, f(2, foldr(f)(0)(List(3))))\n",
    "f(1, f(2, f(3, foldr(f)(0)(Nil))))\n",
    "f(1, f(2, f(3, 0)))\n",
    "f(1, f(2, 3))\n",
    "f(1, 5)\n",
    "6\n",
    "```\n",
    "\n",
    "This matches the math: \n",
    "$$\\text{foldr}\\ (+)\\ 0\\ [1,2,3] = 1 + (2 + (3 + 0)) = 1 + (2 + 3) = 1 + 5 = 6$$ ✓\n",
    "\n",
    "Visualising Right Association\n",
    "\n",
    "For `foldr (⊕) a [x₁, x₂, x₃]`:\n",
    "```\n",
    "    x₁ ⊕ (x₂ ⊕ (x₃ ⊕ a))\n",
    "    │      │      │\n",
    "    │      │      └─ combines first\n",
    "    │      └──────── combines second  \n",
    "    └─────────────── combines last\n",
    "```\n",
    "\n",
    "##### foldl - left-associative fold\n",
    "\n",
    "$$\n",
    "\\text{foldl}: (B \\rightarrow A \\rightarrow B) \\rightarrow B \\rightarrow [A] \\rightarrow B\n",
    "$$\n",
    "\n",
    "> This reads as: \"`foldl` takes a combining function, then an initial value, then a list, and returns a single accumulated value\"\n",
    "{:.info-box}\n",
    "\n",
    "![img000778@2x](/assets/images/2025-10-24-Scala2Closures/foldl-diagram-detailed.svg)\n",
    "\n",
    "The currying structure (three levels):\n",
    "- Takes `(B → A → B)` - a **combining function** that takes an accumulator of type B and an element of type A, returning a new B\n",
    "  - **Note:** Arguments are **reversed** compared to `foldr`!\n",
    "- Then takes `B` - an **initial/accumulator value**\n",
    "- Then takes `[A]` - a list of A's\n",
    "- Returns `B` - a single folded result\n",
    "\n",
    "**Behaviour (Left-Associative):**\n",
    "\n",
    "$$\n",
    "\\text{foldl}\\ (\\oplus)\\ a\\ [x_1, x_2, ..., x_n] = ((...((a \\oplus x_1) \\oplus x_2) ...) \\oplus x_n)\n",
    "$$\n",
    "\n",
    "Works **left-to-right**, with parentheses showing association from the left. The leftmost element `x₁` is combined with the initial value `a` first, then that result is combined with `x₂`, and so on.\n"
   ]
  },
  {
   "cell_type": "code",
   "execution_count": 25,
   "id": "bd08a4db-e42a-4950-89e6-908841fffc50",
   "metadata": {},
   "outputs": [
    {
     "data": {
      "text/plain": [
       "defined \u001b[32mfunction\u001b[39m \u001b[36mfoldl\u001b[39m"
      ]
     },
     "execution_count": 25,
     "metadata": {},
     "output_type": "execute_result"
    }
   ],
   "source": [
    "// foldl - left-associative fold\n",
    "def foldl[A, B](f: (B, A) => B)(z: B)(xs: List[A]): B = xs match {\n",
    "  case Nil => z\n",
    "  case head :: tail => foldl(f)(f(z, head))(tail)\n",
    "}\n",
    "\n",
    "// Mathematical notation:\n",
    "// foldl (⊕) a [x₁, x₂, ..., xₙ] = (((a ⊕ x₁) ⊕ x₂) ... ⊕ xₙ)"
   ]
  },
  {
   "cell_type": "markdown",
   "id": "9fddae8b-7dc0-458b-b57c-da2f9d2ace1a",
   "metadata": {},
   "source": [
    "**Type Parameters:** `[A, B]` - two types (list elements and accumulator can differ)\n",
    "\n",
    "**Three Parameter Lists (Curried):**\n",
    "- `(f: (B, A) => B)` - combining function with **accumulator first** (matching `B → A → B`)\n",
    "- `(z: B)` - initial/\"zero\" value (matching the `B`)\n",
    "- `(xs: List[A])` - input list (matching `[A]`)\n",
    "- Returns `B` - folded result\n"
   ]
  },
  {
   "cell_type": "markdown",
   "id": "68a16311-3cde-4304-be9c-f0a6f71b37a1",
   "metadata": {},
   "source": [
    "Example Execution\n",
    "\n",
    "The recursive case implements left-associativity:\n",
    "- `f(z, head)` - **first** combine accumulator with head (processes left side)\n",
    "- `foldl(f)(...)(tail)` - **then** recursively fold tail with new accumulator\n",
    "- This creates the structure: `(previous_result) ⊕ head`"
   ]
  },
  {
   "cell_type": "code",
   "execution_count": 37,
   "id": "374fe5fd-abef-417f-b186-e5da6560df58",
   "metadata": {},
   "outputs": [
    {
     "data": {
      "text/plain": [
       "\u001b[36mres36\u001b[39m: \u001b[32mInt\u001b[39m = \u001b[32m6\u001b[39m"
      ]
     },
     "execution_count": 37,
     "metadata": {},
     "output_type": "execute_result"
    }
   ],
   "source": [
    "foldl((acc: Int, x: Int) => acc + x)(0)(List(1, 2, 3)) // traced"
   ]
  },
  {
   "cell_type": "markdown",
   "id": "187aa9f6-fcfd-40ee-bd3c-dd943c29b870",
   "metadata": {
    "editable": true,
    "slideshow": {
     "slide_type": ""
    },
    "tags": []
   },
   "source": [
    "Traces to:\n",
    "\n",
    "```\n",
    "foldl(f)(f(0, 1))(List(2, 3))\n",
    "foldl(f)(1)(List(2, 3))\n",
    "foldl(f)(f(1, 2))(List(3))\n",
    "foldl(f)(3)(List(3))\n",
    "foldl(f)(f(3, 3))(Nil)\n",
    "foldl(f)(6)(Nil)\n",
    "6\n",
    "```\n",
    "\n",
    "This matches the math:\n",
    "$$\\text{foldl}\\ (+)\\ 0\\ [1,2,3] = ((0 + 1) + 2) + 3 = (1 + 2) + 3 = 3 + 3 = 6$$ ✓\n",
    "\n",
    "Visualising Left Association\n",
    "\n",
    "For `foldl (⊕) a [x₁, x₂, x₃]`:\n",
    "\n",
    "```\n",
    "    ((a ⊕ x₁) ⊕ x₂) ⊕ x₃\n",
    "     │         │       │\n",
    "     │         │       └─ combines last\n",
    "     │         └──────── combines second  \n",
    "     └─────────────────── combines first\n",
    "```\n",
    "\n",
    "For example, Building a reversed list with foldLeft"
   ]
  },
  {
   "cell_type": "code",
   "execution_count": 26,
   "id": "1560cab6-1a03-4a05-bb20-3e3fa0de8334",
   "metadata": {},
   "outputs": [
    {
     "data": {
      "text/plain": [
       "\u001b[36mreversed\u001b[39m: \u001b[32mList\u001b[39m[\u001b[32mInt\u001b[39m] = \u001b[33mList\u001b[39m(\u001b[32m5\u001b[39m, \u001b[32m4\u001b[39m, \u001b[32m3\u001b[39m, \u001b[32m2\u001b[39m, \u001b[32m1\u001b[39m)"
      ]
     },
     "execution_count": 26,
     "metadata": {},
     "output_type": "execute_result"
    }
   ],
   "source": [
    "val reversed = numbers.foldLeft(List.empty[Int])((acc, x) => x :: acc)\n",
    "// Result: List(5, 4, 3, 2, 1)"
   ]
  },
  {
   "cell_type": "markdown",
   "id": "f2795118-bf5d-4e0f-b1a1-22b18302b1cf",
   "metadata": {
    "editable": true,
    "slideshow": {
     "slide_type": ""
    },
    "tags": []
   },
   "source": [
    "Scala Standard library usage:"
   ]
  },
  {
   "cell_type": "code",
   "execution_count": 27,
   "id": "22a408bb-0958-444f-b420-6e4fec374eb5",
   "metadata": {},
   "outputs": [
    {
     "data": {
      "text/plain": [
       "\u001b[36mnumbers\u001b[39m: \u001b[32mList\u001b[39m[\u001b[32mInt\u001b[39m] = \u001b[33mList\u001b[39m(\u001b[32m1\u001b[39m, \u001b[32m2\u001b[39m, \u001b[32m3\u001b[39m, \u001b[32m4\u001b[39m, \u001b[32m5\u001b[39m)\n",
       "\u001b[36msum\u001b[39m: \u001b[32mInt\u001b[39m = \u001b[32m15\u001b[39m\n",
       "\u001b[36mproduct\u001b[39m: \u001b[32mInt\u001b[39m = \u001b[32m120\u001b[39m\n",
       "\u001b[36mreversed\u001b[39m: \u001b[32mList\u001b[39m[\u001b[32mInt\u001b[39m] = \u001b[33mList\u001b[39m(\u001b[32m5\u001b[39m, \u001b[32m4\u001b[39m, \u001b[32m3\u001b[39m, \u001b[32m2\u001b[39m, \u001b[32m1\u001b[39m)"
      ]
     },
     "execution_count": 27,
     "metadata": {},
     "output_type": "execute_result"
    }
   ],
   "source": [
    "// Practical fold examples\n",
    "val numbers = List(1, 2, 3, 4, 5)\n",
    "\n",
    "// Sum using foldLeft\n",
    "val sum = numbers.foldLeft(0)(_ + _)  // 15\n",
    "// Evaluation: ((((0 + 1) + 2) + 3) + 4) + 5\n",
    "\n",
    "// Product using foldRight\n",
    "val product = numbers.foldRight(1)(_ * _)  // 120\n",
    "// Evaluation: 1 * (2 * (3 * (4 * (5 * 1))))\n",
    "\n",
    "// Building a reversed list with foldLeft\n",
    "val reversed = numbers.foldLeft(List.empty[Int])((acc, x) => x :: acc)\n",
    "// Result: List(5, 4, 3, 2, 1)"
   ]
  },
  {
   "cell_type": "markdown",
   "id": "09a1b53a-56b9-4aea-86e2-dec037ab8765",
   "metadata": {},
   "source": [
    "Defining common operations with fold"
   ]
  },
  {
   "cell_type": "code",
   "execution_count": 38,
   "id": "498cef7d-5854-41bc-85d6-f7b2d5d3dac8",
   "metadata": {
    "editable": true,
    "slideshow": {
     "slide_type": ""
    },
    "tags": []
   },
   "outputs": [
    {
     "data": {
      "text/plain": [
       "defined \u001b[32mfunction\u001b[39m \u001b[36msum\u001b[39m\n",
       "defined \u001b[32mfunction\u001b[39m \u001b[36mproduct\u001b[39m\n",
       "defined \u001b[32mfunction\u001b[39m \u001b[36mlength\u001b[39m\n",
       "defined \u001b[32mfunction\u001b[39m \u001b[36mconcatenate\u001b[39m\n",
       "\u001b[36mres37_4\u001b[39m: \u001b[32mInt\u001b[39m = \u001b[32m15\u001b[39m\n",
       "\u001b[36mres37_5\u001b[39m: \u001b[32mInt\u001b[39m = \u001b[32m120\u001b[39m\n",
       "\u001b[36mres37_6\u001b[39m: \u001b[32mInt\u001b[39m = \u001b[32m3\u001b[39m\n",
       "\u001b[36mres37_7\u001b[39m: \u001b[32mList\u001b[39m[\u001b[32mInt\u001b[39m] = \u001b[33mList\u001b[39m(\u001b[32m1\u001b[39m, \u001b[32m2\u001b[39m, \u001b[32m3\u001b[39m, \u001b[32m4\u001b[39m)"
      ]
     },
     "execution_count": 38,
     "metadata": {},
     "output_type": "execute_result"
    }
   ],
   "source": [
    "def sum(xs: List[Int]): Int = xs.foldRight(0)(_ + _)\n",
    "\n",
    "def product(xs: List[Int]): Int = xs.foldRight(1)(_ * _)\n",
    "\n",
    "def length[A](xs: List[A]): Int = xs.foldRight(0)((_, acc) => acc + 1)\n",
    "\n",
    "def concatenate[A](xss: List[List[A]]): List[A] = xss.foldRight(List.empty[A])(_ ++ _)\n",
    "\n",
    "// Example usage\n",
    "sum(List(1, 2, 3, 4, 5))           // 15\n",
    "product(List(1, 2, 3, 4, 5))       // 120\n",
    "length(List('a', 'b', 'c'))        // 3\n",
    "concatenate(List(List(1,2), List(3,4)))  // List(1, 2, 3, 4)"
   ]
  },
  {
   "cell_type": "markdown",
   "id": "8a6e28d3-3ef8-409a-b34a-46caad0f318a",
   "metadata": {
    "editable": true,
    "slideshow": {
     "slide_type": ""
    },
    "tags": []
   },
   "source": [
    "##### Comparing foldr vs foldl\n",
    "\n",
    "**foldr:** `x₁ ⊕ (x₂ ⊕ (x₃ ⊕ a))`  \n",
    "- Right-associative\n",
    "- Processes right side first (via recursion)\n",
    "- Function signature: `(A, B) => B`\n",
    "\n",
    "**foldl:** `((a ⊕ x₁) ⊕ x₂) ⊕ x₃`  \n",
    "- Left-associative  \n",
    "- Processes left side first (via accumulator)\n",
    "- Function signature: `(B, A) => B`\n",
    "\n",
    "Example Where Order Matters"
   ]
  },
  {
   "cell_type": "code",
   "execution_count": 29,
   "id": "b77f2895-439b-4a85-ba2d-72686da99ad9",
   "metadata": {},
   "outputs": [
    {
     "data": {
      "text/plain": [
       "\u001b[36mres28_0\u001b[39m: \u001b[32mInt\u001b[39m = \u001b[32m4\u001b[39m\n",
       "\u001b[36mres28_1\u001b[39m: \u001b[32mInt\u001b[39m = \u001b[32m4\u001b[39m"
      ]
     },
     "execution_count": 29,
     "metadata": {},
     "output_type": "execute_result"
    }
   ],
   "source": [
    "// Division is NOT associative\n",
    "foldr((x: Int, acc: Int) => x / acc)(1)(List(8, 4, 2))\n",
    "// 8 / (4 / (2 / 1)) = 8 / (4 / 2) = 8 / 2 = 4\n",
    "\n",
    "foldl((acc: Int, x: Int) => acc / x)(64)(List(4, 2, 2))\n",
    "// ((64 / 4) / 2) / 2 = (16 / 2) / 2 = 8 / 2 = 4"
   ]
  },
  {
   "cell_type": "markdown",
   "id": "3b41f29e-f9e1-49a4-a4fd-cc8e2fc96771",
   "metadata": {
    "editable": true,
    "slideshow": {
     "slide_type": ""
    },
    "tags": []
   },
   "source": [
    "> Different structure, potentially different results!\n",
    "\n",
    "Example: Building a Reversed List"
   ]
  },
  {
   "cell_type": "code",
   "execution_count": 30,
   "id": "8dabb421-eb96-4df7-bdac-fd19b2bf2ad6",
   "metadata": {},
   "outputs": [
    {
     "data": {
      "text/plain": [
       "\u001b[36mres29\u001b[39m: \u001b[32mList\u001b[39m[\u001b[32mInt\u001b[39m] = \u001b[33mList\u001b[39m(\u001b[32m3\u001b[39m, \u001b[32m2\u001b[39m, \u001b[32m1\u001b[39m)"
      ]
     },
     "execution_count": 30,
     "metadata": {},
     "output_type": "execute_result"
    }
   ],
   "source": [
    "foldl((acc: List[Int], x: Int) => x :: acc)(Nil)(List(1, 2, 3))"
   ]
  },
  {
   "cell_type": "markdown",
   "id": "5639526d-593e-45b0-9720-be54da07d241",
   "metadata": {
    "editable": true,
    "slideshow": {
     "slide_type": ""
    },
    "tags": []
   },
   "source": [
    "```\n",
    "((Nil :: 1) :: 2) :: 3\n",
    "(List(1) :: 2) :: 3\n",
    "List(2, 1) :: 3\n",
    "List(3, 2, 1)\n",
    "```\n",
    "\n",
    "This **reverses** the list! In fact, `foldl (flip (::)) Nil xs = reverse xs`\n",
    "\n",
    "##### Insights:\n",
    "\n",
    "- **`foldl` is tail-recursive** in this implementation - the recursive call is the last operation, making it more memory efficient\n",
    "- **Left-associative:** processes list from left to right via accumulator\n",
    "- **Accumulator-first:** the function takes `(B, A)` not `(A, B)` - accumulator is first argument\n",
    "- **For associative operations** (like `+`, `*`), `foldr` and `foldl` produce the same result\n",
    "- **For non-associative operations** (like `-`, `/`, `::`) they produce different results\n",
    "- **In practice:** `foldl` is often preferred for efficiency (tail-recursive), but `foldr` works on infinite lists\n",
    "\n",
    "#### Example 4: Custom HOFs\n",
    "A HOF that applies a function n times.\n",
    "\n",
    "The `applyNTimes` function implements **repeated function composition** or **function exponentiation**:\n",
    "\n",
    "$$f^n(x) = \\underbrace{f \\circ f \\circ \\cdots \\circ f}_{n \\text{ times}}(x)$$\n",
    "\n",
    "More explicitly:\n",
    "- $f^0(x) = x$ (identity - apply 0 times)\n",
    "- $f^1(x) = f(x)$ (apply once)\n",
    "- $f^2(x) = f(f(x))$ (apply twice)\n",
    "- $f^3(x) = f(f(f(x)))$ (apply three times)\n",
    "- $f^n(x) = f(f^{n-1}(x))$ (recursive definition)\n",
    "\n",
    "in Mathematics\n",
    "\n",
    "$$\\text{applyNTimes}: (A \\rightarrow A) \\rightarrow \\mathbb{N} \\rightarrow (A \\rightarrow A)$$\n",
    "\n",
    "> Reads as: \"Takes an endomorphism (function from A to itself) and a natural number, returns another endomorphism\"\n",
    "{:.info-box}\n",
    "\n",
    "Type Analysis\n",
    "\n",
    "- **Input 1:** `f: A => A` - an *endomorphism* (function that maps type A to itself)\n",
    "- **Input 2:** `n: Int` - number of times to compose f\n",
    "- **Output:** `A => A` - a new function that applies f exactly n times\n",
    "\n",
    "The `loop` helper function:\n",
    "\n",
    "$$\\text{loop}(x, k) = \\begin{cases} \n",
    "x & \\text{if } k \\leq 0 \\\\\n",
    "\\text{loop}(f(x), k-1) & \\text{if } k > 0\n",
    "\\end{cases}$$\n",
    "\n",
    "This implements: $\\text{loop}(x, n) = f^n(x)$"
   ]
  },
  {
   "cell_type": "code",
   "execution_count": 39,
   "id": "4fff949c-2de7-4e65-8816-16a36c89e9c1",
   "metadata": {
    "editable": true,
    "slideshow": {
     "slide_type": ""
    },
    "tags": []
   },
   "outputs": [
    {
     "data": {
      "text/plain": [
       "defined \u001b[32mfunction\u001b[39m \u001b[36mapplyNTimes\u001b[39m"
      ]
     },
     "execution_count": 39,
     "metadata": {},
     "output_type": "execute_result"
    }
   ],
   "source": [
    "def applyNTimes[A](f: A => A, n: Int): A => A = {\n",
    "  def loop(x: A, remaining: Int): A = {\n",
    "    if (remaining <= 0) x\n",
    "    else loop(f(x), remaining - 1)\n",
    "  }\n",
    "  (x: A) => loop(x, n)\n",
    "}"
   ]
  },
  {
   "cell_type": "markdown",
   "id": "aa59ce21-fb94-48b8-8e04-031905bd4fe4",
   "metadata": {},
   "source": [
    "**Execution trace for `loop(x, 3)`:**\n",
    "\n",
    "```\n",
    "loop(x, 3)\n",
    "→ loop(f(x), 2)\n",
    "→ loop(f(f(x)), 1)\n",
    "→ loop(f(f(f(x))), 0)\n",
    "→ f(f(f(x)))\n",
    "```"
   ]
  },
  {
   "cell_type": "code",
   "execution_count": 41,
   "id": "d52ac6ea-48b0-46ff-81d7-2e24491fe17a",
   "metadata": {},
   "outputs": [
    {
     "data": {
      "text/plain": [
       "\u001b[36mincrement\u001b[39m: \u001b[32mInt\u001b[39m => \u001b[32mInt\u001b[39m = ammonite.$sess.cmd40$Helper$$Lambda$2754/0x000000012c898bc8@7d57e5ae\n",
       "\u001b[36maddFive\u001b[39m: \u001b[32mInt\u001b[39m => \u001b[32mInt\u001b[39m = ammonite.$sess.cmd38$Helper$$Lambda$2750/0x000000012c897908@612c3a59\n",
       "\u001b[36mres40_2\u001b[39m: \u001b[32mInt\u001b[39m = \u001b[32m15\u001b[39m"
      ]
     },
     "execution_count": 41,
     "metadata": {},
     "output_type": "execute_result"
    }
   ],
   "source": [
    "val increment: Int => Int = x => x + 1\n",
    "\n",
    "val addFive = applyNTimes(increment, 5)\n",
    "// addFive is equivalent to: x => x + 1 + 1 + 1 + 1 + 1\n",
    "\n",
    "addFive(10)  // Output: 15"
   ]
  },
  {
   "cell_type": "markdown",
   "id": "aad0d847-c609-46b9-8b01-6fdc7b2c37a5",
   "metadata": {
    "editable": true,
    "slideshow": {
     "slide_type": ""
    },
    "tags": []
   },
   "source": [
    "$$\\begin{aligned}\n",
    "\\text{addFive}(10) &= \\text{increment}^5(10) \\\\\n",
    "&=\\text{increment}(\\text{increment}(\\text{increment}(\\text{increment}(\\text{increment}(10))))) \\\\\n",
    "&=\\text{increment}(\\text{increment}(\\text{increment}(\\text{increment}(11)))) \\\\\n",
    "&=\\text{increment}(\\text{increment}(\\text{increment}(12))) \\\\\n",
    "&=\\text{increment}(\\text{increment}(13)) \\\\\n",
    "&=\\text{increment}(14) \\\\\n",
    "&= 15\n",
    "\\end{aligned}$$\n",
    "\n",
    "Function design properties:\n",
    "\n",
    "1: Identity Law\n",
    "\n",
    "$$\\text{applyNTimes}(f, 0) = \\text{id}$$ \n",
    "Where $\\text{id}(x) = x$ for all $x$\n"
   ]
  },
  {
   "cell_type": "code",
   "execution_count": 44,
   "id": "f4674272-d742-49e3-9847-78a8b037c52f",
   "metadata": {
    "editable": true,
    "slideshow": {
     "slide_type": ""
    },
    "tags": []
   },
   "outputs": [
    {
     "data": {
      "text/plain": [
       "\u001b[36midentityFunc\u001b[39m: \u001b[32mInt\u001b[39m => \u001b[32mInt\u001b[39m = ammonite.$sess.cmd38$Helper$$Lambda$2750/0x000000012c897908@6a7a462\n",
       "\u001b[36mres43_1\u001b[39m: \u001b[32mInt\u001b[39m = \u001b[32m10\u001b[39m"
      ]
     },
     "execution_count": 44,
     "metadata": {},
     "output_type": "execute_result"
    }
   ],
   "source": [
    "val identityFunc = applyNTimes(increment, 0)\n",
    "identityFunc(10)"
   ]
  },
  {
   "cell_type": "markdown",
   "id": "d85cdb3e-9cf3-46de-9901-b8bcfbc720ec",
   "metadata": {},
   "source": [
    "2: Composition Law\n",
    "   \n",
    "$$\\text{applyNTimes}(f, m + n) = \\text{applyNTimes}(f, m) \\circ \\text{applyNTimes}(f, n)$$\n"
   ]
  },
  {
   "cell_type": "code",
   "execution_count": 45,
   "id": "a06e87e8-f4b2-4027-a8f2-2486fa92feb2",
   "metadata": {
    "editable": true,
    "slideshow": {
     "slide_type": ""
    },
    "tags": []
   },
   "outputs": [
    {
     "data": {
      "text/plain": [
       "\u001b[36madd3\u001b[39m: \u001b[32mInt\u001b[39m => \u001b[32mInt\u001b[39m = ammonite.$sess.cmd38$Helper$$Lambda$2750/0x000000012c897908@447f7c8f\n",
       "\u001b[36madd5\u001b[39m: \u001b[32mInt\u001b[39m => \u001b[32mInt\u001b[39m = ammonite.$sess.cmd38$Helper$$Lambda$2750/0x000000012c897908@150f8d6c\n",
       "\u001b[36madd8\u001b[39m: \u001b[32mInt\u001b[39m => \u001b[32mInt\u001b[39m = ammonite.$sess.cmd38$Helper$$Lambda$2750/0x000000012c897908@7ddc39a\n",
       "\u001b[36mres44_3\u001b[39m: \u001b[32mInt\u001b[39m = \u001b[32m18\u001b[39m\n",
       "\u001b[36mres44_4\u001b[39m: \u001b[32mInt\u001b[39m = \u001b[32m18\u001b[39m"
      ]
     },
     "execution_count": 45,
     "metadata": {},
     "output_type": "execute_result"
    }
   ],
   "source": [
    "val add3 = applyNTimes(increment, 3)\n",
    "val add5 = applyNTimes(increment, 5)\n",
    "val add8 = applyNTimes(increment, 8)\n",
    "\n",
    "// These are equivalent:\n",
    "add8(10)           // 18\n",
    "add5(add3(10))     // 18"
   ]
  },
  {
   "cell_type": "markdown",
   "id": "d2ca0e6d-f3c9-44d5-8f9f-5fecb25444da",
   "metadata": {
    "editable": true,
    "slideshow": {
     "slide_type": ""
    },
    "tags": []
   },
   "source": [
    "3: Recursive Structure\n",
    "$$f^n = f \\circ f^{n-1}$$\n",
    "\n",
    "This is exactly what the `loop` function implements through tail recursion.\n",
    "\n",
    "In category theory, `applyNTimes` works with **endomorphisms** in a category:\n",
    "- **Objects:** Types (like `Int`, `String`, etc.)\n",
    "- **Morphisms:** Functions between types\n",
    "- **Endomorphism:** A morphism from an object to itself (`A => A`)\n",
    "\n",
    "The function creates a **monoid** structure:\n",
    "- **Binary operation:** Function composition $\\circ$\n",
    "- **Identity element:** $f^0 = \\text{id}$\n",
    "- **Closure:** $f^m \\circ f^n = f^{m+n}$\n",
    "\n",
    "**Tail Recursion** Optimisation\n",
    "\n",
    "The `loop` function is **tail-recursive** because:\n",
    "- The recursive call is the **last operation**\n",
    "- No additional computation after the recursive call returns\n",
    "- Scala compiler can optimise it to a loop (with `@tailrec` annotation)\n"
   ]
  },
  {
   "cell_type": "code",
   "execution_count": 46,
   "id": "e13467f6-b1cd-4cc7-aafd-edb9e2a6316b",
   "metadata": {
    "editable": true,
    "slideshow": {
     "slide_type": ""
    },
    "tags": []
   },
   "outputs": [
    {
     "data": {
      "text/plain": [
       "\u001b[32mimport \u001b[39m\u001b[36mscala.annotation.tailrec\n",
       "\n",
       "\u001b[39m\n",
       "defined \u001b[32mfunction\u001b[39m \u001b[36mapplyNTimes\u001b[39m"
      ]
     },
     "execution_count": 46,
     "metadata": {},
     "output_type": "execute_result"
    }
   ],
   "source": [
    "import scala.annotation.tailrec\n",
    "\n",
    "def applyNTimes[A](f: A => A, n: Int): A => A = {\n",
    "  @tailrec\n",
    "  def loop(x: A, remaining: Int): A = {\n",
    "    if (remaining <= 0) x\n",
    "    else loop(f(x), remaining - 1)\n",
    "  }\n",
    "  (x: A) => loop(x, n)\n",
    "}"
   ]
  },
  {
   "cell_type": "markdown",
   "id": "96de92a1-49e2-40c4-bc2c-c1852fcd8986",
   "metadata": {
    "editable": true,
    "slideshow": {
     "slide_type": ""
    },
    "tags": []
   },
   "source": [
    "#### Composition in Scala\n",
    "Understanding Function Composition in Scala\n",
    "\n",
    "In mathematics, function composition is denoted by the symbol $\\circ$ (circle):\n",
    "\n",
    "$$(f \\circ g)(x) = f(g(x))$$\n",
    "\n",
    "**Read as:** \"f composed with g, applied to x, equals f of g of x\"\n",
    "\n",
    "**Key points:**\n",
    "- Apply $g$ **first** to $x$\n",
    "- Then apply $f$ to the result\n",
    "- The right function ($g$) is applied first\n",
    "- Composition flows **right-to-left**\n",
    "\n",
    "```\n",
    "x  →  [g]  →  g(x)  →  [f]  →  f(g(x))\n",
    "      apply g first    then apply f\n",
    "```\n",
    "\n",
    "For composition $f \\circ g$ to be valid:\n",
    "$$f: B \\rightarrow C$$\n",
    "$$g: A \\rightarrow B$$\n",
    "$$f \\circ g: A \\rightarrow C$$\n",
    "\n",
    "The **output type of $g$ must match the input type of $f$**.\n",
    "\n"
   ]
  },
  {
   "cell_type": "code",
   "execution_count": 48,
   "id": "97152f9e-cde9-447d-b512-ed48960bcb7d",
   "metadata": {},
   "outputs": [
    {
     "data": {
      "text/plain": [
       "defined \u001b[32mfunction\u001b[39m \u001b[36mcompose\u001b[39m"
      ]
     },
     "execution_count": 48,
     "metadata": {},
     "output_type": "execute_result"
    }
   ],
   "source": [
    "def compose[A, B, C](f: B => C, g: A => B): A => C = {\n",
    "  (x: A) => f(g(x))\n",
    "}\n"
   ]
  },
  {
   "cell_type": "markdown",
   "id": "e57789c0-eaa4-4890-a23b-cd9c1bd597ca",
   "metadata": {},
   "source": [
    "Type Analysis\n",
    "\n",
    "**Type signature:**\n",
    "$$\\text{compose}: (B \\rightarrow C) \\rightarrow (A \\rightarrow B) \\rightarrow (A \\rightarrow C)$$\n",
    "\n",
    "- **Parameter 1:** `f: B => C` - function that transforms B to C\n",
    "- **Parameter 2:** `g: A => B` - function that transforms A to B\n",
    "- **Returns:** `A => C` - a new function that transforms A to C\n",
    "\n",
    "How It Works\n",
    "\n",
    "The function returns a **closure** (lambda):\n",
    "\n",
    "```scala\n",
    "(x: A) => f(g(x))\n",
    "```\n",
    "\n",
    "This lambda:\n",
    "1. Takes an argument `x` of type `A`\n",
    "2. Applies `g` to get a value of type `B`\n",
    "3. Applies `f` to get a final value of type `C`\n",
    "\n",
    "Examples:"
   ]
  },
  {
   "cell_type": "code",
   "execution_count": 50,
   "id": "31e522b8-3ec5-4922-b0b2-25186cf9dee5",
   "metadata": {},
   "outputs": [
    {
     "data": {
      "text/plain": [
       "\u001b[36maddOne\u001b[39m: \u001b[32mInt\u001b[39m => \u001b[32mInt\u001b[39m = ammonite.$sess.cmd49$Helper$$Lambda$2790/0x000000012c8a4000@54d5fa77\n",
       "\u001b[36mdouble\u001b[39m: \u001b[32mInt\u001b[39m => \u001b[32mInt\u001b[39m = ammonite.$sess.cmd49$Helper$$Lambda$2791/0x000000012c8a43e8@27a2a472\n",
       "\u001b[36maddOneThenDouble\u001b[39m: \u001b[32mInt\u001b[39m => \u001b[32mInt\u001b[39m = ammonite.$sess.cmd47$Helper$$Lambda$2786/0x000000012c89ed08@7da32905\n",
       "\u001b[36mres49_3\u001b[39m: \u001b[32mInt\u001b[39m = \u001b[32m12\u001b[39m"
      ]
     },
     "execution_count": 50,
     "metadata": {},
     "output_type": "execute_result"
    }
   ],
   "source": [
    "val addOne = (x: Int) => x + 1\n",
    "val double = (x: Int) => x * 2\n",
    "val addOneThenDouble = compose(double, addOne)\n",
    "addOneThenDouble(5)"
   ]
  },
  {
   "cell_type": "markdown",
   "id": "8b348bc7-b98d-4662-ac52-90650f35d5ea",
   "metadata": {
    "editable": true,
    "slideshow": {
     "slide_type": ""
    },
    "tags": []
   },
   "source": [
    "**Type flow:**\n",
    "- `addOne: Int => Int` (matches `A => B` where A=Int, B=Int)\n",
    "- `double: Int => Int` (matches `B => C` where B=Int, C=Int)\n",
    "- `addOneThenDouble: Int => Int` (resulting `A => C`)\n",
    "\n",
    "**Execution trace:**\n",
    "\n",
    "$$\\begin{flalign*}\n",
    "\\text{addOneThenDouble}(5) \n",
    "&= \\text{double}(\\text{addOne}(5)) \\\\\n",
    "&= \\text{double}(5 + 1) \\\\\n",
    "&= \\text{double}(6) \\\\\n",
    "&= 6 \\times 2 \\\\\n",
    "&= 12\n",
    "\\end{flalign*}$$\n",
    "\n",
    "Scala provides two composition methods in the standard library:\n",
    "\n",
    "1: `compose` - Right-to-Left (Mathematical Order)"
   ]
  },
  {
   "cell_type": "code",
   "execution_count": 51,
   "id": "80411421-ed70-41bf-9c95-0d540269498b",
   "metadata": {},
   "outputs": [
    {
     "data": {
      "text/plain": [
       "\u001b[36mf\u001b[39m: \u001b[32mInt\u001b[39m => \u001b[32mInt\u001b[39m = scala.Function1$$Lambda$2796/0x000000012c8a1118@28b3e02d"
      ]
     },
     "execution_count": 51,
     "metadata": {},
     "output_type": "execute_result"
    }
   ],
   "source": [
    "val f = addOne compose double\n",
    "// Equivalent to: (x: Int) => addOne(double(x))"
   ]
  },
  {
   "cell_type": "markdown",
   "id": "482c4436-c572-4742-b7fc-5c5c56fe43eb",
   "metadata": {
    "editable": true,
    "slideshow": {
     "slide_type": ""
    },
    "tags": []
   },
   "source": [
    "mathamatically\n",
    "\n",
    "$$f = \\text{addOne} \\circ \\text{double}$$\n",
    "$$f(x) = \\text{addOne}(\\text{double}(x))$$\n",
    "\n",
    "**Execution:**\n",
    "\n",
    "```scala\n",
    "f(5)  // addOne(double(5))\n",
    "      // = addOne(5 * 2)\n",
    "      // = addOne(10)\n",
    "      // = 10 + 1\n",
    "      // = 11\n",
    "```\n",
    "\n",
    "**Flow diagram:**\n",
    "\n",
    "```\n",
    "5  →  [double]  →  10  →  [addOne]  →  11\n",
    "      apply first       apply second\n",
    "```\n",
    "\n",
    "2: `andThen` - Left-to-Right (Pipeline Order)\n",
    "   "
   ]
  },
  {
   "cell_type": "code",
   "execution_count": 52,
   "id": "a0e5874a-442c-427e-96fc-3cdffcc6a665",
   "metadata": {},
   "outputs": [
    {
     "data": {
      "text/plain": [
       "\u001b[36mg\u001b[39m: \u001b[32mInt\u001b[39m => \u001b[32mInt\u001b[39m = scala.Function1$$Lambda$766/0x000000012c5360b0@7b57f8cd"
      ]
     },
     "execution_count": 52,
     "metadata": {},
     "output_type": "execute_result"
    }
   ],
   "source": [
    "val g = addOne andThen double\n",
    "// Equivalent to: (x: Int) => double(addOne(x))"
   ]
  },
  {
   "cell_type": "markdown",
   "id": "54596d69-7928-4d7c-8ac0-5b1697d34c62",
   "metadata": {
    "editable": true,
    "slideshow": {
     "slide_type": ""
    },
    "tags": []
   },
   "source": [
    "mathamatically\n",
    "\n",
    "$$g = \\text{double} \\circ \\text{addOne}$$\n",
    "$$g(x) = \\text{double}(\\text{addOne}(x))$$\n",
    "\n",
    "**Execution:**\n",
    "\n",
    "```scala\n",
    "g(5)  // double(addOne(5))\n",
    "      // = double(5 + 1)\n",
    "      // = double(6)\n",
    "      // = 6 * 2\n",
    "      // = 12\n",
    "```\n",
    "\n",
    "**Flow diagram:**\n",
    "\n",
    "```\n",
    "5  →  [addOne]  →  6  →  [double]  →  12\n",
    "      apply first      apply second\n",
    "```\n",
    "\n",
    "### HOF Mathematical Properties\n",
    "\n",
    "| Property | Mathematical Form | Code Example |\n",
    "|----------|------------------|--------------|\n",
    "| Map Composition | $\\text{map}(f \\circ g) = \\text{map}(f) \\circ \\text{map}(g)$ | `xs.map(g).map(f) == xs.map(f compose g)` |\n",
    "| Map Identity | $\\text{map}(\\text{id}) = \\text{id}$ | `xs.map(x => x) == xs` |\n",
    "| Filter Composition | $\\text{filter}(p) \\circ \\text{filter}(q) = \\text{filter}(q) \\circ \\text{filter}(p)$ | `xs.filter(p).filter(q) == xs.filter(q).filter(p)` |\n",
    "| Fold Fusion | $\\text{map}(f) \\circ \\text{fold}(g)(z) = \\text{fold}(g \\circ f)(z)$ | Optimization technique |\n",
    "\n",
    "### For-Comprehensions and HOFs[^3]\n",
    "The *for* comprehension is syntactic sugar for HOF chains"
   ]
  },
  {
   "cell_type": "code",
   "execution_count": 54,
   "id": "5170f75d-0a50-4a36-9a3b-bf66cfb0ad62",
   "metadata": {},
   "outputs": [
    {
     "data": {
      "text/plain": [
       "\u001b[36mres53\u001b[39m: \u001b[32mList\u001b[39m[\u001b[32mInt\u001b[39m] = \u001b[33mList\u001b[39m(\u001b[32m20\u001b[39m, \u001b[32m20\u001b[39m, \u001b[32m40\u001b[39m, \u001b[32m30\u001b[39m, \u001b[32m60\u001b[39m)"
      ]
     },
     "execution_count": 54,
     "metadata": {},
     "output_type": "execute_result"
    }
   ],
   "source": [
    "for {\n",
    "    x <- List(1,2,3)\n",
    "    y <- List(10, 20)\n",
    "    if x * y > 10 // Guard\n",
    "} yield x * y"
   ]
  },
  {
   "cell_type": "markdown",
   "id": "83db4d33-f19a-4b7b-a8c2-c1bc905a63e1",
   "metadata": {},
   "source": [
    "Desugars to:"
   ]
  },
  {
   "cell_type": "code",
   "execution_count": 61,
   "id": "6d34395c-c4fd-4991-9049-4d020fb44364",
   "metadata": {},
   "outputs": [
    {
     "data": {
      "text/plain": [
       "\u001b[36mres60\u001b[39m: \u001b[32mList\u001b[39m[\u001b[32mInt\u001b[39m] = \u001b[33mList\u001b[39m(\u001b[32m20\u001b[39m, \u001b[32m20\u001b[39m, \u001b[32m40\u001b[39m, \u001b[32m30\u001b[39m, \u001b[32m60\u001b[39m)"
      ]
     },
     "execution_count": 61,
     "metadata": {},
     "output_type": "execute_result"
    }
   ],
   "source": [
    "List(1,2,3).flatMap(x => List(10,20).filter( y => x * y > 10).map( y => x * y))"
   ]
  },
  {
   "cell_type": "markdown",
   "id": "e3e32058-7920-4fee-8bc0-1c86065a8829",
   "metadata": {
    "editable": true,
    "slideshow": {
     "slide_type": ""
    },
    "tags": []
   },
   "source": [
    "### Type Signatures of Common HOFs\n",
    "\n",
    "| Function | Type Signature | Description |\n",
    "|----------|---------------|-------------|\n",
    "| `map` | `[A, B](f: A => B): List[A] => List[B]` | Apply function to each element |\n",
    "| `filter` | `[A](p: A => Boolean): List[A] => List[A]` | Keep elements satisfying predicate |\n",
    "| `foldLeft` | `[A, B](z: B)(f: (B, A) => B): List[A] => B` | Left-associative reduction |\n",
    "| `foldRight` | `[A, B](z: B)(f: (A, B) => B): List[A] => B` | Right-associative reduction |\n",
    "| `flatMap` | `[A, B](f: A => List[B]): List[A] => List[B]` | Map then flatten |\n",
    "| `find` | `[A](p: A => Boolean): List[A] => Option[A]` | Find first matching element |\n",
    "| `exists` | `[A](p: A => Boolean): List[A] => Boolean` | Check if any element matches |\n",
    "| `forall` | `[A](p: A => Boolean): List[A] => Boolean` | Check if all elements match |\n"
   ]
  },
  {
   "cell_type": "markdown",
   "id": "6051f0c9-7874-495a-969a-16ef8e2a29b5",
   "metadata": {
    "editable": true,
    "slideshow": {
     "slide_type": ""
    },
    "tags": []
   },
   "source": [
    "[^1]: Functional Programming in Scala, Ch. 1: \"What is functional programming?\" → \"The benefits of FP: a simple example\", p. 3-12\n",
    "\n",
    "[^2]: Bird & Wadler: Introduction to Functional Programming, Ch. 3: \"Lists\" → \"Map and filter\", p. 61-65\n",
    "\n",
    "[^3]: Programming in Scala Fourth Edition, Ch. 23: \"For Expressions Revisited\" → p. 528-545\n",
    "\n",
    "[^4]: Category Theory, Ch. 9: \"Functors and Natural Transformations\" → p. 156-161\n",
    "\n",
    "[^5]: Scala in Depth, Ch. 11: \"Patterns in functional programming\" → \"Currying and applicative style\", p. 266-268\n",
    "\n",
    "[^6]: Programming in Scala Fourth Edition, Ch. 8: \"Functions and Closures\" → \"Closures\", p. 176-179\n",
    "\n",
    "{:gtxt: .message color=\"green\"}\n",
    "{:ytxt: .message color=\"yellow\"}\n",
    "{:rtxt: .message color=\"red\"}"
   ]
  }
 ],
 "metadata": {
  "kernelspec": {
   "display_name": "Scala",
   "language": "scala",
   "name": "scala"
  },
  "language_info": {
   "codemirror_mode": "text/x-scala",
   "file_extension": ".sc",
   "mimetype": "text/x-scala",
   "name": "scala",
   "nbconvert_exporter": "script",
   "version": "2.13.10"
  }
 },
 "nbformat": 4,
 "nbformat_minor": 5
}
