{
 "cells": [
  {
   "cell_type": "markdown",
   "id": "7186ce24-888e-4b05-b9f3-555d2d8573c1",
   "metadata": {},
   "source": [
    "---\n",
    "layout: post\n",
    "title:  Functional Programming Abstractions in Scala\n",
    "date:   2025-10-31\n",
    "categories: [Scala]\n",
    "mermaid: true\n",
    "maths: true\n",
    "typora-root-url: /Users/ojitha/GitHub/ojitha.github.io\n",
    "typora-copy-images-to: ../../blog/assets/images/${filename}\n",
    "---\n",
    "\n",
    "<style>\n",
    "/* Styles for the two-column layout */\n",
    ".image-text-container {\n",
    "    display: flex; /* Enables flexbox */\n",
    "    flex-wrap: wrap; /* Allows columns to stack on small screens */\n",
    "    gap: 20px; /* Space between the image and text */\n",
    "    align-items: center; /* Vertically centers content in columns */\n",
    "    margin-bottom: 20px; /* Space below this section */\n",
    "}\n",
    "\n",
    ".image-column {\n",
    "    flex: 1; /* Allows this column to grow */\n",
    "    min-width: 250px; /* Minimum width for the image column before stacking */\n",
    "    max-width: 40%; /* Maximum width for the image column to not take up too much space initially */\n",
    "    box-sizing: border-box; /* Include padding/border in element's total width/height */\n",
    "}\n",
    "\n",
    ".text-column {\n",
    "    flex: 2; /* Allows this column to grow more (e.g., twice as much as image-column) */\n",
    "    min-width: 300px; /* Minimum width for the text column before stacking */\n",
    "    box-sizing: border-box;\n",
    "}\n",
    "\n",
    "</style>\n",
    "\n",
    "<div class=\"image-text-container\">\n",
    "    <div class=\"image-column\">\n",
    "        <img src=\"https://raw.githubusercontent.com/ojitha/blog/master/assets/images/2025-10027-Scala-2-Collections/scala-collections-illustration.svg\" alt=\"Scala Functors\" width=\"150\" height=\"150\">\n",
    "    </div>\n",
    "    <div class=\"text-column\">\n",
    "<p>This guide explores five foundational functional programming abstractions that form the backbone of modern Scala development. Learn about Semigroup and Monoid for combining values through algebraic operations, Functor for transforming wrapped values, Applicative for combining independent contexts, and Monad for sequencing dependent computations. Each abstraction builds upon the previous, enabling you to write polymorphic, composable code that works across diverse data types. Understanding these purely algebraic structures discovered through pattern recognition reveals how to recognise abstractions in your code, reason algebraically about program behaviour, and leverage composition to build complex functionality from simple building blocks efficiently.</p>\n",
    "    </div>\n",
    "</div>\n",
    "\n",
    "<!--more-->\n",
    "\n",
    "------\n",
    "\n",
    "* TOC\n",
    "{:toc}\n",
    "------\n",
    "\n",
    "## Introduction\n",
    "\n",
    "These five abstractions form the foundation of functional programming. They represent purely algebraic structures defined only by their operations and the laws governing them. Understanding these concepts allows you to:\n",
    "\n",
    "- **Recognize patterns** across different problem domains\n",
    "- **Write polymorphic code** that works with many data types\n",
    "- **Reason algebraically** about program behavior\n",
    "- **Compose operations** to build complex functionality from simple pieces\n",
    "\n",
    "> These abstractions are discovered, not invented. They emerge naturally from observing common patterns in our code.[^1]\n",
    "\n",
    "---\n",
    "\n",
    "## Semigroup\n",
    "\n",
    "A **Semigroup** is the simplest algebraic structure: a type with an associative binary operation. It captures the essence of \"combining\" things together where the order of grouping doesn't matter.[^2]\n",
    "\n",
    "### Intuition\n",
    "\n",
    "Think about combining elements in everyday life:\n",
    "\n",
    "- **String concatenation**: `\"Hello\" + \" \" + \"World\"`\n",
    "- **Adding numbers**: `1 + 2 + 3`\n",
    "- **Merging lists**: `List(1,2) ++ List(3,4) ++ List(5,6)`\n",
    "\n",
    "In all these cases, you can group operations in any order:\n",
    "- `(a + b) + c` produces the same result as `a + (b + c)`\n",
    "\n",
    "This property is called **associativity**, and it's what makes a Semigroup useful for parallel computation.[^3]\n",
    "\n",
    "```mermaid\n",
    "---\n",
    "config:\n",
    "  look: neo\n",
    "  theme: default\n",
    "---\n",
    "graph LR\n",
    "    A[Element a] -->|combine| D[Result]\n",
    "    B[Element b] -->|combine| D\n",
    "    C[Element c] -->|combine| D\n",
    "    \n",
    "    style D fill:#4CAF50\n",
    "    style A fill:#2196F3\n",
    "    style B fill:#2196F3\n",
    "    style C fill:#2196F3\n",
    "```\n",
    "\n",
    "**Diagram Explanation**: Elements combine together using the binary operation, and the grouping order doesn't affect the final result.\n",
    "\n",
    "**Formal Definition**: A semigroup consists of:\n",
    "- A set $S$ (in Scala, this is a type `A`)\n",
    "- A binary operation $\\bullet: S \\times S \\to S$ (written as `combine` in Scala)\n",
    "\n",
    "Type Class Definition[^4]:\n"
   ]
  },
  {
   "cell_type": "code",
   "execution_count": 1,
   "id": "a56f9b58-b10f-4f5f-a1f4-d1f8a965da78",
   "metadata": {},
   "outputs": [
    {
     "data": {
      "text/plain": [
       "defined \u001b[32mtrait\u001b[39m \u001b[36mSemigroup\u001b[39m"
      ]
     },
     "execution_count": 1,
     "metadata": {},
     "output_type": "execute_result"
    }
   ],
   "source": [
    "trait Semigroup[A] {\n",
    "    // Associative binary operation\n",
    "    def combine(first:A, second:A): A\n",
    "}"
   ]
  },
  {
   "cell_type": "markdown",
   "id": "dd54e2dd-c21b-421f-88af-3b8286eec771",
   "metadata": {},
   "source": [
    "Example📝[^4] for `Semigroup` for String concatenation:"
   ]
  },
  {
   "cell_type": "code",
   "execution_count": 2,
   "id": "c7c6b157-a20d-4499-894c-0f011f591469",
   "metadata": {},
   "outputs": [
    {
     "data": {
      "text/plain": [
       "\u001b[36mstringSemigroup\u001b[39m: \u001b[32mSemigroup\u001b[39m[\u001b[32mString\u001b[39m] = ammonite.$sess.cmd1$Helper$$anon$1@4e220690"
      ]
     },
     "execution_count": 2,
     "metadata": {},
     "output_type": "execute_result"
    }
   ],
   "source": [
    "// The implicit val declaration makes this Semigroup instance automatically available \n",
    "// whenever a Semigroup[String] is needed, without explicitly importing/passing it\n",
    "// It allows String concatenation to work with Semigroup operations automatically\n",
    "// The compiler will use this implicit value to resolve Semigroup[String] requirements\n",
    "\n",
    "implicit val stringSemigroup: Semigroup[String] = new Semigroup[String] {\n",
    "    def combine(first: String, second:String): String = first + second\n",
    "}"
   ]
  },
  {
   "cell_type": "code",
   "execution_count": 3,
   "id": "3a063e1e-bd55-4a6c-997b-2d573f4316ad",
   "metadata": {},
   "outputs": [
    {
     "data": {
      "text/plain": [
       "\u001b[36mresult\u001b[39m: \u001b[32mString\u001b[39m = \u001b[32m\"Hello world!\"\u001b[39m"
      ]
     },
     "execution_count": 3,
     "metadata": {},
     "output_type": "execute_result"
    }
   ],
   "source": [
    "// Example using stringSemigroup to combine two strings\n",
    "val result = stringSemigroup.combine(\"Hello\", \" world!\")"
   ]
  },
  {
   "cell_type": "markdown",
   "id": "b7a797b7-3c0a-4f76-9b0e-5fb48822b608",
   "metadata": {},
   "source": [
    "Example📝[^4] for `Semigroup` for integer addition:"
   ]
  },
  {
   "cell_type": "code",
   "execution_count": 4,
   "id": "ec80ee54-cc8e-4825-bec8-6a69371578c0",
   "metadata": {},
   "outputs": [
    {
     "data": {
      "text/plain": [
       "\u001b[36minitSemigroup\u001b[39m: \u001b[32mSemigroup\u001b[39m[\u001b[32mInt\u001b[39m] = ammonite.$sess.cmd3$Helper$$anon$1@4f657d52"
      ]
     },
     "execution_count": 4,
     "metadata": {},
     "output_type": "execute_result"
    }
   ],
   "source": [
    "implicit val initSemigroup: Semigroup[Int] = new Semigroup[Int] {\n",
    "    def combine(first: Int, second: Int): Int = first + second\n",
    "}"
   ]
  },
  {
   "cell_type": "code",
   "execution_count": 5,
   "id": "a847ec1a-460f-4733-a089-4233ba52967e",
   "metadata": {},
   "outputs": [
    {
     "data": {
      "text/plain": [
       "\u001b[36mres4\u001b[39m: \u001b[32mInt\u001b[39m = \u001b[32m3\u001b[39m"
      ]
     },
     "execution_count": 5,
     "metadata": {},
     "output_type": "execute_result"
    }
   ],
   "source": [
    "initSemigroup.combine(1,2)"
   ]
  },
  {
   "cell_type": "markdown",
   "id": "8b7ff120-31f6-462a-900b-8d687753632b",
   "metadata": {},
   "source": [
    "### Associativity Law \n",
    "\n",
    "For all elements $a, b, c \\in S$:\n",
    "\n",
    "$$\n",
    "(a \\bullet b) \\bullet c = a \\bullet (b \\bullet c)\n",
    "$$\n",
    "\n",
    "**Translation**: $\\bullet$ means \"combine\". The equation says that combining $a$ and $b$ first, then combining the result with $c$, gives the same answer as combining $a$ with the result of combining $b$ and $c$.\n"
   ]
  },
  {
   "cell_type": "code",
   "execution_count": 6,
   "id": "91d88ebb-6136-4fea-a248-9050d4aad9dc",
   "metadata": {},
   "outputs": [
    {
     "data": {
      "text/plain": [
       "defined \u001b[32mfunction\u001b[39m \u001b[36mverifyAssociativity\u001b[39m"
      ]
     },
     "execution_count": 6,
     "metadata": {},
     "output_type": "execute_result"
    }
   ],
   "source": [
    "def verifyAssociativity[A] (a: A, b: A, c: A)(implicit sg: Semigroup[A]): Boolean = {\n",
    "    val leftGrouped = sg.combine(sg.combine(a ,b) ,c)\n",
    "    val rightGrouped = sg.combine(a, sg.combine(b ,c))\n",
    "    leftGrouped == rightGrouped                              \n",
    "}\n"
   ]
  },
  {
   "cell_type": "markdown",
   "id": "5c77eb47",
   "metadata": {},
   "source": [
    "The implicit parameter `sg: Semigroup[A]` means that this method requires a Semigroup instance for type `A`. The `implicit` keyword allows the compiler to automatically find and pass a `Semigroup[A]` value that is in scope when this method is called `Semigroup` is a type class that provides a combine operation for values of type `A`."
   ]
  },
  {
   "cell_type": "code",
   "execution_count": 7,
   "id": "e4374c12-a945-49ae-8f97-4f0744828c3c",
   "metadata": {},
   "outputs": [
    {
     "data": {
      "text/plain": [
       "\u001b[36mres6\u001b[39m: \u001b[32mBoolean\u001b[39m = \u001b[32mtrue\u001b[39m"
      ]
     },
     "execution_count": 7,
     "metadata": {},
     "output_type": "execute_result"
    }
   ],
   "source": [
    "verifyAssociativity(1,2,3)"
   ]
  },
  {
   "cell_type": "markdown",
   "id": "dfaf0155-d9f4-4c5d-83f1-9592d666ce02",
   "metadata": {},
   "source": [
    "> - Not all operations are associative. Integer subtraction is NOT[^5] a semigroup, for example.\n",
    "> - Semigroups don't require commutativity. String concatenation is associative but NOT commutative.\n",
    "{:.yellow}\n",
    "\n",
    "## Monoid\n",
    "\n",
    "The name monoid comes from mathematics. In category theory, it means a category with one object.\n",
    "\n",
    "### Overview\n",
    "\n",
    "A **Monoid** extends Semigroup by adding an identity element (also called \"unit\" or \"zero\"). It's like having a \"neutral\" value that doesn't change things when combined.[^6]\n",
    "\n",
    "### Intuition\n",
    "\n",
    "Think of identity elements in everyday operations:\n",
    "\n",
    "- **Addition**: 0 is the identity → `5 + 0 = 5`\n",
    "- **Multiplication**: 1 is the identity → `5 * 1 = 5`\n",
    "- **String concatenation**: `\"\"` (empty string) is the identity → `\"Hello\" + \"\" = \"Hello\"`\n",
    "- **List concatenation**: `List()` is the identity → `List(1,2) ++ List() = List(1,2)`\n",
    "\n",
    "The identity element is like a \"do nothing\" value that acts as a starting point for combining elements.[^7]\n",
    "\n",
    "```mermaid\n",
    "---\n",
    "config:\n",
    "  look: neo\n",
    "  theme: default\n",
    "---\n",
    "graph TD\n",
    "    A[Monoid] --> B[Semigroup]\n",
    "    A --> C[Identity Element]\n",
    "    B --> D[Associative Combine]\n",
    "    C --> E[Left Identity]\n",
    "    C --> F[Right Identity]\n",
    "    \n",
    "    style A fill:#FF9800\n",
    "    style B fill:#4CAF50\n",
    "    style C fill:#2196F3\n",
    "    style D fill:#9C27B0\n",
    "    style E fill:#00BCD4\n",
    "    style F fill:#00BCD4\n",
    "```\n",
    "\n",
    "A Monoid consists of a Semigroup (associative combine operation) plus an identity element that satisfies left and right identity laws.\n",
    "\n",
    "**Formal Definition**: A monoid $(M, \\bullet, e)$ consists of:\n",
    "- A set $M$ (type `A` in Scala)\n",
    "- A binary operation $\\bullet: M \\times M \\to M$ (the `combine` from Semigroup)\n",
    "- An identity element $e \\in M$ (called `empty` in Scala)\n",
    "\n",
    "**Monoid Laws**:\n",
    "\n",
    "**1. Associativity** (inherited from Semigroup):\n",
    "$$\n",
    "(a \\bullet b) \\bullet c = a \\bullet (b \\bullet c)\n",
    "$$\n",
    "\n",
    "**2. Left Identity**:\n",
    "$$\n",
    "e \\bullet a = a\n",
    "$$\n",
    "\n",
    "**Translation**: Combining the identity element $e$ with any element $a$ (from the left) returns $a$ unchanged.\n",
    "\n",
    "**3. Right Identity**:\n",
    "$$\n",
    "a \\bullet e = a\n",
    "$$\n",
    "\n",
    "> Combining any element $a$ with the identity element $e$ (from the right) returns $a$ unchanged.\n"
   ]
  },
  {
   "cell_type": "markdown",
   "id": "de125559-9cd7-498e-ad5e-dd7b238e0b01",
   "metadata": {},
   "source": [
    "Monoid extends Semigroup and adds an identity element"
   ]
  },
  {
   "cell_type": "code",
   "execution_count": 1,
   "id": "ba0028b6-e3aa-424c-8688-e5bcdc26b1c5",
   "metadata": {},
   "outputs": [
    {
     "data": {
      "text/plain": [
       "defined \u001b[32mtrait\u001b[39m \u001b[36mSemigroup\u001b[39m\n",
       "defined \u001b[32mtrait\u001b[39m \u001b[36mMonoid\u001b[39m"
      ]
     },
     "execution_count": 1,
     "metadata": {},
     "output_type": "execute_result"
    }
   ],
   "source": [
    "trait Semigroup[A] {\n",
    "  def combine(first: A, second: A): A\n",
    "}\n",
    "\n",
    "trait Monoid[A] extends Semigroup[A] {\n",
    "    def empty: A // The identity element that leaves other elements unchanged\n",
    "}"
   ]
  },
  {
   "cell_type": "markdown",
   "id": "3c1aa974-2500-4218-8d4f-0092aaa5de2c",
   "metadata": {},
   "source": [
    "Example 📝[^8] integer addition Monoid:"
   ]
  },
  {
   "cell_type": "code",
   "execution_count": 2,
   "id": "112b868c-8729-4811-bcbb-1ca843e1ca70",
   "metadata": {},
   "outputs": [
    {
     "data": {
      "text/plain": [
       "\u001b[36mintAddMonoid\u001b[39m: \u001b[32mMonoid\u001b[39m[\u001b[32mInt\u001b[39m] = ammonite.$sess.cmd1$Helper$$anon$1@50c48694"
      ]
     },
     "execution_count": 2,
     "metadata": {},
     "output_type": "execute_result"
    }
   ],
   "source": [
    "implicit val intAddMonoid: Monoid[Int] = new Monoid[Int] {\n",
    "    def combine(first: Int, second: Int): Int = (first + second)\n",
    "    def empty: Int = 0\n",
    "}"
   ]
  },
  {
   "cell_type": "markdown",
   "id": "d4f06363-3863-4afd-a2e0-685421e6e173",
   "metadata": {},
   "source": [
    "some example Monoid additions:"
   ]
  },
  {
   "cell_type": "code",
   "execution_count": 10,
   "id": "04567ce1-0a56-46c4-8c00-92f203712393",
   "metadata": {},
   "outputs": [
    {
     "data": {
      "text/plain": [
       "\u001b[36mres9_0\u001b[39m: \u001b[32mInt\u001b[39m = \u001b[32m1\u001b[39m\n",
       "\u001b[36mres9_1\u001b[39m: \u001b[32mInt\u001b[39m = \u001b[32m1\u001b[39m\n",
       "\u001b[36mres9_2\u001b[39m: \u001b[32mInt\u001b[39m = \u001b[32m3\u001b[39m"
      ]
     },
     "execution_count": 10,
     "metadata": {},
     "output_type": "execute_result"
    }
   ],
   "source": [
    "intAddMonoid.combine(1,0)\n",
    "intAddMonoid.combine(0,1)\n",
    "intAddMonoid.combine(1,2)"
   ]
  },
  {
   "cell_type": "markdown",
   "id": "b00d41ad-ccaf-4464-9633-d74298c7f0fe",
   "metadata": {},
   "source": [
    "String Monoid example"
   ]
  },
  {
   "cell_type": "code",
   "execution_count": 3,
   "id": "2f25c2ba-c099-4c25-85f0-0fd1bd1fabf9",
   "metadata": {},
   "outputs": [
    {
     "data": {
      "text/plain": [
       "\u001b[36mstrContactMonoid\u001b[39m: \u001b[32mMonoid\u001b[39m[\u001b[32mString\u001b[39m] = ammonite.$sess.cmd2$Helper$$anon$1@12fda1b6"
      ]
     },
     "execution_count": 3,
     "metadata": {},
     "output_type": "execute_result"
    }
   ],
   "source": [
    "implicit val strContactMonoid: Monoid[String] = new Monoid[String] {\n",
    "    def combine(first: String, second: String) = first + second \n",
    "    def empty: String = \"\"\n",
    "}"
   ]
  },
  {
   "cell_type": "markdown",
   "id": "d29f6de0-f985-4ba2-ad05-b9235b7d0e01",
   "metadata": {},
   "source": [
    "String examples are:"
   ]
  },
  {
   "cell_type": "code",
   "execution_count": 12,
   "id": "728fd680-beba-48dd-958e-c0321bf2549a",
   "metadata": {},
   "outputs": [
    {
     "data": {
      "text/plain": [
       "\u001b[36mres11_0\u001b[39m: \u001b[32mString\u001b[39m = \u001b[32m\"Hello World\"\u001b[39m\n",
       "\u001b[36mres11_1\u001b[39m: \u001b[32mString\u001b[39m = \u001b[32m\"Hello\"\u001b[39m\n",
       "\u001b[36mres11_2\u001b[39m: \u001b[32mString\u001b[39m = \u001b[32m\"Hello\"\u001b[39m"
      ]
     },
     "execution_count": 12,
     "metadata": {},
     "output_type": "execute_result"
    }
   ],
   "source": [
    "strContactMonoid.combine(\"Hello\", \" World\")\n",
    "strContactMonoid.combine(strContactMonoid.empty, \"Hello\")\n",
    "strContactMonoid.combine(\"Hello\", strContactMonoid.empty)"
   ]
  },
  {
   "cell_type": "markdown",
   "id": "1ca3e535-5cc6-4b9a-b8f4-0f8e9519f44c",
   "metadata": {},
   "source": [
    "List concatenation monoid:"
   ]
  },
  {
   "cell_type": "code",
   "execution_count": 13,
   "id": "3c1c5a1f-a1ba-477d-acb9-527b6eb4b9f0",
   "metadata": {},
   "outputs": [
    {
     "data": {
      "text/plain": [
       "defined \u001b[32mfunction\u001b[39m \u001b[36mlistMonoid\u001b[39m"
      ]
     },
     "execution_count": 13,
     "metadata": {},
     "output_type": "execute_result"
    }
   ],
   "source": [
    "implicit def listMonoid[A]: Monoid[List[A]] = new Monoid[List[A]] {\n",
    "    def combine(first: List[A], second: List[A]) : List[A] = first ++ second\n",
    "    def empty: List[A] = List.empty[A]\n",
    "}"
   ]
  },
  {
   "cell_type": "markdown",
   "id": "223170a6-9bdc-479e-a630-72cf3f813912",
   "metadata": {},
   "source": [
    "example:"
   ]
  },
  {
   "cell_type": "code",
   "execution_count": 14,
   "id": "f7b95aa9-5290-4aee-8a66-a9cc954d68c2",
   "metadata": {},
   "outputs": [
    {
     "data": {
      "text/plain": [
       "\u001b[36mres13\u001b[39m: \u001b[32mList\u001b[39m[\u001b[32mInt\u001b[39m] = \u001b[33mList\u001b[39m(\u001b[32m1\u001b[39m, \u001b[32m2\u001b[39m, \u001b[32m3\u001b[39m, \u001b[32m4\u001b[39m)"
      ]
     },
     "execution_count": 14,
     "metadata": {},
     "output_type": "execute_result"
    }
   ],
   "source": [
    "listMonoid.combine(List(1,2), List(3,4))"
   ]
  },
  {
   "cell_type": "markdown",
   "id": "baf30d04-8148-4902-a22f-a0e1f119c9fc",
   "metadata": {},
   "source": [
    "Verify monoid laws:"
   ]
  },
  {
   "cell_type": "code",
   "execution_count": 15,
   "id": "e8c30c87-e512-475d-9c5d-18120040dd32",
   "metadata": {},
   "outputs": [
    {
     "data": {
      "text/plain": [
       "\u001b[36mres14_0\u001b[39m: \u001b[32mBoolean\u001b[39m = \u001b[32mtrue\u001b[39m\n",
       "\u001b[36mres14_1\u001b[39m: \u001b[32mBoolean\u001b[39m = \u001b[32mtrue\u001b[39m"
      ]
     },
     "execution_count": 15,
     "metadata": {},
     "output_type": "execute_result"
    }
   ],
   "source": [
    "listMonoid.combine(List(1,2), List.empty[Int]) == List(1,2) // Test left identity\n",
    "listMonoid.combine(List.empty[Int] ,List(1,2)) == List(1,2) // Test right identity"
   ]
  },
  {
   "cell_type": "markdown",
   "id": "6b5dc811-e008-4ed0-a286-f426e932650b",
   "metadata": {},
   "source": [
    "Test associativity:\n",
    "$$\n",
    "(a \\bullet b) \\bullet c = a \\bullet (b \\bullet c)\n",
    "$$"
   ]
  },
  {
   "cell_type": "code",
   "execution_count": 16,
   "id": "df9264cf-36e1-4282-97e9-aeba059a25c8",
   "metadata": {},
   "outputs": [
    {
     "data": {
      "text/plain": [
       "\u001b[36ma\u001b[39m: \u001b[32mList\u001b[39m[\u001b[32mInt\u001b[39m] = \u001b[33mList\u001b[39m(\u001b[32m1\u001b[39m, \u001b[32m2\u001b[39m)\n",
       "\u001b[36mres15_1\u001b[39m: \u001b[32mBoolean\u001b[39m = \u001b[32mtrue\u001b[39m"
      ]
     },
     "execution_count": 16,
     "metadata": {},
     "output_type": "execute_result"
    }
   ],
   "source": [
    "val a:List[Int] = List[Int](1,2)\n",
    "listMonoid.combine(listMonoid.combine(a, List.empty[Int]), List.empty[Int]) == \n",
    "     listMonoid.combine(List.empty[Int] ,listMonoid.combine(a, List.empty[Int]))"
   ]
  },
  {
   "cell_type": "markdown",
   "id": "9b1372da-b91d-4229-ad19-52244a0187fb",
   "metadata": {},
   "source": [
    "### Use of Monoid\n",
    "Monoids are perfect for folding/reducing collections because the identity element provides a natural starting point.\n",
    "\n",
    "Here the fold left/right:\n",
    "\n",
    "```scala\n",
    "def foldRight[B](z: B)(f: (A, B) => B): B\n",
    "def foldLeft[B](z: B)(f: (B, A) => B): B\n",
    "```\n",
    "\n",
    "According to associativity and identity laws, the output of the fold left or right should be the same:"
   ]
  },
  {
   "cell_type": "code",
   "execution_count": 4,
   "id": "79a84052-259a-4972-9f94-a64bf2d48fd8",
   "metadata": {},
   "outputs": [
    {
     "data": {
      "text/plain": [
       "defined \u001b[32mfunction\u001b[39m \u001b[36mfoldLeftWithMonoid\u001b[39m\n",
       "\u001b[36mres3_1\u001b[39m: \u001b[32mInt\u001b[39m = \u001b[32m15\u001b[39m\n",
       "\u001b[36mres3_2\u001b[39m: \u001b[32mString\u001b[39m = \u001b[32m\"Hello World\"\u001b[39m\n",
       "\u001b[36mres3_3\u001b[39m: \u001b[32mInt\u001b[39m = \u001b[32m0\u001b[39m"
      ]
     },
     "execution_count": 4,
     "metadata": {},
     "output_type": "execute_result"
    }
   ],
   "source": [
    "def foldLeftWithMonoid[A](elements: List[A])(implicit monoid: Monoid[A]): A = {\n",
    "  elements.foldLeft(monoid.empty) { (accumulator, currentElement) =>\n",
    "    monoid.combine(accumulator, currentElement)\n",
    "  }\n",
    "}\n",
    "\n",
    "// Sum a list of integers\n",
    "foldLeftWithMonoid(List(1, 2, 3, 4, 5))  // Returns: 15\n",
    "\n",
    "// Concatenate strings\n",
    "foldLeftWithMonoid(List(\"Hello\", \" \", \"World\"))  // Returns: \"Hello World\"\n",
    "\n",
    "// Works with empty lists too!\n",
    "foldLeftWithMonoid(List.empty[Int])  // Returns: 0 (the identity element)"
   ]
  },
  {
   "cell_type": "markdown",
   "id": "3c0f30f7-4637-4ec4-8887-a12ab9981665",
   "metadata": {},
   "source": [
    "The output of the above is the same as the following:"
   ]
  },
  {
   "cell_type": "code",
   "execution_count": 18,
   "id": "94f11401-6a49-49d8-81db-1dc1257ed54e",
   "metadata": {},
   "outputs": [
    {
     "data": {
      "text/plain": [
       "defined \u001b[32mfunction\u001b[39m \u001b[36mfoldRightWithMonoid\u001b[39m\n",
       "\u001b[36mres17_1\u001b[39m: \u001b[32mInt\u001b[39m = \u001b[32m15\u001b[39m\n",
       "\u001b[36mres17_2\u001b[39m: \u001b[32mString\u001b[39m = \u001b[32m\"Hello World\"\u001b[39m\n",
       "\u001b[36mres17_3\u001b[39m: \u001b[32mInt\u001b[39m = \u001b[32m0\u001b[39m"
      ]
     },
     "execution_count": 18,
     "metadata": {},
     "output_type": "execute_result"
    }
   ],
   "source": [
    "def foldRightWithMonoid[A](elements: List[A])(implicit monoid: Monoid[A]): A = {\n",
    "  elements.foldRight(monoid.empty) { (accumulator, currentElement) =>\n",
    "    monoid.combine(accumulator, currentElement)\n",
    "  }\n",
    "}\n",
    "\n",
    "// Sum a list of integers\n",
    "foldRightWithMonoid(List(1, 2, 3, 4, 5))  // Returns: 15\n",
    "\n",
    "// Concatenate strings\n",
    "foldRightWithMonoid(List(\"Hello\", \" \", \"World\"))  // Returns: \"Hello World\"\n",
    "\n",
    "// Works with empty lists too!\n",
    "foldRightWithMonoid(List.empty[Int])  // Returns: 0 (the identity element)"
   ]
  },
  {
   "cell_type": "markdown",
   "id": "007f915b-943c-491b-be36-5453144c3c1c",
   "metadata": {},
   "source": [
    "#### The Implicit Parameter\n",
    "\n",
    "Here's the key part. In `foldLeftWithMonoid`, the parameter `implicit monoid: Monoid[A]` means:\n",
    "\n",
    "\"This function accepts a `Monoid[A]`, but I don't want the caller to pass it explicitly. Scala, look around in scope and find an `implicit` value of type `Monoid[A]` for me automatically.\"\n",
    "\n",
    "So when you call `foldLeftWithMonoid(List(1, 2, 3, 4, 5))`, here's what happens:\n",
    "\n",
    "1.  Scala infers the type parameter `A` is `Int` (from the list contents)\n",
    "2.  Scala looks for an `implicit Monoid[Int]` in scope\n",
    "3.  It finds `intAddMonoid` and uses it automatically\n",
    "4.  The function folds left: `0 + 1 + 2 + 3 + 4 + 5 = 15`\n",
    "\n",
    "With `List(\"Hello\", \" \", \"World\")`, Scala finds `strConcatMonoid` (for `Monoid[String]`) and uses that instead.\n",
    "\n",
    "#### Why This Is Elegant\n",
    "\n",
    "Without `implicit`, you'd have to call `foldLeftWithMonoid(List(1, 2, 3))(intAddMonoid)` every time for the Integer list. The `implicit` mechanism lets the same function work with any type that has a `Monoid` instance, and the right instance is automatically selected based on the data type. It's dependency injection built into the language, enabling genuinely polymorphic code while keeping call sites clean.\n"
   ]
  },
  {
   "cell_type": "markdown",
   "id": "a17b0b43-69bd-42ac-8922-4af6f1269cea",
   "metadata": {},
   "source": [
    "### Parallel Computation with Identity\n",
    "Split work across multiple threads. Each thread can start with the identity element. For example 📝[^10]:"
   ]
  },
  {
   "cell_type": "code",
   "execution_count": 5,
   "id": "a2738bce-49b1-4e59-afed-3cb936997adc",
   "metadata": {},
   "outputs": [
    {
     "data": {
      "text/plain": [
       "defined \u001b[32mfunction\u001b[39m \u001b[36mparallelReduce\u001b[39m"
      ]
     },
     "execution_count": 5,
     "metadata": {},
     "output_type": "execute_result"
    }
   ],
   "source": [
    "def parallelReduce[A](elements: List[A])(implicit monoid: Monoid[A]): A = {\n",
    "  if (elements.length <= 1) {\n",
    "    elements.headOption.getOrElse(monoid.empty)\n",
    "  } else {\n",
    "    // balanced fold\n",
    "    val (leftHalf, rightHalf) = elements.splitAt(elements.length / 2)\n",
    "    \n",
    "    // Each half starts from identity and combines\n",
    "    val leftResult = parallelReduce(leftHalf)\n",
    "    val rightResult = parallelReduce(rightHalf)\n",
    "    \n",
    "    monoid.combine(leftResult, rightResult)\n",
    "  }\n",
    "}"
   ]
  },
  {
   "cell_type": "markdown",
   "id": "78e47f3d-9c56-4e52-a7b7-46c048bafb1c",
   "metadata": {},
   "source": [
    "#### Common Pitfalls\n",
    "\n",
    "**❌ No Valid Identity Element**: \n",
    "\n",
    "Some semigroups cannot be monoids. Example: positive integers with multiplication have an identity (1), but non-empty lists don't have an identity element.[^12]\n",
    "\n",
    "**❌ Multiple Possible Identities**: \n",
    "\n",
    "For a given type and operation, there should be only ONE identity element\n",
    "\n",
    "> Integer addition: only 0 is the identity. Integer multiplication: only 1 is the identity. These are DIFFERENT monoids on the same type!\n",
    "\n",
    "## Functor\n",
    "\n",
    "### Overview\n",
    "\n",
    "A **Functor** is a type constructor `F[_]` (like `List`, `Option`, `Future`) that supports a `map` operation. Functors let you apply a function to values inside a \"container\" or \"context\" without manually extracting and wrapping values.[^13] Example:\n",
    "\n",
    "```scala\n",
    "trait Foldable[F[_]] {\n",
    "  def foldRight[A,B](as: F[A])(z: B)(f: (A,B) => B): B\n",
    "  def foldLeft[A,B](as: F[A])(z: B)(f: (B,A) => B): B\n",
    "  def foldMap[A,B](as: F[A])(f: A => B)(mb: Monoid[B]): B\n",
    "  def concatenate[A](as: F[A])(m: Monoid[A]): A =\n",
    "    foldLeft(as)(m.zero)(m.op)\n",
    "}\n",
    "```\n",
    "\n",
    "Here we're abstracting over a type constructor `F`. We write it as `F[_]`, where the underscore indicates that F is not a type but a type constructor that takes one type argument. Just like functions that take other functions as arguments are called higher-order functions, above `Foldable` is a *higher-order type constructor* or a *higher-kinded* type.\n",
    "\n",
    "Functors are well explained in my post [Scala 2 Functors explained]({% link  _posts/2025-10-26-Scala2-Functors.md %}){:target=\"_blank\"}.\n",
    "\n",
    "**Example**:\n",
    "The `distribute` method is automatically provided by composing `map` with the projection functions (`_._1` and `_._2`), demonstrating a useful property derived from the core `map` function.\n",
    "\n",
    "The `Functor` trait is a type class that defines a basic capability: the ability to apply a function inside a generic container type.\n",
    "\n",
    "- `F[_]` (Higher-Kinded Type): This means the `Functor` trait works with any type constructor `F` that takes a single type parameter. Examples include `List`, `Option`, or `Future`.\n",
    "\n",
    "- `map` Method: This is the heart of the Functor. It takes a container of type `F[A]` and a function `f: A => B`. It applies `f` to every element inside the container and returns a new container `F[B]`. This operation lifts the function `f` into the context `F`.\n",
    "\n",
    "- `distribute` Method: This method is derived automatically (a freebie!) from the `map` method.\n",
    "    - It takes a container of tuples, `F[(A, B)` (e.g., a `List` of tuples).\n",
    "    - It uses two `map` calls: one to extract all the first elements (`_._1`) into an `F[A]`, and one to extract all the second elements (`_._2`) into an `F[B]`.\n",
    "    - It effectively splits a container of pairs into a pair of containers: `(F[A], F[B])`."
   ]
  },
  {
   "cell_type": "code",
   "execution_count": 1,
   "id": "e620e612-fc5e-4585-aded-82a61306c430",
   "metadata": {},
   "outputs": [
    {
     "data": {
      "text/plain": [
       "defined \u001b[32mtrait\u001b[39m \u001b[36mFunctor\u001b[39m"
      ]
     },
     "execution_count": 1,
     "metadata": {},
     "output_type": "execute_result"
    }
   ],
   "source": [
    "// Define the Functor trait as provided in the prompt.\n",
    "trait Functor[F[_]] {\n",
    "  def map[A,B](fa: F[A])(f: A => B): F[B]\n",
    "  \n",
    "  // The 'distribute' method is automatically derived from 'map'\n",
    "  def distribute[A,B](fab: F[(A, B)]): (F[A], F[B]) = (map(fab)(_._1), map(fab)(_._2)) // 🤗\n",
    "}"
   ]
  },
  {
   "cell_type": "markdown",
   "id": "ec0f3e3e-caaf-4921-ae01-7e8cf4bec7ee",
   "metadata": {},
   "source": [
    "To make the `Functor` trait useful, we need to create a specific implementation (an \"instance\") for a concrete container type, in this case, `List`.\n"
   ]
  },
  {
   "cell_type": "code",
   "execution_count": 2,
   "id": "5154f6d8-6a42-4aef-9660-a8ca4112982b",
   "metadata": {},
   "outputs": [
    {
     "data": {
      "text/plain": [
       "\u001b[36mlistFunctor\u001b[39m: \u001b[32mFunctor\u001b[39m[\u001b[32mList\u001b[39m] = ammonite.$sess.cmd1$Helper$$anon$1@3db44283"
      ]
     },
     "execution_count": 2,
     "metadata": {},
     "output_type": "execute_result"
    }
   ],
   "source": [
    "implicit val listFunctor: Functor[List] = new Functor[List] {\n",
    "// F is List, so fa is List[A] and the result is List[B]\n",
    "override def map[A, B](fa: List[A])(f: A => B): List[B] = fa.map(f) \n",
    "}"
   ]
  },
  {
   "cell_type": "markdown",
   "id": "38478b8f-62c9-4213-969c-880c714e1464",
   "metadata": {},
   "source": [
    "- `implicit val listFunctor`: The use of `implicit` makes this instance available to the Scala compiler. When the compiler sees a function that requires a `Functor[List]`, it can automatically fetch this value.\n",
    "- Implementation Detail: Since `List` already has a built-in `map` method with the exact required signature, the implementation is trivial: we simply delegate to the existing `List.map(f)`. This shows that any type with a compatible `map` method is a Functor.\n",
    "\n",
    "The following section shows the standard usage of mapping a transformation over the container."
   ]
  },
  {
   "cell_type": "code",
   "execution_count": 3,
   "id": "f43ac3d7-0d6b-48bb-a429-63f8397ea7ec",
   "metadata": {},
   "outputs": [
    {
     "name": "stdout",
     "output_type": "stream",
     "text": [
      "Original List: List(1, 2, 3, 4, 5)\n",
      "Mapping (x => x * 2): List(2, 4, 6, 8, 10)\n"
     ]
    },
    {
     "data": {
      "text/plain": [
       "\u001b[36mF\u001b[39m: \u001b[32mFunctor\u001b[39m[\u001b[32mList\u001b[39m] = ammonite.$sess.cmd1$Helper$$anon$1@3db44283\n",
       "\u001b[36msourceList\u001b[39m: \u001b[32mList\u001b[39m[\u001b[32mInt\u001b[39m] = \u001b[33mList\u001b[39m(\u001b[32m1\u001b[39m, \u001b[32m2\u001b[39m, \u001b[32m3\u001b[39m, \u001b[32m4\u001b[39m, \u001b[32m5\u001b[39m)\n",
       "\u001b[36mtimesTwo\u001b[39m: \u001b[32mInt\u001b[39m => \u001b[32mInt\u001b[39m = ammonite.$sess.cmd2$Helper$$Lambda$2095/0x000000012f7cc208@283b11cc\n",
       "\u001b[36mmappedList\u001b[39m: \u001b[32mList\u001b[39m[\u001b[32mInt\u001b[39m] = \u001b[33mList\u001b[39m(\u001b[32m2\u001b[39m, \u001b[32m4\u001b[39m, \u001b[32m6\u001b[39m, \u001b[32m8\u001b[39m, \u001b[32m10\u001b[39m)"
      ]
     },
     "execution_count": 3,
     "metadata": {},
     "output_type": "execute_result"
    }
   ],
   "source": [
    "// We can access the implicit listFunctor instance via its type\n",
    "val F = listFunctor\n",
    "\n",
    "// ----------------------------------------------------\n",
    "// 2. Demonstration of `map`\n",
    "// ----------------------------------------------------\n",
    "\n",
    "val sourceList = List(1, 2, 3, 4, 5)\n",
    "val timesTwo: Int => Int = x => x * 2\n",
    "\n",
    "// Apply the Functor's map method\n",
    "val mappedList = F.map(sourceList)(timesTwo)\n",
    "\n",
    "println(s\"Original List: $sourceList\")\n",
    "println(s\"Mapping (x => x * 2): $mappedList\")\n",
    "// Expected Output: List(2, 4, 6, 8, 10)"
   ]
  },
  {
   "cell_type": "markdown",
   "id": "b479e62c-d300-445e-9998-4092859a3423",
   "metadata": {},
   "source": [
    "Here, the `listFunctor` (`F`) takes the `sourceList` and the `timesTwo` function, applies the function element-wise, and correctly produces a new list with the doubled values.\n",
    "\n",
    "Let us see how to use the `distribute` function: 🤗"
   ]
  },
  {
   "cell_type": "code",
   "execution_count": 6,
   "id": "7d04f851-9e36-4e3a-921d-8d9996fa934d",
   "metadata": {},
   "outputs": [
    {
     "data": {
      "text/plain": [
       "\u001b[36mpairedData\u001b[39m: \u001b[32mList\u001b[39m[(\u001b[32mString\u001b[39m, \u001b[32mInt\u001b[39m)] = \u001b[33mList\u001b[39m(\n",
       "  (\u001b[32m\"Apple\"\u001b[39m, \u001b[32m10\u001b[39m),\n",
       "  (\u001b[32m\"Banana\"\u001b[39m, \u001b[32m20\u001b[39m),\n",
       "  (\u001b[32m\"Cherry\"\u001b[39m, \u001b[32m30\u001b[39m)\n",
       ")\n",
       "\u001b[36mnames\u001b[39m: \u001b[32mList\u001b[39m[\u001b[32mString\u001b[39m] = \u001b[33mList\u001b[39m(\u001b[32m\"Apple\"\u001b[39m, \u001b[32m\"Banana\"\u001b[39m, \u001b[32m\"Cherry\"\u001b[39m)\n",
       "\u001b[36mcounts\u001b[39m: \u001b[32mList\u001b[39m[\u001b[32mInt\u001b[39m] = \u001b[33mList\u001b[39m(\u001b[32m10\u001b[39m, \u001b[32m20\u001b[39m, \u001b[32m30\u001b[39m)"
      ]
     },
     "execution_count": 6,
     "metadata": {},
     "output_type": "execute_result"
    }
   ],
   "source": [
    "// ----------------------------------------------------\n",
    "// 3. Demonstration of `distribute`\n",
    "// ----------------------------------------------------\n",
    "\n",
    "// Create a list of tuples (F[(A, B)])\n",
    "val pairedData: List[(String, Int)] = List(\n",
    "  (\"Apple\", 10),\n",
    "  (\"Banana\", 20),\n",
    "  (\"Cherry\", 30)\n",
    ")\n",
    "\n",
    "// Apply the Functor's distribute method.\n",
    "// It takes the List[(A, B)] and returns (List[A], List[B])\n",
    "val (names, counts) = F.distribute(pairedData)\n"
   ]
  },
  {
   "cell_type": "markdown",
   "id": "3bf238e6-c6a2-41b2-8752-0295c18ae883",
   "metadata": {},
   "source": [
    "As shown in the above:\n",
    "\n",
    "Input: `pairedData` is a `List[(String, Int)]`, which corresponds to `F[(A, B)]` where `F` is `List`, `A` is `String`, and `B` is `Int`.\n",
    "\n",
    "Mechanism: Internally, distribute uses map twice:\n",
    "\n",
    "1. `map(pairedData)(_._1)`: Creates the `List[String] (F[A])`.\n",
    "2. `map(pairedData)(_._2)`: Creates the `List[Int] (F[B])`.\n",
    "\n",
    "- Output: The result is a tuple of two lists: `(List[String], List[Int])`, which corresponds to `(F[A], F[B])`. This is often useful when you receive combined data and need to separate it into parallel columns or streams."
   ]
  },
  {
   "cell_type": "markdown",
   "id": "2d966284-8e4d-4cdf-9015-506acc16f618",
   "metadata": {},
   "source": [
    "**Verifying Functor Laws**: For example📝[^15]\n",
    "\n",
    "**1. Identity Law**: Mapping with the identity function returns the structure unchanged.\n",
    "$$\n",
    "\\text{map}(x)(\\text{id}) = x\n",
    "$$\n",
    "\n",
    "where $\\text{id}(a) = a$ for all $a$.\n",
    "\n",
    "**Translation**: `someList.map(x => x) == someList`\n",
    "\n",
    "**2. Composition Law**: Mapping with two composed functions is the same as mapping twice.\n",
    "\n",
    "$$\n",
    "\\text{map}(x)(g \\circ f) = \\text{map}(\\text{map}(x)(f))(g)\n",
    "$$\n",
    "\n",
    "where $(g \\circ f)(x) = g(f(x))$ means \"apply $f$ first, then apply $g$\"."
   ]
  },
  {
   "cell_type": "code",
   "execution_count": 8,
   "id": "019fe91b-8c6e-4a35-9a18-692222a4a68a",
   "metadata": {},
   "outputs": [
    {
     "data": {
      "text/plain": [
       "defined \u001b[32mfunction\u001b[39m \u001b[36mverifyFunctorIdentityLaw\u001b[39m\n",
       "defined \u001b[32mfunction\u001b[39m \u001b[36mverifyFunctorCompositionLaw\u001b[39m"
      ]
     },
     "execution_count": 8,
     "metadata": {},
     "output_type": "execute_result"
    }
   ],
   "source": [
    "def verifyFunctorIdentityLaw[F[_], A](fa: F[A])(implicit functor: Functor[F]): Boolean = {\n",
    "  // Identity function\n",
    "  def identity[X](x: X): X = x\n",
    "  \n",
    "  // map with identity should equal the original\n",
    "  functor.map(fa)(identity) == fa\n",
    "}\n",
    "\n",
    "def verifyFunctorCompositionLaw[F[_], A, B, C](\n",
    "  fa: F[A]\n",
    ")(\n",
    "  f: A => B, \n",
    "  g: B => C\n",
    ")(implicit functor: Functor[F]): Boolean = {\n",
    "  \n",
    "  // Compose functions\n",
    "  def composed(a: A): C = g(f(a))\n",
    "  \n",
    "  // map(map(fa)(f))(g) should equal map(fa)(g ∘ f)\n",
    "  val leftSide = functor.map(functor.map(fa)(f))(g)\n",
    "  val rightSide = functor.map(fa)(composed)\n",
    "  \n",
    "  leftSide == rightSide\n",
    "}"
   ]
  },
  {
   "cell_type": "markdown",
   "id": "5f56b21c-e543-406d-a2d8-28623ed4378d",
   "metadata": {},
   "source": [
    "**Example**:Option Functor:"
   ]
  },
  {
   "cell_type": "code",
   "execution_count": 1,
   "id": "9f886222-53c2-4b7a-b638-aba085056640",
   "metadata": {},
   "outputs": [
    {
     "data": {
      "text/plain": [
       "defined \u001b[32mtrait\u001b[39m \u001b[36mFunctor\u001b[39m\n",
       "\u001b[36moptFunctor\u001b[39m: \u001b[32mFunctor\u001b[39m[\u001b[32mOption\u001b[39m] = ammonite.$sess.cmd0$Helper$$anon$1@21586c94"
      ]
     },
     "execution_count": 1,
     "metadata": {},
     "output_type": "execute_result"
    }
   ],
   "source": [
    "trait Functor[F[_]] {\n",
    "  def map[A,B](fa: F[A])(f: A => B): F[B]\n",
    "}\n",
    "\n",
    "val optFunctor: Functor[Option] = new Functor[Option] { //anonymous cls\n",
    "    def map[A, B](a: Option[A])(f: A => B): Option[B] = a match {\n",
    "        case None => None\n",
    "        case Some(v) => Some(f(v))\n",
    "    }\n",
    "}"
   ]
  },
  {
   "cell_type": "markdown",
   "id": "3b0149f7-6579-458b-a49d-0bdd4396fe9d",
   "metadata": {},
   "source": [
    "Test the above:"
   ]
  },
  {
   "cell_type": "code",
   "execution_count": 2,
   "id": "a0d0dfd1-39c0-4fad-a877-14caeb46d8a3",
   "metadata": {},
   "outputs": [
    {
     "data": {
      "text/plain": [
       "\u001b[36mres1\u001b[39m: \u001b[32mOption\u001b[39m[\u001b[32mInt\u001b[39m] = \u001b[33mSome\u001b[39m(value = \u001b[32m6\u001b[39m)"
      ]
     },
     "execution_count": 2,
     "metadata": {},
     "output_type": "execute_result"
    }
   ],
   "source": [
    "optFunctor.map(Some(3))(n => n *2)"
   ]
  },
  {
   "cell_type": "markdown",
   "id": "cc61d685-1c95-4e63-9620-c9b090e9e9dd",
   "metadata": {},
   "source": [
    "**Example**: Function Functor:\n",
    "\n",
    "Functions can be functors too! This is one of the most mind-bending examples:"
   ]
  },
  {
   "cell_type": "code",
   "execution_count": 5,
   "id": "3715a171-ff14-45de-99eb-0ce7800bf121",
   "metadata": {},
   "outputs": [
    {
     "data": {
      "text/plain": [
       "defined \u001b[32mtrait\u001b[39m \u001b[36mFunctor\u001b[39m\n",
       "defined \u001b[32mfunction\u001b[39m \u001b[36mFunFunctor\u001b[39m"
      ]
     },
     "execution_count": 5,
     "metadata": {},
     "output_type": "execute_result"
    }
   ],
   "source": [
    "trait Functor[F[_]] {\n",
    "  def map[A, B](fa: F[A])(f: A => B): F[B]\n",
    "}\n",
    "\n",
    "// FunFunctor[I] creates a Functor instance for function types `I => _`\n",
    "def FunFunctor[I]: Functor[({type L[X] = I => X})#L] = new Functor[({type L[X] = I => X})#L] { // ✔️\n",
    "    //map takes a function `g: I => A` and composes it with `f: A => B`\n",
    "    def map[A, B](g: I => A)(f: A => B): I => B = {\n",
    "      (input: I) => f(g(input))\n",
    "    }\n",
    "  }\n"
   ]
  },
  {
   "cell_type": "markdown",
   "id": "c481b75b-9949-4893-a22b-390422f70338",
   "metadata": {},
   "source": [
    "✔️ To *function type parameterised by the return type*, in Scala 2, `Functor[({type L[X] = I => X})#L]` can be written as `Functor[I => *]` in Scala 3.\n",
    "\n",
    "Test it:"
   ]
  },
  {
   "cell_type": "code",
   "execution_count": 8,
   "id": "e8d1e6ae-e8e5-467b-b67a-aa3d1ea0ceba",
   "metadata": {},
   "outputs": [
    {
     "data": {
      "text/plain": [
       "\u001b[36maddOne\u001b[39m: \u001b[32mInt\u001b[39m => \u001b[32mInt\u001b[39m = ammonite.$sess.cmd7$Helper$$Lambda$2490/0x000000012883ca08@2acc74a3\n",
       "\u001b[36mintToString\u001b[39m: \u001b[32mInt\u001b[39m => \u001b[32mString\u001b[39m = ammonite.$sess.cmd7$Helper$$Lambda$2491/0x000000012883c400@38a26a37\n",
       "\u001b[36mfunctor\u001b[39m: \u001b[32mFunctor\u001b[39m[[\u001b[32mX\u001b[39m]\u001b[32mInt\u001b[39m => \u001b[32mX\u001b[39m] = ammonite.$sess.cmd4$Helper$$anon$1@2becf695\n",
       "\u001b[36mcomposed\u001b[39m: \u001b[32mInt\u001b[39m => \u001b[32mString\u001b[39m = ammonite.$sess.cmd4$Helper$$anon$1$$Lambda$2479/0x000000012883e220@4d95772\n",
       "\u001b[36mres7_4\u001b[39m: \u001b[32mString\u001b[39m = \u001b[32m\"6\"\u001b[39m"
      ]
     },
     "execution_count": 8,
     "metadata": {},
     "output_type": "execute_result"
    }
   ],
   "source": [
    "// Test it\n",
    "val addOne: Int => Int = _ + 1\n",
    "val intToString: Int => String = _.toString\n",
    "\n",
    "val functor = FunFunctor[Int]\n",
    "val composed = functor.map(addOne)(intToString)\n",
    "composed(5)"
   ]
  },
  {
   "cell_type": "code",
   "execution_count": null,
   "id": "d8cce9fd-8365-42e8-ba66-048fe5a2e627",
   "metadata": {},
   "outputs": [],
   "source": [
    "Same as above"
   ]
  },
  {
   "cell_type": "code",
   "execution_count": 26,
   "id": "72b19781-a0ba-4224-883c-b214780697fe",
   "metadata": {},
   "outputs": [
    {
     "data": {
      "text/plain": [
       "\u001b[36mf1\u001b[39m: \u001b[32mString\u001b[39m => \u001b[32mDouble\u001b[39m = ammonite.$sess.cmd4$Helper$$anon$1$$Lambda$2479/0x000000012883e220@3cee1dd7\n",
       "\u001b[36mres25_1\u001b[39m: \u001b[32mDouble\u001b[39m = \u001b[32m21.7\u001b[39m"
      ]
     },
     "execution_count": 26,
     "metadata": {},
     "output_type": "execute_result"
    }
   ],
   "source": [
    "val f1 = FunFunctor[String].map(_.toInt + 2)(_ * 3.1)\n",
    "f1(\"5\")"
   ]
  },
  {
   "cell_type": "markdown",
   "id": "a1d9bc87-336a-445a-92ae-4e972cc74dfe",
   "metadata": {},
   "source": [
    "### Lifting function examples\n",
    "Functors let you **lift**[^18] ordinary functions to work with containers:"
   ]
  },
  {
   "cell_type": "code",
   "execution_count": 1,
   "id": "e2018574-af36-4dd6-b9db-13164fc2291f",
   "metadata": {},
   "outputs": [
    {
     "data": {
      "text/plain": [
       "defined \u001b[32mtrait\u001b[39m \u001b[36mFunctor\u001b[39m\n",
       "\u001b[36moptionFunctor\u001b[39m: \u001b[32mFunctor\u001b[39m[\u001b[32mOption\u001b[39m] = ammonite.$sess.cmd0$Helper$$anon$1@6632212a\n",
       "defined \u001b[32mfunction\u001b[39m \u001b[36mlift\u001b[39m"
      ]
     },
     "execution_count": 1,
     "metadata": {},
     "output_type": "execute_result"
    }
   ],
   "source": [
    "trait Functor[F[_]] {\n",
    "    def map[A, B](fa: F[A])(f: A => B): F[B]\n",
    "}\n",
    "\n",
    "// Implicit Functor instance for Option\n",
    "implicit val optionFunctor: Functor[Option] = new Functor[Option] {\n",
    "    def map[A, B](fa: Option[A])(f: A => B): Option[B] = fa.map(f)\n",
    "}\n",
    "\n",
    "// Lifting function\n",
    "def lift[F[_], A, B](f: A => B)(implicit functor: Functor[F]): F[A] => F[B] = {\n",
    "    c => functor.map(c)(f)\n",
    "}\n"
   ]
  },
  {
   "cell_type": "markdown",
   "id": "25343214-a30a-465b-afad-ce1b1bf490f2",
   "metadata": {},
   "source": [
    "Examples for the lifting function:"
   ]
  },
  {
   "cell_type": "code",
   "execution_count": 2,
   "id": "2bb23bc8-ffab-4b5e-b054-4c0de44c6950",
   "metadata": {},
   "outputs": [
    {
     "data": {
      "text/plain": [
       "\u001b[36maddFive\u001b[39m: \u001b[32mInt\u001b[39m => \u001b[32mInt\u001b[39m = ammonite.$sess.cmd1$Helper$$Lambda$2063/0x00000001297c0418@3e26e549\n",
       "\u001b[36maddFiveToOption\u001b[39m: \u001b[32mOption\u001b[39m[\u001b[32mInt\u001b[39m] => \u001b[32mOption\u001b[39m[\u001b[32mInt\u001b[39m] = ammonite.$sess.cmd0$Helper$$Lambda$2064/0x00000001297c0800@696bf759\n",
       "\u001b[36mres1_2\u001b[39m: \u001b[32mOption\u001b[39m[\u001b[32mInt\u001b[39m] = \u001b[33mSome\u001b[39m(value = \u001b[32m15\u001b[39m)\n",
       "\u001b[36mres1_3\u001b[39m: \u001b[32mOption\u001b[39m[\u001b[32mInt\u001b[39m] = \u001b[32mNone\u001b[39m"
      ]
     },
     "execution_count": 2,
     "metadata": {},
     "output_type": "execute_result"
    }
   ],
   "source": [
    "// Lift a simple function to work with Options\n",
    "val addFive: Int => Int = _ + 5\n",
    "val addFiveToOption: Option[Int] => Option[Int] = lift(addFive)\n",
    "\n",
    "addFiveToOption(Some(10))  // Some(15)\n",
    "addFiveToOption(None)      // None"
   ]
  },
  {
   "cell_type": "markdown",
   "id": "e5a617b2-0762-4177-acb4-64522544ca93",
   "metadata": {},
   "source": [
    "Alternative: Using a companion object\n",
    "For better organisation, you could also place implicit instances in the Functor companion object:"
   ]
  },
  {
   "cell_type": "code",
   "execution_count": 1,
   "id": "02810681-af50-43ac-ae61-9bbc3d74e8f3",
   "metadata": {},
   "outputs": [
    {
     "data": {
      "text/plain": [
       "defined \u001b[32mtrait\u001b[39m \u001b[36mFunctor\u001b[39m\n",
       "defined \u001b[32mobject\u001b[39m \u001b[36mFunctor\u001b[39m\n",
       "defined \u001b[32mfunction\u001b[39m \u001b[36mlift\u001b[39m\n",
       "\u001b[36maddFive\u001b[39m: \u001b[32mInt\u001b[39m => \u001b[32mInt\u001b[39m = ammonite.$sess.cmd0$Helper$$Lambda$2022/0x00000001327a8620@62d39784\n",
       "\u001b[36maddFiveToOption\u001b[39m: \u001b[32mOption\u001b[39m[\u001b[32mInt\u001b[39m] => \u001b[32mOption\u001b[39m[\u001b[32mInt\u001b[39m] = ammonite.$sess.cmd0$Helper$$Lambda$2023/0x00000001327ab220@935ddf5\n",
       "\u001b[36mres0_5\u001b[39m: \u001b[32mOption\u001b[39m[\u001b[32mInt\u001b[39m] = \u001b[33mSome\u001b[39m(value = \u001b[32m15\u001b[39m)\n",
       "\u001b[36mres0_6\u001b[39m: \u001b[32mOption\u001b[39m[\u001b[32mInt\u001b[39m] = \u001b[32mNone\u001b[39m"
      ]
     },
     "execution_count": 1,
     "metadata": {},
     "output_type": "execute_result"
    }
   ],
   "source": [
    "trait Functor[F[_]] {\n",
    "    def map[A, B](fa: F[A])(f: A => B): F[B]\n",
    "}\n",
    "\n",
    "// provide an implementation of Functor for Option.\n",
    "object Functor {\n",
    "    // Implicit Functor instance for Option\n",
    "    implicit val optionFunctor: Functor[Option] = new Functor[Option] {\n",
    "      def map[A, B](fa: Option[A])(f: A => B): Option[B] = fa.map(f)\n",
    "    }\n",
    "}\n",
    "\n",
    "// Rest of the code remains the same\n",
    "\n",
    "// Lifting function\n",
    "def lift[F[_], A, B](f: A => B)(implicit functor: Functor[F]): F[A] => F[B] = {\n",
    "    c => functor.map(c)(f)\n",
    "}\n",
    "val addFive: Int => Int = _ + 5\n",
    "val addFiveToOption: Option[Int] => Option[Int] = lift(addFive)\n",
    "\n",
    "// Lift a simple function to work with Options\n",
    "addFiveToOption(Some(10))  // Some(15)\n",
    "addFiveToOption(None)      // None\n"
   ]
  },
  {
   "cell_type": "markdown",
   "id": "69f53859-f3d2-4a03-bd78-475bbe964c30",
   "metadata": {},
   "source": [
    "> Functor isn’t too compelling, as there aren’t many useful operations that can be defined purely in terms of map. \n",
    "\n",
    "## Applicative\n",
    "\n",
    "### Overview\n",
    "\n",
    "An **Applicative Functor** (or just \"Applicative\") extends Functor with the ability to:\n",
    "\n",
    "1. Wrap a pure value in a context (`pure`)\n",
    "2. Apply functions that are *themselves* in a context (`ap`)\n",
    "\n",
    "Applicative functors are less powerful than monads, but more general (and hence more common). Think of it as a Functor with \"superpowers\" for combining multiple independent effects.[^20]\n",
    "\n",
    "With Applicative, you can combine multiple **independent** computations. You don't need the result of one to determine the next (unlike Monad).[^21]\n",
    "\n",
    "```mermaid\n",
    "---\n",
    "config:\n",
    "  look: neo\n",
    "  theme: default\n",
    "---\n",
    "graph TD\n",
    "    A[\"F[A]\"] --> D[\"F[C]\"]\n",
    "    B[\"F[B]\"] --> D\n",
    "    C[\"(A, B) => C\"] --> D\n",
    "    \n",
    "    E[Applicative] --> F[pure: Wrap values]\n",
    "    E --> G[map2: Combine two contexts]\n",
    "    E --> H[apply: Apply wrapped functions]\n",
    "    \n",
    "    style A fill:#2196F3\n",
    "    style B fill:#2196F3\n",
    "    style D fill:#4CAF50\n",
    "    style C fill:#FF9800\n",
    "    style E fill:#9C27B0\n",
    "```\n",
    "\n",
    "Applicative combines multiple independent contexts using a function, producing a result in a combined context. Imagine you're a chef with ingredients in different boxes:\n",
    "\n",
    "- **Functor**: You can transform one ingredient at a time\n",
    "    - `map(sugar)(addSpice)` → spiced sugar\n",
    "\n",
    "- **Applicative**: You can combine multiple ingredients using a recipe (function)\n",
    "    - You have: `F[Sugar]`, `F[Flour]`, `F[Eggs]`\n",
    "    - Recipe: `(sugar, flour, eggs) => Cake`\n",
    "    - Applicative lets you combine them: `F[Cake]`\n",
    "\n",
    "### Applicative Mathematics\n",
    "\n",
    "**Formal Definition**: An applicative functor consists of:\n",
    "\n",
    "1. A type constructor $F: \\text{Type} \\to \\text{Type}$\n",
    "\n",
    "2. Operations:\n",
    "   - $\\text{pure}: A \\to F[A]$ — wraps a pure value in the context\n",
    "   - $\\text{map2}: (F[A], F[B], (A, B) \\to C) \\to F[C]$ — combines two contexts\n",
    "   - Alternatively: $\\text{ap}: F[A \\to B] \\to F[A] \\to F[B]$ — applies a wrapped function\n",
    "\n",
    "**Mathematical Notation for ap**:\n",
    "\n",
    "$$\n",
    "\\text{ap}: F[A \\to B] \\times F[A] \\to F[B]\n",
    "$$\n",
    "\n",
    "**Translation**: `ap` takes a function wrapped in context $F$ and a value wrapped in context $F$, and produces a result wrapped in $F$.[^22]\n",
    "\n",
    "**Applicative Laws**:\n",
    "\n",
    "**1. Identity Law**: Applying the identity function wrapped in $F$ does nothing.\n",
    "\n",
    "$$\n",
    "\\text{ap}(\\text{pure}(\\text{id}))(v) = v\n",
    "$$\n",
    "\n",
    "**2. Homomorphism Law**: Wrapping and then applying is the same as applying then wrapping.\n",
    "\n",
    "$$\n",
    "\\text{ap}(\\text{pure}(f))(\\text{pure}(x)) = \\text{pure}(f(x))\n",
    "$$\n",
    "\n",
    "**3. Interchange Law**: Order of applying functions doesn't matter.\n",
    "\n",
    "$$\n",
    "\\text{ap}(u)(\\text{pure}(y)) = \\text{ap}(\\text{pure}(f \\mapsto f(y)))(u)\n",
    "$$\n",
    "\n",
    "**4. Composition Law**: Composing applications is the same as applying compositions.\n",
    "\n",
    "$$\n",
    "\\text{ap}(\\text{ap}(\\text{ap}(\\text{pure}(\\text{compose}))(u))(v))(w) = \\text{ap}(u)(\\text{ap}(v)(w))\n",
    "$$\n",
    "\n",
    "where $\\text{compose}(f)(g)(x) = f(g(x))$.[^23]\n",
    "\n",
    "### Scala Implementation\n",
    "\n",
    "**Type Class Definition**:[^24]"
   ]
  },
  {
   "cell_type": "markdown",
   "id": "e79152ee-f185-4f1a-b20a-031f1b5cd9da",
   "metadata": {},
   "source": [
    "## Monad\n",
    "\n",
    "### Overview\n",
    "\n",
    "A **Monad** is the most powerful of these abstractions. It extends Applicative with the ability to sequence computations where each step can depend on the results of previous steps. The key operation is `flatMap` (also called `bind`).[^30]\n",
    "\n",
    "**Key Insight**: With Monad, later computations can depend on earlier results. This is more powerful than Applicative but also more restrictive (monads don't compose as nicely).[^31]\n",
    "\n",
    "```mermaid\n",
    "---\n",
    "config:\n",
    "  look: neo\n",
    "  theme: default\n",
    "---\n",
    "graph TD\n",
    "    A[\"value: A\"] -->|\"pure\"| B[\"F[A]\"]\n",
    "    B -->|\"flatMap<br/>(f: A => F[B])\"| C[\"F[B]\"]\n",
    "    C -->|\"flatMap<br/>(g: B => F[C])\"| D[\"F[C]\"]\n",
    "    \n",
    "    E[Monad Hierarchy]\n",
    "    E --> F[Monad]\n",
    "    F --> G[Applicative]\n",
    "    G --> H[Functor]\n",
    "    \n",
    "    style A fill:#FF9800\n",
    "    style B fill:#2196F3\n",
    "    style C fill:#4CAF50\n",
    "    style D fill:#9C27B0\n",
    "    style F fill:#F44336\n",
    "```\n",
    "\n",
    "Monads sequence dependent computations. Each step produces a context `F[_]`, and `flatMap` chains them together. Every Monad is also an Applicative and Functor. Think of monads as a \"programmable semicolon\" — they let you sequence operations with custom behavior:\n",
    "\n",
    "- **Option Monad**: Stop on first `None` (short-circuit on failure)\n",
    "- **List Monad**: Generate all combinations (non-deterministic computation)\n",
    "- **Future Monad**: Wait for async results (sequencing async operations)\n",
    "- **State Monad**: Thread state through computations\n",
    "\n",
    "### Mathematics\n",
    "\n",
    "**Formal Definition**: A monad consists of:\n",
    "\n",
    "1. A type constructor $M: \\text{Type} \\to \\text{Type}$\n",
    "2. Two operations:\n",
    "   - $\\text{pure}: A \\to M[A]$ — wrap a value (also called `unit` or `return`)\n",
    "   - $\\text{flatMap}: M[A] \\times (A \\to M[B]) \\to M[B]$ — sequence computations\n",
    "\n",
    "**Alternative Definition using join**:\n",
    "\n",
    "A monad can also be defined with:\n",
    "- $\\text{pure}: A \\to M[A]$\n",
    "- $\\text{join}: M[M[A]] \\to M[A]$ — flatten nested contexts\n",
    "- $\\text{map}: M[A] \\times (A \\to B) \\to M[B]$ — from Functor\n",
    "\n",
    "The two definitions are equivalent:\n",
    "$$\n",
    "\\text{flatMap}(ma)(f) = \\text{join}(\\text{map}(ma)(f))\n",
    "$$\n",
    "$$\n",
    "\\text{join}(mma) = \\text{flatMap}(mma)(\\text{id})\n",
    "$$\n",
    "\n",
    "**Category Theory Foundation**:\n",
    "\n",
    "In category theory, a monad $(T, \\eta, \\mu)$ on a category $\\mathcal{C}$ consists of:\n",
    "- An endofunctor $T: \\mathcal{C} \\to \\mathcal{C}$ (the type constructor)\n",
    "- A natural transformation $\\eta: \\text{Id} \\to T$ (pure/unit)\n",
    "- A natural transformation $\\mu: T \\circ T \\to T$ (join)\n",
    "\n",
    "**Translation**: In Scala, $T$ is our type constructor like `Option[_]` or `List[_]`, $\\eta$ is `pure`, and $\\mu$ is `join`.[^32]\n",
    "\n",
    "**Monad Laws**:\n",
    "\n",
    "**1. Left Identity**: Wrapping a value and then flatMapping is the same as just applying the function.\n",
    "\n",
    "$$\n",
    "\\text{flatMap}(\\text{pure}(a))(f) = f(a)\n",
    "$$\n",
    "\n",
    "**Translation**: `Option(x).flatMap(f) == f(x)`\n",
    "\n",
    "**2. Right Identity**: flatMapping with pure does nothing.\n",
    "\n",
    "$$\n",
    "\\text{flatMap}(m)(\\text{pure}) = m\n",
    "$$\n",
    "\n",
    "**Translation**: `m.flatMap(x => Option(x)) == m`\n",
    "\n",
    "**3. Associativity**: The order of nesting flatMaps doesn't matter.\n",
    "\n",
    "$$\n",
    "\\text{flatMap}(\\text{flatMap}(m)(f))(g) = \\text{flatMap}(m)(x \\Rightarrow \\text{flatMap}(f(x))(g))\n",
    "$$\n",
    "\n",
    "**Translation**: `m.flatMap(f).flatMap(g) == m.flatMap(x => f(x).flatMap(g))`[^33]\n",
    "\n",
    "### Scala Implementation\n"
   ]
  },
  {
   "cell_type": "code",
   "execution_count": 4,
   "id": "4ac3d5c8-b2ef-4e5e-8458-e03843779fb3",
   "metadata": {},
   "outputs": [
    {
     "data": {
      "text/plain": [
       "defined \u001b[32mtrait\u001b[39m \u001b[36mFunctor\u001b[39m\n",
       "defined \u001b[32mtrait\u001b[39m \u001b[36mMonad\u001b[39m"
      ]
     },
     "execution_count": 4,
     "metadata": {},
     "output_type": "execute_result"
    }
   ],
   "source": [
    "trait Functor[F[_]] {\n",
    "    def map[A, B](fa: F[A])(f: A => B): F[B]\n",
    "}\n",
    "\n",
    "trait Monad[F[_]] extends Functor[F] {\n",
    "    def unit[A](a: => A): F[A]\n",
    "    def flatMap[A, B](ma: F[A])(f: A => F[B]): F[B]\n",
    "\n",
    "    def map[A, B](ma: F[A])(f: A => B): F[B] = flatMap(ma)(a => unit(f(a)))\n",
    "    def map[A, B, C](ma: F[A], mb: F[B])(f: (A, B) => C): F[C] = flatMap(ma)(a => map(mb)(b => f(a,b)))\n",
    "}"
   ]
  },
  {
   "cell_type": "markdown",
   "id": "536e8272-5302-4ae6-a351-16579c4589cf",
   "metadata": {
    "jp-MarkdownHeadingCollapsed": true
   },
   "source": [
    "## References\n",
    "\n",
    "\n",
    "[^1]: *Functional Programming in Scala*, Ch. 10: \"Monoids\" - Introduction to purely algebraic structures\n",
    "[^2]: *Scala with Cats*, Ch. 2: \"Monoids and Semigroups\" - Definition of Semigroup\n",
    "[^3]: *Functional Programming in Scala*, Ch. 10.3: \"Parallelism and Monoids\" - Associativity enables parallel computation\n",
    "[^4]: *Scala with Cats*, Ch. 2.2: \"Definition of a Semigroup\" - Scala implementation\n",
    "[^5]: *Scala with Cats*, Ch. 2.1: \"Definition of a Monoid\" - Example of non-associative operation\n",
    "[^6]: *Scala with Cats*, Ch. 2.1: \"Definition of a Monoid\" - Formal monoid definition\n",
    "[^7]: *Functional Programming in Scala*, Ch. 10.1: \"What is a monoid?\" - Intuition and examples\n",
    "[^8]: *Scala with Cats*, Ch. 2.1: \"Definition of a Monoid\" - Type class definition\n",
    "[^9]: *Functional Programming in Scala*, Ch. 10.2: \"Folding lists with monoids\" - Practical folding applications\n",
    "[^10]: *Functional Programming in Scala*, Ch. 10.3: \"Parallelism and monoids\" - Parallel reduction with monoids\n",
    "[^11]: *Functional Programming in Scala*, Ch. 10.6.2: \"Using composed monoids to fuse traversals\" - Composing monoids\n",
    "[^12]: *Scala with Cats*, Ch. 2.2: \"Definition of a Semigroup\" - NonEmptyList example\n",
    "[^13]: *Functional Programming in Scala*, Ch. 11.1: \"Functors: generalizing the map function\" - Functor introduction\n",
    "[^14]: *Category Theory for Programmers*, Ch. 7: \"Functors\" - Category theory foundation\n",
    "[^15]: *Functional Programming in Scala*, Ch. 11.1.1: \"Functor laws\" - Identity and composition laws\n",
    "[^16]: *Scala with Cats*, Ch. 3.3: \"Definition of a Functor\" - Type class definition\n",
    "[^17]: *Programming Scala, Second Edition*, Ch. 16: \"The Functor Category\" - Function functor example\n",
    "[^18]: *Functional Programming in Scala*, Ch. 11.1: \"Functors\" - Lifting functions\n",
    "[^19]: *Functional Programming in Scala*, Ch. 11.1: \"Functors\" - distribute and codistribute examples\n",
    "[^20]: *Functional Programming in Scala*, Ch. 12.2: \"The Applicative trait\" - Introduction to Applicative\n",
    "[^21]: *Functional Programming in Scala*, Ch. 12.3: \"The difference between monads and applicative functors\" - Independence of effects\n",
    "[^22]: *Functional Programming in Scala*, Ch. 12.2 (Exercise 12.2): \"Alternative Applicative definition\" - ap method\n",
    "[^23]: *Functional Programming in Scala*, Ch. 12.5: \"The applicative laws\" - Formal law definitions\n",
    "[^24]: *Functional Programming in Scala*, Ch. 12.2: \"The Applicative trait\" - Type class definition\n",
    "[^25]: *Functional Programming in Scala*, Ch. 12.2 (Exercise 12.2): \"apply method\" - Alternative formulation\n",
    "[^26]: *Functional Programming in Scala*, Ch. 12.2: \"The Applicative trait\" - Examples\n",
    "[^27]: *Functional Programming in Scala*, Ch. 12.2 (Exercise 12.3): \"map3 and map4\" - Combining multiple values\n",
    "[^28]: *Scala with Cats*, Ch. 6.4: \"Parallel and Applicative\" - Validation example\n",
    "[^29]: *Functional Programming in Scala*, Ch. 12.5: \"The applicative laws\" - Law verification\n",
    "[^30]: *Functional Programming in Scala*, Ch. 11.2: \"Monads: generalizing the flatMap and unit functions\" - Monad introduction\n",
    "[^31]: *Functional Programming in Scala*, Ch. 12.3: \"The difference between monads and applicative functors\" - Monad vs Applicative\n",
    "[^32]: *Category Theory for Programmers*, Ch. 22: \"Monads\" - Category theory definition\n",
    "[^33]: *Functional Programming in Scala*, Ch. 11.4: \"Monad laws\" - Formal law definitions\n",
    "[^34]: *Functional Programming in Scala*, Ch. 11.2: \"The Monad trait\" - Type class definition\n",
    "[^35]: *Functional Programming in Scala*, Ch. 11.2 (Exercise 11.1): \"Monad instances\" - Option and List examples\n",
    "[^36]: *Programming Scala, Second Edition*, Ch. 16: \"The Monad Category\" - For-comprehension desugaring\n",
    "[^37]: *Functional Programming in Scala*, Ch. 11.2: \"Monads\" - Chaining dependent computations\n",
    "[^38]: *Functional Programming in Scala*, Ch. 11.3: \"The State monad\" - State monad example\n",
    "[^39]: *Scala with Cats*, Ch. 4: \"Monads\" - Error handling with Either\n",
    "[^40]: *Scala with Cats*, Ch. 6.5.1: \"The Hierarchy of Sequencing Type Classes\" - Type class hierarchy\n"
   ]
  },
  {
   "cell_type": "code",
   "execution_count": null,
   "id": "eb3a5c25-d2fc-4ba3-a942-0d85e4e7eb2e",
   "metadata": {},
   "outputs": [],
   "source": []
  }
 ],
 "metadata": {
  "kernelspec": {
   "display_name": "Scala",
   "language": "scala",
   "name": "scala"
  },
  "language_info": {
   "codemirror_mode": "text/x-scala",
   "file_extension": ".sc",
   "mimetype": "text/x-scala",
   "name": "scala",
   "nbconvert_exporter": "script",
   "version": "2.13.10"
  }
 },
 "nbformat": 4,
 "nbformat_minor": 5
}
