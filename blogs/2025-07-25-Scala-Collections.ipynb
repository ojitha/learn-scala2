{
 "cells": [
  {
   "cell_type": "markdown",
   "id": "d9175770",
   "metadata": {},
   "source": [
    "---\n",
    "layout: post\n",
    "title:  Scala Collections\n",
    "date:   2025-07-24\n",
    "categories: [Scala]\n",
    "mermaid: true\n",
    "maths: true\n",
    "typora-root-url: /Users/ojitha/GitHub/ojitha.github.io\n",
    "typora-copy-images-to: ../assets/images/${filename}\n",
    "---\n",
    "\n",
    "<style>\n",
    "/* Styles for the two-column layout */\n",
    ".image-text-container {\n",
    "    display: flex; /* Enables flexbox */\n",
    "    flex-wrap: wrap; /* Allows columns to stack on small screens */\n",
    "    gap: 20px; /* Space between the image and text */\n",
    "    align-items: center; /* Vertically centers content in columns */\n",
    "    margin-bottom: 20px; /* Space below this section */\n",
    "}\n",
    "\n",
    ".image-column {\n",
    "    flex: 1; /* Allows this column to grow */\n",
    "    min-width: 250px; /* Minimum width for the image column before stacking */\n",
    "    max-width: 40%; /* Maximum width for the image column to not take up too much space initially */\n",
    "    box-sizing: border-box; /* Include padding/border in element's total width/height */\n",
    "}\n",
    "\n",
    ".text-column {\n",
    "    flex: 2; /* Allows this column to grow more (e.g., twice as much as image-column) */\n",
    "    min-width: 300px; /* Minimum width for the text column before stacking */\n",
    "    box-sizing: border-box;\n",
    "}\n",
    "\n",
    "</style>\n",
    "\n",
    "<div class=\"image-text-container\">\n",
    "    <div class=\"image-column\">\n",
    "        <img src=\"/assets/images/2025-07-25-Scala-Collections/Scala_Collections.png\" alt=\"Scala basics\" width=\"150\" height=\"150\">\n",
    "    </div>\n",
    "    <div class=\"text-column\">\n",
    "<p>Explores the powerful Scala Collections library, detailing immutable and mutable collection types like Lists, Sets, and Maps, along with their common operations for efficient data manipulation. Understand the benefits of immutability and the flexibility of mutable collections in Scala for building robust applications. This guide highlights essential tools for any Scala developer working with structured data.</p>\n",
    "    </div>\n",
    "</div>\n",
    "\n",
    "\n",
    "<!--more-->\n",
    "\n",
    "------\n",
    "\n",
    "* TOC\n",
    "{:toc}\n",
    "------"
   ]
  },
  {
   "cell_type": "code",
   "execution_count": null,
   "id": "4ea0e0a7",
   "metadata": {
    "tags": [
     "remove_output",
     "remove_input"
    ]
   },
   "outputs": [],
   "source": [
    "import $ivy.`org.scalatest::scalatest:3.2.18` // Use the desired ScalaTest version"
   ]
  },
  {
   "cell_type": "markdown",
   "id": "8e476d68",
   "metadata": {},
   "source": [
    "## Scala 2 Collections Overview\n",
    "\n",
    "Scala 2 collections are powerful, flexible, and unified. They are organized into three main categories:\n",
    "\n",
    "- **Seq**: Ordered, indexed, or linear sequences (e.g., `List`, `Vector`, `Array`, `Queue`)\n",
    "- **Set**: Unordered collections of unique elements (e.g., `Set`, `SortedSet`)\n",
    "- **Map**: Collections of key-value pairs (e.g., `Map`, `SortedMap`)\n",
    "\n",
    "Each category has both immutable and mutable versions. By default, Scala uses immutable collections for safety and functional programming.\n",
    "\n",
    "```mermaid\n",
    "---\n",
    "config:\n",
    "  securityLevel: loose\n",
    "  theme: default\n",
    "---\n",
    "mindmap\n",
    "   ((Iterable))\n",
    "      [Traversable]\n",
    "      )Seq(\n",
    "        🔒List\n",
    "        🔒Vector\n",
    "        Array\n",
    "        Queue\n",
    "        🔒Range\n",
    "        🔒Stream/LazyList\n",
    "      )Set(\n",
    "        🔒immutable.Set\n",
    "        🔒SortedSet\n",
    "        BitSet\n",
    "        mutable.HashSet\n",
    "        🔒immutable.TreeSet\n",
    "      )Map(\n",
    "        🔒immutable.Map\n",
    "        🔒SortedMap\n",
    "        mutable.HashMap\n",
    "        🔒immutable.TreeMap\n",
    "        🔒ListMap\n",
    "```\n",
    "\n",
    "- **Immutable collections** (default): safer, thread-safe, functional.\n",
    "- **Mutable collections**: allow in-place updates, useful for performance-critical code.\n",
    "\n",
    "> Use 🔒 immutable collections unless you have a specific need for mutability.\n",
    "{:.green}\n",
    "\n",
    "### Algorithmic Complexity: Big O Notation\n",
    "\n",
    "Big O notation describes the upper bound of an algorithm's running time or space requirements in terms of the input size $n$. It helps compare the efficiency of different algorithms.\n",
    "\n",
    "![Big O Comparison computational complexity](https://upload.wikimedia.org/wikipedia/commons/7/7e/Comparison_computational_complexity.svg){: width=\"50%\" height=\"50%\"}\n",
    "\n",
    "-   **Constant Time:** $$O(1)$$ — Operation takes the same time regardless of input size. Eg: Array access, hash table lookup.\n",
    "\n",
    "![Constant Time](/assets/images/2025-07-25-Scala-Collections/big_O_constant_Time.png){: width=\"30%\" height=\"30%\"}\n",
    "\n",
    "-   **Logarithmic Time:** $$O(\\log n)$$ — Time grows logarithmically with input size. Eg: Binary search, balanced tree operations.\n",
    "\n",
    "![Logarithmic_Time](/assets/images/2025-07-25-Scala-Collections/Logarithmic_Time.png){: width=\"30%\" height=\"30%\"}\n",
    "\n",
    "-   **Linear Time:** $$O(n)$$ — Time grows proportionally with input size. Eg: Linear search, array traversal.\n",
    "\n",
    "![Linear Time](/assets/images/2025-07-25-Scala-Collections/Linear_Time.png){: width=\"30%\" height=\"30%\"}\n",
    "\n",
    "-   **Linearithmic Time:** $$O(n \\log n)$$ — Common in efficient sorting algorithms. Eg: Merge sort, heap sort, quick sort (average).\n",
    "\n",
    "![Linearithmic Time](/assets/images/2025-07-25-Scala-Collections/Linearithmic_Time.png){: width=\"30%\" height=\"30%\"}\n",
    "\n",
    "-   **Quadratic Time:** $$O(n^2)$$ — Time grows with the square of input size. Eg: Bubble sort, selection sort, nested loops.\n",
    "\n",
    "![Quadratic Time](/assets/images/2025-07-25-Scala-Collections/Quadratic_Time.png){: width=\"30%\" height=\"30%\"}\n",
    "\n",
    "-   **Exponential Time:** $$O(2^n)$$ — Time doubles with each additional input element. Eg: Recursive fibonacci, traveling salesman (brute force).\n",
    "\n",
    "<!-- ![Exponential Time](/assets/images/2025-07-25-Scala-Collections/Exponential_Time.png){: width=\"30%\" height=\"30%\"} -->\n",
    "\n",
    "For example, searching for an element in a `List` is $$O(n)$$, while accessing an element by index in a `Vector` is $$O(1)$$.\n",
    "\n",
    "> Big O notation provides a high-level understanding of algorithm performance, abstracting away hardware and implementation details.\n",
    "\n",
    "\n",
    "## Parameterized Types\n",
    "\n",
    "Scala 2 collections are built using **parameterized types** (also known as *generics*). Parameterized types allow you to write classes, traits, and methods that operate on values of any type, providing type safety and code reuse.\n",
    "\n",
    "For example, `List[Int]` is a list of integers, while `List[String]` is a list of strings. The type parameter (inside the square brackets) specifies the type of elements the collection holds.\n",
    "\n",
    "Why Parameterized Types?\n",
    "\n",
    "- **Type Safety:** The compiler checks that only elements of the correct type are added to a collection.\n",
    "- **Reusability:** The same collection class can be used for any type.\n",
    "- **Expressiveness:** You can express complex relationships between types.\n",
    "\n"
   ]
  },
  {
   "cell_type": "code",
   "execution_count": 2,
   "id": "4da3c989",
   "metadata": {},
   "outputs": [
    {
     "data": {
      "text/plain": [
       "\u001b[36mnumbers\u001b[39m: \u001b[32mList\u001b[39m[\u001b[32mInt\u001b[39m] = \u001b[33mList\u001b[39m(\u001b[32m1\u001b[39m, \u001b[32m2\u001b[39m, \u001b[32m3\u001b[39m)\n",
       "\u001b[36mnames\u001b[39m: \u001b[32mVector\u001b[39m[\u001b[32mString\u001b[39m] = \u001b[33mVector\u001b[39m(\u001b[32m\"Alice\"\u001b[39m, \u001b[32m\"Bob\"\u001b[39m)\n",
       "\u001b[36mmapping\u001b[39m: \u001b[32mMap\u001b[39m[\u001b[32mString\u001b[39m, \u001b[32mInt\u001b[39m] = \u001b[33mMap\u001b[39m(\u001b[32m\"a\"\u001b[39m -> \u001b[32m1\u001b[39m, \u001b[32m\"b\"\u001b[39m -> \u001b[32m2\u001b[39m)"
      ]
     },
     "execution_count": 2,
     "metadata": {},
     "output_type": "execute_result"
    }
   ],
   "source": [
    "val numbers: List[Int] = List(1, 2, 3)\n",
    "val names: Vector[String] = Vector(\"Alice\", \"Bob\")\n",
    "val mapping: Map[String, Int] = Map(\"a\" -> 1, \"b\" -> 2)"
   ]
  },
  {
   "cell_type": "markdown",
   "id": "e58844b8",
   "metadata": {},
   "source": [
    "Here, `List`, `Vector`, and `Map` are generic classes, and you specify the type(s) they contain.\n",
    "\n",
    "## Defining Your Own Parameterized Types\n",
    "\n",
    "You can define your own generic classes or methods:\n"
   ]
  },
  {
   "cell_type": "code",
   "execution_count": 36,
   "id": "1076cef7",
   "metadata": {},
   "outputs": [
    {
     "data": {
      "text/plain": [
       "defined \u001b[32mclass\u001b[39m \u001b[36mBox\u001b[39m\n",
       "\u001b[36mintBox\u001b[39m: \u001b[32mBox\u001b[39m[\u001b[32mInt\u001b[39m] = ammonite.$sess.cmd36$Helper$Box@2e484f05\n",
       "\u001b[36mstrBox\u001b[39m: \u001b[32mBox\u001b[39m[\u001b[32mString\u001b[39m] = ammonite.$sess.cmd36$Helper$Box@5a5d8f9f"
      ]
     },
     "execution_count": 36,
     "metadata": {},
     "output_type": "execute_result"
    }
   ],
   "source": [
    "class Box[A](val value: A)\n",
    "val intBox = new Box[Int](42)\n",
    "val strBox = new Box[String](\"hello\")"
   ]
  },
  {
   "cell_type": "markdown",
   "id": "465d4861",
   "metadata": {},
   "source": [
    "### Variance in Scala Collections\n",
    "\n",
    "Scala collections use *variance annotations* to control subtyping:\n",
    "\n",
    "- `List[+A]` is **covariant**: `List[String]` is a subtype of `List[AnyRef]`.\n",
    "- `Array[A]` is **invariant**: `Array[String]` is not a subtype of `Array[AnyRef]`.\n",
    "\n",
    "> Parameterized types are essential for working with Scala collections, ensuring type safety and flexibility across your codebase.\n",
    "{:.green}"
   ]
  },
  {
   "cell_type": "markdown",
   "id": "705d7295",
   "metadata": {},
   "source": [
    "#### Variance in Scala: Covariant, Invariant, and Contravariant\n",
    "\n",
    "Variance describes how subtyping between more complex types relates to subtyping between their component types. In Scala, variance is controlled using annotations on type parameters:\n",
    "\n",
    "- `+A` for **covariance**\n",
    "- `-A` for **contravariance**\n",
    "- No annotation for **invariance**\n"
   ]
  },
  {
   "cell_type": "markdown",
   "id": "49ef5f91",
   "metadata": {},
   "source": [
    "##### Covariant (`+A`)\n",
    "\n",
    "A type constructor is **covariant** if, for types `A` and `B`, whenever `A` is a subtype of `B`, then `F[A]` is a subtype of `F[B]`.\n",
    "\n",
    "```mermaid\n",
    "classDiagram\n",
    "    Type_B <|-- Type_A : extends\n",
    "```"
   ]
  },
  {
   "cell_type": "code",
   "execution_count": 39,
   "id": "03bc89f6",
   "metadata": {},
   "outputs": [
    {
     "data": {
      "text/plain": [
       "defined \u001b[32mclass\u001b[39m \u001b[36mType_B\u001b[39m\n",
       "defined \u001b[32mclass\u001b[39m \u001b[36mType_A\u001b[39m\n",
       "defined \u001b[32mclass\u001b[39m \u001b[36mF\u001b[39m\n",
       "\u001b[36maF\u001b[39m: \u001b[32mF\u001b[39m[\u001b[32mType_A\u001b[39m] = ammonite.$sess.cmd39$Helper$F@4eedd8ec\n",
       "\u001b[36mbF\u001b[39m: \u001b[32mF\u001b[39m[\u001b[32mType_B\u001b[39m] = ammonite.$sess.cmd39$Helper$F@4eedd8ec"
      ]
     },
     "execution_count": 39,
     "metadata": {},
     "output_type": "execute_result"
    }
   ],
   "source": [
    "class Type_B\n",
    "class Type_A extends Type_B\n",
    "\n",
    "class F[+A](val value: A)\n",
    "val aF: F[Type_A] = new F(new Type_A)\n",
    "val bF: F[Type_B] = aF // Allowed: F[Type_A] <: F[Type_B]"
   ]
  },
  {
   "cell_type": "markdown",
   "id": "9f99d57d",
   "metadata": {},
   "source": [
    "- **Use case:** Collections that only produce values (e.g., `List[+A]`).\n",
    "- **Mnemonic:** \"Output\" position.\n",
    "\n",
    "##### Invariant (`A`)\n",
    "\n",
    "A type constructor is **invariant** if there is no subtyping relationship between `F[A]` and `F[B]`, even if `A` and `B` are related.\n"
   ]
  },
  {
   "cell_type": "code",
   "execution_count": 39,
   "id": "131551e2",
   "metadata": {},
   "outputs": [
    {
     "name": "stderr",
     "output_type": "stream",
     "text": [
      "cmd40.sc:3: type mismatch;\n",
      " found   : Helper.this.F[cmd40.this.cmd39.Type_A]\n",
      " required: Helper.this.F[cmd40.this.cmd39.Type_B]\n",
      "Note: cmd40.this.cmd39.Type_A <: cmd40.this.cmd39.Type_B, but class F is invariant in type A.\n",
      "You may wish to define A as +A instead. (SLS 4.5)\n",
      "val bF: F[Type_B] = aF // Error: F[A] is not a subtype of F[B]\n",
      "                    ^\n",
      "Compilation Failed"
     ]
    }
   ],
   "source": [
    "class F[A](val value: A)\n",
    "val aF: F[Type_A] = new F(new Type_A)\n",
    "val bF: F[Type_B] = aF // Error: F[A] is not a subtype of F[B]"
   ]
  },
  {
   "cell_type": "markdown",
   "id": "80158626",
   "metadata": {},
   "source": [
    "- **Use case:** Mutable collections or types that both consume and produce values (e.g., `Array[A]`).\n",
    "- **Mnemonic:** \"Both input and output\" positions.\n",
    "\n",
    "##### Contravariant (`-A`)\n",
    "\n",
    "A type constructor is **contravariant** if, for types `A` and `B`, whenever `A` is a subtype of `B`, then `F[B]` is a subtype of `F[A]`."
   ]
  },
  {
   "cell_type": "code",
   "execution_count": 41,
   "id": "927f97db",
   "metadata": {},
   "outputs": [
    {
     "data": {
      "text/plain": [
       "defined \u001b[32mclass\u001b[39m \u001b[36mF\u001b[39m\n",
       "\u001b[36mbF\u001b[39m: \u001b[32mF\u001b[39m[\u001b[32mType_B\u001b[39m] = ammonite.$sess.cmd41$Helper$F@6b753e36\n",
       "\u001b[36maF\u001b[39m: \u001b[32mF\u001b[39m[\u001b[32mType_A\u001b[39m] = ammonite.$sess.cmd41$Helper$F@6b753e36"
      ]
     },
     "execution_count": 41,
     "metadata": {},
     "output_type": "execute_result"
    }
   ],
   "source": [
    "class F[-A] {\n",
    "    def print(a: A): Unit = println(a)\n",
    "}\n",
    "\n",
    "val bF: F[Type_B] = new F[Type_B]\n",
    "val aF: F[Type_A] = bF // Allowed: F[Type_B] <: F[Type_A]"
   ]
  },
  {
   "cell_type": "markdown",
   "id": "b2c5b532",
   "metadata": {},
   "source": [
    "\n",
    "- **Use case:** Types that only consume values (e.g., function argument types).\n",
    "- **Mnemonic:** \"Input\" position.\n",
    "\n",
    "Summary Table\n",
    "\n",
    "```mermaid\n",
    "classDiagram\n",
    "    Animal <|-- Dog : extends\n",
    "```\n",
    "\n",
    "| Annotation | Name         | Example         | Subtyping Direction                | Use Case                |\n",
    "|------------|--------------|----------------|------------------------------------|-------------------------|\n",
    "| `+A`       | Covariant    | `List[+A]`     | `List[Dog]` <: `List[Animal]`      | Output-only (produce)   |\n",
    "| `A`        | Invariant    | `Array[A]`     | No relationship                    | Input & output (mutable)|\n",
    "| `-A`       | Contravariant| `Printer[-A]`  | `Printer[Animal]` <: `Printer[Dog]`| Input-only (consume)    |\n",
    "\n",
    "> Covariance and contravariance help ensure type safety and flexibility when designing generic classes and traits in Scala.\n"
   ]
  },
  {
   "cell_type": "markdown",
   "id": "a0330690",
   "metadata": {},
   "source": [
    "## List\n",
    "A `List` in Scala 2 is an immutable, ordered sequence of elements. It is one of the most commonly used collection types in functional programming.\n",
    "\n",
    "- **Immutable:** Once created, a `List` cannot be changed. All operations return a new list.\n",
    "- **Linked Structure:** Internally, a `List` is a ***singly-linked*** list, optimized for prepending elements.\n",
    "- **Type-Safe:** Lists are generic, e.g., `List[Int]`, `List[String]`.\n",
    "- **Construction:** Use `List(1, 2, 3)` or the right-associative `::` operator with `Nil` (the empty list): `1 :: 2 :: 3 :: Nil`.\n",
    "- **Head/Tail:** Access the first element with `head`, and the rest with `tail`.\n",
    "- **Pattern Matching:** Lists support powerful pattern matching for recursive algorithms.\n",
    "- **Common Operations:** `map`, `filter`, `foldLeft`, `reverse`, `:+` (append), `::` (prepend).\n",
    "- **Performance:** Fast prepend (`::`), slow append (`:+`), linear access time.\n",
    "\n",
    "> Prefer `List` for small, immutable, functional sequences. For large or random-access collections, consider `Vector` or `Array`."
   ]
  },
  {
   "cell_type": "code",
   "execution_count": 1,
   "id": "8c1d5550",
   "metadata": {},
   "outputs": [
    {
     "data": {
      "text/plain": [
       "\u001b[36mres1\u001b[39m: \u001b[32mList\u001b[39m[\u001b[32mInt\u001b[39m] = \u001b[33mList\u001b[39m(\u001b[32m1\u001b[39m, \u001b[32m2\u001b[39m, \u001b[32m3\u001b[39m, \u001b[32m4\u001b[39m)"
      ]
     },
     "execution_count": 1,
     "metadata": {},
     "output_type": "execute_result"
    }
   ],
   "source": [
    "List(1,2,3,4)"
   ]
  },
  {
   "cell_type": "markdown",
   "id": "db3450a0",
   "metadata": {},
   "source": [
    "Scala has shortcut to create list more expressive way. The most important thing to understand is `Nil`. Nil itself can create an empty List as shown bellow:"
   ]
  },
  {
   "cell_type": "code",
   "execution_count": 3,
   "id": "7781b254",
   "metadata": {},
   "outputs": [
    {
     "data": {
      "text/plain": [
       "\u001b[36mres3\u001b[39m: \u001b[32mNil\u001b[39m.type = \u001b[33mList\u001b[39m()"
      ]
     },
     "execution_count": 3,
     "metadata": {},
     "output_type": "execute_result"
    }
   ],
   "source": [
    "Nil"
   ]
  },
  {
   "cell_type": "markdown",
   "id": "bec9b39c",
   "metadata": {},
   "source": [
    "Using right asscoative colons to create list with`Nil`: "
   ]
  },
  {
   "cell_type": "code",
   "execution_count": 13,
   "id": "94d0778b",
   "metadata": {},
   "outputs": [
    {
     "data": {
      "text/plain": [
       "\u001b[36mres13\u001b[39m: \u001b[32mList\u001b[39m[\u001b[32mInt\u001b[39m] = \u001b[33mList\u001b[39m(\u001b[32m1\u001b[39m, \u001b[32m2\u001b[39m, \u001b[32m3\u001b[39m, \u001b[32m4\u001b[39m)"
      ]
     },
     "execution_count": 13,
     "metadata": {},
     "output_type": "execute_result"
    }
   ],
   "source": [
    "1 :: 2 :: 3 :: 4 :: Nil"
   ]
  },
  {
   "cell_type": "code",
   "execution_count": 14,
   "id": "31b8d5cf",
   "metadata": {},
   "outputs": [
    {
     "data": {
      "text/plain": [
       "\u001b[36mres14_0\u001b[39m: \u001b[32mInt\u001b[39m = \u001b[32m1\u001b[39m\n",
       "\u001b[36mres14_1\u001b[39m: \u001b[32mList\u001b[39m[\u001b[32mInt\u001b[39m] = \u001b[33mList\u001b[39m(\u001b[32m2\u001b[39m, \u001b[32m3\u001b[39m)"
      ]
     },
     "execution_count": 14,
     "metadata": {},
     "output_type": "execute_result"
    }
   ],
   "source": [
    "List(1, 2, 3).head\n",
    "List(1, 2, 3).tail"
   ]
  },
  {
   "cell_type": "markdown",
   "id": "ba4041fc",
   "metadata": {},
   "source": [
    "## Sets\n",
    "A `Set` in Scala is a collection of unique elements, meaning no duplicates are allowed. Sets are unordered, so the order of elements is not guaranteed.\n",
    "\n",
    "- **Immutable by default:** `Set` refers to `scala.collection.immutable.Set`. Use `import scala.collection.mutable.Set` for a mutable version.\n",
    "- **Creation:** You can create a set using `Set(1, 2, 3)` or an empty set with `Set.empty[Int]`.\n",
    "- **Uniqueness:** Adding a duplicate element has no effect: `Set(1, 2, 2)` is `Set(1, 2)`.\n",
    "- **Common operations:** `+` (add), `-` (remove), `contains`, `size`, `isEmpty`, set algebra (`union`, `intersect`, `diff`).\n",
    "\n",
    "> Use immutable sets for safety and functional programming. Mutable sets are useful for performance-critical code that requires in-place updates."
   ]
  },
  {
   "cell_type": "code",
   "execution_count": 8,
   "id": "cc207614",
   "metadata": {},
   "outputs": [
    {
     "data": {
      "text/plain": [
       "\u001b[36ms\u001b[39m: \u001b[32mSet\u001b[39m[\u001b[32mInt\u001b[39m] = \u001b[33mSet\u001b[39m(\u001b[32m1\u001b[39m, \u001b[32m2\u001b[39m, \u001b[32m3\u001b[39m)\n",
       "\u001b[36ms2\u001b[39m: \u001b[32mSet\u001b[39m[\u001b[32mInt\u001b[39m] = \u001b[33mSet\u001b[39m(\u001b[32m1\u001b[39m, \u001b[32m2\u001b[39m, \u001b[32m3\u001b[39m, \u001b[32m4\u001b[39m)\n",
       "\u001b[36ms3\u001b[39m: \u001b[32mSet\u001b[39m[\u001b[32mInt\u001b[39m] = \u001b[33mSet\u001b[39m(\u001b[32m1\u001b[39m, \u001b[32m3\u001b[39m)\n",
       "\u001b[36mres8_3\u001b[39m: \u001b[32mBoolean\u001b[39m = \u001b[32mtrue\u001b[39m"
      ]
     },
     "execution_count": 8,
     "metadata": {},
     "output_type": "execute_result"
    }
   ],
   "source": [
    "// Set: Immutable collection of unique elements\n",
    "val s = Set(1, 2, 3)\n",
    "val s2 = s + 4      // Set(1, 2, 3, 4)\n",
    "val s3 = s - 2      // Set(1, 3)\n",
    "s.contains(2)"
   ]
  },
  {
   "cell_type": "markdown",
   "id": "c308335a",
   "metadata": {},
   "source": [
    "> Default set is `HashSet`, but if you need to order, you have to use `TreeSet`.\n"
   ]
  },
  {
   "cell_type": "markdown",
   "id": "7a64e761",
   "metadata": {},
   "source": [
    "## Map\n",
    "\n",
    "A `Map` in Scala 2 is a collection of key-value pairs, where each key is unique.\n",
    "\n",
    "- **Immutable by default:** `Map` refers to `scala.collection.immutable.Map`. Use `import scala.collection.mutable.Map` for a mutable version.\n",
    "- **Creation:** Use `Map(\"a\" -> 1, \"b\" -> 2)` or `Map.empty[String, Int]`. Maps are usually created with muptiple associations of tuples\n",
    "- **Key uniqueness:** Duplicate keys overwrite previous values.\n",
    "- **Access:** Retrieve values by key: `map(\"a\")` or safely with `map.get(\"a\")`.\n",
    "- **Common operations:** `+` (add/update), `-` (remove), `contains`, `keys`, `values`, `getOrElse`.\n",
    "- **Iteration:** Iterate over key-value pairs with `foreach` or pattern matching.\n",
    "- **Performance:** Default is `HashMap` (fast lookup), but `TreeMap` provides ordered keys.\n",
    "\n",
    "> Use immutable maps for safety and functional programming. Mutable maps are useful for in-place updates in performance-critical code.\n",
    "\n"
   ]
  },
  {
   "cell_type": "code",
   "execution_count": 21,
   "id": "4b3bc6ab",
   "metadata": {},
   "outputs": [
    {
     "data": {
      "text/plain": [
       "\u001b[36mmyMap\u001b[39m: \u001b[32mMap\u001b[39m[\u001b[32mString\u001b[39m, \u001b[32mInt\u001b[39m] = \u001b[33mMap\u001b[39m(\u001b[32m\"a\"\u001b[39m -> \u001b[32m1\u001b[39m, \u001b[32m\"b\"\u001b[39m -> \u001b[32m2\u001b[39m, \u001b[32m\"c\"\u001b[39m -> \u001b[32m3\u001b[39m)\n",
       "\u001b[36mres21_1\u001b[39m: \u001b[32mInt\u001b[39m = \u001b[32m1\u001b[39m\n",
       "\u001b[36mres21_2\u001b[39m: \u001b[32mInt\u001b[39m = \u001b[32m0\u001b[39m"
      ]
     },
     "execution_count": 21,
     "metadata": {},
     "output_type": "execute_result"
    }
   ],
   "source": [
    "val myMap = Map((\"a\", 1), (\"b\", 2), (\"c\", 3))\n",
    "myMap(\"a\") // 1\n",
    "myMap.getOrElse(\"d\", 0) // \"not found\""
   ]
  },
  {
   "cell_type": "markdown",
   "id": "6e6e56b7",
   "metadata": {},
   "source": [
    "First see what is the very basic use of `->` in Scala."
   ]
  },
  {
   "cell_type": "code",
   "execution_count": 34,
   "id": "a1e712ec",
   "metadata": {},
   "outputs": [
    {
     "data": {
      "text/plain": [
       "\u001b[36mres34\u001b[39m: (\u001b[32mString\u001b[39m, \u001b[32mInt\u001b[39m) = (\u001b[32m\"a\"\u001b[39m, \u001b[32m1\u001b[39m)"
      ]
     },
     "execution_count": 34,
     "metadata": {},
     "output_type": "execute_result"
    }
   ],
   "source": [
    "\"a\" -> 1 // Creates a tuple (\"a\", 1)"
   ]
  },
  {
   "cell_type": "markdown",
   "id": "39c2c9b3",
   "metadata": {},
   "source": [
    "As shown above, its create the tuple.\n",
    "\n",
    "Therefore, you can use to create Map using `->`:"
   ]
  },
  {
   "cell_type": "code",
   "execution_count": 18,
   "id": "c1267b00",
   "metadata": {},
   "outputs": [
    {
     "data": {
      "text/plain": [
       "\u001b[36mres18_0\u001b[39m: \u001b[32mMap\u001b[39m[\u001b[32mString\u001b[39m, \u001b[32mInt\u001b[39m] = \u001b[33mMap\u001b[39m(\u001b[32m\"a\"\u001b[39m -> \u001b[32m1\u001b[39m, \u001b[32m\"b\"\u001b[39m -> \u001b[32m2\u001b[39m, \u001b[32m\"c\"\u001b[39m -> \u001b[32m3\u001b[39m)\n",
       "\u001b[36mres18_1\u001b[39m: \u001b[32mOption\u001b[39m[\u001b[32mInt\u001b[39m] = \u001b[33mSome\u001b[39m(value = \u001b[32m1\u001b[39m)"
      ]
     },
     "execution_count": 18,
     "metadata": {},
     "output_type": "execute_result"
    }
   ],
   "source": [
    "Map(\"a\" -> 1, \"b\" -> 2, \"c\" -> 3)\n",
    "myMap.get(\"a\") // Some(1)"
   ]
  },
  {
   "cell_type": "markdown",
   "id": "d158d8b9",
   "metadata": {},
   "source": [
    "If you notice, above code you can use the optional value to aovide the error side effect:"
   ]
  },
  {
   "cell_type": "code",
   "execution_count": 27,
   "id": "a69cec0f",
   "metadata": {},
   "outputs": [
    {
     "data": {
      "text/plain": [
       "\u001b[36mres27_0\u001b[39m: \u001b[32mInt\u001b[39m = \u001b[32m1\u001b[39m\n",
       "\u001b[36mres27_1\u001b[39m: \u001b[32mInt\u001b[39m = \u001b[32m0\u001b[39m"
      ]
     },
     "execution_count": 27,
     "metadata": {},
     "output_type": "execute_result"
    }
   ],
   "source": [
    "myMap.getOrElse(\"a\", 0) // 1\n",
    "myMap.getOrElse(\"d\", 0) // \"not found\""
   ]
  },
  {
   "cell_type": "markdown",
   "id": "9b0e86ca",
   "metadata": {},
   "source": [
    "```mermaid\n",
    "classDiagram\n",
    "    class Option[\"Option (abstract)\"] {\n",
    "        +isDefined Boolean\n",
    "        +isEmpty Boolean\n",
    "        +get T\n",
    "        +getOrElse(default) T\n",
    "        +map(f) Option\n",
    "        +flatMap(f) Option\n",
    "        +filter(p) Option\n",
    "        +fold(ifEmpty, f) U\n",
    "    }\n",
    "    \n",
    "    class Some {\n",
    "        +value T\n",
    "        +isDefined true\n",
    "        +isEmpty false\n",
    "        +get T\n",
    "    }\n",
    "    \n",
    "    class None[\"None (object)\"] {\n",
    "        +isDefined false\n",
    "        +isEmpty true\n",
    "        +get Nothing\n",
    "    }\n",
    "    \n",
    "    Option <|-- Some\n",
    "    Option <|-- None\n",
    "    \n",
    "    note for Option \"Abstract base class \n",
    "    for optional values\"\n",
    "    note for Some \"Represents a value \n",
    "    that exists\"\n",
    "    note for None \"Singleton object \n",
    "    representing no value\"\n",
    "```\n"
   ]
  },
  {
   "cell_type": "code",
   "execution_count": 31,
   "id": "eeaaedfd",
   "metadata": {},
   "outputs": [
    {
     "data": {
      "text/plain": [
       "\u001b[36mSomeValue\u001b[39m: \u001b[32mOption\u001b[39m[\u001b[32mInt\u001b[39m] = \u001b[33mSome\u001b[39m(value = \u001b[32m42\u001b[39m)\n",
       "\u001b[36mnone\u001b[39m: \u001b[32mOption\u001b[39m[\u001b[32mInt\u001b[39m] = \u001b[32mNone\u001b[39m"
      ]
     },
     "execution_count": 31,
     "metadata": {},
     "output_type": "execute_result"
    }
   ],
   "source": [
    "// val someValue: Option[Int] = Some(42) \n",
    "val SomeValue = Option(42) // same as above\n",
    "val none: Option[Int] = None // Represents absence of value"
   ]
  },
  {
   "cell_type": "code",
   "execution_count": 26,
   "id": "4b29d735",
   "metadata": {},
   "outputs": [
    {
     "data": {
      "text/plain": [
       "\u001b[36mo\u001b[39m: \u001b[32mOption\u001b[39m[\u001b[32mInt\u001b[39m] = \u001b[32mNone\u001b[39m"
      ]
     },
     "execution_count": 26,
     "metadata": {},
     "output_type": "execute_result"
    }
   ],
   "source": [
    "val o = Option.empty[Int] // Represents absence of value"
   ]
  },
  {
   "cell_type": "markdown",
   "id": "3a64ecec",
   "metadata": {},
   "source": [
    "## Common functions\n",
    "The most important functions for working with Scala 2 collections are **map**, **filter**, **groupBy**, and others like **flatMap**, **fold**, and **reduce**. These functions enable expressive, concise, and functional manipulation of data:\n",
    "\n",
    "Foreach is the most common:"
   ]
  },
  {
   "cell_type": "code",
   "execution_count": 61,
   "id": "62677beb",
   "metadata": {},
   "outputs": [
    {
     "name": "stdout",
     "output_type": "stream",
     "text": [
      "--- with List ----\n",
      "1\n",
      "2\n",
      "3\n",
      "--- with Set ----\n",
      "1\n",
      "2\n",
      "3\n",
      "--- with Map ----\n",
      "a -> 1\n",
      "b -> 2\n",
      "--- with Option ----\n",
      "42\n",
      "--- with None ----"
     ]
    }
   ],
   "source": [
    "println(\"--- with List ----\")\n",
    "List(1, 2, 3).foreach(println) // Prints each element\n",
    "println(\"--- with Set ----\")\n",
    "Set(1, 2, 3).foreach(println) // Prints each element\n",
    "println(\"--- with Map ----\")\n",
    "Map(\"a\" -> 1, \"b\" -> 2).foreach { case (k, v) => println(s\"$k -> $v\") } // Prints each key-value pair\n",
    "println(\"--- with Option ----\")\n",
    "Some(42).foreach(println) // Prints 42 if Some, does nothing if None\n",
    "print(\"--- with None ----\")\n",
    "None.foreach(println) // Does nothing"
   ]
  },
  {
   "cell_type": "markdown",
   "id": "d6677f60",
   "metadata": {},
   "source": [
    "- **map**: Transforms each element using a function, producing a new collection.  "
   ]
  },
  {
   "cell_type": "code",
   "execution_count": 48,
   "id": "2cc3277d",
   "metadata": {},
   "outputs": [
    {
     "data": {
      "text/plain": [
       "\u001b[36mres48_0\u001b[39m: \u001b[32mList\u001b[39m[\u001b[32mInt\u001b[39m] = \u001b[33mList\u001b[39m(\u001b[32m2\u001b[39m, \u001b[32m4\u001b[39m, \u001b[32m6\u001b[39m)\n",
       "\u001b[36mres48_1\u001b[39m: \u001b[32mSet\u001b[39m[\u001b[32mInt\u001b[39m] = \u001b[33mSet\u001b[39m(\u001b[32m2\u001b[39m, \u001b[32m4\u001b[39m, \u001b[32m6\u001b[39m)\n",
       "\u001b[36mres48_2\u001b[39m: \u001b[32mMap\u001b[39m[\u001b[32mString\u001b[39m, \u001b[32mInt\u001b[39m] = \u001b[33mMap\u001b[39m(\u001b[32m\"a\"\u001b[39m -> \u001b[32m2\u001b[39m, \u001b[32m\"b\"\u001b[39m -> \u001b[32m4\u001b[39m)\n",
       "\u001b[36mres48_3\u001b[39m: \u001b[32mOption\u001b[39m[\u001b[32mInt\u001b[39m] = \u001b[33mSome\u001b[39m(value = \u001b[32m84\u001b[39m)"
      ]
     },
     "execution_count": 48,
     "metadata": {},
     "output_type": "execute_result"
    }
   ],
   "source": [
    "// List(1,2,3).map(_ * 2)\n",
    "List(1,2,3).map(x => x * 2)\n",
    "// with sets\n",
    "Set(1,2,3).map(_ * 2)\n",
    "// with maps\n",
    "Map(\"a\" -> 1, \"b\" -> 2).map { case (k, v) => (k, v * 2) }\n",
    "// option\n",
    "Some(42).map(_ * 2) // Some(84)\n"
   ]
  },
  {
   "cell_type": "markdown",
   "id": "b3beb817",
   "metadata": {},
   "source": [
    "- **filter**: Selects elements that satisfy a predicate.  "
   ]
  },
  {
   "cell_type": "code",
   "execution_count": 54,
   "id": "baf90630",
   "metadata": {},
   "outputs": [
    {
     "data": {
      "text/plain": [
       "\u001b[36mres54_0\u001b[39m: \u001b[32mList\u001b[39m[\u001b[32mInt\u001b[39m] = \u001b[33mList\u001b[39m(\u001b[32m1\u001b[39m, \u001b[32m3\u001b[39m)\n",
       "\u001b[36mres54_1\u001b[39m: \u001b[32mSet\u001b[39m[\u001b[32mInt\u001b[39m] = \u001b[33mSet\u001b[39m(\u001b[32m1\u001b[39m, \u001b[32m3\u001b[39m)\n",
       "\u001b[36mres54_2\u001b[39m: \u001b[32mMap\u001b[39m[\u001b[32mString\u001b[39m, \u001b[32mInt\u001b[39m] = \u001b[33mMap\u001b[39m(\u001b[32m\"a\"\u001b[39m -> \u001b[32m1\u001b[39m, \u001b[32m\"c\"\u001b[39m -> \u001b[32m3\u001b[39m)\n",
       "\u001b[36mres54_3\u001b[39m: \u001b[32mOption\u001b[39m[\u001b[32mInt\u001b[39m] = \u001b[32mNone\u001b[39m"
      ]
     },
     "execution_count": 54,
     "metadata": {},
     "output_type": "execute_result"
    }
   ],
   "source": [
    "List(1,2,3).filter(_ % 2 == 1)\n",
    "// with sets\n",
    "Set(1,2,3).filter(_ % 2 == 1)\n",
    "// with maps\n",
    "Map(\"a\" -> 1, \"b\" -> 2, \"c\" -> 3)\n",
    "    .filter { case (k, v) => v % 2 == 1 }\n",
    "// option\n",
    "Some(42).filter(_ % 2 == 1) // None"
   ]
  },
  {
   "cell_type": "markdown",
   "id": "188cebaf",
   "metadata": {},
   "source": [
    "- **groupBy**: Partitions elements into groups based on a function."
   ]
  },
  {
   "cell_type": "code",
   "execution_count": 66,
   "id": "6caa66dd",
   "metadata": {},
   "outputs": [
    {
     "data": {
      "text/plain": [
       "\u001b[36mres66_0\u001b[39m: \u001b[32mMap\u001b[39m[\u001b[32mInt\u001b[39m, \u001b[32mList\u001b[39m[\u001b[32mInt\u001b[39m]] = \u001b[33mHashMap\u001b[39m(\u001b[32m0\u001b[39m -> \u001b[33mList\u001b[39m(\u001b[32m2\u001b[39m, \u001b[32m4\u001b[39m), \u001b[32m1\u001b[39m -> \u001b[33mList\u001b[39m(\u001b[32m1\u001b[39m, \u001b[32m3\u001b[39m))\n",
       "\u001b[36mres66_1\u001b[39m: \u001b[32mMap\u001b[39m[\u001b[32mString\u001b[39m, \u001b[32mList\u001b[39m[\u001b[32mInt\u001b[39m]] = \u001b[33mHashMap\u001b[39m(\n",
       "  \u001b[32m\"odd\"\u001b[39m -> \u001b[33mList\u001b[39m(\u001b[32m1\u001b[39m, \u001b[32m3\u001b[39m),\n",
       "  \u001b[32m\"even\"\u001b[39m -> \u001b[33mList\u001b[39m(\u001b[32m2\u001b[39m, \u001b[32m4\u001b[39m)\n",
       ")"
      ]
     },
     "execution_count": 66,
     "metadata": {},
     "output_type": "execute_result"
    }
   ],
   "source": [
    "List(1,2,3,4).groupBy(_ % 2)\n",
    "// with extended keys\n",
    "List(1,2,3,4).groupBy(i => if (i % 2 == 0) \"even\" else \"odd\")"
   ]
  },
  {
   "cell_type": "code",
   "execution_count": 55,
   "id": "f5649865",
   "metadata": {},
   "outputs": [
    {
     "data": {
      "text/plain": [
       "\u001b[36mres55_0\u001b[39m: \u001b[32mMap\u001b[39m[\u001b[32mInt\u001b[39m, \u001b[32mList\u001b[39m[\u001b[32mString\u001b[39m]] = \u001b[33mHashMap\u001b[39m(\n",
       "  \u001b[32m1\u001b[39m -> \u001b[33mList\u001b[39m(\u001b[32m\"a\"\u001b[39m, \u001b[32m\"x\"\u001b[39m),\n",
       "  \u001b[32m2\u001b[39m -> \u001b[33mList\u001b[39m(\u001b[32m\"bb\"\u001b[39m, \u001b[32m\"yy\"\u001b[39m),\n",
       "  \u001b[32m3\u001b[39m -> \u001b[33mList\u001b[39m(\u001b[32m\"ccc\"\u001b[39m, \u001b[32m\"zzz\"\u001b[39m)\n",
       ")\n",
       "\u001b[36mres55_1\u001b[39m: \u001b[32mMap\u001b[39m[\u001b[32mInt\u001b[39m, \u001b[32mSet\u001b[39m[\u001b[32mString\u001b[39m]] = \u001b[33mHashMap\u001b[39m(\n",
       "  \u001b[32m1\u001b[39m -> \u001b[33mHashSet\u001b[39m(\u001b[32m\"x\"\u001b[39m, \u001b[32m\"a\"\u001b[39m),\n",
       "  \u001b[32m2\u001b[39m -> \u001b[33mHashSet\u001b[39m(\u001b[32m\"yy\"\u001b[39m, \u001b[32m\"bb\"\u001b[39m),\n",
       "  \u001b[32m3\u001b[39m -> \u001b[33mHashSet\u001b[39m(\u001b[32m\"ccc\"\u001b[39m, \u001b[32m\"zzz\"\u001b[39m)\n",
       ")"
      ]
     },
     "execution_count": 55,
     "metadata": {},
     "output_type": "execute_result"
    }
   ],
   "source": [
    "List(\"a\",\"bb\",\"ccc\",\"x\",\"yy\",\"zzz\").groupBy(_.length)\n",
    "Set(\"a\",\"bb\",\"ccc\",\"x\",\"yy\",\"zzz\").groupBy(_.length)"
   ]
  },
  {
   "cell_type": "markdown",
   "id": "283374f0",
   "metadata": {},
   "source": [
    "- **flatMap**: Maps and flattens nested collections.  "
   ]
  },
  {
   "cell_type": "code",
   "execution_count": 39,
   "id": "1ef8ccf2",
   "metadata": {},
   "outputs": [
    {
     "data": {
      "text/plain": [
       "\u001b[36mres39\u001b[39m: \u001b[32mList\u001b[39m[\u001b[32mInt\u001b[39m] = \u001b[33mList\u001b[39m(\u001b[32m1\u001b[39m, \u001b[32m10\u001b[39m, \u001b[32m2\u001b[39m, \u001b[32m20\u001b[39m, \u001b[32m3\u001b[39m, \u001b[32m30\u001b[39m)"
      ]
     },
     "execution_count": 39,
     "metadata": {},
     "output_type": "execute_result"
    }
   ],
   "source": [
    "List(1,2,3).flatMap(x => List(x, x*10))"
   ]
  },
  {
   "cell_type": "markdown",
   "id": "cfd9953e",
   "metadata": {},
   "source": [
    "- **fold**/**reduce**: Aggregate elements using a binary operation.  "
   ]
  },
  {
   "cell_type": "code",
   "execution_count": 40,
   "id": "022ba168",
   "metadata": {},
   "outputs": [
    {
     "data": {
      "text/plain": [
       "\u001b[36mres40\u001b[39m: \u001b[32mInt\u001b[39m = \u001b[32m6\u001b[39m"
      ]
     },
     "execution_count": 40,
     "metadata": {},
     "output_type": "execute_result"
    }
   ],
   "source": [
    "List(1,2,3).foldLeft(0)(_ + _)"
   ]
  },
  {
   "cell_type": "markdown",
   "id": "9c9ff654",
   "metadata": {},
   "source": [
    "These functions are fundamental for functional programming, allowing you to process, transform, and analyze collections in a safe and declarative way.\n",
    "\n",
    "The code below groups the numbers in the list into \"even\" and \"odd\" categories, then calculates the sum of each group. The result is a map where the keys are \"even\" and \"odd\", and the values are the sums of the corresponding numbers.\n",
    "\n",
    "- `groupBy(i => if (i % 2 == 0) \"even\" else \"odd\")` splits the list into two groups based on whether each number is even or odd.\n",
    "- `.mapValues(_.sum)` computes the sum of numbers in each group.\n",
    "- `.toMap` converts the result to a standard Map.\n",
    "\n",
    "For example, given `List(1, 2, 3, 4, 5)`, the output will be:  \n",
    "`Map(\"even\" -> 6, \"odd\" -> 9)`"
   ]
  },
  {
   "cell_type": "code",
   "execution_count": 70,
   "id": "b378cb62",
   "metadata": {},
   "outputs": [
    {
     "name": "stdout",
     "output_type": "stream",
     "text": [
      "Map(odd -> 9, even -> 6)\n"
     ]
    },
    {
     "data": {
      "text/plain": [
       "\u001b[36mresult\u001b[39m: \u001b[32mMap\u001b[39m[\u001b[32mString\u001b[39m, \u001b[32mInt\u001b[39m] = \u001b[33mMap\u001b[39m(\u001b[32m\"odd\"\u001b[39m -> \u001b[32m9\u001b[39m, \u001b[32m\"even\"\u001b[39m -> \u001b[32m6\u001b[39m)"
      ]
     },
     "execution_count": 70,
     "metadata": {},
     "output_type": "execute_result"
    }
   ],
   "source": [
    "val result = List(1, 2, 3, 4, 5)\n",
    "    .groupBy(i => if (i % 2 == 0) \"even\" else \"odd\") // Group by even/odd: Map(0 -> List(2, 4), 1 -> List(1, 3, 5))\n",
    "    .view\n",
    "    .mapValues(_.sum) // Sum each group: Map(0 -> 6, 1 -> 9)\n",
    "    .toMap // Convert to Map\n",
    "println(result)"
   ]
  },
  {
   "cell_type": "markdown",
   "id": "88fecfab",
   "metadata": {},
   "source": [
    "## flatMap is special\n",
    "The <span>`flatMap` combines mapping and flattening</span>{:gtxt}: it applies a function that returns a collection for each element, then concatenates the results into a single collection. This is useful for transforming nested collections, handling optional values, or chaining computations. In Scala 2, `flatMap` is fundamental for working with monads like `Option`, `List`, and for-comprehensions.\n",
    "\n",
    "The method signature for `flatMap` on Scala 2 collections is typically:\n",
    "\n",
    "`def flatMap[B](f: A => IterableOnce[B]): CC[B]`\n",
    "\n",
    "- `A` is the element type of the original collection.\n",
    "- `B` is the element type of the resulting collection.\n",
    "- `f` is a function that takes an element and returns a collection of type `IterableOnce[B]`.\n",
    "- The result is a new collection of type `CC[B]`, where `CC` is the collection type constructor (e.g., `List`, `Set`).\n",
    "\n",
    "> Containers should be the same. For example, If your input continer is Option then the output container shoud be Option.\n",
    "\n",
    "For example, "
   ]
  },
  {
   "cell_type": "code",
   "execution_count": 71,
   "id": "bb697c9a",
   "metadata": {},
   "outputs": [
    {
     "data": {
      "text/plain": [
       "\u001b[36mres71\u001b[39m: \u001b[32mList\u001b[39m[\u001b[32mInt\u001b[39m] = \u001b[33mList\u001b[39m(\u001b[32m-1\u001b[39m, \u001b[32m1\u001b[39m, \u001b[32m4\u001b[39m, \u001b[32m-2\u001b[39m, \u001b[32m2\u001b[39m, \u001b[32m5\u001b[39m, \u001b[32m-3\u001b[39m, \u001b[32m3\u001b[39m, \u001b[32m6\u001b[39m, \u001b[32m-4\u001b[39m, \u001b[32m4\u001b[39m, \u001b[32m7\u001b[39m)"
      ]
     },
     "execution_count": 71,
     "metadata": {},
     "output_type": "execute_result"
    }
   ],
   "source": [
    "List(1, 2, 3, 4).map(x => List(-x, x, x + 3)).flatten"
   ]
  },
  {
   "cell_type": "markdown",
   "id": "64a9f26d",
   "metadata": {},
   "source": [
    "Above using the `flatMap`:"
   ]
  },
  {
   "cell_type": "code",
   "execution_count": 72,
   "id": "774859c6",
   "metadata": {},
   "outputs": [
    {
     "data": {
      "text/plain": [
       "\u001b[36mres72\u001b[39m: \u001b[32mList\u001b[39m[\u001b[32mInt\u001b[39m] = \u001b[33mList\u001b[39m(\u001b[32m-1\u001b[39m, \u001b[32m1\u001b[39m, \u001b[32m4\u001b[39m, \u001b[32m-2\u001b[39m, \u001b[32m2\u001b[39m, \u001b[32m5\u001b[39m, \u001b[32m-3\u001b[39m, \u001b[32m3\u001b[39m, \u001b[32m6\u001b[39m, \u001b[32m-4\u001b[39m, \u001b[32m4\u001b[39m, \u001b[32m7\u001b[39m)"
      ]
     },
     "execution_count": 72,
     "metadata": {},
     "output_type": "execute_result"
    }
   ],
   "source": [
    "List(1, 2, 3, 4).flatMap(x => List(-x, x, x + 3))"
   ]
  },
  {
   "cell_type": "markdown",
   "id": "098768af",
   "metadata": {},
   "source": [
    "The code below safely divides 100 by each element in the list, avoiding exceptions by using a `try-catch` block inside the `flatMap`. If division by zero occurs, it catches the `ArithmeticException` and returns an empty list for that element, so no error is thrown and only successful results are included in the output.\n",
    "\n",
    "The result is a list of successful divisions only, with errors silently handled."
   ]
  },
  {
   "cell_type": "code",
   "execution_count": 73,
   "id": "1eedeeec",
   "metadata": {},
   "outputs": [
    {
     "data": {
      "text/plain": [
       "\u001b[36mres73\u001b[39m: \u001b[32mList\u001b[39m[\u001b[32mInt\u001b[39m] = \u001b[33mList\u001b[39m(\u001b[32m100\u001b[39m, \u001b[32m50\u001b[39m, \u001b[32m33\u001b[39m, \u001b[32m10\u001b[39m)"
      ]
     },
     "execution_count": 73,
     "metadata": {},
     "output_type": "execute_result"
    }
   ],
   "source": [
    "List(1, 2, 3, 0, 10).flatMap {x => \n",
    "    try {\n",
    "        List(100 / x)\n",
    "    } catch {\n",
    "        case e: ArithmeticException => List.empty[Int] \n",
    "    }\n",
    "}"
   ]
  },
  {
   "cell_type": "markdown",
   "id": "c5c25204",
   "metadata": {},
   "source": [
    "This code processes a text (poet) by:\n",
    "\n",
    "1. Splitting it into lines using system line separator\n",
    "2. Converting each line to lowercase and removing whitespace\n",
    "3. Splitting each line into individual words and flatten to one Array.\n",
    "4. Grouping words together\n",
    "5. Counting frequency of each word\n",
    "6. Converting the result to a Map where keys are words and values are their counts"
   ]
  },
  {
   "cell_type": "code",
   "execution_count": 102,
   "id": "2362f2b5",
   "metadata": {},
   "outputs": [
    {
     "name": "stderr",
     "output_type": "stream",
     "text": [
      "1 deprecation (since 2.13.0); re-run enabling -deprecation for details, or try -help\n"
     ]
    },
    {
     "data": {
      "text/plain": [
       "\u001b[36mpoet\u001b[39m: \u001b[32mString\u001b[39m = \u001b[32m\"\"\"\n",
       "The rain in Spain falls mainly in the plain\n",
       "The rain in Spain stays mainly in the plain\n",
       "The rain in Spain remains mainly in the plain\n",
       "Plain and rain and Spain again and again\n",
       "\"\"\"\u001b[39m\n",
       "\u001b[36mres102_1\u001b[39m: \u001b[32mMap\u001b[39m[\u001b[32mString\u001b[39m, \u001b[32mInt\u001b[39m] = \u001b[33mHashMap\u001b[39m(\n",
       "  \u001b[32m\"\"\u001b[39m -> \u001b[32m1\u001b[39m,\n",
       "  \u001b[32m\"remains\"\u001b[39m -> \u001b[32m1\u001b[39m,\n",
       "  \u001b[32m\"rain\"\u001b[39m -> \u001b[32m4\u001b[39m,\n",
       "  \u001b[32m\"falls\"\u001b[39m -> \u001b[32m1\u001b[39m,\n",
       "  \u001b[32m\"plain\"\u001b[39m -> \u001b[32m4\u001b[39m,\n",
       "  \u001b[32m\"mainly\"\u001b[39m -> \u001b[32m3\u001b[39m,\n",
       "  \u001b[32m\"and\"\u001b[39m -> \u001b[32m3\u001b[39m,\n",
       "  \u001b[32m\"the\"\u001b[39m -> \u001b[32m6\u001b[39m,\n",
       "  \u001b[32m\"in\"\u001b[39m -> \u001b[32m6\u001b[39m,\n",
       "  \u001b[32m\"stays\"\u001b[39m -> \u001b[32m1\u001b[39m,\n",
       "  \u001b[32m\"spain\"\u001b[39m -> \u001b[32m4\u001b[39m,\n",
       "  \u001b[32m\"again\"\u001b[39m -> \u001b[32m2\u001b[39m\n",
       ")"
      ]
     },
     "execution_count": 102,
     "metadata": {},
     "output_type": "execute_result"
    }
   ],
   "source": [
    "val poet = \"\"\"\n",
    "    |The rain in Spain falls mainly in the plain\n",
    "    |The rain in Spain stays mainly in the plain\n",
    "    |The rain in Spain remains mainly in the plain\n",
    "    |Plain and rain and Spain again and again\n",
    "\"\"\".stripMargin\n",
    "\n",
    "\n",
    "poet.split(System.lineSeparator()) // (1)\n",
    "    .map(word => word.toLowerCase.trim) // (2)\n",
    "    .flatMap(phrase => phrase.split(\"\"\"\\s+\"\"\")) // (3)\n",
    "    .groupBy(x => x) // (4)\n",
    "    .mapValues(_.size) // (5)\n",
    "    .toMap // (6)"
   ]
  },
  {
   "cell_type": "markdown",
   "id": "0d86d028",
   "metadata": {},
   "source": [
    "## Folding\n",
    "Folding in Scala 2 is a fundamental functional programming operation that processes a collection by applying a binary function to combine elements, accumulating a result from left to right or right to left.\n",
    "\n",
    "\n",
    "Scala provides two main fold methods:\n",
    "- `foldLeft` - processes elements from left to right\n",
    "> **foldLeft** is generally preferred because it's *tail-recursive* and more memory-efficient for large collections. \n",
    "{:.green}"
   ]
  },
  {
   "cell_type": "code",
   "execution_count": 105,
   "id": "6dc533fb",
   "metadata": {},
   "outputs": [
    {
     "data": {
      "text/plain": [
       "\u001b[36mres105\u001b[39m: \u001b[32mInt\u001b[39m = \u001b[32m15\u001b[39m"
      ]
     },
     "execution_count": 105,
     "metadata": {},
     "output_type": "execute_result"
    }
   ],
   "source": [
    "List(1, 2, 3, 4, 5).foldLeft(0)(_ + _)  // Result: 15\n",
    "// Equivalent to: ((((0 + 1) + 2) + 3) + 4) + 5"
   ]
  },
  {
   "cell_type": "markdown",
   "id": "f05fe9c1",
   "metadata": {},
   "source": [
    "- `foldRight` - processes elements from right to left\n",
    "> **foldRight** can cause stack overflow with large datasets since it's not tail-recursive by default.\n",
    "{:.yellow}"
   ]
  },
  {
   "cell_type": "code",
   "execution_count": 1,
   "id": "301fd9de",
   "metadata": {},
   "outputs": [
    {
     "data": {
      "text/plain": [
       "\u001b[36mres1\u001b[39m: \u001b[32mInt\u001b[39m = \u001b[32m15\u001b[39m"
      ]
     },
     "execution_count": 1,
     "metadata": {},
     "output_type": "execute_result"
    }
   ],
   "source": [
    "List(1, 2, 3, 4, 5).foldRight(0)(_ + _)  // Result: 15\n",
    "// Equivalent to: 1 + (2 + (3 + (4 + (5 + 0))))"
   ]
  },
  {
   "cell_type": "markdown",
   "id": "31e941f0",
   "metadata": {},
   "source": [
    "The fold methods take two parameters:\n",
    "\n",
    "- Initial value (accumulator): The starting value for the computation\n",
    "- Binary function: A function that *takes the accumulator and current element, returning a new accumulator*.\n",
    "\n",
    "> While both produce the same result for associative operations like addition, they differ for non-associative operations\n",
    "{:.yellow}\n",
    "\n",
    "For non-associative example:"
   ]
  },
  {
   "cell_type": "code",
   "execution_count": 23,
   "id": "d495ef78",
   "metadata": {},
   "outputs": [
    {
     "data": {
      "text/plain": [
       "\u001b[36mnumbers\u001b[39m: \u001b[32mList\u001b[39m[\u001b[32mInt\u001b[39m] = \u001b[33mList\u001b[39m(\u001b[32m1\u001b[39m, \u001b[32m2\u001b[39m, \u001b[32m3\u001b[39m)\n",
       "\u001b[36mres23_1\u001b[39m: \u001b[32mDouble\u001b[39m = \u001b[32m2.0\u001b[39m\n",
       "\u001b[36mres23_2\u001b[39m: \u001b[32mDouble\u001b[39m = \u001b[32m0.125\u001b[39m"
      ]
     },
     "execution_count": 23,
     "metadata": {},
     "output_type": "execute_result"
    }
   ],
   "source": [
    "val numbers = List(1, 2, 3)\n",
    "\n",
    "// Division - order matters\n",
    "numbers.foldLeft(12.0)(_ / _)   // ((12 / 1) / 2) / 3 = 2\n",
    "numbers.foldRight(12.0)(_ / _)  // 1 / (2 / (3 / 12)) = 1 / (2 / 0.25) = 1/8"
   ]
  },
  {
   "cell_type": "markdown",
   "id": "b15c357a",
   "metadata": {},
   "source": [
    "### Folding Examples\n",
    "\n",
    "How to find maximum:"
   ]
  },
  {
   "cell_type": "code",
   "execution_count": 112,
   "id": "2a46109d",
   "metadata": {},
   "outputs": [
    {
     "data": {
      "text/plain": [
       "\u001b[36mres112\u001b[39m: \u001b[32mInt\u001b[39m = \u001b[32m9\u001b[39m"
      ]
     },
     "execution_count": 112,
     "metadata": {},
     "output_type": "execute_result"
    }
   ],
   "source": [
    "List(3, 7, 2, 9, 1)\n",
    "    .foldLeft(0)((acc, x) => if (x > acc) x else acc)"
   ]
  },
  {
   "cell_type": "markdown",
   "id": "8a2a144f",
   "metadata": {},
   "source": [
    "Another example of use of `case class`:"
   ]
  },
  {
   "cell_type": "code",
   "execution_count": 115,
   "id": "5169ffbf",
   "metadata": {},
   "outputs": [
    {
     "data": {
      "text/plain": [
       "defined \u001b[32mclass\u001b[39m \u001b[36mStats\u001b[39m\n",
       "\u001b[36mres115_1\u001b[39m: \u001b[32mStats\u001b[39m = \u001b[33mStats\u001b[39m(sum = \u001b[32m19\u001b[39m, count = \u001b[32m5\u001b[39m, max = \u001b[32m8\u001b[39m)"
      ]
     },
     "execution_count": 115,
     "metadata": {},
     "output_type": "execute_result"
    }
   ],
   "source": [
    "case class Stats(sum: Int, count: Int, max: Int)\n",
    "\n",
    "List(1, 5, 3, 8, 2).foldLeft(Stats(0, 0, Int.MinValue)) { (acc, x) =>\n",
    "  Stats(acc.sum + x, acc.count + 1, math.max(acc.max, x))\n",
    "}"
   ]
  },
  {
   "cell_type": "markdown",
   "id": "376498b6",
   "metadata": {},
   "source": [
    "## Reduce\n",
    "\n",
    "Reduce in Scala 2 is a collection operation that combines elements using a binary function, similar to fold but without requiring an initial value. *It uses the first element of the collection as the starting accumulator*{:gtxt}.\n",
    "\n",
    "Scala provides several reduce methods:\n",
    "- **reduce** - combines elements in an unspecified order (implementation-dependent)"
   ]
  },
  {
   "cell_type": "code",
   "execution_count": 24,
   "id": "deb23015",
   "metadata": {},
   "outputs": [
    {
     "data": {
      "text/plain": [
       "\u001b[36mres24\u001b[39m: \u001b[32mInt\u001b[39m = \u001b[32m15\u001b[39m"
      ]
     },
     "execution_count": 24,
     "metadata": {},
     "output_type": "execute_result"
    }
   ],
   "source": [
    "List(1, 2, 3, 4, 5).reduce(_ + _)  // Result: 15"
   ]
  },
  {
   "cell_type": "markdown",
   "id": "3ec894c7",
   "metadata": {},
   "source": [
    "- *reduceLeft* - processes elements from left to right:"
   ]
  },
  {
   "cell_type": "code",
   "execution_count": 26,
   "id": "59abe503",
   "metadata": {},
   "outputs": [
    {
     "data": {
      "text/plain": [
       "\u001b[36mres26\u001b[39m: \u001b[32mInt\u001b[39m = \u001b[32m-13\u001b[39m"
      ]
     },
     "execution_count": 26,
     "metadata": {},
     "output_type": "execute_result"
    }
   ],
   "source": [
    "List(1, 2, 3, 4, 5).reduceLeft(_ - _)  // ((((1 - 2) - 3) - 4) - 5) = -13"
   ]
  },
  {
   "cell_type": "markdown",
   "id": "475c5023",
   "metadata": {},
   "source": [
    "- *reduceRight* - processes elements from right to left:"
   ]
  },
  {
   "cell_type": "code",
   "execution_count": 27,
   "id": "213d192f",
   "metadata": {},
   "outputs": [
    {
     "data": {
      "text/plain": [
       "\u001b[36mres27\u001b[39m: \u001b[32mInt\u001b[39m = \u001b[32m3\u001b[39m"
      ]
     },
     "execution_count": 27,
     "metadata": {},
     "output_type": "execute_result"
    }
   ],
   "source": [
    "List(1, 2, 3, 4, 5).reduceRight(_ - _)  // (1 - (2 - (3 - (4 - 5)))) = 3"
   ]
  },
  {
   "cell_type": "markdown",
   "id": "5d5f1e23",
   "metadata": {},
   "source": [
    "### Key Differences from Fold\n",
    "\n",
    "Unlike fold, reduce:\n",
    "\n",
    "- No initial value: Uses the first element as the starting accumulator\n",
    "- Requires non-empty collections: - Throws exception on empty collections\n",
    "- Same result type: The result type must match the collection's element type"
   ]
  },
  {
   "cell_type": "code",
   "execution_count": 30,
   "id": "e19c9b46",
   "metadata": {},
   "outputs": [
    {
     "data": {
      "text/plain": [
       "\u001b[36mres30_0\u001b[39m: \u001b[32mString\u001b[39m = \u001b[32m\"123\"\u001b[39m\n",
       "\u001b[36mres30_1\u001b[39m: \u001b[32mInt\u001b[39m = \u001b[32m6\u001b[39m"
      ]
     },
     "execution_count": 30,
     "metadata": {},
     "output_type": "execute_result"
    }
   ],
   "source": [
    "// Fold can change types\n",
    "List(1, 2, 3).foldLeft(\"\")(_ + _)  // Int → String\n",
    "\n",
    "// Reduce maintains the same type\n",
    "List(1, 2, 3).reduce(_ + _)  // Int → Int"
   ]
  },
  {
   "cell_type": "markdown",
   "id": "2f9540ad",
   "metadata": {},
   "source": [
    "For example, find maximum value"
   ]
  },
  {
   "cell_type": "code",
   "execution_count": 33,
   "id": "ab56df4b",
   "metadata": {},
   "outputs": [
    {
     "data": {
      "text/plain": [
       "\u001b[36mres33_0\u001b[39m: \u001b[32mInt\u001b[39m = \u001b[32m96\u001b[39m\n",
       "\u001b[36mres33_1\u001b[39m: \u001b[32mInt\u001b[39m = \u001b[32m96\u001b[39m"
      ]
     },
     "execution_count": 33,
     "metadata": {},
     "output_type": "execute_result"
    }
   ],
   "source": [
    "// using foldLeft\n",
    "List(85, 92, 78, 96, 88).foldLeft(Int.MinValue)((acc, x) => if (x > acc) x else acc)\n",
    "// using reduce\n",
    "List(85, 92, 78, 96, 88).reduce((a, b) => if (a > b) a else b)"
   ]
  },
  {
   "cell_type": "markdown",
   "id": "35ca07ac",
   "metadata": {},
   "source": [
    "{:gtxt: .message color=\"green\"}\n",
    "{:ytxt: .message color=\"yellow\"}\n",
    "{:rtxt: .message color=\"red\"}"
   ]
  }
 ],
 "metadata": {
  "kernelspec": {
   "display_name": "Scala 2.13",
   "language": "scala",
   "name": "scala213"
  },
  "language_info": {
   "codemirror_mode": "text/x-scala",
   "file_extension": ".sc",
   "mimetype": "text/x-scala",
   "name": "scala",
   "nbconvert_exporter": "script",
   "version": "2.13.16"
  }
 },
 "nbformat": 4,
 "nbformat_minor": 5
}
